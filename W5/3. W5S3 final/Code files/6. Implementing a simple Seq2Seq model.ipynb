{
 "cells": [
  {
   "cell_type": "markdown",
   "metadata": {},
   "source": [
    "# 6. Implementing a simple Seq2Seq model\n",
    "\n",
    "### About this notebook\n",
    "\n",
    "This notebook was used in the 50.039 Deep Learning course at the Singapore University of Technology and Design.\n",
    "\n",
    "**Author:** Matthieu DE MARI (matthieu_demari@sutd.edu.sg)\n",
    "\n",
    "**Version:** 1.0 (05/03/2024)\n",
    "\n",
    "**Requirements:**\n",
    "- Python 3 (tested on v3.11.4)\n",
    "- Matplotlib (tested on v3.7.1)\n",
    "- Numpy (tested on v1.24.3)\n",
    "- Torch (tested on v2.0.1+cu118)"
   ]
  },
  {
   "cell_type": "markdown",
   "metadata": {},
   "source": [
    "### Imports and CUDA"
   ]
  },
  {
   "cell_type": "code",
   "execution_count": 1,
   "metadata": {},
   "outputs": [],
   "source": [
    "# Matplotlib\n",
    "import matplotlib.pyplot as plt\n",
    "# Numpy\n",
    "import numpy as np\n",
    "# Torch\n",
    "import torch\n",
    "import torch.nn as nn\n",
    "from torch.utils.data import Dataset, DataLoader"
   ]
  },
  {
   "cell_type": "code",
   "execution_count": 2,
   "metadata": {},
   "outputs": [
    {
     "name": "stdout",
     "output_type": "stream",
     "text": [
      "cuda\n"
     ]
    }
   ],
   "source": [
    "# Use GPU if available, else use CPU\n",
    "device = torch.device(\"cuda\" if torch.cuda.is_available() else \"cpu\")\n",
    "print(device)"
   ]
  },
  {
   "cell_type": "markdown",
   "metadata": {},
   "source": [
    "### Generating a synthetic dataset\n",
    "\n",
    "The code below will generate a synthetic dataset. Just like before it boils down to predicting the next values of a sinsusoid curve of some sort.\n",
    "\n",
    "This time however, at each time $ t $, the model will get to see the last five values as inputs $ (x_{t-4}, x_{t-3}, x_{t-2}, x_{t-1}, x_{t}) $ and will attempt to predict the next five values $ (x_{t+1}, x_{t+2}, x_{t+3}, x_{t+4}, x_{t+5}) $.\n",
    "\n",
    "The dataset and dataloaders are generated below."
   ]
  },
  {
   "cell_type": "code",
   "execution_count": 3,
   "metadata": {},
   "outputs": [],
   "source": [
    "# Our function to generate synthetic data\n",
    "def generate_data(seq_length, num_samples):\n",
    "    x = np.linspace(0, 2 * np.pi, seq_length + 1)\n",
    "    sine_wave_sequences = np.sin(x)[:-1]\n",
    "    return np.array([sine_wave_sequences for _ in range(num_samples)])"
   ]
  },
  {
   "cell_type": "code",
   "execution_count": 4,
   "metadata": {},
   "outputs": [],
   "source": [
    "# Input sequence length\n",
    "seq_length = 10\n",
    "# Number of samples in the dataset\n",
    "num_samples = 1000\n",
    "# Generate dataset\n",
    "data = generate_data(seq_length, num_samples)"
   ]
  },
  {
   "cell_type": "code",
   "execution_count": 5,
   "metadata": {},
   "outputs": [],
   "source": [
    "class SineDataset(Dataset):\n",
    "    def __init__(self, data, future_steps):\n",
    "        self.data = data\n",
    "        self.future_steps = future_steps\n",
    "\n",
    "    def __len__(self):\n",
    "        return len(self.data)\n",
    "\n",
    "    def __getitem__(self, idx):\n",
    "        x = self.data[idx, :self.future_steps]\n",
    "        y = self.data[idx, self.future_steps:]\n",
    "        # Add an extra dimension to match (sequence_length, input_size)\n",
    "        return torch.from_numpy(x).unsqueeze(-1).float(), torch.from_numpy(y).unsqueeze(-1).float()"
   ]
  },
  {
   "cell_type": "code",
   "execution_count": 6,
   "metadata": {},
   "outputs": [],
   "source": [
    "# Define future steps to predict\n",
    "future_steps = seq_length//2 # This is 5\n",
    "\n",
    "# Create dataset and dataloader\n",
    "dataset = SineDataset(data, future_steps)\n",
    "dataloader = DataLoader(dataset, batch_size = 64, shuffle = True)"
   ]
  },
  {
   "cell_type": "code",
   "execution_count": 7,
   "metadata": {},
   "outputs": [
    {
     "name": "stdout",
     "output_type": "stream",
     "text": [
      "tensor([[0.0000],\n",
      "        [0.5878],\n",
      "        [0.9511],\n",
      "        [0.9511],\n",
      "        [0.5878]])\n",
      "tensor([[ 1.2246e-16],\n",
      "        [-5.8779e-01],\n",
      "        [-9.5106e-01],\n",
      "        [-9.5106e-01],\n",
      "        [-5.8779e-01]])\n"
     ]
    }
   ],
   "source": [
    "# Draw a single sample to see what it looks like\n",
    "sample = next(iter(dataset))\n",
    "input, output = sample\n",
    "print(input)\n",
    "print(output)"
   ]
  },
  {
   "cell_type": "markdown",
   "metadata": {},
   "source": [
    "### Our encoder model\n",
    "\n",
    "The EncoderRNN below processes input sequences through an LSTM. It is designed to capture the temporal dependencies in the data.\n",
    "Only the final hidden states are returned, encapsulating the learned representation of the entire sequence. This encoder can be used in sequence-to-sequence models, where its hidden state initializes the decoder to generate outputs based on the input sequence.\n",
    "\n",
    "It uses several layers of LSTM and possibly dropout."
   ]
  },
  {
   "cell_type": "code",
   "execution_count": 8,
   "metadata": {},
   "outputs": [],
   "source": [
    "class EncoderRNN(nn.Module):\n",
    "    def __init__(self, input_size, hidden_size, \\\n",
    "                 num_layers = 1, dropout = 0.0):\n",
    "        super(EncoderRNN, self).__init__()\n",
    "        self.hidden_size = hidden_size\n",
    "        self.num_layers = num_layers\n",
    "        self.rnn = nn.LSTM(input_size, hidden_size, \\\n",
    "                           num_layers = num_layers, \n",
    "                           dropout = dropout if num_layers > 1 else 0.0, \n",
    "                           batch_first = True)\n",
    "\n",
    "    def forward(self, input_seq):\n",
    "        # For this encoder, we ignore the outputs \n",
    "        # if we only need the final hidden state(s)\n",
    "        outputs, hidden = self.rnn(input_seq)\n",
    "        return hidden"
   ]
  },
  {
   "cell_type": "markdown",
   "metadata": {},
   "source": [
    "### Our decoder model\n",
    "\n",
    "The DecoderRNN class is a PyTorch module designed to act as the decoder in a sequence-to-sequence architecture. It processes input sequences using an LSTM and then maps the LSTM outputs to the desired output space with a linear layer. It returns both the predicted output and the updated hidden state, making it suitable for sequential decoding in sequence-to-sequence tasks."
   ]
  },
  {
   "cell_type": "code",
   "execution_count": 9,
   "metadata": {},
   "outputs": [],
   "source": [
    "class DecoderRNN(nn.Module):\n",
    "    def __init__(self, input_size, hidden_size, output_size, \\\n",
    "                 num_layers = 1, dropout = 0.0):\n",
    "        super(DecoderRNN, self).__init__()\n",
    "        self.hidden_size = hidden_size\n",
    "        self.num_layers = num_layers\n",
    "        self.rnn = nn.LSTM(input_size, hidden_size, \\\n",
    "                           num_layers = num_layers, \n",
    "                           dropout = dropout if num_layers > 1 else 0.0, \n",
    "                           batch_first = True)\n",
    "        self.linear = nn.Linear(hidden_size, output_size)\n",
    "\n",
    "    def forward(self, input_seq, hidden):\n",
    "        # Get the raw output from the RNN \n",
    "        # along with updated hidden state(s)\n",
    "        output, hidden = self.rnn(input_seq, hidden)\n",
    "        output = self.linear(output)\n",
    "        return output, hidden"
   ]
  },
  {
   "cell_type": "markdown",
   "metadata": {},
   "source": [
    "### Our Seq2Seq model\n",
    "\n",
    "Assembling our encoder and decoder classes from earlier, the Seq2Seq class implements a sequence-to-sequence model using an encoder-decoder architecture. The encoder processes the input sequence to produce a final hidden state, which is then used as the starting point for the memory vector of the decoder. The decoder is then responsible for generating the output sequence."
   ]
  },
  {
   "cell_type": "code",
   "execution_count": 10,
   "metadata": {},
   "outputs": [],
   "source": [
    "class Seq2Seq(nn.Module):\n",
    "    def __init__(self, input_size, hidden_size, output_size, num_layers = 1, dropout = 0.0):\n",
    "        super(Seq2Seq, self).__init__()\n",
    "        self.num_layers = num_layers\n",
    "        self.encoder = EncoderRNN(input_size, hidden_size, num_layers, dropout)\n",
    "        self.decoder = DecoderRNN(input_size, hidden_size, output_size, num_layers, dropout)\n",
    "\n",
    "    def forward(self, input_seq, target_seq_length):\n",
    "        # Encoder part: obtain the hidden state from the encoder.\n",
    "        # Returns a tuple (hidden_state, cell_state)\n",
    "        encoder_hidden = self.encoder(input_seq)\n",
    "        \n",
    "        # Prepare a non-autoregressive decoder input.\n",
    "        # Use the last time step from input_seq as the initial decoder input.\n",
    "        # For instance, use a fixed start token or learnable embeddings for each time step.\n",
    "        batch_size = input_seq.size(0)\n",
    "        # Here we simply repeat the last time step for all target positions.\n",
    "        decoder_input = input_seq[:, -1].unsqueeze(1).repeat(1, target_seq_length, 1)\n",
    "        \n",
    "        # Then, directly process the entire sequence in the decoder.\n",
    "        decoder_output, _ = self.decoder(decoder_input, encoder_hidden)\n",
    "        \n",
    "        return decoder_output"
   ]
  },
  {
   "cell_type": "markdown",
   "metadata": {},
   "source": [
    "### A simple trainer function\n",
    "\n",
    "Our trainer function will be kept simple and will be similar to many other things we have seen this term."
   ]
  },
  {
   "cell_type": "code",
   "execution_count": 11,
   "metadata": {},
   "outputs": [],
   "source": [
    "def train_seq2seq(model, dataloader, num_epochs, learning_rate):\n",
    "    model.train()  # Set the model to training mode\n",
    "    criterion = nn.MSELoss()\n",
    "    optimizer = torch.optim.Adam(model.parameters(), lr = learning_rate)\n",
    "\n",
    "    for epoch in range(num_epochs):\n",
    "        total_loss = 0\n",
    "        for input_seq, target_seq in dataloader:\n",
    "            optimizer.zero_grad()\n",
    "            output_seq = model(input_seq, future_steps)\n",
    "            loss = criterion(output_seq, target_seq)\n",
    "            total_loss += loss.item()\n",
    "            loss.backward()\n",
    "            optimizer.step()\n",
    "        print(f'Epoch {epoch+1}/{num_epochs}, Loss: {total_loss/len(dataloader)}')"
   ]
  },
  {
   "cell_type": "markdown",
   "metadata": {},
   "source": [
    "And it trains!"
   ]
  },
  {
   "cell_type": "code",
   "execution_count": 12,
   "metadata": {},
   "outputs": [
    {
     "name": "stdout",
     "output_type": "stream",
     "text": [
      "Epoch 1/100, Loss: 0.23013523453846574\n",
      "Epoch 2/100, Loss: 0.05715356441214681\n",
      "Epoch 3/100, Loss: 0.023075181350577623\n",
      "Epoch 4/100, Loss: 0.00453930161165772\n",
      "Epoch 5/100, Loss: 0.0011029887355107348\n",
      "Epoch 6/100, Loss: 0.00035353282328287605\n",
      "Epoch 7/100, Loss: 0.000263183221250074\n",
      "Epoch 8/100, Loss: 0.0002178283284592908\n",
      "Epoch 9/100, Loss: 0.00018316176283406094\n",
      "Epoch 10/100, Loss: 0.00015721492127340753\n",
      "Epoch 11/100, Loss: 0.00014322761171570164\n",
      "Epoch 12/100, Loss: 0.00012563662721731816\n",
      "Epoch 13/100, Loss: 0.00011474578650449985\n",
      "Epoch 14/100, Loss: 0.00010283448000336648\n",
      "Epoch 15/100, Loss: 9.654932955527329e-05\n",
      "Epoch 16/100, Loss: 9.278620473196497e-05\n",
      "Epoch 17/100, Loss: 8.875227604221436e-05\n",
      "Epoch 18/100, Loss: 8.629714420749224e-05\n",
      "Epoch 19/100, Loss: 7.969939224494738e-05\n",
      "Epoch 20/100, Loss: 8.667227075420669e-05\n",
      "Epoch 21/100, Loss: 7.952877922434709e-05\n",
      "Epoch 22/100, Loss: 7.494891997339437e-05\n",
      "Epoch 23/100, Loss: 7.321187399611517e-05\n",
      "Epoch 24/100, Loss: 7.398235538857989e-05\n",
      "Epoch 25/100, Loss: 7.25267925645312e-05\n",
      "Epoch 26/100, Loss: 7.514857202295389e-05\n",
      "Epoch 27/100, Loss: 7.047416261229955e-05\n",
      "Epoch 28/100, Loss: 6.007120646245312e-05\n",
      "Epoch 29/100, Loss: 5.839006234964472e-05\n",
      "Epoch 30/100, Loss: 6.299431856859883e-05\n",
      "Epoch 31/100, Loss: 5.627156974696845e-05\n",
      "Epoch 32/100, Loss: 5.4205375136007206e-05\n",
      "Epoch 33/100, Loss: 5.865702132723527e-05\n",
      "Epoch 34/100, Loss: 5.573982934947708e-05\n",
      "Epoch 35/100, Loss: 5.707646937480604e-05\n",
      "Epoch 36/100, Loss: 5.819651892124966e-05\n",
      "Epoch 37/100, Loss: 5.879542459297227e-05\n",
      "Epoch 38/100, Loss: 5.1009715207328554e-05\n",
      "Epoch 39/100, Loss: 5.0090519380319165e-05\n",
      "Epoch 40/100, Loss: 4.91911869175965e-05\n",
      "Epoch 41/100, Loss: 4.509361622240249e-05\n",
      "Epoch 42/100, Loss: 4.864222592004808e-05\n",
      "Epoch 43/100, Loss: 4.2060625446538324e-05\n",
      "Epoch 44/100, Loss: 4.502507272263756e-05\n",
      "Epoch 45/100, Loss: 3.941980730814976e-05\n",
      "Epoch 46/100, Loss: 3.826086845037935e-05\n",
      "Epoch 47/100, Loss: 3.5585857972364465e-05\n",
      "Epoch 48/100, Loss: 3.5502174569046474e-05\n",
      "Epoch 49/100, Loss: 3.598732814680261e-05\n",
      "Epoch 50/100, Loss: 3.550289579834498e-05\n",
      "Epoch 51/100, Loss: 3.3549221029716136e-05\n",
      "Epoch 52/100, Loss: 3.397571276764211e-05\n",
      "Epoch 53/100, Loss: 3.6507428376353346e-05\n",
      "Epoch 54/100, Loss: 2.995088937041146e-05\n",
      "Epoch 55/100, Loss: 2.986905008128815e-05\n",
      "Epoch 56/100, Loss: 2.9627194635395426e-05\n",
      "Epoch 57/100, Loss: 3.075642030125891e-05\n",
      "Epoch 58/100, Loss: 2.9617165182571625e-05\n",
      "Epoch 59/100, Loss: 2.866414479285595e-05\n",
      "Epoch 60/100, Loss: 2.70949395826392e-05\n",
      "Epoch 61/100, Loss: 2.628450147312833e-05\n",
      "Epoch 62/100, Loss: 2.5310113869636552e-05\n",
      "Epoch 63/100, Loss: 2.43804396404812e-05\n",
      "Epoch 64/100, Loss: 2.4597910510237853e-05\n",
      "Epoch 65/100, Loss: 2.3957642383720668e-05\n",
      "Epoch 66/100, Loss: 2.432660312479129e-05\n",
      "Epoch 67/100, Loss: 2.575759731371363e-05\n",
      "Epoch 68/100, Loss: 2.1946410356576962e-05\n",
      "Epoch 69/100, Loss: 2.2547420826413145e-05\n",
      "Epoch 70/100, Loss: 2.253353545711434e-05\n",
      "Epoch 71/100, Loss: 2.3837398657633457e-05\n",
      "Epoch 72/100, Loss: 2.292932947511872e-05\n",
      "Epoch 73/100, Loss: 2.0746378368130536e-05\n",
      "Epoch 74/100, Loss: 2.127213110725279e-05\n",
      "Epoch 75/100, Loss: 2.040659660451638e-05\n",
      "Epoch 76/100, Loss: 2.0864651673946355e-05\n",
      "Epoch 77/100, Loss: 1.8404363061108597e-05\n",
      "Epoch 78/100, Loss: 1.7496439795650076e-05\n",
      "Epoch 79/100, Loss: 1.6494244334808172e-05\n",
      "Epoch 80/100, Loss: 1.7426506815354514e-05\n",
      "Epoch 81/100, Loss: 1.6654325918352697e-05\n",
      "Epoch 82/100, Loss: 1.8632651745065232e-05\n",
      "Epoch 83/100, Loss: 1.7864813003143354e-05\n",
      "Epoch 84/100, Loss: 1.5279160606951336e-05\n",
      "Epoch 85/100, Loss: 1.7925447536981665e-05\n",
      "Epoch 86/100, Loss: 1.6812821684197843e-05\n",
      "Epoch 87/100, Loss: 1.4972032545301772e-05\n",
      "Epoch 88/100, Loss: 1.581612298195978e-05\n",
      "Epoch 89/100, Loss: 1.3508476911283651e-05\n",
      "Epoch 90/100, Loss: 1.3500866259619215e-05\n",
      "Epoch 91/100, Loss: 1.5567409036520985e-05\n",
      "Epoch 92/100, Loss: 1.2925839484978496e-05\n",
      "Epoch 93/100, Loss: 1.3978920776480663e-05\n",
      "Epoch 94/100, Loss: 1.3304602703101409e-05\n",
      "Epoch 95/100, Loss: 1.3809712356760429e-05\n",
      "Epoch 96/100, Loss: 1.4024842926119163e-05\n",
      "Epoch 97/100, Loss: 1.1953793205066177e-05\n",
      "Epoch 98/100, Loss: 1.2612334444384032e-05\n",
      "Epoch 99/100, Loss: 1.1230024597352894e-05\n",
      "Epoch 100/100, Loss: 1.1836223620775854e-05\n"
     ]
    }
   ],
   "source": [
    "# Hyperparameters\n",
    "input_size = 1 \n",
    "hidden_size = 100\n",
    "output_size = 1\n",
    "learning_rate = 0.001\n",
    "num_epochs = 100\n",
    "num_layers = 3\n",
    "dropout_rate = 0.1\n",
    "\n",
    "# Initialize Seq2Seq Model\n",
    "seq2seq_model = Seq2Seq(input_size, hidden_size, \\\n",
    "                        output_size, num_layers, dropout_rate)\n",
    "\n",
    "# Train the model\n",
    "train_seq2seq(seq2seq_model, dataloader, num_epochs, learning_rate)"
   ]
  },
  {
   "cell_type": "markdown",
   "metadata": {},
   "source": [
    "### A bit of evaluation to confirm\n",
    "\n",
    "The code below will simply extract one sample from the dataset and confirm that our model predicts correctly."
   ]
  },
  {
   "cell_type": "code",
   "execution_count": 13,
   "metadata": {},
   "outputs": [
    {
     "data": {
      "image/png": "[encoded data removed]",
      "text/plain": [
       "<Figure size 800x400 with 1 Axes>"
      ]
     },
     "metadata": {},
     "output_type": "display_data"
    }
   ],
   "source": [
    "# Switch the model to evaluation mode\n",
    "seq2seq_model.eval()\n",
    "\n",
    "# Choose a sample from the dataset (in practice we should probably use a separate test set)\n",
    "sample_input, sample_target = dataset[0]\n",
    "# Add batch dimension first\n",
    "sample_input = sample_input.unsqueeze(0)\n",
    "\n",
    "with torch.no_grad():\n",
    "    # Get predictions for the defined future steps\n",
    "    predicted_output = seq2seq_model(sample_input, future_steps)\n",
    "\n",
    "# Remove extra dimensions and convert tensors to numpy arrays for plotting\n",
    "predicted_output = predicted_output.squeeze().cpu().numpy()\n",
    "sample_target = sample_target.squeeze().cpu().numpy()\n",
    "\n",
    "# Plot the predicted vs. true values\n",
    "plt.figure(figsize = (8, 4))\n",
    "plt.plot(predicted_output, label = 'Predicted', marker = 'o')\n",
    "plt.plot(sample_target, label = 'Ground Truth', marker = 'x', linestyle = '--')\n",
    "plt.xlabel('Time Step')\n",
    "plt.ylabel('Value')\n",
    "plt.title('Seq2Seq Model Evaluation')\n",
    "plt.legend()\n",
    "plt.show()"
   ]
  },
  {
   "cell_type": "code",
   "execution_count": null,
   "metadata": {},
   "outputs": [],
   "source": []
  }
 ],
 "metadata": {
  "kernelspec": {
   "display_name": "Python 3 (ipykernel)",
   "language": "python",
   "name": "python3"
  },
  "language_info": {
   "codemirror_mode": {
    "name": "ipython",
    "version": 3
   },
   "file_extension": ".py",
   "mimetype": "text/x-python",
   "name": "python",
   "nbconvert_exporter": "python",
   "pygments_lexer": "ipython3",
   "version": "3.13.1"
  }
 },
 "nbformat": 4,
 "nbformat_minor": 4
}
