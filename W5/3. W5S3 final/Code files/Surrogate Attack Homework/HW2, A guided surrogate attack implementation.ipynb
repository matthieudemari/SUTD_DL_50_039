{
 "cells": [
  {
   "cell_type": "markdown",
   "id": "reverse-cathedral",
   "metadata": {},
   "source": [
    "# HW2 - A guided surrogate attack implementation\n",
    "\n",
    "### About this notebook\n",
    "\n",
    "This notebook was used in the 50.039 Deep Learning course at the Singapore University of Technology and Design.\n",
    "\n",
    "**Author:** Matthieu DE MARI (matthieu_demari@sutd.edu.sg)\n",
    "\n",
    "**Version:** 1.0 (27/02/2022)\n",
    "\n",
    "**Requirements:**\n",
    "- Python 3 (tested on v3.9.6)\n",
    "- Matplotlib (tested on v3.5.1)\n",
    "- Numpy (tested on v1.22.1)\n",
    "- Pillow (tested on v9.3.0)\n",
    "- Torch (tested on v1.13.0)\n",
    "- Torchmetrics (tested on v0.11.0)"
   ]
  },
  {
   "cell_type": "markdown",
   "id": "great-failure",
   "metadata": {},
   "source": [
    "### 0. Prelim: Imports needed and testing for CUDA"
   ]
  },
  {
   "cell_type": "code",
   "execution_count": null,
   "id": "boxed-theme",
   "metadata": {},
   "outputs": [],
   "source": [
    "# Future\n",
    "from __future__ import print_function\n",
    "# Matplotlib\n",
    "import matplotlib.pyplot as plt\n",
    "# Numpy\n",
    "import numpy as np\n",
    "# Pillow\n",
    "from PIL import Image\n",
    "# Torch\n",
    "import torch\n",
    "import torch.nn as nn\n",
    "import torch.nn.functional as F\n",
    "import torch.optim as optim\n",
    "from torch.autograd import Variable\n",
    "# Torchvision\n",
    "from torchvision import datasets, transforms\n",
    "# Our custom ResNet and utils functions\n",
    "from resnet import *\n",
    "from utils import *"
   ]
  },
  {
   "cell_type": "markdown",
   "id": "induced-hundred",
   "metadata": {},
   "source": [
    "We advise running on GPU and setting up CUDA on your machine as it might drastically speed up the running time for this notebook!"
   ]
  },
  {
   "cell_type": "code",
   "execution_count": null,
   "id": "independent-macintosh",
   "metadata": {},
   "outputs": [],
   "source": [
    "# Define device for torch\n",
    "use_cuda = True\n",
    "print(\"CUDA is available:\", torch.cuda.is_available())\n",
    "device = torch.device(\"cuda\" if (use_cuda and torch.cuda.is_available()) else \"cpu\")"
   ]
  },
  {
   "cell_type": "markdown",
   "id": "static-craft",
   "metadata": {},
   "source": [
    "### 1. Prelim: Dataset and Dataloader\n",
    "\n",
    "The CIFAR-10 training dataset contains 60,000 32x32 color images in 10 different classes. The 10 different classes represent airplanes, cars, birds, cats, deer, dogs, frogs, horses, ships, and trucks. There are 6,000 images of each class.\n",
    "We will only use 1000 samples for each class (to keep the dataset small in size and reduce the execution time), hence using 10000 samples in total.\n",
    "\n",
    "**Question 1:** Based on the description for the dataset, could you describe what seems to be the machine learning problem we will be studying? More specifically,\n",
    "- Is it a supervised or unsupervised task?\n",
    "- Is it a regression, classification, clustering, or association problem?\n",
    "- What does the training dataset consist of, in terms of inputs and outputs?\n",
    "- How many input and output features seem to be present here?\n",
    "- Any additional information about the task?\n",
    "Feel free to explore the dataset yourself, by using additional functions."
   ]
  },
  {
   "cell_type": "code",
   "execution_count": null,
   "id": "genuine-humor",
   "metadata": {},
   "outputs": [],
   "source": [
    "# NOTE: This is a fix to work around the \"User-agent\" issue \n",
    "# when downloading the CIFAR10 dataset\n",
    "from six.moves import urllib\n",
    "opener_req = urllib.request.build_opener()\n",
    "opener_req.addheaders = [('User-agent', 'Mozilla/5.0')]\n",
    "urllib.request.install_opener(opener_req)"
   ]
  },
  {
   "cell_type": "code",
   "execution_count": null,
   "id": "exclusive-toner",
   "metadata": {},
   "outputs": [],
   "source": [
    "# Transform definition\n",
    "# (Basic: only convert image to torch tensor)\n",
    "tf = transforms.Compose([transforms.ToTensor()])"
   ]
  },
  {
   "cell_type": "code",
   "execution_count": null,
   "id": "level-canon",
   "metadata": {},
   "outputs": [],
   "source": [
    "# CIFAR10 dataset and dataloader\n",
    "# (Training set)\n",
    "train_dataset = torchvision.datasets.CIFAR10(root = './data/', download = True, train = True, transform = tf)\n",
    "train_dataset_reduced = torch.utils.data.Subset(train_dataset, [i for i in range(0, 10000)])\n",
    "train_loader = torch.utils.data.DataLoader(dataset = train_dataset_reduced, batch_size = 256, shuffle = False)\n",
    "print(len(train_loader))"
   ]
  },
  {
   "cell_type": "markdown",
   "id": "88c74c1b",
   "metadata": {},
   "source": [
    "Similarly, the test set has 1000 images in each class, but for simplicity and reduced execution time, we will only use 20 images in each class to evaluate our attack functions (or 200 images in total)."
   ]
  },
  {
   "cell_type": "code",
   "execution_count": null,
   "id": "f36f0ec3",
   "metadata": {},
   "outputs": [],
   "source": [
    "# CIFAR10 dataset and dataloader\n",
    "# (Testing set)\n",
    "test_dataset = torchvision.datasets.CIFAR10(root = './data/', download = True, train = False, transform = tf)\n",
    "test_dataset_reduced = torch.utils.data.Subset(test_dataset, [i for i in range(0, 200)])\n",
    "test_loader = torch.utils.data.DataLoader(dataset = test_dataset_reduced, batch_size = 1, shuffle = False)\n",
    "print(len(test_loader))"
   ]
  },
  {
   "cell_type": "markdown",
   "id": "coastal-capitol",
   "metadata": {},
   "source": [
    "### 2. Prelim: Our pre-trained Model under attack\n",
    "\n",
    "We will use a simple pre-trained resnet model, with architecture and trainer stored in *resnet.py* and weights stored in file *resnet.data*.\n",
    "This is a pre-trained model with a simple architecture. Its baseline accuracy is 88.16%, and a rather easy target for an attack.\n",
    "\n",
    "**Question 2:** Based on the display for the model below, what seems to be the architecture for the model? What layers have been implemented?"
   ]
  },
  {
   "cell_type": "code",
   "execution_count": null,
   "id": "french-medication",
   "metadata": {},
   "outputs": [],
   "source": [
    "# Load the pretrained model\n",
    "original_model = ResNet(ResidualBlock, [2, 2, 2])\n",
    "pretrained_model = \"./resnet.data\"\n",
    "original_model.load_state_dict(torch.load(pretrained_model, map_location = 'cpu'))\n",
    "original_model.to(device)\n",
    "original_model.eval()\n",
    "print(original_model)"
   ]
  },
  {
   "cell_type": "markdown",
   "id": "stupid-winner",
   "metadata": {},
   "source": [
    "### 3. Writing our attack function\n",
    "\n",
    "**Question 3:** Write a function iugm_attack(), which performs an **untargeted iterated gradient attack**.\n",
    "1. It should use the Option #2, described in class, which - on each iteration of the iterated gradient attack - is aiming towards the least probable class, according to the logits.\n",
    "2. It should have a maximal number of iterations, set to 10 by default.\n",
    "3. It has 5 inputs:\n",
    "    - our original image,\n",
    "    - the epsilon value to be used,\n",
    "    - the model under attack,\n",
    "    - the original label for the image,\n",
    "    - and a maximal number of iterations for the attack.\n",
    "4. Our attack function simply returns the attack sample to be evaluated by our test function."
   ]
  },
  {
   "cell_type": "code",
   "execution_count": null,
   "id": "starting-cleanup",
   "metadata": {},
   "outputs": [],
   "source": [
    "def iugm_attack(image, epsilon, model, original_label, iter_num = 10):\n",
    "    # Skip if epsilon is 0\n",
    "    if epsilon == 0:\n",
    "        return image\n",
    "    else:\n",
    "        eps_image = None\n",
    "        return eps_image"
   ]
  },
  {
   "cell_type": "markdown",
   "id": "accomplished-toner",
   "metadata": {},
   "source": [
    "### 4. Testing your attack on your model"
   ]
  },
  {
   "cell_type": "markdown",
   "id": "completed-providence",
   "metadata": {},
   "source": [
    "We will consider two different attack strategies (one-shot and iterated), with different epsilon values and numbers of maximal iterations \n",
    "\n",
    "#### First attack: one-shot untargeted gradient attack\n",
    "\n",
    "If we fix max_iter = 1, we will make our iterated attack a one-shot attack.\n",
    "\n",
    "#### Second attack: iterated untargeted gradient attack\n",
    "\n",
    "We fix max_iter = 10.\n",
    "\n",
    "**Question 4:** Can you suggest some epsilon values to put in the *epsilons* and *epsilons2* list below? Explain your choice of values briefly."
   ]
  },
  {
   "cell_type": "code",
   "execution_count": null,
   "id": "stuffed-hello",
   "metadata": {},
   "outputs": [],
   "source": [
    "# Test First attack: one-shot untargeted gradient attack\n",
    "epsilons = [0, None]\n",
    "accuracies, examples = run_attacks_for_epsilon(epsilons, \\\n",
    "                                               original_model, \\\n",
    "                                               iugm_attack, \\\n",
    "                                               device, \\\n",
    "                                               test_loader, \\\n",
    "                                               max_iter = 1)"
   ]
  },
  {
   "cell_type": "code",
   "execution_count": null,
   "id": "following-combining",
   "metadata": {},
   "outputs": [],
   "source": [
    "# Test Second attack: iterated untargeted gradient attack\n",
    "epsilons2 = [0, None]\n",
    "accuracies2, examples2 = run_attacks_for_epsilon(epsilons2, \\\n",
    "                                                 original_model, \\\n",
    "                                                 iugm_attack, \\\n",
    "                                                 device, \\\n",
    "                                                 test_loader, \\\n",
    "                                                 max_iter = 10)"
   ]
  },
  {
   "cell_type": "markdown",
   "id": "native-reasoning",
   "metadata": {},
   "source": [
    "### 5. Visualization of attacks effects on pre-trained model \n",
    "\n",
    "As usual, we will display the accuracy vs. epsilon values graph for our given attack, as well as some samples for the given epsilon values.\n",
    "\n",
    "The graph below will display the accuracy vs. epsilon value for both attacks.\n",
    "\n",
    "We also suggest to show some adversarial examples, to compute the plausibility threshold value for $ \\epsilon $, using the two cells below.\n",
    "\n",
    "**Question 5:** Looking at the displays below, can you discuss which attack seems to be the most efficient on our model? Is it the one-shot or the iterated one? Is that an expected result? Discuss."
   ]
  },
  {
   "cell_type": "code",
   "execution_count": null,
   "id": "conceptual-politics",
   "metadata": {},
   "outputs": [],
   "source": [
    "# Show attack curves for both attacks\n",
    "display_attack_curves(epsilons, epsilons2, accuracies, accuracies2)"
   ]
  },
  {
   "cell_type": "code",
   "execution_count": null,
   "id": "athletic-visiting",
   "metadata": {},
   "outputs": [],
   "source": [
    "# Display adversarial samples for first attack\n",
    "display_adv_samples(epsilons, examples)"
   ]
  },
  {
   "cell_type": "code",
   "execution_count": null,
   "id": "dietary-buffalo",
   "metadata": {},
   "outputs": [],
   "source": [
    "# Display adversarial samples for second attack\n",
    "display_adv_samples(epsilons2, examples2)"
   ]
  },
  {
   "cell_type": "markdown",
   "id": "ead1a0db",
   "metadata": {},
   "source": [
    "### 6. Creating a surrogate model\n",
    "\n",
    "Let us now pretend that the original model in Section 2 is protected, using some sort of black-boxing that prevents us from accessing its gradients. This means that using the IUGM attack from earlier on this model directly is therefore forbiden from now on.\n",
    "\n",
    "Let us create a surrogate version of the model, which has exactly the same architecture, but is not reusing the pre-trained parameters in the resnet.data file.\n",
    "\n",
    "**Question 6:** Below, we show how to create a surrogate model, which uses exactly the same layers as the previous original ResNet model in Section 2, even though with different weights and biases in each of these layers, as it is currently untrained. Is it important that the surrogate follows exactly the same architecture as the original model? Or could we do with a different architecture?"
   ]
  },
  {
   "cell_type": "code",
   "execution_count": null,
   "id": "44347af7",
   "metadata": {},
   "outputs": [],
   "source": [
    "# Make a surrogate version of the model, untrained\n",
    "surrogate_model = ResNet(ResidualBlock, [2, 2, 2])\n",
    "surrogate_model.to(device)\n",
    "surrogate_model.train()\n",
    "print(surrogate_model)"
   ]
  },
  {
   "cell_type": "markdown",
   "id": "a338ae1f",
   "metadata": {},
   "source": [
    "### 7. Training our surrogate model\n",
    "\n",
    "We will need to train the surrogate model using the train dataloader from earlier, but also using the outputs of the original model as ground truth, instead of the original labels in the dataset.\n",
    "\n",
    "**Question 7:** Have a look at the trainer function below, whose objective is to train the surrogate model. Why is the for loop *for batch_number, (inputs, _) in enumerate(train_loader):* not fetching the ground truth labels from the dataset? Is that normal?\n",
    "\n",
    "**Question 8:** Fill the blanks in the function below. Show your code in report and explain it."
   ]
  },
  {
   "cell_type": "code",
   "execution_count": null,
   "id": "27b26154",
   "metadata": {},
   "outputs": [],
   "source": [
    "def train_surrogate(surrogate_model, original_model, train_loader, epochs = 25, lr = 0.001):\n",
    "    # Use Adam optimizer to update surrogate model parameters\n",
    "    '''\n",
    "    Something needs to be changed here?\n",
    "    '''\n",
    "    optimizer = optim.Adam(None, lr = lr)\n",
    "    \n",
    "    # Use cross-entropy loss function\n",
    "    criterion = nn.CrossEntropyLoss()\n",
    "    \n",
    "    # Performance curves data\n",
    "    train_losses = []\n",
    "    train_accuracies = []\n",
    "    \n",
    "    for epoch in range(epochs):\n",
    "        # Initialize epoch loss and accuracy\n",
    "        epoch_loss = 0.0\n",
    "        correct = 0\n",
    "        total = 0\n",
    "        \n",
    "        # Iterate over training data\n",
    "        for batch_number, (inputs, _) in enumerate(train_loader):\n",
    "            # Get from dataloader and send to device\n",
    "            inputs = inputs.to(device)\n",
    "            \n",
    "            # Use original model outputs and predictions as ground truth\n",
    "            '''\n",
    "            Something needs to be changed here?\n",
    "            '''\n",
    "            orig_outputs = None\n",
    "            _, orig_predicted = torch.max(orig_outputs.data, 1)\n",
    "            \n",
    "            # Zero out gradients\n",
    "            optimizer.zero_grad()\n",
    "            \n",
    "            # Compute output for surrogate model\n",
    "            '''\n",
    "            Something needs to be changed here?\n",
    "            '''\n",
    "            surrog_outputs = None\n",
    "            _, surrog_predicted = torch.max(surrog_outputs.data, 1)\n",
    "            \n",
    "            # Compute loss for training surrogate\n",
    "            '''\n",
    "            Something needs to be changed here?\n",
    "            '''\n",
    "            loss = criterion(None, None)\n",
    "            \n",
    "            # Backpropagate loss and update surrogate model weights\n",
    "            loss.backward()\n",
    "            optimizer.step()\n",
    "            \n",
    "            # Accumulate loss and correct predictions for epoch\n",
    "            epoch_loss += loss.item()\n",
    "            total += inputs.size(0)\n",
    "            '''\n",
    "            Something needs to be changed here?\n",
    "            '''\n",
    "            correct += None\n",
    "            \n",
    "        # Calculate epoch loss and accuracy\n",
    "        epoch_loss /= len(train_loader)\n",
    "        epoch_acc = correct/total\n",
    "        train_losses.append(epoch_loss)\n",
    "        train_accuracies.append(epoch_acc)\n",
    "        print(f'--- Epoch {epoch+1}/{epochs}: Train loss: {epoch_loss:.4f}, Train accuracy: {epoch_acc:.4f}')\n",
    "    \n",
    "    return train_losses, train_accuracies"
   ]
  },
  {
   "cell_type": "markdown",
   "id": "4021c665",
   "metadata": {},
   "source": [
    "**Question 9:** Is our model training? We should obtain an accuracy of 97% in the end or so. Does that mean that our surrogate model is better at predicting than the original model, whose baseline accuracy was only 86%?"
   ]
  },
  {
   "cell_type": "code",
   "execution_count": null,
   "id": "9210b7ce",
   "metadata": {},
   "outputs": [],
   "source": [
    "# Train surrogate from scratch\n",
    "surrogate_model = ResNet(ResidualBlock, [2, 2, 2])\n",
    "surrogate_model.to(device)\n",
    "surrogate_model.train()\n",
    "train_losses, train_accuracies = train_surrogate(surrogate_model, original_model, \\\n",
    "                                                 train_loader, epochs = 25, lr = 0.001)"
   ]
  },
  {
   "cell_type": "markdown",
   "id": "5203d1b5",
   "metadata": {},
   "source": [
    "### 8. Rework your attack to use surrogate, tranfer attack samples to original model\n",
    "\n",
    "**Question 9:** Rewrite a function iugm_attack_surr(), which performs an **untargeted iterated gradient attack**, but using the **surrogate to generate attack samples**, before **testing them on the original (protected) model**.\n",
    "1. It should use the Option #2, described in class, which - on each iteration of the iterated gradient attack - is aiming towards the least probable class, according to the logits.\n",
    "2. It should have a maximal number of iterations, set to 10 by default.\n",
    "3. It has 5 inputs:\n",
    "    - our original image,\n",
    "    - the epsilon value to be used,\n",
    "    - the model under attack,\n",
    "    - the original label for the image,\n",
    "    - and a maximal number of iterations for the attack.\n",
    "4. Our attack function simply returns the attack sample to be evaluated by our test function.\n",
    "\n",
    "Reuse your iugm_attack() function and implement the changes as needed!"
   ]
  },
  {
   "cell_type": "code",
   "execution_count": null,
   "id": "37fafb49",
   "metadata": {},
   "outputs": [],
   "source": [
    "def iugm_attack_surr(image, epsilon, original_model, surrogate_model, original_label, iter_num = 10):\n",
    "    # Skip if epsilon is 0\n",
    "    if epsilon == 0:\n",
    "        return image\n",
    "    else:\n",
    "        eps_image = None\n",
    "        return eps_image"
   ]
  },
  {
   "cell_type": "markdown",
   "id": "c6141ef8",
   "metadata": {},
   "source": [
    "Try your function below. We suggest to use the following $ \\epsilon $ values, but feel free to play with them if needed. "
   ]
  },
  {
   "cell_type": "code",
   "execution_count": null,
   "id": "596f223e",
   "metadata": {},
   "outputs": [],
   "source": [
    "# Test First attack: one-shot untargeted gradient attack\n",
    "epsilons_surr = [0, .025, .05, .25, 1, 2.5, 5, 10]\n",
    "accuracies_surr, examples_surr = run_attacks_for_epsilon_surr(epsilons_surr, \\\n",
    "                                                              original_model, \\\n",
    "                                                              surrogate_model, \\\n",
    "                                                              iugm_attack_surr, \\\n",
    "                                                              device, \\\n",
    "                                                              test_loader, \\\n",
    "                                                              max_iter = 1)"
   ]
  },
  {
   "cell_type": "code",
   "execution_count": null,
   "id": "8b988bab",
   "metadata": {},
   "outputs": [],
   "source": [
    "# Test Second attack: iterated untargeted gradient attack\n",
    "epsilons_surr2 = [0, .005, .01, .05, .1, .2, .5, 1, 2, 5]\n",
    "accuracies_surr2, examples_surr2 = run_attacks_for_epsilon_surr(epsilons_surr2, \\\n",
    "                                                                original_model, \\\n",
    "                                                                surrogate_model, \\\n",
    "                                                                iugm_attack_surr, \\\n",
    "                                                                device, \\\n",
    "                                                                test_loader, \\\n",
    "                                                                max_iter = 10)"
   ]
  },
  {
   "cell_type": "markdown",
   "id": "cdd6f418",
   "metadata": {},
   "source": [
    "### 9. Final visualization for surrogate attack\n",
    "\n",
    "As before, let us compare the attack curves of our attacks effects on both models.\n",
    "\n",
    "**Question 10:** Discuss the curves and pictures below. Is the surrogate attack working? Were we able to train a surrogate model and transfer its attack samples to the original model?"
   ]
  },
  {
   "cell_type": "code",
   "execution_count": null,
   "id": "d5eb5706",
   "metadata": {},
   "outputs": [],
   "source": [
    "# Show attack curves for original attack and surrogate attack\n",
    "display_attack_curves_surr(epsilons, epsilons2, \\\n",
    "                           accuracies, accuracies2, \\\n",
    "                           epsilons_surr, accuracies_surr, \\\n",
    "                           epsilons_surr2, accuracies_surr2)"
   ]
  },
  {
   "cell_type": "code",
   "execution_count": null,
   "id": "43e0071f",
   "metadata": {},
   "outputs": [],
   "source": [
    "# Display adversarial samples for first attack on surrogate\n",
    "display_adv_samples(epsilons_surr, examples_surr)"
   ]
  },
  {
   "cell_type": "code",
   "execution_count": null,
   "id": "8a8302e0",
   "metadata": {},
   "outputs": [],
   "source": [
    "# Display adversarial samples for second attack on surrogate\n",
    "display_adv_samples(epsilons_surr2, examples_surr2)"
   ]
  },
  {
   "cell_type": "markdown",
   "id": "ddbdd4fe",
   "metadata": {},
   "source": [
    "### Challenge question\n",
    "\n",
    "**Question 11:** Can you suggest directions to improve the performance of our surrogate attack even more? Implementing these operations is not required."
   ]
  },
  {
   "cell_type": "code",
   "execution_count": null,
   "id": "bf8f98e6",
   "metadata": {},
   "outputs": [],
   "source": []
  }
 ],
 "metadata": {
  "kernelspec": {
   "display_name": "Python 3 (ipykernel)",
   "language": "python",
   "name": "python3"
  },
  "language_info": {
   "codemirror_mode": {
    "name": "ipython",
    "version": 3
   },
   "file_extension": ".py",
   "mimetype": "text/x-python",
   "name": "python",
   "nbconvert_exporter": "python",
   "pygments_lexer": "ipython3",
   "version": "3.10.7"
  }
 },
 "nbformat": 4,
 "nbformat_minor": 5
}
