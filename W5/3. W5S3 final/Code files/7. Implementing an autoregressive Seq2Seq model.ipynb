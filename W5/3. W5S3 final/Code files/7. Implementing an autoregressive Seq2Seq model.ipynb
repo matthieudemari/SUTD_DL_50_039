{
 "cells": [
  {
   "cell_type": "markdown",
   "metadata": {},
   "source": [
    "# 7. Implementing an autoregressive Seq2Seq model\n",
    "\n",
    "### About this notebook\n",
    "\n",
    "This notebook was used in the 50.039 Deep Learning course at the Singapore University of Technology and Design.\n",
    "\n",
    "**Author:** Matthieu DE MARI (matthieu_demari@sutd.edu.sg)\n",
    "\n",
    "**Version:** 1.0 (05/03/2024)\n",
    "\n",
    "**Requirements:**\n",
    "- Python 3 (tested on v3.11.4)\n",
    "- Matplotlib (tested on v3.7.1)\n",
    "- Numpy (tested on v1.24.3)\n",
    "- Torch (tested on v2.0.1+cu118)"
   ]
  },
  {
   "cell_type": "markdown",
   "metadata": {},
   "source": [
    "### Imports and CUDA"
   ]
  },
  {
   "cell_type": "code",
   "execution_count": 1,
   "metadata": {},
   "outputs": [],
   "source": [
    "# Matplotlib\n",
    "import matplotlib.pyplot as plt\n",
    "# Numpy\n",
    "import numpy as np\n",
    "# Torch\n",
    "import torch\n",
    "import torch.nn as nn\n",
    "from torch.utils.data import Dataset, DataLoader"
   ]
  },
  {
   "cell_type": "code",
   "execution_count": 2,
   "metadata": {},
   "outputs": [
    {
     "name": "stdout",
     "output_type": "stream",
     "text": [
      "cuda\n"
     ]
    }
   ],
   "source": [
    "# Use GPU if available, else use CPU\n",
    "device = torch.device(\"cuda\" if torch.cuda.is_available() else \"cpu\")\n",
    "print(device)"
   ]
  },
  {
   "cell_type": "markdown",
   "metadata": {},
   "source": [
    "### Generating a synthetic dataset\n",
    "\n",
    "The code below will generate a synthetic dataset. Just like before it boils down to predicting the next values of a sinsusoid curve of some sort.\n",
    "\n",
    "This time however, at each time $ t $, the model will get to see the last five values as inputs $ (x_{t-4}, x_{t-3}, x_{t-2}, x_{t-1}, x_{t}) $ and will attempt to predict the next five values $ (x_{t+1}, x_{t+2}, x_{t+3}, x_{t+4}, x_{t+5}) $.\n",
    "\n",
    "The dataset and dataloaders are generated below."
   ]
  },
  {
   "cell_type": "code",
   "execution_count": 3,
   "metadata": {},
   "outputs": [],
   "source": [
    "# Our function to generate synthetic data\n",
    "def generate_data(seq_length, num_samples):\n",
    "    x = np.linspace(0, 2 * np.pi, seq_length + 1)\n",
    "    sine_wave_sequences = np.sin(x)[:-1]\n",
    "    return np.array([sine_wave_sequences for _ in range(num_samples)])"
   ]
  },
  {
   "cell_type": "code",
   "execution_count": 4,
   "metadata": {},
   "outputs": [],
   "source": [
    "# Input sequence length\n",
    "seq_length = 10\n",
    "# Number of samples in the dataset\n",
    "num_samples = 1000\n",
    "# Generate dataset\n",
    "data = generate_data(seq_length, num_samples)"
   ]
  },
  {
   "cell_type": "code",
   "execution_count": 5,
   "metadata": {},
   "outputs": [],
   "source": [
    "class SineDataset(Dataset):\n",
    "    def __init__(self, data, future_steps):\n",
    "        self.data = data\n",
    "        self.future_steps = future_steps\n",
    "\n",
    "    def __len__(self):\n",
    "        return len(self.data)\n",
    "\n",
    "    def __getitem__(self, idx):\n",
    "        x = self.data[idx, :self.future_steps]\n",
    "        y = self.data[idx, self.future_steps:]\n",
    "        # Add an extra dimension to match (sequence_length, input_size)\n",
    "        return torch.from_numpy(x).unsqueeze(-1).float(), torch.from_numpy(y).unsqueeze(-1).float()"
   ]
  },
  {
   "cell_type": "code",
   "execution_count": 6,
   "metadata": {},
   "outputs": [],
   "source": [
    "# Define future steps to predict\n",
    "future_steps = seq_length//2 # This is 5\n",
    "\n",
    "# Create dataset and dataloader\n",
    "dataset = SineDataset(data, future_steps)\n",
    "dataloader = DataLoader(dataset, batch_size = 64, shuffle = True)"
   ]
  },
  {
   "cell_type": "code",
   "execution_count": 7,
   "metadata": {},
   "outputs": [
    {
     "name": "stdout",
     "output_type": "stream",
     "text": [
      "tensor([[0.0000],\n",
      "        [0.5878],\n",
      "        [0.9511],\n",
      "        [0.9511],\n",
      "        [0.5878]])\n",
      "tensor([[ 1.2246e-16],\n",
      "        [-5.8779e-01],\n",
      "        [-9.5106e-01],\n",
      "        [-9.5106e-01],\n",
      "        [-5.8779e-01]])\n"
     ]
    }
   ],
   "source": [
    "# Draw a single sample to see what it looks like\n",
    "sample = next(iter(dataset))\n",
    "input, output = sample\n",
    "print(input)\n",
    "print(output)"
   ]
  },
  {
   "cell_type": "markdown",
   "metadata": {},
   "source": [
    "### Our encoder model\n",
    "\n",
    "The EncoderRNN below processes input sequences through an LSTM. It is designed to capture the temporal dependencies in the data.\n",
    "Only the final hidden states are returned, encapsulating the learned representation of the entire sequence. This encoder can be used in sequence-to-sequence models, where its hidden state initializes the decoder to generate outputs based on the input sequence.\n",
    "\n",
    "It uses several layers of LSTM and possibly dropout."
   ]
  },
  {
   "cell_type": "code",
   "execution_count": 8,
   "metadata": {},
   "outputs": [],
   "source": [
    "class EncoderRNN(nn.Module):\n",
    "    def __init__(self, input_size, hidden_size, num_layers = 1, dropout = 0.0):\n",
    "        super(EncoderRNN, self).__init__()\n",
    "        self.hidden_size = hidden_size\n",
    "        self.num_layers = num_layers\n",
    "        self.rnn = nn.LSTM(input_size, hidden_size, num_layers = num_layers, \n",
    "                           dropout = dropout if num_layers > 1 else 0.0, \n",
    "                           batch_first = True)\n",
    "\n",
    "    def forward(self, input_seq):\n",
    "        # For this encoder, we ignore the outputs if we only need the final hidden state(s)\n",
    "        outputs, hidden = self.rnn(input_seq)\n",
    "        return hidden"
   ]
  },
  {
   "cell_type": "markdown",
   "metadata": {},
   "source": [
    "### Our decoder model\n",
    "\n",
    "The DecoderRNN class is a PyTorch module designed to act as the decoder in a sequence-to-sequence architecture. It processes input sequences using an LSTM and then maps the LSTM outputs to the desired output space with a linear layer. It returns both the predicted output and the updated hidden state, making it suitable for sequential decoding in sequence-to-sequence tasks."
   ]
  },
  {
   "cell_type": "code",
   "execution_count": 9,
   "metadata": {},
   "outputs": [],
   "source": [
    "class DecoderRNN(nn.Module):\n",
    "    def __init__(self, input_size, hidden_size, output_size, num_layers = 1, dropout = 0.0):\n",
    "        super(DecoderRNN, self).__init__()\n",
    "        self.hidden_size = hidden_size\n",
    "        self.num_layers = num_layers\n",
    "        self.rnn = nn.LSTM(input_size, hidden_size, num_layers = num_layers, \n",
    "                           dropout = dropout if num_layers > 1 else 0.0, \n",
    "                           batch_first = True)\n",
    "        self.linear = nn.Linear(hidden_size, output_size)\n",
    "\n",
    "    def forward(self, input_seq, hidden):\n",
    "        # Get the raw output from the RNN along with updated hidden state(s)\n",
    "        output, hidden = self.rnn(input_seq, hidden)\n",
    "        output = self.linear(output)\n",
    "        return output, hidden"
   ]
  },
  {
   "cell_type": "markdown",
   "metadata": {},
   "source": [
    "### Our Seq2Seq model\n",
    "\n",
    "Assembling our encoder and decoder classes from earlier, the Seq2Seq class implements a sequence-to-sequence model using an encoder-decoder architecture. The encoder processes the input sequence to produce a final hidden state, which is then used as the starting point for the memory vector of the decoder. The decoder is then responsible for generating the output sequence."
   ]
  },
  {
   "cell_type": "code",
   "execution_count": 10,
   "metadata": {},
   "outputs": [],
   "source": [
    "class Seq2Seq(nn.Module):\n",
    "    def __init__(self, input_size, hidden_size, output_size, num_layers = 1, dropout = 0.0):\n",
    "        super(Seq2Seq, self).__init__()\n",
    "        self.num_layers = num_layers\n",
    "        self.encoder = EncoderRNN(input_size, hidden_size, num_layers, dropout)\n",
    "        self.decoder = DecoderRNN(input_size, hidden_size, output_size, num_layers, dropout)\n",
    "\n",
    "    def forward(self, input_seq, target_seq_length):\n",
    "        # Encoder part: obtain the hidden state from the encoder.\n",
    "        # Returns a tuple (hidden_state, cell_state)\n",
    "        encoder_hidden = self.encoder(input_seq)\n",
    "        # Prepare a non-autoregressive decoder input.\n",
    "        # Use the last time step from input_seq as the initial decoder input.\n",
    "        # For instance, use a fixed start token or learnable embeddings for each time step.\n",
    "        decoder_input = input_seq[:, -1].unsqueeze(1)\n",
    "\n",
    "        # Generate the outputs in an autoregressive manner via a for loop.\n",
    "        outputs = []\n",
    "        hidden = encoder_hidden\n",
    "        for _ in range(target_seq_length):\n",
    "            # Unpack the tuple returned by the decoder: (output, updated_hidden)\n",
    "            decoder_output, hidden = self.decoder(decoder_input, hidden)\n",
    "            outputs.append(decoder_output)\n",
    "            # Use the decoder's output as the next input; ensure shape is (batch, 1, input_size)\n",
    "            # This is the part that makes it autoregressive!\n",
    "            decoder_input = decoder_output\n",
    "        outputs = torch.cat(outputs, dim = 1)\n",
    "        return outputs"
   ]
  },
  {
   "cell_type": "markdown",
   "metadata": {},
   "source": [
    "### A simple trainer function\n",
    "\n",
    "Our trainer function will be kept simple and will be similar to many other things we have seen this term."
   ]
  },
  {
   "cell_type": "code",
   "execution_count": 11,
   "metadata": {},
   "outputs": [],
   "source": [
    "def train_seq2seq(model, dataloader, num_epochs, learning_rate):\n",
    "    model.train()  # Set the model to training mode\n",
    "    criterion = nn.MSELoss()\n",
    "    optimizer = torch.optim.Adam(model.parameters(), lr = learning_rate)\n",
    "\n",
    "    for epoch in range(num_epochs):\n",
    "        total_loss = 0\n",
    "        for input_seq, target_seq in dataloader:\n",
    "            optimizer.zero_grad()\n",
    "            output_seq = model(input_seq, future_steps)\n",
    "            loss = criterion(output_seq, target_seq)\n",
    "            total_loss += loss.item()\n",
    "            loss.backward()\n",
    "            optimizer.step()\n",
    "        print(f'Epoch {epoch+1}/{num_epochs}, Loss: {total_loss/len(dataloader)}')"
   ]
  },
  {
   "cell_type": "markdown",
   "metadata": {},
   "source": [
    "And it trains!"
   ]
  },
  {
   "cell_type": "code",
   "execution_count": 12,
   "metadata": {},
   "outputs": [
    {
     "name": "stdout",
     "output_type": "stream",
     "text": [
      "Epoch 1/100, Loss: 0.211110380012542\n",
      "Epoch 2/100, Loss: 0.05222219880670309\n",
      "Epoch 3/100, Loss: 0.017337045108433813\n",
      "Epoch 4/100, Loss: 0.003883604673319496\n",
      "Epoch 5/100, Loss: 0.0010219093801424606\n",
      "Epoch 6/100, Loss: 0.0003229516041756142\n",
      "Epoch 7/100, Loss: 0.0002213561683674925\n",
      "Epoch 8/100, Loss: 0.0001883318664113176\n",
      "Epoch 9/100, Loss: 0.0001726034888633876\n",
      "Epoch 10/100, Loss: 0.00015695544607297052\n",
      "Epoch 11/100, Loss: 0.00014137097150523914\n",
      "Epoch 12/100, Loss: 0.00012930308548675384\n",
      "Epoch 13/100, Loss: 0.00011993032376267365\n",
      "Epoch 14/100, Loss: 0.00011481979890959337\n",
      "Epoch 15/100, Loss: 0.00010435677540954202\n",
      "Epoch 16/100, Loss: 0.00010772987025120528\n",
      "Epoch 17/100, Loss: 9.171761439574766e-05\n",
      "Epoch 18/100, Loss: 9.216881471729721e-05\n",
      "Epoch 19/100, Loss: 9.538444737700047e-05\n",
      "Epoch 20/100, Loss: 8.544773572793929e-05\n",
      "Epoch 21/100, Loss: 8.305582832690561e-05\n",
      "Epoch 22/100, Loss: 8.047040091696545e-05\n",
      "Epoch 23/100, Loss: 7.697706450926489e-05\n",
      "Epoch 24/100, Loss: 8.171688477887074e-05\n",
      "Epoch 25/100, Loss: 7.812539070073399e-05\n",
      "Epoch 26/100, Loss: 7.922079930722248e-05\n",
      "Epoch 27/100, Loss: 7.224308956210734e-05\n",
      "Epoch 28/100, Loss: 6.759258531019441e-05\n",
      "Epoch 29/100, Loss: 6.363251623042743e-05\n",
      "Epoch 30/100, Loss: 6.9133819806666e-05\n",
      "Epoch 31/100, Loss: 7.155953812798543e-05\n",
      "Epoch 32/100, Loss: 6.199174958965159e-05\n",
      "Epoch 33/100, Loss: 5.9670010159607045e-05\n",
      "Epoch 34/100, Loss: 5.719386240343738e-05\n",
      "Epoch 35/100, Loss: 5.875326701243466e-05\n",
      "Epoch 36/100, Loss: 5.884452002646867e-05\n",
      "Epoch 37/100, Loss: 5.443073632704909e-05\n",
      "Epoch 38/100, Loss: 5.218850628807559e-05\n",
      "Epoch 39/100, Loss: 4.836169910049648e-05\n",
      "Epoch 40/100, Loss: 5.460375768961967e-05\n",
      "Epoch 41/100, Loss: 5.459356634673895e-05\n",
      "Epoch 42/100, Loss: 4.5006079290033085e-05\n",
      "Epoch 43/100, Loss: 4.578742209560005e-05\n",
      "Epoch 44/100, Loss: 4.983503913535969e-05\n",
      "Epoch 45/100, Loss: 4.7013637185955304e-05\n",
      "Epoch 46/100, Loss: 4.136500729146064e-05\n",
      "Epoch 47/100, Loss: 4.259608135726012e-05\n",
      "Epoch 48/100, Loss: 5.017517219130241e-05\n",
      "Epoch 49/100, Loss: 4.821282436751062e-05\n",
      "Epoch 50/100, Loss: 4.4883024884256884e-05\n",
      "Epoch 51/100, Loss: 4.572047191686579e-05\n",
      "Epoch 52/100, Loss: 4.0995441054292314e-05\n",
      "Epoch 53/100, Loss: 3.6164253742754227e-05\n",
      "Epoch 54/100, Loss: 3.2368765232604346e-05\n",
      "Epoch 55/100, Loss: 3.0683636055073293e-05\n",
      "Epoch 56/100, Loss: 3.1039351370054646e-05\n",
      "Epoch 57/100, Loss: 3.2229162570729386e-05\n",
      "Epoch 58/100, Loss: 3.223186820378032e-05\n",
      "Epoch 59/100, Loss: 3.0183505714376224e-05\n",
      "Epoch 60/100, Loss: 2.965965416024119e-05\n",
      "Epoch 61/100, Loss: 3.243651065076847e-05\n",
      "Epoch 62/100, Loss: 3.0519053439093113e-05\n",
      "Epoch 63/100, Loss: 3.003716403782164e-05\n",
      "Epoch 64/100, Loss: 2.7246643639955437e-05\n",
      "Epoch 65/100, Loss: 2.5467773525633675e-05\n",
      "Epoch 66/100, Loss: 2.5119543124674237e-05\n",
      "Epoch 67/100, Loss: 2.6238375994580565e-05\n",
      "Epoch 68/100, Loss: 2.404545580247941e-05\n",
      "Epoch 69/100, Loss: 2.298375920872786e-05\n",
      "Epoch 70/100, Loss: 2.366106548379321e-05\n",
      "Epoch 71/100, Loss: 2.2949776905534236e-05\n",
      "Epoch 72/100, Loss: 2.181725744776486e-05\n",
      "Epoch 73/100, Loss: 2.1574805828095123e-05\n",
      "Epoch 74/100, Loss: 2.1669962734449655e-05\n",
      "Epoch 75/100, Loss: 2.4626904178148834e-05\n",
      "Epoch 76/100, Loss: 2.294692296800349e-05\n",
      "Epoch 77/100, Loss: 1.864773850002166e-05\n",
      "Epoch 78/100, Loss: 1.8035574953501055e-05\n",
      "Epoch 79/100, Loss: 2.059433984413772e-05\n",
      "Epoch 80/100, Loss: 2.0003918507427443e-05\n",
      "Epoch 81/100, Loss: 1.941473442457209e-05\n",
      "Epoch 82/100, Loss: 1.830666656132962e-05\n",
      "Epoch 83/100, Loss: 1.7630044737870776e-05\n",
      "Epoch 84/100, Loss: 1.8093585026690562e-05\n",
      "Epoch 85/100, Loss: 1.821043878180717e-05\n",
      "Epoch 86/100, Loss: 1.7607386496365507e-05\n",
      "Epoch 87/100, Loss: 1.4791078911002842e-05\n",
      "Epoch 88/100, Loss: 1.4711901940245298e-05\n",
      "Epoch 89/100, Loss: 1.622504214537912e-05\n",
      "Epoch 90/100, Loss: 1.4183489156494034e-05\n",
      "Epoch 91/100, Loss: 1.4679110620363645e-05\n",
      "Epoch 92/100, Loss: 1.5536958130724088e-05\n",
      "Epoch 93/100, Loss: 1.4949644651096605e-05\n",
      "Epoch 94/100, Loss: 1.419610157427087e-05\n",
      "Epoch 95/100, Loss: 1.7894169047849573e-05\n",
      "Epoch 96/100, Loss: 1.4148458092222427e-05\n",
      "Epoch 97/100, Loss: 1.2119687028189219e-05\n",
      "Epoch 98/100, Loss: 1.1635664350251318e-05\n",
      "Epoch 99/100, Loss: 1.3410082715381577e-05\n",
      "Epoch 100/100, Loss: 1.1327990023346501e-05\n"
     ]
    }
   ],
   "source": [
    "# Hyperparameters\n",
    "input_size = 1 \n",
    "hidden_size = 100\n",
    "output_size = 1\n",
    "learning_rate = 0.001\n",
    "num_epochs = 100\n",
    "num_layers = 3\n",
    "dropout_rate = 0.1\n",
    "\n",
    "# Initialize Seq2Seq Model\n",
    "seq2seq_model = Seq2Seq(input_size, hidden_size, output_size, num_layers, dropout_rate)\n",
    "\n",
    "# Train the model\n",
    "train_seq2seq(seq2seq_model, dataloader, num_epochs, learning_rate)"
   ]
  },
  {
   "cell_type": "markdown",
   "metadata": {},
   "source": [
    "### A bit of evaluation to confirm\n",
    "\n",
    "The code below will simply extract one sample from the dataset and confirm that our model predicts correctly."
   ]
  },
  {
   "cell_type": "code",
   "execution_count": 13,
   "metadata": {},
   "outputs": [
    {
     "data": {
      "image/png": "[encoded data removed]",
      "text/plain": [
       "<Figure size 800x400 with 1 Axes>"
      ]
     },
     "metadata": {},
     "output_type": "display_data"
    }
   ],
   "source": [
    "# Switch the model to evaluation mode\n",
    "seq2seq_model.eval()\n",
    "\n",
    "# Choose a sample from the dataset (in practice we should probably use a separate test set)\n",
    "sample_input, sample_target = dataset[0]\n",
    "# Add batch dimension first\n",
    "sample_input = sample_input.unsqueeze(0)\n",
    "\n",
    "with torch.no_grad():\n",
    "    # Get predictions for the defined future steps\n",
    "    predicted_output = seq2seq_model(sample_input, future_steps)\n",
    "\n",
    "# Remove extra dimensions and convert tensors to numpy arrays for plotting\n",
    "predicted_output = predicted_output.squeeze().cpu().numpy()\n",
    "sample_target = sample_target.squeeze().cpu().numpy()\n",
    "\n",
    "# Plot the predicted vs. true values\n",
    "plt.figure(figsize = (8, 4))\n",
    "plt.plot(predicted_output, label = 'Predicted', marker = 'o')\n",
    "plt.plot(sample_target, label = 'Ground Truth', marker = 'x', linestyle = '--')\n",
    "plt.xlabel('Time Step')\n",
    "plt.ylabel('Value')\n",
    "plt.title('Seq2Seq Model Evaluation')\n",
    "plt.legend()\n",
    "plt.show()"
   ]
  },
  {
   "cell_type": "code",
   "execution_count": null,
   "metadata": {},
   "outputs": [],
   "source": []
  }
 ],
 "metadata": {
  "kernelspec": {
   "display_name": "Python 3 (ipykernel)",
   "language": "python",
   "name": "python3"
  },
  "language_info": {
   "codemirror_mode": {
    "name": "ipython",
    "version": 3
   },
   "file_extension": ".py",
   "mimetype": "text/x-python",
   "name": "python",
   "nbconvert_exporter": "python",
   "pygments_lexer": "ipython3",
   "version": "3.13.1"
  }
 },
 "nbformat": 4,
 "nbformat_minor": 4
}
