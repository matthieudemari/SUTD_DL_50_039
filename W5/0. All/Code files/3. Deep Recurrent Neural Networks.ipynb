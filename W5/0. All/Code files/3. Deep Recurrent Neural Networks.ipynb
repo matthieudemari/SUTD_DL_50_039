{
 "cells": [
  {
   "cell_type": "markdown",
   "metadata": {},
   "source": [
    "# 3. Deep Recurrent Neural Networks\n",
    "\n",
    "### About this notebook\n",
    "\n",
    "This notebook was used in the 50.039 Deep Learning course at the Singapore University of Technology and Design.\n",
    "\n",
    "**Author:** Matthieu DE MARI (matthieu_demari@sutd.edu.sg)\n",
    "\n",
    "**Version:** 1.0 (27/12/2022)\n",
    "\n",
    "**Requirements:**\n",
    "- Python 3 (tested on v3.9.6)\n",
    "- "
   ]
  },
  {
   "cell_type": "markdown",
   "metadata": {},
   "source": [
    "### Imports and CUDA"
   ]
  },
  {
   "cell_type": "code",
   "execution_count": 2,
   "metadata": {},
   "outputs": [],
   "source": [
    "# Matplotlib\n",
    "import matplotlib.pyplot as plt\n",
    "# Numpy\n",
    "import numpy as np\n",
    "# Torch\n",
    "import torch\n",
    "from torch.utils.data import Dataset, DataLoader\n",
    "from torchvision import transforms, utils"
   ]
  },
  {
   "cell_type": "code",
   "execution_count": 3,
   "metadata": {},
   "outputs": [
    {
     "name": "stdout",
     "output_type": "stream",
     "text": [
      "cuda\n"
     ]
    }
   ],
   "source": [
    "# Use GPU if available, else use CPU\n",
    "device = torch.device(\"cuda\" if torch.cuda.is_available() else \"cpu\")\n",
    "print(device)"
   ]
  },
  {
   "cell_type": "markdown",
   "metadata": {},
   "source": [
    "### Dataset generation with lag\n",
    "\n",
    "..."
   ]
  },
  {
   "cell_type": "code",
   "execution_count": 8,
   "metadata": {},
   "outputs": [],
   "source": [
    "# Our custom Dataset object\n",
    "class CustomSeriesDataset(Dataset):\n",
    "    def __init__(self, datapoints, lag = 3):\n",
    "        self.inputs_number = 10\n",
    "        self.lag = lag\n",
    "        self.outputs_number = self.inputs_number - self.lag\n",
    "        self.datapoints = datapoints\n",
    "        self.inputs = [datapoints[i:(i + self.inputs_number - 1)] \\\n",
    "                       for i in range(len(datapoints) - self.inputs_number - 1)]\n",
    "        self.outputs = [datapoints[(i+self.lag):(i + self.inputs_number)] \\\n",
    "                        for i in range(len(datapoints) - self.inputs_number - 1)]\n",
    "        \n",
    "    def __len__(self):\n",
    "        return len(self.outputs)\n",
    "        \n",
    "    def __getitem__(self, index):\n",
    "        inputs = torch.tensor(self.inputs[index]).float()\n",
    "        outputs = torch.tensor(self.outputs[index]).float().reshape(-1)\n",
    "        return inputs, outputs\n",
    "    \n",
    "# Create dataset and dataloader\n",
    "np.random.seed(27)\n",
    "datapoints = [np.sin(2*np.pi*i/50) + 1e-2*(np.random.random()-0.5) for i in range(1000)]\n",
    "dataset = CustomSeriesDataset(datapoints, lag = 3)\n",
    "dataloader = DataLoader(dataset, batch_size = 32, shuffle = True)"
   ]
  },
  {
   "cell_type": "code",
   "execution_count": 9,
   "metadata": {},
   "outputs": [
    {
     "name": "stdout",
     "output_type": "stream",
     "text": [
      "tensor([ 0.4804,  0.3700,  0.2489,  0.1296,  0.0025, -0.1289, -0.2530, -0.3723,\n",
      "        -0.4836])\n",
      "tensor([ 0.1296,  0.0025, -0.1289, -0.2530, -0.3723, -0.4836, -0.5852])\n"
     ]
    }
   ],
   "source": [
    "# Fetch a datapoint\n",
    "torch.manual_seed(15)\n",
    "data = next(iter(dataloader))\n",
    "inputs_test = data[0][0]\n",
    "outputs_test = data[1][0]\n",
    "print(inputs_test)\n",
    "print(outputs_test)"
   ]
  },
  {
   "cell_type": "markdown",
   "metadata": {},
   "source": [
    "### Building an autoregressive model with lag\n",
    "\n",
    "..."
   ]
  },
  {
   "cell_type": "code",
   "execution_count": 44,
   "metadata": {},
   "outputs": [],
   "source": [
    "class DRNN_model_with_lag(torch.nn.Module):\n",
    "    def __init__(self, lag):\n",
    "        super(DRNN_model_with_lag, self).__init__()\n",
    "        \n",
    "        # Lag\n",
    "        self.lag = lag\n",
    "        # Define layers\n",
    "        self.layers = torch.nn.Sequential(torch.nn.Linear(4, 4), \\\n",
    "                                          torch.nn.ReLU(), \\\n",
    "                                          torch.nn.Linear(4, 4), \\\n",
    "                                          torch.nn.ReLU(), \\\n",
    "                                          torch.nn.Linear(4, 2))\n",
    "    \n",
    "    def forward(self, inputs, device):\n",
    "        # Tensor that will contain successive predictions\n",
    "        pred_tensor = torch.zeros(inputs.shape[0], 7).to(device)\n",
    "        \n",
    "        # Hidden states tensor\n",
    "        hidden_state_tensor = torch.zeros(inputs.shape[0], 1).to(device)\n",
    "        \n",
    "        for index in range(7):\n",
    "            # Append predicted values to inputs and make next prediction\n",
    "            if index >= self.lag:\n",
    "                extracted_outputs = pred_tensor[:, (index-self.lag):index].to(device)\n",
    "                inputs_reworked = torch.cat((extracted_outputs, hidden_state_tensor), dim = 1).to(device)\n",
    "            else:\n",
    "                extracted_inputs = inputs[:, index:self.lag].to(device)\n",
    "                extracted_outputs = pred_tensor[:, 0:index].to(device)\n",
    "                inputs_reworked = torch.cat((extracted_inputs, \\\n",
    "                                             extracted_outputs, \\\n",
    "                                             hidden_state_tensor), \\\n",
    "                                             dim = 1).to(device)\n",
    "                \n",
    "            # Predict with reconstructed inputs\n",
    "            out = self.layers(inputs_reworked).reshape(-1, 2)\n",
    "            \n",
    "            # Update prediction tensor and hidden state tensors\n",
    "            pred_tensor[:, index] = out[:, 0].reshape(-1)\n",
    "            hidden_state_tensor = out[:, 1].reshape(inputs.shape[0], 1)\n",
    "            \n",
    "        # Return list of predictions as outputs\n",
    "        return pred_tensor"
   ]
  },
  {
   "cell_type": "code",
   "execution_count": 45,
   "metadata": {},
   "outputs": [
    {
     "name": "stdout",
     "output_type": "stream",
     "text": [
      "Sequential(\n",
      "  (0): Linear(in_features=4, out_features=4, bias=True)\n",
      "  (1): ReLU()\n",
      "  (2): Linear(in_features=4, out_features=4, bias=True)\n",
      "  (3): ReLU()\n",
      "  (4): Linear(in_features=4, out_features=2, bias=True)\n",
      ")\n"
     ]
    }
   ],
   "source": [
    "model = DRNN_model_with_lag(lag = 3).to(device)\n",
    "print(model.layers)"
   ]
  },
  {
   "cell_type": "code",
   "execution_count": 46,
   "metadata": {},
   "outputs": [
    {
     "name": "stdout",
     "output_type": "stream",
     "text": [
      "Inputs tensor shape:  torch.Size([32, 9])\n",
      "Targets tensor shape:  torch.Size([32, 7])\n",
      "Predicted tensor shape:  torch.Size([32, 7])\n"
     ]
    }
   ],
   "source": [
    "# Fetch a datapoint and try out model prediction\n",
    "torch.manual_seed(15)\n",
    "data = next(iter(dataloader))\n",
    "inputs_test = data[0]\n",
    "outputs_test = data[1]\n",
    "print(\"Inputs tensor shape: \", inputs_test.shape)\n",
    "print(\"Targets tensor shape: \", outputs_test.shape)\n",
    "pred = model(inputs_test, device = device)\n",
    "print(\"Predicted tensor shape: \", pred.shape)"
   ]
  },
  {
   "cell_type": "markdown",
   "metadata": {},
   "source": [
    "### Trainer function\n",
    "\n",
    "..."
   ]
  },
  {
   "cell_type": "code",
   "execution_count": 47,
   "metadata": {},
   "outputs": [],
   "source": [
    "def train(model, dataloader, num_epochs, learning_rate, device):\n",
    "    criterion = torch.nn.MSELoss()\n",
    "    optimizer = torch.optim.Adam(model.parameters(), lr = learning_rate)\n",
    "\n",
    "    for epoch in range(num_epochs):\n",
    "        for inputs, targets in dataloader:\n",
    "            optimizer.zero_grad()\n",
    "            outputs = model(inputs.to(device), device = device)\n",
    "            loss = criterion(outputs.to(device), targets.to(device))\n",
    "            loss.backward()\n",
    "            optimizer.step()\n",
    "\n",
    "        print(f\"Epoch {epoch + 1}/{num_epochs}, Loss: {loss.item():.4f}\")"
   ]
  },
  {
   "cell_type": "code",
   "execution_count": 52,
   "metadata": {},
   "outputs": [
    {
     "name": "stdout",
     "output_type": "stream",
     "text": [
      "Epoch 1/100, Loss: 0.2215\n",
      "Epoch 2/100, Loss: 0.2218\n",
      "Epoch 3/100, Loss: 0.2208\n",
      "Epoch 4/100, Loss: 0.1812\n",
      "Epoch 5/100, Loss: 0.1896\n",
      "Epoch 6/100, Loss: 0.1490\n",
      "Epoch 7/100, Loss: 0.1998\n",
      "Epoch 8/100, Loss: 0.1657\n",
      "Epoch 9/100, Loss: 0.2126\n",
      "Epoch 10/100, Loss: 0.2307\n",
      "Epoch 11/100, Loss: 0.2291\n",
      "Epoch 12/100, Loss: 0.1650\n",
      "Epoch 13/100, Loss: 0.1623\n",
      "Epoch 14/100, Loss: 0.1834\n",
      "Epoch 15/100, Loss: 0.1587\n",
      "Epoch 16/100, Loss: 0.1792\n",
      "Epoch 17/100, Loss: 0.2039\n",
      "Epoch 18/100, Loss: 0.1285\n",
      "Epoch 19/100, Loss: 0.1295\n",
      "Epoch 20/100, Loss: 0.2073\n",
      "Epoch 21/100, Loss: 0.1584\n",
      "Epoch 22/100, Loss: 0.1207\n",
      "Epoch 23/100, Loss: 0.1385\n",
      "Epoch 24/100, Loss: 0.1468\n",
      "Epoch 25/100, Loss: 0.0296\n",
      "Epoch 26/100, Loss: 0.0117\n",
      "Epoch 27/100, Loss: 0.0086\n",
      "Epoch 28/100, Loss: 0.0016\n",
      "Epoch 29/100, Loss: 0.0012\n",
      "Epoch 30/100, Loss: 0.0012\n",
      "Epoch 31/100, Loss: 0.0006\n",
      "Epoch 32/100, Loss: 0.0003\n",
      "Epoch 33/100, Loss: 0.0003\n",
      "Epoch 34/100, Loss: 0.0003\n",
      "Epoch 35/100, Loss: 0.0004\n",
      "Epoch 36/100, Loss: 0.0002\n",
      "Epoch 37/100, Loss: 0.0004\n",
      "Epoch 38/100, Loss: 0.0001\n",
      "Epoch 39/100, Loss: 0.0006\n",
      "Epoch 40/100, Loss: 0.0002\n",
      "Epoch 41/100, Loss: 0.0002\n",
      "Epoch 42/100, Loss: 0.0002\n",
      "Epoch 43/100, Loss: 0.0004\n",
      "Epoch 44/100, Loss: 0.0002\n",
      "Epoch 45/100, Loss: 0.0046\n",
      "Epoch 46/100, Loss: 0.0022\n",
      "Epoch 47/100, Loss: 0.0003\n",
      "Epoch 48/100, Loss: 0.0003\n",
      "Epoch 49/100, Loss: 0.0001\n",
      "Epoch 50/100, Loss: 0.0007\n",
      "Epoch 51/100, Loss: 0.0003\n",
      "Epoch 52/100, Loss: 0.0010\n",
      "Epoch 53/100, Loss: 0.0041\n",
      "Epoch 54/100, Loss: 0.0003\n",
      "Epoch 55/100, Loss: 0.0001\n",
      "Epoch 56/100, Loss: 0.0003\n",
      "Epoch 57/100, Loss: 0.0002\n",
      "Epoch 58/100, Loss: 0.0017\n",
      "Epoch 59/100, Loss: 0.0003\n",
      "Epoch 60/100, Loss: 0.0006\n",
      "Epoch 61/100, Loss: 0.0002\n",
      "Epoch 62/100, Loss: 0.0003\n",
      "Epoch 63/100, Loss: 0.0024\n",
      "Epoch 64/100, Loss: 0.0002\n",
      "Epoch 65/100, Loss: 0.0001\n",
      "Epoch 66/100, Loss: 0.0015\n",
      "Epoch 67/100, Loss: 0.0002\n",
      "Epoch 68/100, Loss: 0.0003\n",
      "Epoch 69/100, Loss: 0.0002\n",
      "Epoch 70/100, Loss: 0.0004\n",
      "Epoch 71/100, Loss: 0.0002\n",
      "Epoch 72/100, Loss: 0.0004\n",
      "Epoch 73/100, Loss: 0.0015\n",
      "Epoch 74/100, Loss: 0.0005\n",
      "Epoch 75/100, Loss: 0.0006\n",
      "Epoch 76/100, Loss: 0.0011\n",
      "Epoch 77/100, Loss: 0.0002\n",
      "Epoch 78/100, Loss: 0.0001\n",
      "Epoch 79/100, Loss: 0.0001\n",
      "Epoch 80/100, Loss: 0.0002\n",
      "Epoch 81/100, Loss: 0.0003\n",
      "Epoch 82/100, Loss: 0.0017\n",
      "Epoch 83/100, Loss: 0.0004\n",
      "Epoch 84/100, Loss: 0.0002\n",
      "Epoch 85/100, Loss: 0.0003\n",
      "Epoch 86/100, Loss: 0.0002\n",
      "Epoch 87/100, Loss: 0.0006\n",
      "Epoch 88/100, Loss: 0.0048\n",
      "Epoch 89/100, Loss: 0.0010\n",
      "Epoch 90/100, Loss: 0.0001\n",
      "Epoch 91/100, Loss: 0.0010\n",
      "Epoch 92/100, Loss: 0.0010\n",
      "Epoch 93/100, Loss: 0.0033\n",
      "Epoch 94/100, Loss: 0.0004\n",
      "Epoch 95/100, Loss: 0.0005\n",
      "Epoch 96/100, Loss: 0.0018\n",
      "Epoch 97/100, Loss: 0.0007\n",
      "Epoch 98/100, Loss: 0.0002\n",
      "Epoch 99/100, Loss: 0.0002\n",
      "Epoch 100/100, Loss: 0.0002\n"
     ]
    }
   ],
   "source": [
    "# Train the model\n",
    "model = DRNN_model_with_lag(lag = 3).to(device)\n",
    "train(model, dataloader, num_epochs = 100, learning_rate = 0.01, device = device)"
   ]
  },
  {
   "cell_type": "markdown",
   "metadata": {},
   "source": [
    "### Test model predictions\n",
    "\n",
    "..."
   ]
  },
  {
   "cell_type": "code",
   "execution_count": 53,
   "metadata": {},
   "outputs": [],
   "source": [
    "def test_display(seed, dataloader, model, device):\n",
    "    # Fetch a datapoint\n",
    "    torch.manual_seed(seed)\n",
    "    data = next(iter(dataloader))\n",
    "    inputs_test = data[0]\n",
    "    outputs_test = data[1]\n",
    "\n",
    "    # Display\n",
    "    pred = model(inputs_test.to(device), device).detach().cpu()\n",
    "    fig = plt.plot(range(9), inputs_test[0], \"b\", label = \"Inputs\")\n",
    "    plt.scatter(range(3, 10), outputs_test[0], c = \"r\", label = \"Targets\")\n",
    "    plt.scatter(range(3, 10), pred[0], c = \"g\", marker = \"x\", label = \"Predictions\")\n",
    "    plt.legend(loc = \"best\")\n",
    "    plt.ylim(-1.05, 1.05)\n",
    "    plt.show()"
   ]
  },
  {
   "cell_type": "code",
   "execution_count": 54,
   "metadata": {},
   "outputs": [
    {
     "data": {
      "image/png": "[encoded data removed]",
      "text/plain": [
       "<Figure size 640x480 with 1 Axes>"
      ]
     },
     "metadata": {},
     "output_type": "display_data"
    }
   ],
   "source": [
    "# Try it\n",
    "test_display(seed = 5, dataloader = dataloader, model = model, device = device)"
   ]
  },
  {
   "cell_type": "markdown",
   "metadata": {},
   "source": [
    "### What's next?\n",
    "\n",
    "..."
   ]
  },
  {
   "cell_type": "code",
   "execution_count": null,
   "metadata": {},
   "outputs": [],
   "source": []
  }
 ],
 "metadata": {
  "kernelspec": {
   "display_name": "Python 3 (ipykernel)",
   "language": "python",
   "name": "python3"
  },
  "language_info": {
   "codemirror_mode": {
    "name": "ipython",
    "version": 3
   },
   "file_extension": ".py",
   "mimetype": "text/x-python",
   "name": "python",
   "nbconvert_exporter": "python",
   "pygments_lexer": "ipython3",
   "version": "3.10.7"
  }
 },
 "nbformat": 4,
 "nbformat_minor": 2
}
