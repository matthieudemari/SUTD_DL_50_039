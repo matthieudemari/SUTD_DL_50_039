{
 "cells": [
  {
   "cell_type": "markdown",
   "metadata": {},
   "source": [
    "# 6. Sequence to Sequence Models\n",
    "\n",
    "### About this notebook\n",
    "\n",
    "This notebook was used in the 50.039 Deep Learning course at the Singapore University of Technology and Design.\n",
    "\n",
    "**Author:** Matthieu DE MARI (matthieu_demari@sutd.edu.sg)\n",
    "\n",
    "**Version:** 1.0 (27/12/2022)\n",
    "\n",
    "**Requirements:**\n",
    "- Python 3 (tested on v3.9.6)\n",
    "- "
   ]
  },
  {
   "cell_type": "markdown",
   "metadata": {},
   "source": [
    "### Imports and CUDA"
   ]
  },
  {
   "cell_type": "code",
   "execution_count": 1,
   "metadata": {},
   "outputs": [],
   "source": [
    "# Torch\n",
    "import torch\n",
    "import torch.nn as nn"
   ]
  },
  {
   "cell_type": "code",
   "execution_count": 2,
   "metadata": {},
   "outputs": [
    {
     "name": "stdout",
     "output_type": "stream",
     "text": [
      "cuda\n"
     ]
    }
   ],
   "source": [
    "# Use GPU if available, else use CPU\n",
    "device = torch.device(\"cuda\" if torch.cuda.is_available() else \"cpu\")\n",
    "print(device)"
   ]
  },
  {
   "cell_type": "code",
   "execution_count": 3,
   "metadata": {},
   "outputs": [],
   "source": [
    "# Define the dataset\n",
    "data = torch.randint(0, 10, (1000, 2)).float()\n",
    "target = torch.cat((torch.zeros(1000, 1), torch.sum(data, dim = 1, keepdim = True)), dim = 1).float()\n",
    "\n",
    "# Create a DataLoader\n",
    "batch_size = 64\n",
    "train_data = torch.utils.data.TensorDataset(data, target)\n",
    "train_loader = torch.utils.data.DataLoader(train_data, batch_size=batch_size, shuffle=True)"
   ]
  },
  {
   "cell_type": "code",
   "execution_count": 4,
   "metadata": {},
   "outputs": [],
   "source": [
    "class Seq2Seq(nn.Module):\n",
    "    def __init__(self, encoder, decoder):\n",
    "        super(Seq2Seq, self).__init__()\n",
    "        self.encoder = encoder\n",
    "        self.decoder = decoder\n",
    "\n",
    "    def forward(self, inputs):\n",
    "        encoding_vec = self.encoder(inputs)\n",
    "        out = self.decoder(encoding_vec)\n",
    "        return out"
   ]
  },
  {
   "cell_type": "code",
   "execution_count": 5,
   "metadata": {},
   "outputs": [],
   "source": [
    "class Encoder(nn.Module):\n",
    "    def __init__(self, input_dim, hid_dim):\n",
    "        super(Encoder, self).__init__()\n",
    "        self.input_dim = input_dim\n",
    "        self.hid_dim = hid_dim\n",
    "        self.enc = nn.Linear(input_dim, hid_dim)\n",
    "\n",
    "    def forward(self, x):\n",
    "        v = self.enc(x)\n",
    "        return v"
   ]
  },
  {
   "cell_type": "code",
   "execution_count": 6,
   "metadata": {},
   "outputs": [],
   "source": [
    "class Decoder(nn.Module):\n",
    "    def __init__(self, output_dim, hid_dim):\n",
    "        super(Decoder, self).__init__()\n",
    "        self.output_dim = output_dim\n",
    "        self.hid_dim = hid_dim\n",
    "        self.dec = nn.Linear(hid_dim, output_dim)\n",
    "\n",
    "    def forward(self, v):\n",
    "        y = self.dec(v)\n",
    "        return y"
   ]
  },
  {
   "cell_type": "code",
   "execution_count": 7,
   "metadata": {},
   "outputs": [
    {
     "name": "stdout",
     "output_type": "stream",
     "text": [
      "Encoder(\n",
      "  (enc): Linear(in_features=2, out_features=8, bias=True)\n",
      ")\n"
     ]
    }
   ],
   "source": [
    "# Define the model encoder\n",
    "input_dim = 2\n",
    "output_dim = 2\n",
    "hid_dim = 8\n",
    "enc = Encoder(input_dim, hid_dim)\n",
    "print(enc)"
   ]
  },
  {
   "cell_type": "code",
   "execution_count": 8,
   "metadata": {},
   "outputs": [
    {
     "name": "stdout",
     "output_type": "stream",
     "text": [
      "Decoder(\n",
      "  (dec): Linear(in_features=8, out_features=2, bias=True)\n",
      ")\n"
     ]
    }
   ],
   "source": [
    "# Define the model decoder\n",
    "dec = Decoder(output_dim, hid_dim)\n",
    "print(dec)"
   ]
  },
  {
   "cell_type": "code",
   "execution_count": 9,
   "metadata": {},
   "outputs": [
    {
     "name": "stdout",
     "output_type": "stream",
     "text": [
      "Seq2Seq(\n",
      "  (encoder): Encoder(\n",
      "    (enc): Linear(in_features=2, out_features=8, bias=True)\n",
      "  )\n",
      "  (decoder): Decoder(\n",
      "    (dec): Linear(in_features=8, out_features=2, bias=True)\n",
      "  )\n",
      ")\n"
     ]
    }
   ],
   "source": [
    "# Define the model assembling encoder and decoder\n",
    "model = Seq2Seq(enc, dec)\n",
    "print(model)"
   ]
  },
  {
   "cell_type": "code",
   "execution_count": 14,
   "metadata": {},
   "outputs": [
    {
     "name": "stdout",
     "output_type": "stream",
     "text": [
      "Epoch 1 Loss: 8.69502068\n",
      "Epoch 2 Loss: 0.76978475\n",
      "Epoch 3 Loss: 0.16806419\n",
      "Epoch 4 Loss: 0.11615036\n",
      "Epoch 5 Loss: 0.07884483\n",
      "Epoch 6 Loss: 0.05809250\n",
      "Epoch 7 Loss: 0.04653561\n",
      "Epoch 8 Loss: 0.03641570\n",
      "Epoch 9 Loss: 0.04140667\n",
      "Epoch 10 Loss: 0.03090168\n",
      "Epoch 11 Loss: 0.02510375\n",
      "Epoch 12 Loss: 0.02093919\n",
      "Epoch 13 Loss: 0.01640337\n",
      "Epoch 14 Loss: 0.01191575\n",
      "Epoch 15 Loss: 0.01451499\n",
      "Epoch 16 Loss: 0.01022676\n",
      "Epoch 17 Loss: 0.00920647\n",
      "Epoch 18 Loss: 0.00517963\n",
      "Epoch 19 Loss: 0.00619758\n",
      "Epoch 20 Loss: 0.00303210\n",
      "Epoch 21 Loss: 0.00292261\n",
      "Epoch 22 Loss: 0.00155205\n",
      "Epoch 23 Loss: 0.00126476\n",
      "Epoch 24 Loss: 0.00108019\n",
      "Epoch 25 Loss: 0.00077979\n",
      "Epoch 26 Loss: 0.00059092\n",
      "Epoch 27 Loss: 0.00043995\n",
      "Epoch 28 Loss: 0.00023037\n",
      "Epoch 29 Loss: 0.00016451\n",
      "Epoch 30 Loss: 0.00014088\n",
      "Epoch 31 Loss: 0.00008299\n",
      "Epoch 32 Loss: 0.00005941\n",
      "Epoch 33 Loss: 0.00003514\n",
      "Epoch 34 Loss: 0.00002514\n",
      "Epoch 35 Loss: 0.00001674\n",
      "Epoch 36 Loss: 0.00000744\n",
      "Epoch 37 Loss: 0.00000788\n",
      "Epoch 38 Loss: 0.00000471\n",
      "Epoch 39 Loss: 0.00000342\n",
      "Epoch 40 Loss: 0.00000214\n",
      "Epoch 41 Loss: 0.00000118\n",
      "Epoch 42 Loss: 0.00000063\n",
      "Epoch 43 Loss: 0.00000042\n",
      "Epoch 44 Loss: 0.00000024\n",
      "Epoch 45 Loss: 0.00000019\n",
      "Epoch 46 Loss: 0.00000008\n",
      "Epoch 47 Loss: 0.00000004\n",
      "Epoch 48 Loss: 0.00000003\n",
      "Epoch 49 Loss: 0.00000001\n",
      "Epoch 50 Loss: 0.00000001\n"
     ]
    }
   ],
   "source": [
    "# Define the model\n",
    "input_dim = 2\n",
    "output_dim = 2\n",
    "hid_dim = 8\n",
    "torch.manual_seed(12)\n",
    "enc = Encoder(input_dim, hid_dim)\n",
    "dec = Decoder(output_dim, hid_dim)\n",
    "model = Seq2Seq(enc, dec)\n",
    "\n",
    "# Define the loss function and the optimizer\n",
    "criterion = nn.MSELoss()\n",
    "optimizer = torch.optim.Adam(model.parameters(), lr = 0.01)\n",
    "\n",
    "# Define the training loop\n",
    "num_epochs = 50\n",
    "for epoch in range(num_epochs):\n",
    "    for i, (x, y) in enumerate(train_loader):\n",
    "        optimizer.zero_grad()\n",
    "        output = model(x)\n",
    "        loss = criterion(output, y)\n",
    "        loss.backward()\n",
    "        optimizer.step()\n",
    "    print(f'Epoch {epoch + 1} Loss: {loss.item():.8f}')"
   ]
  },
  {
   "cell_type": "code",
   "execution_count": 19,
   "metadata": {},
   "outputs": [
    {
     "name": "stdout",
     "output_type": "stream",
     "text": [
      "Prediction: \n",
      " tensor([[-2.8859e-07,  3.0002e+00],\n",
      "        [-2.5879e-07,  1.2000e+01],\n",
      "        [-3.1840e-07,  5.0002e+00]], grad_fn=<AddmmBackward0>)\n",
      "Expected output: \n",
      " tensor([[ 0.,  3.],\n",
      "        [ 0., 12.],\n",
      "        [ 0.,  5.]])\n"
     ]
    }
   ],
   "source": [
    "# Test model\n",
    "test_x = torch.Tensor([[1, 2], [10, 2], [0, 5]])\n",
    "test_y = torch.Tensor([[0, 3], [0, 12], [0, 5]])\n",
    "output = model(test_x)\n",
    "print(\"Prediction: \\n\", output)\n",
    "print(\"Expected output: \\n\", test_y)"
   ]
  },
  {
   "cell_type": "code",
   "execution_count": 21,
   "metadata": {},
   "outputs": [
    {
     "name": "stdout",
     "output_type": "stream",
     "text": [
      "Encoding vector: \n",
      " tensor([[-0.8454,  0.0829, -2.4598, -1.3727,  1.8971, -1.2504, -0.8168,  0.3137],\n",
      "        [-4.0618, -2.6302, -6.3626, -2.2877,  7.6828, -7.7594, -1.8075,  2.8787],\n",
      "        [-2.2951,  0.2047, -4.2821, -3.0378,  2.8706, -0.3742, -0.7672, -0.9402]],\n",
      "       grad_fn=<AddmmBackward0>)\n"
     ]
    }
   ],
   "source": [
    "# Extracting a submodel\n",
    "encoder_trained = model.encoder\n",
    "encoding_vector = encoder_trained(test_x)\n",
    "print(\"Encoding vector: \\n\", encoding_vector)"
   ]
  },
  {
   "cell_type": "markdown",
   "metadata": {},
   "source": [
    "### What's next?\n",
    "\n",
    "..."
   ]
  },
  {
   "cell_type": "code",
   "execution_count": null,
   "metadata": {},
   "outputs": [],
   "source": []
  }
 ],
 "metadata": {
  "kernelspec": {
   "display_name": "Python 3 (ipykernel)",
   "language": "python",
   "name": "python3"
  },
  "language_info": {
   "codemirror_mode": {
    "name": "ipython",
    "version": 3
   },
   "file_extension": ".py",
   "mimetype": "text/x-python",
   "name": "python",
   "nbconvert_exporter": "python",
   "pygments_lexer": "ipython3",
   "version": "3.10.7"
  }
 },
 "nbformat": 4,
 "nbformat_minor": 2
}
