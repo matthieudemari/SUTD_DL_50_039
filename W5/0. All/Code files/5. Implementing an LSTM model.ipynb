{
 "cells": [
  {
   "cell_type": "markdown",
   "metadata": {},
   "source": [
    "# 5. Implementing an LSTM model\n",
    "\n",
    "### About this notebook\n",
    "\n",
    "This notebook was used in the 50.039 Deep Learning course at the Singapore University of Technology and Design.\n",
    "\n",
    "**Author:** Matthieu DE MARI (matthieu_demari@sutd.edu.sg)\n",
    "\n",
    "**Version:** 1.0 (27/12/2022)\n",
    "\n",
    "**Requirements:**\n",
    "- Python 3 (tested on v3.9.6)\n",
    "- "
   ]
  },
  {
   "cell_type": "markdown",
   "metadata": {},
   "source": [
    "### Imports and CUDA"
   ]
  },
  {
   "cell_type": "code",
   "execution_count": 1,
   "metadata": {},
   "outputs": [],
   "source": [
    "# Matplotlib\n",
    "import matplotlib.pyplot as plt\n",
    "# Numpy\n",
    "import numpy as np\n",
    "# Torch\n",
    "import torch\n",
    "from torch.utils.data import TensorDataset, DataLoader\n",
    "from torchvision import transforms, utils"
   ]
  },
  {
   "cell_type": "code",
   "execution_count": 2,
   "metadata": {},
   "outputs": [
    {
     "name": "stdout",
     "output_type": "stream",
     "text": [
      "cuda\n"
     ]
    }
   ],
   "source": [
    "# Use GPU if available, else use CPU\n",
    "device = torch.device(\"cuda\" if torch.cuda.is_available() else \"cpu\")\n",
    "print(device)"
   ]
  },
  {
   "cell_type": "markdown",
   "metadata": {},
   "source": [
    "### The memory and LSTM cell\n",
    "\n",
    "The intuition behind the Long Short-Term Memory (LSTM) is similar to the Gated Recurrent Unit (GRU) in that it allows the model to selectively choose which information from the previous hidden state to retain and which to discard. However, LSTM uses three gates instead of two to control the flow of information. These gates are the forget gate, input gate, and output gate.\n",
    "\n",
    "The forget gate, represented by the equation\n",
    "\n",
    "$$ f_t = \\sigma(W_f * x_t + U_f * h_{t-1} + b_f) $$\n",
    "\n",
    "is used to decide what information to throw away from the previous cell state, c_{t-1}. The value of $ f_t $ ranges between 0 and 1: a value of 0 means that the new cell state will discard all information from the previous cell state, whereas a value of 1 means that the new cell state will keep all information from the previous cell state.\n",
    "\n",
    "The input gate, represented by the equation\n",
    "\n",
    "$$ i_t = \\sigma(W_i * x_t + U_i * h_{t-1} + b_i) $$\n",
    "\n",
    "is used to decide what new information to store in the current cell state, c_t. It also ranges between 0 and 1: a value of 0 means that no new information will be stored, whereas a value of 1 means that all new information will be stored.\n",
    "\n",
    "The output gate, represented by the equation\n",
    "\n",
    "$$ o_t = \\sigma(W_o * x_t + U_o * h_{t-1} + b_o) $$\n",
    "\n",
    "is used to decide what information to output from the current cell state, c_t. It also ranges between 0 and 1: a value of 0 means that no information will be output, whereas a value of 1 means that all information will be output.\n",
    "\n",
    "The new cell state, c_t, is then computed by:\n",
    "\n",
    "$$ c_t = f_t * c_{t-1} + i_t * tanh(W_c * x_t + U_c * h_{t-1} + b_c) $$\n",
    "\n",
    "The new hidden state, h_t, is computed by:\n",
    "\n",
    "$$ h_t = o_t * tanh(c_t) $$\n",
    "\n",
    "Where\n",
    "\n",
    "To recap, the diagram of a LSTM cell is shown below."
   ]
  },
  {
   "cell_type": "markdown",
   "metadata": {},
   "source": [
    "...\n",
    "\n",
    "Its implementation, in Numpy, is shown below."
   ]
  },
  {
   "cell_type": "code",
   "execution_count": 4,
   "metadata": {},
   "outputs": [],
   "source": [
    "def sigmoid(x):\n",
    "    return 1/(1 + np.exp(-x))\n",
    "\n",
    "class LSTMCell:\n",
    "    def __init__(self, input_size, hidden_size):\n",
    "        # Sizes of weights and biases matrices\n",
    "        # W_f : (input_size, hidden_size)\n",
    "        # U_f : (hidden_size, hidden_size)\n",
    "        # b_f : (hidden_size)\n",
    "\n",
    "        # W_i : (input_size, hidden_size)\n",
    "        # U_i : (hidden_size, hidden_size)\n",
    "        # b_i : (hidden_size)\n",
    "\n",
    "        # W_o : (input_size, hidden_size)\n",
    "        # U_o : (hidden_size, hidden_size)\n",
    "        # b_o : (hidden_size)\n",
    "\n",
    "        # W_c : (input_size, hidden_size)\n",
    "        # U_c : (hidden_size, hidden_size)\n",
    "        # b_c : (hidden_size)\n",
    "        self.W_f = np.random.randn(input_size, hidden_size)\n",
    "        self.U_f = np.random.randn(hidden_size, hidden_size)\n",
    "        self.b_f = np.random.randn(hidden_size)\n",
    "\n",
    "        self.W_i = np.random.randn(input_size, hidden_size)\n",
    "        self.U_i = np.random.randn(hidden_size, hidden_size)\n",
    "        self.b_i = np.random.randn(hidden_size)\n",
    "\n",
    "        self.W_o = np.random.randn(input_size, hidden_size)\n",
    "        self.U_o = np.random.randn(hidden_size, hidden_size)\n",
    "        self.b_o = np.random.randn(hidden_size)\n",
    "\n",
    "        self.W_c = np.random.randn(input_size, hidden_size)\n",
    "        self.U_c = np.random.randn(hidden_size, hidden_size)\n",
    "        self.b_c = np.random.randn(hidden_size)\n",
    "\n",
    "    def forward(self, xt, h_tm1, c_tm1):\n",
    "        f = sigmoid(np.dot(xt, self.W_f) + np.dot(h_tm1, self.U_f) + self.b_f)\n",
    "        i = sigmoid(np.dot(xt, self.W_i) + np.dot(h_tm1, self.U_i) + self.b_i)\n",
    "        o = sigmoid(np.dot(xt, self.W_o) + np.dot(h_tm1, self.U_o) + self.b_o)\n",
    "        c_next = f*c_tm1 + i*np.tanh(np.dot(xt, self.W_c) + np.dot(h_tm1, self.U_c) + self.b_c)\n",
    "        h_next = o*np.tanh(c_next)\n",
    "        return h_next, c_next"
   ]
  },
  {
   "cell_type": "code",
   "execution_count": 9,
   "metadata": {},
   "outputs": [
    {
     "name": "stdout",
     "output_type": "stream",
     "text": [
      "New hidden state h size: (32, 1)\n",
      "New hidden state c size: (32, 1)\n"
     ]
    }
   ],
   "source": [
    "lstm = LSTMCell(3, 1)\n",
    "input_data = np.random.randn(32, 3)\n",
    "h_data = np.random.randn(32, 1)\n",
    "c_data = np.random.randn(32, 1)\n",
    "h_next_data, c_next_data = lstm.forward(input_data, h_data, c_data)\n",
    "print(\"New hidden state h size:\", h_next_data.shape)\n",
    "print(\"New hidden state c size:\", c_next_data.shape)"
   ]
  },
  {
   "cell_type": "markdown",
   "metadata": {},
   "source": [
    "### A slightly better way to create our Dataset\n",
    "\n",
    "As before, but using TensorDataset this time (to show you another way to create a dataset object from X and Y values)"
   ]
  },
  {
   "cell_type": "code",
   "execution_count": 10,
   "metadata": {},
   "outputs": [],
   "source": [
    "# Define the dataset (as before)\n",
    "np.random.seed(27)\n",
    "x = np.linspace(0, 10, 1000)\n",
    "y = np.sin(x) + 1e-2*(np.random.random(1000)-0.5)\n",
    "\n",
    "# Convert numpy arrays to PyTorch tensors\n",
    "x_train_torch = torch.from_numpy(x).float().view(-1, 1, 1)\n",
    "y_train_torch = torch.from_numpy(y).float().view(-1, 1)\n",
    "\n",
    "# Create the Tensor Dataset\n",
    "train_dataset = TensorDataset(x_train_torch, y_train_torch)\n",
    "\n",
    "# Create the DataLoader\n",
    "batch_size = 32\n",
    "train_dataloader = DataLoader(train_dataset, batch_size = batch_size, shuffle = True)"
   ]
  },
  {
   "cell_type": "code",
   "execution_count": 11,
   "metadata": {},
   "outputs": [
    {
     "data": {
      "image/png": "[encoded data removed]",
      "text/plain": [
       "<Figure size 640x480 with 1 Axes>"
      ]
     },
     "metadata": {},
     "output_type": "display_data"
    }
   ],
   "source": [
    "plt.plot(x, y, label = \"Our train dataset\")\n",
    "plt.legend(loc = \"best\")\n",
    "plt.show()"
   ]
  },
  {
   "cell_type": "markdown",
   "metadata": {},
   "source": [
    "### Define an LSTM model\n",
    "\n",
    "..."
   ]
  },
  {
   "cell_type": "code",
   "execution_count": 36,
   "metadata": {},
   "outputs": [],
   "source": [
    "# Define the LSTM model\n",
    "class LSTM(torch.nn.Module):\n",
    "    def __init__(self, input_size, hidden_size, num_layers, output_size):\n",
    "        super(LSTM, self).__init__()\n",
    "        self.lstm = torch.nn.LSTM(input_size, hidden_size, num_layers)\n",
    "        self.fc = torch.nn.Linear(hidden_size, output_size)\n",
    "\n",
    "    def forward(self, x, hidden_states):\n",
    "        h_state, c_state = hidden_states\n",
    "        y, next_state = self.lstm(x, (h_state, c_state))\n",
    "        h_state, c_state = next_state\n",
    "        z = self.fc(y[:, -1, :])\n",
    "        return z, h_state, c_state"
   ]
  },
  {
   "cell_type": "code",
   "execution_count": 37,
   "metadata": {},
   "outputs": [
    {
     "name": "stdout",
     "output_type": "stream",
     "text": [
      "LSTM(\n",
      "  (lstm): LSTM(1, 64)\n",
      "  (fc): Linear(in_features=64, out_features=1, bias=True)\n",
      ")\n"
     ]
    }
   ],
   "source": [
    "# Define the model parameters\n",
    "input_size = 1\n",
    "hidden_size = 64\n",
    "num_layers = 1\n",
    "output_size = 1\n",
    "\n",
    "#Create the model\n",
    "model = LSTM(input_size, hidden_size, num_layers, output_size).to(device)\n",
    "print(model)"
   ]
  },
  {
   "cell_type": "markdown",
   "metadata": {},
   "source": [
    "### Trainer\n",
    "\n",
    "..."
   ]
  },
  {
   "cell_type": "code",
   "execution_count": 38,
   "metadata": {},
   "outputs": [],
   "source": [
    "def train(model, train_dataloader, num_epochs, lr):\n",
    "    # Define the loss function and optimizer\n",
    "    criterion = torch.nn.MSELoss()\n",
    "    optimizer = torch.optim.Adam(model.parameters(), lr = lr)\n",
    "    \n",
    "    # Training loop\n",
    "    for epoch in range(num_epochs):\n",
    "        # Training loss initialize\n",
    "        train_loss = 0\n",
    "        # Loop through batches\n",
    "        for inputs, targets in train_dataloader:\n",
    "            optimizer.zero_grad()\n",
    "            # Initialize hidden states\n",
    "            h_state = torch.zeros(num_layers, 1, hidden_size).to(device)\n",
    "            c_state = torch.zeros(num_layers, 1, hidden_size).to(device)\n",
    "            # Forward pass\n",
    "            outputs, h_state, c_state = model(inputs.to(device), (h_state, c_state))\n",
    "            loss = criterion(outputs, targets.to(device))\n",
    "            train_loss += loss.item()\n",
    "            # Backward pass and optimization\n",
    "            loss.backward()\n",
    "            optimizer.step()\n",
    "        \n",
    "        # Compute final loss and display\n",
    "        train_loss /= len(train_dataloader)\n",
    "        print(f' Epoch [{epoch + 1}/{num_epochs}], Train Loss: {train_loss:.4f}')\n",
    "    \n",
    "    # Return final hidden states\n",
    "    return h_state, c_state"
   ]
  },
  {
   "cell_type": "code",
   "execution_count": 39,
   "metadata": {},
   "outputs": [
    {
     "name": "stdout",
     "output_type": "stream",
     "text": [
      " Epoch [1/100], Train Loss: 0.4449\n",
      " Epoch [2/100], Train Loss: 0.3834\n",
      " Epoch [3/100], Train Loss: 0.2451\n",
      " Epoch [4/100], Train Loss: 0.1251\n",
      " Epoch [5/100], Train Loss: 0.0950\n",
      " Epoch [6/100], Train Loss: 0.0877\n",
      " Epoch [7/100], Train Loss: 0.0451\n",
      " Epoch [8/100], Train Loss: 0.0230\n",
      " Epoch [9/100], Train Loss: 0.0121\n",
      " Epoch [10/100], Train Loss: 0.0137\n",
      " Epoch [11/100], Train Loss: 0.0062\n",
      " Epoch [12/100], Train Loss: 0.0054\n",
      " Epoch [13/100], Train Loss: 0.0052\n",
      " Epoch [14/100], Train Loss: 0.0031\n",
      " Epoch [15/100], Train Loss: 0.0036\n",
      " Epoch [16/100], Train Loss: 0.0039\n",
      " Epoch [17/100], Train Loss: 0.0031\n",
      " Epoch [18/100], Train Loss: 0.0016\n",
      " Epoch [19/100], Train Loss: 0.0018\n",
      " Epoch [20/100], Train Loss: 0.0020\n",
      " Epoch [21/100], Train Loss: 0.0021\n",
      " Epoch [22/100], Train Loss: 0.0032\n",
      " Epoch [23/100], Train Loss: 0.0024\n",
      " Epoch [24/100], Train Loss: 0.0011\n",
      " Epoch [25/100], Train Loss: 0.0010\n",
      " Epoch [26/100], Train Loss: 0.0005\n",
      " Epoch [27/100], Train Loss: 0.0006\n",
      " Epoch [28/100], Train Loss: 0.0006\n",
      " Epoch [29/100], Train Loss: 0.0003\n",
      " Epoch [30/100], Train Loss: 0.0005\n",
      " Epoch [31/100], Train Loss: 0.0008\n",
      " Epoch [32/100], Train Loss: 0.0004\n",
      " Epoch [33/100], Train Loss: 0.0006\n",
      " Epoch [34/100], Train Loss: 0.0008\n",
      " Epoch [35/100], Train Loss: 0.0008\n",
      " Epoch [36/100], Train Loss: 0.0042\n",
      " Epoch [37/100], Train Loss: 0.0090\n",
      " Epoch [38/100], Train Loss: 0.0063\n",
      " Epoch [39/100], Train Loss: 0.0027\n",
      " Epoch [40/100], Train Loss: 0.0012\n",
      " Epoch [41/100], Train Loss: 0.0007\n",
      " Epoch [42/100], Train Loss: 0.0004\n",
      " Epoch [43/100], Train Loss: 0.0003\n",
      " Epoch [44/100], Train Loss: 0.0006\n",
      " Epoch [45/100], Train Loss: 0.0020\n",
      " Epoch [46/100], Train Loss: 0.0014\n",
      " Epoch [47/100], Train Loss: 0.0006\n",
      " Epoch [48/100], Train Loss: 0.0003\n",
      " Epoch [49/100], Train Loss: 0.0004\n",
      " Epoch [50/100], Train Loss: 0.0003\n",
      " Epoch [51/100], Train Loss: 0.0006\n",
      " Epoch [52/100], Train Loss: 0.0006\n",
      " Epoch [53/100], Train Loss: 0.0007\n",
      " Epoch [54/100], Train Loss: 0.0004\n",
      " Epoch [55/100], Train Loss: 0.0009\n",
      " Epoch [56/100], Train Loss: 0.0008\n",
      " Epoch [57/100], Train Loss: 0.0012\n",
      " Epoch [58/100], Train Loss: 0.0009\n",
      " Epoch [59/100], Train Loss: 0.0005\n",
      " Epoch [60/100], Train Loss: 0.0006\n",
      " Epoch [61/100], Train Loss: 0.0023\n",
      " Epoch [62/100], Train Loss: 0.0032\n",
      " Epoch [63/100], Train Loss: 0.0017\n",
      " Epoch [64/100], Train Loss: 0.0007\n",
      " Epoch [65/100], Train Loss: 0.0009\n",
      " Epoch [66/100], Train Loss: 0.0007\n",
      " Epoch [67/100], Train Loss: 0.0006\n",
      " Epoch [68/100], Train Loss: 0.0005\n",
      " Epoch [69/100], Train Loss: 0.0006\n",
      " Epoch [70/100], Train Loss: 0.0009\n",
      " Epoch [71/100], Train Loss: 0.0006\n",
      " Epoch [72/100], Train Loss: 0.0003\n",
      " Epoch [73/100], Train Loss: 0.0004\n",
      " Epoch [74/100], Train Loss: 0.0011\n",
      " Epoch [75/100], Train Loss: 0.0006\n",
      " Epoch [76/100], Train Loss: 0.0005\n",
      " Epoch [77/100], Train Loss: 0.0003\n",
      " Epoch [78/100], Train Loss: 0.0006\n",
      " Epoch [79/100], Train Loss: 0.0011\n",
      " Epoch [80/100], Train Loss: 0.0032\n",
      " Epoch [81/100], Train Loss: 0.0066\n",
      " Epoch [82/100], Train Loss: 0.0019\n",
      " Epoch [83/100], Train Loss: 0.0018\n",
      " Epoch [84/100], Train Loss: 0.0006\n",
      " Epoch [85/100], Train Loss: 0.0005\n",
      " Epoch [86/100], Train Loss: 0.0005\n",
      " Epoch [87/100], Train Loss: 0.0008\n",
      " Epoch [88/100], Train Loss: 0.0013\n",
      " Epoch [89/100], Train Loss: 0.0027\n",
      " Epoch [90/100], Train Loss: 0.0013\n",
      " Epoch [91/100], Train Loss: 0.0010\n",
      " Epoch [92/100], Train Loss: 0.0009\n",
      " Epoch [93/100], Train Loss: 0.0009\n",
      " Epoch [94/100], Train Loss: 0.0006\n",
      " Epoch [95/100], Train Loss: 0.0008\n",
      " Epoch [96/100], Train Loss: 0.0010\n",
      " Epoch [97/100], Train Loss: 0.0011\n",
      " Epoch [98/100], Train Loss: 0.0007\n",
      " Epoch [99/100], Train Loss: 0.0003\n",
      " Epoch [100/100], Train Loss: 0.0010\n"
     ]
    }
   ],
   "source": [
    "# Define the model parameters\n",
    "input_size = 1\n",
    "hidden_size = 64\n",
    "num_layers = 2\n",
    "output_size = 1\n",
    "torch.manual_seed(12)\n",
    "model = LSTM(input_size, hidden_size, num_layers, output_size).to(device)\n",
    "\n",
    "# Train the model\n",
    "num_epochs = 100\n",
    "h_state, c_state = train(model, train_dataloader, num_epochs, lr = 1e-2)"
   ]
  },
  {
   "cell_type": "markdown",
   "metadata": {},
   "source": [
    "### Evaluate model\n",
    "\n",
    "..."
   ]
  },
  {
   "cell_type": "code",
   "execution_count": 48,
   "metadata": {},
   "outputs": [],
   "source": [
    "def test_display(seed, dataloader, h_state, c_state, model, device):\n",
    "    # Fetch a datapoint\n",
    "    torch.manual_seed(seed)\n",
    "    data = next(iter(train_dataloader))\n",
    "    inputs_test = data[0]\n",
    "    outputs_test = data[1]\n",
    "\n",
    "    # Initialize hidden state and forward pass\n",
    "    h_state.to(device)\n",
    "    c_state.to(device)\n",
    "    pred, h_state, c_state = model(inputs_test.to(device), (h_state, c_state))\n",
    "    pred_display = pred.detach().cpu()\n",
    "    print(pred_display.shape)\n",
    "    \n",
    "    # Display\n",
    "    plt.scatter(inputs_test[:, 0], outputs_test[:, 0], c = \"r\", label = \"Targets\")\n",
    "    plt.scatter(inputs_test[:, 0], pred_display[:, 0], c = \"g\", marker = \"x\", label = \"Predictions\")\n",
    "    plt.legend(loc = \"best\")\n",
    "    plt.ylim(-1.05, 1.05)\n",
    "    plt.show()"
   ]
  },
  {
   "cell_type": "code",
   "execution_count": 49,
   "metadata": {},
   "outputs": [
    {
     "name": "stdout",
     "output_type": "stream",
     "text": [
      "torch.Size([32, 1])\n"
     ]
    },
    {
     "data": {
      "image/png": "[encoded data removed]",
      "text/plain": [
       "<Figure size 640x480 with 1 Axes>"
      ]
     },
     "metadata": {},
     "output_type": "display_data"
    }
   ],
   "source": [
    "# Try it\n",
    "test_display(seed = 5, dataloader = train_dataloader, h_state = h_state, c_state = c_state, model = model, device = device)"
   ]
  },
  {
   "cell_type": "markdown",
   "metadata": {},
   "source": [
    "### What's next?\n",
    "\n",
    "..."
   ]
  },
  {
   "cell_type": "code",
   "execution_count": null,
   "metadata": {},
   "outputs": [],
   "source": []
  }
 ],
 "metadata": {
  "kernelspec": {
   "display_name": "Python 3 (ipykernel)",
   "language": "python",
   "name": "python3"
  },
  "language_info": {
   "codemirror_mode": {
    "name": "ipython",
    "version": 3
   },
   "file_extension": ".py",
   "mimetype": "text/x-python",
   "name": "python",
   "nbconvert_exporter": "python",
   "pygments_lexer": "ipython3",
   "version": "3.10.7"
  }
 },
 "nbformat": 4,
 "nbformat_minor": 2
}
