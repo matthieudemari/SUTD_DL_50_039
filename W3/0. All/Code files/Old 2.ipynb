{
 "cells": [
  {
   "cell_type": "markdown",
   "metadata": {
    "id": "vTnrBG0mD-oH"
   },
   "source": [
    "#**torch.nn**\n"
   ]
  },
  {
   "cell_type": "markdown",
   "metadata": {
    "id": "xFbcOVLb51_e"
   },
   "source": [
    "Neural networks comprise of layers/modules that perform operations on data. The ```torch.nn``` namespace provides all the building blocks you need to build your own neural network. Every module in PyTorch subclasses the nn.Module. A neural network is a module itself that consists of other modules (layers). This nested structure allows for building and managing complex architectures easily."
   ]
  },
  {
   "cell_type": "markdown",
   "metadata": {
    "id": "PYYrqRU6yO2e"
   },
   "source": [
    "[torch.nn](https://pytorch.org/docs/stable/nn.html)"
   ]
  },
  {
   "cell_type": "code",
   "execution_count": null,
   "metadata": {
    "id": "kuLwdl2WqMUL"
   },
   "outputs": [],
   "source": [
    "import torch\n",
    "import torch.nn as nn"
   ]
  },
  {
   "cell_type": "markdown",
   "metadata": {
    "id": "3FhQRIqajKQw"
   },
   "source": [
    "#**Activation Functions**"
   ]
  },
  {
   "cell_type": "markdown",
   "metadata": {
    "id": "eIp81sPD5y8Z"
   },
   "source": [
    "PyTorch implements a number of activation functions including but not limited to ReLU, Tanh, and Sigmoid. Since they are modules, they need to be instantiated."
   ]
  },
  {
   "cell_type": "markdown",
   "metadata": {
    "id": "gZrn-uk24yYE"
   },
   "source": [
    "Sigmoid\n",
    "-------------"
   ]
  },
  {
   "cell_type": "markdown",
   "metadata": {
    "id": "CTSMJn36lTIr"
   },
   "source": [
    "A sigmoid layer applies a sigmoid function to the input such that the output is bounded in the interval (0,1)."
   ]
  },
  {
   "cell_type": "code",
   "execution_count": null,
   "metadata": {
    "colab": {
     "base_uri": "https://localhost:8080/"
    },
    "id": "Yw6ul28KlTcF",
    "outputId": "510592e1-bcba-4987-e96c-dc2dde352b21"
   },
   "outputs": [
    {
     "name": "stdout",
     "output_type": "stream",
     "text": [
      "example_tensor tensor([-1.,  1.,  0.])\n",
      "activated tensor([0.2689, 0.7311, 0.5000])\n"
     ]
    }
   ],
   "source": [
    "activation_fn = nn.Sigmoid() # we instantiate an instance of the Sigmoid module\n",
    "example_tensor = torch.tensor([-1.0, 1.0, 0.0])\n",
    "activated = activation_fn(example_tensor)\n",
    "print('example_tensor', example_tensor)\n",
    "print('activated', activated)"
   ]
  },
  {
   "cell_type": "markdown",
   "metadata": {
    "id": "b4LmUFqZlYBU"
   },
   "source": [
    "Tanh\n",
    "----------------------------"
   ]
  },
  {
   "cell_type": "markdown",
   "metadata": {
    "id": "F4zcaqfXlzSE"
   },
   "source": [
    "A tanh activation layer applies the tanh function on the layer inputs."
   ]
  },
  {
   "cell_type": "code",
   "execution_count": null,
   "metadata": {
    "colab": {
     "base_uri": "https://localhost:8080/"
    },
    "id": "e2sXHKx3lzet",
    "outputId": "906fd731-fb2d-4bc9-c1b6-b9292ae2db44"
   },
   "outputs": [
    {
     "name": "stdout",
     "output_type": "stream",
     "text": [
      "example_tensor tensor([-1.,  1.,  0.])\n",
      "activated tensor([-0.7616,  0.7616,  0.0000])\n"
     ]
    }
   ],
   "source": [
    "activation_fn = nn.Tanh() # we instantiate an instance of the Tanh module\n",
    "example_tensor = torch.tensor([-1.0, 1.0, 0.0])\n",
    "activated = activation_fn(example_tensor)\n",
    "print('example_tensor', example_tensor)\n",
    "print('activated', activated)"
   ]
  },
  {
   "cell_type": "markdown",
   "metadata": {
    "id": "Ely_OBacl048"
   },
   "source": [
    "ReLU\n",
    "-------------"
   ]
  },
  {
   "cell_type": "markdown",
   "metadata": {
    "id": "_IYoP0gol048"
   },
   "source": [
    "A ReLU layer performs a threshold operation to each element of the input, where any negative input is set to zero and it returns any positive input back."
   ]
  },
  {
   "cell_type": "code",
   "execution_count": null,
   "metadata": {
    "colab": {
     "base_uri": "https://localhost:8080/"
    },
    "id": "dsVFVPIel049",
    "outputId": "45a7120d-0d1d-4631-dc24-e5acce5ccbbe"
   },
   "outputs": [
    {
     "name": "stdout",
     "output_type": "stream",
     "text": [
      "example_tensor tensor([-1.,  1.,  0.])\n",
      "activated tensor([0., 1., 0.])\n"
     ]
    }
   ],
   "source": [
    "activation_fn = nn.ReLU() # we instantiate an instance of the ReLU module\n",
    "example_tensor = torch.tensor([-1.0, 1.0, 0.0])\n",
    "activated = activation_fn(example_tensor)\n",
    "print('example_tensor', example_tensor)\n",
    "print('activated', activated)"
   ]
  },
  {
   "cell_type": "markdown",
   "metadata": {
    "id": "o1l54cVKl_jI"
   },
   "source": [
    "ELU\n",
    "----------------------------"
   ]
  },
  {
   "cell_type": "markdown",
   "metadata": {
    "id": "RPqNmqIjl_jI"
   },
   "source": [
    "An ELU activation layer performs the identity operation on positive inputs and an exponential nonlinearity on negative inputs.\n"
   ]
  },
  {
   "cell_type": "code",
   "execution_count": null,
   "metadata": {
    "colab": {
     "base_uri": "https://localhost:8080/"
    },
    "id": "2FhVJ4B0l_jI",
    "outputId": "8919cc34-901c-47ee-f587-157a38009d4d"
   },
   "outputs": [
    {
     "name": "stdout",
     "output_type": "stream",
     "text": [
      "example_tensor tensor([-1.,  1.,  0.])\n",
      "activated tensor([-0.6321,  1.0000,  0.0000])\n"
     ]
    }
   ],
   "source": [
    "\n",
    "activation_fn = nn.ELU() # we instantiate an instance of the ELU module\n",
    "example_tensor = torch.tensor([-1.0, 1.0, 0.0])\n",
    "activated = activation_fn(example_tensor)\n",
    "print('example_tensor', example_tensor)\n",
    "print('activated', activated) # exp(-1)-1, 1, 0"
   ]
  },
  {
   "cell_type": "markdown",
   "metadata": {
    "id": "VEctFzUm31sV"
   },
   "source": [
    "#**Loss functions**"
   ]
  },
  {
   "cell_type": "markdown",
   "metadata": {
    "id": "0XlBPI8q30Wz"
   },
   "source": [
    "PyTorch implements many common loss functions including `MSE Loss`, and `CrossEntropy Loss`.\n",
    "\n",
    "You have studied these loss functions in Week 3. Please check your lecture slides to remember them if needed.\n"
   ]
  },
  {
   "cell_type": "markdown",
   "metadata": {
    "id": "_7WySJJVtGIG"
   },
   "source": [
    "MSE Loss\n",
    "-------------"
   ]
  },
  {
   "cell_type": "markdown",
   "metadata": {
    "id": "K0mqXlbCJMiH"
   },
   "source": [
    "In general, mean squared error (MSE) is the most commonly used loss function for regression task."
   ]
  },
  {
   "cell_type": "code",
   "execution_count": null,
   "metadata": {
    "colab": {
     "base_uri": "https://localhost:8080/"
    },
    "id": "z8amTVx34FWw",
    "outputId": "fd9f182d-9130-45ef-c6a4-ab0240d770a1"
   },
   "outputs": [
    {
     "name": "stdout",
     "output_type": "stream",
     "text": [
      "tensor(0.6667)\n"
     ]
    }
   ],
   "source": [
    "mse_loss_fn = nn.MSELoss() # construct MSE loss\n",
    "\n",
    "# create input and target\n",
    "input = torch.tensor([[0., 0, 0]])\n",
    "target = torch.tensor([[1., 0, -1]])\n",
    "\n",
    "loss = mse_loss_fn(input, target) # compute MSE loss of the input and target\n",
    "\n",
    "print(loss)"
   ]
  },
  {
   "cell_type": "markdown",
   "metadata": {
    "id": "NsnWRm147Ncs"
   },
   "source": [
    "CrossEntropyLoss\n",
    "--------------------------------"
   ]
  },
  {
   "cell_type": "markdown",
   "metadata": {
    "id": "vxw4AxY37RJS"
   },
   "source": [
    "Cross-entropy loss measures the performance of a classification model whose output is a probability value between 0 and 1. \n",
    "It is useful when training a classification problem with **C** classes. PyTorch implements a version of the cross entropy loss in one module called [CrossEntropyLoss](https://pytorch.org/docs/stable/nn.html#torch.nn.CrossEntropyLoss). It combines `logsoftmax` and `nll_loss` in a single function. "
   ]
  },
  {
   "cell_type": "markdown",
   "metadata": {
    "id": "XM4F5Du1Q-Y1"
   },
   "source": [
    "\n",
    "$logsoftmax(x) = log\\frac{e^{x_i}}{\\sum_{j}e^{x_j}}$\n",
    "\n",
    "$loss = nll\\_loss(logsoftmax(input,target)) = -\\frac{1}{N}\\sum_{i=1}^{N} y_i(logsoftmax)$\n",
    "\n",
    "where $y_i$ is one-hot label after encoding."
   ]
  },
  {
   "cell_type": "code",
   "execution_count": null,
   "metadata": {
    "id": "CCFzuXGUQBkq"
   },
   "outputs": [],
   "source": [
    "'''\n",
    "loss = nn.CrossEntropyLoss() # Define the loss\n",
    "output = loss(input, target) # have 2 parameters\n",
    "'''"
   ]
  },
  {
   "cell_type": "markdown",
   "metadata": {
    "id": "F83FSW8BOGeP"
   },
   "source": [
    "- input: The first parameter to CrossEntropyLoss is the output of our network. It is expected to contain raw, unnormalized scores for each class. It has to be a Tensor of size $(N,C)$. $N$ is the minibatch size and $C$ is the number of classes.\n",
    "\n",
    "- target: The second parameter to CrossEntropyLoss is the true label. It expects an *integer valued* tensor of dimension $(N)$.\n",
    "\n",
    "- output: The result for CrossEntropyLoss loss.The lower output means the network conduct a better prediction. And the loss increases as the predicted probability diverges from the actual label"
   ]
  },
  {
   "cell_type": "markdown",
   "metadata": {
    "id": "BbLxF9LZQtua"
   },
   "source": [
    "**Example:** Try out the loss function on three toy predictions. The true class labels are $y=[1,1,0]$.\n"
   ]
  },
  {
   "cell_type": "code",
   "execution_count": 8,
   "metadata": {
    "colab": {
     "base_uri": "https://localhost:8080/"
    },
    "id": "pRN07Hui7dHv",
    "outputId": "a5eaff1f-5603-44e2-e235-211467762d83"
   },
   "outputs": [
    {
     "name": "stdout",
     "output_type": "stream",
     "text": [
      "Actual class:tensor([1, 1, 0]), Prediction class: tensor([1, 1, 0])\n",
      "mathematical result: 0.0018\n",
      "function result: 0.0018\n",
      "direct result: 0.0018\n"
     ]
    }
   ],
   "source": [
    "import torch\n",
    "import torch.nn as nn\n",
    "import torch.nn.functional as F\n",
    "\n",
    "# input is of size nBatch x nClasses = 3 x 2\n",
    "# input must be raw, unnormalizes scores (logits) for each class\n",
    "input = torch.tensor(\n",
    "    [[-1., 1], # the score for class 0: -1, the score for class 1: 1; -1< 1; -> predict class 1\n",
    "     [-2, 2],  # predict class 1\n",
    "     [1, -1]]) # predict class 0 \n",
    "# raw scores correspond to the correct class\n",
    "\n",
    "#input = torch.tensor([[-3., 3],[-3, 3],[4, -4]]) # raw scores correspond to the correct class with higher confidence\n",
    "#input = torch.tensor([[1., -1],[1, -1],[-1, 1]]) # raw scores correspond to the incorrect class\n",
    "#input = torch.tensor([[3., -3],[3, -3],[-3, 3]]) # raw scores correspond to the incorrect class with incorrectly placed confidence\n",
    "\n",
    "# verify the predicted class for input\n",
    "_, predictions = torch.max(input, 1)\n",
    "\n",
    "# target is of size nBatch = 3 \n",
    "# each element has class label: 0, 1\n",
    "target = torch.tensor([1, 1, 0])\n",
    "print(f'Actual class:{target}, Prediction class: {predictions}')\n",
    "\n",
    "## use math method to calculate cross entropy loss\n",
    "softmax = torch.exp(input)/torch.sum(torch.exp(input), dim = 1).reshape(-1, 1)\n",
    "logsoftmax = torch.log(softmax)\n",
    "\n",
    "one_hot = F.one_hot(target).float()\n",
    "\n",
    "output1 = -torch.sum(one_hot*logsoftmax)/target.shape[0]\n",
    "print(f'mathematical result: {output1:.4f}')\n",
    "\n",
    "## use torch.nn.function to calculate cross entropy loss\n",
    "logsoftmax = F.log_softmax(input, dim = 1)\n",
    "output2 = F.nll_loss(logsoftmax, target) # not need to encoder labels to one hot vector \n",
    "print(f'function result: {output2:.4f}')\n",
    "\n",
    "## directly use torch.nn.CrossEntropyLoss\n",
    "loss = nn.CrossEntropyLoss() # applies logsoftmax and encoder labels to one-hot vector\n",
    "output3 = loss(input, target)\n",
    "print(f'direct result: {output2:.4f}')"
   ]
  },
  {
   "cell_type": "markdown",
   "metadata": {
    "id": "sLz6J3M7Nh8u"
   },
   "source": [
    "\n",
    "The first two examples correspond to predictions that are \"correct\" in that they have higher raw scores for the correct class. \n",
    "\n",
    "The second example is \"more confident\" in the prediction, leading to a smaller loss.\n",
    "\n",
    "The last two examples are incorrect predictions with lower and higher confidence respectively."
   ]
  },
  {
   "cell_type": "markdown",
   "metadata": {
    "id": "otJbksgI391z"
   },
   "source": [
    "#**Optimization**"
   ]
  },
  {
   "cell_type": "markdown",
   "metadata": {
    "id": "RTsEcgTR4LOi"
   },
   "source": [
    "torch.optim\n",
    "------------------------"
   ]
  },
  {
   "cell_type": "markdown",
   "metadata": {
    "id": "b_SHPqjt4bWx"
   },
   "source": [
    "PyTorch implements a number of gradient-based optimization methods in `torch.optim`, including Gradient Descent. At the minimum, it takes in the model parameters and a learning rate.\n",
    "\n",
    "[torch.optim ](https://pytorch.org/docs/stable/optim.html)"
   ]
  },
  {
   "cell_type": "markdown",
   "metadata": {
    "id": "7sPDLkvCdEkY"
   },
   "source": [
    "Construct an optimizer\n",
    "------------------------"
   ]
  },
  {
   "cell_type": "markdown",
   "metadata": {
    "id": "5hqLlNvldK8Q"
   },
   "source": [
    "To construct an optimizer you have to give it an iterable containing the parameters (all should be Variable s) to optimize. Then, you can specify optimizer-specific options such as the learning rate, weight decay, etc.\n",
    "\n",
    "Example:"
   ]
  },
  {
   "cell_type": "code",
   "execution_count": null,
   "metadata": {
    "id": "sMM9_VBPdZ_1"
   },
   "outputs": [],
   "source": [
    "# optimizer = optim.SGD(model.parameters(), lr=0.01, momentum=0.9) Construct an optimizer using stochastic gradient descent (SGD)\n",
    "# optimizer = optim.Adam([var1, var2], lr=0.0001) Construct an optimizer using Adam"
   ]
  },
  {
   "cell_type": "markdown",
   "metadata": {
    "id": "RpAh8IqRd24l"
   },
   "source": [
    "Adam is an adaptive learning rate optimization algorithm that’s been designed specifically for training deep neural networks. The algorithms leverages the power of adaptive learning rates methods to find individual learning rates for each parameter. \n",
    "\n",
    "Pytorch doc: [Adam](https://pytorch.org/docs/stable/generated/torch.optim.Adam.html#torch.optim.Adam)\n",
    "\n",
    "\n",
    "Paper: [Adam: A Method for Stochastic Optimization](https://arxiv.org/abs/1412.6980)"
   ]
  },
  {
   "cell_type": "markdown",
   "metadata": {
    "id": "PuGPGB6Bf1Ci"
   },
   "source": [
    "Apply an optimizer\n",
    "------------------------\n",
    "All optimizers implement a step() method, that updates the parameters. This is a simplified version supported by most optimizers. The function can be called once the gradients are computed using e.g. backward()."
   ]
  },
  {
   "cell_type": "code",
   "execution_count": null,
   "metadata": {
    "id": "hYxCQkrKgMCv"
   },
   "outputs": [],
   "source": [
    "'''\n",
    "for input, target in dataset:\n",
    "    optimizer.zero_grad()\n",
    "    output = model(input)\n",
    "    loss = loss_fn(output, target)\n",
    "    loss.backward()\n",
    "    optimizer.step()\n",
    "'''"
   ]
  },
  {
   "cell_type": "markdown",
   "metadata": {
    "id": "CC-7fukP9ocv"
   },
   "source": [
    "Example: Use stochastic gradient descent optimization method\n"
   ]
  },
  {
   "cell_type": "code",
   "execution_count": null,
   "metadata": {
    "colab": {
     "base_uri": "https://localhost:8080/"
    },
    "id": "EEi20i7R58Ph",
    "outputId": "abe822f7-02bd-4a2c-8685-3b6bdb5f305a"
   },
   "outputs": [
    {
     "name": "stdout",
     "output_type": "stream",
     "text": [
      "model params before: Parameter containing:\n",
      "tensor([[-0.7717]], requires_grad=True)\n",
      "model params after: Parameter containing:\n",
      "tensor([[-0.6998]], requires_grad=True)\n"
     ]
    }
   ],
   "source": [
    "# create a simple model\n",
    "model = nn.Linear(1, 1)\n",
    "\n",
    "# create a simple dataset\n",
    "X_simple = torch.tensor([[1.]])\n",
    "y_simple = torch.tensor([[2.]])\n",
    "\n",
    "# create our optimizer\n",
    "optim = torch.optim.SGD(model.parameters(), lr=1e-2)\n",
    "# optim = optim.Adam(model.parameters(), lr=0.0001) \n",
    "\n",
    "# create loss function\n",
    "mse_loss_fn = nn.MSELoss()\n",
    "\n",
    "# apply our optimizer \n",
    "\n",
    "y_predicted = model(X_simple)\n",
    "print('model params before:', model.weight)\n",
    "loss = mse_loss_fn(y_predicted , y_simple)\n",
    "optim.zero_grad()\n",
    "loss.backward()\n",
    "optim.step()\n",
    "print('model params after:', model.weight)"
   ]
  },
  {
   "cell_type": "markdown",
   "metadata": {
    "id": "EGpJ_C7AapQ4"
   },
   "source": [
    "#**Train Pipeline**"
   ]
  },
  {
   "cell_type": "markdown",
   "metadata": {
    "id": "go6SutZzayj-"
   },
   "source": [
    "0) Preprocess data\n",
    "\n",
    "1) Design model (input, output, forward pass with different layers)\n",
    "\n",
    "2) Construct loss and optimizer\n",
    "\n",
    "3) Training loop\n",
    "  - Forward = compute prediction and loss\n",
    "  - Backward = compute gradients\n",
    "  - Update weights"
   ]
  },
  {
   "cell_type": "markdown",
   "metadata": {
    "id": "SGJdjN4abUHY"
   },
   "source": [
    "Example from Practice Session 1 -- Linear Module\n",
    "------------------------------------------"
   ]
  },
  {
   "cell_type": "markdown",
   "metadata": {
    "id": "qmsUKRuKbf-Q"
   },
   "source": [
    "Assume we have $x$ = {1, 2, 3, 4} and $y$ = {2, 4, 6, 8} and we also know $y = wx$. Please find the weights $w$ and predict the value of $y$ when $x$ = 5."
   ]
  },
  {
   "cell_type": "code",
   "execution_count": null,
   "metadata": {
    "colab": {
     "base_uri": "https://localhost:8080/"
    },
    "id": "aMgvZKIKa5N_",
    "outputId": "6c9c2299-4ae3-45e5-a504-03f0bdfab74b"
   },
   "outputs": [
    {
     "name": "stdout",
     "output_type": "stream",
     "text": [
      "#samples: 4, #features: 1\n",
      "Prediction before training: f(5) = -4.606\n",
      "0,\t68.42,\t[-0.32232922]\n",
      "10,\t1.78,\t[1.5738813]\n",
      "20,\t0.05,\t[1.8804379]\n",
      "30,\t0.01,\t[1.9312541]\n",
      "40,\t0.00,\t[1.9408906]\n",
      "50,\t0.00,\t[1.9438599]\n",
      "60,\t0.00,\t[1.9457151]\n",
      "70,\t0.00,\t[1.9473501]\n",
      "80,\t0.00,\t[1.9489105]\n",
      "90,\t0.00,\t[1.9504205]\n",
      "Prediction after training: f(5) = 9.901\n"
     ]
    }
   ],
   "source": [
    "import torch\n",
    "import torch.nn as nn\n",
    "\n",
    "# f = w * x \n",
    "\n",
    "# here : f = 2 * x\n",
    "\n",
    "# 0) Create training samples\n",
    "X = torch.tensor([[1], [2], [3], [4]], dtype=torch.float32) # 2D array\n",
    "Y = torch.tensor([[2], [4], [6], [8]], dtype=torch.float32)\n",
    "\n",
    "### w = torch.tensor(0.0, dtype=torch.float32, requires_grad=True) -> model.parameters()/model.weights()\n",
    "\n",
    "n_samples, n_features = X.shape\n",
    "print(f'#samples: {n_samples}, #features: {n_features}')\n",
    "# 0) create a test sample\n",
    "X_test = torch.tensor([5], dtype=torch.float32)\n",
    "\n",
    "# 1) Design Model, the model has to implement the forward pass\n",
    "# Here we can use a built-in model from PyTorch\n",
    "input_size = n_features\n",
    "output_size = n_features\n",
    "\n",
    "# we can call this model with samples X\n",
    "model = nn.Linear(input_size, output_size) # Takes the input and output dimensions as parameters, and creates the weights in the object.\n",
    "\n",
    "# Define a class model, which is more common.\n",
    "'''\n",
    "class LinearRegression(nn.Module):\n",
    "    def __init__(self, input_dim, output_dim):\n",
    "        super(LinearRegression, self).__init__()\n",
    "        # define diferent layers\n",
    "        self.lin = nn.Linear(input_dim, output_dim)\n",
    "    def forward(self, x):\n",
    "        return self.lin(x)\n",
    "model = LinearRegression(input_size, output_size)\n",
    "'''\n",
    "\n",
    "print(f'Prediction before training: f(5) = {model(X_test).item():.3f}') # model(tensor) # Tensor.item returns the value of this tensor as a standard Python number. This only works for tensors with one element. \n",
    "\n",
    "# 2) Define loss and optimizer\n",
    "learning_rate = 0.01\n",
    "n_iters = 100\n",
    "\n",
    "loss = nn.MSELoss()\n",
    "optimizer = torch.optim.SGD(model.parameters(), lr=learning_rate) # model.parameters() = weights\n",
    "\n",
    "# 3) Training loop\n",
    "for epoch in range(n_iters):\n",
    "    # predict = forward pass with our model\n",
    "    y_predicted = model(X)\n",
    "\n",
    "    # loss\n",
    "    l = loss(Y, y_predicted)\n",
    "\n",
    "    # calculate gradients = backward pass\n",
    "    l.backward()\n",
    "\n",
    "    # update weights\n",
    "    optimizer.step()\n",
    "    ### with torch.no_grad():\n",
    "      ### w.data -= learning_rate * w.grad\n",
    "\n",
    "    # zero the gradients after updating\n",
    "    optimizer.zero_grad()\n",
    "\n",
    "    if epoch % 10 == 0:\n",
    "        [w, b] = model.parameters() # unpack parameters\n",
    "        print('{},\\t{:.2f},\\t{}'.format(epoch, l.item(), model.weight.view(1).detach().numpy()))\n",
    "\n",
    "        \n",
    "\n",
    "print(f'Prediction after training: f(5) = {model(X_test).item():.3f}')"
   ]
  },
  {
   "cell_type": "markdown",
   "metadata": {
    "id": "3USfpsaXmEGX"
   },
   "source": [
    "Unlike how we initialized our  $w$  manually, the Linear module automatically initializes the weights randomly. For minimizing non convex loss functions (e.g. training neural networks), initialization is important and can affect results."
   ]
  },
  {
   "cell_type": "markdown",
   "metadata": {
    "id": "TA61xza16Uqx"
   },
   "source": [
    "An example using SGD\n",
    "-----------------------------------------"
   ]
  },
  {
   "cell_type": "markdown",
   "metadata": {
    "id": "wBMyk3Fe6aZc"
   },
   "source": [
    "In the previous example, we computed the average gradient over the entire dataset (Gradient Descent). \n",
    "\n",
    "We can implement Stochastic Gradient Descent with a simple example."
   ]
  },
  {
   "cell_type": "code",
   "execution_count": null,
   "metadata": {
    "colab": {
     "base_uri": "https://localhost:8080/"
    },
    "id": "PYGUfgxw6Q57",
    "outputId": "e7d5ae2c-39b6-4ba7-ec98-ff18021bf831"
   },
   "outputs": [
    {
     "name": "stdout",
     "output_type": "stream",
     "text": [
      "iter,\tloss,\tw\n",
      "0,\t4.39,\t[-0.03254028 -0.01029856]\n",
      "20,\t2.11,\t[-0.642412   0.6455283]\n",
      "40,\t1.57,\t[-0.82627547  0.85107803]\n",
      "60,\t1.66,\t[-0.94858325  1.3315189 ]\n",
      "80,\t1.00,\t[-1.071996   1.5220559]\n",
      "100,\t0.07,\t[-1.0877447  1.6229335]\n",
      "120,\t0.05,\t[-1.0702426  1.6688992]\n",
      "140,\t0.14,\t[-1.0652051  1.7421176]\n",
      "160,\t0.02,\t[-1.0745375  1.7875966]\n",
      "180,\t0.01,\t[-1.0481572  1.8397346]\n",
      "\n",
      "true w\t\t [-1.  2.]\n",
      "estimated w\t [-1.0531844  1.8696793]\n"
     ]
    }
   ],
   "source": [
    "import numpy as np\n",
    "# make a simple linear dataset with some noise\n",
    "\n",
    "# 0) Training samples\n",
    "d = 2\n",
    "n = 50\n",
    "X = torch.randn(n,d)\n",
    "true_w = torch.tensor([[-1.0], [2.0]])\n",
    "# 0) create a test sample\n",
    "Y = X @ true_w + torch.randn(n,1) * 0.1\n",
    "\n",
    "# 1) Design Model\n",
    "model = nn.Linear(d, 1)\n",
    "\n",
    "# 2) Define loss and optimizer\n",
    "learning_rate = 0.01\n",
    "n_iters = 200\n",
    "\n",
    "loss = nn.MSELoss()\n",
    "optim = torch.optim.SGD(model.parameters(), lr=learning_rate)\n",
    "\n",
    "print('iter,\\tloss,\\tw')\n",
    "\n",
    "# 3) Training loop\n",
    "for i in range(n_iters):\n",
    "    rand_idx = np.random.choice(n) # take a random point from the dataset\n",
    "    x = X[rand_idx]\n",
    "\n",
    "    # predict = forward pass with our model \n",
    "    y_predicted = model(x)\n",
    "\n",
    "    # loss\n",
    "    l = loss(Y[rand_idx],y_predicted) # only compute the loss on the single point\n",
    "    \n",
    "    # calculate gradients = backward pass\n",
    "    l.backward()\n",
    "   \n",
    "    # update weights\n",
    "    optim.step()\n",
    "\n",
    "    # zero the gradients after updating\n",
    "    optim.zero_grad()\n",
    "    \n",
    "    if i % 20 == 0:\n",
    "        print('{},\\t{:.2f},\\t{}'.format(i, l.item(), model.weight.view(2).detach().numpy()))\n",
    "\n",
    "print('\\ntrue w\\t\\t', true_w.view(2).numpy())\n",
    "print('estimated w\\t', model.weight.view(2).detach().numpy())"
   ]
  },
  {
   "cell_type": "markdown",
   "metadata": {
    "id": "BHVsgcOq4V0K"
   },
   "source": [
    "#**Weights Initialization**"
   ]
  },
  {
   "cell_type": "markdown",
   "metadata": {
    "id": "SxuHxnzuju4d"
   },
   "source": [
    "Weights initialization is important and can affect results.PyTorch implements some common initializations in [torch.nn.init](https://pytorch.org/docs/stable/nn.init.html)."
   ]
  },
  {
   "cell_type": "markdown",
   "metadata": {
    "id": "LLRqFFg3m-fW"
   },
   "source": [
    "Single layer\n",
    "------------------------------"
   ]
  },
  {
   "cell_type": "markdown",
   "metadata": {
    "id": "av2VfhFjC5CD"
   },
   "source": [
    "To initialize the weights of a single layer, use a function from [torch.nn.init](https://pytorch.org/docs/stable/nn.init.html).\n",
    "\n",
    "For instance:"
   ]
  },
  {
   "cell_type": "code",
   "execution_count": null,
   "metadata": {
    "colab": {
     "base_uri": "https://localhost:8080/"
    },
    "id": "FUv4NVVLm-v2",
    "outputId": "9e32e1ce-000e-40b2-f174-aa8b040e194b"
   },
   "outputs": [
    {
     "name": "stdout",
     "output_type": "stream",
     "text": [
      "Example 1:\n",
      " tensor([[0.1276, 0.5158],\n",
      "        [0.2473, 0.6403]])\n",
      "Example 2:\n",
      " tensor([[0.5000, 0.5000],\n",
      "        [0.5000, 0.5000]])\n",
      "Example 3:\n",
      " tensor([[1., 1.],\n",
      "        [1., 1.]])\n"
     ]
    }
   ],
   "source": [
    "# create a model\n",
    "model = nn.Linear(2, 2)\n",
    "\n",
    "# weight initialization by using functions from torch.nn.init\n",
    "\n",
    "weights = torch.nn.init.uniform_(model.weight, a=0.0, b=1.0) # Fills the input Tensor with values drawn from the uniform distribution U(a,b).\n",
    "print('Example 1:\\n',weights.data) \n",
    "\n",
    "con_weight = torch.nn.init.constant_(model.weight, 0.5) # Fills the input Tensor with the value 0.5.\n",
    "print('Example 2:\\n',con_weight.data)\n",
    "\n",
    "ones_weight = torch.nn.init.ones_(model.weight) # Fills the input Tensor with the scalar value 1.\n",
    "print('Example 3:\\n',con_weight.data) \n"
   ]
  },
  {
   "cell_type": "markdown",
   "metadata": {
    "id": "MxpRpuL73o_G"
   },
   "source": [
    "#**Logistic Regression Example**"
   ]
  },
  {
   "cell_type": "markdown",
   "metadata": {
    "id": "QKeY2NkToZni"
   },
   "source": [
    "Implement a logistic regression model to do image classification task based on MNIST dataset.\n",
    "\n",
    "[MNIST](http://yann.lecun.com/exdb/mnist/)"
   ]
  },
  {
   "cell_type": "code",
   "execution_count": 1,
   "metadata": {
    "colab": {
     "base_uri": "https://localhost:8080/",
     "height": 544,
     "referenced_widgets": [
      "9fd0b2063051466c8198c3c2d0e881e9",
      "2655b859270d4a80a2525a158c134426",
      "0e3720628dbd4e609d3bbedaad0caf56",
      "f3afefd1a9c84aa1a784e51c23c4ab77",
      "cea4557a4b6b48c39b4624e484209d21",
      "17f6148cd3f742c082431c90afc989fd",
      "54529acc7df64f1a88185cf5c1adab45",
      "8ed921c4800f436db88e3ee4f05afdde",
      "eb5837dd0b714f7e82b18ffb967f3faa",
      "3d6b1405b9cb4614aa533a080d91cc25",
      "6e7c3f9bd91e4bfea42fb831d0e184b5",
      "45cd077723ee4813af07a87b9fe5e1e8",
      "fe6749ea76224467ae69fd207e9aba4c",
      "49ff658c97414de6b46442a1fcf7c38d",
      "32c1cb285afe4d78a8495cd26f8ae3fd",
      "017b9c2dc0db42128ffaf0e65319db08",
      "720c5aaebabb4c8a8bf204d86477345d",
      "c6d7688352bf406c9190bb45f4785731",
      "078f21a0612b401aa9d8b51da24709c0",
      "02d2a0c576ac458f897e44693d3cd243",
      "1dadce232d3344689026a72f74b4278c",
      "b6288a5f4272424bb12fbfb36b002baa",
      "c67343393c7c421384517206208ccd73",
      "449e77f4829d47aaa7a60a44da15a3e6",
      "2e915a9cb7f14bc89cff1a2dfba50a5e",
      "1888433668a24c168c20f11281017903",
      "93ea0df1ee30421a803fe81505bb9253",
      "a492f4a66c0f4fff8604d7065b7dc40b",
      "674c4cdb0c77414fa678171e463dee9a",
      "0aac94e0ff2f4795962c89e7220383ca",
      "284da5cc6bb54aa186ad5bf762ff1959",
      "7324c91128844db1b098f70e32e4d4c8",
      "0a6ed079591f426cbd1feea05a01496c",
      "57c07541097647f5aad195ca5e9e2313",
      "8f8e73167dde43dbbf312c814a514b65",
      "42ccda8330d04abea1f6e3bb58bd8336",
      "4c437fc1a4e14b7cb151d1143b0d84ae",
      "952cdbb35b0546bd9153e085d0b80fbf",
      "23c53312f5424b33b837d73d116c5a13",
      "3a4686e5bbb64a6394d7988b92fddf7b",
      "d6aabb69cdfc4944ad6c951164adb1bd",
      "0e6549067a4b4c62b4778089c7875486",
      "332236d313574dc2b9390def3c3ce339",
      "c24be671685a4a919d1d4c80cc6927cf"
     ]
    },
    "id": "uyO6TbxD4Skx",
    "outputId": "477485e7-3aa1-49e6-be22-a53bee41ed0d"
   },
   "outputs": [
    {
     "name": "stdout",
     "output_type": "stream",
     "text": [
      "Downloading http://yann.lecun.com/exdb/mnist/train-images-idx3-ubyte.gz\n",
      "Downloading http://yann.lecun.com/exdb/mnist/train-images-idx3-ubyte.gz to ./data/MNIST/raw/train-images-idx3-ubyte.gz\n"
     ]
    },
    {
     "data": {
      "application/vnd.jupyter.widget-view+json": {
       "model_id": "9fd0b2063051466c8198c3c2d0e881e9",
       "version_major": 2,
       "version_minor": 0
      },
      "text/plain": [
       "  0%|          | 0/9912422 [00:00<?, ?it/s]"
      ]
     },
     "metadata": {},
     "output_type": "display_data"
    },
    {
     "name": "stdout",
     "output_type": "stream",
     "text": [
      "Extracting ./data/MNIST/raw/train-images-idx3-ubyte.gz to ./data/MNIST/raw\n",
      "\n",
      "Downloading http://yann.lecun.com/exdb/mnist/train-labels-idx1-ubyte.gz\n",
      "Downloading http://yann.lecun.com/exdb/mnist/train-labels-idx1-ubyte.gz to ./data/MNIST/raw/train-labels-idx1-ubyte.gz\n"
     ]
    },
    {
     "data": {
      "application/vnd.jupyter.widget-view+json": {
       "model_id": "45cd077723ee4813af07a87b9fe5e1e8",
       "version_major": 2,
       "version_minor": 0
      },
      "text/plain": [
       "  0%|          | 0/28881 [00:00<?, ?it/s]"
      ]
     },
     "metadata": {},
     "output_type": "display_data"
    },
    {
     "name": "stdout",
     "output_type": "stream",
     "text": [
      "Extracting ./data/MNIST/raw/train-labels-idx1-ubyte.gz to ./data/MNIST/raw\n",
      "\n",
      "Downloading http://yann.lecun.com/exdb/mnist/t10k-images-idx3-ubyte.gz\n",
      "Downloading http://yann.lecun.com/exdb/mnist/t10k-images-idx3-ubyte.gz to ./data/MNIST/raw/t10k-images-idx3-ubyte.gz\n"
     ]
    },
    {
     "data": {
      "application/vnd.jupyter.widget-view+json": {
       "model_id": "c67343393c7c421384517206208ccd73",
       "version_major": 2,
       "version_minor": 0
      },
      "text/plain": [
       "  0%|          | 0/1648877 [00:00<?, ?it/s]"
      ]
     },
     "metadata": {},
     "output_type": "display_data"
    },
    {
     "name": "stdout",
     "output_type": "stream",
     "text": [
      "Extracting ./data/MNIST/raw/t10k-images-idx3-ubyte.gz to ./data/MNIST/raw\n",
      "\n",
      "Downloading http://yann.lecun.com/exdb/mnist/t10k-labels-idx1-ubyte.gz\n",
      "Downloading http://yann.lecun.com/exdb/mnist/t10k-labels-idx1-ubyte.gz to ./data/MNIST/raw/t10k-labels-idx1-ubyte.gz\n"
     ]
    },
    {
     "data": {
      "application/vnd.jupyter.widget-view+json": {
       "model_id": "57c07541097647f5aad195ca5e9e2313",
       "version_major": 2,
       "version_minor": 0
      },
      "text/plain": [
       "  0%|          | 0/4542 [00:00<?, ?it/s]"
      ]
     },
     "metadata": {},
     "output_type": "display_data"
    },
    {
     "name": "stdout",
     "output_type": "stream",
     "text": [
      "Extracting ./data/MNIST/raw/t10k-labels-idx1-ubyte.gz to ./data/MNIST/raw\n",
      "\n",
      "Iteration: 500. Loss: 1.8863600492477417. Accuracy: 65.43\n",
      "Iteration: 1000. Loss: 1.545007348060608. Accuracy: 77.5\n",
      "Iteration: 1500. Loss: 1.3564796447753906. Accuracy: 80.44\n",
      "Iteration: 2000. Loss: 1.1032294034957886. Accuracy: 81.73\n",
      "Iteration: 2500. Loss: 1.0240752696990967. Accuracy: 82.47\n",
      "Iteration: 3000. Loss: 1.0347490310668945. Accuracy: 83.11\n"
     ]
    }
   ],
   "source": [
    "import torch\n",
    "import torch.nn as nn\n",
    "import torchvision.transforms as transforms\n",
    "import torchvision.datasets as datasets\n",
    "\n",
    "import matplotlib.pyplot as plt\n",
    "import numpy as np\n",
    "\n",
    "'''\n",
    "Step 1: Loading dataset \n",
    "'''\n",
    "\n",
    "train_dataset = datasets.MNIST(root='./data', \n",
    "                            train=True, \n",
    "                            transform=transforms.ToTensor(),\n",
    "                            download=True)\n",
    "\n",
    "test_dataset = datasets.MNIST(root='./data', \n",
    "                           train=False, \n",
    "                           transform=transforms.ToTensor())\n",
    "\n",
    "# Plot image of MNIST\n",
    "#show_img = train_dataset[0][0].numpy().reshape(28, 28)\n",
    "#plt.imshow(show_img, cmap='gray')\n",
    "\n",
    "# Get label for the image\n",
    "#print(train_dataset[0][1])\n",
    "\n",
    "'''\n",
    "Step 2: Making dataset iterable (DataLoader) + Design Hyper-parameters \n",
    "'''\n",
    "\n",
    "batch_size = 100\n",
    "n_iters = 3000\n",
    "num_epochs = n_iters / (len(train_dataset) / batch_size)\n",
    "num_epochs = int(num_epochs)\n",
    "\n",
    "train_loader = torch.utils.data.DataLoader(dataset=train_dataset, \n",
    "                                           batch_size=batch_size, \n",
    "                                           shuffle=True)\n",
    "\n",
    "test_loader = torch.utils.data.DataLoader(dataset=test_dataset, \n",
    "                                          batch_size=batch_size, \n",
    "                                          shuffle=False)\n",
    "\n",
    "'''\n",
    "Step 3: Design Model by creating model class \n",
    "'''\n",
    "class LogisticRegressionModel(nn.Module):\n",
    "    def __init__(self, input_size, num_classes):\n",
    "        super(LogisticRegressionModel, self).__init__()\n",
    "        self.linear = nn.Linear(input_dim, output_dim)\n",
    "    \n",
    "    def forward(self, x):\n",
    "        out = self.linear(x)\n",
    "        return out\n",
    "\n",
    "\n",
    "# Instantiate model class \n",
    "\n",
    "input_dim = 28*28\n",
    "output_dim = 10\n",
    "\n",
    "model = LogisticRegressionModel(input_dim, output_dim)\n",
    "\n",
    "# Use GPU for model\n",
    "\n",
    "device = torch.device(\"cuda:0\" if torch.cuda.is_available() else \"cpu\")\n",
    "model.to(device)\n",
    "\n",
    "'''\n",
    "Step 4: Define loss and optimizer\n",
    "'''\n",
    "criterion = nn.CrossEntropyLoss()\n",
    "\n",
    "\n",
    "learning_rate = 0.001\n",
    "optimizer = torch.optim.SGD(model.parameters(), lr=learning_rate)\n",
    "\n",
    "'''\n",
    "Step 5: Train the model\n",
    "'''\n",
    "iter = 0\n",
    "for epoch in range(num_epochs):\n",
    "    for i, (images, labels) in enumerate(train_loader):\n",
    "        \n",
    "        # USE GPU FOR MODEL\n",
    "        images = images.view(-1, 28*28).requires_grad_().to(device)\n",
    "        labels = labels.to(device)\n",
    "        \n",
    "        # Clear gradients w.r.t. parameters\n",
    "        optimizer.zero_grad()\n",
    "        \n",
    "        # Forward pass to get output/logits\n",
    "        outputs = model(images)\n",
    "        \n",
    "        # Calculate Loss: softmax --> cross entropy loss\n",
    "        loss = criterion(outputs, labels)\n",
    "        \n",
    "        # Getting gradients w.r.t. parameters\n",
    "        loss.backward()\n",
    "        \n",
    "        # Updating parameters\n",
    "        optimizer.step()\n",
    "        \n",
    "        iter += 1\n",
    "        \n",
    "        if iter % 500 == 0:\n",
    "            # Calculate Accuracy         \n",
    "            correct = 0\n",
    "            total = 0\n",
    "            # Iterate through test dataset\n",
    "            for images, labels in test_loader:\n",
    "                \n",
    "                # USE GPU FOR MODEL\n",
    "                images = images.view(-1, 28*28).to(device)\n",
    "                \n",
    "                # Forward pass only to get logits/output\n",
    "                outputs = model(images)\n",
    "                \n",
    "                # Get predictions from the maximum value\n",
    "                _, predicted = torch.max(outputs.data, 1)\n",
    "                \n",
    "                # Total number of labels\n",
    "                total += labels.size(0)\n",
    "                \n",
    "                # USE GPU FOR MODEL\n",
    "                # Total correct predictions\n",
    "                if torch.cuda.is_available():\n",
    "                    correct += (predicted.cpu() == labels.cpu()).sum()\n",
    "                else:\n",
    "                    correct += (predicted == labels).sum()\n",
    "            \n",
    "            accuracy = 100 * correct.item() / total\n",
    "            \n",
    "            # Print Loss\n",
    "            print('Iteration: {}. Loss: {}. Accuracy: {}'.format(iter, loss.item(), accuracy))\n",
    "\n"
   ]
  },
  {
   "cell_type": "markdown",
   "metadata": {
    "id": "0kojZTAh39Gz"
   },
   "source": [
    "[Reference](https://www.deeplearningwizard.com/deep_learning/practical_pytorch/pytorch_logistic_regression/)"
   ]
  },
  {
   "cell_type": "markdown",
   "metadata": {
    "id": "HCRQ1KUo4OS0"
   },
   "source": [
    "#**Regularization**"
   ]
  },
  {
   "cell_type": "markdown",
   "metadata": {
    "id": "SUnWp0wY4TAM"
   },
   "source": [
    "Add Dropout to a PyTorch Model"
   ]
  },
  {
   "cell_type": "code",
   "execution_count": null,
   "metadata": {
    "id": "g_0AZkaR4ywC"
   },
   "outputs": [],
   "source": [
    "# torch.nn.Dropout(p=0.5, inplace=False)"
   ]
  },
  {
   "cell_type": "markdown",
   "metadata": {
    "id": "zlhtG-6M47mZ"
   },
   "source": [
    "During training, randomly zeroes some of the elements of the input tensor with probability p using samples from a Bernoulli distribution. Each channel will be zeroed out independently on every forward call."
   ]
  },
  {
   "cell_type": "code",
   "execution_count": null,
   "metadata": {
    "id": "dPP6OdT2Ew5o"
   },
   "outputs": [],
   "source": [
    "class Net(nn.Module):\n",
    "  def __init__(self, input_shape=(3,32,32)):\n",
    "    super(Net, self).__init__()\n",
    "    \n",
    "    self.conv1 = nn.Conv2d(3, 32, 3)\n",
    "    self.conv2 = nn.Conv2d(32, 64, 3)\n",
    "    self.conv3 = nn.Conv2d(64, 128, 3)\n",
    "    \n",
    "    self.pool = nn.MaxPool2d(2,2)\n",
    "\n",
    "    n_size = self._get_conv_output(input_shape)\n",
    "    \n",
    "    self.fc1 = nn.Linear(n_size, 512)\n",
    "    self.fc2 = nn.Linear(512, 10)\n",
    "\n",
    "    ''' \n",
    "    Define proportion or neurons to dropout\n",
    "    '''\n",
    "    self.dropout = nn.Dropout(0.25)\n",
    "      \n",
    "  def forward(self, x):\n",
    "    x = self._forward_features(x)\n",
    "    x = x.view(x.size(0), -1)\n",
    "    x = self.dropout(x)\n",
    "    x = F.relu(self.fc1(x))\n",
    "    ''' \n",
    "    Apply dropout\n",
    "    ''' \n",
    "    x = self.dropout(x)\n",
    "    x = self.fc2(x)\n",
    "    return x"
   ]
  },
  {
   "cell_type": "markdown",
   "metadata": {
    "id": "tHHyJNhkmg77"
   },
   "source": [
    "#**Sequential**\n",
    "----------------------------------------"
   ]
  },
  {
   "cell_type": "markdown",
   "metadata": {
    "id": "LFjMQPkAmg8D"
   },
   "source": [
    "Many times, we want to compose Modules together. `torch.nn.Sequential` provides a good interface for composing simple modules."
   ]
  },
  {
   "cell_type": "code",
   "execution_count": null,
   "metadata": {
    "colab": {
     "base_uri": "https://localhost:8080/"
    },
    "id": "qUDkKR4rmr6d",
    "outputId": "dac28503-0114-4d5f-cc7b-fa7da7f79381"
   },
   "outputs": [
    {
     "name": "stdout",
     "output_type": "stream",
     "text": [
      "transformed torch.Size([2, 1])\n"
     ]
    }
   ],
   "source": [
    "d_in = 3\n",
    "d_hidden = 4\n",
    "d_out = 1\n",
    "model = torch.nn.Sequential(\n",
    "                            nn.Linear(d_in, d_hidden),\n",
    "                            nn.Tanh(),\n",
    "                            nn.Linear(d_hidden, d_out),\n",
    "                            nn.Sigmoid()\n",
    "                           )\n",
    "\n",
    "example_tensor = torch.tensor([[1.,2,3],[4,5,6]])\n",
    "transformed = model(example_tensor)\n",
    "print('transformed', transformed.shape) # why?"
   ]
  },
  {
   "cell_type": "markdown",
   "metadata": {
    "id": "xsn2GtmID4NF"
   },
   "source": [
    "**Weight initialization** for sequential layers"
   ]
  },
  {
   "cell_type": "code",
   "execution_count": null,
   "metadata": {
    "colab": {
     "base_uri": "https://localhost:8080/"
    },
    "id": "MrwgY79kEGGX",
    "outputId": "284ea9d8-6cbb-4221-82bc-15c36b29fcad"
   },
   "outputs": [
    {
     "data": {
      "text/plain": [
       "Sequential(\n",
       "  (0): Linear(in_features=2, out_features=2, bias=True)\n",
       "  (1): Linear(in_features=2, out_features=2, bias=True)\n",
       ")"
      ]
     },
     "execution_count": 42,
     "metadata": {},
     "output_type": "execute_result"
    }
   ],
   "source": [
    "def init_weights(m):\n",
    "    if isinstance(m, nn.Linear):\n",
    "        torch.nn.init.xavier_uniform_(m.weight)\n",
    "        m.bias.data.fill_(0.01)\n",
    "\n",
    "net = nn.Sequential(nn.Linear(2, 2), nn.Linear(2, 2))\n",
    "net.apply(init_weights)"
   ]
  },
  {
   "cell_type": "markdown",
   "metadata": {
    "id": "UsxrALPD0KO4"
   },
   "source": [
    "#**Convolution**"
   ]
  },
  {
   "cell_type": "markdown",
   "metadata": {
    "id": "MzTV0eUS7wlG"
   },
   "source": [
    "When working with images, we often want to use convolutions to extract features. PyTorch implments this for us in the `torch.nn.Conv2d` module. It expects the input to have a specific dimension $(N, C_{in}, H_{in}, W_{in})$ where $N$ is batch size, $C_{in}$ is the number of channels the image has, and $H_{in}, W_{in}$ are the image height and width respectively.\n",
    "\n",
    "We can modify the convolution to have different properties with the parameters:\n",
    "- kernel_size\n",
    "- stride\n",
    "- padding\n",
    "\n",
    "They can change the output dimension so be careful.\n",
    "\n",
    "See the [torch.nn.Conv2d](https://pytorch.org/docs/stable/nn.html#torch.nn.Conv2d) for more information."
   ]
  },
  {
   "cell_type": "code",
   "execution_count": null,
   "metadata": {
    "colab": {
     "base_uri": "https://localhost:8080/"
    },
    "id": "ctlwVSYZ3vO5",
    "outputId": "790ffd55-1195-4640-8c27-b9ac4988d77d"
   },
   "outputs": [
    {
     "name": "stdout",
     "output_type": "stream",
     "text": [
      "torch.Size([20, 33, 24, 49])\n",
      "torch.Size([20, 33, 28, 100])\n"
     ]
    }
   ],
   "source": [
    "# torch.nn.Conv2d(in_channels, out_channels, kernel_size, stride=1, padding=0, dilation=1, groups=1, bias=True, padding_mode='zeros', device=None, dtype=None)\n",
    "# in_channels: Number of channels in the input image\n",
    "# out_channels: Number of channels produced by the convolution\n",
    "# kernel_size: Size of the convolving kernel\n",
    "# stride: stride of the convolution. Default: 1\n",
    "# padding: Zero-padding added to both sides of the input. Default: 0 \n",
    "\n",
    "# Example:\n",
    "input = torch.randn(20, 16, 50, 100) # [batch_size (# samples), channels, height, width ]\n",
    "# With square kernels and equal stride\n",
    "m = nn.Conv2d(16, 33, 3, stride=2) \n",
    "output = m(input) \n",
    "print(output.shape) #[ batch_size, out_channels, ⌊(50-3)/2⌋+1, ⌊(100-3)/2⌋+1 ]\n",
    "\n",
    "# non-square kernels and unequal stride and with padding\n",
    "m = nn.Conv2d(16, 33, (3, 5), stride=(2, 1), padding=(4, 2))\n",
    "output = m(input)\n",
    "print(output.shape)#[ batch_size, out_channels, ⌊(50-3+2*4)/2⌋+1], ⌊(100-5+2*2)/1⌋+1 ]\n"
   ]
  },
  {
   "cell_type": "markdown",
   "metadata": {
    "id": "8gKSeJYuMTiZ"
   },
   "source": [
    "To illustrate what the `Conv2d` module is doing, let's set the conv weights manually to a Gaussian blur kernel.\n",
    "\n",
    "We can see that it applies the kernel to the image."
   ]
  },
  {
   "cell_type": "code",
   "execution_count": null,
   "metadata": {
    "id": "QJjlv1lOMTiZ"
   },
   "outputs": [],
   "source": [
    "# an entire mnist digit\n",
    "image = np.array([0., 0., 0., 0., 0.,0., 0., 0., 0., 0.,0., 0., 0., 0., 0.,0., 0., 0., 0., 0.,0., 0., 0., 0., 0.,0., 0., 0., 0., 0.,0., 0., 0., 0., 0.,0., 0., 0., 0., 0.,0., 0., 0., 0., 0.,0., 0., 0., 0., 0.,0., 0., 0., 0., 0.,0., 0., 0., 0., 0.,0., 0., 0., 0., 0.,0., 0., 0., 0., 0.,0., 0., 0., 0., 0.,0., 0., 0., 0., 0.,0., 0., 0., 0., 0.,0., 0., 0., 0., 0.,0., 0., 0., 0., 0.,0., 0., 0., 0., 0.,0., 0., 0., 0., 0.,0., 0., 0., 0., 0.,0., 0., 0., 0., 0.,0., 0., 0., 0., 0.,0., 0., 0., 0., 0.,0., 0., 0., 0., 0.,0., 0., 0., 0., 0.,0., 0., 0., 0., 0.,0., 0., 0., 0., 0.,0., 0., 0., 0., 0.,0., 0., 0., 0., 0.,0., 0., 0., 0., 0.,0., 0., 0., 0., 0.,0., 0., 0., 0., 0.,0., 0., 0., 0., 0.,0., 0., 0., 0., 0.,0., 0., 0., 0., 0.,0., 0., 0., 0., 0.,0., 0., 0., 0., 0.,0., 0., 0., 0., 0.,0., 0., 0., 0., 0.,0., 0., 0.3803922 , 0.37647063, 0.3019608 ,0.46274513, 0.2392157 , 0., 0., 0.,0., 0., 0., 0., 0.,0., 0., 0., 0., 0.,0., 0., 0.3529412 , 0.5411765 , 0.9215687 ,0.9215687 , 0.9215687 , 0.9215687 , 0.9215687 , 0.9215687 ,0.9843138 , 0.9843138 , 0.9725491 , 0.9960785 , 0.9607844 ,0.9215687 , 0.74509805, 0.08235294, 0., 0.,0., 0., 0., 0., 0.,0., 0., 0., 0., 0.54901963,0.9843138 , 0.9960785 , 0.9960785 , 0.9960785 , 0.9960785 ,0.9960785 , 0.9960785 , 0.9960785 , 0.9960785 , 0.9960785 ,0.9960785 , 0.9960785 , 0.9960785 , 0.9960785 , 0.9960785 ,0.7411765 , 0.09019608, 0., 0., 0.,0., 0., 0., 0., 0.,0., 0., 0.8862746 , 0.9960785 , 0.81568635,0.7803922 , 0.7803922 , 0.7803922 , 0.7803922 , 0.54509807,0.2392157 , 0.2392157 , 0.2392157 , 0.2392157 , 0.2392157 ,0.5019608 , 0.8705883 , 0.9960785 , 0.9960785 , 0.7411765 ,0.08235294, 0., 0., 0., 0.,0., 0., 0., 0., 0.,0.14901961, 0.32156864, 0.0509804 , 0., 0.,0., 0., 0., 0., 0.,0., 0., 0., 0., 0.13333334,0.8352942 , 0.9960785 , 0.9960785 , 0.45098042, 0.,0., 0., 0., 0., 0.,0., 0., 0., 0., 0.,0., 0., 0., 0., 0.,0., 0., 0., 0., 0.,0., 0., 0., 0.32941177, 0.9960785 ,0.9960785 , 0.9176471 , 0., 0., 0.,0., 0., 0., 0., 0.,0., 0., 0., 0., 0.,0., 0., 0., 0., 0.,0., 0., 0., 0., 0.,0., 0.32941177, 0.9960785 , 0.9960785 , 0.9176471 ,0., 0., 0., 0., 0.,0., 0., 0., 0., 0.,0., 0., 0., 0., 0.,0., 0., 0., 0., 0.,0., 0., 0., 0.4156863 , 0.6156863 ,0.9960785 , 0.9960785 , 0.95294124, 0.20000002, 0.,0., 0., 0., 0., 0.,0., 0., 0., 0., 0.,0., 0., 0., 0., 0.,0., 0.09803922, 0.45882356, 0.8941177 , 0.8941177 ,0.8941177 , 0.9921569 , 0.9960785 , 0.9960785 , 0.9960785 ,0.9960785 , 0.94117653, 0., 0., 0.,0., 0., 0., 0., 0.,0., 0., 0., 0., 0.,0., 0., 0.26666668, 0.4666667 , 0.86274517,0.9960785 , 0.9960785 , 0.9960785 , 0.9960785 , 0.9960785 ,0.9960785 , 0.9960785 , 0.9960785 , 0.9960785 , 0.5568628 ,0., 0., 0., 0., 0.,0., 0., 0., 0., 0.,0., 0., 0., 0.14509805, 0.73333335,0.9921569 , 0.9960785 , 0.9960785 , 0.9960785 , 0.8745099 ,0.8078432 , 0.8078432 , 0.29411766, 0.26666668, 0.8431373 ,0.9960785 , 0.9960785 , 0.45882356, 0., 0.,0., 0., 0., 0., 0.,0., 0., 0., 0., 0.,0.4431373 , 0.8588236 , 0.9960785 , 0.9490197 , 0.89019614,0.45098042, 0.34901962, 0.12156864, 0., 0.,0., 0., 0.7843138 , 0.9960785 , 0.9450981 ,0.16078432, 0., 0., 0., 0.,0., 0., 0., 0., 0.,0., 0., 0., 0.6627451 , 0.9960785 ,0.6901961 , 0.24313727, 0., 0., 0.,0., 0., 0., 0., 0.18823531,0.9058824 , 0.9960785 , 0.9176471 , 0., 0.,0., 0., 0., 0., 0.,0., 0., 0., 0., 0.,0., 0.07058824, 0.48627454, 0., 0.,0., 0., 0., 0., 0.,0., 0., 0.32941177, 0.9960785 , 0.9960785 ,0.6509804 , 0., 0., 0., 0.,0., 0., 0., 0., 0.,0., 0., 0., 0., 0.,0., 0., 0., 0., 0.,0., 0., 0., 0., 0.,0.54509807, 0.9960785 , 0.9333334 , 0.22352943, 0.,0., 0., 0., 0., 0.,0., 0., 0., 0., 0.,0., 0., 0., 0., 0.,0., 0., 0., 0., 0.,0., 0., 0.8235295 , 0.9803922 , 0.9960785 ,0.65882355, 0., 0., 0., 0.,0., 0., 0., 0., 0.,0., 0., 0., 0., 0.,0., 0., 0., 0., 0.,0., 0., 0., 0., 0.,0.9490197 , 0.9960785 , 0.93725497, 0.22352943, 0.,0., 0., 0., 0., 0.,0., 0., 0., 0., 0.,0., 0., 0., 0., 0.,0., 0., 0., 0., 0.,0., 0., 0.34901962, 0.9843138 , 0.9450981 ,0.3372549 , 0., 0., 0., 0.,0., 0., 0., 0., 0.,0., 0., 0., 0., 0.,0., 0., 0., 0., 0.,0., 0., 0., 0., 0.01960784,0.8078432 , 0.96470594, 0.6156863 , 0., 0.,0., 0., 0., 0., 0.,0., 0., 0., 0., 0.,0., 0., 0., 0., 0.,0., 0., 0., 0., 0.,0., 0., 0.01568628, 0.45882356, 0.27058825,0., 0., 0., 0., 0.,0., 0., 0., 0., 0.,0., 0., 0., 0., 0.,0., 0., 0., 0., 0.,0., 0., 0., 0., 0.,0., 0., 0., 0., 0.,0., 0., 0., 0., 0.,0., 0., 0., 0.], dtype=np.float32)\n",
    "image_torch = torch.from_numpy(image).view(1, 1, 28, 28)"
   ]
  },
  {
   "cell_type": "code",
   "execution_count": null,
   "metadata": {
    "colab": {
     "base_uri": "https://localhost:8080/",
     "height": 545
    },
    "id": "28-oVco6MTib",
    "outputId": "38608899-8387-4cd7-9f2d-a43d56ca7847"
   },
   "outputs": [
    {
     "data": {
      "image/png": "[encoded data removed]",
      "text/plain": [
       "<Figure size 432x288 with 1 Axes>"
      ]
     },
     "metadata": {
      "needs_background": "light"
     },
     "output_type": "display_data"
    },
    {
     "data": {
      "image/png": "[encoded data removed]",
      "text/plain": [
       "<Figure size 432x288 with 1 Axes>"
      ]
     },
     "metadata": {
      "needs_background": "light"
     },
     "output_type": "display_data"
    }
   ],
   "source": [
    "import matplotlib.pyplot as plt\n",
    "# a gaussian blur kernel\n",
    "gaussian_kernel = torch.tensor([[1., 2, 1],[2, 4, 2],[1, 2, 1]]) / 16.0\n",
    "\n",
    "# a convolusion\n",
    "conv = nn.Conv2d(1, 1, 3)\n",
    "\n",
    "# manually set the conv weight\n",
    "conv.weight.data[:] = gaussian_kernel\n",
    "\n",
    "# get an image produced by the convolution\n",
    "convolved = conv(image_torch)\n",
    "\n",
    "plt.title('original image')\n",
    "plt.imshow(image_torch.view(28,28).detach().numpy())\n",
    "plt.show()\n",
    "\n",
    "plt.title('blurred image')\n",
    "plt.imshow(convolved.view(26,26).detach().numpy())\n",
    "plt.show()"
   ]
  },
  {
   "cell_type": "markdown",
   "metadata": {
    "id": "zhf848TRMTid"
   },
   "source": [
    "As we can see, the image is blurred as expected. \n"
   ]
  },
  {
   "cell_type": "markdown",
   "metadata": {
    "id": "qVABddwK1o3J"
   },
   "source": [
    "Pooling layer\n",
    "--------------------------\n",
    "PyTorch implements pooling layers in [Pooling layers](https://pytorch.org/docs/stable/nn.html#pooling-layers)\n"
   ]
  },
  {
   "cell_type": "code",
   "execution_count": null,
   "metadata": {
    "colab": {
     "base_uri": "https://localhost:8080/"
    },
    "id": "Y8XRNodMCqFu",
    "outputId": "7e51ef09-e519-4fe8-df3f-1ae44ca7d5c3"
   },
   "outputs": [
    {
     "name": "stdout",
     "output_type": "stream",
     "text": [
      "torch.Size([20, 16, 24, 15])\n",
      "torch.Size([20, 16, 24, 31])\n"
     ]
    }
   ],
   "source": [
    "#torch.nn.MaxPool2d(kernel_size, stride=None, padding=0, dilation=1, return_indices=False, ceil_mode=False)\n",
    "\n",
    "input = torch.randn(20, 16, 50, 32)\n",
    "\n",
    "# pool of square window of size=3, stride=2\n",
    "m = nn.MaxPool2d(3, stride=2)\n",
    "output = m(input)\n",
    "print(output.shape) # Height = ⌊(50-3)/2⌋+1, Weight = ⌊(32-3)/2⌋+1\n",
    "\n",
    "# pool of non-square window\n",
    "m = nn.MaxPool2d((3, 2), stride=(2, 1))\n",
    "output = m(input)\n",
    "print(output.shape) # Height = ⌊(50-3)/2⌋+1, Weight = ⌊(32-2)/1⌋+1\n",
    "\n"
   ]
  },
  {
   "cell_type": "markdown",
   "metadata": {
    "id": "QbNbut9A4gYl"
   },
   "source": [
    "#**Convolutional Neural Network**"
   ]
  },
  {
   "cell_type": "markdown",
   "metadata": {
    "id": "oMqePTm34vGT"
   },
   "source": [
    "An CNN example\n",
    "-------------------------------"
   ]
  },
  {
   "cell_type": "markdown",
   "metadata": {
    "id": "QeXIjygf9Czn"
   },
   "source": [
    "Implement a CNN to do image classification task based on CIFAR-10 dataset.\n",
    "\n",
    "[CIFAR-10](https://www.cs.toronto.edu/~kriz/cifar.html)\n",
    "\n",
    "![CNN.jpg](data:image/jpeg;base64,/9j/4AAQSkZJRgABAQAAAQABAAD/4gIoSUNDX1BST0ZJTEUAAQEAAAIYAAAAAAQwAABtbnRyUkdCIFhZWiAAAAAAAAAAAAAAAABhY3NwAAAAAAAAAAAAAAAAAAAAAAAAAAAAAAAAAAAAAQAA9tYAAQAAAADTLQAAAAAAAAAAAAAAAAAAAAAAAAAAAAAAAAAAAAAAAAAAAAAAAAAAAAAAAAAAAAAAAAAAAAlkZXNjAAAA8AAAAHRyWFlaAAABZAAAABRnWFlaAAABeAAAABRiWFlaAAABjAAAABRyVFJDAAABoAAAAChnVFJDAAABoAAAAChiVFJDAAABoAAAACh3dHB0AAAByAAAABRjcHJ0AAAB3AAAADxtbHVjAAAAAAAAAAEAAAAMZW5VUwAAAFgAAAAcAHMAUgBHAEIAAAAAAAAAAAAAAAAAAAAAAAAAAAAAAAAAAAAAAAAAAAAAAAAAAAAAAAAAAAAAAAAAAAAAAAAAAAAAAAAAAAAAAAAAAAAAAAAAAAAAAAAAAFhZWiAAAAAAAABvogAAOPUAAAOQWFlaIAAAAAAAAGKZAAC3hQAAGNpYWVogAAAAAAAAJKAAAA+EAAC2z3BhcmEAAAAAAAQAAAACZmYAAPKnAAANWQAAE9AAAApbAAAAAAAAAABYWVogAAAAAAAA9tYAAQAAAADTLW1sdWMAAAAAAAAAAQAAAAxlblVTAAAAIAAAABwARwBvAG8AZwBsAGUAIABJAG4AYwAuACAAMgAwADEANv/bAEMAAwICAgICAwICAgMDAwMEBgQEBAQECAYGBQYJCAoKCQgJCQoMDwwKCw4LCQkNEQ0ODxAQERAKDBITEhATDxAQEP/bAEMBAwMDBAMECAQECBALCQsQEBAQEBAQEBAQEBAQEBAQEBAQEBAQEBAQEBAQEBAQEBAQEBAQEBAQEBAQEBAQEBAQEP/AABEIAPICnQMBIgACEQEDEQH/xAAdAAEAAwEBAQEBAQAAAAAAAAAABQYHBAMIAgEJ/8QAWxAAAAUDAQIHCgsDCQQIBgMAAAECAwQFBhEHEiETMTd0dbKzFBUWIjU2QXax0QgXMlFXWGGSlabSOFZxGCM0QlWBlJfVM5GitCQlUmKElsXTQ0VGVGaho8Hw/8QAGgEBAAMBAQEAAAAAAAAAAAAAAAMEBQIBBv/EAD0RAAIBAgEHCAgFBAMBAAAAAAABAgMRcQQhMTIzQbESExRRYYGRwQVSU3Ky0dLwNEKSoaIiYoLhFSPxwv/aAAwDAQACEQMRAD8A/wBUx84agzr7rWttctWiajVugQYVLhzENQ1JUg1rI0q3KI8ZwR7j+fdvH0ePnWt/tJXT0BT+sYqZY3yFbr+Zu+gEnXqNpO0HpSe+PWcfgpqb9PF0/cZ9wgr4j6pWjaNVuRnW655LlPjqeQ0omkko+IsmSeLeNQFL1n5LLk5kr2kKM01FtN+LPpcnmp1oRlGNm1+WPXgfQVqPPSbWo8iQ6t112nx1rWtRqUpRtpMzMz3mZn6RKiHs7zRofRsbskiYGvHVR8DVzVJYsAADojAxrVibdEjUqhWxQ7vqVEjzaW++6qIpPjLbWWDNKiMuIzL0ej5hsoxvUTlwtboSZ1yF/wBHJOvnW58CrljapZutcSP8Eb++ma4/uNe4c9Qty/oMCTO+OK419zsrd2dlotrZSZ4zjdxC8jguDyDUuZvdQxqxndpWXgvkZzjZaX4ssOj1UqFa0yt6rVaY7KmS4hOvPOqypajUeTMxcRRNCuSK1uYJ6xi9jCylJV5pdb4mtQd6UW+pcAAAICUAAAD59Uq97nve8IkTUit0mNSaobDDDBoUgkKQSsFtFksGZ+n/AHYHd4I399M1x/ca9wWj5/aidNp7IhcR9K2oJJJaFuXUuwxEnK7bel731mZXc3f9oQodT+NWvzidqMWKplw0ISaXHCJWTSWeLPFjjH0gMC1g83Kd01A7Uhvoz/SVnCm7LfoSXV1FzIr8qSv1eYAAGUXwAAAI25HXWLdqj7Dim3G4T60LQZkpKibMyMjLiMYJZsDUK6LXptwO6u3DHXOYS6ptJNqJJ8R4PHFuG83T5sVfmEjs1DItI+Ta3+Zp9pjY9H2VGUrK91pSe59ZnZZd1Iq+5+R+PBG/vpmuP7jXuH9s5+8KLq5Rrcqt91etQ5lOlyltyjSlJKTgk7kkWcZM9/2fMLgKtD5e7b6Fm+0hak1OnNNLVe5dWBXinGcbN6VvfWbYAAPnTZAAAAAAACNuR11i3ao+w4ptxuE+tC0GZKSomzMjIy4jGCWbA1Cui16bcDurtwx1zmEuqbSTaiSfEeDxxbhvN0+bFX5hI7NQyLSPk2t/mafaY2PR9lRlKyvdaUnufWZ2WXdSKvufkfjwRv76Zrj+417h/bOfvCi6uUa3KrfdXrUOZTpcpbco0pSSk4JO5JFnGTPf9nzC4CrQ+Xu2+hZvtIWpNTpzTS1XuXVgV4pxnGzelb31m2AAD502QAAAAAAAAAACnaw1SoUXTK4atSZjsWZEiG6y80rCkKJRYMjGaU+3L+nQI0744rjR3Qyh3Z2Wj2dpJHjON/GNB115Irp5grrEIi3/ACDTeZs9QhtZDaOT3sr8p7k9y6zMyu7rWvu6+1ld8Eb++ma4/uNe4d+k826I+pVdtiuXfUq3HhUth9pUtSfFW4s8mSUkRcREXp9PzixCvad8uF09CQ+uYmrNSoVLpaOpda7CKneNWNm9PW+pmyAAD582DGtWJt0SNSqFbFDu+pUSPNpb77qoik+MttZYM0qIy4jMvR6PmHB4I399M1x/ca9wkNROXC1uhJnXIWEfQUWoUKdktHUut9hkVburK7enrfUijVC3L+gwJM744rjX3Oyt3Z2Wi2tlJnjON3EIWNcN8XGmwaczfdXpzlXoD8yXIZcJSnXUOnhRkojLiMy3Y9HoIiGiXB5BqXM3uoYzKzvKelvqtL7QWIcmSu0s19y9V9hDK6dk3u3vrROOHfNrXjZ7EnUqt1WNVaw3FfYf2EoNGDUZHslk84L0/OOS10X/AHeiqVEtU69ARHq0uG2y1sLSlDbhknBqLPFgt+eITN6eeenvrCjqKHhpJ5IrfrDUO1D+nkcuyvZbl1vsCbvybvS976kdHgjf30zXH9xr3DgcO+bWvGz2JOpVbqsaq1huK+w/sJQaMGoyPZLJ5wXp+caAKbennnp76wo6ihxFqV00tD3LqfYdNONmm9K3vrIa10X/AHeiqVEtU69ARHq0uG2y1sLSlDbhknBqLPFgt+eIR0y7L7o9vXrCXfNWlSaTWKTEjTFrSTqEPZ4QiIixv2vmPiL5hY9JPJFb9Yah2oplz/0HUn1ioXsE6jGU3FxVk47l6yI+VJRTu9D3vqZe/BG/vpmuP7jXuDwRv76Zrj+417hcQFbl9i8F8iXk9r8X8yK0PqVxSKteNHr9yTqz3pmx47D0pRbRJNs1HuIiIsmfsGsDI9EvO/UXpSN2I1wZPpBJZQ7Lq4I0cjbdFX7eLAwy8X7wrWrlZtylX3V6LDh06JKQ3FNKkmpWSVuUR4zgj3fb843MYnM5e7k6Fhe0xJ6NS5yTa/LjvRxlt+RG3X5M5/BG/vpmuP7jXuENeUDUK17XqVwNau3DIXBYU6ltRNpJR8RZPHFvGlCo6ucm1wczV7SGtSlyqkU0tK3L5GfNWi2m/Fmv2266/btLffcU445CYWtazM1KUbZGZmZ8ZiSFQeu+k2Rp/Sq9WolbkxkRIrRoo9Dm1aRlTZYMo8Np10y+dRIwXpMhWf5S2nX7uaq/5T3V/pw+anrM2oaqNVAZV/KW06/dzVX/ACnur/Tg/lLadfu5qr/lPdX+nDk6NVAVqx9QqDqDFkzKDAuWK3EcJpwq5bFSoq1GZZI0InsMqcL/ALyCMiPcZ5HHq7cVVtXT6q1qiOkzMbJptt40komOEdSg3MHuPZJRnv3fOO6dN1ZqEdLdjmclCLk9xcQFKcosPT+lTLpRdlZdZhU5RvoqtUelRnlpTknl7ZOLQeePgsEefknuIZ6vW6/Y7FUiv0ml92Rn6UUR1+E7HQ6zLXs7SmeGWtPzpM1JVjG0gj3CxTySde7pO67c33pIZ5RGlmnmfibuA5qc3UWoTSKtKjyZZEfCux2FMtqPP9VClrNO7HGo/wD+h0iq8zLCAAA8AHzrW/2krp6Ap/WMfRQ+da3+0ldPQFP6xiplmrHHyZu+gNtU9x/FEs4pes/JZcnMle0hdBS9Z+Sy5OZK9pClU1HgfRZLt4Yrib/Z3mjQ+jY3ZJEwIezvNGh9GxuySJga0dVHwlbaSxYAAHRGBjeonLha3QkzrkNkGN6icuFrdCTOuQv+jds8JcCpluy71xLCOC4PINS5m91DHeOC4PINS5m91DGnHWRRegl9CuSK1uYJ6xi9iiaFckVrcwT1jF7GJlW3ni+JqUNlHBcAAAICUAAADC7R8/tROm09kQuIp1o+f2onTaeyIXEfRz3YLgjFjvxfFlF1g83Kd01A7UhvowLWDzcp3TUDtSG+ij6R2dP/AC8i3kevPu8wAAMovgAAARd0+bFX5hI7NQyLSPk2t/mafaY126fNir8wkdmoZFpHybW/zNPtMa+QbCeK4Mzsr2scH5FuFWh8vdt9CzfaQtIq0Pl7tvoWb7SFr8k/dfAgWtHFcTbAAB88bAAAAAAAARd0+bFX5hI7NQyLSPk2t/mafaY126fNir8wkdmoZFpHybW/zNPtMa+QbCeK4Mzsr2scH5FuFWh8vdt9CzfaQtIq0Pl7tvoWb7SFr8k/dfAgWtHFcTbAAB88bAAAAAAAAAAABRNdeSK6eYK6xCIt/wAg03mbPUIS+uvJFdPMFdYhEW/5BpvM2eoQ2ci/Df5PgjNyrbd3mzvFe075cLp6Eh9cxYRXtO+XC6ehIfXMTVNhUw80RQ2sMfJmyAADANcxvUTlwtboSZ1yFhFe1E5cLW6EmdchYRvw2NPDzZkT2s8fJHBcHkGpcze6hjMrO8p6W+q0vtBptweQalzN7qGMys7ynpb6rS+0Fmlq+PwshnreHFFqvTzz099YUdRQ8NJPJFb9Yah2o970889PfWFHUUPDSTyRW/WGodqD2XcuLC1+98EXkU29PPPT31hR1FC5Cm3p556e+sKOooRU9LwfBnct2K4o8NJPJFb9Yah2oplz/wBB1J9YqF7Bc9JPJFb9Yah2oplz/wBB1J9YqF7BajtXjH4okL1Fg+DNsAAFIsENol536i9KRuxGuDI9EvO/UXpSN2I1wZnpH8Q8F8KL2R7Fd/FgYnM5e7k6Fhe0xtgxOZy93J0LC9piT0brz93zRzlurHHyZaRUdXOTa4OZq9pC3Co6ucm1wczV7SGpQ2scUUKmo8DXbW82KRzCP2aRKCLtbzYpHMI/ZpEoPnJ6zNmGqgAAOToDwnQYdThvU+oxWpMaQg23WXUEtDiT4yMj3GQ9xTK/qSVvXHBth6yq/KlVRbiIC46oXByeDSSlmk1yEmkiI/65Jz6MiSnCVR2hpOZyjFf1HvF0ssWKh5s6O9JJ6Eqmn3bOkSjbimWDabN1xXBJ+xGzxF8xDmjaN6dReGNuhvrVIXGW6p6pSnVLOOraZypbhn4pkWC+YiLi3CXTflmcN3HIuqjx5iTJDsV2oscM05tEng1JJZ4USjJOCzvPA7H7mtyNHmzJNwU1pinOcDMdXLbSiM5u8VwzPCFby3Hg95CXnMpW+WftZHyKL3L9iSAVZ7Uq0WatAppVNl1ioQJFRaqLbzSoSWWVElZqd2sFvP0ZLceTIWSNJjTI7UuHIbfYeQTjTrayUhaTLJKSZbjIy9JCGVOcEnJWJIzjLMmeoAA4OgPnWt/tJXT0BT+sY+ih861v9pK6egKf1jFTLNWOPkzd9Abap7j+KJZxS9Z+Sy5OZK9pC6Cl6z8llycyV7SFKpqPA+iyXbwxXE3+zvNGh9GxuySJgQ9neaND6NjdkkTA1o6qPhK20liwAAOiMDG9ROXC1uhJnXIbIMb1E5cLW6Emdchf9G7Z4S4FTLdl3riWEcFweQalzN7qGO8cFweQalzN7qGNOOsii9BL6FckVrcwT1jF7FE0K5IrW5gnrGL2MTKtvPF8TUobKOC4AAAQEoAAAGF2j5/aidNp7IhcRTrR8/tROm09kQuI+jnuwXBGLHfi+LKLrB5uU7pqB2pDfRgWsHm5TumoHakN9FH0js6f+XkW8j1593mAABlF8AAACLunzYq/MJHZqGRaR8m1v8zT7TGu3T5sVfmEjs1DItI+Ta3+Zp9pjXyDYTxXBmdle1jg/Itwq0Pl7tvoWb7SFpFWh8vdt9CzfaQtfkn7r4EC1o4ribYAAPnjYAAAAAAACLunzYq/MJHZqGRaR8m1v8zT7TGu3T5sVfmEjs1DItI+Ta3+Zp9pjXyDYTxXBmdle1jg/Itwq0Pl7tvoWb7SFpFWh8vdt9CzfaQtfkn7r4EC1o4ribYAAPnjYAAAAAAAAAAAKJrryRXTzBXWIRFv+QabzNnqEJfXXkiunmCusQiLf8g03mbPUIbORfhv8nwRm5Vtu7zZ3ivad8uF09CQ+uYsIr2nfLhdPQkPrmJqmwqYeaIobWGPkzZAABgGuY3qJy4Wt0JM65CwivaicuFrdCTOuQsI34bGnh5syJ7WePkjguDyDUuZvdQxmVneU9LfVaX2g024PINS5m91DGZWd5T0t9VpfaCzS1fH4WQz1vDii1Xp556e+sKOooeGknkit+sNQ7Ue96eeenvrCjqKHhpJ5IrfrDUO1B7LuXFha/e+CLyKbennnp76wo6ihchTb0889PfWFHUUIqel4PgzuW7FcUeGknkit+sNQ7UUy5/6DqT6xUL2C56SeSK36w1DtRTLn/oOpPrFQvYLUdq8Y/FEheosHwZtgAApFghtEvO/UXpSN2I1wZHol536i9KRuxGuDM9I/iHgvhReyPYrv4sDE5nL3cnQsL2mNsGJzOXu5OhYXtMSejdefu+aOct1Y4+TLSKjq5ybXBzNXtIW4VHVzk2uDmavaQ1KG1jiihU1HgabGYr8nT+Gxa1Tp9Pqy6YwUSVUIK5kdpfBp8ZxhDzKnC49xOoP7RTvBz4U/wBMmlX+WlR/10aDa3mxSOYR+zSJQfOT1mbMNVGVeDnwp/pk0q/y0qP+uh4OfCn+mTSr/LSo/wCujVQHJ0U+x6Xq9AlSV6k3xZ9djLbIozdDtWVSVtrzvUtb1RlEssbsElJke/J8Q5rwtutVTUWx69AhcLBo7k5U13hEJ4InGSSjxTMjVk93ikf2i8gJKdR0pcpdTXirHM4Kas+z9ncxWfpxdq7UudiPRUqnSbxKtxmSfaJUqMh5tRYUatlJmSVYJZlxegeTdj326/OuNdtOtrTebNfRS1yo5uSYpNkgyJRLNsnE5yRKWRZSe89xnt4C0svqJWsv37O3sK7ySDd7v7v8zAb90rvC+p9MqNLtKLbSIkOc73IiRHW05IN5DjTchCcJVwppNSiLbSR4yoxuVHfmyaVDkVKnnAluMIU/F20r4FzBbSNpJmkyI8lkjHYAirZVKvCMJJWje2nf3klOhGlJyTzsAACsTAfOtb/aSunoCn9Yx9FD51rf7SV09AU/rGKmWascfJm76A21T3H8USzil6z8llycyV7SF0FL1n5LLk5kr2kKVTUeB9Fku3hiuJv9neaND6NjdkkTAh7O80aH0bG7JImBrR1UfCVtpLFgAAdEYGN6icuFrdCTOuQ2QY3qJy4Wt0JM65C/6N2zwlwKmW7LvXEsI4Lg8g1Lmb3UMd44Lg8g1Lmb3UMacdZFF6CX0K5IrW5gnrGL2KJoVyRWtzBPWMXsYmVbeeL4mpQ2UcFwAAAgJQAAAMLtHz+1E6bT2RC4inWj5/aidNp7IhcR9HPdguCMWO/F8WUXWDzcp3TUDtSG+jAtYPNyndNQO1Ib6KPpHZ0/8vIt5Hrz7vMAADKL4AAAEXdPmxV+YSOzUMi0j5Nrf5mn2mNdunzYq/MJHZqGRaR8m1v8zT7TGvkGwniuDM7K9rHB+RbhVofL3bfQs32kLSKtD5e7b6Fm+0ha/JP3XwIFrRxXE2wAAfPGwAAAAAAAEXdPmxV+YSOzUMi0j5Nrf5mn2mNdunzYq/MJHZqGRaR8m1v8zT7TGvkGwniuDM7K9rHB+RbhVofL3bfQs32kLSKtD5e7b6Fm+0ha/JP3XwIFrRxXE2wAAfPGwAAAAAAAAAAAUTXXkiunmCusQiLf8g03mbPUIS+uvJFdPMFdYhEW/wCQabzNnqENnIvw3+T4Izcq23d5s7xXtO+XC6ehIfXMWEV7TvlwunoSH1zE1TYVMPNEUNrDHyZsgAAwDXMb1E5cLW6EmdchYRXtROXC1uhJnXIWEb8NjTw82ZE9rPHyRwXB5BqXM3uoYzKzvKelvqtL7QabcHkGpcze6hjMrO8p6W+q0vtBZpavj8LIZ63hxRar0889PfWFHUUPDSTyRW/WGodqPe9PPPT31hR1FDw0k8kVv1hqHag9l3LiwtfvfBF5FNvTzz099YUdRQuQpt6eeenvrCjqKEVPS8HwZ3LdiuKPDSTyRW/WGodqKZc/9B1J9YqF7Bc9JPJFb9Yah2oplz/0HUn1ioXsFqO1eMfiiQvUWD4M2wAAUiwQ2iXnfqL0pG7Ea4Mj0S879RelI3YjXBmekfxDwXwovZHsV38WBiczl7uToWF7TG2DE5nL3cnQsL2mJPRuvP3fNHOW6scfJlpFR1c5Nrg5mr2kLcKjq5ybXBzNXtIalDaxxRQqajwNdtbzYpHMI/ZpEoK3Gt6gXZp/Dty6aHT6zSZ9MYZlwKhGRIjyEcGnxXG1kaVluLcZGQp38k74LH1adKv/ACbTv/ZHzk9ZmzDVRqoDKv5J3wWPq06Vf+Tad/7IfyTvgsfVp0q/8m07/wBkcnRqorN/XmdiUqLW3qYcuGuexFlrJ7YOM04rZ4bGye0RGad27j4xy2Po5pDplKkztNtK7PtOTNbJmS9Q6HFgLfQR5JK1MoSaiI9+D3ZEteltsXfalVtmQaSTUYq2UqVxIWZeIr+5REf9wko8jnFzmi+fA4qcrkvkaSDkapUyHdtWt2ZDcTFpSIqDlsk5IcelPkaksNsNIUtRkhJqMyyZEXFjeP25rDp23FiTCrzjrc6O9KYJmDJdWppk8OmaENmpJo37RKIjIiMzLBGYpUDSC94dpRokuq02oVaTWTqNcYVLeYiVJngzbSwpaGzWaCIkHsmg0nvIywPK1NE7qoqaf3dJohHDplYhGmM45sJclr2mzQRtlhJFkj9JejI0HQyO1+VozZnpzPPnW9/syoquUX1f9Z/kbLT6hDqsCPU6dIS/FltJeZdTxLQospMv4kY6BAWFQZlrWXRbcqDjLkmnQmo7q2TM0KUlODNJmRGZfxIhPjNmlGTUXdFyLbim9IAAHJ0B861v9pK6egKf1jH0UPnWt/tJXT0BT+sYqZZqxx8mbvoDbVPcfxRLOKXrPyWXJzJXtIXQUvWfksuTmSvaQpVNR4H0WS7eGK4m/wBneaND6NjdkkTAh7O80aH0bG7JImBrR1UfCVtpLFgAAdEYGN6icuFrdCTOuQ2QY3qJy4Wt0JM65C/6N2zwlwKmW7LvXEsI4Lg8g1Lmb3UMd44Lg8g1Lmb3UMacdZFF6CX0K5IrW5gnrGL2KJoVyRWtzBPWMXsYmVbeeL4mpQ2UcFwAAAgJQAAAMLtHz+1E6bT2RC4inWj5/aidNp7IhcR9HPdguCMWO/F8WUXWDzcp3TUDtSG+jAtYPNyndNQO1Ib6KPpHZ0/8vIt5Hrz7vMAADKL4AAAEXdPmxV+YSOzUMi0j5Nrf5mn2mNdunzYq/MJHZqGRaR8m1v8AM0+0xr5BsJ4rgzOyvaxwfkW4VaHy9230LN9pC0irQ+Xu2+hZvtIWvyT918CBa0cVxNsAAHzxsAAAAAAABF3T5sVfmEjs1DItI+Ta3+Zp9pjXbp82KvzCR2ahkWkfJtb/ADNPtMa+QbCeK4Mzsr2scH5FuFWh8vdt9CzfaQtIq0Pl7tvoWb7SFr8k/dfAgWtHFcTbAAB88bAAAAAAAAAAABRNdeSK6eYK6xCIt/yDTeZs9QhL668kV08wV1iERb/kGm8zZ6hDZyL8N/k+CM3Ktt3ebO8V7TvlwunoSH1zFhFe075cLp6Eh9cxNU2FTDzRFDawx8mbIAAMA1zG9ROXC1uhJnXIWEV7UTlwtboSZ1yFhG/DY08PNmRPazx8kcFweQalzN7qGMys7ynpb6rS+0Gm3B5BqXM3uoYzKzvKelvqtL7QWaWr4/CyGet4cUWq9PPPT31hR1FDw0k8kVv1hqHaj3vTzz099YUdRQ8NJPJFb9Yah2oPZdy4sLX73wReRTb0889PfWFHUULkKbennnp76wo6ihFT0vB8Gdy3Yrijw0k8kVv1hqHaimXP/QdSfWKhewXPSTyRW/WGodqKZc/9B1J9YqF7BajtXjH4okL1Fg+DNsAAFIsENol536i9KRuxGuDI9EvO/UXpSN2I1wZnpH8Q8F8KL2R7Fd/FgYnM5e7k6Fhe0xtgxOZy93J0LC9piT0brz93zRzlurHHyZaRUdXOTa4OZq9pC3Co6ucm1wczV7SGpQ2scUUKmo8DXbW82KRzCP2aRKCLtbzYpHMI/ZpEoPnJ6zNmGqgAAOToAAAAAAAAAAAAAAAPnWt/tJXT0BT+sY+ih861v9pK6egKf1jFTLNWOPkzd9Abap7j+KJZxS9Z+Sy5OZK9pC6Cl6z8llycyV7SFKpqPA+iyXbwxXE3+zvNGh9GxuySJgQ9neaND6NjdkkTA1o6qPhK20liwAAOiMDG9ROXC1uhJnXIbIMb1E5cLW6Emdchf9G7Z4S4FTLdl3riWEcFweQalzN7qGO8cFweQalzN7qGNOOsii9BL6FckVrcwT1jF7FE0K5IrW5gnrGL2MTKtvPF8TUobKOC4AAAQEoAAAGF2j5/aidNp7IhcRTrR8/tROm09kQuI+jnuwXBGLHfi+LKLrB5uU7pqB2pDfRgWsHm5TumoHakN9FH0js6f+XkW8j1593mAABlF8AAACLunzYq/MJHZqGRaR8m1v8AM0+0xrt0+bFX5hI7NQyLSPk2t/mafaY18g2E8VwZnZXtY4PyLcKtD5e7b6Fm+0haRVofL3bfQs32kLX5J+6+BAtaOK4m2AAD542AAAAAAAAi7p82KvzCR2ahkWkfJtb/ADNPtMa7dPmxV+YSOzUMi0j5Nrf5mn2mNfINhPFcGZ2V7WOD8i3CrQ+Xu2+hZvtIWkVaHy9230LN9pC1+SfuvgQLWjiuJtgAA+eNgAAAAAAAAAAAomuvJFdPMFdYhEW/5BpvM2eoQl9deSK6eYK6xCIt/wAg03mbPUIbORfhv8nwRm5Vtu7zZ3ivad8uF09CQ+uYsIr2nfLhdPQkPrmJqmwqYeaIobWGPkzZAABgGuY3qJy4Wt0JM65CwivaicuFrdCTOuQsI34bGnh5syJ7WePkjguDyDUuZvdQxmVneU9LfVaX2g024PINS5m91DGZWd5T0t9VpfaCzS1fH4WQz1vDii1Xp556e+sKOooeGknkit+sNQ7Ue96eeenvrCjqKHhpJ5IrfrDUO1B7LuXFha/e+CLyKbennnp76wo6ihchTb0889PfWFHUUIqel4PgzuW7FcUeGknkit+sNQ7UUy5/6DqT6xUL2C56SeSK36w1DtRTLn/oOpPrFQvYLUdq8Y/FEheosHwZtgAApFghtEvO/UXpSN2I1wZHol536i9KRuxGuDM9I/iHgvhReyPYrv4sDE5nL3cnQsL2mNsGJzOXu5OhYXtMSejdefu+aOct1Y4+TLSKjq5ybXBzNXtIW4VHVzk2uDmavaQ1KG1jiihU1Hga7a3mxSOYR+zSJQRdrebFI5hH7NIlB85PWZsw1UAABydAAERWrvtO23W49w3RSaW68nbbRNmtMKWnOMkS1Fks+kexi5O0Vc8bUVdkuAjo9xW/L7hOJXae/wB80qVC4OUhXdRJLKjawfjkRceznAkQcXHSE09AABzHUqcmoJpCp8YpymTkJim6nhTaI8GskZzs53ZxjIJN6D29jpAAHgA+da3+0ldPQFP6xj6KHzfc06FA+EddD06WxGbOhU9JLdcJBGeVbsn6dx/7hUyzVjj5M3vQCbrVEvUfxRLaKXrPyWXJzJXtIWPwkt3+36d/im/eKfq/W6LM0yuKPEq8J91cJWy23IQpR4MjPBEeeIhRqNchn0mSwkq8M29cT6Ms7zRofRsbskiYEPZ3mjQ+jY3ZJEwNeOqj4GttJYsAADojAxvUTlwtboSZ1yGyDGNTJEeLrVbD8p9tlpNEmbS3FElJZWRFkz+0aHo3b90uBUy3Zd64lkHBcHkGpcze6hh4QUH+24H+JR7xw1yuUV6i1BpqsQlrXFdSlKZCDNRmg8ERZ3mNOMZcpZig2rFl0K5IrW5gnrGL2KJoVyRWtzBPWMXsYeVbeeL4mrQ2UcFwAAAgJQAAAMLtHz+1E6bT2RC4ijW5UIEG/tQu7p0ePt1stnhXUo2sNJzjJ7+MhavCCg/23A/xKPePpJxbtZblwRiRaz4viVTWDzcp3TUDtSG+j551XqlMm0CntQqjFkLKswFGlp5KzIuGLfgj4t5D6GFH0imqdO/93kW8izzn3eYAAGSaAAAAEXdPmxV+YSOzUMi0j5Nrf5mn2mNdunzYq/MJHZqGLaV1ikRdO6AxKqkNl1MNO0hx9KVFkzMskZ/MNj0em6E7da4MzssdqkcH5F6FWh8vdt9CzfaQmvCCg/23A/xKPeK/SZkSbrvbjsKUzIQVGnJNTSyWRHlO7JeneQtOLVOd1+V8CumnOOK4m5AAD502QAAAAAAAi7p82KvzCR2ahkWkfJtb/M0+0xrt0+bFX5hI7NQxbSusUiLp3QGJVUhsuphp2kOPpSosmZlkjP5hsej03QnbrXBmdljtUjg/IvQq0Pl7tvoWb7SE14QUH+24H+JR7xX6TMiTdd7cdhSmZCCo05JqaWSyI8p3ZL07yFpxapzuvyvgV005xxXE3IAAfOmyAAAAAAAAAAAUTXXkiunmCusQiLf8g03mbPUIS+uvJFdPMFdYhWqHXKKzRae07WISFoitJUlUhBGkyQWSMs7jG1kKbybN6z4IzMqdq3d5snRXtO+XC6ehIfXMSXhBQf7bgf4lHvEVpnIjytarnfivtvNKokPZW2olJPCzI8GX2iaqmqFS/V5oig06sMfJmzgAD582DG9ROXC1uhJnXIWEVvUyRHi61Ww/KfbZaTRJm0txRJSWVkRZM/tEr4QUH+24H+JR7x9BTTdCnbq82ZFRpVZ4+SFweQalzN7qGMys7ynpb6rS+0F/rlcor1FqDTVYhLWuK6lKUyEGajNB4IizvMZ7a0iPFm6Xvyn22Wk2tK2luKJKSy7gsmf2izTTUfH4WQTav4cUW29PPPT31hR1FDw0k8kVv1hqHaj+XVUafOvTT8oU6PINFwN7RNOpXjKFceDHPpdVKZCplaam1GLHWdfqCiS68lBmXC8eDPi3GDT5u3YuLCa5Xe+CNCFNvTzz099YUdRQsfhBQf7bgf4lHvFUuqo0+demn5Qp0eQaLgb2iadSvGUK48GI4RabzbnwZ3JrNiuJ/dJPJFb9Yah2oplz/wBB1J9YqF7BatLqpTIVMrTU2oxY6zr9QUSXXkoMy4XjwZ8W4xUrieZkUzUd5h1Dja7hoRpWhRGkyx6DIWYp8632x+KJE3/QsHwZt4Dg8IKD/bcD/Eo94eEFB/tuB/iUe8U+TLqJ7o5dEvO/UXpSN2I1wZBoa60/deobzLiXG11OKpKknklFwPGRlxjXxl+kfxDwXwov5HsV38WBiczl7uToWF7TG2DDatMiQtd7jdmymY6Do0FJKdWSCM8q3ZP07jEnozPOfu+aOMt1I4+TLeKjq5ybXBzNXtIT/hBQf7bgf4lHvFU1UrFIlad19iLVIbzqoatlDb6VKPBkZ4Ij+YalGL5yObeihUa5DwNOeu+k2Rp/Sq9WolbkxkRIrRoo9Dm1aRlTZYMo8Np10y+dRIwXpMhWf5S2nX7uaq/5T3V/pw0G1vNikcwj9mkSg+bnrM2oaqMq/lLadfu5qr/lPdX+nB/KW06/dzVX/Ke6v9OGqgOTorVj6hUHUGLJmUGBcsVuI4TThVy2KlRVqMyyRoRPYZU4X/eQRkR7jPIoWoNX7y600KX4UUSg5t+Sjuqrt7bB5eT4uOGa8Y8bvG9B7jGxAJqFVUZOTV8zXj3Mjq0+cVr2znzPbNauimU624tsSJS3XZFyqYNpxXc9VdQ2a23kNYJJoNwz2EntEWNxnkT0WczU9PptSsrUK5J1wwqTDqs2MuoPvtNPtHtuIUpWeDWvDiVM7ZEZEXiYLI3ocNao0G4Ka9Sal3QcaQWy4TEp2OpSfSW20pKsHxGWcGW4xcll8ZyTcbZ74528+bPp7CssllFWUvu1s3V+5hkS5q5VKdSLvuGv1Sn2xdVwyHJDqZ7sZMOEls0RUcIlRGwha05UaTTkzLJ7xw3TVqhFqZ1TT+tVWrvNWK+cOfLSo5TjfdpEpzKkJNRkjaNKtnJkRKyrjP6GptOg0enx6VTIqI8SI0lllpBYShCSwRF/cOkFl8YyuoZurdbtzdWbToPeiycbOWf77e8zDRWoVGoKri/CJiqUpK43cpN1SVUuAdNr+dT3U+0jbz4qjSk1EgzMvF9OngApVqiqzc0rFinB04qLdwKZc2jmmN5VZyu3RZsCpT3UpQp98lKVspLCS48ERF6CFzAQSjGatJXLFKtUoS5VKTi+x24Gcfyc9D/o1o/3Fe8P5Oeh/wBGtH+4r3jRwHHM0vVXgWf+Ryz20v1P5njDiR6fDYgRG+DYjNpZaRkz2UJLBFk957iLjHsACUpttu7ACAuS8oFuTKfSSgTanVKoa+5IEJKDdWlBZWszcUhCEpIyyalFx4LJj9RLxpKqK5XK4l+3WGHTYfTWUpi8EslY+Wo+DUR7sKQpSTzuM94k5qdlK2kj5cb2uTorlzad2VeUpmZdFuxak8w3wTSn9o9hOc4Is4LeY6ZV62bBix5027aLHjS2jejvOz2kIebIyI1oUasKTkyLJbt5D3O5rbSl5argppJjxkTHjOW3huOospdVv3IMiPCj3H849gqtN8qN14nknCatKzKv8RWkX7hUv7iveHxFaRfuFS/uK94szl12uzPi0p65KWibOQlyLGVMbJ19KvkqQjOVEeDwZEecDhod/W7XHpcZEnuN2LVHqOluWtttUiQ0RGomi2jNZYPJenBHuITc9lbV+VLxZHzdC9rLwRLUej02gU1ij0eImLCipNDLKDM0oTkzwWfRvHaKpO1SsWFV6bRPCKC/KqxvFHJmS2pGW8kZKXtEkjNSTQRZyat3oPHU1flqJo9PrVVrlOpTFTIzjFMqEYuEMjwZJWhxTaz4vkKVxiKVKq/6pJ5/3+7MkVSnoTWYsICIqF32nSJZQKrdFIhSj2CJmRNabcPbzseKpRH42Dx8+DwJcROLirtHaaegAADw9KdVNHtMq1UJFWq1nQJUyW4brzzpKNS1HxmZ5HL8RWkX7hUv7iveL2AnWVV0rKb8WROhSedxXgijNaIaTsOofYsanNuNqJaFoJRKSojyRkZHuMXkAHE6tSrrybxZ1GnCGqrAAH5WtDaFOOKJKUkZqUZ4Ii+cxGdn6AU+jalQq85EfptsXC7SZz6o8arJiIXGcMskS9lKzeQ2ZkZEtbaU8WTIjyJ1F0Wy5VXqE3cVMVUo6TW9DKW2b7aSIjM1N52iIiMjyZekSSozg7NHCqRkrpndKjMTYr0OSjbZfbU04nJltJUWDLJby3GKT8RWkX7hUv7iveJ+PfVky0SHIt40N5ERnumQpuoMqJlnd/OLMleKneXjHu3kOxy4aAyt5t2uU9Co0YpjyVSUEbcc+J1W/cjcfjHu+0dwlXo5oNrxRzJUqmeVmVT4itIv3Cpf3Fe8SNA0t0+tapIrFu2rDgTW0qQl5klErZUWDLj3l/EfuoajWrEiUuoQqg3VYtXqbVKYfpzrb7ZPrzjaUSsYLG/GTL5hIOXfajLCZTtzUpLK1utpWcxvZUtojN1JHneaCI9oi3lg8juVTKmrScrPtZyoUE7pL9iXAVK2NTrXvA6cdAklIbqRSDbV3QwlSOBPCiU0bnC5MjJRYQeCURq2ckJSLednzosybCuujSI9OLMx5qc0tEYt/wDtFErCOI+PHEYhlRqQdmn95iRVISV0yZAR9JuCg17hzodbgVHuZfBv9ySUPcEv/sq2TPZP7DEgOGnF2Z0mnnQAAHh6eUqMxNivQ5KNtl9tTTicmW0lRYMslvLcYpPxFaRfuFS/uK94vYCSFapS1JNYM4lThPWSZRPiK0i/cKl/cV7xI0DS3T61qkisW7asOBNbSpCXmSUStlRYMuPeX8RagHTymtJWc3bFnKo0k7qK8AAAISUAAAAAAAAAAA4qxR6bX6a/R6xETKhSkkh5lZmSVpyR4PHo3Co/EVpF+4VL+4r3i9gJYVqlNWhJrBnEqcJu8kmUT4itIv3Cpf3Fe8TFs6d2VZsp6Za9uxaa8+3wTqmNottOc4Ms4PeQsYD2WUVprkym2sWeKjTi7qK8AAAISQrlzad2VeUpmZdFuxak8w3wTSn9o9hOc4Is4LeYh/iK0i/cKl/cV7xJVy/WqRc7FoQ7aq9XqL8E6gSIRxkpSyS9gzNTzzZZzjcWeMSZ3RQ2GXVVSpRKa9FjokzI0uWylyIhe4jd2VmlJZyWcmkzLcZi0p5TTilGTS3WfkQONGbbaV8CtfEVpF+4VL+4r3jsnaR6b1ONCh1C0ochinMmxEbcNSkstmo1bKSzuLJn/wDr0EQ55Orlsxaq/SVxqgpxirRaMpxCGzbN59vbQsj2/kEXGeM/MRizR7jt6WmEqLXac8VTNZQjblIUUnY+XweD8fGDzs5x6R7OeVRs5Sl4vq+R5GNCV1FLwRXqZo7pjRqhHqtLs2BFlxHEusvNkolIWR5Iy3jxkaJaUSn3JUmx6c688s3HFrSo1KUZ5MzPO8zMSVavuJS62dt06iVSuVNuN3Y/GpyWsx2TPCVLU842nKjI8JIzUeD3YHSu9rYi02DVK1VmaIiol/MNVdRQnjUXGg0O7J7RfN/AyyRkYc5lWaXKln7Xccihoss3YQPxFaRfuFS/uK946aZo7pjRqhHqtLs2BFlxHEusvNkolIWR5Iy3ibqF32nSJZQKrdFIhSj2CJmRNabcPbzseKpRH42Dx8+DwDt3WmzU00V656S3UVukwmIqa0TxuGRGSCQatrawZHjGd5DznsqktaVsWe83QT0L9ivSNEtKJT7kqTY9OdeeWbji1pUalKM8mZnneZmOljSPTeNS5VEj2jCbgTXG3ZEdO0SHVt52DMs78bR//wCIhPN3Hbz1Yct5qvU5dVaTtuQUykHIQnBHk287RFgyPOPSQjKjqPYtMp9UqTt10t1ujINU1EeW264yedkkqQkzMlGrxSI95nuBVMqlaKcno3vu/wBDkUI57L9u8iPiK0i/cKl/cV7w+IrSL9wqX9xXvE5Cv2zZ0elPoualtKrTaXYLLs1pLj+0eNlCdrxjJWUmSc7yMhy1vUm0qHWYFvOVNmXUp09qn9yRXmnHo63CM0qdRtEpCN3Hgz3luHSqZW3yVKV8WcuGTpXsvBHbbFk2pZbchq1qJHpqJRpU8lnJEs05wZkZ8e8xOAAqylKb5UndliMVFWirICq1/S3T66akusXFasOfNcSlCnniUatlJYIuPcX8BagHsKk6bvBtPsPJQjNWkrlE+IrSL9wqX9xXvD4itIv3Cpf3Fe8XsBL0qv678WccxS9VeCPKLGYhRWYcZGwyw2lptOTPZSksEWT3nuIeoAK+klAAAAAAAAAAAAAAAAAACNuSseD9v1Ku9z90d7ojsrgtvY4TYQatnaweM4xnBirs6y2S1BiP1qe5BlPU+LUZDCYr76YzT5FsKW4hvZJO0eztHgiMyzjJCyXbSZNetar0SGttD8+C/GaU4ZkglLQaSNRkRnjJ+gjGWzNFrnkUmswkTqVwtQtenURlRuuYS8weVqUexkkHuwZZM/SRC7k0MnnH/udnf9s3+ytWlWi/+tXL3M1VsOBVn6LLra0SYshqJIPuJ82WXXccGlbxI4NG1ksGaiI9+/cY6fjEs41pbKrmalVY6GRFGd3zSLJtfJ/4vk/aMs+L29bgqd7WyiLFhUqq1Gmm9OlJeQs22W2zUqOWxsvZNJp3qSSTL05wUx8VF4M3AyceRR1Uhm7/AAm4Vch0pJoNODa4Mm9kjLfg9vfu4hM8myWKs557X0rqT6utvMRqtXf5c3+32l3sO/oF/wAWoy6fT5sVFPnOwv8ApLDjZr2DxteMkizkjykjM07trBngWgU7Te1a3Z8es02qHBcYlVaTUIr0d5alqQ8s1bK0KQRIMt3EpWcnxY33EUq6gqjVPV3Fmk5OC5ekot10KuxL8ot/0SlLqyIkN+mzITTrbb3BuKJSXGzdUlBmSk4MlKLce7Ij7kp96XFJti7HrQU0qg1V6QujFPZcfdYUg20O7RmlknU52tjhDIiP5RnuGlAOo5TKNsyulbfoz5tPbicuinfO8+fv+0YVRNK7ujV2nVSdRmkx1orsk4xSG1JgKlkXBR/lYUfysmgjSRqPf6T5pmkN7S7esmmsxOAW5TmaLc6DkNmbcRDyHSPJKwsyNK0+KZ7l/MNur1epVsUeVXq5K7mgQkcI+7sKXsJzjOykjUfGXEQ/NWrbVOtyZcbDfdLUaC5NQjJo4RKWzWRZMt2SL5t2eIWll+UNqSS05sc/z4ELyWkk0395vlxMouTTm7JMq6qFT6Kl9q5apBnRawT7SUQG2djKVpNRO7SODPY4NJke38pO8eLdgXrTKgzXEW+5MODe0usFGaksE6/EdZNCXEmtZII8/wBVSiP7BaaNqpVZEi1lXBbMCnwrsYcfiPxqqqQtnZaJ3+dQphsklsnvUSlER/ZvHrWtarTi2zVa/QHTqr1LjtS+5VodiG+yt0mycbU4347eTPx0EpO7Gd5CVVMrVqfITvm6/wC3O07LRbcR8jJ3eXK+9Oi3bcpFtafX3R1WpNmWw6pcJ2uImMtS46lMFLM+CWZm4RKTvyeyZqIi4s7h50LTm+bdpENUm0zqzsm0nqA5ETKjkcJ83lKyo1rJBtqJRZNBqVlPyRqy9R7OZKR3RVuDVEnsUx9PAOnsSnSI228knfklF4xeKXpMhZhFPLq8deKV+x9r6/7uB3HJqT1ZaMOxdXYYDUtIL0bplw09EFNSkPWlTqREklIQRPyGnNpxJbaiNJFhJkasFuL+A3aA261BjNPkZOIZQleTz4xEWd46AFavlU8oSU93yS8ielQjRbcfv7uRV1VzwZtqqXF3L3T3tiOyuB29jhNhJq2drB4zjjwYqVG1UlKqdNg3dQ4NGj1ijrrESWzUzkNpbQlKlpd22m+DMkqI870/aLRelFlXHaNZoEFxpEiowXorSnTMkEpaDSRqMiMyLJ+gjFQ+JShPWY9RHXH01iXREUlyoOzJEzgSJJZJonlnsN7ZZ2UkkjLdgh3Q6Pzf/bpb8O3T5M5q89yv+vRYsELU+xp0GdUUVvgGKbHRLknLjPRlJZWXiOEh1CVLSriSaSMlHgiyZiNrerlBhUVdWozLtQcYqUSmyYr7bsJ5hUhaSSpSHWyWRYVtFlOFY3GKzWNH7pu9qZOuCdSoFRRSItMgtwnHH2FKZeS9wjpqQgyJS0EnYJJ7JHnKj3D0rmlN2XNJqdwVGRSIlTqU6lOFFZkOuMNR4iyUf86baVKWrKsFsERbiyfGJ40ckTTcv3w6ln351osRSqZQ1mX3n/0WaPq5aaGiOqz223npsyHHahMSpSnVRzLhCwTCVbREeTIiMvmUrGR1zNU7DhQqbUXa6a2KtHXLiGxFeeUthBEa3FJbQakJTneayIi354jFPoWkVxUyvUmqSZlMW1AqtZnrJDjhqNEtOGiTlBFtF/W3lj0GYqFUsy8dOolvNw6SurS0W3UqNLXEiSJMdG26bjZpNptTm2e3xKShJ4MttPGOo5NktSXJhJ3x97s7F4nLrV4K8l+2Hb2vwN/o9Xp1fpUWtUmRw8Ka0l9h3YUnbQoskeFERl/eQ/VUgoqlMl0xxw0JlsOMKURb0ktJpyX+8QemlKnUPT63qRU2DZlxKcw082Z70LJJZSf2kLMM6aUKjUHmTzFyDcoJy3meWH4dWxRKJZMuyDd724hv1QqgwmIcdBHh1BEanlLMiT4htpLJn4xFvFRh6bXohqk245RiaOjV2ZV3K33Q0aZjTm2ZNpSSuF218ISVbSUpIkcatw3EBOsslFuUYrPjpz59Pa+zsInk0Wkm3mw7OzsMQs7SivxitOn12iExCj2zUaXVcPtK2HH3CMknsqM1ZI1HkskXzkOGl6R387ZNWXXmWn6+udAJuOt9BplwYOwTbRrIzIuEIlKwoy342sbxtUa5aJMr8y1483bqdPZbkSWODWWw25nYPaMtk84PcRmfziArt612JfEex7ft2BOkPUxVTU/MqS4qEpJ3gzSRIYdMzzg/QLMcsymcnZK+nqzX5W96HfgQvJ6MVnb6v2tu+9JRZ1gXnV7jVdSKCuCzOuqmVE6e5IZNxhiO2pDj7mws29pRmXioUpWCL+Bc9F0/vqHXaDAfttaYdIuGqz3agctg2nGZBL4NSUEvhP62DI0kZbuPfi6UjWm05NtwK7XFu0x6amQaorbTstTZMLNDrmWkGfBEZf7QySnB78cQ6C1ZoDNwVilVI0R4NN73ExPQtTyZSphZbIkoQeyWcFtZMjzncOnWytJw5GjNofu5s+fTbeeKnQzS5Wn/AN6s2gzWj6W39KpFvUSTR3KU5TaHWaU/KcksKQl2RvaUng1qUaD2sHuyWDyRbs9FW05vivUaVwFrHSXodnFb6IqpTBnPkbSTI0mhZpJtOyeDcMjyr5JbzG0Um4qPXJFRiUuZw7tKknDmJ4NaeCeIiM05URErcZbyyX2iSEUvSFZSu4pPTv3u/Xvv8jtZJTcbJu3dgZ5Yto1qg3xWKnJpxR6dJo9LiMKJ1Bkp1hs0rTskZn4u4smWD9BmNDABSq1ZVpcqXYvBWLNOCprkoCrX5eUy0UUZunUdmoya1U2qY0h6WcdtClpUZKUom1njxfQn0i0im6kWRMvYreZjSUss0yssz5R90usOGylKiUTa2vGSvxiwZGn+JDrJ+Q6i5zQeVeVyHyNJzUnVanbNWj3bDTSKhSKkimORo7jk7uhxxJKa4DYbJxw1Eedkm9osHkhKK1LspNLh1dFXW8zUHXGIzTER92Q443nhE8AhBukaMHtEafF9OMiDrWlcaGdHqVkMR2p1IqyqqtufKeWU5biDQ5wr6uEc29k8ksyXjGMYPdD03Sm6aHVIF5wJVKlV1FRqM6XCeecaiGUtJEaW3SbUsjRsJ8Y0eNk/k8Qtc3kk1yk2uztto32vmz3em3aQcuvF2av993gTNa1io8CTCOmIizadPosqst1BchaGkoZNJbKkoaWss7R5wk1JMjLZM9wkD1bsViQiDOrPBSiKLwxIiSFtMqkJSbW07wZJSlW0WFK2ftwe4UGToPcSaXHhRKvTXHe8lUhyFuKcQnuqW4TniESVHwaTyWTPa3EeN+C6qjoxc0ym3LEam0onay1RW2FKccwnuNKCc2j2NxHsns4zn04EvM5E7Llfd7dXVn7iNVMpzvk/dvmXuo6pWLSqw5QptaWmWzJZhOEiG+42iQ7jg2jdSg2yWZHnZ2skWTPGDFrHztX7fvAryqdr0u3Jj0CoXjCrZS3ITxFs4SpwydSg2eDSZHvU4S8ljY35L6JFbKqFOjGDg73Xkv8AZPQqzqOSktAAAFMsAAAABXr/ALsOxrQqV1FT+7jp6ELKOb3BcJtLSnG1sqx8rPEfELCKtqfa0+9bEq1r0x2O3JntoQ2qQpRNlhxKj2jSRnxJP0GJaCg6sVU1bq+G84qcpQfI02zEfXb7ua1aG3W7htamJTImw4bLcOruPGfDuEg1KNcdGzs5I8FnO/eQ716n2Wme9TEVGQ5KaRIWhCIMg0yOA/2qWV7Gw8pPEaUKUeSP5jETdelsCXa7FCs2kUWjuFUoM6RwUdMdDpMuJUrPBo8ZWCMiyX95Cr0fR+9GLzp9wViXR5RQ3Kjw9SVKfdnS230KSySiU3soS2k0kTZL2S8YyxnfchTyWpByk7PPwzab7/vqrSnXjKyV1m/31E7b+ulBr8q3YiaLVIx3AzIkE47FeJthtszIjNexhRHuyoj2ElkzVxZmUawadOQJdT8ITRGhMtyHVuQ30bTK18Gl1slII3GzVu20EpP2ikUzR68WIFs0+c7R+Do9MqFFlKZmvbSmJJERPIyyXjllX82eC3F4+/dxFoRcz1rS6NIVR0zU0yNTIspVUnyTdQ2+hxZqJ0zQwgyQWGkNqwoz8Yi3CWVHIXLWsr7mut+VjiNTKUtF+7sXnc163btoF1FL7yTHHVwHSZktux3WHGlmklFlDiUqwZGRkeMH6DEwKjado1Gg3dddelPRlRq65DXGQ0pRrQTTOwrbI0kRb+LBnu+YW4ZtWMIytTebNwz/ALlym5OP9ekzyv2JMr+rEOvy2Z7dIZoK4ipMOpuxFlIN/aJBmy4hwy2cn/2f78Cr6mWHeUyqXQVuW6/VI9wUCJTmHimsp4F1l1RmTpvOEtWU7yUW1k+My3mW1gJ6eW1KbTWeytbP136yKeTQmmnvz+Rhzum96KuF6cVG/mF3VSKkSu6Gt8ZmPsOrxtZ3K3Y4z9BGGkdvok6lV2XCmMTbetdySxRnY7hOMk5MWTrqUqLcZoLxDwe7PoG4gJHl85QcGtKt992bvZyskipKSeh3++/gZ/JpVyWrqFWLtpNuv16DcEKO241FkMNvxpDBGlOSeWhJtqSrjJRqIyPdgQlyW7e86tyLofsxue5WrXcoy6ezPZWVPfUs1eMt3g0qbMlFtGglGRpPBGWDPSKRctErsupQaVN4d+kSe5JqeDWngncEezlREStxlvLJCpVjUi4I1wXNRqLatOltWvDZmSX5VXXGU6lbSnMISmOsskSTLeoi4v7lKpWcs0VdJXvmzZkt67NB5OFNRzydm92fPv3YlBqWkF6N0y4aeiCmpSHrSp1IiSSkIIn5DTm04kttRGkiwkyNWC3F/AddT0zvKQ5cclqibT8+v0WbHX3S1tLZjkjhV5Ne7ZPb3Hgz9GRfour1kOQqXJn1FyE7U4kaZwS47qyjIfMib4ZxCTQ0RqPBGs0kfoH9omqNHqNVm0ipNd75DVdfoUMtpbvdbraCWavFRhvJZ3GeN3GJ+kZWrtw0dj3W7exaCLmcneZS0/7+ZQKTpVdzVzOx6gmqmw1WZ9VjVNuZCRGRw7ZklWzwSpK3PG2VJM0oLZIyVxDrhWZdr2nEqyX9PYkapxLdfpTdWXLj7Ule0ey2zs7SybXuWZuG3hR/JPeY1agXFR7op/fWhTO6YvCuM8Jwa0eOhRpUWFER7jIy4hJCCeXVb2lFXVutZ1ft7c5LHJadrxeZ4bz5/n6Y3tVZz6plDrPcdaptLhusNT6c13KqMZJUTy1peUSCNPCpNjaM84URHxdjOnl7Q61T6eq2e6WYd7Kr66wUlgkuRVl6UmvhTWWcGWzxJLBmN0Ae/wDI1WrWX79VuvqCyOCd7v77gOKt1WPQqPOrctK1MwIzklxKCyo0oSajIvt3DtHLU2pr1OktU5cZMpbSksnJbNxnbMt22kjIzT85EZChG11fQWne2Yplnapd/wC3JN4V6mQaTQ2ozcluoM1REppWS8dpZbCFodQeEmnZPJngjM+PxuzWq3KDas64qTFl1N+DKZhuQXI0iK6247g08KlbW22k0nklGjCuIsmYqEfQOrvRriNCaLbp1iNFNECmSH5ENcxl3hTeUlxCODQZlsk2klElKj48YORujSS7ruj3DVJ0mjxKtW3achEZqQ65GZYirJRmbptkpS1HtbtgiLcWT4xq81kXOXbzXWbszY9t2nu3XKPOZTyLWz2+eHZmtvJmla4W26/U49xRJdHOlvRojrjkSUptch4skhJqZSot5kRbaUqMsnskW8TFO1bsCqVBmlxa08mS/JVCSh+nyWCTIIjM2VqcbSSHMEeEKMlH6CPIqVe0puyo3BWZUN+k9w1OvU2socckOpdQUckkts2yaMjyRGZHt/Nkizkv1I0kuZ6a7JaqdPa270VcaVktZqRHNvZIsbGOEI9+Pk/94culkclflWzdfYuzrueqplCzWv3duPUW5nVWxZCpaGqu8Zw4i568wJJcJGQo0qday3/PIIyPxm9ovTxCRtu9bXu9clFtVZFQKGTRvONNr4NPCJ20kSzLZNWyZGaSMzLO8iGWW5pNqRQaz4Q7VtPVNuiyaeqW9NkPOzpTiyNMiQpbOTIiIi2Mngk4I8HgrbpBp7XNM4E+3pc+BNpjjqJUV5pHBvk8pBcMlaSSSTTtF4h5M8bj4ixHXoZNCEnTld5rZ/Hd99x3Sq1pSSnGy++00IAAZ5bAAAAAAAAAAAAAAAAAAAAAAAAIS7rvpVlU1qq1hL5sPSWoieBQSlcI4eE7jMtxnuz9vzDqMXNqMVnZ5KSirvQTYAA5PSu3xYVt6hUV2iXFCQ4laTS1IS22b8YzxlTSlpVsKPBFkiB+zabBsmoWjbECHAbkwX4zSUNJabNxbZp21khPGZ4MzIsixAJFWmoqN8yd7HDpxbcrZ2YvT9B5lEeo8mgqpMNcihLoNyIaJSCfStvByGTJG9wlbzySdrBZMt440aF3M5adQoj6qOmedIYpMSWqqT5JuJQ+lalKJ0zQwgyQWGm21YUZ4URbhugC1/yNfTf7Tv8AfYQdDpaLGO1jSW8pNXqBU+TRjptQr9PrinXpDqX0cAlCVtEgmzSednJK2vsMizktiABXq151klLd/r5E1OlGm247wAAISQAAAAAAAAAAAAAAAAAAKbS9I7Co92ybygUCG3MfQ2ltoorJMxloz/ONESCNC1Z8ZWd4i720kh35eZ1avR4MilKoDtMJLhGp9mQp3aS83lOE7JGeFEojzuxgxowCxHKq0ZcvlZ7WInQpuPJtm0mGnovfKolJcmSqPOmU2kPUBbZVObCYdjbWWXFHHSlSjIspWyfiqIiPazxd1V0UrrnfnvTLpbaXk0RVPbU48SNqDjaSvJLUhJ48U9pZ/ONkATf8hXve/wB3uR9EpWt96LFL06tW4Ldk3JULhVTyfrtVVUENwnluoaSaEp2TUtCDMyNJ78b+PdxFdAAVKlR1ZcqRPCCguSgAAODoAAAAAAAAAAAAAAAAAAAAK5Qb7otx29OuWnNyu5IDkhp0nGySs1Ml45EWcHvIy495l828dKEpK6Ry5JOzLGAibTuWDeNuQLnpjT7UWosk80h9KUuJSZmXjEkzIj3egzEsPJRcG4y0o9TUldAAAeHoAAAAAAAAAAAHm+wxKYciymW3mXkG2424klJWkywaTI9xkZbsD0AAVC09KrJsur1Gt0Ojx25VQfN4lHHZLuUjSRG0waUEaGzx8nJ7xU7y0NavWt3fVamVO4SrxoaaRJNJqfhvsoMjNWU7kqPZIyIzyXGXENbAWYZXWhN1FLPovg0/Ihlk9OUeQ1mMWnaO3fV6o9VK0ujS3K1EgsVZs6pPZYbcjnsqWhpjgykJUkiUSVmjYVxGZcfYvSe6odUVXabIpL0li7X69HjvyHW0OR3GeD2FrJtRpWXHuSovtGugJOn1tG77XDMcdFp6SoaWWnVrLtJFErb8R2X3XJkLVFUo28OOqWRFtER8Svm/3i3gAq1JurNzlpZPCKhFRWhAAAcHQAAAAAAAAAAAAAAAAEDY140y/wC1oV3UZiUzDn8JwaJKUpdLYcU2eSSpRcaDxgz3YHSi3Fy3Lz/8Z5yknyd5PAADk9AAAAAAAAAAAAAAAAAAAMw+EN5kQOnqd2xDTxmHwhvMiB09Tu2IWsi/EQxRBlWxlgaeAAKpOAAAAAAAAAAAAAAAAAAAAAAAAAAAAAAAAAAAAAAAAAAAAAAAAAAAAAAAAAAAAAAAAAABjmkXJFc3P6z1lDYxjmkXJFc3P6z1lC7k+xljHzK1XaRwl5Fo0K5IrW5gnrGL2KJoVyRWtzBPWMXsQ5Vt54viSUNlHBcAAAICUAAAAAAAAAAAAAAAAAAAAAAAAAAAAAAAAAAAAAAAAAAAADMPg0ciVuf+M/5t4aeMw+DRyJW5/wCM/wCbeFqH4WfvR4TIJbeOEuMTTwABVJwAAAAAAAAAAAAAAAAAADMPhDeZEDp6ndsQ08VLU2xn9QraTQY1b70vNy2ZbcruYn9lTatovENSSPf9v9wsZLONOvGU3ZJkOURc6Uox02LaAzDwA1t+sB+VIn6g8ANbfrAflSJ+oddHp+1j4S+k856fs3/H6jTwGYeAGtv1gPypE/UHgBrb9YD8qRP1B0en7WPhL6Rz0/Zv+P1GngMw8ANbfrAflSJ+oPADW36wH5UifqDo9P2sfCX0jnp+zf8AH6jTwGYeAGtv1gPypE/UHgBrb9YD8qRP1B0en7WPhL6Rz0/Zv+P1GngMw8ANbfrAflSJ+oPADW36wH5UifqDo9P2sfCX0jnp+zf8fqNPAZh4Aa2/WA/KkT9QeAGtv1gPypE/UHR6ftY+EvpHPT9m/wCP1GngMw8ANbfrAflSJ+oPADW36wH5UifqDo9P2sfCX0jnp+zf8fqNPAZh4Aa2/WA/KkT9QeAGtv1gPypE/UHR6ftY+EvpHPT9m/4/UaeAzDwA1t+sB+VIn6g8ANbfrAflSJ+oOj0/ax8JfSOen7N/x+o08BmHgBrb9YD8qRP1Csdza2/GaWnXx3f/ACLv13Z4NRP/ALjgeC4P/i2tr7MekdxySM78mrHNn/N9JzLKJRteDz+78zdgGYeAGtv1gPypE/UHgBrb9YD8qRP1Djo9P2sfCX0nXPT9m/4/UaeAzDwA1t+sB+VIn6g8ANbfrAflSJ+oOj0/ax8JfSOen7N/x+o08BmHgBrb9YD8qRP1B4Aa2/WA/KkT9QdHp+1j4S+kc9P2b/j9Rp4DMPADW36wH5UifqDwA1t+sB+VIn6g6PT9rHwl9I56fs3/AB+o08BmHgBrb9YD8qRP1B4Aa2/WA/KkT9QdHp+1j4S+kc9P2b/j9Rp4DMPADW36wH5UifqDwA1t+sB+VIn6g6PT9rHwl9I56fs3/H6jTwGYeAGtv1gPypE/UHgBrb9YD8qRP1B0en7WPhL6Rz0/Zv8Aj9Rp4DMPADW36wH5UifqDwA1t+sB+VIn6g6PT9rHwl9I56fs3/H6jTwGYeAGtv1gPypE/UHgBrb9YD8qRP1B0en7WPhL6Rz0/Zv+P1GnjHNIuSK5uf1nrKEp4Aa2/WA/KkT9QlLR08nWVp7U7V779+Zkvux/h+5yj8I68RnjZ2jIt5/Pjf6BLFU6VNxU023HRfdfrSOHy6k03FpJPTbfbqbGhXJFa3ME9Yxexi9nMa9Wba9NteHY9uvs01hLCXXaqe0vHGZ4LBbzMTPf/wCEJ9H9sfiqvcFfJ3UqynGUbNv8y68TylWUKcYuLzJbmaeAzDv/APCE+j+2PxVXuDv/APCE+j+2PxVXuEXRJetH9S+ZJ0heq/BmngMw7/8AwhPo/tj8VV7g7/8AwhPo/tj8VV7g6JL1o/qXzHSF6r8GaeAzDv8A/CE+j+2PxVXuDv8A/CE+j+2PxVXuDokvWj+pfMdIXqvwZp4DMO//AMIT6P7Y/FVe4O//AMIT6P7Y/FVe4OiS9aP6l8x0heq/BmngMw7/APwhPo/tj8VV7g7/APwhPo/tj8VV7g6JL1o/qXzHSF6r8GaeAzDv/wDCE+j+2PxVXuDv/wDCE+j+2PxVXuDokvWj+pfMdIXqvwZp4DF5+petlNuWl2nJsK3SqFYbfdipKpLNJpaIjXlWN24xM9//AIQn0f2x+Kq9w6eRTjZuUc/9y+Z4spi7pJ5uxmngMw7/APwhPo/tj8VV7g7/APwhPo/tj8VV7hz0SXrR/Uvme9IXqvwZp4DMO/8A8IT6P7Y/FVe4O/8A8IT6P7Y/FVe4OiS9aP6l8x0heq/BmngMw7//AAhPo/tj8VV7g7//AAhPo/tj8VV7g6JL1o/qXzHSF6r8GaeAzDv/APCE+j+2PxVXuDv/APCE+j+2PxVXuDokvWj+pfMdIXqvwZp4DMO//wAIT6P7Y/FVe4O//wAIT6P7Y/FVe4OiS9aP6l8x0heq/BmngMw7/wDwhPo/tj8VV7g7/wDwhPo/tj8VV7g6JL1o/qXzHSF6r8GaeMw+DRyJW5/4z/m3g7//AAhPo/tj8VV7hM6L2nV7H00o9r15DSJ0LujhSaXtpLbkOLTg/T4qiHcoc1k8ouSbco6GnoUurFHEZc5WTSdknpVt6+RdgABSLQAAAAAAAAAAAAAAAAAAAAAAAAAAAAAAAAAAAAAAAAAAAAAAAAAAAAAAAGYH+0yXqL/6gNPGYH+0yXqL/wCoC1kv5/dZBX/LijTwABVJwAAAAAAAAAAAAAAAAAAAAAAAAAAAAAAAAAAAAAAAAAAAAAAAAAAAAAAAAAAMwvDl40+5jVuySNPGYXhy8afcxq3ZJGni1lGpS93/AOpEFHWnj5IAACqTgAAAAAAAAAAAAAAAAAAAAAAAAAAAAAAAAAAAAAAAAAAAAAAAAAAAAAAAAAAAAAAAAAAAFad1N02ZcWy9qFbTbjajStCqtHI0mXGRlt7jHUYSnqq5zKUY6zLKA8Yc2HUYrU6ny2ZUZ9BONPMuEtDiT4jSotxl9pD2HLVszOtIAfxSkpSalGRERZMz4iIfiPIjy2G5MV9t5l1JLbcbUSkrSfEZGW4yAHoAAAAzA/2mS9Rf/UBp44zm0lNVTAVLiFU1MG6lg3E8ObJKwaiT8rY2t2eLImo1Ob5Wa900R1Icu2fQzsAAEJIAAAAABzQqlTqjw/e+fGldzPKjvcC6lfBOp+UhWD8VRZLJHvIe2ekXOkAAeAAAAAAAAAAAAAAAAAAAAAAAAAAAAAAAAAAAAAAAi6zdNsW4babhuOl0s3t7ZTZjbG3/AA2zLI911ujNQmKk5V4SIclSEMyFSEE26pZ4QSVZwo1GZEWOP0DrkSsnbSecpaLnaAAOT0AA5p9Sp1KZTJqk+NDaU4lpLj7qW0mtR4SkjUZFkzPBFxmY9SbdkG7aTObw5eNPuY1bskjTxQbpatBGo1AuWsX1SaZMoEWX/wBXyZDSFutvN4NZ7SyNJJJOc4MsEf8AEXxtxt5tLrS0rQsiUlSTySiPiMj9JCxXd4U+xW/dvzIaStKePkj9AA8pMqNCZVJmSGmGUY2nHVklKcngsme4t4raSY9QHM3Uqc7PdpTU+Muaw2l12Ml1JutoVkkqUjOSI8HgzLB4HSPWmtIvcAADwAAAAAAAAAAAAAAAAAAAAAAAAAAAAAAAAAAAAAAAAAAAAAAAAAAAAAAAAAAAB866Y1ugQ7cdjT9Gq5cDxVKbmfFoseQ2vL68ES1rJR44uLdgfRQrlg2f4DW93i7492/9KkSeF4Hg/wDauKXs7O0ri2sZzvx6BboVo0qUk87bXWuvqK9WnKpOLW6/kUG9b5rUO7WbFtc6tRoUCmtTH10e3++D5G4ZkhrgySpDSCIsmZpPJ7iwP3T71vqZY0pysViNbEmFVCiLrddpyoPDQ8ZJ5th0tk3j+Tsn4uSP+Atdz2BUajcrN5WpdCqDV0xe4pC1Q0ymZLG1tElbZqSeSVvJRK+wRlS0mqlSo9PRJv6fIrtOqnfZupS46X2uGwadgoxqJKWyI9yUmWD35yLMauTOEU7LRfNd333zZ13vAhcKyk2r+Obj5LEplNvirXE/dtnQ9SDuCEVvOz41UTTGmXGVpVsuNFhBNuJNP9YknjO48kJXTyp3HRY+mFAXcDsuFWaZJeebcjspwhEZtTTZGlJHhBme/OTzvMxYadpbViuWbdFyXs5VpNRo7tIeQUBDCEIUrJG0SVHskRZ3K2jMzzn0DmZ0kr8ejW5HYvxLdWtVa0U2eVKTsdzKbJs2XWTcwvxS+USkn9gknWyeScE1Z9m/ktX1Vodty67HMadZPlNO+O66fX1X3kRfF/3fR2NR10uqpaXQXKUmnbUdtRM8MSeEzlPjZyfys49GB+buum+rRlUWz1XVUqjPrBPTpFQhUBEl+Mw2SC4NmO2nB5UZ+OslYI9+TEo9orNmUe6YNSvV2XMupyG8/LcgpLg1sGRnhCVkWyeCIiyWyRFvVxiyXlYb1xy6VXKNXnKLXKKayizUx0vpNtZETjbjajLaSZF85GR7yMcKrk0XGOZrfm/tSW69uVf5Hrp1pJvP49rvv6rERpXdF21eZV6PckWsPx4fBOwanUaKumuSELztIUg0kk1IMuNJFkj4iH5k/tBQvVN3/miFjtK2q3RFzZ1xXdLrs6ctJqUpvgIzCElgktMEo0o+08mZnxmIe7dPrlrF4xbzte9mqFKYpx01SXKWmWS0G5tmfjOJIt+PR6OMQqpSdaVmkmrb7Xthf9iXkzVNZm2n36cfM/Gr17VW0KZS4lCS6U+tzihNvNQlS3GEbKlLWhlO9xZEncni+fcQgLPvK/lVeo0iX33qEM6a7LiVSv0BdKRHko/+G6pKCQpsy8bJESiwZbxOT9NrkuCiIh3Rfxy6tBnNz6VVItLbjKhuoLBZb2lE4R5PJGZZI8D9nprXazDrEa9tQJ1V76QFU9DcVgoUeOhXGsmSUolOZ/rKM927iHcJZPClyG03vdn16Vm80cSjWlPlK9seOfyZRIupdXpdzW1Eb1ep91uVKoNQalAi05ruZknclttPtpz4qsERKUZnx44xJwrg1EqEG+7mVeymYltzKnGhwW6fHMlE02ZoNazTnxTNOMceyec53SvxRXTMTb7Na1HTKjW3MjSokZijNx2lE1uwskrMzUadxGRkRbz2TE7A047it+7aF352/CiXNlcL3PjubuhGzs7O14+zx5ynP2CWpWyZL+mzeHb7q3dl+04hTrPTe2PZi95TINxakUaHY911u8mqnFuaXEiS6aVOZabbKQ3lK0OJLb2k4yeTwZmeCItwjXLuu2DAnt23Og0+XM1DcpHClT2SQbKyx46UpLbVnBmoz2zxvUNFn6cd22/aVC787HgvLhSuF7nz3T3OjZ2dna8Ta485Vj7RG/FD/wDkP/1Z4Uf0T/8Ag+X/AMf/AAjyOUZO88reHbm3HrpVdCv49mJCzb4u7Tms3FSrjr3hM1Ct465EcchtRnEOJc4M2lcEREaTPB5xkh51Kbq1bKLSq1RvticxXKtCi1CIVMZbJgnTMzQ0siyacZSZqyrcRkZbxabwsWBOq9Xu+qFKnxHbddpL1LixyU86jbNw1NqNRZX6CTjjxv8AQMpgyXrsq1kUKjalSrobpdUjyjglSSjuQY7RHlUtwjPK0lhBfJyZnuMzyJKKp1Y8tJf3f09mFl+1zipy6b5Lb7M/bjn/AHPpEAAYppAAAAAAAAAAAAAAAAAAAAAAAAAAAAAAAAAGUaO0Sk3RTave1x0yNPrFVqktp9yU0l1TLTbhtoYTtZ2UklJbi48/wEfe9uWvatuuUm16gRtquulyX6el9C0QHFvoPYQ2kstJV8rZP5924Wh/Tav0qr1GpWDfKqCxV3VSpcJ+nImMd0K+U60RqQbZnjJlkyM/QPMtH4iLf71lXn3qjJq8as1GpyGSW5LeacSvGyRpJCcJ2SItyS+caqr0+d5zl5m1mz5sc1s261yi6Uub5HJz58+bP/72lf1CvGsUeqVcntZKTQHY6f8Aq2kwoTc19eEZI5CVIU4lSjPGEkREWDyY46vqZdkuh2nXpVXl23RKpSe7J9Xp9H7uJuUeCJtZKSvgkcZkeyZnxZ3ZFme0orzM+vlQtQHKbS7kkuSpscqY27JJbicLJEhStxGXFlBmn0H6R+6fpjdNApFCgWxqO/Aeo8Hve6TsHh4kpBKylZxzcLYcLi2iVnG7i3DqNTJVGKzNrs7Pd6+vlHLhXbem2Pbj1YFfqd83qmx6BVIlzx5sSRLebqlw0Gnd2qZjpIzbWbCk4Qo9xL8UyQZbi3kOCo3nUalp2U9N30S6W27kp7EeYUBvheBW8jxX47jey26WTwaUkeMGWDFwhaU1ai0mO3bt/wA+BV0z36jLmHGSuPMdeIicJyKSkp2dxbJEeU8ecjme0YenQJ6qrdipNXqtVhVKZNKClttRRlEaG0MpX4pYLG0ajPfk88QRrZKnpWZ9Xbh1dv8AieSp12t+jr7MfLvM9rVMq1OqusFferqZztMjM4bl0yI8h3bj5QSiU2e5BeLgtyv6xGYvcWrXredxSLZtu6W7ch0GmQlyH2aey+5IkPtbZJJLhbCEJIi3JIjPeWS9EvV9K++rV9N9/uC8NG2G89y7XcnBtbGfllwmeP8AqhP01rLFWTXrNvNVDnvwGYE4109EpqSlpOG3NhSk7Cyye/JljBGR+lLKaVRK7V7K11mWaO63Y1oZ7GjUg8ydt+ftfbgRdy1i86FTaNHu7U227XUTbvd01hCXJExxJ4QTLLyNkiNJka8EZke4t28UGtXXXr40urzD13qmlRLhhxm6g1T0MKnMLdaNtS21Jwg0mrPikWdkuMjPOgMaLSaHMpVWs68XKfUYER6JIkTYCJpSidcN1bmyakbCzWozyR8WCxu3kaKyjoFzUeXesiVKuOcxUjnOwkbbMhs0Hk0kokqSakFhJEnBbt/GOqVbJqdpXV009X+7Pu6u14XPJ0607qztbr7Mevs7yErt41mxLmu+Stceqy6Xb1N4J92Gy04/IcdU2SnVtpSo05Mj2c7Jb8EWRMyahqJYNVtuTcl4tXBBrk9ulzIyqc1HOM86RmhbKm8GaSMsGS87t/HxSL+kyK1NrUy664VQOu0iNTJJR4vc+ytpSlE8g9tWDyZGSd+DTxmP7T9NLgfq1InXnfrtejUFwn4MVNPRGy+RGlLrykqUbikke7GyWd+BG6tBrO1oz5tP9KWbNmz36jtU6qe/sz6M+/PnzYlFRdWqr1h17UZN9NNt0KfMS1T+9bCkSGWXzI0urwSiMy8UjRjcRZyZmY3Knyu7oEabsbPdDKHdn5tpJHj/APYpDWlXBac1ywO/2e/L0x3uvuX/AGXDuGvGxt+Ns5x8os/YLvT4vcMCNB4Tb7nZQ1tYxtbKSLOPRxCvlVSlUX9FtL0K2bNbdiS0ITg/6upb75zoAAFIsgAAAAAAAAAAAAAAAAAAAAAAAAAAAAAAAAAAAAAAAAAAAAAAAAAAAAAAAAAAAAAAAAAAAAAAAAAAAAAAAAAAAAAAAAAAAAAAAAAAAAAAAAAAAAAAAAAAAAAAAAAAAAAAAAAAAAAAAAAAAAAAAAAAAAAAAAAAAAAAAAAAAAAAAAAAAAAAAAAAAf/Z)"
   ]
  },
  {
   "cell_type": "code",
   "execution_count": null,
   "metadata": {
    "colab": {
     "base_uri": "https://localhost:8080/",
     "height": 986,
     "referenced_widgets": [
      "1eb621d025de49fdb1c01badcc9bf034",
      "85f052333d9f4822852de32cf15c8f20",
      "9d1ce2c005d948079e708c0b334871d5",
      "d1067e814f364f919e39926766584edc",
      "bd4c5807b02d47d7b249896e0564b39f",
      "f610079ce6204be4a6ab6913f111218e",
      "287c53ea03324c4d8c7a7eeec93f2280",
      "03f596731a524fbf82de7eaf65db977a",
      "bff69fd815a943da846cfa82f40e272a",
      "8acbc87717c14766ab809ab430149d27",
      "0769a09486f84dd2a1dd07a74cbf4d66"
     ]
    },
    "id": "JGlNSShWz5TB",
    "outputId": "50c6cd1b-361a-47ac-b185-668e6d88af2a"
   },
   "outputs": [
    {
     "name": "stdout",
     "output_type": "stream",
     "text": [
      "Downloading https://www.cs.toronto.edu/~kriz/cifar-10-python.tar.gz to ./data/cifar-10-python.tar.gz\n"
     ]
    },
    {
     "data": {
      "application/vnd.jupyter.widget-view+json": {
       "model_id": "1eb621d025de49fdb1c01badcc9bf034",
       "version_major": 2,
       "version_minor": 0
      },
      "text/plain": [
       "  0%|          | 0/170498071 [00:00<?, ?it/s]"
      ]
     },
     "metadata": {},
     "output_type": "display_data"
    },
    {
     "name": "stdout",
     "output_type": "stream",
     "text": [
      "Extracting ./data/cifar-10-python.tar.gz to ./data\n",
      "Files already downloaded and verified\n"
     ]
    },
    {
     "data": {
      "image/png": "[encoded data removed]",
      "text/plain": [
       "<Figure size 432x288 with 1 Axes>"
      ]
     },
     "metadata": {
      "needs_background": "light"
     },
     "output_type": "display_data"
    },
    {
     "name": "stdout",
     "output_type": "stream",
     "text": [
      "Epoch [1/5], Step [2000/12500], Loss: 2.2645\n",
      "Epoch [1/5], Step [4000/12500], Loss: 2.3158\n",
      "Epoch [1/5], Step [6000/12500], Loss: 2.3139\n",
      "Epoch [1/5], Step [8000/12500], Loss: 2.3170\n",
      "Epoch [1/5], Step [10000/12500], Loss: 2.2854\n",
      "Epoch [1/5], Step [12000/12500], Loss: 2.3161\n",
      "Epoch [2/5], Step [2000/12500], Loss: 2.2702\n",
      "Epoch [2/5], Step [4000/12500], Loss: 2.2756\n",
      "Epoch [2/5], Step [6000/12500], Loss: 2.3230\n",
      "Epoch [2/5], Step [8000/12500], Loss: 3.0602\n",
      "Epoch [2/5], Step [10000/12500], Loss: 2.0432\n",
      "Epoch [2/5], Step [12000/12500], Loss: 1.4644\n",
      "Epoch [3/5], Step [2000/12500], Loss: 2.7581\n",
      "Epoch [3/5], Step [4000/12500], Loss: 2.1667\n",
      "Epoch [3/5], Step [6000/12500], Loss: 2.0096\n",
      "Epoch [3/5], Step [8000/12500], Loss: 1.7999\n",
      "Epoch [3/5], Step [10000/12500], Loss: 1.8806\n",
      "Epoch [3/5], Step [12000/12500], Loss: 1.4142\n",
      "Epoch [4/5], Step [2000/12500], Loss: 0.9513\n",
      "Epoch [4/5], Step [4000/12500], Loss: 1.8475\n",
      "Epoch [4/5], Step [6000/12500], Loss: 1.4912\n",
      "Epoch [4/5], Step [8000/12500], Loss: 1.4700\n",
      "Epoch [4/5], Step [10000/12500], Loss: 2.7225\n",
      "Epoch [4/5], Step [12000/12500], Loss: 1.1703\n",
      "Epoch [5/5], Step [2000/12500], Loss: 1.3035\n",
      "Epoch [5/5], Step [4000/12500], Loss: 1.3893\n",
      "Epoch [5/5], Step [6000/12500], Loss: 1.7965\n",
      "Epoch [5/5], Step [8000/12500], Loss: 1.2527\n",
      "Epoch [5/5], Step [10000/12500], Loss: 1.9195\n",
      "Epoch [5/5], Step [12000/12500], Loss: 2.3292\n",
      "Finished Training\n",
      "Accuracy of the network: 47.78 %\n",
      "Accuracy of plane: 52.9 %\n",
      "Accuracy of car: 64.2 %\n",
      "Accuracy of bird: 26.4 %\n",
      "Accuracy of cat: 27.3 %\n",
      "Accuracy of deer: 36.1 %\n",
      "Accuracy of dog: 52.4 %\n",
      "Accuracy of frog: 49.4 %\n",
      "Accuracy of horse: 63.4 %\n",
      "Accuracy of ship: 47.4 %\n",
      "Accuracy of truck: 58.3 %\n"
     ]
    }
   ],
   "source": [
    "import torch\n",
    "import torch.nn as nn\n",
    "import torch.nn.functional as F\n",
    "import torchvision\n",
    "import torchvision.transforms as transforms\n",
    "import matplotlib.pyplot as plt\n",
    "import numpy as np\n",
    "\n",
    "# Device configuration\n",
    "device = torch.device('cuda' if torch.cuda.is_available() else 'cpu')\n",
    "\n",
    "# Design Hyper-parameters \n",
    "num_epochs = 5\n",
    "batch_size = 4\n",
    "learning_rate = 0.001\n",
    "\n",
    "# dataset has PILImage images of range [0, 1]. \n",
    "# We transform them to Tensors of normalized range [-1, 1]\n",
    "transform = transforms.Compose(\n",
    "    [transforms.ToTensor(),\n",
    "     transforms.Normalize((0.5, 0.5, 0.5), (0.5, 0.5, 0.5))])\n",
    "\n",
    "# CIFAR10: 60000 32x32 color images in 10 classes, with 6000 images per class\n",
    "train_dataset = torchvision.datasets.CIFAR10(root='./data', train=True,\n",
    "                                        download=True, transform=transform)\n",
    "\n",
    "test_dataset = torchvision.datasets.CIFAR10(root='./data', train=False,\n",
    "                                       download=True, transform=transform)\n",
    "\n",
    "train_loader = torch.utils.data.DataLoader(train_dataset, batch_size=batch_size,\n",
    "                                          shuffle=True)\n",
    "\n",
    "test_loader = torch.utils.data.DataLoader(test_dataset, batch_size=batch_size,\n",
    "                                         shuffle=False)\n",
    "\n",
    "classes = ('plane', 'car', 'bird', 'cat',\n",
    "           'deer', 'dog', 'frog', 'horse', 'ship', 'truck')\n",
    "\n",
    "def imshow(img):\n",
    "    img = img / 2 + 0.5  # unnormalize\n",
    "    npimg = img.numpy()\n",
    "    plt.imshow(np.transpose(npimg, (1, 2, 0)))\n",
    "    plt.show()\n",
    "\n",
    "\n",
    "# get some random training images\n",
    "dataiter = iter(train_loader)\n",
    "images, labels = dataiter.next()\n",
    "\n",
    "# show images\n",
    "imshow(torchvision.utils.make_grid(images))\n",
    "\n",
    "# Design model\n",
    "class ConvNet(nn.Module):\n",
    "    def __init__(self):\n",
    "        super(ConvNet, self).__init__()\n",
    "        self.conv1 = nn.Conv2d(3, 6, 5)\n",
    "        self.pool = nn.MaxPool2d(2, 2)\n",
    "        self.conv2 = nn.Conv2d(6, 16, 5)\n",
    "        self.fc1 = nn.Linear(16 * 5 * 5, 120)\n",
    "        self.fc2 = nn.Linear(120, 84)\n",
    "        self.fc3 = nn.Linear(84, 10)\n",
    "\n",
    "    def forward(self, x):\n",
    "        # -> n, 3, 32, 32\n",
    "        x = self.pool(F.relu(self.conv1(x)))  # -> n, 6, 14, 14\n",
    "        x = self.pool(F.relu(self.conv2(x)))  # -> n, 16, 5, 5\n",
    "        x = x.view(-1, 16 * 5 * 5)            # -> n, 400\n",
    "        x = F.relu(self.fc1(x))               # -> n, 120\n",
    "        x = F.relu(self.fc2(x))               # -> n, 84\n",
    "        x = self.fc3(x)                       # -> n, 10\n",
    "        return x\n",
    "\n",
    "\n",
    "model = ConvNet().to(device)\n",
    "\n",
    "# Define loss and optimizer\n",
    "criterion = nn.CrossEntropyLoss()\n",
    "optimizer = torch.optim.SGD(model.parameters(), lr=learning_rate)\n",
    "\n",
    "n_total_steps = len(train_loader)\n",
    "\n",
    "# Train the model\n",
    "for epoch in range(num_epochs):\n",
    "    for i, (images, labels) in enumerate(train_loader):\n",
    "        # origin shape: [4, 3, 32, 32] = 4, 3, 1024\n",
    "        # input_layer: 3 input channels, 6 output channels, 5 kernel size\n",
    "        images = images.to(device)\n",
    "        labels = labels.to(device)\n",
    "\n",
    "        # Forward pass\n",
    "        outputs = model(images)\n",
    "        loss = criterion(outputs, labels)\n",
    "\n",
    "        # Backward and optimize\n",
    "        optimizer.zero_grad()\n",
    "        loss.backward()\n",
    "        optimizer.step()\n",
    "\n",
    "        if (i+1) % 2000 == 0:\n",
    "            print (f'Epoch [{epoch+1}/{num_epochs}], Step [{i+1}/{n_total_steps}], Loss: {loss.item():.4f}')\n",
    "\n",
    "print('Finished Training')\n",
    "PATH = './cnn.pth' \n",
    "torch.save(model.state_dict(), PATH) # Save the model\n",
    "\n",
    "# test\n",
    "with torch.no_grad():\n",
    "    n_correct = 0\n",
    "    n_samples = 0\n",
    "    n_class_correct = [0 for i in range(10)]\n",
    "    n_class_samples = [0 for i in range(10)]\n",
    "    \n",
    "    for images, labels in test_loader:\n",
    "        # Use GPU\n",
    "        images = images.to(device)\n",
    "        labels = labels.to(device)\n",
    "        outputs = model(images)\n",
    "        # Get predicted class max returns (value ,index)\n",
    "        _, predicted = torch.max(outputs, 1)\n",
    "        n_samples += labels.size(0)\n",
    "        n_correct += (predicted == labels).sum().item()\n",
    "        \n",
    "        for i in range(batch_size):\n",
    "            label = labels[i]\n",
    "            pred = predicted[i]\n",
    "            if (label == pred):\n",
    "                n_class_correct[label] += 1\n",
    "            n_class_samples[label] += 1\n",
    "\n",
    "    acc = 100.0 * n_correct / n_samples\n",
    "    print(f'Accuracy of the network: {acc} %')\n",
    "\n",
    "    for i in range(10):\n",
    "        acc = 100.0 * n_class_correct[i] / n_class_samples[i]\n",
    "        print(f'Accuracy of {classes[i]}: {acc} %') # accuracy for each class"
   ]
  },
  {
   "cell_type": "markdown",
   "metadata": {
    "id": "I6ENDyA6GRyA"
   },
   "source": [
    "A CNN example using Dropout and Sequential\n",
    "------------------------------------------------"
   ]
  },
  {
   "cell_type": "code",
   "execution_count": null,
   "metadata": {
    "colab": {
     "base_uri": "https://localhost:8080/",
     "height": 1000,
     "referenced_widgets": [
      "957759a105c544a39c78f93d937c2afb",
      "3c2bc2b3bed24b5ca9291a9e3474a01d",
      "69793ac39537476c84b281c03ca8f32a",
      "f7fde7b8cbcc4c8bb50057987c602fa4",
      "5ea4e302149e4029af4cf0abad259762",
      "4dbcc65696284b3eb0c749755edcb3f6",
      "bfaf0b38f65e4c159f4d0fb2be33685b",
      "7bcb583c9dc14bbf9f54cf1b9b325013",
      "8171c87463b747308a586dcce2d02728",
      "78544c6f4c044202b0009707f50ef00d",
      "a092cc8fbd2f4045a13810f9aae1e551",
      "cf358f03165a48bf981b508a40c0889b",
      "d95db10dcd2c42b8aa0b9c44080f2e09",
      "22ce404836db4bcd9fd74db44c280dbb",
      "b9bd35aa60d44dfbb2083e30b1298347",
      "a385bad488e249bcb2c5db8a62ef0f8b",
      "34bfef0f9a8d498882531701c79abcf6",
      "ff48543efbb74749bc404ddef72a5492",
      "3a53e5906c4343c4a4bc4c7d26055e15",
      "3b0e163e3a6a4832a09f976d0228dacf",
      "a2699967094e4f54946019edb313ea7c",
      "25518df831e24ab2b3324198daaa2a97",
      "f12ff39779ce4047b3ce1d87eb817f12",
      "3b89e1587d7b40658dfaa6376da82ae0",
      "b7bf87bf1eb54a6993c522fb24129124",
      "4a12e738fbdc4bde9a4803574fee3159",
      "dd9648dace9a4f2484ef6ebe90f049ec",
      "d59a53b8e12a4084b5e0b4e6a89ca388",
      "96be7d2db8044c1285988bf2d15f781e",
      "518f33d7afeb4343a6ae22bb2f59184b",
      "a956987f395a472b8df90433d5754f22",
      "f0fa1a3c398143d3b7ce80e5242d9551",
      "7bd97e3ece804159a0bbfa68f8ec16d0",
      "8dc0d49139464874b66ee32e8aa691b7",
      "af15c7c984b54eef98a1d2c13659b3ef",
      "87ce4b25601942cfaa13607675564374",
      "0dd89cada7cc46bda88e80a35ff97443",
      "1a3bbb352e7644a5ae9a4e15c6c26852",
      "11bbd4f688934337bc48b44aaa7d50f7",
      "033e8955078b47adbb203659a2c5fe3d",
      "df4d91e01882488e8cbbc7d8383274ea",
      "9b00173ce30946e1a51e46c98924c55a",
      "fa1f5b635537469e88f8121c94f67df5",
      "a77ff305bfc8470d92c855fb9977cfb0"
     ]
    },
    "id": "sczli-tsFND4",
    "outputId": "1d0bad3b-3295-4287-9b4c-591cf5981a57"
   },
   "outputs": [
    {
     "name": "stdout",
     "output_type": "stream",
     "text": [
      "Downloading http://yann.lecun.com/exdb/mnist/train-images-idx3-ubyte.gz\n",
      "Downloading http://yann.lecun.com/exdb/mnist/train-images-idx3-ubyte.gz to /content/MNIST/raw/train-images-idx3-ubyte.gz\n"
     ]
    },
    {
     "data": {
      "application/vnd.jupyter.widget-view+json": {
       "model_id": "957759a105c544a39c78f93d937c2afb",
       "version_major": 2,
       "version_minor": 0
      },
      "text/plain": [
       "  0%|          | 0/9912422 [00:00<?, ?it/s]"
      ]
     },
     "metadata": {},
     "output_type": "display_data"
    },
    {
     "name": "stdout",
     "output_type": "stream",
     "text": [
      "Extracting /content/MNIST/raw/train-images-idx3-ubyte.gz to /content/MNIST/raw\n",
      "\n",
      "Downloading http://yann.lecun.com/exdb/mnist/train-labels-idx1-ubyte.gz\n",
      "Downloading http://yann.lecun.com/exdb/mnist/train-labels-idx1-ubyte.gz to /content/MNIST/raw/train-labels-idx1-ubyte.gz\n"
     ]
    },
    {
     "data": {
      "application/vnd.jupyter.widget-view+json": {
       "model_id": "cf358f03165a48bf981b508a40c0889b",
       "version_major": 2,
       "version_minor": 0
      },
      "text/plain": [
       "  0%|          | 0/28881 [00:00<?, ?it/s]"
      ]
     },
     "metadata": {},
     "output_type": "display_data"
    },
    {
     "name": "stdout",
     "output_type": "stream",
     "text": [
      "Extracting /content/MNIST/raw/train-labels-idx1-ubyte.gz to /content/MNIST/raw\n",
      "\n",
      "Downloading http://yann.lecun.com/exdb/mnist/t10k-images-idx3-ubyte.gz\n",
      "Downloading http://yann.lecun.com/exdb/mnist/t10k-images-idx3-ubyte.gz to /content/MNIST/raw/t10k-images-idx3-ubyte.gz\n"
     ]
    },
    {
     "data": {
      "application/vnd.jupyter.widget-view+json": {
       "model_id": "f12ff39779ce4047b3ce1d87eb817f12",
       "version_major": 2,
       "version_minor": 0
      },
      "text/plain": [
       "  0%|          | 0/1648877 [00:00<?, ?it/s]"
      ]
     },
     "metadata": {},
     "output_type": "display_data"
    },
    {
     "name": "stdout",
     "output_type": "stream",
     "text": [
      "Extracting /content/MNIST/raw/t10k-images-idx3-ubyte.gz to /content/MNIST/raw\n",
      "\n",
      "Downloading http://yann.lecun.com/exdb/mnist/t10k-labels-idx1-ubyte.gz\n",
      "Downloading http://yann.lecun.com/exdb/mnist/t10k-labels-idx1-ubyte.gz to /content/MNIST/raw/t10k-labels-idx1-ubyte.gz\n"
     ]
    },
    {
     "data": {
      "application/vnd.jupyter.widget-view+json": {
       "model_id": "8dc0d49139464874b66ee32e8aa691b7",
       "version_major": 2,
       "version_minor": 0
      },
      "text/plain": [
       "  0%|          | 0/4542 [00:00<?, ?it/s]"
      ]
     },
     "metadata": {},
     "output_type": "display_data"
    },
    {
     "name": "stdout",
     "output_type": "stream",
     "text": [
      "Extracting /content/MNIST/raw/t10k-labels-idx1-ubyte.gz to /content/MNIST/raw\n",
      "\n",
      "Starting epoch 1\n",
      "Loss after mini-batch   500: 2.216\n",
      "Loss after mini-batch  1000: 1.904\n",
      "Loss after mini-batch  1500: 1.614\n",
      "Loss after mini-batch  2000: 1.422\n",
      "Loss after mini-batch  2500: 1.294\n",
      "Loss after mini-batch  3000: 1.224\n",
      "Loss after mini-batch  3500: 1.121\n",
      "Loss after mini-batch  4000: 1.055\n",
      "Loss after mini-batch  4500: 1.044\n",
      "Loss after mini-batch  5000: 0.987\n",
      "Loss after mini-batch  5500: 0.955\n",
      "Loss after mini-batch  6000: 0.916\n",
      "Starting epoch 2\n",
      "Loss after mini-batch   500: 0.881\n",
      "Loss after mini-batch  1000: 0.869\n",
      "Loss after mini-batch  1500: 0.803\n",
      "Loss after mini-batch  2000: 0.816\n",
      "Loss after mini-batch  2500: 0.821\n",
      "Loss after mini-batch  3000: 0.763\n",
      "Loss after mini-batch  3500: 0.766\n",
      "Loss after mini-batch  4000: 0.774\n",
      "Loss after mini-batch  4500: 0.750\n",
      "Loss after mini-batch  5000: 0.718\n",
      "Loss after mini-batch  5500: 0.745\n",
      "Loss after mini-batch  6000: 0.694\n",
      "Starting epoch 3\n",
      "Loss after mini-batch   500: 0.694\n",
      "Loss after mini-batch  1000: 0.687\n",
      "Loss after mini-batch  1500: 0.685\n",
      "Loss after mini-batch  2000: 0.661\n",
      "Loss after mini-batch  2500: 0.662\n",
      "Loss after mini-batch  3000: 0.674\n",
      "Loss after mini-batch  3500: 0.656\n",
      "Loss after mini-batch  4000: 0.623\n",
      "Loss after mini-batch  4500: 0.627\n",
      "Loss after mini-batch  5000: 0.621\n",
      "Loss after mini-batch  5500: 0.622\n",
      "Loss after mini-batch  6000: 0.640\n",
      "Starting epoch 4\n",
      "Loss after mini-batch   500: 0.619\n",
      "Loss after mini-batch  1000: 0.607\n",
      "Loss after mini-batch  1500: 0.599\n",
      "Loss after mini-batch  2000: 0.587\n",
      "Loss after mini-batch  2500: 0.581\n",
      "Loss after mini-batch  3000: 0.596\n",
      "Loss after mini-batch  3500: 0.591\n",
      "Loss after mini-batch  4000: 0.554\n",
      "Loss after mini-batch  4500: 0.554\n",
      "Loss after mini-batch  5000: 0.587\n",
      "Loss after mini-batch  5500: 0.563\n",
      "Loss after mini-batch  6000: 0.553\n",
      "Starting epoch 5\n",
      "Loss after mini-batch   500: 0.542\n",
      "Loss after mini-batch  1000: 0.540\n",
      "Loss after mini-batch  1500: 0.535\n",
      "Loss after mini-batch  2000: 0.529\n",
      "Loss after mini-batch  2500: 0.537\n",
      "Loss after mini-batch  3000: 0.541\n",
      "Loss after mini-batch  3500: 0.544\n",
      "Loss after mini-batch  4000: 0.548\n",
      "Loss after mini-batch  4500: 0.532\n",
      "Loss after mini-batch  5000: 0.516\n",
      "Loss after mini-batch  5500: 0.554\n",
      "Loss after mini-batch  6000: 0.535\n",
      "Training process has finished.\n"
     ]
    }
   ],
   "source": [
    "import os\n",
    "import torch\n",
    "from torch import nn\n",
    "from torchvision.datasets import MNIST\n",
    "from torch.utils.data import DataLoader\n",
    "from torchvision import transforms\n",
    "\n",
    "class MLP(nn.Module):\n",
    "  '''\n",
    "    Multilayer Perceptron. (CNN)\n",
    "  '''\n",
    "  def __init__(self):\n",
    "    super().__init__()\n",
    "    self.layers = nn.Sequential(\n",
    "      nn.Flatten(),\n",
    "      nn.Linear(28 * 28 * 1, 64),      \n",
    "      nn.Dropout(p=0.5),\n",
    "      nn.ReLU(),\n",
    "      nn.Linear(64, 32),\n",
    "      nn.Dropout(p=0.5),\n",
    "      nn.ReLU(),\n",
    "      nn.Linear(32, 10)\n",
    "    )\n",
    "\n",
    "\n",
    "  def forward(self, x):\n",
    "    '''Forward pass'''\n",
    "    return self.layers(x)\n",
    "  \n",
    "  \n",
    "if __name__ == '__main__':\n",
    "  \n",
    "  # Set fixed random number seed\n",
    "  torch.manual_seed(42)\n",
    "  \n",
    "  # Prepare MNIST dataset\n",
    "  dataset = MNIST(os.getcwd(), download=True, transform=transforms.ToTensor())\n",
    "  trainloader = torch.utils.data.DataLoader(dataset, batch_size=10, shuffle=True, num_workers=1)\n",
    "  \n",
    "  # Initialize the MLP\n",
    "  mlp = MLP()\n",
    "  \n",
    "  # Define the loss function and optimizer\n",
    "  loss_function = nn.CrossEntropyLoss()\n",
    "  optimizer = torch.optim.Adam(mlp.parameters(), lr=1e-4)\n",
    "  \n",
    "  # Run the training loop\n",
    "  for epoch in range(0, 5): # 5 epochs at maximum\n",
    "    \n",
    "    # Print epoch\n",
    "    print(f'Starting epoch {epoch+1}')\n",
    "    \n",
    "    # Set current loss value\n",
    "    current_loss = 0.0\n",
    "    \n",
    "    # Iterate over the DataLoader for training data\n",
    "    for i, data in enumerate(trainloader, 0):\n",
    "      \n",
    "      # Get inputs\n",
    "      inputs, targets = data\n",
    "      \n",
    "      # Zero the gradients\n",
    "      optimizer.zero_grad()\n",
    "      \n",
    "      # Perform forward pass\n",
    "      outputs = mlp(inputs)\n",
    "      \n",
    "      # Compute loss\n",
    "      loss = loss_function(outputs, targets)\n",
    "      \n",
    "      # Perform backward pass\n",
    "      loss.backward()\n",
    "      \n",
    "      # Perform optimization\n",
    "      optimizer.step()\n",
    "      \n",
    "      # Print statistics\n",
    "      current_loss += loss.item()\n",
    "      if i % 500 == 499:\n",
    "          print('Loss after mini-batch %5d: %.3f' %\n",
    "                (i + 1, current_loss / 500))\n",
    "          current_loss = 0.0\n",
    "\n",
    "  # Process is complete.\n",
    "  print('Training process has finished.')"
   ]
  },
  {
   "cell_type": "markdown",
   "metadata": {
    "id": "_ZCuSVSM8u74"
   },
   "source": [
    "#**Save and load the model**"
   ]
  },
  {
   "cell_type": "markdown",
   "metadata": {
    "id": "fsHdyBEq8zwe"
   },
   "source": [
    "In this part we will look at how to persist model state with saving, loading and running model predictions."
   ]
  },
  {
   "cell_type": "markdown",
   "metadata": {
    "id": "SJJBIwR78e2x"
   },
   "source": [
    "\n",
    "Saving and Loading Model Weights\n",
    "--------------------------------\n",
    "PyTorch models store the learned parameters in an internal\n",
    "state dictionary, called ``state_dict``. These can be persisted via the ``torch.save``\n",
    "method:\n",
    "\n"
   ]
  },
  {
   "cell_type": "code",
   "execution_count": 4,
   "metadata": {
    "colab": {
     "base_uri": "https://localhost:8080/",
     "height": 67,
     "referenced_widgets": [
      "f3c0d9a54afc4f8fbdcec1185b35a297",
      "7fe8994184e84d06a78c2799b480d623",
      "092761194c124f79b0255608b724fc9d",
      "3ac54628776b4863b69df4e1ca0e396e",
      "6f6156b30f1d4f2ebb578819f2899299",
      "478900ec8b7745c789981016352a3c6d",
      "f36ddd2ea19b4206b076f583afbe81cb",
      "24693ee227f44b48acdd8a2c68a0bb4d",
      "5db7f2793fc24a9fb8d0862b4df346a4",
      "fb5c636cd5ef49c9ab51f266e9ffcf15",
      "f237021619814a2ca9955163812a0663"
     ]
    },
    "id": "xcCQ3NRc8e2y",
    "outputId": "ca060934-c901-472f-8482-6259feeeeb16"
   },
   "outputs": [
    {
     "name": "stderr",
     "output_type": "stream",
     "text": [
      "Downloading: \"https://download.pytorch.org/models/vgg16-397923af.pth\" to /root/.cache/torch/hub/checkpoints/vgg16-397923af.pth\n"
     ]
    },
    {
     "data": {
      "application/vnd.jupyter.widget-view+json": {
       "model_id": "f3c0d9a54afc4f8fbdcec1185b35a297",
       "version_major": 2,
       "version_minor": 0
      },
      "text/plain": [
       "  0%|          | 0.00/528M [00:00<?, ?B/s]"
      ]
     },
     "metadata": {},
     "output_type": "display_data"
    }
   ],
   "source": [
    "import torchvision.models as models\n",
    "model = models.vgg16(pretrained=True)\n",
    "torch.save(model.state_dict(), 'model_weights.pth')"
   ]
  },
  {
   "cell_type": "markdown",
   "metadata": {
    "id": "MDm8gvfX8e2y"
   },
   "source": [
    "To load model weights, you need to create an instance of the same model first, and then load the parameters\n",
    "using ``load_state_dict()`` method.\n",
    "\n"
   ]
  },
  {
   "cell_type": "code",
   "execution_count": 5,
   "metadata": {
    "colab": {
     "base_uri": "https://localhost:8080/"
    },
    "id": "cDW60zOV8e2z",
    "outputId": "d0561882-d13d-4e34-9851-64fcad03d349"
   },
   "outputs": [
    {
     "data": {
      "text/plain": [
       "VGG(\n",
       "  (features): Sequential(\n",
       "    (0): Conv2d(3, 64, kernel_size=(3, 3), stride=(1, 1), padding=(1, 1))\n",
       "    (1): ReLU(inplace=True)\n",
       "    (2): Conv2d(64, 64, kernel_size=(3, 3), stride=(1, 1), padding=(1, 1))\n",
       "    (3): ReLU(inplace=True)\n",
       "    (4): MaxPool2d(kernel_size=2, stride=2, padding=0, dilation=1, ceil_mode=False)\n",
       "    (5): Conv2d(64, 128, kernel_size=(3, 3), stride=(1, 1), padding=(1, 1))\n",
       "    (6): ReLU(inplace=True)\n",
       "    (7): Conv2d(128, 128, kernel_size=(3, 3), stride=(1, 1), padding=(1, 1))\n",
       "    (8): ReLU(inplace=True)\n",
       "    (9): MaxPool2d(kernel_size=2, stride=2, padding=0, dilation=1, ceil_mode=False)\n",
       "    (10): Conv2d(128, 256, kernel_size=(3, 3), stride=(1, 1), padding=(1, 1))\n",
       "    (11): ReLU(inplace=True)\n",
       "    (12): Conv2d(256, 256, kernel_size=(3, 3), stride=(1, 1), padding=(1, 1))\n",
       "    (13): ReLU(inplace=True)\n",
       "    (14): Conv2d(256, 256, kernel_size=(3, 3), stride=(1, 1), padding=(1, 1))\n",
       "    (15): ReLU(inplace=True)\n",
       "    (16): MaxPool2d(kernel_size=2, stride=2, padding=0, dilation=1, ceil_mode=False)\n",
       "    (17): Conv2d(256, 512, kernel_size=(3, 3), stride=(1, 1), padding=(1, 1))\n",
       "    (18): ReLU(inplace=True)\n",
       "    (19): Conv2d(512, 512, kernel_size=(3, 3), stride=(1, 1), padding=(1, 1))\n",
       "    (20): ReLU(inplace=True)\n",
       "    (21): Conv2d(512, 512, kernel_size=(3, 3), stride=(1, 1), padding=(1, 1))\n",
       "    (22): ReLU(inplace=True)\n",
       "    (23): MaxPool2d(kernel_size=2, stride=2, padding=0, dilation=1, ceil_mode=False)\n",
       "    (24): Conv2d(512, 512, kernel_size=(3, 3), stride=(1, 1), padding=(1, 1))\n",
       "    (25): ReLU(inplace=True)\n",
       "    (26): Conv2d(512, 512, kernel_size=(3, 3), stride=(1, 1), padding=(1, 1))\n",
       "    (27): ReLU(inplace=True)\n",
       "    (28): Conv2d(512, 512, kernel_size=(3, 3), stride=(1, 1), padding=(1, 1))\n",
       "    (29): ReLU(inplace=True)\n",
       "    (30): MaxPool2d(kernel_size=2, stride=2, padding=0, dilation=1, ceil_mode=False)\n",
       "  )\n",
       "  (avgpool): AdaptiveAvgPool2d(output_size=(7, 7))\n",
       "  (classifier): Sequential(\n",
       "    (0): Linear(in_features=25088, out_features=4096, bias=True)\n",
       "    (1): ReLU(inplace=True)\n",
       "    (2): Dropout(p=0.5, inplace=False)\n",
       "    (3): Linear(in_features=4096, out_features=4096, bias=True)\n",
       "    (4): ReLU(inplace=True)\n",
       "    (5): Dropout(p=0.5, inplace=False)\n",
       "    (6): Linear(in_features=4096, out_features=1000, bias=True)\n",
       "  )\n",
       ")"
      ]
     },
     "execution_count": 5,
     "metadata": {},
     "output_type": "execute_result"
    }
   ],
   "source": [
    "model = models.vgg16() # we do not specify pretrained=True, i.e. do not load default weights\n",
    "model.load_state_dict(torch.load('model_weights.pth'))\n",
    "model.eval()"
   ]
  },
  {
   "cell_type": "markdown",
   "metadata": {
    "id": "Iwqq5ueJ8e20"
   },
   "source": [
    "Note: be sure to call ```model.eval()``` method before inferencing to set the dropout and batch normalization layers to evaluation mode. Failing to do this will yield inconsistent inference results.</p></div>\n",
    "\n"
   ]
  },
  {
   "cell_type": "markdown",
   "metadata": {
    "id": "184v635p8e20"
   },
   "source": [
    "Saving and Loading Models with Shapes\n",
    "-------------------------------------\n",
    "When loading model weights, we needed to instantiate the model class first, because the class\n",
    "defines the structure of a network. We might want to save the structure of this class together with\n",
    "the model, in which case we can pass ``model`` (and not ``model.state_dict()``) to the saving function:\n",
    "\n"
   ]
  },
  {
   "cell_type": "code",
   "execution_count": 6,
   "metadata": {
    "id": "_5fIufY18e21"
   },
   "outputs": [],
   "source": [
    "torch.save(model, 'model.pth')"
   ]
  },
  {
   "cell_type": "markdown",
   "metadata": {
    "id": "Qua4oA1y8e22"
   },
   "source": [
    "We can then load the model like this:\n",
    "\n"
   ]
  },
  {
   "cell_type": "code",
   "execution_count": 7,
   "metadata": {
    "id": "-utk8Hqs8e22"
   },
   "outputs": [],
   "source": [
    "model = torch.load('model.pth')"
   ]
  },
  {
   "cell_type": "markdown",
   "metadata": {
    "id": "n-tDw7cI8e22"
   },
   "source": [
    "Note: This approach uses Python [pickle](https://docs.python.org/3/library/pickle.html) module when serializing the model, thus it relies on the actual class definition to be available when loading the model.</p></div>\n",
    "\n"
   ]
  }
 ],
 "metadata": {
  "colab": {
   "name": "Practice Session 2.ipynb",
   "provenance": []
  },
  "kernelspec": {
   "display_name": "Python 3 (ipykernel)",
   "language": "python",
   "name": "python3"
  },
  "language_info": {
   "codemirror_mode": {
    "name": "ipython",
    "version": 3
   },
   "file_extension": ".py",
   "mimetype": "text/x-python",
   "name": "python",
   "nbconvert_exporter": "python",
   "pygments_lexer": "ipython3",
   "version": "3.10.7"
  },
  "widgets": {
   "application/vnd.jupyter.widget-state+json": {
    "017b9c2dc0db42128ffaf0e65319db08": {
     "model_module": "@jupyter-widgets/controls",
     "model_module_version": "1.5.0",
     "model_name": "HTMLModel",
     "state": {
      "_dom_classes": [],
      "_model_module": "@jupyter-widgets/controls",
      "_model_module_version": "1.5.0",
      "_model_name": "HTMLModel",
      "_view_count": null,
      "_view_module": "@jupyter-widgets/controls",
      "_view_module_version": "1.5.0",
      "_view_name": "HTMLView",
      "description": "",
      "description_tooltip": null,
      "layout": "IPY_MODEL_b6288a5f4272424bb12fbfb36b002baa",
      "placeholder": "​",
      "style": "IPY_MODEL_1dadce232d3344689026a72f74b4278c",
      "value": " 29696/? [00:00&lt;00:00, 9007.26it/s]"
     }
    },
    "02d2a0c576ac458f897e44693d3cd243": {
     "model_module": "@jupyter-widgets/base",
     "model_module_version": "1.2.0",
     "model_name": "LayoutModel",
     "state": {
      "_model_module": "@jupyter-widgets/base",
      "_model_module_version": "1.2.0",
      "_model_name": "LayoutModel",
      "_view_count": null,
      "_view_module": "@jupyter-widgets/base",
      "_view_module_version": "1.2.0",
      "_view_name": "LayoutView",
      "align_content": null,
      "align_items": null,
      "align_self": null,
      "border": null,
      "bottom": null,
      "display": null,
      "flex": null,
      "flex_flow": null,
      "grid_area": null,
      "grid_auto_columns": null,
      "grid_auto_flow": null,
      "grid_auto_rows": null,
      "grid_column": null,
      "grid_gap": null,
      "grid_row": null,
      "grid_template_areas": null,
      "grid_template_columns": null,
      "grid_template_rows": null,
      "height": null,
      "justify_content": null,
      "justify_items": null,
      "left": null,
      "margin": null,
      "max_height": null,
      "max_width": null,
      "min_height": null,
      "min_width": null,
      "object_fit": null,
      "object_position": null,
      "order": null,
      "overflow": null,
      "overflow_x": null,
      "overflow_y": null,
      "padding": null,
      "right": null,
      "top": null,
      "visibility": null,
      "width": null
     }
    },
    "033e8955078b47adbb203659a2c5fe3d": {
     "model_module": "@jupyter-widgets/base",
     "model_module_version": "1.2.0",
     "model_name": "LayoutModel",
     "state": {
      "_model_module": "@jupyter-widgets/base",
      "_model_module_version": "1.2.0",
      "_model_name": "LayoutModel",
      "_view_count": null,
      "_view_module": "@jupyter-widgets/base",
      "_view_module_version": "1.2.0",
      "_view_name": "LayoutView",
      "align_content": null,
      "align_items": null,
      "align_self": null,
      "border": null,
      "bottom": null,
      "display": null,
      "flex": null,
      "flex_flow": null,
      "grid_area": null,
      "grid_auto_columns": null,
      "grid_auto_flow": null,
      "grid_auto_rows": null,
      "grid_column": null,
      "grid_gap": null,
      "grid_row": null,
      "grid_template_areas": null,
      "grid_template_columns": null,
      "grid_template_rows": null,
      "height": null,
      "justify_content": null,
      "justify_items": null,
      "left": null,
      "margin": null,
      "max_height": null,
      "max_width": null,
      "min_height": null,
      "min_width": null,
      "object_fit": null,
      "object_position": null,
      "order": null,
      "overflow": null,
      "overflow_x": null,
      "overflow_y": null,
      "padding": null,
      "right": null,
      "top": null,
      "visibility": null,
      "width": null
     }
    },
    "03f596731a524fbf82de7eaf65db977a": {
     "model_module": "@jupyter-widgets/controls",
     "model_module_version": "1.5.0",
     "model_name": "ProgressStyleModel",
     "state": {
      "_model_module": "@jupyter-widgets/controls",
      "_model_module_version": "1.5.0",
      "_model_name": "ProgressStyleModel",
      "_view_count": null,
      "_view_module": "@jupyter-widgets/base",
      "_view_module_version": "1.2.0",
      "_view_name": "StyleView",
      "bar_color": null,
      "description_width": ""
     }
    },
    "0769a09486f84dd2a1dd07a74cbf4d66": {
     "model_module": "@jupyter-widgets/base",
     "model_module_version": "1.2.0",
     "model_name": "LayoutModel",
     "state": {
      "_model_module": "@jupyter-widgets/base",
      "_model_module_version": "1.2.0",
      "_model_name": "LayoutModel",
      "_view_count": null,
      "_view_module": "@jupyter-widgets/base",
      "_view_module_version": "1.2.0",
      "_view_name": "LayoutView",
      "align_content": null,
      "align_items": null,
      "align_self": null,
      "border": null,
      "bottom": null,
      "display": null,
      "flex": null,
      "flex_flow": null,
      "grid_area": null,
      "grid_auto_columns": null,
      "grid_auto_flow": null,
      "grid_auto_rows": null,
      "grid_column": null,
      "grid_gap": null,
      "grid_row": null,
      "grid_template_areas": null,
      "grid_template_columns": null,
      "grid_template_rows": null,
      "height": null,
      "justify_content": null,
      "justify_items": null,
      "left": null,
      "margin": null,
      "max_height": null,
      "max_width": null,
      "min_height": null,
      "min_width": null,
      "object_fit": null,
      "object_position": null,
      "order": null,
      "overflow": null,
      "overflow_x": null,
      "overflow_y": null,
      "padding": null,
      "right": null,
      "top": null,
      "visibility": null,
      "width": null
     }
    },
    "078f21a0612b401aa9d8b51da24709c0": {
     "model_module": "@jupyter-widgets/controls",
     "model_module_version": "1.5.0",
     "model_name": "ProgressStyleModel",
     "state": {
      "_model_module": "@jupyter-widgets/controls",
      "_model_module_version": "1.5.0",
      "_model_name": "ProgressStyleModel",
      "_view_count": null,
      "_view_module": "@jupyter-widgets/base",
      "_view_module_version": "1.2.0",
      "_view_name": "StyleView",
      "bar_color": null,
      "description_width": ""
     }
    },
    "092761194c124f79b0255608b724fc9d": {
     "model_module": "@jupyter-widgets/controls",
     "model_module_version": "1.5.0",
     "model_name": "HTMLModel",
     "state": {
      "_dom_classes": [],
      "_model_module": "@jupyter-widgets/controls",
      "_model_module_version": "1.5.0",
      "_model_name": "HTMLModel",
      "_view_count": null,
      "_view_module": "@jupyter-widgets/controls",
      "_view_module_version": "1.5.0",
      "_view_name": "HTMLView",
      "description": "",
      "description_tooltip": null,
      "layout": "IPY_MODEL_f36ddd2ea19b4206b076f583afbe81cb",
      "placeholder": "​",
      "style": "IPY_MODEL_478900ec8b7745c789981016352a3c6d",
      "value": "100%"
     }
    },
    "0a6ed079591f426cbd1feea05a01496c": {
     "model_module": "@jupyter-widgets/base",
     "model_module_version": "1.2.0",
     "model_name": "LayoutModel",
     "state": {
      "_model_module": "@jupyter-widgets/base",
      "_model_module_version": "1.2.0",
      "_model_name": "LayoutModel",
      "_view_count": null,
      "_view_module": "@jupyter-widgets/base",
      "_view_module_version": "1.2.0",
      "_view_name": "LayoutView",
      "align_content": null,
      "align_items": null,
      "align_self": null,
      "border": null,
      "bottom": null,
      "display": null,
      "flex": null,
      "flex_flow": null,
      "grid_area": null,
      "grid_auto_columns": null,
      "grid_auto_flow": null,
      "grid_auto_rows": null,
      "grid_column": null,
      "grid_gap": null,
      "grid_row": null,
      "grid_template_areas": null,
      "grid_template_columns": null,
      "grid_template_rows": null,
      "height": null,
      "justify_content": null,
      "justify_items": null,
      "left": null,
      "margin": null,
      "max_height": null,
      "max_width": null,
      "min_height": null,
      "min_width": null,
      "object_fit": null,
      "object_position": null,
      "order": null,
      "overflow": null,
      "overflow_x": null,
      "overflow_y": null,
      "padding": null,
      "right": null,
      "top": null,
      "visibility": null,
      "width": null
     }
    },
    "0aac94e0ff2f4795962c89e7220383ca": {
     "model_module": "@jupyter-widgets/controls",
     "model_module_version": "1.5.0",
     "model_name": "ProgressStyleModel",
     "state": {
      "_model_module": "@jupyter-widgets/controls",
      "_model_module_version": "1.5.0",
      "_model_name": "ProgressStyleModel",
      "_view_count": null,
      "_view_module": "@jupyter-widgets/base",
      "_view_module_version": "1.2.0",
      "_view_name": "StyleView",
      "bar_color": null,
      "description_width": ""
     }
    },
    "0dd89cada7cc46bda88e80a35ff97443": {
     "model_module": "@jupyter-widgets/controls",
     "model_module_version": "1.5.0",
     "model_name": "FloatProgressModel",
     "state": {
      "_dom_classes": [],
      "_model_module": "@jupyter-widgets/controls",
      "_model_module_version": "1.5.0",
      "_model_name": "FloatProgressModel",
      "_view_count": null,
      "_view_module": "@jupyter-widgets/controls",
      "_view_module_version": "1.5.0",
      "_view_name": "ProgressView",
      "bar_style": "success",
      "description": "",
      "description_tooltip": null,
      "layout": "IPY_MODEL_9b00173ce30946e1a51e46c98924c55a",
      "max": 4542,
      "min": 0,
      "orientation": "horizontal",
      "style": "IPY_MODEL_df4d91e01882488e8cbbc7d8383274ea",
      "value": 4542
     }
    },
    "0e3720628dbd4e609d3bbedaad0caf56": {
     "model_module": "@jupyter-widgets/controls",
     "model_module_version": "1.5.0",
     "model_name": "HTMLModel",
     "state": {
      "_dom_classes": [],
      "_model_module": "@jupyter-widgets/controls",
      "_model_module_version": "1.5.0",
      "_model_name": "HTMLModel",
      "_view_count": null,
      "_view_module": "@jupyter-widgets/controls",
      "_view_module_version": "1.5.0",
      "_view_name": "HTMLView",
      "description": "",
      "description_tooltip": null,
      "layout": "IPY_MODEL_54529acc7df64f1a88185cf5c1adab45",
      "placeholder": "​",
      "style": "IPY_MODEL_17f6148cd3f742c082431c90afc989fd",
      "value": ""
     }
    },
    "0e6549067a4b4c62b4778089c7875486": {
     "model_module": "@jupyter-widgets/base",
     "model_module_version": "1.2.0",
     "model_name": "LayoutModel",
     "state": {
      "_model_module": "@jupyter-widgets/base",
      "_model_module_version": "1.2.0",
      "_model_name": "LayoutModel",
      "_view_count": null,
      "_view_module": "@jupyter-widgets/base",
      "_view_module_version": "1.2.0",
      "_view_name": "LayoutView",
      "align_content": null,
      "align_items": null,
      "align_self": null,
      "border": null,
      "bottom": null,
      "display": null,
      "flex": null,
      "flex_flow": null,
      "grid_area": null,
      "grid_auto_columns": null,
      "grid_auto_flow": null,
      "grid_auto_rows": null,
      "grid_column": null,
      "grid_gap": null,
      "grid_row": null,
      "grid_template_areas": null,
      "grid_template_columns": null,
      "grid_template_rows": null,
      "height": null,
      "justify_content": null,
      "justify_items": null,
      "left": null,
      "margin": null,
      "max_height": null,
      "max_width": null,
      "min_height": null,
      "min_width": null,
      "object_fit": null,
      "object_position": null,
      "order": null,
      "overflow": null,
      "overflow_x": null,
      "overflow_y": null,
      "padding": null,
      "right": null,
      "top": null,
      "visibility": null,
      "width": null
     }
    },
    "11bbd4f688934337bc48b44aaa7d50f7": {
     "model_module": "@jupyter-widgets/controls",
     "model_module_version": "1.5.0",
     "model_name": "DescriptionStyleModel",
     "state": {
      "_model_module": "@jupyter-widgets/controls",
      "_model_module_version": "1.5.0",
      "_model_name": "DescriptionStyleModel",
      "_view_count": null,
      "_view_module": "@jupyter-widgets/base",
      "_view_module_version": "1.2.0",
      "_view_name": "StyleView",
      "description_width": ""
     }
    },
    "17f6148cd3f742c082431c90afc989fd": {
     "model_module": "@jupyter-widgets/controls",
     "model_module_version": "1.5.0",
     "model_name": "DescriptionStyleModel",
     "state": {
      "_model_module": "@jupyter-widgets/controls",
      "_model_module_version": "1.5.0",
      "_model_name": "DescriptionStyleModel",
      "_view_count": null,
      "_view_module": "@jupyter-widgets/base",
      "_view_module_version": "1.2.0",
      "_view_name": "StyleView",
      "description_width": ""
     }
    },
    "1888433668a24c168c20f11281017903": {
     "model_module": "@jupyter-widgets/controls",
     "model_module_version": "1.5.0",
     "model_name": "FloatProgressModel",
     "state": {
      "_dom_classes": [],
      "_model_module": "@jupyter-widgets/controls",
      "_model_module_version": "1.5.0",
      "_model_name": "FloatProgressModel",
      "_view_count": null,
      "_view_module": "@jupyter-widgets/controls",
      "_view_module_version": "1.5.0",
      "_view_name": "ProgressView",
      "bar_style": "success",
      "description": "",
      "description_tooltip": null,
      "layout": "IPY_MODEL_284da5cc6bb54aa186ad5bf762ff1959",
      "max": 1648877,
      "min": 0,
      "orientation": "horizontal",
      "style": "IPY_MODEL_0aac94e0ff2f4795962c89e7220383ca",
      "value": 1648877
     }
    },
    "1a3bbb352e7644a5ae9a4e15c6c26852": {
     "model_module": "@jupyter-widgets/controls",
     "model_module_version": "1.5.0",
     "model_name": "HTMLModel",
     "state": {
      "_dom_classes": [],
      "_model_module": "@jupyter-widgets/controls",
      "_model_module_version": "1.5.0",
      "_model_name": "HTMLModel",
      "_view_count": null,
      "_view_module": "@jupyter-widgets/controls",
      "_view_module_version": "1.5.0",
      "_view_name": "HTMLView",
      "description": "",
      "description_tooltip": null,
      "layout": "IPY_MODEL_a77ff305bfc8470d92c855fb9977cfb0",
      "placeholder": "​",
      "style": "IPY_MODEL_fa1f5b635537469e88f8121c94f67df5",
      "value": " 5120/? [00:00&lt;00:00, 119378.93it/s]"
     }
    },
    "1dadce232d3344689026a72f74b4278c": {
     "model_module": "@jupyter-widgets/controls",
     "model_module_version": "1.5.0",
     "model_name": "DescriptionStyleModel",
     "state": {
      "_model_module": "@jupyter-widgets/controls",
      "_model_module_version": "1.5.0",
      "_model_name": "DescriptionStyleModel",
      "_view_count": null,
      "_view_module": "@jupyter-widgets/base",
      "_view_module_version": "1.2.0",
      "_view_name": "StyleView",
      "description_width": ""
     }
    },
    "1eb621d025de49fdb1c01badcc9bf034": {
     "model_module": "@jupyter-widgets/controls",
     "model_module_version": "1.5.0",
     "model_name": "HBoxModel",
     "state": {
      "_dom_classes": [],
      "_model_module": "@jupyter-widgets/controls",
      "_model_module_version": "1.5.0",
      "_model_name": "HBoxModel",
      "_view_count": null,
      "_view_module": "@jupyter-widgets/controls",
      "_view_module_version": "1.5.0",
      "_view_name": "HBoxView",
      "box_style": "",
      "children": [
       "IPY_MODEL_9d1ce2c005d948079e708c0b334871d5",
       "IPY_MODEL_d1067e814f364f919e39926766584edc",
       "IPY_MODEL_bd4c5807b02d47d7b249896e0564b39f"
      ],
      "layout": "IPY_MODEL_85f052333d9f4822852de32cf15c8f20"
     }
    },
    "22ce404836db4bcd9fd74db44c280dbb": {
     "model_module": "@jupyter-widgets/controls",
     "model_module_version": "1.5.0",
     "model_name": "HTMLModel",
     "state": {
      "_dom_classes": [],
      "_model_module": "@jupyter-widgets/controls",
      "_model_module_version": "1.5.0",
      "_model_name": "HTMLModel",
      "_view_count": null,
      "_view_module": "@jupyter-widgets/controls",
      "_view_module_version": "1.5.0",
      "_view_name": "HTMLView",
      "description": "",
      "description_tooltip": null,
      "layout": "IPY_MODEL_ff48543efbb74749bc404ddef72a5492",
      "placeholder": "​",
      "style": "IPY_MODEL_34bfef0f9a8d498882531701c79abcf6",
      "value": ""
     }
    },
    "23c53312f5424b33b837d73d116c5a13": {
     "model_module": "@jupyter-widgets/controls",
     "model_module_version": "1.5.0",
     "model_name": "DescriptionStyleModel",
     "state": {
      "_model_module": "@jupyter-widgets/controls",
      "_model_module_version": "1.5.0",
      "_model_name": "DescriptionStyleModel",
      "_view_count": null,
      "_view_module": "@jupyter-widgets/base",
      "_view_module_version": "1.2.0",
      "_view_name": "StyleView",
      "description_width": ""
     }
    },
    "24693ee227f44b48acdd8a2c68a0bb4d": {
     "model_module": "@jupyter-widgets/controls",
     "model_module_version": "1.5.0",
     "model_name": "ProgressStyleModel",
     "state": {
      "_model_module": "@jupyter-widgets/controls",
      "_model_module_version": "1.5.0",
      "_model_name": "ProgressStyleModel",
      "_view_count": null,
      "_view_module": "@jupyter-widgets/base",
      "_view_module_version": "1.2.0",
      "_view_name": "StyleView",
      "bar_color": null,
      "description_width": ""
     }
    },
    "25518df831e24ab2b3324198daaa2a97": {
     "model_module": "@jupyter-widgets/base",
     "model_module_version": "1.2.0",
     "model_name": "LayoutModel",
     "state": {
      "_model_module": "@jupyter-widgets/base",
      "_model_module_version": "1.2.0",
      "_model_name": "LayoutModel",
      "_view_count": null,
      "_view_module": "@jupyter-widgets/base",
      "_view_module_version": "1.2.0",
      "_view_name": "LayoutView",
      "align_content": null,
      "align_items": null,
      "align_self": null,
      "border": null,
      "bottom": null,
      "display": null,
      "flex": null,
      "flex_flow": null,
      "grid_area": null,
      "grid_auto_columns": null,
      "grid_auto_flow": null,
      "grid_auto_rows": null,
      "grid_column": null,
      "grid_gap": null,
      "grid_row": null,
      "grid_template_areas": null,
      "grid_template_columns": null,
      "grid_template_rows": null,
      "height": null,
      "justify_content": null,
      "justify_items": null,
      "left": null,
      "margin": null,
      "max_height": null,
      "max_width": null,
      "min_height": null,
      "min_width": null,
      "object_fit": null,
      "object_position": null,
      "order": null,
      "overflow": null,
      "overflow_x": null,
      "overflow_y": null,
      "padding": null,
      "right": null,
      "top": null,
      "visibility": null,
      "width": null
     }
    },
    "2655b859270d4a80a2525a158c134426": {
     "model_module": "@jupyter-widgets/base",
     "model_module_version": "1.2.0",
     "model_name": "LayoutModel",
     "state": {
      "_model_module": "@jupyter-widgets/base",
      "_model_module_version": "1.2.0",
      "_model_name": "LayoutModel",
      "_view_count": null,
      "_view_module": "@jupyter-widgets/base",
      "_view_module_version": "1.2.0",
      "_view_name": "LayoutView",
      "align_content": null,
      "align_items": null,
      "align_self": null,
      "border": null,
      "bottom": null,
      "display": null,
      "flex": null,
      "flex_flow": null,
      "grid_area": null,
      "grid_auto_columns": null,
      "grid_auto_flow": null,
      "grid_auto_rows": null,
      "grid_column": null,
      "grid_gap": null,
      "grid_row": null,
      "grid_template_areas": null,
      "grid_template_columns": null,
      "grid_template_rows": null,
      "height": null,
      "justify_content": null,
      "justify_items": null,
      "left": null,
      "margin": null,
      "max_height": null,
      "max_width": null,
      "min_height": null,
      "min_width": null,
      "object_fit": null,
      "object_position": null,
      "order": null,
      "overflow": null,
      "overflow_x": null,
      "overflow_y": null,
      "padding": null,
      "right": null,
      "top": null,
      "visibility": null,
      "width": null
     }
    },
    "284da5cc6bb54aa186ad5bf762ff1959": {
     "model_module": "@jupyter-widgets/base",
     "model_module_version": "1.2.0",
     "model_name": "LayoutModel",
     "state": {
      "_model_module": "@jupyter-widgets/base",
      "_model_module_version": "1.2.0",
      "_model_name": "LayoutModel",
      "_view_count": null,
      "_view_module": "@jupyter-widgets/base",
      "_view_module_version": "1.2.0",
      "_view_name": "LayoutView",
      "align_content": null,
      "align_items": null,
      "align_self": null,
      "border": null,
      "bottom": null,
      "display": null,
      "flex": null,
      "flex_flow": null,
      "grid_area": null,
      "grid_auto_columns": null,
      "grid_auto_flow": null,
      "grid_auto_rows": null,
      "grid_column": null,
      "grid_gap": null,
      "grid_row": null,
      "grid_template_areas": null,
      "grid_template_columns": null,
      "grid_template_rows": null,
      "height": null,
      "justify_content": null,
      "justify_items": null,
      "left": null,
      "margin": null,
      "max_height": null,
      "max_width": null,
      "min_height": null,
      "min_width": null,
      "object_fit": null,
      "object_position": null,
      "order": null,
      "overflow": null,
      "overflow_x": null,
      "overflow_y": null,
      "padding": null,
      "right": null,
      "top": null,
      "visibility": null,
      "width": null
     }
    },
    "287c53ea03324c4d8c7a7eeec93f2280": {
     "model_module": "@jupyter-widgets/base",
     "model_module_version": "1.2.0",
     "model_name": "LayoutModel",
     "state": {
      "_model_module": "@jupyter-widgets/base",
      "_model_module_version": "1.2.0",
      "_model_name": "LayoutModel",
      "_view_count": null,
      "_view_module": "@jupyter-widgets/base",
      "_view_module_version": "1.2.0",
      "_view_name": "LayoutView",
      "align_content": null,
      "align_items": null,
      "align_self": null,
      "border": null,
      "bottom": null,
      "display": null,
      "flex": null,
      "flex_flow": null,
      "grid_area": null,
      "grid_auto_columns": null,
      "grid_auto_flow": null,
      "grid_auto_rows": null,
      "grid_column": null,
      "grid_gap": null,
      "grid_row": null,
      "grid_template_areas": null,
      "grid_template_columns": null,
      "grid_template_rows": null,
      "height": null,
      "justify_content": null,
      "justify_items": null,
      "left": null,
      "margin": null,
      "max_height": null,
      "max_width": null,
      "min_height": null,
      "min_width": null,
      "object_fit": null,
      "object_position": null,
      "order": null,
      "overflow": null,
      "overflow_x": null,
      "overflow_y": null,
      "padding": null,
      "right": null,
      "top": null,
      "visibility": null,
      "width": null
     }
    },
    "2e915a9cb7f14bc89cff1a2dfba50a5e": {
     "model_module": "@jupyter-widgets/controls",
     "model_module_version": "1.5.0",
     "model_name": "HTMLModel",
     "state": {
      "_dom_classes": [],
      "_model_module": "@jupyter-widgets/controls",
      "_model_module_version": "1.5.0",
      "_model_name": "HTMLModel",
      "_view_count": null,
      "_view_module": "@jupyter-widgets/controls",
      "_view_module_version": "1.5.0",
      "_view_name": "HTMLView",
      "description": "",
      "description_tooltip": null,
      "layout": "IPY_MODEL_674c4cdb0c77414fa678171e463dee9a",
      "placeholder": "​",
      "style": "IPY_MODEL_a492f4a66c0f4fff8604d7065b7dc40b",
      "value": ""
     }
    },
    "32c1cb285afe4d78a8495cd26f8ae3fd": {
     "model_module": "@jupyter-widgets/controls",
     "model_module_version": "1.5.0",
     "model_name": "FloatProgressModel",
     "state": {
      "_dom_classes": [],
      "_model_module": "@jupyter-widgets/controls",
      "_model_module_version": "1.5.0",
      "_model_name": "FloatProgressModel",
      "_view_count": null,
      "_view_module": "@jupyter-widgets/controls",
      "_view_module_version": "1.5.0",
      "_view_name": "ProgressView",
      "bar_style": "success",
      "description": "",
      "description_tooltip": null,
      "layout": "IPY_MODEL_02d2a0c576ac458f897e44693d3cd243",
      "max": 28881,
      "min": 0,
      "orientation": "horizontal",
      "style": "IPY_MODEL_078f21a0612b401aa9d8b51da24709c0",
      "value": 28881
     }
    },
    "332236d313574dc2b9390def3c3ce339": {
     "model_module": "@jupyter-widgets/controls",
     "model_module_version": "1.5.0",
     "model_name": "DescriptionStyleModel",
     "state": {
      "_model_module": "@jupyter-widgets/controls",
      "_model_module_version": "1.5.0",
      "_model_name": "DescriptionStyleModel",
      "_view_count": null,
      "_view_module": "@jupyter-widgets/base",
      "_view_module_version": "1.2.0",
      "_view_name": "StyleView",
      "description_width": ""
     }
    },
    "34bfef0f9a8d498882531701c79abcf6": {
     "model_module": "@jupyter-widgets/controls",
     "model_module_version": "1.5.0",
     "model_name": "DescriptionStyleModel",
     "state": {
      "_model_module": "@jupyter-widgets/controls",
      "_model_module_version": "1.5.0",
      "_model_name": "DescriptionStyleModel",
      "_view_count": null,
      "_view_module": "@jupyter-widgets/base",
      "_view_module_version": "1.2.0",
      "_view_name": "StyleView",
      "description_width": ""
     }
    },
    "3a4686e5bbb64a6394d7988b92fddf7b": {
     "model_module": "@jupyter-widgets/base",
     "model_module_version": "1.2.0",
     "model_name": "LayoutModel",
     "state": {
      "_model_module": "@jupyter-widgets/base",
      "_model_module_version": "1.2.0",
      "_model_name": "LayoutModel",
      "_view_count": null,
      "_view_module": "@jupyter-widgets/base",
      "_view_module_version": "1.2.0",
      "_view_name": "LayoutView",
      "align_content": null,
      "align_items": null,
      "align_self": null,
      "border": null,
      "bottom": null,
      "display": null,
      "flex": null,
      "flex_flow": null,
      "grid_area": null,
      "grid_auto_columns": null,
      "grid_auto_flow": null,
      "grid_auto_rows": null,
      "grid_column": null,
      "grid_gap": null,
      "grid_row": null,
      "grid_template_areas": null,
      "grid_template_columns": null,
      "grid_template_rows": null,
      "height": null,
      "justify_content": null,
      "justify_items": null,
      "left": null,
      "margin": null,
      "max_height": null,
      "max_width": null,
      "min_height": null,
      "min_width": null,
      "object_fit": null,
      "object_position": null,
      "order": null,
      "overflow": null,
      "overflow_x": null,
      "overflow_y": null,
      "padding": null,
      "right": null,
      "top": null,
      "visibility": null,
      "width": null
     }
    },
    "3a53e5906c4343c4a4bc4c7d26055e15": {
     "model_module": "@jupyter-widgets/controls",
     "model_module_version": "1.5.0",
     "model_name": "ProgressStyleModel",
     "state": {
      "_model_module": "@jupyter-widgets/controls",
      "_model_module_version": "1.5.0",
      "_model_name": "ProgressStyleModel",
      "_view_count": null,
      "_view_module": "@jupyter-widgets/base",
      "_view_module_version": "1.2.0",
      "_view_name": "StyleView",
      "bar_color": null,
      "description_width": ""
     }
    },
    "3ac54628776b4863b69df4e1ca0e396e": {
     "model_module": "@jupyter-widgets/controls",
     "model_module_version": "1.5.0",
     "model_name": "FloatProgressModel",
     "state": {
      "_dom_classes": [],
      "_model_module": "@jupyter-widgets/controls",
      "_model_module_version": "1.5.0",
      "_model_name": "FloatProgressModel",
      "_view_count": null,
      "_view_module": "@jupyter-widgets/controls",
      "_view_module_version": "1.5.0",
      "_view_name": "ProgressView",
      "bar_style": "success",
      "description": "",
      "description_tooltip": null,
      "layout": "IPY_MODEL_5db7f2793fc24a9fb8d0862b4df346a4",
      "max": 553433881,
      "min": 0,
      "orientation": "horizontal",
      "style": "IPY_MODEL_24693ee227f44b48acdd8a2c68a0bb4d",
      "value": 553433881
     }
    },
    "3b0e163e3a6a4832a09f976d0228dacf": {
     "model_module": "@jupyter-widgets/base",
     "model_module_version": "1.2.0",
     "model_name": "LayoutModel",
     "state": {
      "_model_module": "@jupyter-widgets/base",
      "_model_module_version": "1.2.0",
      "_model_name": "LayoutModel",
      "_view_count": null,
      "_view_module": "@jupyter-widgets/base",
      "_view_module_version": "1.2.0",
      "_view_name": "LayoutView",
      "align_content": null,
      "align_items": null,
      "align_self": null,
      "border": null,
      "bottom": null,
      "display": null,
      "flex": null,
      "flex_flow": null,
      "grid_area": null,
      "grid_auto_columns": null,
      "grid_auto_flow": null,
      "grid_auto_rows": null,
      "grid_column": null,
      "grid_gap": null,
      "grid_row": null,
      "grid_template_areas": null,
      "grid_template_columns": null,
      "grid_template_rows": null,
      "height": null,
      "justify_content": null,
      "justify_items": null,
      "left": null,
      "margin": null,
      "max_height": null,
      "max_width": null,
      "min_height": null,
      "min_width": null,
      "object_fit": null,
      "object_position": null,
      "order": null,
      "overflow": null,
      "overflow_x": null,
      "overflow_y": null,
      "padding": null,
      "right": null,
      "top": null,
      "visibility": null,
      "width": null
     }
    },
    "3b89e1587d7b40658dfaa6376da82ae0": {
     "model_module": "@jupyter-widgets/base",
     "model_module_version": "1.2.0",
     "model_name": "LayoutModel",
     "state": {
      "_model_module": "@jupyter-widgets/base",
      "_model_module_version": "1.2.0",
      "_model_name": "LayoutModel",
      "_view_count": null,
      "_view_module": "@jupyter-widgets/base",
      "_view_module_version": "1.2.0",
      "_view_name": "LayoutView",
      "align_content": null,
      "align_items": null,
      "align_self": null,
      "border": null,
      "bottom": null,
      "display": null,
      "flex": null,
      "flex_flow": null,
      "grid_area": null,
      "grid_auto_columns": null,
      "grid_auto_flow": null,
      "grid_auto_rows": null,
      "grid_column": null,
      "grid_gap": null,
      "grid_row": null,
      "grid_template_areas": null,
      "grid_template_columns": null,
      "grid_template_rows": null,
      "height": null,
      "justify_content": null,
      "justify_items": null,
      "left": null,
      "margin": null,
      "max_height": null,
      "max_width": null,
      "min_height": null,
      "min_width": null,
      "object_fit": null,
      "object_position": null,
      "order": null,
      "overflow": null,
      "overflow_x": null,
      "overflow_y": null,
      "padding": null,
      "right": null,
      "top": null,
      "visibility": null,
      "width": null
     }
    },
    "3c2bc2b3bed24b5ca9291a9e3474a01d": {
     "model_module": "@jupyter-widgets/base",
     "model_module_version": "1.2.0",
     "model_name": "LayoutModel",
     "state": {
      "_model_module": "@jupyter-widgets/base",
      "_model_module_version": "1.2.0",
      "_model_name": "LayoutModel",
      "_view_count": null,
      "_view_module": "@jupyter-widgets/base",
      "_view_module_version": "1.2.0",
      "_view_name": "LayoutView",
      "align_content": null,
      "align_items": null,
      "align_self": null,
      "border": null,
      "bottom": null,
      "display": null,
      "flex": null,
      "flex_flow": null,
      "grid_area": null,
      "grid_auto_columns": null,
      "grid_auto_flow": null,
      "grid_auto_rows": null,
      "grid_column": null,
      "grid_gap": null,
      "grid_row": null,
      "grid_template_areas": null,
      "grid_template_columns": null,
      "grid_template_rows": null,
      "height": null,
      "justify_content": null,
      "justify_items": null,
      "left": null,
      "margin": null,
      "max_height": null,
      "max_width": null,
      "min_height": null,
      "min_width": null,
      "object_fit": null,
      "object_position": null,
      "order": null,
      "overflow": null,
      "overflow_x": null,
      "overflow_y": null,
      "padding": null,
      "right": null,
      "top": null,
      "visibility": null,
      "width": null
     }
    },
    "3d6b1405b9cb4614aa533a080d91cc25": {
     "model_module": "@jupyter-widgets/controls",
     "model_module_version": "1.5.0",
     "model_name": "DescriptionStyleModel",
     "state": {
      "_model_module": "@jupyter-widgets/controls",
      "_model_module_version": "1.5.0",
      "_model_name": "DescriptionStyleModel",
      "_view_count": null,
      "_view_module": "@jupyter-widgets/base",
      "_view_module_version": "1.2.0",
      "_view_name": "StyleView",
      "description_width": ""
     }
    },
    "42ccda8330d04abea1f6e3bb58bd8336": {
     "model_module": "@jupyter-widgets/controls",
     "model_module_version": "1.5.0",
     "model_name": "HTMLModel",
     "state": {
      "_dom_classes": [],
      "_model_module": "@jupyter-widgets/controls",
      "_model_module_version": "1.5.0",
      "_model_name": "HTMLModel",
      "_view_count": null,
      "_view_module": "@jupyter-widgets/controls",
      "_view_module_version": "1.5.0",
      "_view_name": "HTMLView",
      "description": "",
      "description_tooltip": null,
      "layout": "IPY_MODEL_3a4686e5bbb64a6394d7988b92fddf7b",
      "placeholder": "​",
      "style": "IPY_MODEL_23c53312f5424b33b837d73d116c5a13",
      "value": ""
     }
    },
    "449e77f4829d47aaa7a60a44da15a3e6": {
     "model_module": "@jupyter-widgets/base",
     "model_module_version": "1.2.0",
     "model_name": "LayoutModel",
     "state": {
      "_model_module": "@jupyter-widgets/base",
      "_model_module_version": "1.2.0",
      "_model_name": "LayoutModel",
      "_view_count": null,
      "_view_module": "@jupyter-widgets/base",
      "_view_module_version": "1.2.0",
      "_view_name": "LayoutView",
      "align_content": null,
      "align_items": null,
      "align_self": null,
      "border": null,
      "bottom": null,
      "display": null,
      "flex": null,
      "flex_flow": null,
      "grid_area": null,
      "grid_auto_columns": null,
      "grid_auto_flow": null,
      "grid_auto_rows": null,
      "grid_column": null,
      "grid_gap": null,
      "grid_row": null,
      "grid_template_areas": null,
      "grid_template_columns": null,
      "grid_template_rows": null,
      "height": null,
      "justify_content": null,
      "justify_items": null,
      "left": null,
      "margin": null,
      "max_height": null,
      "max_width": null,
      "min_height": null,
      "min_width": null,
      "object_fit": null,
      "object_position": null,
      "order": null,
      "overflow": null,
      "overflow_x": null,
      "overflow_y": null,
      "padding": null,
      "right": null,
      "top": null,
      "visibility": null,
      "width": null
     }
    },
    "45cd077723ee4813af07a87b9fe5e1e8": {
     "model_module": "@jupyter-widgets/controls",
     "model_module_version": "1.5.0",
     "model_name": "HBoxModel",
     "state": {
      "_dom_classes": [],
      "_model_module": "@jupyter-widgets/controls",
      "_model_module_version": "1.5.0",
      "_model_name": "HBoxModel",
      "_view_count": null,
      "_view_module": "@jupyter-widgets/controls",
      "_view_module_version": "1.5.0",
      "_view_name": "HBoxView",
      "box_style": "",
      "children": [
       "IPY_MODEL_49ff658c97414de6b46442a1fcf7c38d",
       "IPY_MODEL_32c1cb285afe4d78a8495cd26f8ae3fd",
       "IPY_MODEL_017b9c2dc0db42128ffaf0e65319db08"
      ],
      "layout": "IPY_MODEL_fe6749ea76224467ae69fd207e9aba4c"
     }
    },
    "478900ec8b7745c789981016352a3c6d": {
     "model_module": "@jupyter-widgets/controls",
     "model_module_version": "1.5.0",
     "model_name": "DescriptionStyleModel",
     "state": {
      "_model_module": "@jupyter-widgets/controls",
      "_model_module_version": "1.5.0",
      "_model_name": "DescriptionStyleModel",
      "_view_count": null,
      "_view_module": "@jupyter-widgets/base",
      "_view_module_version": "1.2.0",
      "_view_name": "StyleView",
      "description_width": ""
     }
    },
    "49ff658c97414de6b46442a1fcf7c38d": {
     "model_module": "@jupyter-widgets/controls",
     "model_module_version": "1.5.0",
     "model_name": "HTMLModel",
     "state": {
      "_dom_classes": [],
      "_model_module": "@jupyter-widgets/controls",
      "_model_module_version": "1.5.0",
      "_model_name": "HTMLModel",
      "_view_count": null,
      "_view_module": "@jupyter-widgets/controls",
      "_view_module_version": "1.5.0",
      "_view_name": "HTMLView",
      "description": "",
      "description_tooltip": null,
      "layout": "IPY_MODEL_c6d7688352bf406c9190bb45f4785731",
      "placeholder": "​",
      "style": "IPY_MODEL_720c5aaebabb4c8a8bf204d86477345d",
      "value": ""
     }
    },
    "4a12e738fbdc4bde9a4803574fee3159": {
     "model_module": "@jupyter-widgets/controls",
     "model_module_version": "1.5.0",
     "model_name": "FloatProgressModel",
     "state": {
      "_dom_classes": [],
      "_model_module": "@jupyter-widgets/controls",
      "_model_module_version": "1.5.0",
      "_model_name": "FloatProgressModel",
      "_view_count": null,
      "_view_module": "@jupyter-widgets/controls",
      "_view_module_version": "1.5.0",
      "_view_name": "ProgressView",
      "bar_style": "success",
      "description": "",
      "description_tooltip": null,
      "layout": "IPY_MODEL_a956987f395a472b8df90433d5754f22",
      "max": 1648877,
      "min": 0,
      "orientation": "horizontal",
      "style": "IPY_MODEL_518f33d7afeb4343a6ae22bb2f59184b",
      "value": 1648877
     }
    },
    "4c437fc1a4e14b7cb151d1143b0d84ae": {
     "model_module": "@jupyter-widgets/controls",
     "model_module_version": "1.5.0",
     "model_name": "FloatProgressModel",
     "state": {
      "_dom_classes": [],
      "_model_module": "@jupyter-widgets/controls",
      "_model_module_version": "1.5.0",
      "_model_name": "FloatProgressModel",
      "_view_count": null,
      "_view_module": "@jupyter-widgets/controls",
      "_view_module_version": "1.5.0",
      "_view_name": "ProgressView",
      "bar_style": "success",
      "description": "",
      "description_tooltip": null,
      "layout": "IPY_MODEL_0e6549067a4b4c62b4778089c7875486",
      "max": 4542,
      "min": 0,
      "orientation": "horizontal",
      "style": "IPY_MODEL_d6aabb69cdfc4944ad6c951164adb1bd",
      "value": 4542
     }
    },
    "4dbcc65696284b3eb0c749755edcb3f6": {
     "model_module": "@jupyter-widgets/controls",
     "model_module_version": "1.5.0",
     "model_name": "DescriptionStyleModel",
     "state": {
      "_model_module": "@jupyter-widgets/controls",
      "_model_module_version": "1.5.0",
      "_model_name": "DescriptionStyleModel",
      "_view_count": null,
      "_view_module": "@jupyter-widgets/base",
      "_view_module_version": "1.2.0",
      "_view_name": "StyleView",
      "description_width": ""
     }
    },
    "518f33d7afeb4343a6ae22bb2f59184b": {
     "model_module": "@jupyter-widgets/controls",
     "model_module_version": "1.5.0",
     "model_name": "ProgressStyleModel",
     "state": {
      "_model_module": "@jupyter-widgets/controls",
      "_model_module_version": "1.5.0",
      "_model_name": "ProgressStyleModel",
      "_view_count": null,
      "_view_module": "@jupyter-widgets/base",
      "_view_module_version": "1.2.0",
      "_view_name": "StyleView",
      "bar_color": null,
      "description_width": ""
     }
    },
    "54529acc7df64f1a88185cf5c1adab45": {
     "model_module": "@jupyter-widgets/base",
     "model_module_version": "1.2.0",
     "model_name": "LayoutModel",
     "state": {
      "_model_module": "@jupyter-widgets/base",
      "_model_module_version": "1.2.0",
      "_model_name": "LayoutModel",
      "_view_count": null,
      "_view_module": "@jupyter-widgets/base",
      "_view_module_version": "1.2.0",
      "_view_name": "LayoutView",
      "align_content": null,
      "align_items": null,
      "align_self": null,
      "border": null,
      "bottom": null,
      "display": null,
      "flex": null,
      "flex_flow": null,
      "grid_area": null,
      "grid_auto_columns": null,
      "grid_auto_flow": null,
      "grid_auto_rows": null,
      "grid_column": null,
      "grid_gap": null,
      "grid_row": null,
      "grid_template_areas": null,
      "grid_template_columns": null,
      "grid_template_rows": null,
      "height": null,
      "justify_content": null,
      "justify_items": null,
      "left": null,
      "margin": null,
      "max_height": null,
      "max_width": null,
      "min_height": null,
      "min_width": null,
      "object_fit": null,
      "object_position": null,
      "order": null,
      "overflow": null,
      "overflow_x": null,
      "overflow_y": null,
      "padding": null,
      "right": null,
      "top": null,
      "visibility": null,
      "width": null
     }
    },
    "57c07541097647f5aad195ca5e9e2313": {
     "model_module": "@jupyter-widgets/controls",
     "model_module_version": "1.5.0",
     "model_name": "HBoxModel",
     "state": {
      "_dom_classes": [],
      "_model_module": "@jupyter-widgets/controls",
      "_model_module_version": "1.5.0",
      "_model_name": "HBoxModel",
      "_view_count": null,
      "_view_module": "@jupyter-widgets/controls",
      "_view_module_version": "1.5.0",
      "_view_name": "HBoxView",
      "box_style": "",
      "children": [
       "IPY_MODEL_42ccda8330d04abea1f6e3bb58bd8336",
       "IPY_MODEL_4c437fc1a4e14b7cb151d1143b0d84ae",
       "IPY_MODEL_952cdbb35b0546bd9153e085d0b80fbf"
      ],
      "layout": "IPY_MODEL_8f8e73167dde43dbbf312c814a514b65"
     }
    },
    "5db7f2793fc24a9fb8d0862b4df346a4": {
     "model_module": "@jupyter-widgets/base",
     "model_module_version": "1.2.0",
     "model_name": "LayoutModel",
     "state": {
      "_model_module": "@jupyter-widgets/base",
      "_model_module_version": "1.2.0",
      "_model_name": "LayoutModel",
      "_view_count": null,
      "_view_module": "@jupyter-widgets/base",
      "_view_module_version": "1.2.0",
      "_view_name": "LayoutView",
      "align_content": null,
      "align_items": null,
      "align_self": null,
      "border": null,
      "bottom": null,
      "display": null,
      "flex": null,
      "flex_flow": null,
      "grid_area": null,
      "grid_auto_columns": null,
      "grid_auto_flow": null,
      "grid_auto_rows": null,
      "grid_column": null,
      "grid_gap": null,
      "grid_row": null,
      "grid_template_areas": null,
      "grid_template_columns": null,
      "grid_template_rows": null,
      "height": null,
      "justify_content": null,
      "justify_items": null,
      "left": null,
      "margin": null,
      "max_height": null,
      "max_width": null,
      "min_height": null,
      "min_width": null,
      "object_fit": null,
      "object_position": null,
      "order": null,
      "overflow": null,
      "overflow_x": null,
      "overflow_y": null,
      "padding": null,
      "right": null,
      "top": null,
      "visibility": null,
      "width": null
     }
    },
    "5ea4e302149e4029af4cf0abad259762": {
     "model_module": "@jupyter-widgets/controls",
     "model_module_version": "1.5.0",
     "model_name": "HTMLModel",
     "state": {
      "_dom_classes": [],
      "_model_module": "@jupyter-widgets/controls",
      "_model_module_version": "1.5.0",
      "_model_name": "HTMLModel",
      "_view_count": null,
      "_view_module": "@jupyter-widgets/controls",
      "_view_module_version": "1.5.0",
      "_view_name": "HTMLView",
      "description": "",
      "description_tooltip": null,
      "layout": "IPY_MODEL_a092cc8fbd2f4045a13810f9aae1e551",
      "placeholder": "​",
      "style": "IPY_MODEL_78544c6f4c044202b0009707f50ef00d",
      "value": " 9913344/? [00:00&lt;00:00, 8611946.28it/s]"
     }
    },
    "674c4cdb0c77414fa678171e463dee9a": {
     "model_module": "@jupyter-widgets/base",
     "model_module_version": "1.2.0",
     "model_name": "LayoutModel",
     "state": {
      "_model_module": "@jupyter-widgets/base",
      "_model_module_version": "1.2.0",
      "_model_name": "LayoutModel",
      "_view_count": null,
      "_view_module": "@jupyter-widgets/base",
      "_view_module_version": "1.2.0",
      "_view_name": "LayoutView",
      "align_content": null,
      "align_items": null,
      "align_self": null,
      "border": null,
      "bottom": null,
      "display": null,
      "flex": null,
      "flex_flow": null,
      "grid_area": null,
      "grid_auto_columns": null,
      "grid_auto_flow": null,
      "grid_auto_rows": null,
      "grid_column": null,
      "grid_gap": null,
      "grid_row": null,
      "grid_template_areas": null,
      "grid_template_columns": null,
      "grid_template_rows": null,
      "height": null,
      "justify_content": null,
      "justify_items": null,
      "left": null,
      "margin": null,
      "max_height": null,
      "max_width": null,
      "min_height": null,
      "min_width": null,
      "object_fit": null,
      "object_position": null,
      "order": null,
      "overflow": null,
      "overflow_x": null,
      "overflow_y": null,
      "padding": null,
      "right": null,
      "top": null,
      "visibility": null,
      "width": null
     }
    },
    "69793ac39537476c84b281c03ca8f32a": {
     "model_module": "@jupyter-widgets/controls",
     "model_module_version": "1.5.0",
     "model_name": "HTMLModel",
     "state": {
      "_dom_classes": [],
      "_model_module": "@jupyter-widgets/controls",
      "_model_module_version": "1.5.0",
      "_model_name": "HTMLModel",
      "_view_count": null,
      "_view_module": "@jupyter-widgets/controls",
      "_view_module_version": "1.5.0",
      "_view_name": "HTMLView",
      "description": "",
      "description_tooltip": null,
      "layout": "IPY_MODEL_bfaf0b38f65e4c159f4d0fb2be33685b",
      "placeholder": "​",
      "style": "IPY_MODEL_4dbcc65696284b3eb0c749755edcb3f6",
      "value": ""
     }
    },
    "6e7c3f9bd91e4bfea42fb831d0e184b5": {
     "model_module": "@jupyter-widgets/base",
     "model_module_version": "1.2.0",
     "model_name": "LayoutModel",
     "state": {
      "_model_module": "@jupyter-widgets/base",
      "_model_module_version": "1.2.0",
      "_model_name": "LayoutModel",
      "_view_count": null,
      "_view_module": "@jupyter-widgets/base",
      "_view_module_version": "1.2.0",
      "_view_name": "LayoutView",
      "align_content": null,
      "align_items": null,
      "align_self": null,
      "border": null,
      "bottom": null,
      "display": null,
      "flex": null,
      "flex_flow": null,
      "grid_area": null,
      "grid_auto_columns": null,
      "grid_auto_flow": null,
      "grid_auto_rows": null,
      "grid_column": null,
      "grid_gap": null,
      "grid_row": null,
      "grid_template_areas": null,
      "grid_template_columns": null,
      "grid_template_rows": null,
      "height": null,
      "justify_content": null,
      "justify_items": null,
      "left": null,
      "margin": null,
      "max_height": null,
      "max_width": null,
      "min_height": null,
      "min_width": null,
      "object_fit": null,
      "object_position": null,
      "order": null,
      "overflow": null,
      "overflow_x": null,
      "overflow_y": null,
      "padding": null,
      "right": null,
      "top": null,
      "visibility": null,
      "width": null
     }
    },
    "6f6156b30f1d4f2ebb578819f2899299": {
     "model_module": "@jupyter-widgets/controls",
     "model_module_version": "1.5.0",
     "model_name": "HTMLModel",
     "state": {
      "_dom_classes": [],
      "_model_module": "@jupyter-widgets/controls",
      "_model_module_version": "1.5.0",
      "_model_name": "HTMLModel",
      "_view_count": null,
      "_view_module": "@jupyter-widgets/controls",
      "_view_module_version": "1.5.0",
      "_view_name": "HTMLView",
      "description": "",
      "description_tooltip": null,
      "layout": "IPY_MODEL_f237021619814a2ca9955163812a0663",
      "placeholder": "​",
      "style": "IPY_MODEL_fb5c636cd5ef49c9ab51f266e9ffcf15",
      "value": " 528M/528M [00:04&lt;00:00, 138MB/s]"
     }
    },
    "720c5aaebabb4c8a8bf204d86477345d": {
     "model_module": "@jupyter-widgets/controls",
     "model_module_version": "1.5.0",
     "model_name": "DescriptionStyleModel",
     "state": {
      "_model_module": "@jupyter-widgets/controls",
      "_model_module_version": "1.5.0",
      "_model_name": "DescriptionStyleModel",
      "_view_count": null,
      "_view_module": "@jupyter-widgets/base",
      "_view_module_version": "1.2.0",
      "_view_name": "StyleView",
      "description_width": ""
     }
    },
    "7324c91128844db1b098f70e32e4d4c8": {
     "model_module": "@jupyter-widgets/controls",
     "model_module_version": "1.5.0",
     "model_name": "DescriptionStyleModel",
     "state": {
      "_model_module": "@jupyter-widgets/controls",
      "_model_module_version": "1.5.0",
      "_model_name": "DescriptionStyleModel",
      "_view_count": null,
      "_view_module": "@jupyter-widgets/base",
      "_view_module_version": "1.2.0",
      "_view_name": "StyleView",
      "description_width": ""
     }
    },
    "78544c6f4c044202b0009707f50ef00d": {
     "model_module": "@jupyter-widgets/controls",
     "model_module_version": "1.5.0",
     "model_name": "DescriptionStyleModel",
     "state": {
      "_model_module": "@jupyter-widgets/controls",
      "_model_module_version": "1.5.0",
      "_model_name": "DescriptionStyleModel",
      "_view_count": null,
      "_view_module": "@jupyter-widgets/base",
      "_view_module_version": "1.2.0",
      "_view_name": "StyleView",
      "description_width": ""
     }
    },
    "7bcb583c9dc14bbf9f54cf1b9b325013": {
     "model_module": "@jupyter-widgets/controls",
     "model_module_version": "1.5.0",
     "model_name": "ProgressStyleModel",
     "state": {
      "_model_module": "@jupyter-widgets/controls",
      "_model_module_version": "1.5.0",
      "_model_name": "ProgressStyleModel",
      "_view_count": null,
      "_view_module": "@jupyter-widgets/base",
      "_view_module_version": "1.2.0",
      "_view_name": "StyleView",
      "bar_color": null,
      "description_width": ""
     }
    },
    "7bd97e3ece804159a0bbfa68f8ec16d0": {
     "model_module": "@jupyter-widgets/base",
     "model_module_version": "1.2.0",
     "model_name": "LayoutModel",
     "state": {
      "_model_module": "@jupyter-widgets/base",
      "_model_module_version": "1.2.0",
      "_model_name": "LayoutModel",
      "_view_count": null,
      "_view_module": "@jupyter-widgets/base",
      "_view_module_version": "1.2.0",
      "_view_name": "LayoutView",
      "align_content": null,
      "align_items": null,
      "align_self": null,
      "border": null,
      "bottom": null,
      "display": null,
      "flex": null,
      "flex_flow": null,
      "grid_area": null,
      "grid_auto_columns": null,
      "grid_auto_flow": null,
      "grid_auto_rows": null,
      "grid_column": null,
      "grid_gap": null,
      "grid_row": null,
      "grid_template_areas": null,
      "grid_template_columns": null,
      "grid_template_rows": null,
      "height": null,
      "justify_content": null,
      "justify_items": null,
      "left": null,
      "margin": null,
      "max_height": null,
      "max_width": null,
      "min_height": null,
      "min_width": null,
      "object_fit": null,
      "object_position": null,
      "order": null,
      "overflow": null,
      "overflow_x": null,
      "overflow_y": null,
      "padding": null,
      "right": null,
      "top": null,
      "visibility": null,
      "width": null
     }
    },
    "7fe8994184e84d06a78c2799b480d623": {
     "model_module": "@jupyter-widgets/base",
     "model_module_version": "1.2.0",
     "model_name": "LayoutModel",
     "state": {
      "_model_module": "@jupyter-widgets/base",
      "_model_module_version": "1.2.0",
      "_model_name": "LayoutModel",
      "_view_count": null,
      "_view_module": "@jupyter-widgets/base",
      "_view_module_version": "1.2.0",
      "_view_name": "LayoutView",
      "align_content": null,
      "align_items": null,
      "align_self": null,
      "border": null,
      "bottom": null,
      "display": null,
      "flex": null,
      "flex_flow": null,
      "grid_area": null,
      "grid_auto_columns": null,
      "grid_auto_flow": null,
      "grid_auto_rows": null,
      "grid_column": null,
      "grid_gap": null,
      "grid_row": null,
      "grid_template_areas": null,
      "grid_template_columns": null,
      "grid_template_rows": null,
      "height": null,
      "justify_content": null,
      "justify_items": null,
      "left": null,
      "margin": null,
      "max_height": null,
      "max_width": null,
      "min_height": null,
      "min_width": null,
      "object_fit": null,
      "object_position": null,
      "order": null,
      "overflow": null,
      "overflow_x": null,
      "overflow_y": null,
      "padding": null,
      "right": null,
      "top": null,
      "visibility": null,
      "width": null
     }
    },
    "8171c87463b747308a586dcce2d02728": {
     "model_module": "@jupyter-widgets/base",
     "model_module_version": "1.2.0",
     "model_name": "LayoutModel",
     "state": {
      "_model_module": "@jupyter-widgets/base",
      "_model_module_version": "1.2.0",
      "_model_name": "LayoutModel",
      "_view_count": null,
      "_view_module": "@jupyter-widgets/base",
      "_view_module_version": "1.2.0",
      "_view_name": "LayoutView",
      "align_content": null,
      "align_items": null,
      "align_self": null,
      "border": null,
      "bottom": null,
      "display": null,
      "flex": null,
      "flex_flow": null,
      "grid_area": null,
      "grid_auto_columns": null,
      "grid_auto_flow": null,
      "grid_auto_rows": null,
      "grid_column": null,
      "grid_gap": null,
      "grid_row": null,
      "grid_template_areas": null,
      "grid_template_columns": null,
      "grid_template_rows": null,
      "height": null,
      "justify_content": null,
      "justify_items": null,
      "left": null,
      "margin": null,
      "max_height": null,
      "max_width": null,
      "min_height": null,
      "min_width": null,
      "object_fit": null,
      "object_position": null,
      "order": null,
      "overflow": null,
      "overflow_x": null,
      "overflow_y": null,
      "padding": null,
      "right": null,
      "top": null,
      "visibility": null,
      "width": null
     }
    },
    "85f052333d9f4822852de32cf15c8f20": {
     "model_module": "@jupyter-widgets/base",
     "model_module_version": "1.2.0",
     "model_name": "LayoutModel",
     "state": {
      "_model_module": "@jupyter-widgets/base",
      "_model_module_version": "1.2.0",
      "_model_name": "LayoutModel",
      "_view_count": null,
      "_view_module": "@jupyter-widgets/base",
      "_view_module_version": "1.2.0",
      "_view_name": "LayoutView",
      "align_content": null,
      "align_items": null,
      "align_self": null,
      "border": null,
      "bottom": null,
      "display": null,
      "flex": null,
      "flex_flow": null,
      "grid_area": null,
      "grid_auto_columns": null,
      "grid_auto_flow": null,
      "grid_auto_rows": null,
      "grid_column": null,
      "grid_gap": null,
      "grid_row": null,
      "grid_template_areas": null,
      "grid_template_columns": null,
      "grid_template_rows": null,
      "height": null,
      "justify_content": null,
      "justify_items": null,
      "left": null,
      "margin": null,
      "max_height": null,
      "max_width": null,
      "min_height": null,
      "min_width": null,
      "object_fit": null,
      "object_position": null,
      "order": null,
      "overflow": null,
      "overflow_x": null,
      "overflow_y": null,
      "padding": null,
      "right": null,
      "top": null,
      "visibility": null,
      "width": null
     }
    },
    "87ce4b25601942cfaa13607675564374": {
     "model_module": "@jupyter-widgets/controls",
     "model_module_version": "1.5.0",
     "model_name": "HTMLModel",
     "state": {
      "_dom_classes": [],
      "_model_module": "@jupyter-widgets/controls",
      "_model_module_version": "1.5.0",
      "_model_name": "HTMLModel",
      "_view_count": null,
      "_view_module": "@jupyter-widgets/controls",
      "_view_module_version": "1.5.0",
      "_view_name": "HTMLView",
      "description": "",
      "description_tooltip": null,
      "layout": "IPY_MODEL_033e8955078b47adbb203659a2c5fe3d",
      "placeholder": "​",
      "style": "IPY_MODEL_11bbd4f688934337bc48b44aaa7d50f7",
      "value": ""
     }
    },
    "8acbc87717c14766ab809ab430149d27": {
     "model_module": "@jupyter-widgets/controls",
     "model_module_version": "1.5.0",
     "model_name": "DescriptionStyleModel",
     "state": {
      "_model_module": "@jupyter-widgets/controls",
      "_model_module_version": "1.5.0",
      "_model_name": "DescriptionStyleModel",
      "_view_count": null,
      "_view_module": "@jupyter-widgets/base",
      "_view_module_version": "1.2.0",
      "_view_name": "StyleView",
      "description_width": ""
     }
    },
    "8dc0d49139464874b66ee32e8aa691b7": {
     "model_module": "@jupyter-widgets/controls",
     "model_module_version": "1.5.0",
     "model_name": "HBoxModel",
     "state": {
      "_dom_classes": [],
      "_model_module": "@jupyter-widgets/controls",
      "_model_module_version": "1.5.0",
      "_model_name": "HBoxModel",
      "_view_count": null,
      "_view_module": "@jupyter-widgets/controls",
      "_view_module_version": "1.5.0",
      "_view_name": "HBoxView",
      "box_style": "",
      "children": [
       "IPY_MODEL_87ce4b25601942cfaa13607675564374",
       "IPY_MODEL_0dd89cada7cc46bda88e80a35ff97443",
       "IPY_MODEL_1a3bbb352e7644a5ae9a4e15c6c26852"
      ],
      "layout": "IPY_MODEL_af15c7c984b54eef98a1d2c13659b3ef"
     }
    },
    "8ed921c4800f436db88e3ee4f05afdde": {
     "model_module": "@jupyter-widgets/controls",
     "model_module_version": "1.5.0",
     "model_name": "ProgressStyleModel",
     "state": {
      "_model_module": "@jupyter-widgets/controls",
      "_model_module_version": "1.5.0",
      "_model_name": "ProgressStyleModel",
      "_view_count": null,
      "_view_module": "@jupyter-widgets/base",
      "_view_module_version": "1.2.0",
      "_view_name": "StyleView",
      "bar_color": null,
      "description_width": ""
     }
    },
    "8f8e73167dde43dbbf312c814a514b65": {
     "model_module": "@jupyter-widgets/base",
     "model_module_version": "1.2.0",
     "model_name": "LayoutModel",
     "state": {
      "_model_module": "@jupyter-widgets/base",
      "_model_module_version": "1.2.0",
      "_model_name": "LayoutModel",
      "_view_count": null,
      "_view_module": "@jupyter-widgets/base",
      "_view_module_version": "1.2.0",
      "_view_name": "LayoutView",
      "align_content": null,
      "align_items": null,
      "align_self": null,
      "border": null,
      "bottom": null,
      "display": null,
      "flex": null,
      "flex_flow": null,
      "grid_area": null,
      "grid_auto_columns": null,
      "grid_auto_flow": null,
      "grid_auto_rows": null,
      "grid_column": null,
      "grid_gap": null,
      "grid_row": null,
      "grid_template_areas": null,
      "grid_template_columns": null,
      "grid_template_rows": null,
      "height": null,
      "justify_content": null,
      "justify_items": null,
      "left": null,
      "margin": null,
      "max_height": null,
      "max_width": null,
      "min_height": null,
      "min_width": null,
      "object_fit": null,
      "object_position": null,
      "order": null,
      "overflow": null,
      "overflow_x": null,
      "overflow_y": null,
      "padding": null,
      "right": null,
      "top": null,
      "visibility": null,
      "width": null
     }
    },
    "93ea0df1ee30421a803fe81505bb9253": {
     "model_module": "@jupyter-widgets/controls",
     "model_module_version": "1.5.0",
     "model_name": "HTMLModel",
     "state": {
      "_dom_classes": [],
      "_model_module": "@jupyter-widgets/controls",
      "_model_module_version": "1.5.0",
      "_model_name": "HTMLModel",
      "_view_count": null,
      "_view_module": "@jupyter-widgets/controls",
      "_view_module_version": "1.5.0",
      "_view_name": "HTMLView",
      "description": "",
      "description_tooltip": null,
      "layout": "IPY_MODEL_0a6ed079591f426cbd1feea05a01496c",
      "placeholder": "​",
      "style": "IPY_MODEL_7324c91128844db1b098f70e32e4d4c8",
      "value": " 1649664/? [00:00&lt;00:00, 3693381.28it/s]"
     }
    },
    "952cdbb35b0546bd9153e085d0b80fbf": {
     "model_module": "@jupyter-widgets/controls",
     "model_module_version": "1.5.0",
     "model_name": "HTMLModel",
     "state": {
      "_dom_classes": [],
      "_model_module": "@jupyter-widgets/controls",
      "_model_module_version": "1.5.0",
      "_model_name": "HTMLModel",
      "_view_count": null,
      "_view_module": "@jupyter-widgets/controls",
      "_view_module_version": "1.5.0",
      "_view_name": "HTMLView",
      "description": "",
      "description_tooltip": null,
      "layout": "IPY_MODEL_c24be671685a4a919d1d4c80cc6927cf",
      "placeholder": "​",
      "style": "IPY_MODEL_332236d313574dc2b9390def3c3ce339",
      "value": " 5120/? [00:00&lt;00:00, 6137.63it/s]"
     }
    },
    "957759a105c544a39c78f93d937c2afb": {
     "model_module": "@jupyter-widgets/controls",
     "model_module_version": "1.5.0",
     "model_name": "HBoxModel",
     "state": {
      "_dom_classes": [],
      "_model_module": "@jupyter-widgets/controls",
      "_model_module_version": "1.5.0",
      "_model_name": "HBoxModel",
      "_view_count": null,
      "_view_module": "@jupyter-widgets/controls",
      "_view_module_version": "1.5.0",
      "_view_name": "HBoxView",
      "box_style": "",
      "children": [
       "IPY_MODEL_69793ac39537476c84b281c03ca8f32a",
       "IPY_MODEL_f7fde7b8cbcc4c8bb50057987c602fa4",
       "IPY_MODEL_5ea4e302149e4029af4cf0abad259762"
      ],
      "layout": "IPY_MODEL_3c2bc2b3bed24b5ca9291a9e3474a01d"
     }
    },
    "96be7d2db8044c1285988bf2d15f781e": {
     "model_module": "@jupyter-widgets/base",
     "model_module_version": "1.2.0",
     "model_name": "LayoutModel",
     "state": {
      "_model_module": "@jupyter-widgets/base",
      "_model_module_version": "1.2.0",
      "_model_name": "LayoutModel",
      "_view_count": null,
      "_view_module": "@jupyter-widgets/base",
      "_view_module_version": "1.2.0",
      "_view_name": "LayoutView",
      "align_content": null,
      "align_items": null,
      "align_self": null,
      "border": null,
      "bottom": null,
      "display": null,
      "flex": null,
      "flex_flow": null,
      "grid_area": null,
      "grid_auto_columns": null,
      "grid_auto_flow": null,
      "grid_auto_rows": null,
      "grid_column": null,
      "grid_gap": null,
      "grid_row": null,
      "grid_template_areas": null,
      "grid_template_columns": null,
      "grid_template_rows": null,
      "height": null,
      "justify_content": null,
      "justify_items": null,
      "left": null,
      "margin": null,
      "max_height": null,
      "max_width": null,
      "min_height": null,
      "min_width": null,
      "object_fit": null,
      "object_position": null,
      "order": null,
      "overflow": null,
      "overflow_x": null,
      "overflow_y": null,
      "padding": null,
      "right": null,
      "top": null,
      "visibility": null,
      "width": null
     }
    },
    "9b00173ce30946e1a51e46c98924c55a": {
     "model_module": "@jupyter-widgets/base",
     "model_module_version": "1.2.0",
     "model_name": "LayoutModel",
     "state": {
      "_model_module": "@jupyter-widgets/base",
      "_model_module_version": "1.2.0",
      "_model_name": "LayoutModel",
      "_view_count": null,
      "_view_module": "@jupyter-widgets/base",
      "_view_module_version": "1.2.0",
      "_view_name": "LayoutView",
      "align_content": null,
      "align_items": null,
      "align_self": null,
      "border": null,
      "bottom": null,
      "display": null,
      "flex": null,
      "flex_flow": null,
      "grid_area": null,
      "grid_auto_columns": null,
      "grid_auto_flow": null,
      "grid_auto_rows": null,
      "grid_column": null,
      "grid_gap": null,
      "grid_row": null,
      "grid_template_areas": null,
      "grid_template_columns": null,
      "grid_template_rows": null,
      "height": null,
      "justify_content": null,
      "justify_items": null,
      "left": null,
      "margin": null,
      "max_height": null,
      "max_width": null,
      "min_height": null,
      "min_width": null,
      "object_fit": null,
      "object_position": null,
      "order": null,
      "overflow": null,
      "overflow_x": null,
      "overflow_y": null,
      "padding": null,
      "right": null,
      "top": null,
      "visibility": null,
      "width": null
     }
    },
    "9d1ce2c005d948079e708c0b334871d5": {
     "model_module": "@jupyter-widgets/controls",
     "model_module_version": "1.5.0",
     "model_name": "HTMLModel",
     "state": {
      "_dom_classes": [],
      "_model_module": "@jupyter-widgets/controls",
      "_model_module_version": "1.5.0",
      "_model_name": "HTMLModel",
      "_view_count": null,
      "_view_module": "@jupyter-widgets/controls",
      "_view_module_version": "1.5.0",
      "_view_name": "HTMLView",
      "description": "",
      "description_tooltip": null,
      "layout": "IPY_MODEL_287c53ea03324c4d8c7a7eeec93f2280",
      "placeholder": "​",
      "style": "IPY_MODEL_f610079ce6204be4a6ab6913f111218e",
      "value": ""
     }
    },
    "9fd0b2063051466c8198c3c2d0e881e9": {
     "model_module": "@jupyter-widgets/controls",
     "model_module_version": "1.5.0",
     "model_name": "HBoxModel",
     "state": {
      "_dom_classes": [],
      "_model_module": "@jupyter-widgets/controls",
      "_model_module_version": "1.5.0",
      "_model_name": "HBoxModel",
      "_view_count": null,
      "_view_module": "@jupyter-widgets/controls",
      "_view_module_version": "1.5.0",
      "_view_name": "HBoxView",
      "box_style": "",
      "children": [
       "IPY_MODEL_0e3720628dbd4e609d3bbedaad0caf56",
       "IPY_MODEL_f3afefd1a9c84aa1a784e51c23c4ab77",
       "IPY_MODEL_cea4557a4b6b48c39b4624e484209d21"
      ],
      "layout": "IPY_MODEL_2655b859270d4a80a2525a158c134426"
     }
    },
    "a092cc8fbd2f4045a13810f9aae1e551": {
     "model_module": "@jupyter-widgets/base",
     "model_module_version": "1.2.0",
     "model_name": "LayoutModel",
     "state": {
      "_model_module": "@jupyter-widgets/base",
      "_model_module_version": "1.2.0",
      "_model_name": "LayoutModel",
      "_view_count": null,
      "_view_module": "@jupyter-widgets/base",
      "_view_module_version": "1.2.0",
      "_view_name": "LayoutView",
      "align_content": null,
      "align_items": null,
      "align_self": null,
      "border": null,
      "bottom": null,
      "display": null,
      "flex": null,
      "flex_flow": null,
      "grid_area": null,
      "grid_auto_columns": null,
      "grid_auto_flow": null,
      "grid_auto_rows": null,
      "grid_column": null,
      "grid_gap": null,
      "grid_row": null,
      "grid_template_areas": null,
      "grid_template_columns": null,
      "grid_template_rows": null,
      "height": null,
      "justify_content": null,
      "justify_items": null,
      "left": null,
      "margin": null,
      "max_height": null,
      "max_width": null,
      "min_height": null,
      "min_width": null,
      "object_fit": null,
      "object_position": null,
      "order": null,
      "overflow": null,
      "overflow_x": null,
      "overflow_y": null,
      "padding": null,
      "right": null,
      "top": null,
      "visibility": null,
      "width": null
     }
    },
    "a2699967094e4f54946019edb313ea7c": {
     "model_module": "@jupyter-widgets/controls",
     "model_module_version": "1.5.0",
     "model_name": "DescriptionStyleModel",
     "state": {
      "_model_module": "@jupyter-widgets/controls",
      "_model_module_version": "1.5.0",
      "_model_name": "DescriptionStyleModel",
      "_view_count": null,
      "_view_module": "@jupyter-widgets/base",
      "_view_module_version": "1.2.0",
      "_view_name": "StyleView",
      "description_width": ""
     }
    },
    "a385bad488e249bcb2c5db8a62ef0f8b": {
     "model_module": "@jupyter-widgets/controls",
     "model_module_version": "1.5.0",
     "model_name": "HTMLModel",
     "state": {
      "_dom_classes": [],
      "_model_module": "@jupyter-widgets/controls",
      "_model_module_version": "1.5.0",
      "_model_name": "HTMLModel",
      "_view_count": null,
      "_view_module": "@jupyter-widgets/controls",
      "_view_module_version": "1.5.0",
      "_view_name": "HTMLView",
      "description": "",
      "description_tooltip": null,
      "layout": "IPY_MODEL_25518df831e24ab2b3324198daaa2a97",
      "placeholder": "​",
      "style": "IPY_MODEL_a2699967094e4f54946019edb313ea7c",
      "value": " 29696/? [00:00&lt;00:00, 746834.39it/s]"
     }
    },
    "a492f4a66c0f4fff8604d7065b7dc40b": {
     "model_module": "@jupyter-widgets/controls",
     "model_module_version": "1.5.0",
     "model_name": "DescriptionStyleModel",
     "state": {
      "_model_module": "@jupyter-widgets/controls",
      "_model_module_version": "1.5.0",
      "_model_name": "DescriptionStyleModel",
      "_view_count": null,
      "_view_module": "@jupyter-widgets/base",
      "_view_module_version": "1.2.0",
      "_view_name": "StyleView",
      "description_width": ""
     }
    },
    "a77ff305bfc8470d92c855fb9977cfb0": {
     "model_module": "@jupyter-widgets/base",
     "model_module_version": "1.2.0",
     "model_name": "LayoutModel",
     "state": {
      "_model_module": "@jupyter-widgets/base",
      "_model_module_version": "1.2.0",
      "_model_name": "LayoutModel",
      "_view_count": null,
      "_view_module": "@jupyter-widgets/base",
      "_view_module_version": "1.2.0",
      "_view_name": "LayoutView",
      "align_content": null,
      "align_items": null,
      "align_self": null,
      "border": null,
      "bottom": null,
      "display": null,
      "flex": null,
      "flex_flow": null,
      "grid_area": null,
      "grid_auto_columns": null,
      "grid_auto_flow": null,
      "grid_auto_rows": null,
      "grid_column": null,
      "grid_gap": null,
      "grid_row": null,
      "grid_template_areas": null,
      "grid_template_columns": null,
      "grid_template_rows": null,
      "height": null,
      "justify_content": null,
      "justify_items": null,
      "left": null,
      "margin": null,
      "max_height": null,
      "max_width": null,
      "min_height": null,
      "min_width": null,
      "object_fit": null,
      "object_position": null,
      "order": null,
      "overflow": null,
      "overflow_x": null,
      "overflow_y": null,
      "padding": null,
      "right": null,
      "top": null,
      "visibility": null,
      "width": null
     }
    },
    "a956987f395a472b8df90433d5754f22": {
     "model_module": "@jupyter-widgets/base",
     "model_module_version": "1.2.0",
     "model_name": "LayoutModel",
     "state": {
      "_model_module": "@jupyter-widgets/base",
      "_model_module_version": "1.2.0",
      "_model_name": "LayoutModel",
      "_view_count": null,
      "_view_module": "@jupyter-widgets/base",
      "_view_module_version": "1.2.0",
      "_view_name": "LayoutView",
      "align_content": null,
      "align_items": null,
      "align_self": null,
      "border": null,
      "bottom": null,
      "display": null,
      "flex": null,
      "flex_flow": null,
      "grid_area": null,
      "grid_auto_columns": null,
      "grid_auto_flow": null,
      "grid_auto_rows": null,
      "grid_column": null,
      "grid_gap": null,
      "grid_row": null,
      "grid_template_areas": null,
      "grid_template_columns": null,
      "grid_template_rows": null,
      "height": null,
      "justify_content": null,
      "justify_items": null,
      "left": null,
      "margin": null,
      "max_height": null,
      "max_width": null,
      "min_height": null,
      "min_width": null,
      "object_fit": null,
      "object_position": null,
      "order": null,
      "overflow": null,
      "overflow_x": null,
      "overflow_y": null,
      "padding": null,
      "right": null,
      "top": null,
      "visibility": null,
      "width": null
     }
    },
    "af15c7c984b54eef98a1d2c13659b3ef": {
     "model_module": "@jupyter-widgets/base",
     "model_module_version": "1.2.0",
     "model_name": "LayoutModel",
     "state": {
      "_model_module": "@jupyter-widgets/base",
      "_model_module_version": "1.2.0",
      "_model_name": "LayoutModel",
      "_view_count": null,
      "_view_module": "@jupyter-widgets/base",
      "_view_module_version": "1.2.0",
      "_view_name": "LayoutView",
      "align_content": null,
      "align_items": null,
      "align_self": null,
      "border": null,
      "bottom": null,
      "display": null,
      "flex": null,
      "flex_flow": null,
      "grid_area": null,
      "grid_auto_columns": null,
      "grid_auto_flow": null,
      "grid_auto_rows": null,
      "grid_column": null,
      "grid_gap": null,
      "grid_row": null,
      "grid_template_areas": null,
      "grid_template_columns": null,
      "grid_template_rows": null,
      "height": null,
      "justify_content": null,
      "justify_items": null,
      "left": null,
      "margin": null,
      "max_height": null,
      "max_width": null,
      "min_height": null,
      "min_width": null,
      "object_fit": null,
      "object_position": null,
      "order": null,
      "overflow": null,
      "overflow_x": null,
      "overflow_y": null,
      "padding": null,
      "right": null,
      "top": null,
      "visibility": null,
      "width": null
     }
    },
    "b6288a5f4272424bb12fbfb36b002baa": {
     "model_module": "@jupyter-widgets/base",
     "model_module_version": "1.2.0",
     "model_name": "LayoutModel",
     "state": {
      "_model_module": "@jupyter-widgets/base",
      "_model_module_version": "1.2.0",
      "_model_name": "LayoutModel",
      "_view_count": null,
      "_view_module": "@jupyter-widgets/base",
      "_view_module_version": "1.2.0",
      "_view_name": "LayoutView",
      "align_content": null,
      "align_items": null,
      "align_self": null,
      "border": null,
      "bottom": null,
      "display": null,
      "flex": null,
      "flex_flow": null,
      "grid_area": null,
      "grid_auto_columns": null,
      "grid_auto_flow": null,
      "grid_auto_rows": null,
      "grid_column": null,
      "grid_gap": null,
      "grid_row": null,
      "grid_template_areas": null,
      "grid_template_columns": null,
      "grid_template_rows": null,
      "height": null,
      "justify_content": null,
      "justify_items": null,
      "left": null,
      "margin": null,
      "max_height": null,
      "max_width": null,
      "min_height": null,
      "min_width": null,
      "object_fit": null,
      "object_position": null,
      "order": null,
      "overflow": null,
      "overflow_x": null,
      "overflow_y": null,
      "padding": null,
      "right": null,
      "top": null,
      "visibility": null,
      "width": null
     }
    },
    "b7bf87bf1eb54a6993c522fb24129124": {
     "model_module": "@jupyter-widgets/controls",
     "model_module_version": "1.5.0",
     "model_name": "HTMLModel",
     "state": {
      "_dom_classes": [],
      "_model_module": "@jupyter-widgets/controls",
      "_model_module_version": "1.5.0",
      "_model_name": "HTMLModel",
      "_view_count": null,
      "_view_module": "@jupyter-widgets/controls",
      "_view_module_version": "1.5.0",
      "_view_name": "HTMLView",
      "description": "",
      "description_tooltip": null,
      "layout": "IPY_MODEL_96be7d2db8044c1285988bf2d15f781e",
      "placeholder": "​",
      "style": "IPY_MODEL_d59a53b8e12a4084b5e0b4e6a89ca388",
      "value": ""
     }
    },
    "b9bd35aa60d44dfbb2083e30b1298347": {
     "model_module": "@jupyter-widgets/controls",
     "model_module_version": "1.5.0",
     "model_name": "FloatProgressModel",
     "state": {
      "_dom_classes": [],
      "_model_module": "@jupyter-widgets/controls",
      "_model_module_version": "1.5.0",
      "_model_name": "FloatProgressModel",
      "_view_count": null,
      "_view_module": "@jupyter-widgets/controls",
      "_view_module_version": "1.5.0",
      "_view_name": "ProgressView",
      "bar_style": "success",
      "description": "",
      "description_tooltip": null,
      "layout": "IPY_MODEL_3b0e163e3a6a4832a09f976d0228dacf",
      "max": 28881,
      "min": 0,
      "orientation": "horizontal",
      "style": "IPY_MODEL_3a53e5906c4343c4a4bc4c7d26055e15",
      "value": 28881
     }
    },
    "bd4c5807b02d47d7b249896e0564b39f": {
     "model_module": "@jupyter-widgets/controls",
     "model_module_version": "1.5.0",
     "model_name": "HTMLModel",
     "state": {
      "_dom_classes": [],
      "_model_module": "@jupyter-widgets/controls",
      "_model_module_version": "1.5.0",
      "_model_name": "HTMLModel",
      "_view_count": null,
      "_view_module": "@jupyter-widgets/controls",
      "_view_module_version": "1.5.0",
      "_view_name": "HTMLView",
      "description": "",
      "description_tooltip": null,
      "layout": "IPY_MODEL_0769a09486f84dd2a1dd07a74cbf4d66",
      "placeholder": "​",
      "style": "IPY_MODEL_8acbc87717c14766ab809ab430149d27",
      "value": " 170499072/? [00:06&lt;00:00, 31674465.38it/s]"
     }
    },
    "bfaf0b38f65e4c159f4d0fb2be33685b": {
     "model_module": "@jupyter-widgets/base",
     "model_module_version": "1.2.0",
     "model_name": "LayoutModel",
     "state": {
      "_model_module": "@jupyter-widgets/base",
      "_model_module_version": "1.2.0",
      "_model_name": "LayoutModel",
      "_view_count": null,
      "_view_module": "@jupyter-widgets/base",
      "_view_module_version": "1.2.0",
      "_view_name": "LayoutView",
      "align_content": null,
      "align_items": null,
      "align_self": null,
      "border": null,
      "bottom": null,
      "display": null,
      "flex": null,
      "flex_flow": null,
      "grid_area": null,
      "grid_auto_columns": null,
      "grid_auto_flow": null,
      "grid_auto_rows": null,
      "grid_column": null,
      "grid_gap": null,
      "grid_row": null,
      "grid_template_areas": null,
      "grid_template_columns": null,
      "grid_template_rows": null,
      "height": null,
      "justify_content": null,
      "justify_items": null,
      "left": null,
      "margin": null,
      "max_height": null,
      "max_width": null,
      "min_height": null,
      "min_width": null,
      "object_fit": null,
      "object_position": null,
      "order": null,
      "overflow": null,
      "overflow_x": null,
      "overflow_y": null,
      "padding": null,
      "right": null,
      "top": null,
      "visibility": null,
      "width": null
     }
    },
    "bff69fd815a943da846cfa82f40e272a": {
     "model_module": "@jupyter-widgets/base",
     "model_module_version": "1.2.0",
     "model_name": "LayoutModel",
     "state": {
      "_model_module": "@jupyter-widgets/base",
      "_model_module_version": "1.2.0",
      "_model_name": "LayoutModel",
      "_view_count": null,
      "_view_module": "@jupyter-widgets/base",
      "_view_module_version": "1.2.0",
      "_view_name": "LayoutView",
      "align_content": null,
      "align_items": null,
      "align_self": null,
      "border": null,
      "bottom": null,
      "display": null,
      "flex": null,
      "flex_flow": null,
      "grid_area": null,
      "grid_auto_columns": null,
      "grid_auto_flow": null,
      "grid_auto_rows": null,
      "grid_column": null,
      "grid_gap": null,
      "grid_row": null,
      "grid_template_areas": null,
      "grid_template_columns": null,
      "grid_template_rows": null,
      "height": null,
      "justify_content": null,
      "justify_items": null,
      "left": null,
      "margin": null,
      "max_height": null,
      "max_width": null,
      "min_height": null,
      "min_width": null,
      "object_fit": null,
      "object_position": null,
      "order": null,
      "overflow": null,
      "overflow_x": null,
      "overflow_y": null,
      "padding": null,
      "right": null,
      "top": null,
      "visibility": null,
      "width": null
     }
    },
    "c24be671685a4a919d1d4c80cc6927cf": {
     "model_module": "@jupyter-widgets/base",
     "model_module_version": "1.2.0",
     "model_name": "LayoutModel",
     "state": {
      "_model_module": "@jupyter-widgets/base",
      "_model_module_version": "1.2.0",
      "_model_name": "LayoutModel",
      "_view_count": null,
      "_view_module": "@jupyter-widgets/base",
      "_view_module_version": "1.2.0",
      "_view_name": "LayoutView",
      "align_content": null,
      "align_items": null,
      "align_self": null,
      "border": null,
      "bottom": null,
      "display": null,
      "flex": null,
      "flex_flow": null,
      "grid_area": null,
      "grid_auto_columns": null,
      "grid_auto_flow": null,
      "grid_auto_rows": null,
      "grid_column": null,
      "grid_gap": null,
      "grid_row": null,
      "grid_template_areas": null,
      "grid_template_columns": null,
      "grid_template_rows": null,
      "height": null,
      "justify_content": null,
      "justify_items": null,
      "left": null,
      "margin": null,
      "max_height": null,
      "max_width": null,
      "min_height": null,
      "min_width": null,
      "object_fit": null,
      "object_position": null,
      "order": null,
      "overflow": null,
      "overflow_x": null,
      "overflow_y": null,
      "padding": null,
      "right": null,
      "top": null,
      "visibility": null,
      "width": null
     }
    },
    "c67343393c7c421384517206208ccd73": {
     "model_module": "@jupyter-widgets/controls",
     "model_module_version": "1.5.0",
     "model_name": "HBoxModel",
     "state": {
      "_dom_classes": [],
      "_model_module": "@jupyter-widgets/controls",
      "_model_module_version": "1.5.0",
      "_model_name": "HBoxModel",
      "_view_count": null,
      "_view_module": "@jupyter-widgets/controls",
      "_view_module_version": "1.5.0",
      "_view_name": "HBoxView",
      "box_style": "",
      "children": [
       "IPY_MODEL_2e915a9cb7f14bc89cff1a2dfba50a5e",
       "IPY_MODEL_1888433668a24c168c20f11281017903",
       "IPY_MODEL_93ea0df1ee30421a803fe81505bb9253"
      ],
      "layout": "IPY_MODEL_449e77f4829d47aaa7a60a44da15a3e6"
     }
    },
    "c6d7688352bf406c9190bb45f4785731": {
     "model_module": "@jupyter-widgets/base",
     "model_module_version": "1.2.0",
     "model_name": "LayoutModel",
     "state": {
      "_model_module": "@jupyter-widgets/base",
      "_model_module_version": "1.2.0",
      "_model_name": "LayoutModel",
      "_view_count": null,
      "_view_module": "@jupyter-widgets/base",
      "_view_module_version": "1.2.0",
      "_view_name": "LayoutView",
      "align_content": null,
      "align_items": null,
      "align_self": null,
      "border": null,
      "bottom": null,
      "display": null,
      "flex": null,
      "flex_flow": null,
      "grid_area": null,
      "grid_auto_columns": null,
      "grid_auto_flow": null,
      "grid_auto_rows": null,
      "grid_column": null,
      "grid_gap": null,
      "grid_row": null,
      "grid_template_areas": null,
      "grid_template_columns": null,
      "grid_template_rows": null,
      "height": null,
      "justify_content": null,
      "justify_items": null,
      "left": null,
      "margin": null,
      "max_height": null,
      "max_width": null,
      "min_height": null,
      "min_width": null,
      "object_fit": null,
      "object_position": null,
      "order": null,
      "overflow": null,
      "overflow_x": null,
      "overflow_y": null,
      "padding": null,
      "right": null,
      "top": null,
      "visibility": null,
      "width": null
     }
    },
    "cea4557a4b6b48c39b4624e484209d21": {
     "model_module": "@jupyter-widgets/controls",
     "model_module_version": "1.5.0",
     "model_name": "HTMLModel",
     "state": {
      "_dom_classes": [],
      "_model_module": "@jupyter-widgets/controls",
      "_model_module_version": "1.5.0",
      "_model_name": "HTMLModel",
      "_view_count": null,
      "_view_module": "@jupyter-widgets/controls",
      "_view_module_version": "1.5.0",
      "_view_name": "HTMLView",
      "description": "",
      "description_tooltip": null,
      "layout": "IPY_MODEL_6e7c3f9bd91e4bfea42fb831d0e184b5",
      "placeholder": "​",
      "style": "IPY_MODEL_3d6b1405b9cb4614aa533a080d91cc25",
      "value": " 9913344/? [00:00&lt;00:00, 13993478.11it/s]"
     }
    },
    "cf358f03165a48bf981b508a40c0889b": {
     "model_module": "@jupyter-widgets/controls",
     "model_module_version": "1.5.0",
     "model_name": "HBoxModel",
     "state": {
      "_dom_classes": [],
      "_model_module": "@jupyter-widgets/controls",
      "_model_module_version": "1.5.0",
      "_model_name": "HBoxModel",
      "_view_count": null,
      "_view_module": "@jupyter-widgets/controls",
      "_view_module_version": "1.5.0",
      "_view_name": "HBoxView",
      "box_style": "",
      "children": [
       "IPY_MODEL_22ce404836db4bcd9fd74db44c280dbb",
       "IPY_MODEL_b9bd35aa60d44dfbb2083e30b1298347",
       "IPY_MODEL_a385bad488e249bcb2c5db8a62ef0f8b"
      ],
      "layout": "IPY_MODEL_d95db10dcd2c42b8aa0b9c44080f2e09"
     }
    },
    "d1067e814f364f919e39926766584edc": {
     "model_module": "@jupyter-widgets/controls",
     "model_module_version": "1.5.0",
     "model_name": "FloatProgressModel",
     "state": {
      "_dom_classes": [],
      "_model_module": "@jupyter-widgets/controls",
      "_model_module_version": "1.5.0",
      "_model_name": "FloatProgressModel",
      "_view_count": null,
      "_view_module": "@jupyter-widgets/controls",
      "_view_module_version": "1.5.0",
      "_view_name": "ProgressView",
      "bar_style": "success",
      "description": "",
      "description_tooltip": null,
      "layout": "IPY_MODEL_bff69fd815a943da846cfa82f40e272a",
      "max": 170498071,
      "min": 0,
      "orientation": "horizontal",
      "style": "IPY_MODEL_03f596731a524fbf82de7eaf65db977a",
      "value": 170498071
     }
    },
    "d59a53b8e12a4084b5e0b4e6a89ca388": {
     "model_module": "@jupyter-widgets/controls",
     "model_module_version": "1.5.0",
     "model_name": "DescriptionStyleModel",
     "state": {
      "_model_module": "@jupyter-widgets/controls",
      "_model_module_version": "1.5.0",
      "_model_name": "DescriptionStyleModel",
      "_view_count": null,
      "_view_module": "@jupyter-widgets/base",
      "_view_module_version": "1.2.0",
      "_view_name": "StyleView",
      "description_width": ""
     }
    },
    "d6aabb69cdfc4944ad6c951164adb1bd": {
     "model_module": "@jupyter-widgets/controls",
     "model_module_version": "1.5.0",
     "model_name": "ProgressStyleModel",
     "state": {
      "_model_module": "@jupyter-widgets/controls",
      "_model_module_version": "1.5.0",
      "_model_name": "ProgressStyleModel",
      "_view_count": null,
      "_view_module": "@jupyter-widgets/base",
      "_view_module_version": "1.2.0",
      "_view_name": "StyleView",
      "bar_color": null,
      "description_width": ""
     }
    },
    "d95db10dcd2c42b8aa0b9c44080f2e09": {
     "model_module": "@jupyter-widgets/base",
     "model_module_version": "1.2.0",
     "model_name": "LayoutModel",
     "state": {
      "_model_module": "@jupyter-widgets/base",
      "_model_module_version": "1.2.0",
      "_model_name": "LayoutModel",
      "_view_count": null,
      "_view_module": "@jupyter-widgets/base",
      "_view_module_version": "1.2.0",
      "_view_name": "LayoutView",
      "align_content": null,
      "align_items": null,
      "align_self": null,
      "border": null,
      "bottom": null,
      "display": null,
      "flex": null,
      "flex_flow": null,
      "grid_area": null,
      "grid_auto_columns": null,
      "grid_auto_flow": null,
      "grid_auto_rows": null,
      "grid_column": null,
      "grid_gap": null,
      "grid_row": null,
      "grid_template_areas": null,
      "grid_template_columns": null,
      "grid_template_rows": null,
      "height": null,
      "justify_content": null,
      "justify_items": null,
      "left": null,
      "margin": null,
      "max_height": null,
      "max_width": null,
      "min_height": null,
      "min_width": null,
      "object_fit": null,
      "object_position": null,
      "order": null,
      "overflow": null,
      "overflow_x": null,
      "overflow_y": null,
      "padding": null,
      "right": null,
      "top": null,
      "visibility": null,
      "width": null
     }
    },
    "dd9648dace9a4f2484ef6ebe90f049ec": {
     "model_module": "@jupyter-widgets/controls",
     "model_module_version": "1.5.0",
     "model_name": "HTMLModel",
     "state": {
      "_dom_classes": [],
      "_model_module": "@jupyter-widgets/controls",
      "_model_module_version": "1.5.0",
      "_model_name": "HTMLModel",
      "_view_count": null,
      "_view_module": "@jupyter-widgets/controls",
      "_view_module_version": "1.5.0",
      "_view_name": "HTMLView",
      "description": "",
      "description_tooltip": null,
      "layout": "IPY_MODEL_7bd97e3ece804159a0bbfa68f8ec16d0",
      "placeholder": "​",
      "style": "IPY_MODEL_f0fa1a3c398143d3b7ce80e5242d9551",
      "value": " 1649664/? [00:00&lt;00:00, 2979538.85it/s]"
     }
    },
    "df4d91e01882488e8cbbc7d8383274ea": {
     "model_module": "@jupyter-widgets/controls",
     "model_module_version": "1.5.0",
     "model_name": "ProgressStyleModel",
     "state": {
      "_model_module": "@jupyter-widgets/controls",
      "_model_module_version": "1.5.0",
      "_model_name": "ProgressStyleModel",
      "_view_count": null,
      "_view_module": "@jupyter-widgets/base",
      "_view_module_version": "1.2.0",
      "_view_name": "StyleView",
      "bar_color": null,
      "description_width": ""
     }
    },
    "eb5837dd0b714f7e82b18ffb967f3faa": {
     "model_module": "@jupyter-widgets/base",
     "model_module_version": "1.2.0",
     "model_name": "LayoutModel",
     "state": {
      "_model_module": "@jupyter-widgets/base",
      "_model_module_version": "1.2.0",
      "_model_name": "LayoutModel",
      "_view_count": null,
      "_view_module": "@jupyter-widgets/base",
      "_view_module_version": "1.2.0",
      "_view_name": "LayoutView",
      "align_content": null,
      "align_items": null,
      "align_self": null,
      "border": null,
      "bottom": null,
      "display": null,
      "flex": null,
      "flex_flow": null,
      "grid_area": null,
      "grid_auto_columns": null,
      "grid_auto_flow": null,
      "grid_auto_rows": null,
      "grid_column": null,
      "grid_gap": null,
      "grid_row": null,
      "grid_template_areas": null,
      "grid_template_columns": null,
      "grid_template_rows": null,
      "height": null,
      "justify_content": null,
      "justify_items": null,
      "left": null,
      "margin": null,
      "max_height": null,
      "max_width": null,
      "min_height": null,
      "min_width": null,
      "object_fit": null,
      "object_position": null,
      "order": null,
      "overflow": null,
      "overflow_x": null,
      "overflow_y": null,
      "padding": null,
      "right": null,
      "top": null,
      "visibility": null,
      "width": null
     }
    },
    "f0fa1a3c398143d3b7ce80e5242d9551": {
     "model_module": "@jupyter-widgets/controls",
     "model_module_version": "1.5.0",
     "model_name": "DescriptionStyleModel",
     "state": {
      "_model_module": "@jupyter-widgets/controls",
      "_model_module_version": "1.5.0",
      "_model_name": "DescriptionStyleModel",
      "_view_count": null,
      "_view_module": "@jupyter-widgets/base",
      "_view_module_version": "1.2.0",
      "_view_name": "StyleView",
      "description_width": ""
     }
    },
    "f12ff39779ce4047b3ce1d87eb817f12": {
     "model_module": "@jupyter-widgets/controls",
     "model_module_version": "1.5.0",
     "model_name": "HBoxModel",
     "state": {
      "_dom_classes": [],
      "_model_module": "@jupyter-widgets/controls",
      "_model_module_version": "1.5.0",
      "_model_name": "HBoxModel",
      "_view_count": null,
      "_view_module": "@jupyter-widgets/controls",
      "_view_module_version": "1.5.0",
      "_view_name": "HBoxView",
      "box_style": "",
      "children": [
       "IPY_MODEL_b7bf87bf1eb54a6993c522fb24129124",
       "IPY_MODEL_4a12e738fbdc4bde9a4803574fee3159",
       "IPY_MODEL_dd9648dace9a4f2484ef6ebe90f049ec"
      ],
      "layout": "IPY_MODEL_3b89e1587d7b40658dfaa6376da82ae0"
     }
    },
    "f237021619814a2ca9955163812a0663": {
     "model_module": "@jupyter-widgets/base",
     "model_module_version": "1.2.0",
     "model_name": "LayoutModel",
     "state": {
      "_model_module": "@jupyter-widgets/base",
      "_model_module_version": "1.2.0",
      "_model_name": "LayoutModel",
      "_view_count": null,
      "_view_module": "@jupyter-widgets/base",
      "_view_module_version": "1.2.0",
      "_view_name": "LayoutView",
      "align_content": null,
      "align_items": null,
      "align_self": null,
      "border": null,
      "bottom": null,
      "display": null,
      "flex": null,
      "flex_flow": null,
      "grid_area": null,
      "grid_auto_columns": null,
      "grid_auto_flow": null,
      "grid_auto_rows": null,
      "grid_column": null,
      "grid_gap": null,
      "grid_row": null,
      "grid_template_areas": null,
      "grid_template_columns": null,
      "grid_template_rows": null,
      "height": null,
      "justify_content": null,
      "justify_items": null,
      "left": null,
      "margin": null,
      "max_height": null,
      "max_width": null,
      "min_height": null,
      "min_width": null,
      "object_fit": null,
      "object_position": null,
      "order": null,
      "overflow": null,
      "overflow_x": null,
      "overflow_y": null,
      "padding": null,
      "right": null,
      "top": null,
      "visibility": null,
      "width": null
     }
    },
    "f36ddd2ea19b4206b076f583afbe81cb": {
     "model_module": "@jupyter-widgets/base",
     "model_module_version": "1.2.0",
     "model_name": "LayoutModel",
     "state": {
      "_model_module": "@jupyter-widgets/base",
      "_model_module_version": "1.2.0",
      "_model_name": "LayoutModel",
      "_view_count": null,
      "_view_module": "@jupyter-widgets/base",
      "_view_module_version": "1.2.0",
      "_view_name": "LayoutView",
      "align_content": null,
      "align_items": null,
      "align_self": null,
      "border": null,
      "bottom": null,
      "display": null,
      "flex": null,
      "flex_flow": null,
      "grid_area": null,
      "grid_auto_columns": null,
      "grid_auto_flow": null,
      "grid_auto_rows": null,
      "grid_column": null,
      "grid_gap": null,
      "grid_row": null,
      "grid_template_areas": null,
      "grid_template_columns": null,
      "grid_template_rows": null,
      "height": null,
      "justify_content": null,
      "justify_items": null,
      "left": null,
      "margin": null,
      "max_height": null,
      "max_width": null,
      "min_height": null,
      "min_width": null,
      "object_fit": null,
      "object_position": null,
      "order": null,
      "overflow": null,
      "overflow_x": null,
      "overflow_y": null,
      "padding": null,
      "right": null,
      "top": null,
      "visibility": null,
      "width": null
     }
    },
    "f3afefd1a9c84aa1a784e51c23c4ab77": {
     "model_module": "@jupyter-widgets/controls",
     "model_module_version": "1.5.0",
     "model_name": "FloatProgressModel",
     "state": {
      "_dom_classes": [],
      "_model_module": "@jupyter-widgets/controls",
      "_model_module_version": "1.5.0",
      "_model_name": "FloatProgressModel",
      "_view_count": null,
      "_view_module": "@jupyter-widgets/controls",
      "_view_module_version": "1.5.0",
      "_view_name": "ProgressView",
      "bar_style": "success",
      "description": "",
      "description_tooltip": null,
      "layout": "IPY_MODEL_eb5837dd0b714f7e82b18ffb967f3faa",
      "max": 9912422,
      "min": 0,
      "orientation": "horizontal",
      "style": "IPY_MODEL_8ed921c4800f436db88e3ee4f05afdde",
      "value": 9912422
     }
    },
    "f3c0d9a54afc4f8fbdcec1185b35a297": {
     "model_module": "@jupyter-widgets/controls",
     "model_module_version": "1.5.0",
     "model_name": "HBoxModel",
     "state": {
      "_dom_classes": [],
      "_model_module": "@jupyter-widgets/controls",
      "_model_module_version": "1.5.0",
      "_model_name": "HBoxModel",
      "_view_count": null,
      "_view_module": "@jupyter-widgets/controls",
      "_view_module_version": "1.5.0",
      "_view_name": "HBoxView",
      "box_style": "",
      "children": [
       "IPY_MODEL_092761194c124f79b0255608b724fc9d",
       "IPY_MODEL_3ac54628776b4863b69df4e1ca0e396e",
       "IPY_MODEL_6f6156b30f1d4f2ebb578819f2899299"
      ],
      "layout": "IPY_MODEL_7fe8994184e84d06a78c2799b480d623"
     }
    },
    "f610079ce6204be4a6ab6913f111218e": {
     "model_module": "@jupyter-widgets/controls",
     "model_module_version": "1.5.0",
     "model_name": "DescriptionStyleModel",
     "state": {
      "_model_module": "@jupyter-widgets/controls",
      "_model_module_version": "1.5.0",
      "_model_name": "DescriptionStyleModel",
      "_view_count": null,
      "_view_module": "@jupyter-widgets/base",
      "_view_module_version": "1.2.0",
      "_view_name": "StyleView",
      "description_width": ""
     }
    },
    "f7fde7b8cbcc4c8bb50057987c602fa4": {
     "model_module": "@jupyter-widgets/controls",
     "model_module_version": "1.5.0",
     "model_name": "FloatProgressModel",
     "state": {
      "_dom_classes": [],
      "_model_module": "@jupyter-widgets/controls",
      "_model_module_version": "1.5.0",
      "_model_name": "FloatProgressModel",
      "_view_count": null,
      "_view_module": "@jupyter-widgets/controls",
      "_view_module_version": "1.5.0",
      "_view_name": "ProgressView",
      "bar_style": "success",
      "description": "",
      "description_tooltip": null,
      "layout": "IPY_MODEL_8171c87463b747308a586dcce2d02728",
      "max": 9912422,
      "min": 0,
      "orientation": "horizontal",
      "style": "IPY_MODEL_7bcb583c9dc14bbf9f54cf1b9b325013",
      "value": 9912422
     }
    },
    "fa1f5b635537469e88f8121c94f67df5": {
     "model_module": "@jupyter-widgets/controls",
     "model_module_version": "1.5.0",
     "model_name": "DescriptionStyleModel",
     "state": {
      "_model_module": "@jupyter-widgets/controls",
      "_model_module_version": "1.5.0",
      "_model_name": "DescriptionStyleModel",
      "_view_count": null,
      "_view_module": "@jupyter-widgets/base",
      "_view_module_version": "1.2.0",
      "_view_name": "StyleView",
      "description_width": ""
     }
    },
    "fb5c636cd5ef49c9ab51f266e9ffcf15": {
     "model_module": "@jupyter-widgets/controls",
     "model_module_version": "1.5.0",
     "model_name": "DescriptionStyleModel",
     "state": {
      "_model_module": "@jupyter-widgets/controls",
      "_model_module_version": "1.5.0",
      "_model_name": "DescriptionStyleModel",
      "_view_count": null,
      "_view_module": "@jupyter-widgets/base",
      "_view_module_version": "1.2.0",
      "_view_name": "StyleView",
      "description_width": ""
     }
    },
    "fe6749ea76224467ae69fd207e9aba4c": {
     "model_module": "@jupyter-widgets/base",
     "model_module_version": "1.2.0",
     "model_name": "LayoutModel",
     "state": {
      "_model_module": "@jupyter-widgets/base",
      "_model_module_version": "1.2.0",
      "_model_name": "LayoutModel",
      "_view_count": null,
      "_view_module": "@jupyter-widgets/base",
      "_view_module_version": "1.2.0",
      "_view_name": "LayoutView",
      "align_content": null,
      "align_items": null,
      "align_self": null,
      "border": null,
      "bottom": null,
      "display": null,
      "flex": null,
      "flex_flow": null,
      "grid_area": null,
      "grid_auto_columns": null,
      "grid_auto_flow": null,
      "grid_auto_rows": null,
      "grid_column": null,
      "grid_gap": null,
      "grid_row": null,
      "grid_template_areas": null,
      "grid_template_columns": null,
      "grid_template_rows": null,
      "height": null,
      "justify_content": null,
      "justify_items": null,
      "left": null,
      "margin": null,
      "max_height": null,
      "max_width": null,
      "min_height": null,
      "min_width": null,
      "object_fit": null,
      "object_position": null,
      "order": null,
      "overflow": null,
      "overflow_x": null,
      "overflow_y": null,
      "padding": null,
      "right": null,
      "top": null,
      "visibility": null,
      "width": null
     }
    },
    "ff48543efbb74749bc404ddef72a5492": {
     "model_module": "@jupyter-widgets/base",
     "model_module_version": "1.2.0",
     "model_name": "LayoutModel",
     "state": {
      "_model_module": "@jupyter-widgets/base",
      "_model_module_version": "1.2.0",
      "_model_name": "LayoutModel",
      "_view_count": null,
      "_view_module": "@jupyter-widgets/base",
      "_view_module_version": "1.2.0",
      "_view_name": "LayoutView",
      "align_content": null,
      "align_items": null,
      "align_self": null,
      "border": null,
      "bottom": null,
      "display": null,
      "flex": null,
      "flex_flow": null,
      "grid_area": null,
      "grid_auto_columns": null,
      "grid_auto_flow": null,
      "grid_auto_rows": null,
      "grid_column": null,
      "grid_gap": null,
      "grid_row": null,
      "grid_template_areas": null,
      "grid_template_columns": null,
      "grid_template_rows": null,
      "height": null,
      "justify_content": null,
      "justify_items": null,
      "left": null,
      "margin": null,
      "max_height": null,
      "max_width": null,
      "min_height": null,
      "min_width": null,
      "object_fit": null,
      "object_position": null,
      "order": null,
      "overflow": null,
      "overflow_x": null,
      "overflow_y": null,
      "padding": null,
      "right": null,
      "top": null,
      "visibility": null,
      "width": null
     }
    }
   }
  }
 },
 "nbformat": 4,
 "nbformat_minor": 1
}
