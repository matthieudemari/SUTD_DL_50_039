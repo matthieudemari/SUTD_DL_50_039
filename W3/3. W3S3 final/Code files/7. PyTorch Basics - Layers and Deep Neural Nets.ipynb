{
 "cells": [
  {
   "cell_type": "markdown",
   "metadata": {},
   "source": [
    "# 7. PyTorch Basics - Layers and Deep Neural Nets\n",
    "\n",
    "### About this notebook\n",
    "\n",
    "This notebook was used in the 50.039 Deep Learning course at the Singapore University of Technology and Design.\n",
    "\n",
    "**Author:** Matthieu DE MARI (matthieu_demari@sutd.edu.sg)\n",
    "\n",
    "**Version:** 1.3 (09/02/2025)\n",
    "\n",
    "**Requirements:**\n",
    "- Python 3 (tested on v3.13.1)\n",
    "- Matplotlib (tested on v3.10.0)\n",
    "- Numpy (tested on v2.2.1)\n",
    "- Pandas (tested on v2.2.3\n",
    "- Torch (tested on v2.7.0+cu124)\n",
    "- Torchvision (tested on v0.22.0+cu124)"
   ]
  },
  {
   "cell_type": "markdown",
   "metadata": {},
   "source": [
    "### Imports and CUDA"
   ]
  },
  {
   "cell_type": "code",
   "execution_count": 1,
   "metadata": {},
   "outputs": [],
   "source": [
    "# Matplotlib\n",
    "import matplotlib.pyplot as plt\n",
    "# Numpy\n",
    "import numpy as np\n",
    "# Time\n",
    "from time import time\n",
    "# Torch\n",
    "import torch\n",
    "import torchvision\n",
    "from torch.utils.data import Dataset\n",
    "from torchvision import datasets\n",
    "from torchvision.transforms import ToTensor, Compose, Normalize\n",
    "from torchvision.datasets import MNIST"
   ]
  },
  {
   "cell_type": "code",
   "execution_count": 2,
   "metadata": {},
   "outputs": [
    {
     "name": "stdout",
     "output_type": "stream",
     "text": [
      "cuda\n"
     ]
    }
   ],
   "source": [
    "# Use GPU if available, else use CPU\n",
    "device = torch.device(\"cuda\" if torch.cuda.is_available() else \"cpu\")\n",
    "print(device)"
   ]
  },
  {
   "cell_type": "markdown",
   "metadata": {},
   "source": [
    "### The most typical multi-label classification task: the MNIST dataset\n",
    "\n",
    "MNIST is a widely-used dataset for the benchmarking of machine learning and computer vision algorithms. It consists of a training set of 60,000 examples and a test set of 10,000 examples. All samples consist of 28x28 pixel grayscale images of handwritten digits (0 to 9).\n",
    "\n",
    "MNIST is often used as a \"Hello, World!\" example for machine learning and deep learning, due to its simplicity and the availability of efficient implementations of various learning algorithms. It is a good dataset to use for testing and comparing the performance of different models, as well as for getting familiar with the basics of machine learning and deep learning.\n",
    "\n",
    "The images serve as inputs, and the task is therefore to predict which of the ten digits appears in the image. This is therefore a classification task, like before, except that it consists of 10 differents classes (0-9) instead of just two like in binary classification.\n",
    "\n",
    "In addition, note that in general, it is good to do the following:\n",
    "- Scale the data (pixel values) to the [0,1] range.\n",
    "- Normalize the data to have zero mean and unit standard deviation.\n",
    "\n",
    "We will then subtract a mean of 0.1307 and divide by a standard deviation of 0.3081. \n",
    "These values are basically the mean and the standard deviation of the dataset divided by 255 (original max pixel value)."
   ]
  },
  {
   "cell_type": "code",
   "execution_count": 3,
   "metadata": {},
   "outputs": [
    {
     "name": "stderr",
     "output_type": "stream",
     "text": [
      "100%|█████████████████████████████████████████████████████████████████████████████| 9.91M/9.91M [00:02<00:00, 4.56MB/s]\n",
      "100%|██████████████████████████████████████████████████████████████████████████████| 28.9k/28.9k [00:00<00:00, 118kB/s]\n",
      "100%|██████████████████████████████████████████████████████████████████████████████| 1.65M/1.65M [00:03<00:00, 456kB/s]\n",
      "100%|█████████████████████████████████████████████████████████████████████████████| 4.54k/4.54k [00:00<00:00, 11.8MB/s]\n"
     ]
    }
   ],
   "source": [
    "# Define transform to convert images to tensors and normalize them\n",
    "transform_data = Compose([ToTensor(),\n",
    "                          Normalize((0.1307,), (0.3081,))])\n",
    "\n",
    "# Load the data\n",
    "batch_size = 256\n",
    "train_dataset = MNIST(root = './mnist/', train = True, download = True, transform = transform_data)\n",
    "test_dataset = MNIST(root = './mnist/', train = False, download = True, transform = transform_data)\n",
    "train_loader = torch.utils.data.DataLoader(train_dataset, batch_size = batch_size, shuffle = True)\n",
    "test_loader = torch.utils.data.DataLoader(test_dataset, batch_size = batch_size, shuffle = False)"
   ]
  },
  {
   "cell_type": "code",
   "execution_count": 4,
   "metadata": {},
   "outputs": [
    {
     "name": "stdout",
     "output_type": "stream",
     "text": [
      "---\n",
      "Batch number:  0\n",
      "torch.Size([256, 1, 28, 28])\n",
      "torch.Size([256])\n"
     ]
    }
   ],
   "source": [
    "# Try the dataloader\n",
    "for batch_number, batch in enumerate(train_loader):\n",
    "    inputs, outputs = batch\n",
    "    print(\"---\")\n",
    "    print(\"Batch number: \", batch_number)\n",
    "    print(inputs.shape)\n",
    "    print(outputs.shape)\n",
    "    break"
   ]
  },
  {
   "cell_type": "markdown",
   "metadata": {},
   "source": [
    "### Multi-classification and softmax predictions\n",
    "\n",
    "In binary classification, we would produce a single value $ p $ as output, with value between 0 and 1. This value would correspond to the probability of being of class 1, and the probability of being of class 0 would then simply be $ 1 - p $. We would then use a threshold 0.5 to decide if the sample is of class 0 or 1 and call that the prediction of the model.\n",
    "\n",
    "Unfortunately, when we have more than 2 classes, we can no longer rely on a single output value $ p $. Instead it is often preferable to have the model output 10 values: $ (p_0, p_1, p_2, ... p_9) $, where each $ p_i $ corresponds to the probability of being of class $ i $. \n",
    "\n",
    "This could typically be done by asking for the final layer to produce n_y = 10 values instead of just 1.\n",
    "\n",
    "Unfortunately, this is not good enough: the $ p_i $ are probabilities and their sum should be equal to 1, i.e.\n",
    "\n",
    "$$ \\sum_{i=0}^9 p_i = 1. $$\n",
    "\n",
    "A fully connected layer is not smart enough to do that on its own: it might produce negative values and these values may not sum up to 1.\n",
    "\n",
    "To normalize the outputs produced by the final fully connected layer, we will use the softmax operation, which is a special activation function, whose objective is to transform a vector of $ N $ values $ Y = (y_0, y_1, y_2, ... y_9) $, into another vector of $ N $ values $ P = (p_0, p_1, p_2, ... p_9) $, this time summing up to 1.\n",
    "\n",
    "The softmax operation $ p_i = s(y_i, Y) $ is defined as:\n",
    "\n",
    "$$ \\forall i, p_i = s(y_i, Y) = \\frac{exp(y_i)}{\\sum_{k=0}^9 exp(y_k)}. $$\n",
    "\n",
    "We show an implementation of the softmax operation below."
   ]
  },
  {
   "cell_type": "code",
   "execution_count": 5,
   "metadata": {},
   "outputs": [],
   "source": [
    "def softmax(x):\n",
    "    # Subtract the maximum value from each element of the input vector x\n",
    "    # to avoid numerical instability (this is optional, but equivalent)\n",
    "    x = x - np.max(x)\n",
    "    # Compute the exponent of each element\n",
    "    exp_x = np.exp(x)\n",
    "    # Normalize the exponentiated values by their sum\n",
    "    return exp_x/np.sum(exp_x)"
   ]
  },
  {
   "cell_type": "code",
   "execution_count": 6,
   "metadata": {},
   "outputs": [
    {
     "name": "stdout",
     "output_type": "stream",
     "text": [
      "1.45\n",
      "[0.08089815 0.10387528 0.14021696 0.10920108 0.12068586 0.08940628\n",
      " 0.10387528 0.0769527  0.08089815 0.09399024]\n",
      "0.9999999999999999\n"
     ]
    }
   ],
   "source": [
    "# Ten values that do not sum up to 1\n",
    "Y = np.array([-1, 4, 10, 5, 7, 1, 4, -2, -1, 2])/20\n",
    "print(sum(Y))\n",
    "P = softmax(Y)\n",
    "print(P)\n",
    "print(np.sum(P))"
   ]
  },
  {
   "cell_type": "code",
   "execution_count": 7,
   "metadata": {},
   "outputs": [
    {
     "data": {
      "image/png": "[encoded data removed]",
      "text/plain": [
       "<Figure size 1000x700 with 1 Axes>"
      ]
     },
     "metadata": {},
     "output_type": "display_data"
    }
   ],
   "source": [
    "plt.figure(figsize = (10, 7))\n",
    "plt.plot(list(range(10)), Y, \"r--\", label = \"Before softmax\")\n",
    "plt.plot(list(range(10)), P, \"b--\", label = \"After softmax\")\n",
    "plt.legend(loc = \"best\")\n",
    "plt.show()"
   ]
  },
  {
   "cell_type": "markdown",
   "metadata": {},
   "source": [
    "In the case of multi-label classification, we will use the softmax operation as the final operation after the last fully connected layer. This will produce a vector of 10 values, $ P = (p_0, p_1, p_2, ... p_9) $, corresponding to the probability of being of each class $ i $.\n",
    "\n",
    "The predicted class $ pred $ will then be the index of the highest $ p_i $ value, i.e.\n",
    "\n",
    "$$ pred = \\arg\\max_i [p_i]. $$"
   ]
  },
  {
   "cell_type": "markdown",
   "metadata": {},
   "source": [
    "### Implementing a Shallow Neural Network with torch.nn.Linear\n",
    "\n",
    "Below is a simple implementation of a shallow neural network.\n",
    "\n",
    "To make its implementation simpler, we will replace the typical $ Wx + b $ operation, by its equivalent in PyTorch, which is the torch.nn.Linear() one (https://pytorch.org/docs/stable/generated/torch.nn.Linear.html).\n",
    "\n",
    "This will simplify the code in our init method, as we no longer have to specify them explicitly by doing this:\n",
    "\n",
    "```\n",
    "self.W1 = torch.nn.Parameter(torch.randn(n_x, n_h, requires_grad = True, \\\n",
    "                             dtype = torch.float64, device = device)*0.1)\n",
    "self.b1 = torch.nn.Parameter(torch.randn(1, n_h, requires_grad = True, \\\n",
    "                             dtype = torch.float64, device = device)*0.1)\n",
    "self.W2 = torch.nn.Parameter(torch.randn(n_h, n_y, requires_grad = True, \\\n",
    "                             dtype = torch.float64, device = device)*0.1)\n",
    "self.b2 = torch.nn.Parameter(torch.randn(1, n_y, requires_grad = True, \\\n",
    "                             dtype = torch.float64, device = device)*0.1)\n",
    "self.W1.retain_grad()\n",
    "self.b1.retain_grad()\n",
    "self.W2.retain_grad()\n",
    "self.b2.retain_grad()\n",
    "```\n",
    "\n",
    "We simply rewrite this as two nn.Linear() layers, stored in two attributes.\n",
    "\n",
    "```\n",
    "self.fc1 = torch.nn.Linear(n_x, n_h)\n",
    "self.fc2 = torch.nn.Linear(n_h, n_y)\n",
    "```\n",
    "\n",
    "We can then simply replace the operations in the forward method to make it simpler:\n",
    "\n",
    "```\n",
    "Z1 = torch.matmul(inputs, self.W1)\n",
    "Z1_b = Z1 + self.b1\n",
    "```\n",
    "\n",
    "It simply becomes:\n",
    "\n",
    "```\n",
    "x = self.fc1(x)\n",
    "```\n",
    "\n",
    "The adaptation of our Shallow Neural Network class for multi-label classification is then shown below."
   ]
  },
  {
   "cell_type": "code",
   "execution_count": 8,
   "metadata": {},
   "outputs": [],
   "source": [
    "class ShallowNeuralNet(torch.nn.Module):\n",
    "    def __init__(self, n_x, n_h, n_y):\n",
    "        super().__init__()\n",
    "        # Define two layers using the nn.Linear()\n",
    "        self.fc1 = torch.nn.Linear(n_x, n_h)\n",
    "        self.fc2 = torch.nn.Linear(n_h, n_y)\n",
    "    \n",
    "    def forward(self, x):\n",
    "        # Flatten images (transform them from 28x28 2D\n",
    "        # matrices to 784 1D vectors)\n",
    "        x = x.view(x.size(0), -1)\n",
    "        # First Wx + b operation\n",
    "        out1 = self.fc1(x)\n",
    "        # Using ReLU operation as activation after first layer\n",
    "        act1 = torch.relu(out1)\n",
    "        # Second Wx + b operation anbd return\n",
    "        out2 = self.fc2(act1)\n",
    "        return out2"
   ]
  },
  {
   "cell_type": "markdown",
   "metadata": {},
   "source": [
    "### Forward pass on our shallow neural network\n",
    "\n",
    "Let us start by initializing a neural network model, with 784 input nodes, 128 hidden nodes, and 10 output nodes. It is then transferring the model to a device, which could be a CPU or a GPU.\n",
    "\n",
    "Next, the code is getting a single sample from the train_loader iterator and assigning it to the variables data and target. This can be simply done with the next and iter functions. It is then printing the shape of data and target, and then selecting the first element of each and transferring them to the device (cpu or gpu).\n",
    "\n",
    "Finally, the code is performing a forward pass through the model by calling it on data1 and storing the output in the variables out2, which is then printed. \n",
    "\n",
    "Finally, we will apply the softmax operation as the final operation at the end of the forward method. Pytorch offers functional implementation of the softmax, as:\n",
    "\n",
    "```\n",
    "act2 =  torch.nn.functional.softmax(out2, dim = 1)\n",
    "```\n",
    "\n",
    "We can verify that it consists of values summing up to 1."
   ]
  },
  {
   "cell_type": "code",
   "execution_count": 9,
   "metadata": {},
   "outputs": [
    {
     "name": "stdout",
     "output_type": "stream",
     "text": [
      "torch.Size([256, 1, 28, 28])\n",
      "torch.Size([256])\n",
      "torch.Size([1, 28, 28])\n",
      "tensor(2, device='cuda:0')\n",
      "tensor([[ 0.2566,  0.3706,  0.0477,  0.4794, -0.7680,  0.0566,  0.0520,  0.0036,\n",
      "         -0.1243, -0.0929]], device='cuda:0', grad_fn=<AddmmBackward0>)\n",
      "tensor([[0.1199, 0.1344, 0.0973, 0.1498, 0.0430, 0.0982, 0.0977, 0.0931, 0.0819,\n",
      "         0.0845]], device='cuda:0', grad_fn=<SoftmaxBackward0>)\n",
      "tensor(1., device='cuda:0', grad_fn=<SumBackward0>)\n"
     ]
    }
   ],
   "source": [
    "# Initialize model\n",
    "model = ShallowNeuralNet(n_x = 784, \\\n",
    "                         n_h = 128, \\\n",
    "                         n_y = 10).to(device)\n",
    "\n",
    "# Get a single sample\n",
    "sample = next(iter(train_loader))\n",
    "data, target = sample\n",
    "print(data.shape)\n",
    "print(target.shape)\n",
    "data1 = data[0].to(device)\n",
    "target1 = target[0].to(device)\n",
    "print(data1.shape)\n",
    "print(target1)\n",
    "\n",
    "# Forward pass\n",
    "out2 = model(data1)\n",
    "act2 = torch.nn.functional.softmax(out2, dim = 1)\n",
    "print(out2)\n",
    "print(act2)\n",
    "print(act2.sum())"
   ]
  },
  {
   "cell_type": "markdown",
   "metadata": {},
   "source": [
    "### Training our shallow neural network\n",
    "\n",
    "As before,  the number of neurons in the input layer is specified by n_x, the number of neurons in the hidden layer is specified by n_h, and the number of neurons in the output layer is specified by n_y.\n",
    "\n",
    "The model is constructed with these three arguments, and then it is moved to the specified device (either GPU or CPU) using the to() method.\n",
    "\n",
    "Note that we have removed the softmax operation from the forward method. This is normal as the softmax operation will be used in the loss function, cross_entropy, which will be used in the trainer() function later.\n",
    "\n",
    "Speaking of, in the case of the binary classification, we used the following loss function, namely the **log-likelihood function**.\n",
    "\n",
    "$$ \\begin{array}{ll} L(x, y) & = \\displaystyle \\frac{-1}{N} \\sum_{k = 1}^N \\: y_k \\: ln\\big(p(x_k)\\big) \\: + \\: (1- y_k) \\: ln\\big(1 - p(x_k) \\big) \\end{array} $$\n",
    " \n",
    "But in the case of MNIST, we have more than two classes, so how does the loss function change now that we have 10 classes? The adjustment is actually quite simple, and the cross entropy loss function simply rewrites as shown below:\n",
    "\n",
    "$$ \\begin{array}{ll} L(x, y) & = \\displaystyle \\frac{-1}{N} \\sum_{k = 1}^N \\sum_{i = 0}^{9} \\: y_k^i \\: ln\\big( p_i(x_k) \\big) \\end{array} $$\n",
    "\n",
    "In the formula above, $ p_i(x_k) $ denotes the probability of sample $ x_k $ of being of class $ i $. In other words, it is the $i$-th value of the output vector produced by the model for sample $ x_k $ after softmax has been applied. The value $ y_k^i $ is the ground truth value for sample $ x_k $. For instance, if the sample $ x_k $ is of class 2, we have:\n",
    "\n",
    "$$ Y_k = (y_k^0, y_k^1, y_k^2, y_k^3, ... y_k^9) = (0, 0, 1, 0, ..., 0). $$"
   ]
  },
  {
   "cell_type": "code",
   "execution_count": 10,
   "metadata": {},
   "outputs": [],
   "source": [
    "class ShallowNeuralNet(torch.nn.Module):\n",
    "    def __init__(self, n_x, n_h, n_y):\n",
    "        super().__init__()\n",
    "        # Define two layers using the nn.Linear()\n",
    "        self.fc1 = torch.nn.Linear(n_x, n_h)\n",
    "        self.fc2 = torch.nn.Linear(n_h, n_y)\n",
    "    \n",
    "    def forward(self, x):\n",
    "        # Flatten images (transform them from 28x28 2D matrices to 784 1D vectors)\n",
    "        x = x.view(x.size(0), -1)\n",
    "        # First Wx + b operation\n",
    "        out1 = self.fc1(x)\n",
    "        # Using ReLU operation as activation after first layer\n",
    "        act1 = torch.relu(out1)\n",
    "        # Second Wx + b operation\n",
    "        out2 = self.fc2(act1)\n",
    "        # Careful: Softmax is not needed!\n",
    "        # (It will be used in cross entropy loss automatically)\n",
    "        # Therefore, return directly\n",
    "        return out2"
   ]
  },
  {
   "cell_type": "markdown",
   "metadata": {},
   "source": [
    "The optimizer is an instance of the Adam optimizer from PyTorch's torch.optim package, which is being used to optimize the model's parameters. The learning rate for the optimizer is specified by the lr argument, which is set to 1e-3 (0.001)."
   ]
  },
  {
   "cell_type": "markdown",
   "metadata": {},
   "source": [
    "We can then train the neural network for 10 iterations (or epochs), as shown below.\n",
    "\n",
    "In addition, let us introduce a new good practice. In PyTorch, model.eval() sets the model to evaluation mode, which turns off certain features of certain special layers, such as dropout and batch normalization (which will be discussed next week). This is useful when you want to evaluate the model's performance on a dataset or make predictions using the model.\n",
    "\n",
    "To set the model back to training mode, you can use model.train(). This will enable features such as dropout and batch normalization, which are typically used during training to improve the model's generalization ability."
   ]
  },
  {
   "cell_type": "code",
   "execution_count": 11,
   "metadata": {},
   "outputs": [
    {
     "data": {
      "text/plain": [
       "ShallowNeuralNet(\n",
       "  (fc1): Linear(in_features=784, out_features=64, bias=True)\n",
       "  (fc2): Linear(in_features=64, out_features=10, bias=True)\n",
       ")"
      ]
     },
     "execution_count": 11,
     "metadata": {},
     "output_type": "execute_result"
    }
   ],
   "source": [
    "# Initialize the model and optimizer\n",
    "model = ShallowNeuralNet(n_x = 784, n_h = 64, n_y = 10).to(device)\n",
    "optimizer = torch.optim.Adam(model.parameters(), lr = 1e-3)\n",
    "# Set model in train mode!\n",
    "model.train()"
   ]
  },
  {
   "cell_type": "code",
   "execution_count": 12,
   "metadata": {},
   "outputs": [
    {
     "name": "stdout",
     "output_type": "stream",
     "text": [
      "Epoch [1/5], Step [50/235], Loss: 0.4433\n",
      "Epoch [1/5], Step [100/235], Loss: 0.3628\n",
      "Epoch [1/5], Step [150/235], Loss: 0.3620\n",
      "Epoch [1/5], Step [200/235], Loss: 0.4224\n",
      "Epoch [1/5], Step [235/235], Loss: 0.2872\n",
      "Epoch [2/5], Step [50/235], Loss: 0.1535\n",
      "Epoch [2/5], Step [100/235], Loss: 0.2378\n",
      "Epoch [2/5], Step [150/235], Loss: 0.3072\n",
      "Epoch [2/5], Step [200/235], Loss: 0.2144\n",
      "Epoch [2/5], Step [235/235], Loss: 0.0885\n",
      "Epoch [3/5], Step [50/235], Loss: 0.1245\n",
      "Epoch [3/5], Step [100/235], Loss: 0.1748\n",
      "Epoch [3/5], Step [150/235], Loss: 0.1261\n",
      "Epoch [3/5], Step [200/235], Loss: 0.1601\n",
      "Epoch [3/5], Step [235/235], Loss: 0.1221\n",
      "Epoch [4/5], Step [50/235], Loss: 0.1483\n",
      "Epoch [4/5], Step [100/235], Loss: 0.1158\n",
      "Epoch [4/5], Step [150/235], Loss: 0.1991\n",
      "Epoch [4/5], Step [200/235], Loss: 0.0973\n",
      "Epoch [4/5], Step [235/235], Loss: 0.0532\n",
      "Epoch [5/5], Step [50/235], Loss: 0.0840\n",
      "Epoch [5/5], Step [100/235], Loss: 0.1421\n",
      "Epoch [5/5], Step [150/235], Loss: 0.1260\n",
      "Epoch [5/5], Step [200/235], Loss: 0.0879\n",
      "Epoch [5/5], Step [235/235], Loss: 0.0392\n"
     ]
    }
   ],
   "source": [
    "# Training model\n",
    "num_epochs = 5\n",
    "for epoch in range(num_epochs):\n",
    "    # Go trough all samples in train dataset\n",
    "    for i, (images, labels) in enumerate(train_loader):\n",
    "        # Get from dataloader and send to device\n",
    "        images = images.to(device)\n",
    "        labels = labels.to(device)\n",
    "        # Forward pass\n",
    "        outputs = model(images)\n",
    "        # Compute loss\n",
    "        loss = torch.nn.functional.cross_entropy(outputs, labels)\n",
    "        # Backward and optimize\n",
    "        optimizer.zero_grad()\n",
    "        loss.backward()\n",
    "        optimizer.step()\n",
    "        # Display\n",
    "        if (i+1) % 50 == 0 or i == 234:\n",
    "            print (f'Epoch [{epoch+1}/{num_epochs}], Step [{i+1}/{len(train_loader)}], Loss: {loss.item():.4f}')"
   ]
  },
  {
   "cell_type": "code",
   "execution_count": 13,
   "metadata": {},
   "outputs": [
    {
     "name": "stdout",
     "output_type": "stream",
     "text": [
      "Evaluation after training, Accuracy: 0.9653\n"
     ]
    }
   ],
   "source": [
    "# Evaluate model accuracy on test after training\n",
    "# Set model in eval mode!\n",
    "model.eval()\n",
    "# Evaluate\n",
    "with torch.no_grad():\n",
    "    correct = 0\n",
    "    total = 0\n",
    "    for images, labels in test_loader:\n",
    "        # Get images and labels from test loader\n",
    "        images = images.to(device)\n",
    "        labels = labels.to(device)\n",
    "        # Forward pass and predict class using max\n",
    "        outputs = model(images)\n",
    "        _, predicted = torch.max(outputs.data, 1)\n",
    "        # Check if predicted class matches label\n",
    "        # and count numbler of correct predictions\n",
    "        total += labels.size(0)\n",
    "        correct += (predicted == labels).sum().item()\n",
    "# Compute final accuracy and display\n",
    "accuracy = correct/total\n",
    "print(f'Evaluation after training, Accuracy: {accuracy:.4f}')"
   ]
  },
  {
   "cell_type": "markdown",
   "metadata": {},
   "source": [
    "### From Shallow to Deep Neural Networks and the need for custom layers\n",
    "\n",
    "It is now time for us to define and train our first Deep Neural Network.\n",
    "\n",
    "By definition, our deep neural network here consists of four layers: three dense layers with ReLU activation, followed by one dense layer with softmax activation.\n",
    "\n",
    "The sizes for each layer will decrease progressively to eventually produce n_y = 10 features at the output of the overall network. In general, it is good practice to have the size decrease by a factor 2 from one layer to another. For instance, we decide here, to have\n",
    "- the first layer receive an input of size 784 and produce an output of size 80,\n",
    "- the second layer receive an input of size 80 and produce an output of size 80,\n",
    "- the third layer receive an input of size 40 and produce an output of size 40,\n",
    "- and the fourth layer receive an input of size 20 and produce an output of size 10.\n",
    "\n",
    "The DenseReLU class below is a custom PyTorch module that consists of a linear layer (nn.Linear(n_x, n_y)) followed by a ReLU activation function (torch.relu()). The DenseNoRELU class is similar, but it applies no activation function after the linear layer. \n",
    "\n",
    "The DeepNeuralNet class represents the overall deep neural network. It initializes the four layers defined in DenseReLU and DenseSoftmax, and combines them into a single PyTorch sequential model using torch.nn.Sequential(). The forward pass of the network is then defined in the forward method: the input is first flattened from a 2D image to a 1D vector, and then passed through the combined layers using the (combined_layers)(x) notation.\n",
    "\n",
    "This modular approach, which defines blocks or layers and eventually assembles them in a larger network is very common in deep neural networks, especially when the architectures are very heavy and include many layers.\n",
    "\n",
    "**Important note:** You have probably realized that the softmax operation has disappeared, for the same reason as before."
   ]
  },
  {
   "cell_type": "code",
   "execution_count": 14,
   "metadata": {},
   "outputs": [],
   "source": [
    "class DenseReLU(torch.nn.Module):\n",
    "    def __init__(self, n_x, n_y):\n",
    "        super().__init__()\n",
    "        # Define Linear layer using the nn.Linear()\n",
    "        self.fc = torch.nn.Linear(n_x, n_y)\n",
    "    \n",
    "    def forward(self, x):\n",
    "        # Wx + b operation\n",
    "        # Using ReLU operation as activation after\n",
    "        return torch.relu(self.fc(x))"
   ]
  },
  {
   "cell_type": "code",
   "execution_count": 15,
   "metadata": {},
   "outputs": [],
   "source": [
    "class DenseNoReLU(torch.nn.Module):\n",
    "    def __init__(self, n_x, n_y):\n",
    "        super().__init__()\n",
    "        # Define Linear layer using the nn.Linear()\n",
    "        self.fc = torch.nn.Linear(n_x, n_y)\n",
    "    \n",
    "    def forward(self, x):\n",
    "        # Wx + b operation\n",
    "        # No activation function\n",
    "        return self.fc(x)"
   ]
  },
  {
   "cell_type": "code",
   "execution_count": 16,
   "metadata": {},
   "outputs": [],
   "source": [
    "class DeepNeuralNet(torch.nn.Module):\n",
    "    def __init__(self, n_x, n_h, n_y):\n",
    "        super().__init__()\n",
    "        # Define three Dense + ReLU layers,\n",
    "        # followed by one Dense + Softmax layer\n",
    "        self.layer1 = DenseReLU(n_x, n_h[0])\n",
    "        self.layer2 = DenseReLU(n_h[0], n_h[1])\n",
    "        self.layer3 = DenseReLU(n_h[1], n_h[2])\n",
    "        self.layer4 = DenseNoReLU(n_h[2], n_y)\n",
    "        \n",
    "        # Combine all four layers\n",
    "        self.combined_layers = torch.nn.Sequential(self.layer1,\n",
    "                                                   self.layer2,\n",
    "                                                   self.layer3,\n",
    "                                                   self.layer4)\n",
    "\n",
    "    \n",
    "    def forward(self, x):\n",
    "        # Flatten images (transform them from 28x28\n",
    "        # 2D matrices to 784 1D vectors)\n",
    "        x = x.view(x.size(0), -1)\n",
    "        # Pass through all four layers\n",
    "        out = self.combined_layers(x)\n",
    "        return out"
   ]
  },
  {
   "cell_type": "markdown",
   "metadata": {},
   "source": [
    "Eventually, we can, just like before train our deep neural network. The only part that changes is the n_h parameter in the initialization of the model, everything else remains the same.\n",
    "\n",
    "```\n",
    "model = DeepNeuralNet(n_x = 784, n_h = [80, 40, 20], n_y = 10).to(device)\n",
    "```"
   ]
  },
  {
   "cell_type": "code",
   "execution_count": 17,
   "metadata": {},
   "outputs": [
    {
     "data": {
      "text/plain": [
       "DeepNeuralNet(\n",
       "  (layer1): DenseReLU(\n",
       "    (fc): Linear(in_features=784, out_features=80, bias=True)\n",
       "  )\n",
       "  (layer2): DenseReLU(\n",
       "    (fc): Linear(in_features=80, out_features=40, bias=True)\n",
       "  )\n",
       "  (layer3): DenseReLU(\n",
       "    (fc): Linear(in_features=40, out_features=20, bias=True)\n",
       "  )\n",
       "  (layer4): DenseNoReLU(\n",
       "    (fc): Linear(in_features=20, out_features=10, bias=True)\n",
       "  )\n",
       "  (combined_layers): Sequential(\n",
       "    (0): DenseReLU(\n",
       "      (fc): Linear(in_features=784, out_features=80, bias=True)\n",
       "    )\n",
       "    (1): DenseReLU(\n",
       "      (fc): Linear(in_features=80, out_features=40, bias=True)\n",
       "    )\n",
       "    (2): DenseReLU(\n",
       "      (fc): Linear(in_features=40, out_features=20, bias=True)\n",
       "    )\n",
       "    (3): DenseNoReLU(\n",
       "      (fc): Linear(in_features=20, out_features=10, bias=True)\n",
       "    )\n",
       "  )\n",
       ")"
      ]
     },
     "execution_count": 17,
     "metadata": {},
     "output_type": "execute_result"
    }
   ],
   "source": [
    "# Initialize the model and optimizer\n",
    "model = DeepNeuralNet(n_x = 784, n_h = [80, 40, 20], n_y = 10).to(device)\n",
    "optimizer = torch.optim.Adam(model.parameters(), lr = 1e-4)\n",
    "# Set model in train mode!\n",
    "model.train()"
   ]
  },
  {
   "cell_type": "code",
   "execution_count": 18,
   "metadata": {},
   "outputs": [
    {
     "name": "stdout",
     "output_type": "stream",
     "text": [
      "DeepNeuralNet(\n",
      "  (layer1): DenseReLU(\n",
      "    (fc): Linear(in_features=784, out_features=80, bias=True)\n",
      "  )\n",
      "  (layer2): DenseReLU(\n",
      "    (fc): Linear(in_features=80, out_features=40, bias=True)\n",
      "  )\n",
      "  (layer3): DenseReLU(\n",
      "    (fc): Linear(in_features=40, out_features=20, bias=True)\n",
      "  )\n",
      "  (layer4): DenseNoReLU(\n",
      "    (fc): Linear(in_features=20, out_features=10, bias=True)\n",
      "  )\n",
      "  (combined_layers): Sequential(\n",
      "    (0): DenseReLU(\n",
      "      (fc): Linear(in_features=784, out_features=80, bias=True)\n",
      "    )\n",
      "    (1): DenseReLU(\n",
      "      (fc): Linear(in_features=80, out_features=40, bias=True)\n",
      "    )\n",
      "    (2): DenseReLU(\n",
      "      (fc): Linear(in_features=40, out_features=20, bias=True)\n",
      "    )\n",
      "    (3): DenseNoReLU(\n",
      "      (fc): Linear(in_features=20, out_features=10, bias=True)\n",
      "    )\n",
      "  )\n",
      ")\n"
     ]
    }
   ],
   "source": [
    "print(model)"
   ]
  },
  {
   "cell_type": "code",
   "execution_count": 19,
   "metadata": {},
   "outputs": [
    {
     "name": "stdout",
     "output_type": "stream",
     "text": [
      "Epoch [1/10], Step [25/235], Loss: 2.2535\n",
      "Epoch [1/10], Step [50/235], Loss: 2.1548\n",
      "Epoch [1/10], Step [75/235], Loss: 2.0212\n",
      "Epoch [1/10], Step [100/235], Loss: 1.8771\n",
      "Epoch [1/10], Step [125/235], Loss: 1.6757\n",
      "Epoch [1/10], Step [150/235], Loss: 1.5283\n",
      "Epoch [1/10], Step [175/235], Loss: 1.2645\n",
      "Epoch [1/10], Step [200/235], Loss: 1.1419\n",
      "Epoch [1/10], Step [225/235], Loss: 0.9481\n",
      "Epoch [2/10], Step [25/235], Loss: 0.7601\n",
      "Epoch [2/10], Step [50/235], Loss: 0.6801\n",
      "Epoch [2/10], Step [75/235], Loss: 0.6530\n",
      "Epoch [2/10], Step [100/235], Loss: 0.5392\n",
      "Epoch [2/10], Step [125/235], Loss: 0.5538\n",
      "Epoch [2/10], Step [150/235], Loss: 0.5272\n",
      "Epoch [2/10], Step [175/235], Loss: 0.5655\n",
      "Epoch [2/10], Step [200/235], Loss: 0.4626\n",
      "Epoch [2/10], Step [225/235], Loss: 0.4788\n",
      "Epoch [3/10], Step [25/235], Loss: 0.3915\n",
      "Epoch [3/10], Step [50/235], Loss: 0.4326\n",
      "Epoch [3/10], Step [75/235], Loss: 0.3405\n",
      "Epoch [3/10], Step [100/235], Loss: 0.4491\n",
      "Epoch [3/10], Step [125/235], Loss: 0.4246\n",
      "Epoch [3/10], Step [150/235], Loss: 0.4788\n",
      "Epoch [3/10], Step [175/235], Loss: 0.4339\n",
      "Epoch [3/10], Step [200/235], Loss: 0.3479\n",
      "Epoch [3/10], Step [225/235], Loss: 0.3037\n",
      "Epoch [4/10], Step [25/235], Loss: 0.3945\n",
      "Epoch [4/10], Step [50/235], Loss: 0.3132\n",
      "Epoch [4/10], Step [75/235], Loss: 0.3945\n",
      "Epoch [4/10], Step [100/235], Loss: 0.3568\n",
      "Epoch [4/10], Step [125/235], Loss: 0.3336\n",
      "Epoch [4/10], Step [150/235], Loss: 0.3474\n",
      "Epoch [4/10], Step [175/235], Loss: 0.4292\n",
      "Epoch [4/10], Step [200/235], Loss: 0.3323\n",
      "Epoch [4/10], Step [225/235], Loss: 0.3167\n",
      "Epoch [5/10], Step [25/235], Loss: 0.4503\n",
      "Epoch [5/10], Step [50/235], Loss: 0.2998\n",
      "Epoch [5/10], Step [75/235], Loss: 0.3270\n",
      "Epoch [5/10], Step [100/235], Loss: 0.3025\n",
      "Epoch [5/10], Step [125/235], Loss: 0.4101\n",
      "Epoch [5/10], Step [150/235], Loss: 0.3185\n",
      "Epoch [5/10], Step [175/235], Loss: 0.2968\n",
      "Epoch [5/10], Step [200/235], Loss: 0.2410\n",
      "Epoch [5/10], Step [225/235], Loss: 0.2373\n",
      "Epoch [6/10], Step [25/235], Loss: 0.2500\n",
      "Epoch [6/10], Step [50/235], Loss: 0.3217\n",
      "Epoch [6/10], Step [75/235], Loss: 0.3212\n",
      "Epoch [6/10], Step [100/235], Loss: 0.2547\n",
      "Epoch [6/10], Step [125/235], Loss: 0.3237\n",
      "Epoch [6/10], Step [150/235], Loss: 0.2658\n",
      "Epoch [6/10], Step [175/235], Loss: 0.2901\n",
      "Epoch [6/10], Step [200/235], Loss: 0.2755\n",
      "Epoch [6/10], Step [225/235], Loss: 0.2156\n",
      "Epoch [7/10], Step [25/235], Loss: 0.2580\n",
      "Epoch [7/10], Step [50/235], Loss: 0.2151\n",
      "Epoch [7/10], Step [75/235], Loss: 0.3626\n",
      "Epoch [7/10], Step [100/235], Loss: 0.3359\n",
      "Epoch [7/10], Step [125/235], Loss: 0.2000\n",
      "Epoch [7/10], Step [150/235], Loss: 0.2065\n",
      "Epoch [7/10], Step [175/235], Loss: 0.2808\n",
      "Epoch [7/10], Step [200/235], Loss: 0.2426\n",
      "Epoch [7/10], Step [225/235], Loss: 0.2225\n",
      "Epoch [8/10], Step [25/235], Loss: 0.2400\n",
      "Epoch [8/10], Step [50/235], Loss: 0.3024\n",
      "Epoch [8/10], Step [75/235], Loss: 0.2822\n",
      "Epoch [8/10], Step [100/235], Loss: 0.2659\n",
      "Epoch [8/10], Step [125/235], Loss: 0.2483\n",
      "Epoch [8/10], Step [150/235], Loss: 0.2371\n",
      "Epoch [8/10], Step [175/235], Loss: 0.2187\n",
      "Epoch [8/10], Step [200/235], Loss: 0.2501\n",
      "Epoch [8/10], Step [225/235], Loss: 0.2892\n",
      "Epoch [9/10], Step [25/235], Loss: 0.2531\n",
      "Epoch [9/10], Step [50/235], Loss: 0.1837\n",
      "Epoch [9/10], Step [75/235], Loss: 0.2161\n",
      "Epoch [9/10], Step [100/235], Loss: 0.2670\n",
      "Epoch [9/10], Step [125/235], Loss: 0.2477\n",
      "Epoch [9/10], Step [150/235], Loss: 0.2849\n",
      "Epoch [9/10], Step [175/235], Loss: 0.2044\n",
      "Epoch [9/10], Step [200/235], Loss: 0.2179\n",
      "Epoch [9/10], Step [225/235], Loss: 0.2884\n",
      "Epoch [10/10], Step [25/235], Loss: 0.2101\n",
      "Epoch [10/10], Step [50/235], Loss: 0.1900\n",
      "Epoch [10/10], Step [75/235], Loss: 0.1974\n",
      "Epoch [10/10], Step [100/235], Loss: 0.2506\n",
      "Epoch [10/10], Step [125/235], Loss: 0.2055\n",
      "Epoch [10/10], Step [150/235], Loss: 0.2076\n",
      "Epoch [10/10], Step [175/235], Loss: 0.2554\n",
      "Epoch [10/10], Step [200/235], Loss: 0.2046\n",
      "Epoch [10/10], Step [225/235], Loss: 0.2218\n"
     ]
    }
   ],
   "source": [
    "# Training model\n",
    "num_epochs = 10\n",
    "for epoch in range(num_epochs):\n",
    "    # Go trough all samples in train dataset\n",
    "    for i, (images, labels) in enumerate(train_loader):\n",
    "        # Get from dataloader and send to device\n",
    "        images = images.to(device)\n",
    "        labels = labels.to(device)\n",
    "        # Forward pass\n",
    "        outputs = model(images)\n",
    "        # Compute loss\n",
    "        loss = torch.nn.functional.cross_entropy(outputs, labels)\n",
    "        # Backward and optimize\n",
    "        optimizer.zero_grad()\n",
    "        loss.backward()\n",
    "        optimizer.step()\n",
    "        # Display\n",
    "        if (i+1) % 25 == 0:\n",
    "            print (f'Epoch [{epoch+1}/{num_epochs}], Step [{i+1}/{len(train_loader)}], Loss: {loss.item():.4f}')"
   ]
  },
  {
   "cell_type": "code",
   "execution_count": 20,
   "metadata": {},
   "outputs": [
    {
     "name": "stdout",
     "output_type": "stream",
     "text": [
      "Evaluation after training, test accuracy: 0.9323\n"
     ]
    }
   ],
   "source": [
    "# Evaluate model accuracy on test after training\n",
    "# Set model in eval mode!\n",
    "model.eval()\n",
    "# Evaluate\n",
    "with torch.no_grad():\n",
    "    correct = 0\n",
    "    total = 0\n",
    "    for images, labels in test_loader:\n",
    "        # Get images and labels from test loader\n",
    "        images = images.to(device)\n",
    "        labels = labels.to(device)\n",
    "        # Forward pass and predict class using max\n",
    "        outputs = model(images)\n",
    "        _, predicted = torch.max(outputs.data, 1)\n",
    "        # Check if predicted class matches label\n",
    "        # and count numbler of correct predictions\n",
    "        total += labels.size(0)\n",
    "        correct += (predicted == labels).sum().item()\n",
    "# Compute final accuracy and display\n",
    "accuracy = correct/total\n",
    "print(f'Evaluation after training, test accuracy: {accuracy:.4f}')"
   ]
  },
  {
   "cell_type": "markdown",
   "metadata": {},
   "source": [
    "### Number of layers/neurons vs overfitting tradeoff, and what's next?\n",
    "\n",
    "This raises a question: **what is the appropriate number of layers to use and how many neurons should we use on each layer?**\n",
    "\n",
    "As explored in Notebook 8 from W2, there is no fixed rule for how many layers should be used in a deep neural network. The number of layers, as well as the number of neurons in each layer, should be chosen based on the complexity of the task and the amount of available data.\n",
    "\n",
    "In general, deep neural networks with many layers (tens, hundreds or even thousands) can learn very complex patterns in data, but they also require a large amount of data and computational resources to train. If the network is too deep, it may also be prone to overfitting, which can hinder its generalization performance on unseen data.\n",
    "\n",
    "On the other hand, shallow networks with fewer layers may be easier to train and require less data, but they may not be able to learn as complex patterns and may not achieve as high performance on some tasks.\n",
    "\n",
    "Finding the optimal number of layers and the optimal architecture of a deep neural network is often a trade-off between model complexity, computational resources, and performance, and requires some experimentation and model selection.\n",
    "\n",
    "This is typically a good practice when it comes to training Deep Neural Networks and something we will investigate in the next notebook."
   ]
  },
  {
   "cell_type": "code",
   "execution_count": null,
   "metadata": {},
   "outputs": [],
   "source": []
  }
 ],
 "metadata": {
  "kernelspec": {
   "display_name": "Python 3 (ipykernel)",
   "language": "python",
   "name": "python3"
  },
  "language_info": {
   "codemirror_mode": {
    "name": "ipython",
    "version": 3
   },
   "file_extension": ".py",
   "mimetype": "text/x-python",
   "name": "python",
   "nbconvert_exporter": "python",
   "pygments_lexer": "ipython3",
   "version": "3.13.1"
  }
 },
 "nbformat": 4,
 "nbformat_minor": 4
}
