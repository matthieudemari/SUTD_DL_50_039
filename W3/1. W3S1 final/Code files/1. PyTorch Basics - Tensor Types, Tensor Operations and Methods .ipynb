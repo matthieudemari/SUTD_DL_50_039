{
 "cells": [
  {
   "cell_type": "markdown",
   "metadata": {},
   "source": [
    "# 1. PyTorch Basics - Tensor Types, Tensor Operations and Methods \n",
    "\n",
    "### About this notebook\n",
    "\n",
    "This notebook was used in the 50.039 Deep Learning course at the Singapore University of Technology and Design.\n",
    "\n",
    "**Author:** Matthieu DE MARI (matthieu_demari@sutd.edu.sg)\n",
    "\n",
    "**Version:** 1.2 (16/06/2023)\n",
    "\n",
    "**Requirements:**\n",
    "- Python 3 (tested on v3.11.4)\n",
    "- Matplotlib (tested on v3.7.1)\n",
    "- Numpy (tested on v1.24.3)\n",
    "- Time (default Python library)\n",
    "- Torch (tested on v2.0.1+cu118)"
   ]
  },
  {
   "cell_type": "markdown",
   "metadata": {},
   "source": [
    "### Imports"
   ]
  },
  {
   "cell_type": "code",
   "execution_count": 1,
   "metadata": {},
   "outputs": [],
   "source": [
    "# Matplotlib\n",
    "import matplotlib.pyplot as plt\n",
    "from matplotlib import cm\n",
    "# Numpy\n",
    "import numpy as np\n",
    "from numpy.random import default_rng\n",
    "# Torch\n",
    "import torch\n",
    "# Time\n",
    "import time"
   ]
  },
  {
   "cell_type": "markdown",
   "metadata": {},
   "source": [
    "### On the benefits of using PyTorch to implement a Neural Network\n",
    "\n",
    "There are several benefits to using PyTorch over NumPy for implementing neural networks:\n",
    "\n",
    "- PyTorch provides a more intuitive interface for working with tensors and neural networks. NumPy is primarily a numerical computing library, and while it can be used to perform operations on arrays that are similar to those used in neural networks, PyTorch is specifically designed with deep learning in mind and provides a more natural and convenient interface for defining and training neural networks.\n",
    "- PyTorch has better support for GPU acceleration than NumPy. If a GPU is available, it can significantly speed up the training of our neural network by performing the computations on the GPU using PyTorch. This can be especially useful for training large and complex models.\n",
    "- PyTorch includes a number of high-level abstractions for building and training neural networks, such as nn.Module, nn.Sequential, and optim. These abstractions make it easier to write and debug code, and can also improve the performance of our model by allowing PyTorch to apply optimization techniques such as graph fusion and automatic differentiation (which is nice as we will no longer have to worry about the gradient update rules to use!).\n",
    "- PyTorch has a large and active community of users, coming witha wealth of online resources and documentation to help troubleshoot any issues.\n",
    "\n",
    "Overall, while NumPy is a powerful library for numerical computing, but PyTorch is a more effective choice for implementing and training neural networks, especially if when taking advantage of GPU acceleration or when using more advanced features such as automatic differentiation."
   ]
  },
  {
   "cell_type": "markdown",
   "metadata": {},
   "source": [
    "### Setting a GPU/CPU device for computation\n",
    "\n",
    "You can check for CUDA/GPU capabilities, using the line below. If the CUDA has not been properly installed or the GPU is not compatible, you will be using a CPU instead.\n",
    "\n",
    "We strongly advise to take a moment to make sure your machine is CUDA enabled, assuming your GPU is compatible. When CUDA is properly installed on a compatible GPU, the line below should display *cuda*, otherwise it will print *cpu*."
   ]
  },
  {
   "cell_type": "code",
   "execution_count": 2,
   "metadata": {},
   "outputs": [
    {
     "name": "stdout",
     "output_type": "stream",
     "text": [
      "cuda\n"
     ]
    }
   ],
   "source": [
    "# Use GPU if available, else use CPU\n",
    "device = torch.device(\"cuda\" if torch.cuda.is_available() else \"cpu\")\n",
    "print(device)"
   ]
  },
  {
   "cell_type": "markdown",
   "metadata": {},
   "source": [
    "### The Tensor object\n",
    "\n",
    "Tensors are a data structure that are very similar to arrays and matrices. The tensor is PyTorch's basic building block and similar to NumPy arrays, which is why most of the concepts and methods will look similar. However, these come with additional features, which will be useful later on when building Neural Networks with these tensors.\n",
    "\n",
    "They can be initialized as in NumPy, by using **zeros()** or **ones()** functions, specifying dimensions with tuples. "
   ]
  },
  {
   "cell_type": "code",
   "execution_count": 3,
   "metadata": {},
   "outputs": [
    {
     "name": "stdout",
     "output_type": "stream",
     "text": [
      "[[1. 1. 1. 1. 1.]\n",
      " [1. 1. 1. 1. 1.]]\n",
      "tensor([[1., 1., 1., 1., 1.],\n",
      "        [1., 1., 1., 1., 1.]])\n"
     ]
    }
   ],
   "source": [
    "# Create a 2D Numpy array and a PyTorch tensor,\n",
    "# both of size 2 by 5, filled with ones.\n",
    "ones_array = np.ones((2, 5))\n",
    "print(ones_array)\n",
    "ones_tensor = torch.ones(size = (2, 5))\n",
    "print(ones_tensor)"
   ]
  },
  {
   "cell_type": "code",
   "execution_count": 4,
   "metadata": {},
   "outputs": [
    {
     "name": "stdout",
     "output_type": "stream",
     "text": [
      "tensor([0., 0., 0.])\n"
     ]
    }
   ],
   "source": [
    "# Create a 1D tensor of size 3, filled zeros.\n",
    "# (Pay attention to the extra comma in the tuple.)\n",
    "zeros_tensor = torch.zeros(size = (3, ))\n",
    "print(zeros_tensor)"
   ]
  },
  {
   "cell_type": "markdown",
   "metadata": {},
   "source": [
    "You could also create a tensor directly from a list (or a list of lists), as shown below."
   ]
  },
  {
   "cell_type": "code",
   "execution_count": 5,
   "metadata": {},
   "outputs": [
    {
     "name": "stdout",
     "output_type": "stream",
     "text": [
      "tensor([1, 2, 3, 4])\n"
     ]
    }
   ],
   "source": [
    "# Create a Tensor from a list, directly\n",
    "l = [1, 2, 3, 4]\n",
    "list_tensor = torch.tensor(l)\n",
    "print(list_tensor)"
   ]
  },
  {
   "cell_type": "markdown",
   "metadata": {},
   "source": [
    "You can also transform a NumPy array into a tensor, using the **from_numpy()** function."
   ]
  },
  {
   "cell_type": "code",
   "execution_count": 6,
   "metadata": {},
   "outputs": [
    {
     "name": "stdout",
     "output_type": "stream",
     "text": [
      "tensor([0.1000, 0.2000, 0.3000], dtype=torch.float64)\n"
     ]
    }
   ],
   "source": [
    "# From a numPy array\n",
    "numpy_array = np.array([0.1, 0.2, 0.3])\n",
    "numpy_tensor = torch.from_numpy(numpy_array)\n",
    "print(numpy_tensor)"
   ]
  },
  {
   "cell_type": "markdown",
   "metadata": {},
   "source": [
    "PyTorch tensors have an attribute called **dtype**, which tracks the types of values stored in the tensor. The most common one is *torch.float64*, but other dtypes exist. See https://www.tensorflow.org/api_docs/python/tf/dtypes for more details on the possible dtypes.\n",
    "\n",
    "It is possible to change the **dtype** of a tensor\n",
    "- by either specifying it during its creation;\n",
    "- or by using the **type()** method on the tensor, specifying a new dtype to use."
   ]
  },
  {
   "cell_type": "code",
   "execution_count": 7,
   "metadata": {},
   "outputs": [
    {
     "name": "stdout",
     "output_type": "stream",
     "text": [
      "tensor([1, 2, 3, 4], dtype=torch.int32)\n",
      "tensor([1., 2., 3., 4.], dtype=torch.float64)\n"
     ]
    }
   ],
   "source": [
    "# Create a Tensor from a list, directly\n",
    "# Forcing dtype to be integers on 32bits.\n",
    "l = [1, 2, 3, 4]\n",
    "list_tensor = torch.tensor(l, dtype = torch.int32)\n",
    "print(list_tensor)\n",
    "# Changing to float 64bits\n",
    "list_tensor2 = list_tensor.type(torch.float64)\n",
    "print(list_tensor2)"
   ]
  },
  {
   "cell_type": "markdown",
   "metadata": {},
   "source": [
    "In general, operations between tensors require compatible, and sometimes **identical** dtypes."
   ]
  },
  {
   "cell_type": "code",
   "execution_count": 8,
   "metadata": {},
   "outputs": [
    {
     "name": "stdout",
     "output_type": "stream",
     "text": [
      "tensor([1, 2, 3, 4], dtype=torch.int32)\n",
      "tensor([2., 4., 6., 8.], dtype=torch.float64)\n"
     ]
    },
    {
     "ename": "RuntimeError",
     "evalue": "dot : expected both vectors to have same dtype, but found Int and Double",
     "output_type": "error",
     "traceback": [
      "\u001b[1;31m---------------------------------------------------------------------------\u001b[0m",
      "\u001b[1;31mRuntimeError\u001b[0m                              Traceback (most recent call last)",
      "Cell \u001b[1;32mIn[8], line 11\u001b[0m\n\u001b[0;32m      9\u001b[0m \u001b[38;5;28mprint\u001b[39m(list_tensor2)\n\u001b[0;32m     10\u001b[0m \u001b[38;5;66;03m# SOme operations on tensors with different datatypes might be problematic\u001b[39;00m\n\u001b[1;32m---> 11\u001b[0m list_tensor3 \u001b[38;5;241m=\u001b[39m \u001b[43mtorch\u001b[49m\u001b[38;5;241;43m.\u001b[39;49m\u001b[43mdot\u001b[49m\u001b[43m(\u001b[49m\u001b[43mlist_tensor\u001b[49m\u001b[43m,\u001b[49m\u001b[43m \u001b[49m\u001b[43mlist_tensor2\u001b[49m\u001b[43m)\u001b[49m\n\u001b[0;32m     12\u001b[0m \u001b[38;5;28mprint\u001b[39m(list_tensor3)\n",
      "\u001b[1;31mRuntimeError\u001b[0m: dot : expected both vectors to have same dtype, but found Int and Double"
     ]
    }
   ],
   "source": [
    "# Create a Tensor from a list, directly\n",
    "# Forcing dtype to be integers on 32bits.\n",
    "l = [1, 2, 3, 4]\n",
    "list_tensor = torch.tensor(l, dtype = torch.int32)\n",
    "print(list_tensor)\n",
    "# Changing to float 64bits\n",
    "l2 = [2, 4, 6, 8]\n",
    "list_tensor2 = torch.tensor(l2, dtype = torch.double)\n",
    "print(list_tensor2)\n",
    "# SOme operations on tensors with different datatypes might be problematic\n",
    "list_tensor3 = torch.dot(list_tensor, list_tensor2)\n",
    "print(list_tensor3)"
   ]
  },
  {
   "cell_type": "markdown",
   "metadata": {},
   "source": [
    "Tensors can also be initialized using random generators, as in NumPy. For instance we can use **rand()** for drawing random values in a $ [0, 1] $ uniform distribution, or use **randn()** to draw values from a normal distribution with zero mean and variance one.\n",
    "\n",
    "Functions and methods both exist for calculating mean values of a tensor, its standard deviation/variance, etc.\n",
    "\n",
    "Seeding is done with **torch.manual_seed()**."
   ]
  },
  {
   "cell_type": "code",
   "execution_count": 9,
   "metadata": {},
   "outputs": [
    {
     "name": "stdout",
     "output_type": "stream",
     "text": [
      "tensor([[[0.7346, 0.9654],\n",
      "         [0.1103, 0.4782]],\n",
      "\n",
      "        [[0.6199, 0.3018],\n",
      "         [0.2884, 0.8768]],\n",
      "\n",
      "        [[0.3638, 0.1911],\n",
      "         [0.8069, 0.6448]]])\n",
      "tensor(0.5318)\n"
     ]
    }
   ],
   "source": [
    "# Create a 3D tensor, of size 3 by 2 by 2, filled with random values\n",
    "# drawn from a uniform [0, 1] distribution.\n",
    "rand_unif_tensor = torch.rand(size = (3, 2, 2))\n",
    "print(rand_unif_tensor)\n",
    "# Calculate mean with function (should be close to 0.5)\n",
    "val = torch.mean(rand_unif_tensor)\n",
    "print(val)"
   ]
  },
  {
   "cell_type": "code",
   "execution_count": 10,
   "metadata": {},
   "outputs": [
    {
     "name": "stdout",
     "output_type": "stream",
     "text": [
      "torch.Size([4, 2, 3, 7])\n",
      "tensor(0.0865)\n"
     ]
    }
   ],
   "source": [
    "# Seeding\n",
    "torch.manual_seed(17)\n",
    "\n",
    "# Create a 4D tensor, of size 4 by 2 by 3 by 7, filled with random values\n",
    "# drawn from a normal distribution with zero mean and variance one.\n",
    "rand_normal_tensor = torch.randn(size = (4, 2, 3, 7))\n",
    "print(rand_normal_tensor.shape)\n",
    "\n",
    "# Calculate mean with method (should be close to 0)\n",
    "# (With see 17, should be 0.0865)\n",
    "val = rand_normal_tensor.mean()\n",
    "print(val)"
   ]
  },
  {
   "cell_type": "markdown",
   "metadata": {},
   "source": [
    "Finally, you can ask the shape of a tensor, like in NumPy, using the **shape** attribute."
   ]
  },
  {
   "cell_type": "code",
   "execution_count": 11,
   "metadata": {},
   "outputs": [
    {
     "name": "stdout",
     "output_type": "stream",
     "text": [
      "torch.Size([4, 2, 3, 7])\n"
     ]
    }
   ],
   "source": [
    "print(rand_normal_tensor.shape)"
   ]
  },
  {
   "cell_type": "markdown",
   "metadata": {},
   "source": [
    "Tensors have **(way too) many** functions and methods you could use, just like the NumPy arrays.\n",
    "\n",
    "You know the drill, RTFM! (https://pytorch.org/docs/stable/torch.html)"
   ]
  },
  {
   "cell_type": "code",
   "execution_count": 12,
   "metadata": {},
   "outputs": [
    {
     "name": "stdout",
     "output_type": "stream",
     "text": [
      "['H', 'T', '__abs__', '__add__', '__and__', '__array__', '__array_priority__', '__array_wrap__', '__bool__', '__class__', '__complex__', '__contains__', '__deepcopy__', '__delattr__', '__delitem__', '__dict__', '__dir__', '__div__', '__dlpack__', '__dlpack_device__', '__doc__', '__eq__', '__float__', '__floordiv__', '__format__', '__ge__', '__getattribute__', '__getitem__', '__getstate__', '__gt__', '__hash__', '__iadd__', '__iand__', '__idiv__', '__ifloordiv__', '__ilshift__', '__imod__', '__imul__', '__index__', '__init__', '__init_subclass__', '__int__', '__invert__', '__ior__', '__ipow__', '__irshift__', '__isub__', '__iter__', '__itruediv__', '__ixor__', '__le__', '__len__', '__long__', '__lshift__', '__lt__', '__matmul__', '__mod__', '__module__', '__mul__', '__ne__', '__neg__', '__new__', '__nonzero__', '__or__', '__pos__', '__pow__', '__radd__', '__rand__', '__rdiv__', '__reduce__', '__reduce_ex__', '__repr__', '__reversed__', '__rfloordiv__', '__rlshift__', '__rmatmul__', '__rmod__', '__rmul__', '__ror__', '__rpow__', '__rrshift__', '__rshift__', '__rsub__', '__rtruediv__', '__rxor__', '__setattr__', '__setitem__', '__setstate__', '__sizeof__', '__str__', '__sub__', '__subclasshook__', '__torch_dispatch__', '__torch_function__', '__truediv__', '__weakref__', '__xor__', '_addmm_activation', '_autocast_to_full_precision', '_autocast_to_reduced_precision', '_backward_hooks', '_base', '_cdata', '_coalesced_', '_conj', '_conj_physical', '_dimI', '_dimV', '_fix_weakref', '_grad', '_grad_fn', '_has_symbolic_sizes_strides', '_indices', '_is_all_true', '_is_any_true', '_is_view', '_is_zerotensor', '_make_subclass', '_make_wrapper_subclass', '_neg_view', '_nested_tensor_size', '_nested_tensor_strides', '_nnz', '_python_dispatch', '_reduce_ex_internal', '_to_dense', '_typed_storage', '_update_names', '_values', '_version', '_view_func', 'abs', 'abs_', 'absolute', 'absolute_', 'acos', 'acos_', 'acosh', 'acosh_', 'add', 'add_', 'addbmm', 'addbmm_', 'addcdiv', 'addcdiv_', 'addcmul', 'addcmul_', 'addmm', 'addmm_', 'addmv', 'addmv_', 'addr', 'addr_', 'adjoint', 'align_as', 'align_to', 'all', 'allclose', 'amax', 'amin', 'aminmax', 'angle', 'any', 'apply_', 'arccos', 'arccos_', 'arccosh', 'arccosh_', 'arcsin', 'arcsin_', 'arcsinh', 'arcsinh_', 'arctan', 'arctan2', 'arctan2_', 'arctan_', 'arctanh', 'arctanh_', 'argmax', 'argmin', 'argsort', 'argwhere', 'as_strided', 'as_strided_', 'as_strided_scatter', 'as_subclass', 'asin', 'asin_', 'asinh', 'asinh_', 'atan', 'atan2', 'atan2_', 'atan_', 'atanh', 'atanh_', 'backward', 'baddbmm', 'baddbmm_', 'bernoulli', 'bernoulli_', 'bfloat16', 'bincount', 'bitwise_and', 'bitwise_and_', 'bitwise_left_shift', 'bitwise_left_shift_', 'bitwise_not', 'bitwise_not_', 'bitwise_or', 'bitwise_or_', 'bitwise_right_shift', 'bitwise_right_shift_', 'bitwise_xor', 'bitwise_xor_', 'bmm', 'bool', 'broadcast_to', 'byte', 'cauchy_', 'ccol_indices', 'cdouble', 'ceil', 'ceil_', 'cfloat', 'chalf', 'char', 'cholesky', 'cholesky_inverse', 'cholesky_solve', 'chunk', 'clamp', 'clamp_', 'clamp_max', 'clamp_max_', 'clamp_min', 'clamp_min_', 'clip', 'clip_', 'clone', 'coalesce', 'col_indices', 'conj', 'conj_physical', 'conj_physical_', 'contiguous', 'copy_', 'copysign', 'copysign_', 'corrcoef', 'cos', 'cos_', 'cosh', 'cosh_', 'count_nonzero', 'cov', 'cpu', 'cross', 'crow_indices', 'cuda', 'cummax', 'cummin', 'cumprod', 'cumprod_', 'cumsum', 'cumsum_', 'data', 'data_ptr', 'deg2rad', 'deg2rad_', 'dense_dim', 'dequantize', 'det', 'detach', 'detach_', 'device', 'diag', 'diag_embed', 'diagflat', 'diagonal', 'diagonal_scatter', 'diff', 'digamma', 'digamma_', 'dim', 'dist', 'div', 'div_', 'divide', 'divide_', 'dot', 'double', 'dsplit', 'dtype', 'eig', 'element_size', 'eq', 'eq_', 'equal', 'erf', 'erf_', 'erfc', 'erfc_', 'erfinv', 'erfinv_', 'exp', 'exp2', 'exp2_', 'exp_', 'expand', 'expand_as', 'expm1', 'expm1_', 'exponential_', 'fill_', 'fill_diagonal_', 'fix', 'fix_', 'flatten', 'flip', 'fliplr', 'flipud', 'float', 'float_power', 'float_power_', 'floor', 'floor_', 'floor_divide', 'floor_divide_', 'fmax', 'fmin', 'fmod', 'fmod_', 'frac', 'frac_', 'frexp', 'gather', 'gcd', 'gcd_', 'ge', 'ge_', 'geometric_', 'geqrf', 'ger', 'get_device', 'grad', 'grad_fn', 'greater', 'greater_', 'greater_equal', 'greater_equal_', 'gt', 'gt_', 'half', 'hardshrink', 'has_names', 'heaviside', 'heaviside_', 'histc', 'histogram', 'hsplit', 'hypot', 'hypot_', 'i0', 'i0_', 'igamma', 'igamma_', 'igammac', 'igammac_', 'imag', 'index_add', 'index_add_', 'index_copy', 'index_copy_', 'index_fill', 'index_fill_', 'index_put', 'index_put_', 'index_reduce', 'index_reduce_', 'index_select', 'indices', 'inner', 'int', 'int_repr', 'inverse', 'ipu', 'is_coalesced', 'is_complex', 'is_conj', 'is_contiguous', 'is_cpu', 'is_cuda', 'is_distributed', 'is_floating_point', 'is_inference', 'is_ipu', 'is_leaf', 'is_meta', 'is_mkldnn', 'is_mps', 'is_neg', 'is_nested', 'is_nonzero', 'is_ort', 'is_pinned', 'is_quantized', 'is_same_size', 'is_set_to', 'is_shared', 'is_signed', 'is_sparse', 'is_sparse_csr', 'is_vulkan', 'is_xpu', 'isclose', 'isfinite', 'isinf', 'isnan', 'isneginf', 'isposinf', 'isreal', 'istft', 'item', 'kron', 'kthvalue', 'layout', 'lcm', 'lcm_', 'ldexp', 'ldexp_', 'le', 'le_', 'lerp', 'lerp_', 'less', 'less_', 'less_equal', 'less_equal_', 'lgamma', 'lgamma_', 'log', 'log10', 'log10_', 'log1p', 'log1p_', 'log2', 'log2_', 'log_', 'log_normal_', 'log_softmax', 'logaddexp', 'logaddexp2', 'logcumsumexp', 'logdet', 'logical_and', 'logical_and_', 'logical_not', 'logical_not_', 'logical_or', 'logical_or_', 'logical_xor', 'logical_xor_', 'logit', 'logit_', 'logsumexp', 'long', 'lstsq', 'lt', 'lt_', 'lu', 'lu_solve', 'mH', 'mT', 'map2_', 'map_', 'masked_fill', 'masked_fill_', 'masked_scatter', 'masked_scatter_', 'masked_select', 'matmul', 'matrix_exp', 'matrix_power', 'max', 'maximum', 'mean', 'median', 'min', 'minimum', 'mm', 'mode', 'moveaxis', 'movedim', 'msort', 'mul', 'mul_', 'multinomial', 'multiply', 'multiply_', 'mv', 'mvlgamma', 'mvlgamma_', 'name', 'names', 'nan_to_num', 'nan_to_num_', 'nanmean', 'nanmedian', 'nanquantile', 'nansum', 'narrow', 'narrow_copy', 'ndim', 'ndimension', 'ne', 'ne_', 'neg', 'neg_', 'negative', 'negative_', 'nelement', 'new', 'new_empty', 'new_empty_strided', 'new_full', 'new_ones', 'new_tensor', 'new_zeros', 'nextafter', 'nextafter_', 'nonzero', 'norm', 'normal_', 'not_equal', 'not_equal_', 'numel', 'numpy', 'orgqr', 'ormqr', 'outer', 'output_nr', 'permute', 'pin_memory', 'pinverse', 'polygamma', 'polygamma_', 'positive', 'pow', 'pow_', 'prelu', 'prod', 'put', 'put_', 'q_per_channel_axis', 'q_per_channel_scales', 'q_per_channel_zero_points', 'q_scale', 'q_zero_point', 'qr', 'qscheme', 'quantile', 'rad2deg', 'rad2deg_', 'random_', 'ravel', 'real', 'reciprocal', 'reciprocal_', 'record_stream', 'refine_names', 'register_hook', 'reinforce', 'relu', 'relu_', 'remainder', 'remainder_', 'rename', 'rename_', 'renorm', 'renorm_', 'repeat', 'repeat_interleave', 'requires_grad', 'requires_grad_', 'reshape', 'reshape_as', 'resize', 'resize_', 'resize_as', 'resize_as_', 'resize_as_sparse_', 'resolve_conj', 'resolve_neg', 'retain_grad', 'retains_grad', 'roll', 'rot90', 'round', 'round_', 'row_indices', 'rsqrt', 'rsqrt_', 'scatter', 'scatter_', 'scatter_add', 'scatter_add_', 'scatter_reduce', 'scatter_reduce_', 'select', 'select_scatter', 'set_', 'sgn', 'sgn_', 'shape', 'share_memory_', 'short', 'sigmoid', 'sigmoid_', 'sign', 'sign_', 'signbit', 'sin', 'sin_', 'sinc', 'sinc_', 'sinh', 'sinh_', 'size', 'slice_scatter', 'slogdet', 'smm', 'softmax', 'solve', 'sort', 'sparse_dim', 'sparse_mask', 'sparse_resize_', 'sparse_resize_and_clear_', 'split', 'split_with_sizes', 'sqrt', 'sqrt_', 'square', 'square_', 'squeeze', 'squeeze_', 'sspaddmm', 'std', 'stft', 'storage', 'storage_offset', 'storage_type', 'stride', 'sub', 'sub_', 'subtract', 'subtract_', 'sum', 'sum_to_size', 'svd', 'swapaxes', 'swapaxes_', 'swapdims', 'swapdims_', 'symeig', 't', 't_', 'take', 'take_along_dim', 'tan', 'tan_', 'tanh', 'tanh_', 'tensor_split', 'tile', 'to', 'to_dense', 'to_mkldnn', 'to_padded_tensor', 'to_sparse', 'to_sparse_bsc', 'to_sparse_bsr', 'to_sparse_coo', 'to_sparse_csc', 'to_sparse_csr', 'tolist', 'topk', 'trace', 'transpose', 'transpose_', 'triangular_solve', 'tril', 'tril_', 'triu', 'triu_', 'true_divide', 'true_divide_', 'trunc', 'trunc_', 'type', 'type_as', 'unbind', 'unflatten', 'unfold', 'uniform_', 'unique', 'unique_consecutive', 'unsafe_chunk', 'unsafe_split', 'unsafe_split_with_sizes', 'unsqueeze', 'unsqueeze_', 'untyped_storage', 'values', 'var', 'vdot', 'view', 'view_as', 'vsplit', 'where', 'xlogy', 'xlogy_', 'xpu', 'zero_']\n"
     ]
    }
   ],
   "source": [
    "print(dir(rand_normal_tensor))"
   ]
  },
  {
   "cell_type": "markdown",
   "metadata": {},
   "source": [
    "### Accesing, slicing, updating, browsing\n",
    "\n",
    "As we said, tensors are very similar to NumPy arrays. All the typical element-wise operations therefore work on tensors as well. For instance, we can:\n",
    "- access elements using the square bracket notation, multiple square bracket notations and multiple indexes in a single square bracket;\n",
    "- slice a tensor using the square bracket notation and colon symbol;\n",
    "- update elements of a tensor using the square bracket notation;\n",
    "- browse thropugh elements of a tensor using a for loop."
   ]
  },
  {
   "cell_type": "code",
   "execution_count": 13,
   "metadata": {},
   "outputs": [
    {
     "name": "stdout",
     "output_type": "stream",
     "text": [
      "tensor([[[0.4342, 0.5351],\n",
      "         [0.8302, 0.1239]],\n",
      "\n",
      "        [[0.0293, 0.5494],\n",
      "         [0.3825, 0.5463]],\n",
      "\n",
      "        [[0.4683, 0.0172],\n",
      "         [0.0214, 0.3664]]])\n",
      "Element1:  tensor([[0.4683, 0.0172],\n",
      "        [0.0214, 0.3664]])\n",
      "Element2:  tensor([0.4683, 0.0172])\n",
      "Element3:  tensor(0.0172)\n"
     ]
    }
   ],
   "source": [
    "# Create a 3D tensor, of size 3 by 2 by 2, filled with random values\n",
    "# drawn from a uniform [0, 1] distribution.\n",
    "torch.manual_seed(17)\n",
    "rand_unif_tensor = torch.rand(size = (3, 2, 2))\n",
    "print(rand_unif_tensor)\n",
    "\n",
    "# Indexing\n",
    "element1 = rand_unif_tensor[2]\n",
    "print(\"Element1: \", element1)\n",
    "element2 = rand_unif_tensor[2][0]\n",
    "print(\"Element2: \", element2)\n",
    "element3 = rand_unif_tensor[2, 0, 1]\n",
    "print(\"Element3: \", element3)"
   ]
  },
  {
   "cell_type": "code",
   "execution_count": 14,
   "metadata": {},
   "outputs": [
    {
     "name": "stdout",
     "output_type": "stream",
     "text": [
      "tensor([[[0.4342, 0.5351],\n",
      "         [0.8302, 0.1239]],\n",
      "\n",
      "        [[0.0293, 0.5494],\n",
      "         [0.3825, 0.5463]],\n",
      "\n",
      "        [[0.4683, 0.0172],\n",
      "         [0.0214, 0.3664]]])\n",
      "Slice1:  tensor([[[0.4342, 0.5351],\n",
      "         [0.8302, 0.1239]],\n",
      "\n",
      "        [[0.0293, 0.5494],\n",
      "         [0.3825, 0.5463]]])\n",
      "Slice2:  tensor([[[0.4342, 0.5351],\n",
      "         [0.8302, 0.1239]],\n",
      "\n",
      "        [[0.0293, 0.5494],\n",
      "         [0.3825, 0.5463]]])\n",
      "Slice3:  tensor([[[0.0293, 0.5494],\n",
      "         [0.3825, 0.5463]],\n",
      "\n",
      "        [[0.4683, 0.0172],\n",
      "         [0.0214, 0.3664]]])\n",
      "Slice4:  tensor([[0.4342, 0.5351],\n",
      "        [0.8302, 0.1239]])\n"
     ]
    }
   ],
   "source": [
    "# Create a 3D tensor, of size 3 by 2 by 2, filled with random values\n",
    "# drawn from a uniform [0, 1] distribution.\n",
    "torch.manual_seed(17)\n",
    "rand_unif_tensor = torch.rand(size = (3, 2, 2))\n",
    "print(rand_unif_tensor)\n",
    "\n",
    "# Slicing\n",
    "slice1 = rand_unif_tensor[0:2]\n",
    "print(\"Slice1: \", slice1)\n",
    "slice2 = rand_unif_tensor[:2]\n",
    "print(\"Slice2: \", slice2)\n",
    "slice3 = rand_unif_tensor[1:]\n",
    "print(\"Slice3: \", slice3)\n",
    "slice4 = rand_unif_tensor[0, :, :]\n",
    "print(\"Slice4: \", slice4)"
   ]
  },
  {
   "cell_type": "code",
   "execution_count": 15,
   "metadata": {},
   "outputs": [
    {
     "name": "stdout",
     "output_type": "stream",
     "text": [
      "tensor([[[0.4342, 0.5351],\n",
      "         [0.8302, 0.1239]],\n",
      "\n",
      "        [[0.0293, 0.5494],\n",
      "         [0.3825, 0.5463]],\n",
      "\n",
      "        [[0.4683, 0.0172],\n",
      "         [0.0214, 0.3664]]])\n",
      "Element4:  tensor(0.3664)\n",
      "New Element4:  tensor(0.5000)\n"
     ]
    }
   ],
   "source": [
    "# Create a 3D tensor, of size 3 by 2 by 2, filled with random values\n",
    "# drawn from a uniform [0, 1] distribution.\n",
    "torch.manual_seed(17)\n",
    "rand_unif_tensor = torch.rand(size = (3, 2, 2))\n",
    "print(rand_unif_tensor)\n",
    "\n",
    "# Before\n",
    "element4 = rand_unif_tensor[2, 1, 1]\n",
    "print(\"Element4: \", element4)\n",
    "# Updating\n",
    "rand_unif_tensor[2, 1, 1] = 0.5\n",
    "# After\n",
    "element4 = rand_unif_tensor[2, 1, 1]\n",
    "print(\"New Element4: \", element4)"
   ]
  },
  {
   "cell_type": "code",
   "execution_count": 16,
   "metadata": {},
   "outputs": [
    {
     "name": "stdout",
     "output_type": "stream",
     "text": [
      "tensor([[[0.4342, 0.5351],\n",
      "         [0.8302, 0.1239]],\n",
      "\n",
      "        [[0.0293, 0.5494],\n",
      "         [0.3825, 0.5463]],\n",
      "\n",
      "        [[0.4683, 0.0172],\n",
      "         [0.0214, 0.3664]]])\n",
      "---\n",
      "tensor([[0.4342, 0.5351],\n",
      "        [0.8302, 0.1239]])\n",
      "---\n",
      "tensor([[0.0293, 0.5494],\n",
      "        [0.3825, 0.5463]])\n",
      "---\n",
      "tensor([[0.4683, 0.0172],\n",
      "        [0.0214, 0.3664]])\n"
     ]
    }
   ],
   "source": [
    "# Create a 3D tensor, of size 3 by 2 by 2, filled with random values\n",
    "# drawn from a uniform [0, 1] distribution.\n",
    "torch.manual_seed(17)\n",
    "rand_unif_tensor = torch.rand(size = (3, 2, 2))\n",
    "print(rand_unif_tensor)\n",
    "\n",
    "# Browsing\n",
    "for sub_tensor in rand_unif_tensor:\n",
    "    print(\"---\")\n",
    "    print(sub_tensor)"
   ]
  },
  {
   "cell_type": "markdown",
   "metadata": {},
   "source": [
    "### Operations on Tensors\n",
    "\n",
    "All NumPy array operations work on tensors and equivalent methods have been writen in torch as well."
   ]
  },
  {
   "cell_type": "code",
   "execution_count": 17,
   "metadata": {},
   "outputs": [],
   "source": [
    "# Define two simple 2D tensors\n",
    "a = torch.tensor([[1, 2, 3], [1, 2, 3]])\n",
    "b = torch.tensor([[1, 2, 3], [4, 5, 6]])"
   ]
  },
  {
   "cell_type": "code",
   "execution_count": 18,
   "metadata": {},
   "outputs": [
    {
     "name": "stdout",
     "output_type": "stream",
     "text": [
      "tensor([[2, 4, 6],\n",
      "        [5, 7, 9]])\n",
      "tensor([[2, 4, 6],\n",
      "        [5, 7, 9]])\n"
     ]
    }
   ],
   "source": [
    "# Element-wise addition\n",
    "c = a + b\n",
    "print(c)\n",
    "c = torch.add(a, b)\n",
    "print(c)"
   ]
  },
  {
   "cell_type": "code",
   "execution_count": 19,
   "metadata": {},
   "outputs": [
    {
     "name": "stdout",
     "output_type": "stream",
     "text": [
      "tensor([[ 0,  0,  0],\n",
      "        [-3, -3, -3]])\n",
      "tensor([[ 0,  0,  0],\n",
      "        [-3, -3, -3]])\n"
     ]
    }
   ],
   "source": [
    "# Element-wise substraction\n",
    "c = a - b\n",
    "print(c)\n",
    "c = torch.sub(a, b)\n",
    "print(c)"
   ]
  },
  {
   "cell_type": "code",
   "execution_count": 20,
   "metadata": {},
   "outputs": [
    {
     "name": "stdout",
     "output_type": "stream",
     "text": [
      "tensor([[ 1,  4,  9],\n",
      "        [ 4, 10, 18]])\n",
      "tensor([[ 1,  4,  9],\n",
      "        [ 4, 10, 18]])\n"
     ]
    }
   ],
   "source": [
    "# Element-wise multiplication\n",
    "c = a * b\n",
    "print(c)\n",
    "c = torch.mul(a,b)\n",
    "print(c)"
   ]
  },
  {
   "cell_type": "code",
   "execution_count": 21,
   "metadata": {},
   "outputs": [
    {
     "name": "stdout",
     "output_type": "stream",
     "text": [
      "tensor([[1.0000, 1.0000, 1.0000],\n",
      "        [0.2500, 0.4000, 0.5000]])\n",
      "tensor([[1.0000, 1.0000, 1.0000],\n",
      "        [0.2500, 0.4000, 0.5000]])\n"
     ]
    }
   ],
   "source": [
    "# Element-wise division\n",
    "c = a / b\n",
    "print(c)\n",
    "c = torch.div(a, b)\n",
    "print(c)"
   ]
  },
  {
   "cell_type": "code",
   "execution_count": 22,
   "metadata": {},
   "outputs": [
    {
     "name": "stdout",
     "output_type": "stream",
     "text": [
      "tensor([[1, 2, 3],\n",
      "        [1, 2, 3]])\n",
      "tensor([[1, 1],\n",
      "        [2, 2],\n",
      "        [3, 3]])\n"
     ]
    }
   ],
   "source": [
    "# Transposition \n",
    "c = a.T\n",
    "print(a)\n",
    "print(c)"
   ]
  },
  {
   "cell_type": "code",
   "execution_count": 23,
   "metadata": {},
   "outputs": [
    {
     "name": "stdout",
     "output_type": "stream",
     "text": [
      "tensor([[1, 2, 3],\n",
      "        [4, 5, 6]])\n",
      "tensor([[1, 4],\n",
      "        [2, 5],\n",
      "        [3, 6]])\n"
     ]
    }
   ],
   "source": [
    "# Transpose and swap dimensions 0 and 1\n",
    "# (could specify other dimensions if ND tensor)\n",
    "d = b.transpose(0, 1)\n",
    "print(b)\n",
    "print(d)"
   ]
  },
  {
   "cell_type": "markdown",
   "metadata": {},
   "source": [
    "The matrix multiplication, not to be confused with the element-wise multiplication, is performed using the **matmul()** function."
   ]
  },
  {
   "cell_type": "markdown",
   "metadata": {},
   "source": [
    "The dot product, on the other hand, is typically performed using the **dot()** function. When used on two 1D tensors, you obtain the inner product. When used on two 2D tensors, it is equivalent to matmul()."
   ]
  },
  {
   "cell_type": "code",
   "execution_count": 24,
   "metadata": {},
   "outputs": [
    {
     "name": "stdout",
     "output_type": "stream",
     "text": [
      "tensor([[14, 32],\n",
      "        [14, 32]])\n"
     ]
    }
   ],
   "source": [
    "# Matrix multiplication\n",
    "e = torch.matmul(a, d)\n",
    "print(e)"
   ]
  },
  {
   "cell_type": "code",
   "execution_count": 25,
   "metadata": {},
   "outputs": [
    {
     "name": "stdout",
     "output_type": "stream",
     "text": [
      "tensor(32)\n",
      "tensor(32)\n"
     ]
    },
    {
     "name": "stderr",
     "output_type": "stream",
     "text": [
      "C:\\Users\\matth\\AppData\\Local\\Temp\\ipykernel_14732\\129419770.py:9: UserWarning: The use of `x.T` on tensors of dimension other than 2 to reverse their shape is deprecated and it will throw an error in a future release. Consider `x.mT` to transpose batches of matrices or `x.permute(*torch.arange(x.ndim - 1, -1, -1))` to reverse the dimensions of a tensor. (Triggered internally at ..\\aten\\src\\ATen\\native\\TensorShape.cpp:3575.)\n",
      "  g = torch.matmul(a, b.T)\n"
     ]
    }
   ],
   "source": [
    "# Define two simple 1D tensors\n",
    "a = torch.tensor([1, 2, 3])\n",
    "b = torch.tensor([4, 5, 6])\n",
    "\n",
    "# Dot operation, used for computing\n",
    "# the dot product of two 1D tensors.\n",
    "f = torch.dot(a, b)\n",
    "print(f)\n",
    "g = torch.matmul(a, b.T)\n",
    "print(g)"
   ]
  },
  {
   "cell_type": "markdown",
   "metadata": {},
   "source": [
    "### A quick note on broadcasting\n",
    "\n",
    "Tensors, just like NumPy arrays, support broadcasting. Two tensors are “broadcastable” if the following rules hold:\n",
    "- Each tensor has at least one dimension.\n",
    "- When iterating over the dimension sizes, starting at the trailing dimension, the dimension sizes must either be equal, one of them is 1, or one of them does not exist.\n",
    "\n",
    "If two tensors x, y are “broadcastable”, the resulting tensor size is calculated as follows:\n",
    "- If the number of dimensions of x and y are not equal, prepend 1 to the dimensions of the tensor with fewer dimensions to make them equal length.\n",
    "- Then, for each dimension size, the resulting dimension size is the max of the sizes of x and y along that dimension."
   ]
  },
  {
   "cell_type": "code",
   "execution_count": 26,
   "metadata": {},
   "outputs": [
    {
     "name": "stdout",
     "output_type": "stream",
     "text": [
      "torch.Size([5, 7, 3])\n"
     ]
    }
   ],
   "source": [
    "# Same shapes are always broadcastable\n",
    "# (i.e. the above rules always hold)\n",
    "x = torch.ones(5, 7, 3)\n",
    "y = torch.ones(5, 7, 3)\n",
    "z = (x+y)\n",
    "print(z.shape)"
   ]
  },
  {
   "cell_type": "code",
   "execution_count": 27,
   "metadata": {},
   "outputs": [
    {
     "ename": "RuntimeError",
     "evalue": "The size of tensor a (0) must match the size of tensor b (2) at non-singleton dimension 1",
     "output_type": "error",
     "traceback": [
      "\u001b[1;31m---------------------------------------------------------------------------\u001b[0m",
      "\u001b[1;31mRuntimeError\u001b[0m                              Traceback (most recent call last)",
      "Cell \u001b[1;32mIn[27], line 5\u001b[0m\n\u001b[0;32m      3\u001b[0m x \u001b[38;5;241m=\u001b[39m torch\u001b[38;5;241m.\u001b[39mones((\u001b[38;5;241m0\u001b[39m,))\n\u001b[0;32m      4\u001b[0m y \u001b[38;5;241m=\u001b[39m torch\u001b[38;5;241m.\u001b[39mones(\u001b[38;5;241m2\u001b[39m,\u001b[38;5;241m2\u001b[39m)\n\u001b[1;32m----> 5\u001b[0m z \u001b[38;5;241m=\u001b[39m (\u001b[43mx\u001b[49m\u001b[38;5;241;43m+\u001b[39;49m\u001b[43my\u001b[49m)\n\u001b[0;32m      6\u001b[0m \u001b[38;5;28mprint\u001b[39m(z\u001b[38;5;241m.\u001b[39mshape)\n",
      "\u001b[1;31mRuntimeError\u001b[0m: The size of tensor a (0) must match the size of tensor b (2) at non-singleton dimension 1"
     ]
    }
   ],
   "source": [
    "# Tensors x and y are not broadcastable,\n",
    "# because x does not have at least 1 dimension\n",
    "x = torch.ones((0,))\n",
    "y = torch.ones(2,2)\n",
    "z = (x+y)\n",
    "print(z.shape)"
   ]
  },
  {
   "cell_type": "code",
   "execution_count": 28,
   "metadata": {},
   "outputs": [
    {
     "name": "stdout",
     "output_type": "stream",
     "text": [
      "torch.Size([5, 3, 4, 1])\n"
     ]
    }
   ],
   "source": [
    "# You can line up trailing dimensions\n",
    "# Tensors x and y are broadcastable.\n",
    "# 1st trailing dimension: both have size 1\n",
    "# 2nd trailing dimension: y has size 1, using size of x and broadcasting\n",
    "# 3rd trailing dimension: x size is same as y size\n",
    "# 4th trailing dimension: y dimension doesn't exist, using x only\n",
    "x = torch.ones(5, 3, 4, 1)\n",
    "y = torch.ones(3, 1, 1)\n",
    "z = (x+y)\n",
    "print(z.shape)"
   ]
  },
  {
   "cell_type": "code",
   "execution_count": 29,
   "metadata": {},
   "outputs": [
    {
     "ename": "RuntimeError",
     "evalue": "The size of tensor a (2) must match the size of tensor b (3) at non-singleton dimension 1",
     "output_type": "error",
     "traceback": [
      "\u001b[1;31m---------------------------------------------------------------------------\u001b[0m",
      "\u001b[1;31mRuntimeError\u001b[0m                              Traceback (most recent call last)",
      "Cell \u001b[1;32mIn[29], line 5\u001b[0m\n\u001b[0;32m      3\u001b[0m x \u001b[38;5;241m=\u001b[39m torch\u001b[38;5;241m.\u001b[39mones(\u001b[38;5;241m5\u001b[39m, \u001b[38;5;241m2\u001b[39m, \u001b[38;5;241m4\u001b[39m, \u001b[38;5;241m1\u001b[39m)\n\u001b[0;32m      4\u001b[0m y \u001b[38;5;241m=\u001b[39m torch\u001b[38;5;241m.\u001b[39mones(\u001b[38;5;241m3\u001b[39m, \u001b[38;5;241m1\u001b[39m, \u001b[38;5;241m1\u001b[39m)\n\u001b[1;32m----> 5\u001b[0m z \u001b[38;5;241m=\u001b[39m (\u001b[43mx\u001b[49m\u001b[38;5;241;43m+\u001b[39;49m\u001b[43my\u001b[49m)\n\u001b[0;32m      6\u001b[0m \u001b[38;5;28mprint\u001b[39m(z\u001b[38;5;241m.\u001b[39mshape)\n",
      "\u001b[1;31mRuntimeError\u001b[0m: The size of tensor a (2) must match the size of tensor b (3) at non-singleton dimension 1"
     ]
    }
   ],
   "source": [
    "# However, x and y are not broadcastable, \n",
    "# because of third trailing dimension (2 != 3).\n",
    "x = torch.ones(5, 2, 4, 1)\n",
    "y = torch.ones(3, 1, 1)\n",
    "z = (x+y)\n",
    "print(z.shape)"
   ]
  },
  {
   "cell_type": "markdown",
   "metadata": {},
   "source": [
    "### A quick note on tensor locations\n",
    "\n",
    "By default, all tensors are used by the CPU when performing calculations on them. If your device has been enabled for GPU/CUDA computation, you will have to transfer the tensor to the GPU for faster computation. This is done in three ways:\n",
    "- Using **.to(device)** method will transfer to the best device available for computation (we defined the value of the device variable earlier, when we checked for cuda/cpu).\n",
    "- Using **.cpu()** or **.cuda()** will force transfer to the cpu or cuda respectively. Note that it might fail if you machine is not CUDA compatible.\n",
    "\n",
    "In doubt, you can check the device attribute of your tensors to find where their computations will occur. In general, two tensors with different devices cannot be used for the same computation!"
   ]
  },
  {
   "cell_type": "code",
   "execution_count": 30,
   "metadata": {},
   "outputs": [
    {
     "name": "stdout",
     "output_type": "stream",
     "text": [
      "tensor([[1., 1., 1.],\n",
      "        [1., 1., 1.]])\n",
      "cpu\n"
     ]
    }
   ],
   "source": [
    "# A tensor will by default be hosted on CPU\n",
    "a = torch.ones(2, 3)\n",
    "print(a)\n",
    "print(a.device)"
   ]
  },
  {
   "cell_type": "code",
   "execution_count": 31,
   "metadata": {},
   "outputs": [
    {
     "name": "stdout",
     "output_type": "stream",
     "text": [
      "tensor([[1., 1., 1.],\n",
      "        [1., 1., 1.]], device='cuda:0')\n",
      "cuda:0\n"
     ]
    }
   ],
   "source": [
    "# Best option, use GPU/CUDA if available, else use CPU\n",
    "b = torch.ones(2, 3).to(device)\n",
    "print(b)\n",
    "print(b.device)"
   ]
  },
  {
   "cell_type": "code",
   "execution_count": 32,
   "metadata": {},
   "outputs": [
    {
     "name": "stdout",
     "output_type": "stream",
     "text": [
      "tensor([[1., 1., 1.],\n",
      "        [1., 1., 1.]])\n",
      "cpu\n"
     ]
    }
   ],
   "source": [
    "# Force tensor to CPU\n",
    "c = torch.ones(2, 3).cpu()\n",
    "print(c)\n",
    "print(c.device)"
   ]
  },
  {
   "cell_type": "code",
   "execution_count": 33,
   "metadata": {},
   "outputs": [
    {
     "name": "stdout",
     "output_type": "stream",
     "text": [
      "tensor([[1., 1., 1.],\n",
      "        [1., 1., 1.]], device='cuda:0')\n",
      "cuda:0\n"
     ]
    }
   ],
   "source": [
    "# Force tensor to GPU/CUDA\n",
    "# (will fail if not CUDA compatible)\n",
    "d = torch.ones(2, 3).cuda()\n",
    "print(d)\n",
    "print(d.device)"
   ]
  },
  {
   "cell_type": "code",
   "execution_count": 34,
   "metadata": {},
   "outputs": [
    {
     "name": "stdout",
     "output_type": "stream",
     "text": [
      "tensor([[1., 1., 1.],\n",
      "        [1., 1., 1.]])\n",
      "cpu\n",
      "tensor([[1., 1., 1.],\n",
      "        [1., 1., 1.]], device='cuda:0')\n",
      "cuda:0\n"
     ]
    },
    {
     "ename": "RuntimeError",
     "evalue": "Expected all tensors to be on the same device, but found at least two devices, cuda:0 and cpu!",
     "output_type": "error",
     "traceback": [
      "\u001b[1;31m---------------------------------------------------------------------------\u001b[0m",
      "\u001b[1;31mRuntimeError\u001b[0m                              Traceback (most recent call last)",
      "Cell \u001b[1;32mIn[34], line 9\u001b[0m\n\u001b[0;32m      7\u001b[0m \u001b[38;5;28mprint\u001b[39m(d)\n\u001b[0;32m      8\u001b[0m \u001b[38;5;28mprint\u001b[39m(d\u001b[38;5;241m.\u001b[39mdevice)\n\u001b[1;32m----> 9\u001b[0m f \u001b[38;5;241m=\u001b[39m \u001b[43mc\u001b[49m\u001b[43m \u001b[49m\u001b[38;5;241;43m+\u001b[39;49m\u001b[43m \u001b[49m\u001b[43md\u001b[49m\n\u001b[0;32m     10\u001b[0m \u001b[38;5;28mprint\u001b[39m(f)\n",
      "\u001b[1;31mRuntimeError\u001b[0m: Expected all tensors to be on the same device, but found at least two devices, cuda:0 and cpu!"
     ]
    }
   ],
   "source": [
    "# Operations require tensors\n",
    "# to be on same device\n",
    "c = torch.ones(2, 3).cpu()\n",
    "print(c)\n",
    "print(c.device)\n",
    "d = torch.ones(2, 3).cuda()\n",
    "print(d)\n",
    "print(d.device)\n",
    "f = c + d\n",
    "print(f)"
   ]
  },
  {
   "cell_type": "markdown",
   "metadata": {},
   "source": [
    "### A few practice activities\n",
    "\n",
    "In order to practice your PyTorch Tensor skills, you may try to manually implement your own version of typical algorithms we ran on lists/Numpy arrays in previous classes, using the basic operations on PyTorch tensors.\n",
    "\n",
    "For instance, try writing algorithms:\n",
    "- Finding the maximum, minimum, average, median values of a given 1D tensor,\n",
    "- Transposing a given 2D tensor,\n",
    "- Sorting a given 1D tensor (bubble sort, insertion sort, selection sort, quick sort, merge sort),\n",
    "- Generating a 1D array containing the first K Fibonacci numbers with K given,\n",
    "- Etc.\n",
    "\n",
    "Later, you can check their performance times compared to their numpy/pytorch implementations when running them on both CPU and CUDA (if available).\n",
    "\n",
    "In which scenarios is it slower to implement said functions and run them on GPU?"
   ]
  },
  {
   "cell_type": "markdown",
   "metadata": {},
   "source": [
    "### What's next?\n",
    "\n",
    "In the next notebook, we will investigate how to use the PyTorch framework, and start implementing Neural Networks more efficiently, starting with the init, forward propagation and loss for our model."
   ]
  },
  {
   "cell_type": "code",
   "execution_count": null,
   "metadata": {},
   "outputs": [],
   "source": []
  }
 ],
 "metadata": {
  "kernelspec": {
   "display_name": "Python 3 (ipykernel)",
   "language": "python",
   "name": "python3"
  },
  "language_info": {
   "codemirror_mode": {
    "name": "ipython",
    "version": 3
   },
   "file_extension": ".py",
   "mimetype": "text/x-python",
   "name": "python",
   "nbconvert_exporter": "python",
   "pygments_lexer": "ipython3",
   "version": "3.11.4"
  }
 },
 "nbformat": 4,
 "nbformat_minor": 2
}
