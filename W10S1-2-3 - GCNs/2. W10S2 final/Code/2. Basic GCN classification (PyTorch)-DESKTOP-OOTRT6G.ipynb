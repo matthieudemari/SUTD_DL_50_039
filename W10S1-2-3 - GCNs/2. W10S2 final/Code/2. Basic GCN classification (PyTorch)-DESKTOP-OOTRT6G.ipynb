{
 "cells": [
  {
   "cell_type": "markdown",
   "metadata": {},
   "source": [
    "# 2. Basic GCN classification (PyTorch)\n",
    "\n",
    "### About this notebook\n",
    "\n",
    "This notebook was used in the 50.039 Deep Learning course at the Singapore University of Technology and Design.\n",
    "\n",
    "**Author:** Matthieu DE MARI (matthieu_demari@sutd.edu.sg)\n",
    "\n",
    "**Version:** 1.1 (27/03/2022)\n",
    "\n",
    "**Requirements:**\n",
    "- Python 3 (tested on v3.9.6)\n",
    "- Imageio\n",
    "- Matplotlib (tested on v3.5.1)\n",
    "- Numpy (tested on v1.22.1)\n",
    "- Torch (tested on v1.10.1)"
   ]
  },
  {
   "cell_type": "code",
   "execution_count": null,
   "metadata": {},
   "outputs": [],
   "source": [
    "import numpy as np\n",
    "import torch\n",
    "import torch.nn as nn\n",
    "import torch.optim as optim\n",
    "import matplotlib.pyplot as plt\n",
    "import imageio"
   ]
  },
  {
   "cell_type": "markdown",
   "metadata": {},
   "source": [
    "### Dataset"
   ]
  },
  {
   "cell_type": "code",
   "execution_count": null,
   "metadata": {},
   "outputs": [],
   "source": [
    "# Adjacency matrix for Zachary graph\n",
    "adj = np.array([[0,1,1,1,1,1,1,1,1,0,1,1,1,1,0,0,0,1,0,1,0,1,0,0,0,0,0,0,0,0,0,1,0,0],\n",
    "                [1,0,1,1,0,0,0,1,0,0,0,0,0,1,0,0,0,1,0,1,0,1,0,0,0,0,0,0,0,0,1,0,0,0],\n",
    "                [1,1,0,1,0,0,0,1,1,1,0,0,0,1,0,0,0,0,0,0,0,0,0,0,0,0,0,1,1,0,0,0,1,0],\n",
    "                [1,1,1,0,0,0,0,1,0,0,0,0,1,1,0,0,0,0,0,0,0,0,0,0,0,0,0,0,0,0,0,0,0,0],\n",
    "                [1,0,0,0,0,0,1,0,0,0,1,0,0,0,0,0,0,0,0,0,0,0,0,0,0,0,0,0,0,0,0,0,0,0],\n",
    "                [1,0,0,0,0,0,1,0,0,0,1,0,0,0,0,0,1,0,0,0,0,0,0,0,0,0,0,0,0,0,0,0,0,0],\n",
    "                [1,0,0,0,1,1,0,0,0,0,0,0,0,0,0,0,1,0,0,0,0,0,0,0,0,0,0,0,0,0,0,0,0,0],\n",
    "                [1,1,1,1,0,0,0,0,0,0,0,0,0,0,0,0,0,0,0,0,0,0,0,0,0,0,0,0,0,0,0,0,0,0],\n",
    "                [1,0,1,0,0,0,0,0,0,0,0,0,0,0,0,0,0,0,0,0,0,0,0,0,0,0,0,0,0,0,1,0,1,1],\n",
    "                [0,0,1,0,0,0,0,0,0,0,0,0,0,0,0,0,0,0,0,0,0,0,0,0,0,0,0,0,0,0,0,0,0,1],\n",
    "                [1,0,0,0,1,1,0,0,0,0,0,0,0,0,0,0,0,0,0,0,0,0,0,0,0,0,0,0,0,0,0,0,0,0],\n",
    "                [1,0,0,0,0,0,0,0,0,0,0,0,0,0,0,0,0,0,0,0,0,0,0,0,0,0,0,0,0,0,0,0,0,0],\n",
    "                [1,0,0,1,0,0,0,0,0,0,0,0,0,0,0,0,0,0,0,0,0,0,0,0,0,0,0,0,0,0,0,0,0,0],\n",
    "                [1,1,1,1,0,0,0,0,0,0,0,0,0,0,0,0,0,0,0,0,0,0,0,0,0,0,0,0,0,0,0,0,0,1],\n",
    "                [0,0,0,0,0,0,0,0,0,0,0,0,0,0,0,0,0,0,0,0,0,0,0,0,0,0,0,0,0,0,0,0,1,1],\n",
    "                [0,0,0,0,0,0,0,0,0,0,0,0,0,0,0,0,0,0,0,0,0,0,0,0,0,0,0,0,0,0,0,0,1,1],\n",
    "                [0,0,0,0,0,1,1,0,0,0,0,0,0,0,0,0,0,0,0,0,0,0,0,0,0,0,0,0,0,0,0,0,0,0],\n",
    "                [1,1,0,0,0,0,0,0,0,0,0,0,0,0,0,0,0,0,0,0,0,0,0,0,0,0,0,0,0,0,0,0,0,0],\n",
    "                [0,0,0,0,0,0,0,0,0,0,0,0,0,0,0,0,0,0,0,0,0,0,0,0,0,0,0,0,0,0,0,0,1,1],\n",
    "                [1,1,0,0,0,0,0,0,0,0,0,0,0,0,0,0,0,0,0,0,0,0,0,0,0,0,0,0,0,0,0,0,0,1],\n",
    "                [0,0,0,0,0,0,0,0,0,0,0,0,0,0,0,0,0,0,0,0,0,0,0,0,0,0,0,0,0,0,0,0,1,1],\n",
    "                [1,1,0,0,0,0,0,0,0,0,0,0,0,0,0,0,0,0,0,0,0,0,0,0,0,0,0,0,0,0,0,0,0,0],\n",
    "                [0,0,0,0,0,0,0,0,0,0,0,0,0,0,0,0,0,0,0,0,0,0,0,0,0,0,0,0,0,0,0,0,1,1],\n",
    "                [0,0,0,0,0,0,0,0,0,0,0,0,0,0,0,0,0,0,0,0,0,0,0,0,0,1,0,1,0,1,0,0,1,1],\n",
    "                [0,0,0,0,0,0,0,0,0,0,0,0,0,0,0,0,0,0,0,0,0,0,0,0,0,1,0,1,0,0,0,1,0,0],\n",
    "                [0,0,0,0,0,0,0,0,0,0,0,0,0,0,0,0,0,0,0,0,0,0,0,1,1,0,0,0,0,0,0,1,0,0],\n",
    "                [0,0,0,0,0,0,0,0,0,0,0,0,0,0,0,0,0,0,0,0,0,0,0,0,0,0,0,0,0,1,0,0,0,1],\n",
    "                [0,0,1,0,0,0,0,0,0,0,0,0,0,0,0,0,0,0,0,0,0,0,0,1,1,0,0,0,0,0,0,0,0,1],\n",
    "                [0,0,1,0,0,0,0,0,0,0,0,0,0,0,0,0,0,0,0,0,0,0,0,0,0,0,0,0,0,0,0,1,0,1],\n",
    "                [0,0,0,0,0,0,0,0,0,0,0,0,0,0,0,0,0,0,0,0,0,0,0,1,0,0,1,0,0,0,0,0,1,1],\n",
    "                [0,1,0,0,0,0,0,0,1,0,0,0,0,0,0,0,0,0,0,0,0,0,0,0,0,0,0,0,0,0,0,0,1,1],\n",
    "                [1,0,0,0,0,0,0,0,0,0,0,0,0,0,0,0,0,0,0,0,0,0,0,0,1,1,0,0,1,0,0,0,1,1],\n",
    "                [0,0,1,0,0,0,0,0,1,0,0,0,0,0,1,1,0,0,1,0,1,0,1,1,0,0,0,0,0,1,1,1,0,1],\n",
    "                [0,0,0,0,0,0,0,0,1,1,0,0,0,1,1,1,0,0,1,1,1,0,1,1,0,0,1,1,1,1,1,1,1,0]])\n",
    "A = torch.Tensor(adj)"
   ]
  },
  {
   "cell_type": "code",
   "execution_count": null,
   "metadata": {},
   "outputs": [],
   "source": [
    "# Labels for all nodes\n",
    "# (0 is admin, 34 is instructor, all others are -1 because they are currently unlabeled)\n",
    "current = torch.tensor([0, -1, -1, -1, -1, -1, -1, -1, -1, -1, -1, -1, -1, -1, -1, -1, \\\n",
    "                       -1, -1, -1, -1, -1, -1, -1, -1, -1, -1, -1, -1, -1, -1, -1, -1, -1, 1])"
   ]
  },
  {
   "cell_type": "code",
   "execution_count": null,
   "metadata": {},
   "outputs": [],
   "source": [
    "# Ground truth for reference\n",
    "ground_truth = torch.tensor([0, 0, 0, 0 ,0 ,0 ,0, 0, 1, 1, 0 ,0, 0, 0, 1 ,1 ,0 ,0, \\\n",
    "                             1, 0, 1, 0 ,1 ,1, 1, 1, 1 ,1 ,1, 1, 1, 1, 1, 1 ])"
   ]
  },
  {
   "cell_type": "markdown",
   "metadata": {},
   "source": [
    "### GCN with basic graph convolutions, no nodes features"
   ]
  },
  {
   "cell_type": "code",
   "execution_count": null,
   "metadata": {},
   "outputs": [],
   "source": [
    "class GCNConv_Layer(nn.Module):\n",
    "    \"\"\"\n",
    "    Standard GCN convolution layer class\n",
    "    \"\"\"\n",
    "    \n",
    "    def __init__(self, adj, input_channels, output_channels):\n",
    "        super().__init__()\n",
    "        self.A_hat = adj + torch.eye(adj.size(0))\n",
    "        self.D = torch.diag(torch.sum(adj, 1))\n",
    "        self.D = self.D.inverse()\n",
    "        self.A_hat = torch.mm(self.D, self.A_hat)\n",
    "        self.W = nn.Parameter(torch.rand(input_channels, output_channels))\n",
    "    \n",
    "    def forward(self, X):\n",
    "        out = torch.relu(torch.mm(torch.mm(self.A_hat, X), self.W))\n",
    "        return out"
   ]
  },
  {
   "cell_type": "code",
   "execution_count": null,
   "metadata": {},
   "outputs": [],
   "source": [
    "class Net1(torch.nn.Module):\n",
    "    \"\"\"\n",
    "    Standard GCN model class\n",
    "    \"\"\"\n",
    "    \n",
    "    def __init__(self, adj, num_feat, num_hid, num_out):\n",
    "        super().__init__()\n",
    "        self.conv1 = GCNConv_Layer(adj, num_feat, num_hid)\n",
    "        self.conv2 = GCNConv_Layer(adj, num_hid, num_out)\n",
    "        \n",
    "    def forward(self, X):\n",
    "        X  = self.conv1(X)\n",
    "        X = self.conv2(X)\n",
    "        return X"
   ]
  },
  {
   "cell_type": "code",
   "execution_count": null,
   "metadata": {},
   "outputs": [],
   "source": [
    "# No relevant features for nodes \n",
    "# Using X = identity will make nodes features irrelevant\n",
    "# and the model will have to learn from adjacency matrix only\n",
    "X = torch.eye(A.size(0))"
   ]
  },
  {
   "cell_type": "code",
   "execution_count": null,
   "metadata": {},
   "outputs": [],
   "source": [
    "model = Net1(A, X.size(0), 10, 2)\n",
    "criterion = torch.nn.CrossEntropyLoss(ignore_index = -1)\n",
    "optimizer = optim.SGD(model.parameters(), lr = 0.01, momentum = 0.9)\n",
    "loss = criterion(model(X), ground_truth)"
   ]
  },
  {
   "cell_type": "code",
   "execution_count": null,
   "metadata": {},
   "outputs": [],
   "source": [
    "history1 = []\n",
    "for i in range(500):\n",
    "    # Forward pass\n",
    "    optimizer.zero_grad()\n",
    "    loss = criterion(model(X), current)\n",
    "    \n",
    "    # Backprop\n",
    "    loss.backward()\n",
    "    optimizer.step()\n",
    "    \n",
    "    # For display later\n",
    "    l = (model(X))\n",
    "\n",
    "    if i%10 == 0:\n",
    "        history1.append(loss.item())\n",
    "        print(\"Cross Entropy Loss (iter = {}): =\".format(i), loss.item())"
   ]
  },
  {
   "cell_type": "code",
   "execution_count": null,
   "metadata": {
    "scrolled": true
   },
   "outputs": [],
   "source": [
    "plt.scatter(l.detach().numpy()[:,0], l.detach().numpy()[:,1], \\\n",
    "            c = ground_truth)"
   ]
  },
  {
   "cell_type": "markdown",
   "metadata": {},
   "source": [
    "### GCN with Kipf graph convolutions, no nodes features"
   ]
  },
  {
   "cell_type": "code",
   "execution_count": null,
   "metadata": {},
   "outputs": [],
   "source": [
    "class GCNKipf_Layer(nn.Module):\n",
    "    \"\"\"\n",
    "    Kipf GCN convolution layer class\n",
    "    \"\"\"\n",
    "    \n",
    "    def __init__(self, adj, input_channels, output_channels):\n",
    "        super().__init__()\n",
    "        self.A_hat = adj + torch.eye(adj.size(0))\n",
    "        self.D = torch.diag(torch.sum(adj, 1))\n",
    "        self.D = self.D.inverse().sqrt()\n",
    "        self.A_hat = torch.mm(torch.mm(self.D, self.A_hat), self.D)\n",
    "        self.W = nn.Parameter(torch.rand(input_channels, output_channels))\n",
    "    \n",
    "    def forward(self, X):\n",
    "        out = torch.relu(torch.mm(torch.mm(self.A_hat, X), self.W))\n",
    "        return out"
   ]
  },
  {
   "cell_type": "code",
   "execution_count": null,
   "metadata": {},
   "outputs": [],
   "source": [
    "class Net2(torch.nn.Module):\n",
    "    \"\"\"\n",
    "    Standard GCN model class\n",
    "    \"\"\"\n",
    "    \n",
    "    def __init__(self, adj, num_feat, num_hid, num_out):\n",
    "        super().__init__()\n",
    "        self.conv1 = GCNKipf_Layer(adj, num_feat, num_hid)\n",
    "        self.conv2 = GCNKipf_Layer(adj, num_hid, num_out)\n",
    "        \n",
    "    def forward(self, X):\n",
    "        X  = self.conv1(X)\n",
    "        X = self.conv2(X)\n",
    "        return X"
   ]
  },
  {
   "cell_type": "code",
   "execution_count": null,
   "metadata": {},
   "outputs": [],
   "source": [
    "# No relevant features for nodes \n",
    "# Using X = identity will make nodes features irrelevant\n",
    "# and the model will have to learn from adjacency matrix only\n",
    "X = torch.eye(A.size(0))"
   ]
  },
  {
   "cell_type": "code",
   "execution_count": null,
   "metadata": {},
   "outputs": [],
   "source": [
    "model2 = Net1(A, X.size(0), 10, 2)\n",
    "criterion = torch.nn.CrossEntropyLoss(ignore_index = -1)\n",
    "optimizer = optim.SGD(model2.parameters(), lr = 0.01, momentum = 0.9)\n",
    "loss = criterion(model2(X), ground_truth)"
   ]
  },
  {
   "cell_type": "code",
   "execution_count": null,
   "metadata": {},
   "outputs": [],
   "source": [
    "history2 = []\n",
    "for i in range(500):\n",
    "    # Forward pass\n",
    "    optimizer.zero_grad()\n",
    "    loss = criterion(model2(X), current)\n",
    "    \n",
    "    # Backprop\n",
    "    loss.backward()\n",
    "    optimizer.step()\n",
    "    \n",
    "    # For display later\n",
    "    l = (model2(X))\n",
    "\n",
    "    if i%10 == 0:\n",
    "        history2.append(loss.item())\n",
    "        print(\"Cross Entropy Loss (iter = {}): =\".format(i), loss.item())"
   ]
  },
  {
   "cell_type": "code",
   "execution_count": null,
   "metadata": {
    "scrolled": true
   },
   "outputs": [],
   "source": [
    "plt.scatter(l.detach().numpy()[:,0], l.detach().numpy()[:,1], \\\n",
    "            c = ground_truth)"
   ]
  },
  {
   "cell_type": "markdown",
   "metadata": {},
   "source": [
    "### GCN with Kipf graph convolutions, adding hop-distance to admin/instructor as nodes features"
   ]
  },
  {
   "cell_type": "code",
   "execution_count": null,
   "metadata": {},
   "outputs": [],
   "source": [
    "def bfs(adj, start, goal):\n",
    "    \"\"\"\n",
    "    Gives hop-distance between node start and node goal\n",
    "    for given adjacency matrix.\n",
    "    Returns zero if start = goal\n",
    "    or goal not reachable from start.\n",
    "    \"\"\"\n",
    "    \n",
    "    if start == goal:\n",
    "        return float(0)\n",
    "    queue = [start]\n",
    "    visited = []\n",
    "    dist = float(0)\n",
    "    \n",
    "    while(len(queue) > 0):\n",
    "        dist += 1\n",
    "        temp = []\n",
    "        for q in queue:\n",
    "            neighbours_node = np.argwhere(adj[q]).reshape(1, -1)[0]\n",
    "            if goal in neighbours_node:\n",
    "                return dist\n",
    "            else:\n",
    "                for n in neighbours_node:\n",
    "                    not_visited = (n not in visited)\n",
    "                    not_queue = (n not in queue)\n",
    "                    not_temp = (n not in temp)\n",
    "                    if not_visited and not_queue and not_temp:\n",
    "                        temp.append(n)\n",
    "        visited.extend(queue)\n",
    "        queue = temp\n",
    "    return float(-1)"
   ]
  },
  {
   "cell_type": "code",
   "execution_count": null,
   "metadata": {},
   "outputs": [],
   "source": [
    "y = bfs(adj, 1, 33)\n",
    "print(y)"
   ]
  },
  {
   "cell_type": "code",
   "execution_count": null,
   "metadata": {},
   "outputs": [],
   "source": [
    "# Adding relevant features (hop distance to nodes admin and instructor)\n",
    "node_features = np.array([[bfs(adj, i, 0), bfs(adj, i, 33)] for i in range(34)])\n",
    "X2 = torch.from_numpy(node_features).float()\n",
    "print(X2)"
   ]
  },
  {
   "cell_type": "code",
   "execution_count": null,
   "metadata": {},
   "outputs": [],
   "source": [
    "model3 = Net2(A, X2.size(1), 10, 2)\n",
    "criterion = torch.nn.CrossEntropyLoss(ignore_index = -1)\n",
    "optimizer = optim.SGD(model3.parameters(), lr = 0.01, momentum = 0.9)\n",
    "loss = criterion(model3(X2), ground_truth)"
   ]
  },
  {
   "cell_type": "code",
   "execution_count": null,
   "metadata": {},
   "outputs": [],
   "source": [
    "history3 = []\n",
    "for i in range(500):\n",
    "    # Forward pass\n",
    "    optimizer.zero_grad()\n",
    "    loss = criterion(model3(X2), current)\n",
    "    \n",
    "    # Backprop\n",
    "    loss.backward()\n",
    "    optimizer.step()\n",
    "    \n",
    "    # For display later\n",
    "    l = (model3(X2))\n",
    "\n",
    "    if i%10 == 0:\n",
    "        history3.append(loss.item())\n",
    "        print(\"Cross Entropy Loss (iter = {}): =\".format(i), loss.item())"
   ]
  },
  {
   "cell_type": "code",
   "execution_count": null,
   "metadata": {
    "scrolled": true
   },
   "outputs": [],
   "source": [
    "plt.scatter(l.detach().numpy()[:,0], l.detach().numpy()[:,1], \\\n",
    "            c = ground_truth)"
   ]
  },
  {
   "cell_type": "markdown",
   "metadata": {},
   "source": [
    "### Loss comparison"
   ]
  },
  {
   "cell_type": "code",
   "execution_count": null,
   "metadata": {},
   "outputs": [],
   "source": [
    "plt.figure(figsize = (10, 7))\n",
    "plt.plot(history1, label = 'Basic GCN, no node features')\n",
    "plt.plot(history2, color = 'red', label = 'Kipf GCN, no node features')\n",
    "plt.plot(history3, color = 'green', label = 'Kipf GCN, hop-distance in node features')\n",
    "plt.legend(loc = 'best')"
   ]
  },
  {
   "cell_type": "code",
   "execution_count": null,
   "metadata": {},
   "outputs": [],
   "source": []
  }
 ],
 "metadata": {
  "kernelspec": {
   "display_name": "Python 3 (ipykernel)",
   "language": "python",
   "name": "python3"
  },
  "language_info": {
   "codemirror_mode": {
    "name": "ipython",
    "version": 3
   },
   "file_extension": ".py",
   "mimetype": "text/x-python",
   "name": "python",
   "nbconvert_exporter": "python",
   "pygments_lexer": "ipython3",
   "version": "3.10.7"
  }
 },
 "nbformat": 4,
 "nbformat_minor": 4
}
