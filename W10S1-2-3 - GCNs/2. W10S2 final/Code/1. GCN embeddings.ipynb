{
 "cells": [
  {
   "cell_type": "markdown",
   "metadata": {},
   "source": [
    "# 1. GCN embeddings\n",
    "\n",
    "### About this notebook\n",
    "\n",
    "This notebook was used in the 50.039 Deep Learning course at the Singapore University of Technology and Design.\n",
    "\n",
    "**Author:** Matthieu DE MARI (matthieu_demari@sutd.edu.sg)\n",
    "\n",
    "**Version:** 1.1 (27/03/2022)\n",
    "\n",
    "**Requirements:**\n",
    "- Python 3 (tested on v3.9.6)\n",
    "- Networkx\n",
    "- Numpy (tested on v1.22.1)"
   ]
  },
  {
   "cell_type": "code",
   "execution_count": 27,
   "metadata": {},
   "outputs": [],
   "source": [
    "import matplotlib.pyplot as plt\n",
    "from networkx import karate_club_graph, to_numpy_matrix\n",
    "import numpy as np"
   ]
  },
  {
   "cell_type": "markdown",
   "metadata": {},
   "source": [
    "## 1. Identity propagation"
   ]
  },
  {
   "cell_type": "code",
   "execution_count": 28,
   "metadata": {},
   "outputs": [
    {
     "name": "stdout",
     "output_type": "stream",
     "text": [
      "A:\n",
      " [[0. 1. 1. 0.]\n",
      " [1. 0. 1. 1.]\n",
      " [1. 1. 0. 0.]\n",
      " [0. 1. 0. 0.]]\n"
     ]
    }
   ],
   "source": [
    "# Adjacency matrix\n",
    "A = np.matrix([\n",
    "    [0, 1, 1, 0],\n",
    "    [1, 0, 1, 1], \n",
    "    [1, 1, 0, 0],\n",
    "    [0, 1, 0, 0]],\n",
    "    dtype=float)\n",
    "print(\"A:\\n\", A)"
   ]
  },
  {
   "cell_type": "code",
   "execution_count": 29,
   "metadata": {},
   "outputs": [
    {
     "name": "stdout",
     "output_type": "stream",
     "text": [
      "X:\n",
      " [[ 1 -1]\n",
      " [ 2 -2]\n",
      " [ 3 -3]\n",
      " [ 4 -4]]\n"
     ]
    }
   ],
   "source": [
    "# Feature matrix\n",
    "X = np.matrix([[i+1, -i-1] for i in range(A.shape[0])])\n",
    "print(\"X:\\n\", X)"
   ]
  },
  {
   "cell_type": "code",
   "execution_count": 30,
   "metadata": {},
   "outputs": [],
   "source": [
    "# Identity function as activation\n",
    "def f_identity(X):\n",
    "    return X"
   ]
  },
  {
   "cell_type": "code",
   "execution_count": 31,
   "metadata": {},
   "outputs": [
    {
     "name": "stdout",
     "output_type": "stream",
     "text": [
      "H_next:\n",
      " [[ 5. -5.]\n",
      " [ 8. -8.]\n",
      " [ 3. -3.]\n",
      " [ 2. -2.]]\n"
     ]
    }
   ],
   "source": [
    "# Propagation rule\n",
    "H_next = f_identity(A*X)\n",
    "print(\"H_next:\\n\", H_next)"
   ]
  },
  {
   "cell_type": "markdown",
   "metadata": {},
   "source": [
    "## Adding self-loop features"
   ]
  },
  {
   "cell_type": "code",
   "execution_count": 32,
   "metadata": {},
   "outputs": [
    {
     "name": "stdout",
     "output_type": "stream",
     "text": [
      "I:\n",
      " [[1. 0. 0. 0.]\n",
      " [0. 1. 0. 0.]\n",
      " [0. 0. 1. 0.]\n",
      " [0. 0. 0. 1.]]\n"
     ]
    }
   ],
   "source": [
    "# Identity matrix\n",
    "I = np.matrix(np.eye(A.shape[0]))\n",
    "print(\"I:\\n\", I)"
   ]
  },
  {
   "cell_type": "code",
   "execution_count": 33,
   "metadata": {},
   "outputs": [
    {
     "name": "stdout",
     "output_type": "stream",
     "text": [
      "A:\n",
      " [[0. 1. 1. 0.]\n",
      " [1. 0. 1. 1.]\n",
      " [1. 1. 0. 0.]\n",
      " [0. 1. 0. 0.]]\n",
      "\n",
      "\n",
      "A_hat:\n",
      " [[1. 1. 1. 0.]\n",
      " [1. 1. 1. 1.]\n",
      " [1. 1. 1. 0.]\n",
      " [0. 1. 0. 1.]]\n"
     ]
    }
   ],
   "source": [
    "# Define A_hat as A + I\n",
    "A_hat = A + I\n",
    "print(\"A:\\n\", A)\n",
    "print(\"\\n\")\n",
    "print(\"A_hat:\\n\", A_hat)"
   ]
  },
  {
   "cell_type": "code",
   "execution_count": 34,
   "metadata": {},
   "outputs": [
    {
     "name": "stdout",
     "output_type": "stream",
     "text": [
      "H_next:\n",
      " [[ 5. -5.]\n",
      " [ 8. -8.]\n",
      " [ 3. -3.]\n",
      " [ 2. -2.]]\n",
      "\n",
      "\n",
      "H_next2:\n",
      " [[  6.  -6.]\n",
      " [ 10. -10.]\n",
      " [  6.  -6.]\n",
      " [  6.  -6.]]\n"
     ]
    }
   ],
   "source": [
    "# Propagation rule\n",
    "H_next2 = f_identity(A_hat*X)\n",
    "print(\"H_next:\\n\", H_next)\n",
    "print(\"\\n\")\n",
    "print(\"H_next2:\\n\", H_next2)"
   ]
  },
  {
   "cell_type": "markdown",
   "metadata": {},
   "source": [
    "## Enhancing the propagation rule #1: normalizing features"
   ]
  },
  {
   "cell_type": "code",
   "execution_count": 35,
   "metadata": {},
   "outputs": [
    {
     "name": "stdout",
     "output_type": "stream",
     "text": [
      "D:\n",
      " [[2. 0. 0. 0.]\n",
      " [0. 3. 0. 0.]\n",
      " [0. 0. 2. 0.]\n",
      " [0. 0. 0. 1.]]\n"
     ]
    }
   ],
   "source": [
    "# Define the degree matrix\n",
    "D = np.array(np.sum(A, axis=0))[0]\n",
    "D = np.matrix(np.diag(D))\n",
    "print(\"D:\\n\", D)"
   ]
  },
  {
   "cell_type": "code",
   "execution_count": 36,
   "metadata": {},
   "outputs": [
    {
     "name": "stdout",
     "output_type": "stream",
     "text": [
      "D_inv:\n",
      " [[0.5        0.         0.         0.        ]\n",
      " [0.         0.33333333 0.         0.        ]\n",
      " [0.         0.         0.5        0.        ]\n",
      " [0.         0.         0.         1.        ]]\n"
     ]
    }
   ],
   "source": [
    "# Invert degree matrix\n",
    "D_inv = D**-1\n",
    "print(\"D_inv:\\n\", D_inv)"
   ]
  },
  {
   "cell_type": "code",
   "execution_count": 37,
   "metadata": {},
   "outputs": [
    {
     "name": "stdout",
     "output_type": "stream",
     "text": [
      "N:\n",
      " [[0.         0.5        0.5        0.        ]\n",
      " [0.33333333 0.         0.33333333 0.33333333]\n",
      " [0.5        0.5        0.         0.        ]\n",
      " [0.         1.         0.         0.        ]]\n"
     ]
    }
   ],
   "source": [
    "# Nomalization at a glance\n",
    "N = D_inv*A\n",
    "print(\"N:\\n\", N)"
   ]
  },
  {
   "cell_type": "code",
   "execution_count": 38,
   "metadata": {},
   "outputs": [
    {
     "name": "stdout",
     "output_type": "stream",
     "text": [
      "H_next3:\n",
      " [[ 2.5        -2.5       ]\n",
      " [ 2.66666667 -2.66666667]\n",
      " [ 1.5        -1.5       ]\n",
      " [ 2.         -2.        ]]\n"
     ]
    }
   ],
   "source": [
    "# Update propagation rule\n",
    "H_next3 = f_identity(N*X)\n",
    "print(\"H_next3:\\n\", H_next3)"
   ]
  },
  {
   "cell_type": "markdown",
   "metadata": {},
   "source": [
    "## Enhancing the propagation rule #2: adding weights"
   ]
  },
  {
   "cell_type": "code",
   "execution_count": 39,
   "metadata": {},
   "outputs": [
    {
     "name": "stdout",
     "output_type": "stream",
     "text": [
      "W:\n",
      " [[ 1 -1]\n",
      " [-1  1]]\n"
     ]
    }
   ],
   "source": [
    "# Weight matrix\n",
    "W = np.matrix([[1, -1],[-1, 1]])\n",
    "print(\"W:\\n\", W)"
   ]
  },
  {
   "cell_type": "code",
   "execution_count": 40,
   "metadata": {},
   "outputs": [
    {
     "name": "stdout",
     "output_type": "stream",
     "text": [
      "D_hat:\n",
      " [[3. 0. 0. 0.]\n",
      " [0. 4. 0. 0.]\n",
      " [0. 0. 3. 0.]\n",
      " [0. 0. 0. 2.]]\n"
     ]
    }
   ],
   "source": [
    "# Define D_hat as the degree matrix of A_hat\n",
    "D_hat = np.array(np.sum(A_hat, axis=0))[0]\n",
    "D_hat = np.matrix(np.diag(D_hat))\n",
    "print(\"D_hat:\\n\", D_hat)"
   ]
  },
  {
   "cell_type": "code",
   "execution_count": 41,
   "metadata": {},
   "outputs": [
    {
     "name": "stdout",
     "output_type": "stream",
     "text": [
      "N_hat:\n",
      " [[0.33333333 0.33333333 0.33333333 0.        ]\n",
      " [0.25       0.25       0.25       0.25      ]\n",
      " [0.33333333 0.33333333 0.33333333 0.        ]\n",
      " [0.         0.5        0.         0.5       ]]\n"
     ]
    }
   ],
   "source": [
    "# Define N_hat (normalization)\n",
    "N_hat = (D_hat**-1)*A_hat\n",
    "print(\"N_hat:\\n\", N_hat)"
   ]
  },
  {
   "cell_type": "code",
   "execution_count": 42,
   "metadata": {},
   "outputs": [
    {
     "name": "stdout",
     "output_type": "stream",
     "text": [
      "H_next4:\n",
      " [[ 2.  -2. ]\n",
      " [ 2.5 -2.5]\n",
      " [ 2.  -2. ]\n",
      " [ 3.  -3. ]]\n"
     ]
    }
   ],
   "source": [
    "# Propagation rule\n",
    "H_next4 = f_identity(N_hat*X)\n",
    "print(\"H_next4:\\n\", H_next4)"
   ]
  },
  {
   "cell_type": "code",
   "execution_count": 43,
   "metadata": {},
   "outputs": [
    {
     "name": "stdout",
     "output_type": "stream",
     "text": [
      "H_next4:\n",
      " [[ 4. -4.]\n",
      " [ 5. -5.]\n",
      " [ 4. -4.]\n",
      " [ 6. -6.]]\n"
     ]
    }
   ],
   "source": [
    "# Propagation rule\n",
    "H_next4 = f_identity(N_hat*X*W)\n",
    "print(\"H_next4:\\n\", H_next4)"
   ]
  },
  {
   "cell_type": "markdown",
   "metadata": {},
   "source": [
    "## Enhancing the propagation rule #3: adding a proper activation function"
   ]
  },
  {
   "cell_type": "code",
   "execution_count": 44,
   "metadata": {},
   "outputs": [],
   "source": [
    "# ReLU as activation function\n",
    "def f_relu(X):\n",
    "    # ReLU(X) = max(X, 0) implemented using fancy indexing\n",
    "    X[X<0] = 0\n",
    "    return X"
   ]
  },
  {
   "cell_type": "code",
   "execution_count": 45,
   "metadata": {},
   "outputs": [
    {
     "name": "stdout",
     "output_type": "stream",
     "text": [
      "H_next5:\n",
      " [[4. 0.]\n",
      " [5. 0.]\n",
      " [4. 0.]\n",
      " [6. 0.]]\n"
     ]
    }
   ],
   "source": [
    "# Propagation rule\n",
    "H_next5 = f_relu(N_hat*X*W)\n",
    "print(\"H_next5:\\n\", H_next5)"
   ]
  },
  {
   "cell_type": "markdown",
   "metadata": {},
   "source": [
    "## Enhancing the propagation rule #4: Kipf propagation rule"
   ]
  },
  {
   "cell_type": "code",
   "execution_count": 46,
   "metadata": {},
   "outputs": [],
   "source": [
    "# Half invert of a diagonal matrix\n",
    "def half_invert(X):\n",
    "    # Half inversion of a diagonal matrix\n",
    "    for i in range(X.shape[0]):\n",
    "        X[i,i] = X[i,i]**(-1/2)\n",
    "    return X"
   ]
  },
  {
   "cell_type": "code",
   "execution_count": 47,
   "metadata": {},
   "outputs": [
    {
     "name": "stdout",
     "output_type": "stream",
     "text": [
      "D_halfinv:\n",
      " [[0.57735027 0.         0.         0.        ]\n",
      " [0.         0.5        0.         0.        ]\n",
      " [0.         0.         0.57735027 0.        ]\n",
      " [0.         0.         0.         0.70710678]]\n"
     ]
    }
   ],
   "source": [
    "# Half invert of degree matrix D_hat\n",
    "D_halfinv = half_invert(D_hat)\n",
    "print(\"D_halfinv:\\n\", D_halfinv)"
   ]
  },
  {
   "cell_type": "code",
   "execution_count": 48,
   "metadata": {},
   "outputs": [
    {
     "name": "stdout",
     "output_type": "stream",
     "text": [
      "N_kipf:\n",
      " [[0.33333333 0.28867513 0.33333333 0.        ]\n",
      " [0.28867513 0.25       0.28867513 0.35355339]\n",
      " [0.33333333 0.28867513 0.33333333 0.        ]\n",
      " [0.         0.35355339 0.         0.5       ]]\n"
     ]
    }
   ],
   "source": [
    "# Kipf normalization (a.k.a. symmetric normalization)\n",
    "N_kipf = D_halfinv*A_hat*D_halfinv\n",
    "print(\"N_kipf:\\n\", N_kipf)"
   ]
  },
  {
   "cell_type": "code",
   "execution_count": 49,
   "metadata": {},
   "outputs": [
    {
     "name": "stdout",
     "output_type": "stream",
     "text": [
      "N_hat:\n",
      " [[0.33333333 0.33333333 0.33333333 0.        ]\n",
      " [0.25       0.25       0.25       0.25      ]\n",
      " [0.33333333 0.33333333 0.33333333 0.        ]\n",
      " [0.         0.5        0.         0.5       ]]\n",
      "\n",
      "\n",
      "N_kipf:\n",
      " [[0.33333333 0.28867513 0.33333333 0.        ]\n",
      " [0.28867513 0.25       0.28867513 0.35355339]\n",
      " [0.33333333 0.28867513 0.33333333 0.        ]\n",
      " [0.         0.35355339 0.         0.5       ]]\n"
     ]
    }
   ],
   "source": [
    "# Compare conventional normalization and Kipf\n",
    "print(\"N_hat:\\n\", N_hat)\n",
    "print(\"\\n\")\n",
    "print(\"N_kipf:\\n\", N_kipf)"
   ]
  },
  {
   "cell_type": "code",
   "execution_count": 50,
   "metadata": {},
   "outputs": [
    {
     "name": "stdout",
     "output_type": "stream",
     "text": [
      "H_next6:\n",
      " [[3.82136721 0.        ]\n",
      " [6.1378282  0.        ]\n",
      " [3.82136721 0.        ]\n",
      " [5.41421356 0.        ]]\n"
     ]
    }
   ],
   "source": [
    "# Propagation rule\n",
    "H_next6 = f_relu(N_kipf*X*W)\n",
    "print(\"H_next6:\\n\", H_next6)"
   ]
  },
  {
   "cell_type": "markdown",
   "metadata": {},
   "source": [
    "## Applying these ideas to a graph dataset"
   ]
  },
  {
   "cell_type": "code",
   "execution_count": 65,
   "metadata": {},
   "outputs": [],
   "source": [
    "# Fix numpy seed for reproducibility\n",
    "seed_number = 28\n",
    "#seed_number = 14\n",
    "np.random.seed(seed_number)"
   ]
  },
  {
   "cell_type": "code",
   "execution_count": 66,
   "metadata": {},
   "outputs": [],
   "source": [
    "# Import Zachary's karate club dataset\n",
    "zkc = karate_club_graph()"
   ]
  },
  {
   "cell_type": "code",
   "execution_count": 67,
   "metadata": {},
   "outputs": [
    {
     "name": "stdout",
     "output_type": "stream",
     "text": [
      "{'graph_attr_dict_factory': <class 'dict'>, 'node_dict_factory': <class 'dict'>, 'node_attr_dict_factory': <class 'dict'>, 'adjlist_outer_dict_factory': <class 'dict'>, 'adjlist_inner_dict_factory': <class 'dict'>, 'edge_attr_dict_factory': <class 'dict'>, 'graph': {'name': \"Zachary's Karate Club\"}, '_node': {0: {'club': 'Mr. Hi'}, 1: {'club': 'Mr. Hi'}, 2: {'club': 'Mr. Hi'}, 3: {'club': 'Mr. Hi'}, 4: {'club': 'Mr. Hi'}, 5: {'club': 'Mr. Hi'}, 6: {'club': 'Mr. Hi'}, 7: {'club': 'Mr. Hi'}, 8: {'club': 'Mr. Hi'}, 9: {'club': 'Officer'}, 10: {'club': 'Mr. Hi'}, 11: {'club': 'Mr. Hi'}, 12: {'club': 'Mr. Hi'}, 13: {'club': 'Mr. Hi'}, 14: {'club': 'Officer'}, 15: {'club': 'Officer'}, 16: {'club': 'Mr. Hi'}, 17: {'club': 'Mr. Hi'}, 18: {'club': 'Officer'}, 19: {'club': 'Mr. Hi'}, 20: {'club': 'Officer'}, 21: {'club': 'Mr. Hi'}, 22: {'club': 'Officer'}, 23: {'club': 'Officer'}, 24: {'club': 'Officer'}, 25: {'club': 'Officer'}, 26: {'club': 'Officer'}, 27: {'club': 'Officer'}, 28: {'club': 'Officer'}, 29: {'club': 'Officer'}, 30: {'club': 'Officer'}, 31: {'club': 'Officer'}, 32: {'club': 'Officer'}, 33: {'club': 'Officer'}}, '_adj': {0: {1: {}, 2: {}, 3: {}, 4: {}, 5: {}, 6: {}, 7: {}, 8: {}, 10: {}, 11: {}, 12: {}, 13: {}, 17: {}, 19: {}, 21: {}, 31: {}}, 1: {0: {}, 2: {}, 3: {}, 7: {}, 13: {}, 17: {}, 19: {}, 21: {}, 30: {}}, 2: {0: {}, 1: {}, 3: {}, 7: {}, 8: {}, 9: {}, 13: {}, 27: {}, 28: {}, 32: {}}, 3: {0: {}, 1: {}, 2: {}, 7: {}, 12: {}, 13: {}}, 4: {0: {}, 6: {}, 10: {}}, 5: {0: {}, 6: {}, 10: {}, 16: {}}, 6: {0: {}, 4: {}, 5: {}, 16: {}}, 7: {0: {}, 1: {}, 2: {}, 3: {}}, 8: {0: {}, 2: {}, 30: {}, 32: {}, 33: {}}, 9: {2: {}, 33: {}}, 10: {0: {}, 4: {}, 5: {}}, 11: {0: {}}, 12: {0: {}, 3: {}}, 13: {0: {}, 1: {}, 2: {}, 3: {}, 33: {}}, 14: {32: {}, 33: {}}, 15: {32: {}, 33: {}}, 16: {5: {}, 6: {}}, 17: {0: {}, 1: {}}, 18: {32: {}, 33: {}}, 19: {0: {}, 1: {}, 33: {}}, 20: {32: {}, 33: {}}, 21: {0: {}, 1: {}}, 22: {32: {}, 33: {}}, 23: {25: {}, 27: {}, 29: {}, 32: {}, 33: {}}, 24: {25: {}, 27: {}, 31: {}}, 25: {23: {}, 24: {}, 31: {}}, 26: {29: {}, 33: {}}, 27: {2: {}, 23: {}, 24: {}, 33: {}}, 28: {2: {}, 31: {}, 33: {}}, 29: {23: {}, 26: {}, 32: {}, 33: {}}, 30: {1: {}, 8: {}, 32: {}, 33: {}}, 31: {0: {}, 24: {}, 25: {}, 28: {}, 32: {}, 33: {}}, 32: {2: {}, 8: {}, 14: {}, 15: {}, 18: {}, 20: {}, 22: {}, 23: {}, 29: {}, 30: {}, 31: {}, 33: {}}, 33: {8: {}, 9: {}, 13: {}, 14: {}, 15: {}, 18: {}, 19: {}, 20: {}, 22: {}, 23: {}, 26: {}, 27: {}, 28: {}, 29: {}, 30: {}, 31: {}, 32: {}}}, 'nodes': NodeView((0, 1, 2, 3, 4, 5, 6, 7, 8, 9, 10, 11, 12, 13, 14, 15, 16, 17, 18, 19, 20, 21, 22, 23, 24, 25, 26, 27, 28, 29, 30, 31, 32, 33))}\n"
     ]
    }
   ],
   "source": [
    "# Check what is in zkc\n",
    "print(zkc.__dict__)"
   ]
  },
  {
   "cell_type": "code",
   "execution_count": 68,
   "metadata": {},
   "outputs": [
    {
     "name": "stdout",
     "output_type": "stream",
     "text": [
      "Node index: 0, node labels: {'club': 'Mr. Hi'}\n",
      "Node index: 1, node labels: {'club': 'Mr. Hi'}\n",
      "Node index: 2, node labels: {'club': 'Mr. Hi'}\n",
      "Node index: 3, node labels: {'club': 'Mr. Hi'}\n",
      "Node index: 4, node labels: {'club': 'Mr. Hi'}\n",
      "Node index: 5, node labels: {'club': 'Mr. Hi'}\n",
      "Node index: 6, node labels: {'club': 'Mr. Hi'}\n",
      "Node index: 7, node labels: {'club': 'Mr. Hi'}\n",
      "Node index: 8, node labels: {'club': 'Mr. Hi'}\n",
      "Node index: 9, node labels: {'club': 'Officer'}\n",
      "Node index: 10, node labels: {'club': 'Mr. Hi'}\n",
      "Node index: 11, node labels: {'club': 'Mr. Hi'}\n",
      "Node index: 12, node labels: {'club': 'Mr. Hi'}\n",
      "Node index: 13, node labels: {'club': 'Mr. Hi'}\n",
      "Node index: 14, node labels: {'club': 'Officer'}\n",
      "Node index: 15, node labels: {'club': 'Officer'}\n",
      "Node index: 16, node labels: {'club': 'Mr. Hi'}\n",
      "Node index: 17, node labels: {'club': 'Mr. Hi'}\n",
      "Node index: 18, node labels: {'club': 'Officer'}\n",
      "Node index: 19, node labels: {'club': 'Mr. Hi'}\n",
      "Node index: 20, node labels: {'club': 'Officer'}\n",
      "Node index: 21, node labels: {'club': 'Mr. Hi'}\n",
      "Node index: 22, node labels: {'club': 'Officer'}\n",
      "Node index: 23, node labels: {'club': 'Officer'}\n",
      "Node index: 24, node labels: {'club': 'Officer'}\n",
      "Node index: 25, node labels: {'club': 'Officer'}\n",
      "Node index: 26, node labels: {'club': 'Officer'}\n",
      "Node index: 27, node labels: {'club': 'Officer'}\n",
      "Node index: 28, node labels: {'club': 'Officer'}\n",
      "Node index: 29, node labels: {'club': 'Officer'}\n",
      "Node index: 30, node labels: {'club': 'Officer'}\n",
      "Node index: 31, node labels: {'club': 'Officer'}\n",
      "Node index: 32, node labels: {'club': 'Officer'}\n",
      "Node index: 33, node labels: {'club': 'Officer'}\n"
     ]
    }
   ],
   "source": [
    "nodes_index_list = []\n",
    "for node_key, node_value in zkc._node.items():\n",
    "    print(\"Node index: {}, node labels: {}\".format(node_key, node_value))\n",
    "    nodes_index_list.append(node_key)"
   ]
  },
  {
   "cell_type": "code",
   "execution_count": 69,
   "metadata": {},
   "outputs": [
    {
     "name": "stdout",
     "output_type": "stream",
     "text": [
      "nodes_labels:\n",
      " ['Mr. Hi', 'Mr. Hi', 'Mr. Hi', 'Mr. Hi', 'Mr. Hi', 'Mr. Hi', 'Mr. Hi', 'Mr. Hi', 'Mr. Hi', 'Officer', 'Mr. Hi', 'Mr. Hi', 'Mr. Hi', 'Mr. Hi', 'Officer', 'Officer', 'Mr. Hi', 'Mr. Hi', 'Officer', 'Mr. Hi', 'Officer', 'Mr. Hi', 'Officer', 'Officer', 'Officer', 'Officer', 'Officer', 'Officer', 'Officer', 'Officer', 'Officer', 'Officer', 'Officer', 'Officer']\n"
     ]
    }
   ],
   "source": [
    "# Retrieve node labels\n",
    "nodes_labels = [node_value['club'] for node_value in zkc._node.values()]\n",
    "print(\"nodes_labels:\\n\", nodes_labels)"
   ]
  },
  {
   "cell_type": "code",
   "execution_count": 70,
   "metadata": {},
   "outputs": [
    {
     "name": "stdout",
     "output_type": "stream",
     "text": [
      "nodes_labels_binary:\n",
      " [1, 1, 1, 1, 1, 1, 1, 1, 1, 0, 1, 1, 1, 1, 0, 0, 1, 1, 0, 1, 0, 1, 0, 0, 0, 0, 0, 0, 0, 0, 0, 0, 0, 0]\n"
     ]
    }
   ],
   "source": [
    "# Retrieve node labels (binary representation)\n",
    "nodes_labels_binary = [int(node_value['club'] == 'Mr. Hi') for node_value in zkc._node.values()]\n",
    "print(\"nodes_labels_binary:\\n\", nodes_labels_binary)"
   ]
  },
  {
   "cell_type": "code",
   "execution_count": 71,
   "metadata": {},
   "outputs": [
    {
     "name": "stdout",
     "output_type": "stream",
     "text": [
      "nodes_index_list:  [0, 1, 2, 3, 4, 5, 6, 7, 8, 9, 10, 11, 12, 13, 14, 15, 16, 17, 18, 19, 20, 21, 22, 23, 24, 25, 26, 27, 28, 29, 30, 31, 32, 33]\n",
      "number_of_nodes:  34\n"
     ]
    }
   ],
   "source": [
    "print(\"nodes_index_list: \", nodes_index_list)\n",
    "number_of_nodes = len(nodes_index_list)\n",
    "print(\"number_of_nodes: \", number_of_nodes)"
   ]
  },
  {
   "cell_type": "code",
   "execution_count": 72,
   "metadata": {},
   "outputs": [
    {
     "name": "stdout",
     "output_type": "stream",
     "text": [
      "A:\n",
      " [[0. 1. 1. ... 1. 0. 0.]\n",
      " [1. 0. 1. ... 0. 0. 0.]\n",
      " [1. 1. 0. ... 0. 1. 0.]\n",
      " ...\n",
      " [1. 0. 0. ... 0. 1. 1.]\n",
      " [0. 0. 1. ... 1. 0. 1.]\n",
      " [0. 0. 0. ... 1. 1. 0.]]\n"
     ]
    }
   ],
   "source": [
    "# Retrieve adjacency matrix\n",
    "A = to_numpy_matrix(zkc, nodelist = nodes_index_list)\n",
    "print(\"A:\\n\", A)"
   ]
  },
  {
   "cell_type": "code",
   "execution_count": 73,
   "metadata": {},
   "outputs": [
    {
     "name": "stdout",
     "output_type": "stream",
     "text": [
      "A_hat:\n",
      " [[1. 1. 1. ... 1. 0. 0.]\n",
      " [1. 1. 1. ... 0. 0. 0.]\n",
      " [1. 1. 1. ... 0. 1. 0.]\n",
      " ...\n",
      " [1. 0. 0. ... 1. 1. 1.]\n",
      " [0. 0. 1. ... 1. 1. 1.]\n",
      " [0. 0. 0. ... 1. 1. 1.]]\n"
     ]
    }
   ],
   "source": [
    "# Reconstruct A_hat\n",
    "I = np.eye(number_of_nodes)\n",
    "A_hat = A + I\n",
    "print(\"A_hat:\\n\", A_hat)"
   ]
  },
  {
   "cell_type": "code",
   "execution_count": 74,
   "metadata": {},
   "outputs": [
    {
     "name": "stdout",
     "output_type": "stream",
     "text": [
      "D_hat:\n",
      " [[17.  0.  0. ...  0.  0.  0.]\n",
      " [ 0. 10.  0. ...  0.  0.  0.]\n",
      " [ 0.  0. 11. ...  0.  0.  0.]\n",
      " ...\n",
      " [ 0.  0.  0. ...  7.  0.  0.]\n",
      " [ 0.  0.  0. ...  0. 13.  0.]\n",
      " [ 0.  0.  0. ...  0.  0. 18.]]\n"
     ]
    }
   ],
   "source": [
    "# Reconstruct D_hat\n",
    "D_hat = np.array(np.sum(A_hat, axis=0))[0]\n",
    "D_hat = np.matrix(np.diag(D_hat))\n",
    "print(\"D_hat:\\n\", D_hat)"
   ]
  },
  {
   "cell_type": "code",
   "execution_count": 75,
   "metadata": {},
   "outputs": [
    {
     "name": "stdout",
     "output_type": "stream",
     "text": [
      "X:\n",
      " [[1. 0. 0. ... 0. 0. 0.]\n",
      " [0. 1. 0. ... 0. 0. 0.]\n",
      " [0. 0. 1. ... 0. 0. 0.]\n",
      " ...\n",
      " [0. 0. 0. ... 1. 0. 0.]\n",
      " [0. 0. 0. ... 0. 1. 0.]\n",
      " [0. 0. 0. ... 0. 0. 1.]]\n"
     ]
    }
   ],
   "source": [
    "# Graph features matrix (no features here, so let us use an identity matrix instead)\n",
    "X = np.eye(number_of_nodes)\n",
    "print(\"X:\\n\", X)"
   ]
  },
  {
   "cell_type": "code",
   "execution_count": 83,
   "metadata": {},
   "outputs": [
    {
     "name": "stdout",
     "output_type": "stream",
     "text": [
      "W1:\n",
      " [[ 2.24077311e+00 -1.01569370e-01 -8.25137102e-01  1.27232790e-01]\n",
      " [-2.26333756e+00  4.42790710e-01 -8.83892467e-01 -1.40449877e+00]\n",
      " [ 2.70534657e-01 -1.37669190e-01  1.17432207e+00 -7.89184265e-01]\n",
      " [ 5.38711436e-01 -2.86587084e-01 -1.12787001e+00  1.23394418e+00]\n",
      " [-2.89666516e-02 -7.11505074e-01  1.18011230e+00 -7.61644482e-01]\n",
      " [ 1.26207943e+00 -4.71803572e-01 -1.32969026e+00  1.39339624e+00]\n",
      " [ 1.02852780e+00  1.55893133e+00  1.85206799e-02 -1.55776231e+00]\n",
      " [-8.17371846e-01 -1.51413885e-02 -1.41731594e-01 -1.00642128e+00]\n",
      " [ 8.75559470e-02 -1.28643519e+00  1.30016957e-01  3.44131717e-01]\n",
      " [-3.64541021e-01 -5.72937137e-01  5.91192308e-01 -6.45087839e-01]\n",
      " [-4.59512224e-01 -3.26089375e-01 -5.89430128e-03  5.98496574e-01]\n",
      " [ 1.35506468e-03 -4.03241117e-02  1.11524260e+00 -9.95567374e-01]\n",
      " [ 2.42293274e-01 -1.52303190e-01  2.58147547e-01 -1.91011154e+00]\n",
      " [ 1.51609464e-01 -5.34764589e-01 -1.17314567e+00  6.26092086e-02]\n",
      " [ 9.91235917e-01 -9.81045534e-01 -1.42720775e+00  1.45645513e-01]\n",
      " [-3.41849122e-01 -6.85522869e-01 -1.30014815e+00  4.21972800e-01]\n",
      " [ 1.65484717e+00 -6.77004769e-02  1.34787636e+00 -1.39820864e+00]\n",
      " [ 9.76768283e-01  1.96581706e+00 -2.92651728e-01 -1.38135862e+00]\n",
      " [-5.62127241e-01 -1.87744364e+00 -2.37599727e-01 -1.19252923e+00]\n",
      " [ 1.69656542e-02 -1.66321605e-01  1.46998629e+00  1.20840262e+00]\n",
      " [-1.15684331e+00 -2.62787311e-01 -1.60308733e+00  1.09074592e-03]\n",
      " [ 7.92679702e-03 -7.82996045e-01 -6.65510031e-01 -8.66423792e-01]\n",
      " [-3.37451310e-01  2.11714853e+00  4.54349880e-01 -4.03065685e-01]\n",
      " [ 2.88050068e-01  6.10694024e-01  7.39298643e-01  4.34999004e-01]\n",
      " [-4.97166867e-01 -2.51792151e-01 -1.34422971e+00 -1.21654930e+00]\n",
      " [-5.90895255e-01 -9.38952307e-01 -1.04494391e+00  3.44149386e-01]\n",
      " [ 9.36676087e-01 -7.58123634e-01  4.46471104e-01 -4.01469672e-01]\n",
      " [ 6.61494052e-01 -1.27992805e+00  8.82966065e-01  2.58860286e-01]\n",
      " [ 8.32407661e-01 -5.67710265e-01  7.70190484e-01  2.30063565e-01]\n",
      " [-1.08287803e+00 -1.16307376e+00  2.07554935e+00 -1.93980230e-01]\n",
      " [ 2.54540736e-01  3.22296647e-01  1.19297571e+00  4.29876322e-01]\n",
      " [-2.36181326e+00  2.21880410e-01 -1.51707465e+00  1.32129307e+00]\n",
      " [ 1.90400495e+00 -4.82654817e-01 -1.92977139e+00 -3.82000652e-01]\n",
      " [ 3.08774727e-01  5.79715381e-01 -1.44272345e+00 -1.17243076e+00]]\n",
      "\n",
      "\n",
      "W2:\n",
      " [[-1.22454014  0.38653921]\n",
      " [ 1.48777312 -0.78491282]\n",
      " [ 0.72388978 -0.05619701]\n",
      " [-0.23379288  0.87187896]]\n"
     ]
    }
   ],
   "source": [
    "# Initialize weights for two layers, using Normal(0,1) random variables\n",
    "W1 = np.random.normal(loc = 0, scale = 1, size = (number_of_nodes, 4))\n",
    "W2 = np.random.normal(loc = 0, size = (W1.shape[1], 2))\n",
    "print(\"W1:\\n\", W1)\n",
    "print(\"\\n\")\n",
    "print(\"W2:\\n\", W2)"
   ]
  },
  {
   "cell_type": "code",
   "execution_count": 84,
   "metadata": {},
   "outputs": [],
   "source": [
    "# Propagation rule as a function (normalized ReLU)\n",
    "def gcn_normalized_layer(A_hat, D_hat, X, W):\n",
    "    return f_relu((D_hat**-1)*A_hat*X*W)"
   ]
  },
  {
   "cell_type": "code",
   "execution_count": 85,
   "metadata": {},
   "outputs": [
    {
     "name": "stdout",
     "output_type": "stream",
     "text": [
      "H_layer1:\n",
      " [[0.05259408 0.         0.         0.        ]\n",
      " [0.13771207 0.07058551 0.         0.        ]\n",
      " [0.29471281 0.         0.         0.        ]\n",
      " [0.05188751 0.         0.         0.        ]\n",
      " [0.69520551 0.10494188 0.0919004  0.        ]\n",
      " [1.14534306 0.11835371 0.         0.        ]\n",
      " [1.23145217 0.04127057 0.0783364  0.        ]\n",
      " [0.         0.         0.         0.        ]\n",
      " [0.84436402 0.         0.         0.        ]\n",
      " [0.07158945 0.         0.10759698 0.        ]\n",
      " [0.75359342 0.         0.         0.33937028]\n",
      " [1.12106409 0.         0.14505275 0.        ]\n",
      " [1.00725927 0.         0.         0.        ]\n",
      " [0.20784431 0.         0.         0.        ]\n",
      " [1.0680052  0.         0.         0.        ]\n",
      " [0.62364352 0.         0.         0.        ]\n",
      " [1.31515147 0.33980909 0.01223559 0.        ]\n",
      " [0.31806795 0.7690128  0.         0.        ]\n",
      " [0.55021748 0.         0.         0.        ]\n",
      " [0.07579398 0.18865378 0.         0.        ]\n",
      " [0.35197879 0.         0.         0.        ]\n",
      " [0.         0.         0.         0.        ]\n",
      " [0.62510946 0.7380697  0.         0.        ]\n",
      " [0.24809175 0.         0.         0.        ]\n",
      " [0.         0.         0.         0.17693836]\n",
      " [0.         0.         0.         0.22097304]\n",
      " [0.05419093 0.         0.35976567 0.        ]\n",
      " [0.20633733 0.         0.00192672 0.        ]\n",
      " [0.         0.02405408 0.         0.        ]\n",
      " [0.47092556 0.         0.         0.        ]\n",
      " [0.05830776 0.         0.         0.        ]\n",
      " [0.26229787 0.         0.         0.        ]\n",
      " [0.         0.         0.         0.        ]\n",
      " [0.01254511 0.         0.         0.02602115]]\n",
      "H_layer2:\n",
      " [[0.         0.14310183]\n",
      " [0.00641287 0.        ]\n",
      " [0.         0.05829509]\n",
      " [0.         0.08883102]\n",
      " [0.         0.3069777 ]\n",
      " [0.         0.32749871]\n",
      " [0.         0.24629995]\n",
      " [0.         0.03042639]\n",
      " [0.         0.08511704]\n",
      " [0.         0.05436001]\n",
      " [0.         0.28463125]\n",
      " [0.         0.22275669]\n",
      " [0.         0.14324381]\n",
      " [0.         0.04333473]\n",
      " [0.         0.14678745]\n",
      " [0.         0.08953305]\n",
      " [0.         0.34332688]\n",
      " [0.2088691  0.        ]\n",
      " [0.         0.08007237]\n",
      " [0.00959835 0.        ]\n",
      " [0.         0.05453003]\n",
      " [0.         0.00605244]\n",
      " [0.10372103 0.        ]\n",
      " [0.         0.09629597]\n",
      " [0.         0.13199204]\n",
      " [0.         0.13605404]\n",
      " [0.         0.07009894]\n",
      " [0.         0.09425395]\n",
      " [0.         0.05599065]\n",
      " [0.         0.06123881]\n",
      " [0.         0.07485643]\n",
      " [0.         0.0681864 ]\n",
      " [0.         0.11804778]\n",
      " [0.         0.0814104 ]]\n"
     ]
    }
   ],
   "source": [
    "# Compute output for GCN normalized layer 1\n",
    "H_layer1 = gcn_normalized_layer(A_hat, D_hat, X, W1)\n",
    "# Compute output for GCN normalized layer 2\n",
    "H_layer2 = gcn_normalized_layer(A_hat, D_hat, H_layer1, W2)\n",
    "print(\"H_layer1:\\n\", H_layer1)\n",
    "print(\"H_layer2:\\n\", H_layer2)"
   ]
  },
  {
   "cell_type": "code",
   "execution_count": 86,
   "metadata": {},
   "outputs": [
    {
     "name": "stdout",
     "output_type": "stream",
     "text": [
      "{0: array([0.        , 0.14310183]), 1: array([0.00641287, 0.        ]), 2: array([0.        , 0.05829509]), 3: array([0.        , 0.08883102]), 4: array([0.       , 0.3069777]), 5: array([0.        , 0.32749871]), 6: array([0.        , 0.24629995]), 7: array([0.        , 0.03042639]), 8: array([0.        , 0.08511704]), 9: array([0.        , 0.05436001]), 10: array([0.        , 0.28463125]), 11: array([0.        , 0.22275669]), 12: array([0.        , 0.14324381]), 13: array([0.        , 0.04333473]), 14: array([0.        , 0.14678745]), 15: array([0.        , 0.08953305]), 16: array([0.        , 0.34332688]), 17: array([0.2088691, 0.       ]), 18: array([0.        , 0.08007237]), 19: array([0.00959835, 0.        ]), 20: array([0.        , 0.05453003]), 21: array([0.        , 0.00605244]), 22: array([0.10372103, 0.        ]), 23: array([0.        , 0.09629597]), 24: array([0.        , 0.13199204]), 25: array([0.        , 0.13605404]), 26: array([0.        , 0.07009894]), 27: array([0.        , 0.09425395]), 28: array([0.        , 0.05599065]), 29: array([0.        , 0.06123881]), 30: array([0.        , 0.07485643]), 31: array([0.       , 0.0681864]), 32: array([0.        , 0.11804778]), 33: array([0.       , 0.0814104])}\n"
     ]
    }
   ],
   "source": [
    "nodes_embeddings = {node: np.array(H_layer2)[node] for node in zkc.nodes()}\n",
    "print(nodes_embeddings)"
   ]
  },
  {
   "cell_type": "code",
   "execution_count": 87,
   "metadata": {},
   "outputs": [],
   "source": [
    "# Display our embeddings\n",
    "def display_after_embedding(nodes_embeddings, nodes_labels_binary):\n",
    "    plt.figure(figsize = (7, 5))\n",
    "    for node_key, node_value in nodes_embeddings.items():\n",
    "        label_bool = nodes_labels_binary[node_key]\n",
    "        marker_node = '+' if label_bool else 'o'\n",
    "        color_node = 'b' if label_bool else 'r'\n",
    "        plt.scatter(node_value[0], node_value[1], color = color_node, marker = marker_node)\n",
    "    plt.plot()\n",
    "    plt.show()"
   ]
  },
  {
   "cell_type": "code",
   "execution_count": 88,
   "metadata": {},
   "outputs": [
    {
     "data": {
      "image/png": "[encoded data removed]",
      "text/plain": [
       "<Figure size 504x360 with 1 Axes>"
      ]
     },
     "metadata": {
      "needs_background": "light"
     },
     "output_type": "display_data"
    }
   ],
   "source": [
    "display_after_embedding(nodes_embeddings, nodes_labels_binary)"
   ]
  },
  {
   "cell_type": "markdown",
   "metadata": {},
   "source": [
    "## Applying these ideas to a graph dataset - Kipf normalization"
   ]
  },
  {
   "cell_type": "code",
   "execution_count": null,
   "metadata": {},
   "outputs": [],
   "source": [
    "# Fix numpy seed for reproducibility\n",
    "seed_number = 121\n",
    "np.random.seed(seed_number)"
   ]
  },
  {
   "cell_type": "code",
   "execution_count": null,
   "metadata": {},
   "outputs": [],
   "source": [
    "# Initialize weights for two layers, using Normal(0,1) random variables\n",
    "W1 = np.random.normal(loc = 0, scale = 1, size = (number_of_nodes, 4))\n",
    "W2 = np.random.normal(loc = 0, size = (W1.shape[1], 2))\n",
    "print(\"W1:\\n\", W1)\n",
    "print(\"\\n\")\n",
    "print(\"W2:\\n\", W2)"
   ]
  },
  {
   "cell_type": "code",
   "execution_count": null,
   "metadata": {},
   "outputs": [],
   "source": [
    "# Propagation rule as a function (Kipf ReLU)\n",
    "def gcn_kipf_layer(A_hat, D_hat, X, W):\n",
    "    D_halfinv = half_invert(D_hat)\n",
    "    return f_relu(D_halfinv*A_hat*D_halfinv*X*W)"
   ]
  },
  {
   "cell_type": "code",
   "execution_count": null,
   "metadata": {},
   "outputs": [],
   "source": [
    "# Compute output for GCN Kipf layer 1\n",
    "H_layer1 = gcn_kipf_layer(A_hat, D_hat, X, W1)\n",
    "# Compute output for GCN Kipf layer 2\n",
    "H_layer2 = gcn_kipf_layer(A_hat, D_hat, H_layer1, W2)\n",
    "print(\"H_layer1:\\n\", H_layer1)\n",
    "print(\"H_layer2:\\n\", H_layer2)"
   ]
  },
  {
   "cell_type": "code",
   "execution_count": null,
   "metadata": {},
   "outputs": [],
   "source": [
    "nodes_embeddings = {node: np.array(H_layer2)[node] for node in zkc.nodes()}\n",
    "print(nodes_embeddings)"
   ]
  },
  {
   "cell_type": "code",
   "execution_count": null,
   "metadata": {},
   "outputs": [],
   "source": [
    "# Display our embeddings\n",
    "display_after_embedding(nodes_embeddings, nodes_labels_binary)"
   ]
  },
  {
   "cell_type": "markdown",
   "metadata": {},
   "source": [
    "## Draft: seed finder for appropriate representations"
   ]
  },
  {
   "cell_type": "code",
   "execution_count": null,
   "metadata": {},
   "outputs": [],
   "source": [
    "for seed_number in range(1, 90):\n",
    "    np.random.seed(seed_number)\n",
    "    print(\"---\")\n",
    "    print(\"seed_number: \", seed_number)\n",
    "    W1 = np.random.normal(loc = 0, scale = 1, size = (number_of_nodes, 4))\n",
    "    W2 = np.random.normal(loc = 0, size = (W1.shape[1], 2))\n",
    "    H_layer1 = gcn_normalized_layer(A_hat, D_hat, X, W1)\n",
    "    H_layer2 = gcn_normalized_layer(A_hat, D_hat, H_layer1, W2)\n",
    "    nodes_embeddings = {node: np.array(H_layer2)[node] for node in zkc.nodes()}\n",
    "    display_after_embedding(nodes_embeddings, nodes_labels_binary)"
   ]
  },
  {
   "cell_type": "code",
   "execution_count": null,
   "metadata": {},
   "outputs": [],
   "source": [
    "for seed_number in range(91, 190):\n",
    "    np.random.seed(seed_number)\n",
    "    print(\"---\")\n",
    "    print(\"seed_number: \", seed_number)\n",
    "    W1 = np.random.normal(loc = 0, scale = 1, size = (number_of_nodes, 4))\n",
    "    W2 = np.random.normal(loc = 0, size = (W1.shape[1], 2))\n",
    "    H_layer1 = gcn_kipf_layer(A_hat, D_hat, X, W1)\n",
    "    H_layer2 = gcn_kipf_layer(A_hat, D_hat, H_layer1, W2)\n",
    "    nodes_embeddings = {node: np.array(H_layer2)[node] for node in zkc.nodes()}\n",
    "    display_after_embedding(nodes_embeddings, nodes_labels_binary)"
   ]
  },
  {
   "cell_type": "code",
   "execution_count": null,
   "metadata": {},
   "outputs": [],
   "source": []
  }
 ],
 "metadata": {
  "kernelspec": {
   "display_name": "Python 3",
   "language": "python",
   "name": "python3"
  },
  "language_info": {
   "codemirror_mode": {
    "name": "ipython",
    "version": 3
   },
   "file_extension": ".py",
   "mimetype": "text/x-python",
   "name": "python",
   "nbconvert_exporter": "python",
   "pygments_lexer": "ipython3",
   "version": "3.9.6"
  }
 },
 "nbformat": 4,
 "nbformat_minor": 4
}
