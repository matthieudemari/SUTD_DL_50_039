{
 "cells": [
  {
   "cell_type": "markdown",
   "id": "0c953f0a",
   "metadata": {},
   "source": [
    "# 3. Hybrid Transformers (maybe) on MNIST\n",
    "\n",
    "### About this notebook\n",
    "\n",
    "This is a bonus notebook that was used in the 50.039 Deep Learning course at the Singapore University of Technology and Design.\n",
    "\n",
    "**Author:** Matthieu DE MARI (matthieu_demari@sutd.edu.sg)\n",
    "\n",
    "**Version:** 1.1 (29/08/2023)\n",
    "\n",
    "**Requirements:**\n",
    "- Python 3 (tested on v3.11.4)\n",
    "- Matplotlib (tested on v3.7.2)\n",
    "- Numpy (tested on v1.25.2)\n",
    "- Torch (tested on v2.0.1+cu118)\n",
    "- Torchvision (tested on v0.15.2+cu118)\n",
    "- We also strongly recommend setting up CUDA on your machine! (At this point, honestly, it is almost mandatory).\n",
    "\n",
    "### Imports and CUDA"
   ]
  },
  {
   "cell_type": "code",
   "execution_count": 1,
   "id": "e780228f",
   "metadata": {},
   "outputs": [],
   "source": [
    "import torch\n",
    "import torch.nn as nn\n",
    "import torch.nn.functional as F\n",
    "import torchvision.transforms as transforms\n",
    "import torchvision.datasets as datasets\n",
    "CUDA = torch.cuda.is_available()\n",
    "device = torch.device(\"cuda\" if CUDA else \"cpu\")"
   ]
  },
  {
   "cell_type": "markdown",
   "id": "16b348e5",
   "metadata": {},
   "source": [
    "### Load MNIST\n",
    "\n",
    "At this point, do I really need to explain what this does?"
   ]
  },
  {
   "cell_type": "code",
   "execution_count": 2,
   "id": "b55e58f1",
   "metadata": {},
   "outputs": [],
   "source": [
    "# Load the MNIST dataset and prepare dataloaders as usual\n",
    "mnist_train = datasets.MNIST(root='.', train = True, download = True,\n",
    "                             transform = transforms.ToTensor())\n",
    "mnist_test = datasets.MNIST(root='.', train = False, download = True,\n",
    "                            transform = transforms.ToTensor())\n",
    "train_loader = torch.utils.data.DataLoader(mnist_train, batch_size = 32, shuffle = True)\n",
    "test_loader = torch.utils.data.DataLoader(mnist_test, batch_size = 32, shuffle = False)"
   ]
  },
  {
   "cell_type": "markdown",
   "id": "c0ed71cd",
   "metadata": {},
   "source": [
    "### Define self-attention layer, and Transformer model\n",
    "\n",
    "We will have to flatten the images to process them with Linear operations and attention operations."
   ]
  },
  {
   "cell_type": "code",
   "execution_count": 3,
   "id": "7036659a",
   "metadata": {},
   "outputs": [],
   "source": [
    "# Define a self-attention layer implementation\n",
    "class SelfAttentionLayer(nn.Module):\n",
    "    def __init__(self, in_features):\n",
    "        super(SelfAttentionLayer, self).__init__()\n",
    "        self.in_features = in_features\n",
    "        self.query = nn.Linear(in_features, in_features)\n",
    "        self.key = nn.Linear(in_features, in_features)\n",
    "        self.value = nn.Linear(in_features, in_features)\n",
    "\n",
    "    def forward(self, x):\n",
    "        batch_size = x.size(0)\n",
    "        query = self.query(x).view(batch_size, -1, self.in_features)\n",
    "        key = self.key(x).view(batch_size, -1, self.in_features)\n",
    "        value = self.value(x).view(batch_size, -1, self.in_features)\n",
    "        attention_weights = F.softmax(torch.bmm(query, key.transpose(1, 2))/(self.in_features**0.5), dim = 2)\n",
    "        out = torch.bmm(attention_weights, value).view(batch_size, -1)\n",
    "        return out"
   ]
  },
  {
   "cell_type": "code",
   "execution_count": 4,
   "id": "4aa13450",
   "metadata": {},
   "outputs": [],
   "source": [
    "# Neural network definition using self-attention\n",
    "class Transformer(nn.Module):\n",
    "    def __init__(self):\n",
    "        super(Transformer, self).__init__()\n",
    "        self.fc1 = nn.Linear(28*28, 128)\n",
    "        self.attention1 = SelfAttentionLayer(128)\n",
    "        self.fc2 = nn.Linear(128, 64)\n",
    "        self.attention2 = SelfAttentionLayer(64)\n",
    "        self.fc3 = nn.Linear(64, 10)\n",
    "\n",
    "    def forward(self, x):\n",
    "        x = x.view(-1, 28*28)\n",
    "        x = F.relu(self.fc1(x))\n",
    "        x = self.attention1(x)\n",
    "        x = F.relu(self.fc2(x))\n",
    "        x = self.attention2(x)\n",
    "        x = self.fc3(x)\n",
    "        return x"
   ]
  },
  {
   "cell_type": "markdown",
   "id": "63922484",
   "metadata": {},
   "source": [
    "### Try out our model\n",
    "\n",
    "Create model and see its structure"
   ]
  },
  {
   "cell_type": "code",
   "execution_count": 5,
   "id": "b5ac4d77",
   "metadata": {},
   "outputs": [
    {
     "name": "stdout",
     "output_type": "stream",
     "text": [
      "Transformer(\n",
      "  (fc1): Linear(in_features=784, out_features=128, bias=True)\n",
      "  (attention1): SelfAttentionLayer(\n",
      "    (query): Linear(in_features=128, out_features=128, bias=True)\n",
      "    (key): Linear(in_features=128, out_features=128, bias=True)\n",
      "    (value): Linear(in_features=128, out_features=128, bias=True)\n",
      "  )\n",
      "  (fc2): Linear(in_features=128, out_features=64, bias=True)\n",
      "  (attention2): SelfAttentionLayer(\n",
      "    (query): Linear(in_features=64, out_features=64, bias=True)\n",
      "    (key): Linear(in_features=64, out_features=64, bias=True)\n",
      "    (value): Linear(in_features=64, out_features=64, bias=True)\n",
      "  )\n",
      "  (fc3): Linear(in_features=64, out_features=10, bias=True)\n",
      ")\n"
     ]
    }
   ],
   "source": [
    "# Create model\n",
    "model = Transformer()\n",
    "print(model)"
   ]
  },
  {
   "cell_type": "markdown",
   "id": "1e0920ec",
   "metadata": {},
   "source": [
    "### Simple trainer like before\n",
    "\n",
    "Again, very similar to what we have done in Week 4..."
   ]
  },
  {
   "cell_type": "code",
   "execution_count": 6,
   "id": "602a5f7e",
   "metadata": {},
   "outputs": [
    {
     "name": "stdout",
     "output_type": "stream",
     "text": [
      "Epoch [1/5], Step [100/1875], Loss: 0.5645\n",
      "Epoch [1/5], Step [200/1875], Loss: 0.6769\n",
      "Epoch [1/5], Step [300/1875], Loss: 0.1388\n",
      "Epoch [1/5], Step [400/1875], Loss: 0.5357\n",
      "Epoch [1/5], Step [500/1875], Loss: 0.2873\n",
      "Epoch [1/5], Step [600/1875], Loss: 0.2454\n",
      "Epoch [1/5], Step [700/1875], Loss: 0.0574\n",
      "Epoch [1/5], Step [800/1875], Loss: 0.0829\n",
      "Epoch [1/5], Step [900/1875], Loss: 0.2409\n",
      "Epoch [1/5], Step [1000/1875], Loss: 0.1930\n",
      "Epoch [1/5], Step [1100/1875], Loss: 0.1293\n",
      "Epoch [1/5], Step [1200/1875], Loss: 0.3335\n",
      "Epoch [1/5], Step [1300/1875], Loss: 0.1581\n",
      "Epoch [1/5], Step [1400/1875], Loss: 0.1583\n",
      "Epoch [1/5], Step [1500/1875], Loss: 0.2497\n",
      "Epoch [1/5], Step [1600/1875], Loss: 0.1110\n",
      "Epoch [1/5], Step [1700/1875], Loss: 0.3590\n",
      "Epoch [1/5], Step [1800/1875], Loss: 0.1453\n",
      "Epoch [2/5], Step [100/1875], Loss: 0.0219\n",
      "Epoch [2/5], Step [200/1875], Loss: 0.1266\n",
      "Epoch [2/5], Step [300/1875], Loss: 0.1361\n",
      "Epoch [2/5], Step [400/1875], Loss: 0.0613\n",
      "Epoch [2/5], Step [500/1875], Loss: 0.1208\n",
      "Epoch [2/5], Step [600/1875], Loss: 0.0670\n",
      "Epoch [2/5], Step [700/1875], Loss: 0.0192\n",
      "Epoch [2/5], Step [800/1875], Loss: 0.0676\n",
      "Epoch [2/5], Step [900/1875], Loss: 0.2213\n",
      "Epoch [2/5], Step [1000/1875], Loss: 0.0680\n",
      "Epoch [2/5], Step [1100/1875], Loss: 0.0433\n",
      "Epoch [2/5], Step [1200/1875], Loss: 0.0791\n",
      "Epoch [2/5], Step [1300/1875], Loss: 0.0768\n",
      "Epoch [2/5], Step [1400/1875], Loss: 0.0699\n",
      "Epoch [2/5], Step [1500/1875], Loss: 0.0811\n",
      "Epoch [2/5], Step [1600/1875], Loss: 0.0373\n",
      "Epoch [2/5], Step [1700/1875], Loss: 0.0221\n",
      "Epoch [2/5], Step [1800/1875], Loss: 0.0501\n",
      "Epoch [3/5], Step [100/1875], Loss: 0.0950\n",
      "Epoch [3/5], Step [200/1875], Loss: 0.0061\n",
      "Epoch [3/5], Step [300/1875], Loss: 0.0205\n",
      "Epoch [3/5], Step [400/1875], Loss: 0.0585\n",
      "Epoch [3/5], Step [500/1875], Loss: 0.0152\n",
      "Epoch [3/5], Step [600/1875], Loss: 0.1678\n",
      "Epoch [3/5], Step [700/1875], Loss: 0.1254\n",
      "Epoch [3/5], Step [800/1875], Loss: 0.0012\n",
      "Epoch [3/5], Step [900/1875], Loss: 0.0009\n",
      "Epoch [3/5], Step [1000/1875], Loss: 0.1922\n",
      "Epoch [3/5], Step [1100/1875], Loss: 0.1044\n",
      "Epoch [3/5], Step [1200/1875], Loss: 0.0919\n",
      "Epoch [3/5], Step [1300/1875], Loss: 0.0180\n",
      "Epoch [3/5], Step [1400/1875], Loss: 0.0124\n",
      "Epoch [3/5], Step [1500/1875], Loss: 0.2323\n",
      "Epoch [3/5], Step [1600/1875], Loss: 0.1664\n",
      "Epoch [3/5], Step [1700/1875], Loss: 0.2084\n",
      "Epoch [3/5], Step [1800/1875], Loss: 0.0159\n",
      "Epoch [4/5], Step [100/1875], Loss: 0.0681\n",
      "Epoch [4/5], Step [200/1875], Loss: 0.0042\n",
      "Epoch [4/5], Step [300/1875], Loss: 0.0181\n",
      "Epoch [4/5], Step [400/1875], Loss: 0.0439\n",
      "Epoch [4/5], Step [500/1875], Loss: 0.0089\n",
      "Epoch [4/5], Step [600/1875], Loss: 0.1600\n",
      "Epoch [4/5], Step [700/1875], Loss: 0.0125\n",
      "Epoch [4/5], Step [800/1875], Loss: 0.3057\n",
      "Epoch [4/5], Step [900/1875], Loss: 0.0018\n",
      "Epoch [4/5], Step [1000/1875], Loss: 0.0470\n",
      "Epoch [4/5], Step [1100/1875], Loss: 0.1632\n",
      "Epoch [4/5], Step [1200/1875], Loss: 0.0023\n",
      "Epoch [4/5], Step [1300/1875], Loss: 0.0261\n",
      "Epoch [4/5], Step [1400/1875], Loss: 0.0879\n",
      "Epoch [4/5], Step [1500/1875], Loss: 0.1109\n",
      "Epoch [4/5], Step [1600/1875], Loss: 0.0030\n",
      "Epoch [4/5], Step [1700/1875], Loss: 0.0557\n",
      "Epoch [4/5], Step [1800/1875], Loss: 0.0117\n",
      "Epoch [5/5], Step [100/1875], Loss: 0.1323\n",
      "Epoch [5/5], Step [200/1875], Loss: 0.0243\n",
      "Epoch [5/5], Step [300/1875], Loss: 0.0953\n",
      "Epoch [5/5], Step [400/1875], Loss: 0.0120\n",
      "Epoch [5/5], Step [500/1875], Loss: 0.0225\n",
      "Epoch [5/5], Step [600/1875], Loss: 0.0054\n",
      "Epoch [5/5], Step [700/1875], Loss: 0.0443\n",
      "Epoch [5/5], Step [800/1875], Loss: 0.0226\n",
      "Epoch [5/5], Step [900/1875], Loss: 0.1825\n",
      "Epoch [5/5], Step [1000/1875], Loss: 0.0321\n",
      "Epoch [5/5], Step [1100/1875], Loss: 0.1385\n",
      "Epoch [5/5], Step [1200/1875], Loss: 0.0585\n",
      "Epoch [5/5], Step [1300/1875], Loss: 0.0110\n",
      "Epoch [5/5], Step [1400/1875], Loss: 0.0046\n",
      "Epoch [5/5], Step [1500/1875], Loss: 0.0092\n",
      "Epoch [5/5], Step [1600/1875], Loss: 0.0866\n",
      "Epoch [5/5], Step [1700/1875], Loss: 0.0887\n",
      "Epoch [5/5], Step [1800/1875], Loss: 0.0893\n"
     ]
    }
   ],
   "source": [
    "# Create model\n",
    "model = Transformer()\n",
    "# Define the loss function and optimizer\n",
    "criterion = nn.CrossEntropyLoss()\n",
    "optimizer = torch.optim.Adam(model.parameters(), lr = 0.001)\n",
    "\n",
    "# Train the model\n",
    "n_epochs = 5\n",
    "for epoch in range(n_epochs):\n",
    "    for i, (images, labels) in enumerate(train_loader):\n",
    "        # Flatten image\n",
    "        images = images.reshape(-1, 28*28)\n",
    "        # Forward pass\n",
    "        outputs = model(images)\n",
    "        loss = criterion(outputs, labels)\n",
    "        # Backprop\n",
    "        optimizer.zero_grad()\n",
    "        loss.backward()\n",
    "        optimizer.step()\n",
    "        # Display\n",
    "        if (i + 1) % 100 == 0:\n",
    "            print(\"Epoch [{}/{}], Step [{}/{}], Loss: {:.4f}\".format(epoch + 1, \\\n",
    "                                                                     n_epochs, \\\n",
    "                                                                     i + 1, \\\n",
    "                                                                     len(train_loader), \\\n",
    "                                                                     loss.item()))"
   ]
  },
  {
   "cell_type": "markdown",
   "id": "8dbe79ea",
   "metadata": {},
   "source": [
    "### Evaluate model\n",
    "\n",
    "We get a 97% test accuracy, after only 5 iterations of training!"
   ]
  },
  {
   "cell_type": "code",
   "execution_count": 7,
   "id": "37ef1a58",
   "metadata": {},
   "outputs": [
    {
     "name": "stdout",
     "output_type": "stream",
     "text": [
      "Test Accuracy: 97.73 %\n"
     ]
    }
   ],
   "source": [
    "# Test the model\n",
    "with torch.no_grad():\n",
    "    correct = 0\n",
    "    total = 0\n",
    "    for images, labels in test_loader:\n",
    "        # Flatten images\n",
    "        images = images.reshape(-1, 28 * 28)\n",
    "        # Forward pass and accuracy calculation\n",
    "        outputs = model(images)\n",
    "        _, predicted = torch.max(outputs.data, 1)\n",
    "        total += labels.size(0)\n",
    "        correct += (predicted == labels).sum().item()\n",
    "    # Final display\n",
    "    print(\"Test Accuracy: {} %\".format(100*correct/total))"
   ]
  },
  {
   "cell_type": "markdown",
   "id": "c5856322-5b3d-41a8-9366-346eb798ec16",
   "metadata": {},
   "source": [
    "### Quick question\n",
    "\n",
    "Could we obtain a better performance could be obtained by combining Convolutional operations and Attention ones?\n",
    "\n",
    "Would the layer below do the trick?"
   ]
  },
  {
   "cell_type": "code",
   "execution_count": 8,
   "id": "b897352f-bb96-408d-95d7-a19ff30edc45",
   "metadata": {},
   "outputs": [],
   "source": [
    "# Define a convolutional attention layer implementation\n",
    "class ConvAttentionLayer(nn.Module):\n",
    "    def __init__(self, in_channels, out_channels, kernel_size=3):\n",
    "        super(ConvAttentionLayer, self).__init__()\n",
    "        self.query_conv = nn.Conv2d(in_channels, out_channels, kernel_size=kernel_size, padding=kernel_size // 2)\n",
    "        self.key_conv = nn.Conv2d(in_channels, out_channels, kernel_size=kernel_size, padding=kernel_size // 2)\n",
    "        self.value_conv = nn.Conv2d(in_channels, out_channels, kernel_size=kernel_size, padding=kernel_size // 2)\n",
    "\n",
    "    def forward(self, x):\n",
    "        query = self.query_conv(x)\n",
    "        key = self.key_conv(x)\n",
    "        value = self.value_conv(x)\n",
    "        batch_size, channels, height, width = query.size()\n",
    "        query = query.view(batch_size, channels, -1)\n",
    "        key = key.view(batch_size, channels, -1)\n",
    "        value = value.view(batch_size, channels, -1)\n",
    "        attention_weights = F.softmax(torch.bmm(query.transpose(1, 2), key), dim=2)\n",
    "        out = torch.bmm(value, attention_weights).view(batch_size, channels, height, width)\n",
    "        return out"
   ]
  },
  {
   "cell_type": "markdown",
   "id": "5539ee8a-b0f1-4908-8625-d7d4536df9f8",
   "metadata": {},
   "source": [
    "Could we then use it to assemble a Convolutional Transformer?"
   ]
  },
  {
   "cell_type": "code",
   "execution_count": 9,
   "id": "fb4357b3-c7ea-475c-81ec-38ed7e3b72c4",
   "metadata": {},
   "outputs": [
    {
     "name": "stdout",
     "output_type": "stream",
     "text": [
      "ConvTransformer(\n",
      "  (conv1): Conv2d(1, 16, kernel_size=(3, 3), stride=(1, 1), padding=(1, 1))\n",
      "  (attention1): ConvAttentionLayer(\n",
      "    (query_conv): Conv2d(16, 16, kernel_size=(3, 3), stride=(1, 1), padding=(1, 1))\n",
      "    (key_conv): Conv2d(16, 16, kernel_size=(3, 3), stride=(1, 1), padding=(1, 1))\n",
      "    (value_conv): Conv2d(16, 16, kernel_size=(3, 3), stride=(1, 1), padding=(1, 1))\n",
      "  )\n",
      "  (conv2): Conv2d(16, 32, kernel_size=(3, 3), stride=(1, 1), padding=(1, 1))\n",
      "  (attention2): ConvAttentionLayer(\n",
      "    (query_conv): Conv2d(32, 32, kernel_size=(3, 3), stride=(1, 1), padding=(1, 1))\n",
      "    (key_conv): Conv2d(32, 32, kernel_size=(3, 3), stride=(1, 1), padding=(1, 1))\n",
      "    (value_conv): Conv2d(32, 32, kernel_size=(3, 3), stride=(1, 1), padding=(1, 1))\n",
      "  )\n",
      "  (fc): Linear(in_features=25088, out_features=10, bias=True)\n",
      ")\n"
     ]
    }
   ],
   "source": [
    "# Neural network definition using convolutional attention\n",
    "class ConvTransformer(nn.Module):\n",
    "    def __init__(self):\n",
    "        super(ConvTransformer, self).__init__()\n",
    "        self.conv1 = nn.Conv2d(1, 16, kernel_size = 3, padding = 1)\n",
    "        self.attention1 = ConvAttentionLayer(16, 16)\n",
    "        self.conv2 = nn.Conv2d(16, 32, kernel_size = 3, padding = 1)\n",
    "        self.attention2 = ConvAttentionLayer(32, 32)\n",
    "        self.fc = nn.Linear(32*28*28, 10)\n",
    "\n",
    "    def forward(self, x):\n",
    "        x = F.relu(self.conv1(x))\n",
    "        x = self.attention1(x)\n",
    "        x = F.relu(self.conv2(x))\n",
    "        x = self.attention2(x)\n",
    "        x = x.view(x.size(0), -1)\n",
    "        x = self.fc(x)\n",
    "        return x\n",
    "\n",
    "# Create model\n",
    "conv_model = ConvTransformer()\n",
    "print(conv_model)"
   ]
  },
  {
   "cell_type": "markdown",
   "id": "b50baba2-da99-453d-9493-aff946d1b216",
   "metadata": {},
   "source": [
    "**Open question:** Would that train and obtain better performance than the \"Linear\" transformer we trained earlier?"
   ]
  },
  {
   "cell_type": "code",
   "execution_count": null,
   "id": "8d20370b-247b-499e-ad3e-275dc332f182",
   "metadata": {},
   "outputs": [],
   "source": []
  }
 ],
 "metadata": {
  "kernelspec": {
   "display_name": "Python 3 (ipykernel)",
   "language": "python",
   "name": "python3"
  },
  "language_info": {
   "codemirror_mode": {
    "name": "ipython",
    "version": 3
   },
   "file_extension": ".py",
   "mimetype": "text/x-python",
   "name": "python",
   "nbconvert_exporter": "python",
   "pygments_lexer": "ipython3",
   "version": "3.13.1"
  }
 },
 "nbformat": 4,
 "nbformat_minor": 5
}
