{
 "cells": [
  {
   "cell_type": "markdown",
   "metadata": {},
   "source": [
    "# 2.bis. Basic GCN classification (MXNet)\n",
    "\n",
    "### About this notebook\n",
    "\n",
    "This notebook was used in the 50.039 Deep Learning course at the Singapore University of Technology and Design.\n",
    "\n",
    "**Author:** Matthieu DE MARI (matthieu_demari@sutd.edu.sg)\n",
    "\n",
    "**Version:** 1.1 (28/03/2022)\n",
    "\n",
    "**Requirements:**\n",
    "- Python 3 (tested on v3.9.6)\n",
    "- Matplotlib (tested on v3.5.1)\n",
    "- Networkx\n",
    "- Numpy (tested on v1.22.1)\n",
    "- Pandas\n",
    "- Sklearn"
   ]
  },
  {
   "cell_type": "code",
   "execution_count": 1,
   "metadata": {},
   "outputs": [],
   "source": [
    "import matplotlib.pyplot as plt\n",
    "\n",
    "import mxnet.ndarray as nd\n",
    "from mxnet import autograd, init\n",
    "from mxnet.initializer import One, Uniform, Xavier\n",
    "from mxnet.gluon import HybridBlock, Trainer\n",
    "from mxnet.gluon.loss import SigmoidBinaryCrossEntropyLoss\n",
    "from mxnet.gluon.nn import HybridSequential, Activation\n",
    "from mxnet.ndarray import array\n",
    "from mxnet.ndarray import sum as ndsum\n",
    "from mxnet.random import seed as mxn_seed\n",
    "\n",
    "from networkx import read_edgelist, set_node_attributes\n",
    "from networkx import karate_club_graph, to_numpy_matrix\n",
    "from networkx import shortest_path_length\n",
    "\n",
    "import numpy as np\n",
    "from numpy import array\n",
    "from numpy.random import seed as np_seed\n",
    "\n",
    "from pandas import read_csv, Series\n",
    "\n",
    "from sklearn.metrics import classification_report"
   ]
  },
  {
   "cell_type": "markdown",
   "metadata": {},
   "source": [
    "## Retrieve graph info"
   ]
  },
  {
   "cell_type": "code",
   "execution_count": 2,
   "metadata": {},
   "outputs": [],
   "source": [
    "from networkx import karate_club_graph\n",
    "G = karate_club_graph()"
   ]
  },
  {
   "cell_type": "code",
   "execution_count": 3,
   "metadata": {},
   "outputs": [],
   "source": [
    "def define_nodes_parameters(G):\n",
    "    \n",
    "    # Initialize nodes parameters\n",
    "    nodes_parameters = {}\n",
    "\n",
    "    # Nodes number\n",
    "    nodes_parameters['nodes_number'] = 0\n",
    "\n",
    "    # Nodes names\n",
    "    nodes_parameters['nodes_names'] = []\n",
    "\n",
    "    # Nodes features\n",
    "    nodes_parameters['nodes_features'] = []\n",
    "\n",
    "    # Labels list\n",
    "    nodes_parameters['labels_list'] = []\n",
    "\n",
    "    # Nodes labels\n",
    "    nodes_parameters['nodes_labels'] = []\n",
    "\n",
    "    # Read nodes from graph\n",
    "    for node_key, node_value in G._node.items():\n",
    "        nodes_parameters['nodes_number'] += 1\n",
    "        nodes_parameters['nodes_names'].append(node_key)\n",
    "        node_value = node_value['club']\n",
    "        if not node_value in nodes_parameters['labels_list']:\n",
    "            nodes_parameters['labels_list'].append(node_value)\n",
    "        nodes_parameters['nodes_labels'].append(nodes_parameters['labels_list'].index(node_value))\n",
    "\n",
    "    # Return\n",
    "    return nodes_parameters"
   ]
  },
  {
   "cell_type": "code",
   "execution_count": 4,
   "metadata": {},
   "outputs": [
    {
     "name": "stdout",
     "output_type": "stream",
     "text": [
      "{'nodes_number': 34, 'nodes_names': [0, 1, 2, 3, 4, 5, 6, 7, 8, 9, 10, 11, 12, 13, 14, 15, 16, 17, 18, 19, 20, 21, 22, 23, 24, 25, 26, 27, 28, 29, 30, 31, 32, 33], 'nodes_features': [], 'labels_list': ['Mr. Hi', 'Officer'], 'nodes_labels': [0, 0, 0, 0, 0, 0, 0, 0, 0, 1, 0, 0, 0, 0, 1, 1, 0, 0, 1, 0, 1, 0, 1, 1, 1, 1, 1, 1, 1, 1, 1, 1, 1, 1]}\n"
     ]
    }
   ],
   "source": [
    "nodes_parameters = define_nodes_parameters(G)\n",
    "print(nodes_parameters)"
   ]
  },
  {
   "cell_type": "code",
   "execution_count": 5,
   "metadata": {},
   "outputs": [],
   "source": [
    "def define_edges_parameters(G, nodes_number):\n",
    "    \n",
    "    # Initialize edges parameters\n",
    "    edges_parameters = {}\n",
    "\n",
    "    # Edges number\n",
    "    edges_parameters['edges_number'] = len(list(G.edges().keys()))\n",
    "\n",
    "    # Edges names\n",
    "    edges_parameters['edges_names'] = list(G.edges().keys())\n",
    "\n",
    "    # Adjacency matrix\n",
    "    edges_parameters['adjacency_matrix'] = np.zeros([nodes_number, nodes_number])\n",
    "\n",
    "    # Degree matrix\n",
    "    edges_parameters['degree_matrix'] = np.zeros([nodes_number, nodes_number])\n",
    "\n",
    "    # Read edges and update adjacency matrix and degree matrix\n",
    "    for edge in edges_parameters['edges_names']:\n",
    "        node1, node2 = edge\n",
    "        edges_parameters['adjacency_matrix'][node1, node2] = 1\n",
    "        edges_parameters['adjacency_matrix'][node2, node1] = 1\n",
    "        edges_parameters['degree_matrix'][node1, node1] += 1\n",
    "        edges_parameters['degree_matrix'][node2, node2] += 1\n",
    "\n",
    "    # Return\n",
    "    return edges_parameters"
   ]
  },
  {
   "cell_type": "code",
   "execution_count": 6,
   "metadata": {},
   "outputs": [
    {
     "name": "stdout",
     "output_type": "stream",
     "text": [
      "{'edges_number': 78, 'edges_names': [(0, 1), (0, 2), (0, 3), (0, 4), (0, 5), (0, 6), (0, 7), (0, 8), (0, 10), (0, 11), (0, 12), (0, 13), (0, 17), (0, 19), (0, 21), (0, 31), (1, 2), (1, 3), (1, 7), (1, 13), (1, 17), (1, 19), (1, 21), (1, 30), (2, 3), (2, 7), (2, 8), (2, 9), (2, 13), (2, 27), (2, 28), (2, 32), (3, 7), (3, 12), (3, 13), (4, 6), (4, 10), (5, 6), (5, 10), (5, 16), (6, 16), (8, 30), (8, 32), (8, 33), (9, 33), (13, 33), (14, 32), (14, 33), (15, 32), (15, 33), (18, 32), (18, 33), (19, 33), (20, 32), (20, 33), (22, 32), (22, 33), (23, 25), (23, 27), (23, 29), (23, 32), (23, 33), (24, 25), (24, 27), (24, 31), (25, 31), (26, 29), (26, 33), (27, 33), (28, 31), (28, 33), (29, 32), (29, 33), (30, 32), (30, 33), (31, 32), (31, 33), (32, 33)], 'adjacency_matrix': array([[0., 1., 1., ..., 1., 0., 0.],\n",
      "       [1., 0., 1., ..., 0., 0., 0.],\n",
      "       [1., 1., 0., ..., 0., 1., 0.],\n",
      "       ...,\n",
      "       [1., 0., 0., ..., 0., 1., 1.],\n",
      "       [0., 0., 1., ..., 1., 0., 1.],\n",
      "       [0., 0., 0., ..., 1., 1., 0.]]), 'degree_matrix': array([[16.,  0.,  0., ...,  0.,  0.,  0.],\n",
      "       [ 0.,  9.,  0., ...,  0.,  0.,  0.],\n",
      "       [ 0.,  0., 10., ...,  0.,  0.,  0.],\n",
      "       ...,\n",
      "       [ 0.,  0.,  0., ...,  6.,  0.,  0.],\n",
      "       [ 0.,  0.,  0., ...,  0., 12.,  0.],\n",
      "       [ 0.,  0.,  0., ...,  0.,  0., 17.]])}\n"
     ]
    }
   ],
   "source": [
    "edges_parameters = define_edges_parameters(G, nodes_number = nodes_parameters['nodes_number'])\n",
    "print(edges_parameters)"
   ]
  },
  {
   "cell_type": "markdown",
   "metadata": {},
   "source": [
    "## Define Hybrid GCN block"
   ]
  },
  {
   "cell_type": "code",
   "execution_count": 7,
   "metadata": {},
   "outputs": [],
   "source": [
    "class GCN_Kipf_Block(HybridBlock):\n",
    "    \n",
    "    def __init__(self, A, input_units, output_units, activation_fun = 'relu', **kwargs):\n",
    "        \n",
    "        # Reuse __init__ from HybridBlock\n",
    "        super().__init__(**kwargs)\n",
    "        \n",
    "        # Define N_hat for Kipf propagation rule\n",
    "        I = nd.eye(A.shape[0])\n",
    "        A_hat = nd.array(A) + I\n",
    "        D = nd.sum(A_hat, axis=0)\n",
    "        D_inv = D**-0.5\n",
    "        D_inv = nd.diag(D_inv)\n",
    "        N_hat = D_inv * A_hat * D_inv\n",
    "        \n",
    "        # Input and output units\n",
    "        self.input_units, self.output_units = input_units, output_units\n",
    "        \n",
    "        # Define context manager\n",
    "        with self.name_scope():\n",
    "            \n",
    "            # Add N_hat\n",
    "            self.N_hat = self.params.get_constant('N_hat', N_hat)\n",
    "            \n",
    "            # Add weigths W\n",
    "            self.W = self.params.get('W', shape=(self.input_units, self.output_units))\n",
    "            \n",
    "            # Add activation function\n",
    "            if activation_fun == 'identity':\n",
    "                self.activation_fun = lambda x: x\n",
    "            else:\n",
    "                self.activation_fun = Activation(activation_fun)\n",
    "\n",
    "    def hybrid_forward(self, F, X, N_hat, W):\n",
    "        \n",
    "        # Define forward propagation rule for GCN_Kipf_Block\n",
    "        return self.activation_fun(F.dot(F.dot(N_hat, X), W))"
   ]
  },
  {
   "cell_type": "code",
   "execution_count": 8,
   "metadata": {},
   "outputs": [],
   "source": [
    "class Logistic_Regressor(HybridBlock):\n",
    "    \n",
    "    def __init__(self, input_units, **kwargs):\n",
    "        \n",
    "        # Reuse __init__ from HybridBlock\n",
    "        super().__init__(**kwargs)\n",
    "        \n",
    "        # Define context manager\n",
    "        with self.name_scope():\n",
    "            \n",
    "            # Add weights w\n",
    "            self.w = self.params.get('w', shape=(1, input_units))\n",
    "            \n",
    "            # Add bias b\n",
    "            self.b = self.params.get('b', shape=(1, 1))\n",
    "\n",
    "    def hybrid_forward(self, F, X, w, b):\n",
    "        \n",
    "        # Define forward propagation rule for GCN_Kipf_Block\n",
    "        # (Adjust shape of b to comply with MXnet addition API)\n",
    "        return F.sigmoid(F.dot(X, w, transpose_b = True) \\\n",
    "                + F.broadcast_axis(b, axis=(0,1), size=(34, 1)))"
   ]
  },
  {
   "cell_type": "code",
   "execution_count": 9,
   "metadata": {},
   "outputs": [],
   "source": [
    "def build_features(A, X):\n",
    "    \n",
    "    # List of hidden layers as tuples (number of units, activation function)\n",
    "    layers_list = [(4, 'relu'), (2, 'relu')]\n",
    "    input_units = X.shape[1]\n",
    "    \n",
    "    # Define embedding model as HybridSequential\n",
    "    emb_model = HybridSequential()\n",
    "    with emb_model.name_scope():\n",
    "        for i, (layer_size, activation_fun) in enumerate(layers_list):\n",
    "            \n",
    "            # Add GCN_Kipf_Block layer with parameters\n",
    "            layer = GCN_Kipf_Block(A, input_units = input_units, \\\n",
    "                                   output_units = layer_size, \\\n",
    "                                   activation_fun = activation_fun)\n",
    "            emb_model.add(layer)\n",
    "            input_units = layer_size\n",
    "            \n",
    "    return emb_model, input_units"
   ]
  },
  {
   "cell_type": "code",
   "execution_count": 10,
   "metadata": {},
   "outputs": [],
   "source": [
    "def build_model(A, X):\n",
    "    \n",
    "    # Define embedding model as HybridSequential\n",
    "    model = HybridSequential()\n",
    "    input_units = X.shape[1]\n",
    "\n",
    "    with model.name_scope():\n",
    "        \n",
    "        # Add embedding model\n",
    "        emb_model, output_units = build_features(A, X)\n",
    "        model.add(emb_model)\n",
    "        \n",
    "        # Add classifier\n",
    "        classifier = Logistic_Regressor(output_units)\n",
    "        model.add(classifier)\n",
    "        \n",
    "    # Hybridize layers\n",
    "    model.hybridize()\n",
    "    \n",
    "    # Initialize weights as Normal [0,1]\n",
    "    #model.initialize(Uniform(1))\n",
    "    model.initialize(init=init.Normal(sigma=0.01))\n",
    "\n",
    "    return model, emb_model"
   ]
  },
  {
   "cell_type": "code",
   "execution_count": 11,
   "metadata": {},
   "outputs": [],
   "source": [
    "X1 = nd.eye(nodes_parameters['nodes_number'])\n",
    "model1, emb_model1 = build_model(edges_parameters['adjacency_matrix'], X1)\n",
    "Y1 = model1(X1)"
   ]
  },
  {
   "cell_type": "code",
   "execution_count": 12,
   "metadata": {},
   "outputs": [
    {
     "name": "stdout",
     "output_type": "stream",
     "text": [
      "\n",
      "[[1. 0. 0. ... 0. 0. 0.]\n",
      " [0. 1. 0. ... 0. 0. 0.]\n",
      " [0. 0. 1. ... 0. 0. 0.]\n",
      " ...\n",
      " [0. 0. 0. ... 1. 0. 0.]\n",
      " [0. 0. 0. ... 0. 1. 0.]\n",
      " [0. 0. 0. ... 0. 0. 1.]]\n",
      "<NDArray 34x34 @cpu(0)>\n"
     ]
    }
   ],
   "source": [
    "print(X1)"
   ]
  },
  {
   "cell_type": "code",
   "execution_count": 13,
   "metadata": {},
   "outputs": [
    {
     "name": "stdout",
     "output_type": "stream",
     "text": [
      "\n",
      "[[0.49211118]\n",
      " [0.49211118]\n",
      " [0.49211118]\n",
      " [0.49211118]\n",
      " [0.49211118]\n",
      " [0.49211118]\n",
      " [0.49211118]\n",
      " [0.49211118]\n",
      " [0.49211118]\n",
      " [0.49211118]\n",
      " [0.49211118]\n",
      " [0.49211118]\n",
      " [0.49211118]\n",
      " [0.49211124]\n",
      " [0.49211118]\n",
      " [0.49211118]\n",
      " [0.49211118]\n",
      " [0.49211118]\n",
      " [0.49211118]\n",
      " [0.49211118]\n",
      " [0.49211118]\n",
      " [0.49211124]\n",
      " [0.49211118]\n",
      " [0.49211118]\n",
      " [0.49211118]\n",
      " [0.49211118]\n",
      " [0.49211118]\n",
      " [0.49211118]\n",
      " [0.49211124]\n",
      " [0.49211118]\n",
      " [0.49211118]\n",
      " [0.49211118]\n",
      " [0.49211118]\n",
      " [0.49211118]]\n",
      "<NDArray 34x1 @cpu(0)>\n"
     ]
    }
   ],
   "source": [
    "print(Y1)"
   ]
  },
  {
   "cell_type": "code",
   "execution_count": 14,
   "metadata": {},
   "outputs": [],
   "source": [
    "X2 = nd.zeros((nodes_parameters['nodes_number'], 2))\n",
    "node_distance_mrhi = shortest_path_length(G, target = 33)\n",
    "node_distance_officer = shortest_path_length(G, target = 0)\n",
    "for node in G.nodes():\n",
    "    X2[node][0] = node_distance_mrhi[node]\n",
    "    X2[node][1] = node_distance_officer[node]\n",
    "X2_comb = nd.concat(X1, X2)\n",
    "model2, emb_model2 = build_model(edges_parameters['adjacency_matrix'], X2_comb)\n",
    "Y2 = model2(X2_comb)"
   ]
  },
  {
   "cell_type": "code",
   "execution_count": 15,
   "metadata": {},
   "outputs": [
    {
     "name": "stdout",
     "output_type": "stream",
     "text": [
      "\n",
      "[[2. 0.]\n",
      " [2. 1.]\n",
      " [2. 1.]\n",
      " [2. 1.]\n",
      " [3. 1.]\n",
      " [3. 1.]\n",
      " [3. 1.]\n",
      " [3. 1.]\n",
      " [1. 1.]\n",
      " [1. 2.]\n",
      " [3. 1.]\n",
      " [3. 1.]\n",
      " [3. 1.]\n",
      " [1. 1.]\n",
      " [1. 3.]\n",
      " [1. 3.]\n",
      " [4. 2.]\n",
      " [3. 1.]\n",
      " [1. 3.]\n",
      " [1. 1.]\n",
      " [1. 3.]\n",
      " [3. 1.]\n",
      " [1. 3.]\n",
      " [1. 3.]\n",
      " [2. 2.]\n",
      " [2. 2.]\n",
      " [1. 3.]\n",
      " [1. 2.]\n",
      " [1. 2.]\n",
      " [1. 3.]\n",
      " [1. 2.]\n",
      " [1. 1.]\n",
      " [1. 2.]\n",
      " [0. 2.]]\n",
      "<NDArray 34x2 @cpu(0)>\n"
     ]
    }
   ],
   "source": [
    "print(X2)"
   ]
  },
  {
   "cell_type": "code",
   "execution_count": 16,
   "metadata": {},
   "outputs": [
    {
     "name": "stdout",
     "output_type": "stream",
     "text": [
      "\n",
      "[[1. 0. 0. ... 0. 0. 0.]\n",
      " [0. 1. 0. ... 0. 0. 0.]\n",
      " [0. 0. 1. ... 0. 0. 0.]\n",
      " ...\n",
      " [0. 0. 0. ... 1. 0. 0.]\n",
      " [0. 0. 0. ... 0. 1. 0.]\n",
      " [0. 0. 0. ... 0. 0. 1.]]\n",
      "<NDArray 34x34 @cpu(0)>\n",
      "\n",
      "[[1. 0. 0. ... 0. 2. 0.]\n",
      " [0. 1. 0. ... 0. 2. 1.]\n",
      " [0. 0. 1. ... 0. 2. 1.]\n",
      " ...\n",
      " [0. 0. 0. ... 0. 1. 1.]\n",
      " [0. 0. 0. ... 0. 1. 2.]\n",
      " [0. 0. 0. ... 1. 0. 2.]]\n",
      "<NDArray 34x36 @cpu(0)>\n"
     ]
    }
   ],
   "source": [
    "print(X1)\n",
    "print(X2_comb)"
   ]
  },
  {
   "cell_type": "code",
   "execution_count": 17,
   "metadata": {},
   "outputs": [
    {
     "name": "stdout",
     "output_type": "stream",
     "text": [
      "\n",
      "[[0.5012415 ]\n",
      " [0.5012415 ]\n",
      " [0.5012415 ]\n",
      " [0.5012415 ]\n",
      " [0.5012415 ]\n",
      " [0.5012415 ]\n",
      " [0.5012415 ]\n",
      " [0.5012415 ]\n",
      " [0.5012415 ]\n",
      " [0.50124145]\n",
      " [0.5012415 ]\n",
      " [0.5012414 ]\n",
      " [0.50124145]\n",
      " [0.5012415 ]\n",
      " [0.5012415 ]\n",
      " [0.50124145]\n",
      " [0.50124145]\n",
      " [0.50124145]\n",
      " [0.5012415 ]\n",
      " [0.5012415 ]\n",
      " [0.5012415 ]\n",
      " [0.50124145]\n",
      " [0.50124145]\n",
      " [0.5012415 ]\n",
      " [0.5012415 ]\n",
      " [0.5012415 ]\n",
      " [0.5012415 ]\n",
      " [0.5012415 ]\n",
      " [0.5012415 ]\n",
      " [0.5012415 ]\n",
      " [0.5012415 ]\n",
      " [0.5012415 ]\n",
      " [0.5012415 ]\n",
      " [0.5012415 ]]\n",
      "<NDArray 34x1 @cpu(0)>\n"
     ]
    }
   ],
   "source": [
    "print(Y2)"
   ]
  },
  {
   "cell_type": "markdown",
   "metadata": {},
   "source": [
    "## Define Trainer and Predictor"
   ]
  },
  {
   "cell_type": "code",
   "execution_count": 18,
   "metadata": {},
   "outputs": [],
   "source": [
    "def train(model, emb_model, X, X_train, Y_train, epochs, display = True):\n",
    "    \n",
    "    # Loss function as cross entropy\n",
    "    cross_entropy = SigmoidBinaryCrossEntropyLoss(from_sigmoid = True)\n",
    "    \n",
    "    # Initialize trainer with SGD optimizer, lr = 0.001, momentum = 1\n",
    "    trainer = Trainer(model.collect_params(), 'sgd', \\\n",
    "                      {'learning_rate': 0.001, 'momentum': 1})\n",
    "    \n",
    "    # Initialize embedding representations\n",
    "    emb_representations = [emb_model(X).asnumpy()]\n",
    "    \n",
    "    # Iterate on epochs\n",
    "    for e in range(1, epochs + 1):\n",
    "        \n",
    "        # Initialize loss\n",
    "        cum_loss = 0\n",
    "        cum_preds = []\n",
    "        \n",
    "        # Iterate over training samples\n",
    "        for i, x in enumerate(X_train.flatten()):\n",
    "            Y = nd.array(Y_train)[i]\n",
    "            with autograd.record():\n",
    "                preds = model(X)[x]\n",
    "                loss = cross_entropy(preds, Y)\n",
    "            \n",
    "            # Backward propagation\n",
    "            loss.backward()\n",
    "            \n",
    "            # Step\n",
    "            trainer.step(1)\n",
    "            \n",
    "            # Aggregate losses\n",
    "            cum_loss += loss.asscalar()\n",
    "            cum_preds += [preds.asscalar()]\n",
    "\n",
    "        # Add to embeddings representations \n",
    "        emb_representations.append(emb_model(X).asnumpy())\n",
    "        \n",
    "        # Display training progress\n",
    "        fac = 20\n",
    "        if (e % (epochs//fac)) == 0 and display:\n",
    "            #print(\"-----\")\n",
    "            print(f\"Epoch {e}/{epochs} -- Loss: {cum_loss: .4f}\")\n",
    "            #print(cum_preds)\n",
    "            #print(Y_train)\n",
    "            \n",
    "    return emb_representations"
   ]
  },
  {
   "cell_type": "markdown",
   "metadata": {},
   "source": [
    "## Data splitting and training"
   ]
  },
  {
   "cell_type": "code",
   "execution_count": 19,
   "metadata": {},
   "outputs": [],
   "source": [
    "def define_data_split(nodes_parameters, split = 0.3):\n",
    "    \n",
    "    # Initialize X_train, Y_train, X_test, Y_test\n",
    "    X_train, Y_train, X_test, Y_test = [], [], [], []\n",
    "    \n",
    "    # Iterate on nodes\n",
    "    for node_index in range(nodes_parameters['nodes_number']):\n",
    "        \n",
    "        # Retrieve node features and label\n",
    "        #node_feature = nodes_parameters['nodes_features'][node_index]\n",
    "        node_feature = nodes_parameters['nodes_names'][node_index]\n",
    "        node_label = nodes_parameters['nodes_labels'][node_index]\n",
    "        \n",
    "        if node_index == 0 or node_index == 33:\n",
    "            # If node is Mr. Hi (0) or Officer (33), add to training\n",
    "            X_train.append([node_feature])\n",
    "            Y_train.append(node_label)\n",
    "        elif np.random.random() < split:\n",
    "            # Otherwise, roll a random to decide on train/test set assignment\n",
    "            X_train.append([node_feature])\n",
    "            Y_train.append(node_label)\n",
    "        else:\n",
    "            X_test.append([node_feature])\n",
    "            Y_test.append(node_label)\n",
    "        \n",
    "    return np.array(X_train), np.array(Y_train), np.array(X_test), np.array(Y_test)"
   ]
  },
  {
   "cell_type": "code",
   "execution_count": 20,
   "metadata": {},
   "outputs": [],
   "source": [
    "# Fix seed for reproducibility\n",
    "np_seed(10)\n",
    "mxn_seed(10)"
   ]
  },
  {
   "cell_type": "code",
   "execution_count": 21,
   "metadata": {},
   "outputs": [
    {
     "name": "stdout",
     "output_type": "stream",
     "text": [
      "[[ 0]\n",
      " [ 2]\n",
      " [ 5]\n",
      " [ 6]\n",
      " [ 7]\n",
      " [ 9]\n",
      " [10]\n",
      " [13]\n",
      " [18]\n",
      " [22]\n",
      " [23]\n",
      " [25]\n",
      " [26]\n",
      " [33]]\n",
      "[0 0 0 0 0 1 0 0 1 1 1 1 1 1]\n",
      "[[ 1]\n",
      " [ 3]\n",
      " [ 4]\n",
      " [ 8]\n",
      " [11]\n",
      " [12]\n",
      " [14]\n",
      " [15]\n",
      " [16]\n",
      " [17]\n",
      " [19]\n",
      " [20]\n",
      " [21]\n",
      " [24]\n",
      " [27]\n",
      " [28]\n",
      " [29]\n",
      " [30]\n",
      " [31]\n",
      " [32]]\n",
      "[0 0 0 0 0 0 1 1 0 0 0 1 0 1 1 1 1 1 1 1]\n"
     ]
    }
   ],
   "source": [
    "#X_train, Y_train, X_test, Y_test = define_data_split(nodes_parameters, split = 0.3)\n",
    "X_train, Y_train, X_test, Y_test = define_data_split(nodes_parameters, split = 0.5)\n",
    "print(X_train)\n",
    "print(Y_train)\n",
    "print(X_test)\n",
    "print(Y_test)"
   ]
  },
  {
   "cell_type": "markdown",
   "metadata": {},
   "source": [
    "## Build model (no useful features)"
   ]
  },
  {
   "cell_type": "code",
   "execution_count": 22,
   "metadata": {},
   "outputs": [],
   "source": [
    "# Fix seed for reproducibility\n",
    "np_seed(27)\n",
    "mxn_seed(27)"
   ]
  },
  {
   "cell_type": "code",
   "execution_count": 23,
   "metadata": {},
   "outputs": [],
   "source": [
    "# Build model\n",
    "model1, emb_model1 = build_model(edges_parameters['adjacency_matrix'], X1)"
   ]
  },
  {
   "cell_type": "code",
   "execution_count": 24,
   "metadata": {},
   "outputs": [
    {
     "name": "stdout",
     "output_type": "stream",
     "text": [
      "Epoch 100/2000 -- Loss:  9.6786\n",
      "Epoch 200/2000 -- Loss:  9.7509\n",
      "Epoch 300/2000 -- Loss:  9.6821\n",
      "Epoch 400/2000 -- Loss:  9.7507\n",
      "Epoch 500/2000 -- Loss:  9.6903\n",
      "Epoch 600/2000 -- Loss:  9.7451\n",
      "Epoch 700/2000 -- Loss:  4.9391\n",
      "Epoch 800/2000 -- Loss:  3.0401\n",
      "Epoch 900/2000 -- Loss:  3.0456\n",
      "Epoch 1000/2000 -- Loss:  3.0516\n",
      "Epoch 1100/2000 -- Loss:  3.0197\n",
      "Epoch 1200/2000 -- Loss:  3.0338\n",
      "Epoch 1300/2000 -- Loss:  3.0496\n",
      "Epoch 1400/2000 -- Loss:  3.0471\n",
      "Epoch 1500/2000 -- Loss:  3.0267\n",
      "Epoch 1600/2000 -- Loss:  3.0274\n",
      "Epoch 1700/2000 -- Loss:  3.0534\n",
      "Epoch 1800/2000 -- Loss:  3.0426\n",
      "Epoch 1900/2000 -- Loss:  3.0340\n",
      "Epoch 2000/2000 -- Loss:  3.0211\n"
     ]
    }
   ],
   "source": [
    "emb_representations_1 = train(model1, emb_model1, X1, X_train, Y_train, epochs = 2000)"
   ]
  },
  {
   "cell_type": "code",
   "execution_count": 25,
   "metadata": {},
   "outputs": [],
   "source": [
    "def predict(model, X, nodes):\n",
    "    \n",
    "    # Define predictor with simple thresholding\n",
    "    return np.where(model(X)[nodes].asnumpy().flatten() >= 0.5, 1, 0)"
   ]
  },
  {
   "cell_type": "code",
   "execution_count": 26,
   "metadata": {},
   "outputs": [
    {
     "name": "stdout",
     "output_type": "stream",
     "text": [
      "              precision    recall  f1-score   support\n",
      "\n",
      "           0       0.50      0.20      0.29        10\n",
      "           1       0.50      0.80      0.62        10\n",
      "\n",
      "    accuracy                           0.50        20\n",
      "   macro avg       0.50      0.50      0.45        20\n",
      "weighted avg       0.50      0.50      0.45        20\n",
      "\n"
     ]
    }
   ],
   "source": [
    "Y_pred1 = predict(model1, X1, X_test)\n",
    "print(classification_report(Y_test, Y_pred1))"
   ]
  },
  {
   "cell_type": "code",
   "execution_count": 27,
   "metadata": {},
   "outputs": [],
   "source": [
    "def display_embedding(emb_representations, nodes_parameters, X_train):\n",
    "    \n",
    "    # Visualize embedding on training nodes only\n",
    "    f = plt.figure(figsize=(7, 10))\n",
    "    ax1 = f.add_subplot(2, 1, 1)\n",
    "    training_nodes_list = [elem[0] for elem in X_train]\n",
    "    for node_key, node_value in enumerate(emb_representations):\n",
    "        label_bool = nodes_parameters['nodes_labels'][node_key]\n",
    "        marker_node = '+' if label_bool else 'o'\n",
    "        color_node = 'b' if label_bool else 'r'\n",
    "        if node_key in training_nodes_list:\n",
    "            ax1.scatter(node_value[0], node_value[1], \\\n",
    "                        color = color_node, marker = marker_node)\n",
    "    plt.title(\"Embedding (training nodes only)\")\n",
    "    \n",
    "    # Visualize embedding on all nodes\n",
    "    print(\"---\")\n",
    "    ax2 = f.add_subplot(2, 1, 2)\n",
    "    training_nodes_list = [elem[0] for elem in X_train]\n",
    "    for node_key, node_value in enumerate(emb_representations):\n",
    "        label_bool = nodes_parameters['nodes_labels'][node_key]\n",
    "        marker_node = '+' if label_bool else 'o'\n",
    "        color_node = 'b' if label_bool else 'r'\n",
    "        ax2.scatter(node_value[0], node_value[1], \\\n",
    "                    color = color_node, marker = marker_node)\n",
    "    plt.title(\"Embedding (all nodes)\")\n",
    "    \n",
    "    # Show\n",
    "    plt.tight_layout()\n",
    "    plt.show()"
   ]
  },
  {
   "cell_type": "code",
   "execution_count": 28,
   "metadata": {},
   "outputs": [
    {
     "name": "stdout",
     "output_type": "stream",
     "text": [
      "---\n"
     ]
    },
    {
     "data": {
      "image/png": "[encoded data removed]",
      "text/plain": [
       "<Figure size 504x720 with 2 Axes>"
      ]
     },
     "metadata": {
      "needs_background": "light"
     },
     "output_type": "display_data"
    }
   ],
   "source": [
    "display_embedding(emb_representations_1[-1], nodes_parameters, X_train)"
   ]
  },
  {
   "cell_type": "markdown",
   "metadata": {},
   "source": [
    "## Build model (hop-distances features)"
   ]
  },
  {
   "cell_type": "code",
   "execution_count": 29,
   "metadata": {},
   "outputs": [],
   "source": [
    "# Fix seed for reproducibility\n",
    "np_seed(8)\n",
    "mxn_seed(8)"
   ]
  },
  {
   "cell_type": "code",
   "execution_count": 30,
   "metadata": {},
   "outputs": [],
   "source": [
    "# Build model\n",
    "model2, emb_model2 = build_model(edges_parameters['adjacency_matrix'], X2_comb)"
   ]
  },
  {
   "cell_type": "code",
   "execution_count": 31,
   "metadata": {},
   "outputs": [
    {
     "name": "stdout",
     "output_type": "stream",
     "text": [
      "Epoch 25/500 -- Loss:  9.7469\n",
      "Epoch 50/500 -- Loss:  9.7226\n",
      "Epoch 75/500 -- Loss:  9.6884\n",
      "Epoch 100/500 -- Loss:  9.6791\n",
      "Epoch 125/500 -- Loss:  9.7056\n",
      "Epoch 150/500 -- Loss:  9.7381\n",
      "Epoch 175/500 -- Loss:  9.7510\n",
      "Epoch 200/500 -- Loss:  9.7519\n",
      "Epoch 225/500 -- Loss:  9.7503\n",
      "Epoch 250/500 -- Loss:  9.7339\n",
      "Epoch 275/500 -- Loss:  9.6998\n",
      "Epoch 300/500 -- Loss:  9.6774\n",
      "Epoch 325/500 -- Loss:  9.6897\n",
      "Epoch 350/500 -- Loss:  9.6585\n",
      "Epoch 375/500 -- Loss:  5.0444\n",
      "Epoch 400/500 -- Loss:  2.1393\n",
      "Epoch 425/500 -- Loss:  0.0661\n",
      "Epoch 450/500 -- Loss:  0.0516\n",
      "Epoch 475/500 -- Loss:  0.0246\n",
      "Epoch 500/500 -- Loss:  0.0086\n"
     ]
    }
   ],
   "source": [
    "emb_representations_2 = train(model2, emb_model2, X2_comb, X_train, Y_train, epochs = 500)"
   ]
  },
  {
   "cell_type": "code",
   "execution_count": 32,
   "metadata": {},
   "outputs": [
    {
     "name": "stdout",
     "output_type": "stream",
     "text": [
      "              precision    recall  f1-score   support\n",
      "\n",
      "           0       0.83      1.00      0.91        10\n",
      "           1       1.00      0.80      0.89        10\n",
      "\n",
      "    accuracy                           0.90        20\n",
      "   macro avg       0.92      0.90      0.90        20\n",
      "weighted avg       0.92      0.90      0.90        20\n",
      "\n"
     ]
    }
   ],
   "source": [
    "Y_pred2 = predict(model2, X2_comb, X_test)\n",
    "print(classification_report(Y_test, Y_pred2))"
   ]
  },
  {
   "cell_type": "code",
   "execution_count": 33,
   "metadata": {},
   "outputs": [
    {
     "name": "stdout",
     "output_type": "stream",
     "text": [
      "---\n"
     ]
    },
    {
     "data": {
      "image/png": "[encoded data removed]",
      "text/plain": [
       "<Figure size 504x720 with 2 Axes>"
      ]
     },
     "metadata": {
      "needs_background": "light"
     },
     "output_type": "display_data"
    }
   ],
   "source": [
    "display_embedding(emb_representations_2[-1], nodes_parameters, X_train)"
   ]
  },
  {
   "cell_type": "code",
   "execution_count": null,
   "metadata": {},
   "outputs": [],
   "source": []
  }
 ],
 "metadata": {
  "kernelspec": {
   "display_name": "Python 3",
   "language": "python",
   "name": "python3"
  },
  "language_info": {
   "codemirror_mode": {
    "name": "ipython",
    "version": 3
   },
   "file_extension": ".py",
   "mimetype": "text/x-python",
   "name": "python",
   "nbconvert_exporter": "python",
   "pygments_lexer": "ipython3",
   "version": "3.9.6"
  }
 },
 "nbformat": 4,
 "nbformat_minor": 4
}
