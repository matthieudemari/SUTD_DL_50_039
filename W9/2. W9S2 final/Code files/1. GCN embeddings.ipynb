{
 "cells": [
  {
   "cell_type": "markdown",
   "metadata": {},
   "source": [
    "# 1. GCN embeddings\n",
    "\n",
    "### About this notebook\n",
    "\n",
    "This notebook was used in the 50.039 Deep Learning course at the Singapore University of Technology and Design.\n",
    "\n",
    "**Author:** Matthieu DE MARI (matthieu_demari@sutd.edu.sg)\n",
    "\n",
    "**Version:** 1.2 (29/08/2023)\n",
    "\n",
    "**Requirements:**\n",
    "- Python 3 (tested on v3.11.5)\n",
    "- Networkx (tested on v3.1)\n",
    "- Numpy (tested on v1.25.2)"
   ]
  },
  {
   "cell_type": "code",
   "execution_count": 1,
   "metadata": {},
   "outputs": [],
   "source": [
    "import matplotlib.pyplot as plt\n",
    "from networkx import karate_club_graph, to_numpy_array\n",
    "import numpy as np"
   ]
  },
  {
   "cell_type": "markdown",
   "metadata": {},
   "source": [
    "## 1. Identity propagation\n",
    "\n",
    "In this first attempt at implementing a graph convolution, we will simply sum the nodes features of the neighbouring nodes and call those the new features of the node.\n",
    "\n",
    "This is simply implemented as $ H_n = AH $."
   ]
  },
  {
   "cell_type": "code",
   "execution_count": 2,
   "metadata": {},
   "outputs": [
    {
     "name": "stdout",
     "output_type": "stream",
     "text": [
      "A:\n",
      " [[0. 1. 1. 0.]\n",
      " [1. 0. 1. 1.]\n",
      " [1. 1. 0. 0.]\n",
      " [0. 1. 0. 0.]]\n"
     ]
    }
   ],
   "source": [
    "# Adjacency matrix\n",
    "A = np.matrix([\n",
    "    [0, 1, 1, 0],\n",
    "    [1, 0, 1, 1], \n",
    "    [1, 1, 0, 0],\n",
    "    [0, 1, 0, 0]],\n",
    "    dtype=float)\n",
    "print(\"A:\\n\", A)"
   ]
  },
  {
   "cell_type": "code",
   "execution_count": 3,
   "metadata": {},
   "outputs": [
    {
     "name": "stdout",
     "output_type": "stream",
     "text": [
      "H:\n",
      " [[ 1 -1]\n",
      " [ 2 -2]\n",
      " [ 3 -3]\n",
      " [ 4 -4]]\n"
     ]
    }
   ],
   "source": [
    "# Feature matrix\n",
    "H = np.matrix([[i+1, -i-1] for i in range(A.shape[0])])\n",
    "print(\"H:\\n\", H)"
   ]
  },
  {
   "cell_type": "code",
   "execution_count": 4,
   "metadata": {},
   "outputs": [],
   "source": [
    "# Identity function as activation\n",
    "def f_identity(x):\n",
    "    return x"
   ]
  },
  {
   "cell_type": "code",
   "execution_count": 5,
   "metadata": {},
   "outputs": [
    {
     "name": "stdout",
     "output_type": "stream",
     "text": [
      "H_next:\n",
      " [[ 5. -5.]\n",
      " [ 8. -8.]\n",
      " [ 3. -3.]\n",
      " [ 2. -2.]]\n"
     ]
    }
   ],
   "source": [
    "# Propagation rule\n",
    "H_next = f_identity(A*H)\n",
    "print(\"H_next:\\n\", H_next)"
   ]
  },
  {
   "cell_type": "markdown",
   "metadata": {},
   "source": [
    "## Adding self-loop features\n",
    "\n",
    "In this second attempt at implementing a graph convolution, we will simply sum the nodes features of the neighbouring nodes and the features of the node itself, and call those the new features of the node.\n",
    "\n",
    "This is simply implemented as $ H_n = (A + I)H $."
   ]
  },
  {
   "cell_type": "code",
   "execution_count": 6,
   "metadata": {},
   "outputs": [
    {
     "name": "stdout",
     "output_type": "stream",
     "text": [
      "A:\n",
      " [[0. 1. 1. 0.]\n",
      " [1. 0. 1. 1.]\n",
      " [1. 1. 0. 0.]\n",
      " [0. 1. 0. 0.]]\n",
      "\n",
      "\n",
      "A_hat:\n",
      " [[1. 1. 1. 0.]\n",
      " [1. 1. 1. 1.]\n",
      " [1. 1. 1. 0.]\n",
      " [0. 1. 0. 1.]]\n"
     ]
    }
   ],
   "source": [
    "# Identity matrix\n",
    "I = np.matrix(np.eye(A.shape[0]))\n",
    "# Define A_hat as A + I\n",
    "A_hat = A + I\n",
    "print(\"A:\\n\", A)\n",
    "print(\"\\n\")\n",
    "print(\"A_hat:\\n\", A_hat)"
   ]
  },
  {
   "cell_type": "code",
   "execution_count": 7,
   "metadata": {},
   "outputs": [
    {
     "name": "stdout",
     "output_type": "stream",
     "text": [
      "H_next:\n",
      " [[ 5. -5.]\n",
      " [ 8. -8.]\n",
      " [ 3. -3.]\n",
      " [ 2. -2.]]\n",
      "\n",
      "\n",
      "H_next2:\n",
      " [[  6.  -6.]\n",
      " [ 10. -10.]\n",
      " [  6.  -6.]\n",
      " [  6.  -6.]]\n"
     ]
    }
   ],
   "source": [
    "# Propagation rule\n",
    "H_next2 = f_identity(A_hat*H)\n",
    "print(\"H_next:\\n\", H_next)\n",
    "print(\"\\n\")\n",
    "print(\"H_next2:\\n\", H_next2)"
   ]
  },
  {
   "cell_type": "markdown",
   "metadata": {},
   "source": [
    "## Enhancing the propagation rule #1: normalizing features\n",
    "\n",
    "In this next formula, we will implement a normalization for the graph convolution, using the degree matrix.\n",
    "\n",
    "The formula becomes: $ H_n = (D+I)^{-1} (A+I) H $."
   ]
  },
  {
   "cell_type": "code",
   "execution_count": 8,
   "metadata": {},
   "outputs": [
    {
     "name": "stdout",
     "output_type": "stream",
     "text": [
      "D:\n",
      " [[2. 0. 0. 0.]\n",
      " [0. 3. 0. 0.]\n",
      " [0. 0. 2. 0.]\n",
      " [0. 0. 0. 1.]]\n"
     ]
    }
   ],
   "source": [
    "# Define the degree matrix\n",
    "D = np.array(np.sum(A, axis = 0))[0]\n",
    "D = np.matrix(np.diag(D))\n",
    "print(\"D:\\n\", D)"
   ]
  },
  {
   "cell_type": "code",
   "execution_count": 9,
   "metadata": {},
   "outputs": [
    {
     "name": "stdout",
     "output_type": "stream",
     "text": [
      "D_inv:\n",
      " [[0.5        0.         0.         0.        ]\n",
      " [0.         0.33333333 0.         0.        ]\n",
      " [0.         0.         0.5        0.        ]\n",
      " [0.         0.         0.         1.        ]]\n"
     ]
    }
   ],
   "source": [
    "# Invert degree matrix\n",
    "D_inv = D**-1\n",
    "print(\"D_inv:\\n\", D_inv)"
   ]
  },
  {
   "cell_type": "code",
   "execution_count": 10,
   "metadata": {},
   "outputs": [
    {
     "name": "stdout",
     "output_type": "stream",
     "text": [
      "N:\n",
      " [[0.         0.5        0.5        0.        ]\n",
      " [0.33333333 0.         0.33333333 0.33333333]\n",
      " [0.5        0.5        0.         0.        ]\n",
      " [0.         1.         0.         0.        ]]\n"
     ]
    }
   ],
   "source": [
    "# Nomalization at a glance\n",
    "N = D_inv*A\n",
    "print(\"N:\\n\", N)"
   ]
  },
  {
   "cell_type": "code",
   "execution_count": 11,
   "metadata": {},
   "outputs": [
    {
     "name": "stdout",
     "output_type": "stream",
     "text": [
      "H_next3:\n",
      " [[ 2.5        -2.5       ]\n",
      " [ 2.66666667 -2.66666667]\n",
      " [ 1.5        -1.5       ]\n",
      " [ 2.         -2.        ]]\n",
      "H_next2:\n",
      " [[  6.  -6.]\n",
      " [ 10. -10.]\n",
      " [  6.  -6.]\n",
      " [  6.  -6.]]\n"
     ]
    }
   ],
   "source": [
    "# Update propagation rule\n",
    "H_next3 = f_identity(N*H)\n",
    "print(\"H_next3:\\n\", H_next3)\n",
    "print(\"H_next2:\\n\", H_next2)"
   ]
  },
  {
   "cell_type": "markdown",
   "metadata": {},
   "source": [
    "## Enhancing the propagation rule #2: adding weights\n",
    "\n",
    "To makes this trainable, consider to add a matrix of weights $ W $ to the convolution formula, which is now: $ H_n = (D+I)^{-1} (A+I) H W $."
   ]
  },
  {
   "cell_type": "code",
   "execution_count": 12,
   "metadata": {},
   "outputs": [
    {
     "name": "stdout",
     "output_type": "stream",
     "text": [
      "W:\n",
      " [[ 1 -1]\n",
      " [-1  1]]\n"
     ]
    }
   ],
   "source": [
    "# Weight matrix\n",
    "W = np.matrix([[1, -1],[-1, 1]])\n",
    "print(\"W:\\n\", W)"
   ]
  },
  {
   "cell_type": "code",
   "execution_count": 13,
   "metadata": {},
   "outputs": [
    {
     "name": "stdout",
     "output_type": "stream",
     "text": [
      "D_hat:\n",
      " [[3. 0. 0. 0.]\n",
      " [0. 4. 0. 0.]\n",
      " [0. 0. 3. 0.]\n",
      " [0. 0. 0. 2.]]\n"
     ]
    }
   ],
   "source": [
    "# Define D_hat as the degree matrix of A_hat\n",
    "D_hat = np.array(np.sum(A_hat, axis = 0))[0]\n",
    "D_hat = np.matrix(np.diag(D_hat))\n",
    "print(\"D_hat:\\n\", D_hat)"
   ]
  },
  {
   "cell_type": "code",
   "execution_count": 14,
   "metadata": {},
   "outputs": [
    {
     "name": "stdout",
     "output_type": "stream",
     "text": [
      "N_hat:\n",
      " [[0.33333333 0.33333333 0.33333333 0.        ]\n",
      " [0.25       0.25       0.25       0.25      ]\n",
      " [0.33333333 0.33333333 0.33333333 0.        ]\n",
      " [0.         0.5        0.         0.5       ]]\n"
     ]
    }
   ],
   "source": [
    "# Define N_hat (normalization)\n",
    "N_hat = (D_hat**-1)*A_hat\n",
    "print(\"N_hat:\\n\", N_hat)"
   ]
  },
  {
   "cell_type": "code",
   "execution_count": 15,
   "metadata": {},
   "outputs": [
    {
     "name": "stdout",
     "output_type": "stream",
     "text": [
      "H_next4:\n",
      " [[ 2.  -2. ]\n",
      " [ 2.5 -2.5]\n",
      " [ 2.  -2. ]\n",
      " [ 3.  -3. ]]\n"
     ]
    }
   ],
   "source": [
    "# Propagation rule\n",
    "H_next4 = f_identity(N_hat*H)\n",
    "print(\"H_next4:\\n\", H_next4)"
   ]
  },
  {
   "cell_type": "code",
   "execution_count": 16,
   "metadata": {},
   "outputs": [
    {
     "name": "stdout",
     "output_type": "stream",
     "text": [
      "H_next4:\n",
      " [[ 4. -4.]\n",
      " [ 5. -5.]\n",
      " [ 4. -4.]\n",
      " [ 6. -6.]]\n"
     ]
    }
   ],
   "source": [
    "# Propagation rule\n",
    "H_next4 = f_identity(N_hat*H*W)\n",
    "print(\"H_next4:\\n\", H_next4)"
   ]
  },
  {
   "cell_type": "markdown",
   "metadata": {},
   "source": [
    "## Enhancing the propagation rule #3: adding a proper activation function\n",
    "\n",
    "To make this convolution formula the forward propagation formula of a Neural Network layer, consider adding an activation function (e.g. ReLU) to the convolution: $ H_n = \\sigma ((D+I)^{-1} (A+I) H W)$."
   ]
  },
  {
   "cell_type": "code",
   "execution_count": 17,
   "metadata": {},
   "outputs": [],
   "source": [
    "# ReLU as activation function\n",
    "def f_relu(X):\n",
    "    # ReLU(X) = max(X, 0) implemented using fancy indexing\n",
    "    X[X<0] = 0\n",
    "    return X"
   ]
  },
  {
   "cell_type": "code",
   "execution_count": 18,
   "metadata": {},
   "outputs": [
    {
     "name": "stdout",
     "output_type": "stream",
     "text": [
      "H_next5:\n",
      " [[4. 0.]\n",
      " [5. 0.]\n",
      " [4. 0.]\n",
      " [6. 0.]]\n"
     ]
    }
   ],
   "source": [
    "# Propagation rule\n",
    "H_next5 = f_relu(N_hat*H*W)\n",
    "print(\"H_next5:\\n\", H_next5)"
   ]
  },
  {
   "cell_type": "markdown",
   "metadata": {},
   "source": [
    "## Enhancing the propagation rule #4: Kipf propagation rule\n",
    "\n",
    "A slight variation of the graph convolution formula is the Kipf convolution, defined as:\n",
    "\n",
    "$$ H_n = \\sigma ((D+I)^{\\frac{-1}{2}} (A+I) (D+I)^{\\frac{-1}{2}} H W $$."
   ]
  },
  {
   "cell_type": "code",
   "execution_count": 19,
   "metadata": {},
   "outputs": [],
   "source": [
    "# Half invert of a diagonal matrix\n",
    "def half_invert(X):\n",
    "    # Half inversion of a diagonal matrix\n",
    "    for i in range(X.shape[0]):\n",
    "        X[i,i] = X[i,i]**(-1/2)\n",
    "    return X"
   ]
  },
  {
   "cell_type": "code",
   "execution_count": 20,
   "metadata": {},
   "outputs": [
    {
     "name": "stdout",
     "output_type": "stream",
     "text": [
      "D_halfinv:\n",
      " [[0.57735027 0.         0.         0.        ]\n",
      " [0.         0.5        0.         0.        ]\n",
      " [0.         0.         0.57735027 0.        ]\n",
      " [0.         0.         0.         0.70710678]]\n"
     ]
    }
   ],
   "source": [
    "# Half invert of degree matrix D_hat\n",
    "D_halfinv = half_invert(D_hat)\n",
    "print(\"D_halfinv:\\n\", D_halfinv)"
   ]
  },
  {
   "cell_type": "code",
   "execution_count": 21,
   "metadata": {},
   "outputs": [
    {
     "name": "stdout",
     "output_type": "stream",
     "text": [
      "N_kipf:\n",
      " [[0.33333333 0.28867513 0.33333333 0.        ]\n",
      " [0.28867513 0.25       0.28867513 0.35355339]\n",
      " [0.33333333 0.28867513 0.33333333 0.        ]\n",
      " [0.         0.35355339 0.         0.5       ]]\n"
     ]
    }
   ],
   "source": [
    "# Kipf normalization (a.k.a. symmetric normalization)\n",
    "N_kipf = D_halfinv*A_hat*D_halfinv\n",
    "print(\"N_kipf:\\n\", N_kipf)"
   ]
  },
  {
   "cell_type": "code",
   "execution_count": 22,
   "metadata": {},
   "outputs": [
    {
     "name": "stdout",
     "output_type": "stream",
     "text": [
      "N_hat:\n",
      " [[0.33333333 0.33333333 0.33333333 0.        ]\n",
      " [0.25       0.25       0.25       0.25      ]\n",
      " [0.33333333 0.33333333 0.33333333 0.        ]\n",
      " [0.         0.5        0.         0.5       ]]\n",
      "\n",
      "\n",
      "N_kipf:\n",
      " [[0.33333333 0.28867513 0.33333333 0.        ]\n",
      " [0.28867513 0.25       0.28867513 0.35355339]\n",
      " [0.33333333 0.28867513 0.33333333 0.        ]\n",
      " [0.         0.35355339 0.         0.5       ]]\n"
     ]
    }
   ],
   "source": [
    "# Compare conventional normalization and Kipf\n",
    "print(\"N_hat:\\n\", N_hat)\n",
    "print(\"\\n\")\n",
    "print(\"N_kipf:\\n\", N_kipf)"
   ]
  },
  {
   "cell_type": "code",
   "execution_count": 23,
   "metadata": {},
   "outputs": [
    {
     "name": "stdout",
     "output_type": "stream",
     "text": [
      "H_next6:\n",
      " [[3.82136721 0.        ]\n",
      " [6.1378282  0.        ]\n",
      " [3.82136721 0.        ]\n",
      " [5.41421356 0.        ]]\n"
     ]
    }
   ],
   "source": [
    "# Propagation rule\n",
    "H_next6 = f_relu(N_kipf*H*W)\n",
    "print(\"H_next6:\\n\", H_next6)"
   ]
  },
  {
   "cell_type": "markdown",
   "metadata": {},
   "source": [
    "## Applying these ideas to a graph dataset\n",
    "\n",
    "Let us try these propagation formulas on the ZKC dataset (to be introduced more in details in Notebook 2)."
   ]
  },
  {
   "cell_type": "code",
   "execution_count": 24,
   "metadata": {},
   "outputs": [],
   "source": [
    "# Fix numpy seed for reproducibility\n",
    "seed_number = 28\n",
    "#seed_number = 14\n",
    "np.random.seed(seed_number)"
   ]
  },
  {
   "cell_type": "code",
   "execution_count": 25,
   "metadata": {},
   "outputs": [],
   "source": [
    "# Import Zachary's karate club dataset\n",
    "zkc = karate_club_graph()"
   ]
  },
  {
   "cell_type": "code",
   "execution_count": 26,
   "metadata": {},
   "outputs": [
    {
     "name": "stdout",
     "output_type": "stream",
     "text": [
      "{'graph': {'name': \"Zachary's Karate Club\"}, '_node': {0: {'club': 'Mr. Hi'}, 1: {'club': 'Mr. Hi'}, 2: {'club': 'Mr. Hi'}, 3: {'club': 'Mr. Hi'}, 4: {'club': 'Mr. Hi'}, 5: {'club': 'Mr. Hi'}, 6: {'club': 'Mr. Hi'}, 7: {'club': 'Mr. Hi'}, 8: {'club': 'Mr. Hi'}, 9: {'club': 'Officer'}, 10: {'club': 'Mr. Hi'}, 11: {'club': 'Mr. Hi'}, 12: {'club': 'Mr. Hi'}, 13: {'club': 'Mr. Hi'}, 14: {'club': 'Officer'}, 15: {'club': 'Officer'}, 16: {'club': 'Mr. Hi'}, 17: {'club': 'Mr. Hi'}, 18: {'club': 'Officer'}, 19: {'club': 'Mr. Hi'}, 20: {'club': 'Officer'}, 21: {'club': 'Mr. Hi'}, 22: {'club': 'Officer'}, 23: {'club': 'Officer'}, 24: {'club': 'Officer'}, 25: {'club': 'Officer'}, 26: {'club': 'Officer'}, 27: {'club': 'Officer'}, 28: {'club': 'Officer'}, 29: {'club': 'Officer'}, 30: {'club': 'Officer'}, 31: {'club': 'Officer'}, 32: {'club': 'Officer'}, 33: {'club': 'Officer'}}, '_adj': {0: {1: {'weight': 4}, 2: {'weight': 5}, 3: {'weight': 3}, 4: {'weight': 3}, 5: {'weight': 3}, 6: {'weight': 3}, 7: {'weight': 2}, 8: {'weight': 2}, 10: {'weight': 2}, 11: {'weight': 3}, 12: {'weight': 1}, 13: {'weight': 3}, 17: {'weight': 2}, 19: {'weight': 2}, 21: {'weight': 2}, 31: {'weight': 2}}, 1: {0: {'weight': 4}, 2: {'weight': 6}, 3: {'weight': 3}, 7: {'weight': 4}, 13: {'weight': 5}, 17: {'weight': 1}, 19: {'weight': 2}, 21: {'weight': 2}, 30: {'weight': 2}}, 2: {0: {'weight': 5}, 1: {'weight': 6}, 3: {'weight': 3}, 7: {'weight': 4}, 8: {'weight': 5}, 9: {'weight': 1}, 13: {'weight': 3}, 27: {'weight': 2}, 28: {'weight': 2}, 32: {'weight': 2}}, 3: {0: {'weight': 3}, 1: {'weight': 3}, 2: {'weight': 3}, 7: {'weight': 3}, 12: {'weight': 3}, 13: {'weight': 3}}, 4: {0: {'weight': 3}, 6: {'weight': 2}, 10: {'weight': 3}}, 5: {0: {'weight': 3}, 6: {'weight': 5}, 10: {'weight': 3}, 16: {'weight': 3}}, 6: {0: {'weight': 3}, 4: {'weight': 2}, 5: {'weight': 5}, 16: {'weight': 3}}, 7: {0: {'weight': 2}, 1: {'weight': 4}, 2: {'weight': 4}, 3: {'weight': 3}}, 8: {0: {'weight': 2}, 2: {'weight': 5}, 30: {'weight': 3}, 32: {'weight': 3}, 33: {'weight': 4}}, 9: {2: {'weight': 1}, 33: {'weight': 2}}, 10: {0: {'weight': 2}, 4: {'weight': 3}, 5: {'weight': 3}}, 11: {0: {'weight': 3}}, 12: {0: {'weight': 1}, 3: {'weight': 3}}, 13: {0: {'weight': 3}, 1: {'weight': 5}, 2: {'weight': 3}, 3: {'weight': 3}, 33: {'weight': 3}}, 14: {32: {'weight': 3}, 33: {'weight': 2}}, 15: {32: {'weight': 3}, 33: {'weight': 4}}, 16: {5: {'weight': 3}, 6: {'weight': 3}}, 17: {0: {'weight': 2}, 1: {'weight': 1}}, 18: {32: {'weight': 1}, 33: {'weight': 2}}, 19: {0: {'weight': 2}, 1: {'weight': 2}, 33: {'weight': 1}}, 20: {32: {'weight': 3}, 33: {'weight': 1}}, 21: {0: {'weight': 2}, 1: {'weight': 2}}, 22: {32: {'weight': 2}, 33: {'weight': 3}}, 23: {25: {'weight': 5}, 27: {'weight': 4}, 29: {'weight': 3}, 32: {'weight': 5}, 33: {'weight': 4}}, 24: {25: {'weight': 2}, 27: {'weight': 3}, 31: {'weight': 2}}, 25: {23: {'weight': 5}, 24: {'weight': 2}, 31: {'weight': 7}}, 26: {29: {'weight': 4}, 33: {'weight': 2}}, 27: {2: {'weight': 2}, 23: {'weight': 4}, 24: {'weight': 3}, 33: {'weight': 4}}, 28: {2: {'weight': 2}, 31: {'weight': 2}, 33: {'weight': 2}}, 29: {23: {'weight': 3}, 26: {'weight': 4}, 32: {'weight': 4}, 33: {'weight': 2}}, 30: {1: {'weight': 2}, 8: {'weight': 3}, 32: {'weight': 3}, 33: {'weight': 3}}, 31: {0: {'weight': 2}, 24: {'weight': 2}, 25: {'weight': 7}, 28: {'weight': 2}, 32: {'weight': 4}, 33: {'weight': 4}}, 32: {2: {'weight': 2}, 8: {'weight': 3}, 14: {'weight': 3}, 15: {'weight': 3}, 18: {'weight': 1}, 20: {'weight': 3}, 22: {'weight': 2}, 23: {'weight': 5}, 29: {'weight': 4}, 30: {'weight': 3}, 31: {'weight': 4}, 33: {'weight': 5}}, 33: {8: {'weight': 4}, 9: {'weight': 2}, 13: {'weight': 3}, 14: {'weight': 2}, 15: {'weight': 4}, 18: {'weight': 2}, 19: {'weight': 1}, 20: {'weight': 1}, 23: {'weight': 4}, 26: {'weight': 2}, 27: {'weight': 4}, 28: {'weight': 2}, 29: {'weight': 2}, 30: {'weight': 3}, 31: {'weight': 4}, 32: {'weight': 5}, 22: {'weight': 3}}}, 'nodes': NodeView((0, 1, 2, 3, 4, 5, 6, 7, 8, 9, 10, 11, 12, 13, 14, 15, 16, 17, 18, 19, 20, 21, 22, 23, 24, 25, 26, 27, 28, 29, 30, 31, 32, 33))}\n"
     ]
    }
   ],
   "source": [
    "# Check what is in zkc\n",
    "print(zkc.__dict__)"
   ]
  },
  {
   "cell_type": "code",
   "execution_count": 27,
   "metadata": {},
   "outputs": [
    {
     "name": "stdout",
     "output_type": "stream",
     "text": [
      "Node index: 0, node labels: {'club': 'Mr. Hi'}\n",
      "Node index: 1, node labels: {'club': 'Mr. Hi'}\n",
      "Node index: 2, node labels: {'club': 'Mr. Hi'}\n",
      "Node index: 3, node labels: {'club': 'Mr. Hi'}\n",
      "Node index: 4, node labels: {'club': 'Mr. Hi'}\n",
      "Node index: 5, node labels: {'club': 'Mr. Hi'}\n",
      "Node index: 6, node labels: {'club': 'Mr. Hi'}\n",
      "Node index: 7, node labels: {'club': 'Mr. Hi'}\n",
      "Node index: 8, node labels: {'club': 'Mr. Hi'}\n",
      "Node index: 9, node labels: {'club': 'Officer'}\n",
      "Node index: 10, node labels: {'club': 'Mr. Hi'}\n",
      "Node index: 11, node labels: {'club': 'Mr. Hi'}\n",
      "Node index: 12, node labels: {'club': 'Mr. Hi'}\n",
      "Node index: 13, node labels: {'club': 'Mr. Hi'}\n",
      "Node index: 14, node labels: {'club': 'Officer'}\n",
      "Node index: 15, node labels: {'club': 'Officer'}\n",
      "Node index: 16, node labels: {'club': 'Mr. Hi'}\n",
      "Node index: 17, node labels: {'club': 'Mr. Hi'}\n",
      "Node index: 18, node labels: {'club': 'Officer'}\n",
      "Node index: 19, node labels: {'club': 'Mr. Hi'}\n",
      "Node index: 20, node labels: {'club': 'Officer'}\n",
      "Node index: 21, node labels: {'club': 'Mr. Hi'}\n",
      "Node index: 22, node labels: {'club': 'Officer'}\n",
      "Node index: 23, node labels: {'club': 'Officer'}\n",
      "Node index: 24, node labels: {'club': 'Officer'}\n",
      "Node index: 25, node labels: {'club': 'Officer'}\n",
      "Node index: 26, node labels: {'club': 'Officer'}\n",
      "Node index: 27, node labels: {'club': 'Officer'}\n",
      "Node index: 28, node labels: {'club': 'Officer'}\n",
      "Node index: 29, node labels: {'club': 'Officer'}\n",
      "Node index: 30, node labels: {'club': 'Officer'}\n",
      "Node index: 31, node labels: {'club': 'Officer'}\n",
      "Node index: 32, node labels: {'club': 'Officer'}\n",
      "Node index: 33, node labels: {'club': 'Officer'}\n"
     ]
    }
   ],
   "source": [
    "nodes_index_list = []\n",
    "for node_key, node_value in zkc._node.items():\n",
    "    print(\"Node index: {}, node labels: {}\".format(node_key, node_value))\n",
    "    nodes_index_list.append(node_key)"
   ]
  },
  {
   "cell_type": "code",
   "execution_count": 28,
   "metadata": {},
   "outputs": [
    {
     "name": "stdout",
     "output_type": "stream",
     "text": [
      "nodes_labels:\n",
      " ['Mr. Hi', 'Mr. Hi', 'Mr. Hi', 'Mr. Hi', 'Mr. Hi', 'Mr. Hi', 'Mr. Hi', 'Mr. Hi', 'Mr. Hi', 'Officer', 'Mr. Hi', 'Mr. Hi', 'Mr. Hi', 'Mr. Hi', 'Officer', 'Officer', 'Mr. Hi', 'Mr. Hi', 'Officer', 'Mr. Hi', 'Officer', 'Mr. Hi', 'Officer', 'Officer', 'Officer', 'Officer', 'Officer', 'Officer', 'Officer', 'Officer', 'Officer', 'Officer', 'Officer', 'Officer']\n"
     ]
    }
   ],
   "source": [
    "# Retrieve node labels\n",
    "nodes_labels = [node_value['club'] for node_value in zkc._node.values()]\n",
    "print(\"nodes_labels:\\n\", nodes_labels)"
   ]
  },
  {
   "cell_type": "code",
   "execution_count": 29,
   "metadata": {},
   "outputs": [
    {
     "name": "stdout",
     "output_type": "stream",
     "text": [
      "nodes_labels_binary:\n",
      " [1, 1, 1, 1, 1, 1, 1, 1, 1, 0, 1, 1, 1, 1, 0, 0, 1, 1, 0, 1, 0, 1, 0, 0, 0, 0, 0, 0, 0, 0, 0, 0, 0, 0]\n"
     ]
    }
   ],
   "source": [
    "# Retrieve node labels (binary representation)\n",
    "nodes_labels_binary = [int(node_value['club'] == 'Mr. Hi') for node_value in zkc._node.values()]\n",
    "print(\"nodes_labels_binary:\\n\", nodes_labels_binary)"
   ]
  },
  {
   "cell_type": "code",
   "execution_count": 30,
   "metadata": {},
   "outputs": [
    {
     "name": "stdout",
     "output_type": "stream",
     "text": [
      "nodes_index_list:  [0, 1, 2, 3, 4, 5, 6, 7, 8, 9, 10, 11, 12, 13, 14, 15, 16, 17, 18, 19, 20, 21, 22, 23, 24, 25, 26, 27, 28, 29, 30, 31, 32, 33]\n",
      "number_of_nodes:  34\n"
     ]
    }
   ],
   "source": [
    "print(\"nodes_index_list: \", nodes_index_list)\n",
    "number_of_nodes = len(nodes_index_list)\n",
    "print(\"number_of_nodes: \", number_of_nodes)"
   ]
  },
  {
   "cell_type": "code",
   "execution_count": 31,
   "metadata": {},
   "outputs": [
    {
     "name": "stdout",
     "output_type": "stream",
     "text": [
      "A:\n",
      " [[0. 4. 5. ... 2. 0. 0.]\n",
      " [4. 0. 6. ... 0. 0. 0.]\n",
      " [5. 6. 0. ... 0. 2. 0.]\n",
      " ...\n",
      " [2. 0. 0. ... 0. 4. 4.]\n",
      " [0. 0. 2. ... 4. 0. 5.]\n",
      " [0. 0. 0. ... 4. 5. 0.]]\n"
     ]
    }
   ],
   "source": [
    "# Retrieve adjacency matrix\n",
    "A = to_numpy_array(zkc, nodelist = nodes_index_list)\n",
    "print(\"A:\\n\", A)"
   ]
  },
  {
   "cell_type": "code",
   "execution_count": 32,
   "metadata": {},
   "outputs": [
    {
     "name": "stdout",
     "output_type": "stream",
     "text": [
      "A_hat:\n",
      " [[1. 4. 5. ... 2. 0. 0.]\n",
      " [4. 1. 6. ... 0. 0. 0.]\n",
      " [5. 6. 1. ... 0. 2. 0.]\n",
      " ...\n",
      " [2. 0. 0. ... 1. 4. 4.]\n",
      " [0. 0. 2. ... 4. 1. 5.]\n",
      " [0. 0. 0. ... 4. 5. 1.]]\n"
     ]
    }
   ],
   "source": [
    "# Reconstruct A_hat\n",
    "I = np.eye(number_of_nodes)\n",
    "A_hat = A + I\n",
    "print(\"A_hat:\\n\", A_hat)"
   ]
  },
  {
   "cell_type": "code",
   "execution_count": 33,
   "metadata": {},
   "outputs": [
    {
     "name": "stdout",
     "output_type": "stream",
     "text": [
      "D_hat:\n",
      " [[43.  0.  0. ...  0.  0.  0.]\n",
      " [ 0. 30.  0. ...  0.  0.  0.]\n",
      " [ 0.  0. 34. ...  0.  0.  0.]\n",
      " ...\n",
      " [ 0.  0.  0. ... 22.  0.  0.]\n",
      " [ 0.  0.  0. ...  0. 39.  0.]\n",
      " [ 0.  0.  0. ...  0.  0. 49.]]\n"
     ]
    }
   ],
   "source": [
    "# Reconstruct D_hat\n",
    "D_hat = np.array(np.sum(A_hat, axis = 0))\n",
    "D_hat = np.matrix(np.diag(D_hat))\n",
    "print(\"D_hat:\\n\", D_hat)"
   ]
  },
  {
   "cell_type": "code",
   "execution_count": 34,
   "metadata": {},
   "outputs": [
    {
     "name": "stdout",
     "output_type": "stream",
     "text": [
      "H:\n",
      " [[1. 0. 0. ... 0. 0. 0.]\n",
      " [0. 1. 0. ... 0. 0. 0.]\n",
      " [0. 0. 1. ... 0. 0. 0.]\n",
      " ...\n",
      " [0. 0. 0. ... 1. 0. 0.]\n",
      " [0. 0. 0. ... 0. 1. 0.]\n",
      " [0. 0. 0. ... 0. 0. 1.]]\n"
     ]
    }
   ],
   "source": [
    "# Graph features matrix (no features here, so let us use an identity matrix instead)\n",
    "H = np.eye(number_of_nodes)\n",
    "print(\"H:\\n\", H)"
   ]
  },
  {
   "cell_type": "code",
   "execution_count": 35,
   "metadata": {},
   "outputs": [
    {
     "name": "stdout",
     "output_type": "stream",
     "text": [
      "W1:\n",
      " [[ 0.44633238  1.66912005 -0.26427996 -0.96783493]\n",
      " [ 0.05918843  1.51461999  0.33687044 -0.3023687 ]\n",
      " [-0.8386418  -0.51773125  0.25350786 -2.48470399]\n",
      " [-0.65141987 -1.77546915  0.23428583  1.23939986]\n",
      " [-0.65033427 -0.26621493 -0.53871977  0.42074053]\n",
      " [-0.09528633 -0.7698761  -0.18372453  0.17680895]\n",
      " [ 0.73705619  0.69386264 -0.81553033  0.38768045]\n",
      " [ 0.10653701 -0.31457692 -0.69971286  0.05298828]\n",
      " [ 0.93410784  1.45987213 -1.57887712  0.95226643]\n",
      " [-0.60245944  0.46144492 -0.00395915  0.77734803]\n",
      " [-0.49311281  0.60853086  0.31423418 -0.71130376]\n",
      " [ 1.00529604  0.21125897 -0.87314884  0.98415707]\n",
      " [-0.07020317  1.77872202 -0.04265609  0.04648015]\n",
      " [ 1.00089957  1.32104666  1.17109629 -0.78519484]\n",
      " [ 0.50371582 -2.20968693  0.22183904 -2.20445282]\n",
      " [ 0.66817163 -0.45268082 -1.48626246  0.93678017]\n",
      " [ 0.31401692  0.21869421  0.65818808  0.4394821 ]\n",
      " [ 0.25655415  0.22487616  1.45768767 -1.54225597]\n",
      " [-1.4858283  -0.48685766  0.23442597 -0.05697024]\n",
      " [ 1.51424981 -1.37437529 -0.42275153 -0.05047256]\n",
      " [ 0.73488026 -0.70208034 -0.31016571 -1.19823898]\n",
      " [ 0.80444865  0.18561045 -2.87742267  0.29969372]\n",
      " [-0.56206298 -0.69513574  0.0860073   1.37986286]\n",
      " [-0.62741852 -2.1896371   1.1482007   2.09881798]\n",
      " [-0.09021629 -0.41717311 -0.03439246 -0.85130759]\n",
      " [ 0.08729701  0.08950133  1.41592042 -0.84161515]\n",
      " [ 0.6123955   0.42092534  0.64717408 -0.06248269]\n",
      " [-0.03936927  2.27276692  0.58822046 -0.70382302]\n",
      " [-1.23018877 -0.54504406 -1.05002142 -0.63409595]\n",
      " [-1.03899221 -0.25690718  0.48731486  1.11501869]\n",
      " [ 0.86586045  0.76971571  0.37642133  1.33292986]\n",
      " [-0.11814452 -0.34357633  0.8547148  -0.29330599]\n",
      " [-0.24669673 -0.30702898  0.02363316  0.59144632]\n",
      " [-1.60063061 -0.02768881 -0.39374193 -0.52293309]]\n",
      "\n",
      "\n",
      "W2:\n",
      " [[ 0.90167431  0.20058201]\n",
      " [ 1.52556371 -0.01473247]\n",
      " [ 0.28755545 -0.95975832]\n",
      " [ 0.01884707  0.8863719 ]]\n"
     ]
    }
   ],
   "source": [
    "# Initialize weights for two layers, using Normal(0,1) random variables\n",
    "W1 = np.random.normal(loc = 0, scale = 1, size = (number_of_nodes, 4))\n",
    "W2 = np.random.normal(loc = 0, size = (W1.shape[1], 2))\n",
    "print(\"W1:\\n\", W1)\n",
    "print(\"\\n\")\n",
    "print(\"W2:\\n\", W2)"
   ]
  },
  {
   "cell_type": "code",
   "execution_count": 36,
   "metadata": {},
   "outputs": [],
   "source": [
    "# Propagation rule as a function (normalized ReLU)\n",
    "def gcn_normalized_layer(A_hat, D_hat, H, W):\n",
    "    return f_relu((D_hat**-1)*A_hat*H*W)"
   ]
  },
  {
   "cell_type": "code",
   "execution_count": 37,
   "metadata": {},
   "outputs": [
    {
     "name": "stdout",
     "output_type": "stream",
     "text": [
      "H_layer1:\n",
      " [[0.15040903 0.14079563 0.         0.        ]\n",
      " [0.23049084 0.14973362 0.00568224 0.        ]\n",
      " [0.12524435 0.73224139 0.         0.        ]\n",
      " [0.07689039 0.76727013 0.13151384 0.        ]\n",
      " [0.07593742 0.88382923 0.         0.        ]\n",
      " [0.29278027 0.6792315  0.         0.        ]\n",
      " [0.08864314 0.14110679 0.         0.03772484]\n",
      " [0.         0.12034362 0.13114985 0.        ]\n",
      " [0.         0.19370894 0.         0.        ]\n",
      " [0.         0.         0.         0.        ]\n",
      " [0.         0.09316643 0.         0.        ]\n",
      " [0.58607329 1.30465478 0.         0.        ]\n",
      " [0.         0.         0.07918429 0.55936896]\n",
      " [0.         0.38549106 0.13026466 0.        ]\n",
      " [0.         0.         0.         0.        ]\n",
      " [0.         0.         0.         0.07742335]\n",
      " [0.31990379 0.         0.         0.30470719]\n",
      " [0.30210183 1.26943406 0.31649955 0.        ]\n",
      " [0.         0.         0.         0.        ]\n",
      " [0.15411013 0.82756933 0.         0.        ]\n",
      " [0.         0.         0.         0.01063338]\n",
      " [0.36309805 1.31061811 0.         0.        ]\n",
      " [0.         0.         0.         0.16565937]\n",
      " [0.         0.22419616 0.48117397 0.        ]\n",
      " [0.         0.7366222  0.78394242 0.        ]\n",
      " [0.         0.         0.87140951 0.39311451]\n",
      " [0.         0.         0.25842138 0.47881798]\n",
      " [0.         0.         0.28642099 0.        ]\n",
      " [0.         0.         0.05413429 0.        ]\n",
      " [0.         0.         0.41626158 0.60581864]\n",
      " [0.         0.59786823 0.         0.31587762]\n",
      " [0.         0.01626671 0.29946977 0.        ]\n",
      " [0.         0.         0.04477864 0.22945957]\n",
      " [0.00236287 0.         0.06264518 0.34285822]]\n",
      "H_layer2:\n",
      " [[1.02759203 0.        ]\n",
      " [0.955275   0.        ]\n",
      " [0.40917991 0.        ]\n",
      " [0.5249003  0.03185768]\n",
      " [0.38736132 0.02007305]\n",
      " [0.34266261 0.09182252]\n",
      " [0.82602524 0.09887123]\n",
      " [0.81619518 0.        ]\n",
      " [0.55880777 0.13315363]\n",
      " [0.32080581 0.12570832]\n",
      " [0.99933252 0.02306764]\n",
      " [0.8925048  0.04565505]\n",
      " [0.84334524 0.01631977]\n",
      " [0.63717158 0.03088283]\n",
      " [0.01746928 0.16162146]\n",
      " [0.01993596 0.19085673]\n",
      " [0.72607413 0.08968982]\n",
      " [0.85968158 0.        ]\n",
      " [0.01760343 0.16222727]\n",
      " [0.5007797  0.06605082]\n",
      " [0.01568195 0.14698085]\n",
      " [0.78068651 0.03737161]\n",
      " [0.01955721 0.20006739]\n",
      " [0.12207066 0.        ]\n",
      " [0.29176402 0.        ]\n",
      " [0.40898858 0.        ]\n",
      " [0.09443033 0.17353834]\n",
      " [0.61556717 0.        ]\n",
      " [0.3929515  0.        ]\n",
      " [0.14483152 0.04127304]\n",
      " [0.2343156  0.12947829]\n",
      " [0.25101879 0.        ]\n",
      " [0.24698141 0.        ]\n",
      " [0.21422596 0.        ]]\n"
     ]
    }
   ],
   "source": [
    "# Compute output for GCN normalized layer 1\n",
    "H_layer1 = gcn_normalized_layer(A_hat, D_hat, H, W1)\n",
    "# Compute output for GCN normalized layer 2\n",
    "H_layer2 = gcn_normalized_layer(A_hat, D_hat, H_layer1, W2)\n",
    "print(\"H_layer1:\\n\", H_layer1)\n",
    "print(\"H_layer2:\\n\", H_layer2)"
   ]
  },
  {
   "cell_type": "code",
   "execution_count": 38,
   "metadata": {},
   "outputs": [
    {
     "name": "stdout",
     "output_type": "stream",
     "text": [
      "{0: array([1.02759203, 0.        ]), 1: array([0.955275, 0.      ]), 2: array([0.40917991, 0.        ]), 3: array([0.5249003 , 0.03185768]), 4: array([0.38736132, 0.02007305]), 5: array([0.34266261, 0.09182252]), 6: array([0.82602524, 0.09887123]), 7: array([0.81619518, 0.        ]), 8: array([0.55880777, 0.13315363]), 9: array([0.32080581, 0.12570832]), 10: array([0.99933252, 0.02306764]), 11: array([0.8925048 , 0.04565505]), 12: array([0.84334524, 0.01631977]), 13: array([0.63717158, 0.03088283]), 14: array([0.01746928, 0.16162146]), 15: array([0.01993596, 0.19085673]), 16: array([0.72607413, 0.08968982]), 17: array([0.85968158, 0.        ]), 18: array([0.01760343, 0.16222727]), 19: array([0.5007797 , 0.06605082]), 20: array([0.01568195, 0.14698085]), 21: array([0.78068651, 0.03737161]), 22: array([0.01955721, 0.20006739]), 23: array([0.12207066, 0.        ]), 24: array([0.29176402, 0.        ]), 25: array([0.40898858, 0.        ]), 26: array([0.09443033, 0.17353834]), 27: array([0.61556717, 0.        ]), 28: array([0.3929515, 0.       ]), 29: array([0.14483152, 0.04127304]), 30: array([0.2343156 , 0.12947829]), 31: array([0.25101879, 0.        ]), 32: array([0.24698141, 0.        ]), 33: array([0.21422596, 0.        ])}\n"
     ]
    }
   ],
   "source": [
    "nodes_embeddings = {node: np.array(H_layer2)[node] for node in zkc.nodes()}\n",
    "print(nodes_embeddings)"
   ]
  },
  {
   "cell_type": "code",
   "execution_count": 39,
   "metadata": {},
   "outputs": [],
   "source": [
    "# Display our embeddings\n",
    "def display_after_embedding(nodes_embeddings, nodes_labels_binary):\n",
    "    plt.figure(figsize = (7, 5))\n",
    "    for node_key, node_value in nodes_embeddings.items():\n",
    "        label_bool = nodes_labels_binary[node_key]\n",
    "        marker_node = '+' if label_bool else 'o'\n",
    "        color_node = 'b' if label_bool else 'r'\n",
    "        plt.scatter(node_value[0], node_value[1], color = color_node, marker = marker_node)\n",
    "    plt.plot()\n",
    "    plt.show()"
   ]
  },
  {
   "cell_type": "code",
   "execution_count": 40,
   "metadata": {},
   "outputs": [
    {
     "data": {
      "image/png": "[encoded data removed]",
      "text/plain": [
       "<Figure size 700x500 with 1 Axes>"
      ]
     },
     "metadata": {},
     "output_type": "display_data"
    }
   ],
   "source": [
    "display_after_embedding(nodes_embeddings, nodes_labels_binary)"
   ]
  },
  {
   "cell_type": "markdown",
   "metadata": {},
   "source": [
    "## Applying these ideas to a graph dataset - Kipf normalization\n",
    "\n",
    "Same idea as before but with the Kipf formula now."
   ]
  },
  {
   "cell_type": "code",
   "execution_count": 41,
   "metadata": {},
   "outputs": [],
   "source": [
    "# Fix numpy seed for reproducibility\n",
    "seed_number = 121\n",
    "np.random.seed(seed_number)"
   ]
  },
  {
   "cell_type": "code",
   "execution_count": 42,
   "metadata": {},
   "outputs": [
    {
     "name": "stdout",
     "output_type": "stream",
     "text": [
      "W1:\n",
      " [[-2.12033165e-01 -2.84929170e-01 -5.73898209e-01 -4.40310167e-01]\n",
      " [-3.30110555e-01  1.18369457e+00  1.61537293e+00  3.67062470e-01]\n",
      " [-1.41193100e-02  6.29641797e-01  1.70964074e+00 -1.32698736e+00]\n",
      " [ 4.01873123e-01 -1.91426666e-01  1.40382596e+00 -1.96876855e+00]\n",
      " [-7.90415162e-01 -7.32721605e-01  8.77438211e-02 -5.00285999e-01]\n",
      " [ 5.04114441e-01  6.07406100e-01  1.16644959e+00  8.24424421e-01]\n",
      " [-3.08672460e+00  1.16434226e+00  1.08265161e+00  4.85795994e-01]\n",
      " [-1.23488428e+00 -1.85888172e+00  4.88156281e-01  3.85894995e-01]\n",
      " [-2.26521488e-01  1.07671161e-01  1.71999521e+00  1.04079381e+00]\n",
      " [-2.44410648e+00 -8.58170660e-02 -9.48240269e-01 -2.47713448e+00]\n",
      " [ 1.06287650e+00  2.19250534e-01  7.25935861e-01  1.94107566e-02]\n",
      " [-1.37278961e+00  4.96968485e-01  3.12543021e-01  2.86478815e-01]\n",
      " [-9.35590717e-01 -9.02731092e-01  8.63507235e-01  9.50108784e-01]\n",
      " [ 7.09047261e-01  6.28473225e-01 -2.58758006e-02  1.39789293e+00]\n",
      " [ 6.60855946e-01  1.08614350e+00 -3.04687917e-02 -6.90968686e-01]\n",
      " [-1.40307239e+00 -1.38350220e+00  7.20916997e-01  7.17304691e-01]\n",
      " [-6.55668378e-01  8.50597308e-01 -8.88313483e-01 -1.77928048e+00]\n",
      " [-5.65157168e-01 -7.93616201e-01  8.11429415e-01 -8.90220067e-01]\n",
      " [-4.25199539e-02  1.65306813e-01 -1.54128370e-02 -2.27170374e+00]\n",
      " [ 2.73815573e-03 -1.42616162e-01  1.76627183e+00 -7.70943328e-01]\n",
      " [ 7.90005995e-01  1.48862211e+00 -6.19907700e-01  6.29433363e-01]\n",
      " [ 3.35221310e-01 -1.35179791e-01  4.50454069e-01  8.38252301e-01]\n",
      " [ 1.20277207e+00  1.34585595e+00 -1.71621950e+00  3.03925009e-01]\n",
      " [ 1.23569851e+00  9.31011034e-01 -1.41135360e+00  7.69216892e-01]\n",
      " [ 3.43008455e-02  1.32124954e+00 -1.13258159e+00  3.22026023e-01]\n",
      " [-8.82447318e-01 -2.48441196e-01 -3.59774704e-01  8.20333445e-01]\n",
      " [ 7.04141309e-02 -1.44608111e+00  1.18501007e+00  2.28906905e-01]\n",
      " [-5.45910299e-01 -9.28274439e-01 -4.84323026e-01  1.47719731e-01]\n",
      " [ 2.87571801e-01 -7.52811879e-01  1.03883699e+00 -9.94552874e-01]\n",
      " [ 6.49213400e-01  6.53117902e-02  1.78391075e-02  1.38005111e-01]\n",
      " [ 4.09223929e-02 -7.14852276e-01 -9.69648790e-01  3.22676395e-01]\n",
      " [ 5.44471480e-01 -1.85894773e-01  1.08696935e+00 -3.50949149e-01]\n",
      " [-1.56421624e+00  9.00167775e-01  6.07244701e-01  1.58774539e+00]\n",
      " [-1.54584894e+00  2.53294090e-01 -3.58468177e-01 -7.69144368e-01]]\n",
      "\n",
      "\n",
      "W2:\n",
      " [[-4.61953015e-01  1.68822820e-01]\n",
      " [ 2.75074688e-01  1.76768370e+00]\n",
      " [ 1.18520458e-03  1.05735930e+00]\n",
      " [-1.67764607e-01 -1.90315269e+00]]\n"
     ]
    }
   ],
   "source": [
    "# Initialize weights for two layers, using Normal(0,1) random variables\n",
    "W1 = np.random.normal(loc = 0, scale = 1, size = (number_of_nodes, 4))\n",
    "W2 = np.random.normal(loc = 0, size = (W1.shape[1], 2))\n",
    "print(\"W1:\\n\", W1)\n",
    "print(\"\\n\")\n",
    "print(\"W2:\\n\", W2)"
   ]
  },
  {
   "cell_type": "code",
   "execution_count": 43,
   "metadata": {},
   "outputs": [],
   "source": [
    "# Propagation rule as a function (Kipf ReLU)\n",
    "def gcn_kipf_layer(A_hat, D_hat, H, W):\n",
    "    D_halfinv = half_invert(D_hat)\n",
    "    return f_relu(D_halfinv*A_hat*D_halfinv*H*W)"
   ]
  },
  {
   "cell_type": "code",
   "execution_count": 44,
   "metadata": {},
   "outputs": [
    {
     "name": "stdout",
     "output_type": "stream",
     "text": [
      "H_layer1:\n",
      " [[0.         0.11890247 1.66163209 0.        ]\n",
      " [0.         0.         0.88594908 0.        ]\n",
      " [0.         0.         0.92072384 0.        ]\n",
      " [0.         0.         0.76980409 0.32984961]\n",
      " [0.         0.15567441 0.35710982 0.        ]\n",
      " [0.         0.7142124  0.31088621 0.        ]\n",
      " [0.         0.38512163 0.15605861 0.        ]\n",
      " [0.         0.15525754 0.87504342 0.        ]\n",
      " [0.         0.10287814 0.22238644 0.        ]\n",
      " [0.         0.06872194 0.         0.        ]\n",
      " [0.         0.         0.3527377  0.00349577]\n",
      " [0.         0.05906518 0.         0.        ]\n",
      " [0.         0.         0.56565043 0.        ]\n",
      " [0.         0.32976934 0.68309461 0.        ]\n",
      " [0.         0.38710616 0.07219977 0.10650622]\n",
      " [0.         0.03112125 0.1208285  0.2039376 ]\n",
      " [0.         0.65219319 0.54269253 0.13440225]\n",
      " [0.         0.         0.2628014  0.        ]\n",
      " [0.         0.14958268 0.         0.        ]\n",
      " [0.         0.13197999 0.44281924 0.        ]\n",
      " [0.         0.50729385 0.         0.41785027]\n",
      " [0.         0.12739654 0.27560104 0.1675337 ]\n",
      " [0.         0.38631818 0.         0.12367026]\n",
      " [0.         0.         0.         0.49533251]\n",
      " [0.         0.         0.         0.178992  ]\n",
      " [0.49735263 0.40928347 0.         0.18996871]\n",
      " [0.10544499 0.         0.13778432 0.00540369]\n",
      " [0.01499415 0.61683325 0.         0.038049  ]\n",
      " [0.         0.         0.50651443 0.        ]\n",
      " [0.         0.         0.31541053 0.44690525]\n",
      " [0.         0.24334745 0.4804245  0.40305636]\n",
      " [0.         0.10893157 0.         0.28289682]\n",
      " [0.37362604 0.63144884 0.         0.12884904]\n",
      " [0.         0.         0.06681238 0.        ]]\n",
      "H_layer2:\n",
      " [[7.06107402e+00 1.62678152e+02]\n",
      " [3.39498890e+00 1.50143552e+02]\n",
      " [4.46656466e+00 1.78764026e+02]\n",
      " [2.06782733e+00 9.77932131e+01]\n",
      " [1.30072350e+00 3.70972013e+01]\n",
      " [4.81724709e+00 6.98727745e+01]\n",
      " [6.43518458e+00 8.09411248e+01]\n",
      " [0.00000000e+00 6.13847266e+01]\n",
      " [1.97733888e-01 6.46625622e+01]\n",
      " [4.21264642e-02 4.09619316e+00]\n",
      " [2.70908772e+00 4.06954780e+01]\n",
      " [4.09231264e-01 2.15803231e+01]\n",
      " [0.00000000e+00 1.06139126e+01]\n",
      " [2.77743312e-01 7.73270541e+01]\n",
      " [0.00000000e+00 1.29114077e+01]\n",
      " [0.00000000e+00 1.24535267e+01]\n",
      " [3.30860076e+00 2.71559239e+01]\n",
      " [2.55256014e-01 1.79038855e+01]\n",
      " [1.03709556e-02 4.35856181e+00]\n",
      " [3.76184518e-01 2.46409822e+01]\n",
      " [0.00000000e+00 1.09778464e+01]\n",
      " [2.89159169e-01 2.20639737e+01]\n",
      " [4.99604264e-02 9.28027103e+00]\n",
      " [0.00000000e+00 4.25790800e+01]\n",
      " [3.27086575e-01 9.42825329e+00]\n",
      " [0.00000000e+00 0.00000000e+00]\n",
      " [0.00000000e+00 0.00000000e+00]\n",
      " [0.00000000e+00 0.00000000e+00]\n",
      " [0.00000000e+00 7.23603736e+00]\n",
      " [0.00000000e+00 6.92973376e+00]\n",
      " [5.21311249e-02 2.76263601e+01]\n",
      " [0.00000000e+00 5.66327183e+01]\n",
      " [0.00000000e+00 0.00000000e+00]\n",
      " [3.37029529e+00 6.90416161e+01]]\n"
     ]
    }
   ],
   "source": [
    "# Compute output for GCN Kipf layer 1\n",
    "H_layer1 = gcn_kipf_layer(A_hat, D_hat, H, W1)\n",
    "# Compute output for GCN Kipf layer 2\n",
    "H_layer2 = gcn_kipf_layer(A_hat, D_hat, H_layer1, W2)\n",
    "print(\"H_layer1:\\n\", H_layer1)\n",
    "print(\"H_layer2:\\n\", H_layer2)"
   ]
  },
  {
   "cell_type": "code",
   "execution_count": 45,
   "metadata": {},
   "outputs": [
    {
     "name": "stdout",
     "output_type": "stream",
     "text": [
      "{0: array([  7.06107402, 162.67815216]), 1: array([  3.3949889 , 150.14355163]), 2: array([  4.46656466, 178.76402553]), 3: array([ 2.06782733, 97.79321307]), 4: array([ 1.3007235 , 37.09720131]), 5: array([ 4.81724709, 69.87277452]), 6: array([ 6.43518458, 80.94112482]), 7: array([ 0.        , 61.38472656]), 8: array([ 0.19773389, 64.66256216]), 9: array([0.04212646, 4.09619316]), 10: array([ 2.70908772, 40.69547796]), 11: array([ 0.40923126, 21.58032313]), 12: array([ 0.        , 10.61391264]), 13: array([ 0.27774331, 77.32705415]), 14: array([ 0.        , 12.91140766]), 15: array([ 0.        , 12.45352671]), 16: array([ 3.30860076, 27.15592392]), 17: array([ 0.25525601, 17.90388545]), 18: array([0.01037096, 4.35856181]), 19: array([ 0.37618452, 24.64098217]), 20: array([ 0.        , 10.97784642]), 21: array([ 0.28915917, 22.06397366]), 22: array([0.04996043, 9.28027103]), 23: array([ 0.        , 42.57908003]), 24: array([0.32708657, 9.42825329]), 25: array([0., 0.]), 26: array([0., 0.]), 27: array([0., 0.]), 28: array([0.        , 7.23603736]), 29: array([0.        , 6.92973376]), 30: array([ 0.05213112, 27.62636011]), 31: array([ 0.        , 56.63271831]), 32: array([0., 0.]), 33: array([ 3.37029529, 69.04161614])}\n"
     ]
    }
   ],
   "source": [
    "nodes_embeddings = {node: np.array(H_layer2)[node] for node in zkc.nodes()}\n",
    "print(nodes_embeddings)"
   ]
  },
  {
   "cell_type": "code",
   "execution_count": 46,
   "metadata": {},
   "outputs": [
    {
     "data": {
      "image/png": "[encoded data removed]",
      "text/plain": [
       "<Figure size 700x500 with 1 Axes>"
      ]
     },
     "metadata": {},
     "output_type": "display_data"
    }
   ],
   "source": [
    "# Display our embeddings\n",
    "display_after_embedding(nodes_embeddings, nodes_labels_binary)"
   ]
  },
  {
   "cell_type": "markdown",
   "metadata": {},
   "source": [
    "### What is next?\n",
    "\n",
    "Next, we need to find a way to train these graph convolution layers and set values to the weight matrices of these convolution formulas in ordfer to match target labels.\n",
    "\n",
    "The next notebook will therefore introduce models relying on these graph convolutions, and train said models."
   ]
  },
  {
   "cell_type": "code",
   "execution_count": null,
   "metadata": {},
   "outputs": [],
   "source": []
  }
 ],
 "metadata": {
  "kernelspec": {
   "display_name": "Python 3 (ipykernel)",
   "language": "python",
   "name": "python3"
  },
  "language_info": {
   "codemirror_mode": {
    "name": "ipython",
    "version": 3
   },
   "file_extension": ".py",
   "mimetype": "text/x-python",
   "name": "python",
   "nbconvert_exporter": "python",
   "pygments_lexer": "ipython3",
   "version": "3.11.5"
  }
 },
 "nbformat": 4,
 "nbformat_minor": 4
}
