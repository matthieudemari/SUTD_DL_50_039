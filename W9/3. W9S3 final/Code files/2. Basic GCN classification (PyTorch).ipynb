{
 "cells": [
  {
   "cell_type": "markdown",
   "metadata": {},
   "source": [
    "# 2. Basic GCN classification (PyTorch)\n",
    "\n",
    "### About this notebook\n",
    "\n",
    "This notebook was used in the 50.039 Deep Learning course at the Singapore University of Technology and Design.\n",
    "\n",
    "**Author:** Matthieu DE MARI (matthieu_demari@sutd.edu.sg)\n",
    "\n",
    "**Version:** 1.2 (29/08/2023)\n",
    "\n",
    "**Requirements:**\n",
    "- Python 3 (tested on v3.11.4)\n",
    "- Matplotlib (tested on v3.7.2)\n",
    "- Numpy (tested on v1.25.2)\n",
    "- Torch (tested on v2.0.1+cu118)\n",
    "- Imageio (tested on v2.31.2)"
   ]
  },
  {
   "cell_type": "code",
   "execution_count": 1,
   "metadata": {},
   "outputs": [],
   "source": [
    "import numpy as np\n",
    "import torch\n",
    "import torch.nn as nn\n",
    "import torch.optim as optim\n",
    "import matplotlib.pyplot as plt\n",
    "import imageio"
   ]
  },
  {
   "cell_type": "markdown",
   "metadata": {},
   "source": [
    "### Dataset"
   ]
  },
  {
   "cell_type": "code",
   "execution_count": 2,
   "metadata": {},
   "outputs": [],
   "source": [
    "# Adjacency matrix for Zachary graph\n",
    "adj = np.array([[0,1,1,1,1,1,1,1,1,0,1,1,1,1,0,0,0,1,0,1,0,1,0,0,0,0,0,0,0,0,0,1,0,0],\n",
    "                [1,0,1,1,0,0,0,1,0,0,0,0,0,1,0,0,0,1,0,1,0,1,0,0,0,0,0,0,0,0,1,0,0,0],\n",
    "                [1,1,0,1,0,0,0,1,1,1,0,0,0,1,0,0,0,0,0,0,0,0,0,0,0,0,0,1,1,0,0,0,1,0],\n",
    "                [1,1,1,0,0,0,0,1,0,0,0,0,1,1,0,0,0,0,0,0,0,0,0,0,0,0,0,0,0,0,0,0,0,0],\n",
    "                [1,0,0,0,0,0,1,0,0,0,1,0,0,0,0,0,0,0,0,0,0,0,0,0,0,0,0,0,0,0,0,0,0,0],\n",
    "                [1,0,0,0,0,0,1,0,0,0,1,0,0,0,0,0,1,0,0,0,0,0,0,0,0,0,0,0,0,0,0,0,0,0],\n",
    "                [1,0,0,0,1,1,0,0,0,0,0,0,0,0,0,0,1,0,0,0,0,0,0,0,0,0,0,0,0,0,0,0,0,0],\n",
    "                [1,1,1,1,0,0,0,0,0,0,0,0,0,0,0,0,0,0,0,0,0,0,0,0,0,0,0,0,0,0,0,0,0,0],\n",
    "                [1,0,1,0,0,0,0,0,0,0,0,0,0,0,0,0,0,0,0,0,0,0,0,0,0,0,0,0,0,0,1,0,1,1],\n",
    "                [0,0,1,0,0,0,0,0,0,0,0,0,0,0,0,0,0,0,0,0,0,0,0,0,0,0,0,0,0,0,0,0,0,1],\n",
    "                [1,0,0,0,1,1,0,0,0,0,0,0,0,0,0,0,0,0,0,0,0,0,0,0,0,0,0,0,0,0,0,0,0,0],\n",
    "                [1,0,0,0,0,0,0,0,0,0,0,0,0,0,0,0,0,0,0,0,0,0,0,0,0,0,0,0,0,0,0,0,0,0],\n",
    "                [1,0,0,1,0,0,0,0,0,0,0,0,0,0,0,0,0,0,0,0,0,0,0,0,0,0,0,0,0,0,0,0,0,0],\n",
    "                [1,1,1,1,0,0,0,0,0,0,0,0,0,0,0,0,0,0,0,0,0,0,0,0,0,0,0,0,0,0,0,0,0,1],\n",
    "                [0,0,0,0,0,0,0,0,0,0,0,0,0,0,0,0,0,0,0,0,0,0,0,0,0,0,0,0,0,0,0,0,1,1],\n",
    "                [0,0,0,0,0,0,0,0,0,0,0,0,0,0,0,0,0,0,0,0,0,0,0,0,0,0,0,0,0,0,0,0,1,1],\n",
    "                [0,0,0,0,0,1,1,0,0,0,0,0,0,0,0,0,0,0,0,0,0,0,0,0,0,0,0,0,0,0,0,0,0,0],\n",
    "                [1,1,0,0,0,0,0,0,0,0,0,0,0,0,0,0,0,0,0,0,0,0,0,0,0,0,0,0,0,0,0,0,0,0],\n",
    "                [0,0,0,0,0,0,0,0,0,0,0,0,0,0,0,0,0,0,0,0,0,0,0,0,0,0,0,0,0,0,0,0,1,1],\n",
    "                [1,1,0,0,0,0,0,0,0,0,0,0,0,0,0,0,0,0,0,0,0,0,0,0,0,0,0,0,0,0,0,0,0,1],\n",
    "                [0,0,0,0,0,0,0,0,0,0,0,0,0,0,0,0,0,0,0,0,0,0,0,0,0,0,0,0,0,0,0,0,1,1],\n",
    "                [1,1,0,0,0,0,0,0,0,0,0,0,0,0,0,0,0,0,0,0,0,0,0,0,0,0,0,0,0,0,0,0,0,0],\n",
    "                [0,0,0,0,0,0,0,0,0,0,0,0,0,0,0,0,0,0,0,0,0,0,0,0,0,0,0,0,0,0,0,0,1,1],\n",
    "                [0,0,0,0,0,0,0,0,0,0,0,0,0,0,0,0,0,0,0,0,0,0,0,0,0,1,0,1,0,1,0,0,1,1],\n",
    "                [0,0,0,0,0,0,0,0,0,0,0,0,0,0,0,0,0,0,0,0,0,0,0,0,0,1,0,1,0,0,0,1,0,0],\n",
    "                [0,0,0,0,0,0,0,0,0,0,0,0,0,0,0,0,0,0,0,0,0,0,0,1,1,0,0,0,0,0,0,1,0,0],\n",
    "                [0,0,0,0,0,0,0,0,0,0,0,0,0,0,0,0,0,0,0,0,0,0,0,0,0,0,0,0,0,1,0,0,0,1],\n",
    "                [0,0,1,0,0,0,0,0,0,0,0,0,0,0,0,0,0,0,0,0,0,0,0,1,1,0,0,0,0,0,0,0,0,1],\n",
    "                [0,0,1,0,0,0,0,0,0,0,0,0,0,0,0,0,0,0,0,0,0,0,0,0,0,0,0,0,0,0,0,1,0,1],\n",
    "                [0,0,0,0,0,0,0,0,0,0,0,0,0,0,0,0,0,0,0,0,0,0,0,1,0,0,1,0,0,0,0,0,1,1],\n",
    "                [0,1,0,0,0,0,0,0,1,0,0,0,0,0,0,0,0,0,0,0,0,0,0,0,0,0,0,0,0,0,0,0,1,1],\n",
    "                [1,0,0,0,0,0,0,0,0,0,0,0,0,0,0,0,0,0,0,0,0,0,0,0,1,1,0,0,1,0,0,0,1,1],\n",
    "                [0,0,1,0,0,0,0,0,1,0,0,0,0,0,1,1,0,0,1,0,1,0,1,1,0,0,0,0,0,1,1,1,0,1],\n",
    "                [0,0,0,0,0,0,0,0,1,1,0,0,0,1,1,1,0,0,1,1,1,0,1,1,0,0,1,1,1,1,1,1,1,0]])\n",
    "A = torch.Tensor(adj)"
   ]
  },
  {
   "cell_type": "code",
   "execution_count": 3,
   "metadata": {},
   "outputs": [],
   "source": [
    "# Ground truth for reference\n",
    "ground_truth = torch.tensor([0, 0, 0, 0 ,0 ,0 ,0, 0, 1, 1, 0 ,0, 0, 0, 1 ,1 ,0 ,0, \\\n",
    "                             1, 0, 1, 0 ,1 ,1, 1, 1, 1 ,1 ,1, 1, 1, 1, 1, 1 ])\n",
    "\n",
    "# Labels for all nodes\n",
    "# (Removing the two nodes that will not be classified, i.e. node 0 which is admin,\n",
    "# and node 34 which is instructor.\n",
    "revised_ground_truth = torch.tensor([0, 0, 0 ,0 ,0 ,0, 0, 1, 1, 0 ,0, 0, 0, 1 ,1 ,0 ,0, \\\n",
    "                                     1, 0, 1, 0 ,1 ,1, 1, 1, 1 ,1 ,1, 1, 1, 1, 1])"
   ]
  },
  {
   "cell_type": "markdown",
   "metadata": {},
   "source": [
    "### GCN with basic graph convolutions, no nodes features"
   ]
  },
  {
   "cell_type": "code",
   "execution_count": 4,
   "metadata": {},
   "outputs": [],
   "source": [
    "class GCNConv_Layer(nn.Module):\n",
    "    \"\"\"\n",
    "    Standard GCN convolution layer class\n",
    "    \"\"\"\n",
    "    \n",
    "    def __init__(self, adj, input_channels, output_channels):\n",
    "        super().__init__()\n",
    "        self.A_hat = adj + torch.eye(adj.size(0))\n",
    "        self.D = torch.diag(torch.sum(adj, 1))\n",
    "        self.D = self.D.inverse()\n",
    "        self.A_hat = torch.mm(self.D, self.A_hat)\n",
    "        self.W = nn.Parameter(torch.rand(input_channels, output_channels))\n",
    "    \n",
    "    def forward(self, H):\n",
    "        out = torch.relu(torch.mm(torch.mm(self.A_hat, H), self.W))\n",
    "        return out"
   ]
  },
  {
   "cell_type": "code",
   "execution_count": 5,
   "metadata": {},
   "outputs": [],
   "source": [
    "class Net1(torch.nn.Module):\n",
    "    \"\"\"\n",
    "    Standard GCN model class\n",
    "    \"\"\"\n",
    "    \n",
    "    def __init__(self, adj, num_feat, num_hid, num_out):\n",
    "        super().__init__()\n",
    "        self.conv1 = GCNConv_Layer(adj, num_feat, num_hid)\n",
    "        self.conv2 = GCNConv_Layer(adj, num_hid, num_out)\n",
    "        \n",
    "    def forward(self, H):\n",
    "        H_next  = self.conv1(H)\n",
    "        out = self.conv2(H_next)\n",
    "        return out"
   ]
  },
  {
   "cell_type": "code",
   "execution_count": 6,
   "metadata": {},
   "outputs": [],
   "source": [
    "# No relevant features for nodes \n",
    "# Using H = identity will make nodes features irrelevant\n",
    "# and the model will have to learn from adjacency matrix only\n",
    "H = torch.eye(A.size(0))"
   ]
  },
  {
   "cell_type": "code",
   "execution_count": 7,
   "metadata": {},
   "outputs": [],
   "source": [
    "model = Net1(A, H.size(0), 10, 2)\n",
    "criterion = torch.nn.CrossEntropyLoss()\n",
    "optimizer = optim.SGD(model.parameters(), lr = 0.01, momentum = 0.9)\n",
    "loss = criterion(model(H), ground_truth)"
   ]
  },
  {
   "cell_type": "code",
   "execution_count": 8,
   "metadata": {},
   "outputs": [
    {
     "name": "stdout",
     "output_type": "stream",
     "text": [
      "Cross Entropy Loss (iter = 0): = 0.6765420436859131\n",
      "Cross Entropy Loss (iter = 10): = 0.6185696721076965\n",
      "Cross Entropy Loss (iter = 20): = 0.5711336135864258\n",
      "Cross Entropy Loss (iter = 30): = 0.51249098777771\n",
      "Cross Entropy Loss (iter = 40): = 0.45465755462646484\n",
      "Cross Entropy Loss (iter = 50): = 0.3993892967700958\n",
      "Cross Entropy Loss (iter = 60): = 0.3479302227497101\n",
      "Cross Entropy Loss (iter = 70): = 0.30236196517944336\n",
      "Cross Entropy Loss (iter = 80): = 0.26332902908325195\n",
      "Cross Entropy Loss (iter = 90): = 0.2308417558670044\n",
      "Cross Entropy Loss (iter = 100): = 0.2042159140110016\n",
      "Cross Entropy Loss (iter = 110): = 0.18252034485340118\n",
      "Cross Entropy Loss (iter = 120): = 0.16480281949043274\n",
      "Cross Entropy Loss (iter = 130): = 0.15022973716259003\n",
      "Cross Entropy Loss (iter = 140): = 0.13815106451511383\n",
      "Cross Entropy Loss (iter = 150): = 0.1280423402786255\n",
      "Cross Entropy Loss (iter = 160): = 0.11955039948225021\n",
      "Cross Entropy Loss (iter = 170): = 0.1122511774301529\n",
      "Cross Entropy Loss (iter = 180): = 0.10589879751205444\n",
      "Cross Entropy Loss (iter = 190): = 0.10031579434871674\n",
      "Cross Entropy Loss (iter = 200): = 0.09536769241094589\n",
      "Cross Entropy Loss (iter = 210): = 0.09095027297735214\n",
      "Cross Entropy Loss (iter = 220): = 0.08698643743991852\n",
      "Cross Entropy Loss (iter = 230): = 0.08340291678905487\n",
      "Cross Entropy Loss (iter = 240): = 0.08014440536499023\n",
      "Cross Entropy Loss (iter = 250): = 0.07716630399227142\n",
      "Cross Entropy Loss (iter = 260): = 0.07443205267190933\n",
      "Cross Entropy Loss (iter = 270): = 0.07191449403762817\n",
      "Cross Entropy Loss (iter = 280): = 0.06958487629890442\n",
      "Cross Entropy Loss (iter = 290): = 0.06742093712091446\n",
      "Cross Entropy Loss (iter = 300): = 0.06540414690971375\n",
      "Cross Entropy Loss (iter = 310): = 0.06351874768733978\n",
      "Cross Entropy Loss (iter = 320): = 0.061751771718263626\n",
      "Cross Entropy Loss (iter = 330): = 0.060102514922618866\n",
      "Cross Entropy Loss (iter = 340): = 0.05855664983391762\n",
      "Cross Entropy Loss (iter = 350): = 0.05709946155548096\n",
      "Cross Entropy Loss (iter = 360): = 0.055719900876283646\n",
      "Cross Entropy Loss (iter = 370): = 0.05441078543663025\n",
      "Cross Entropy Loss (iter = 380): = 0.05316879600286484\n",
      "Cross Entropy Loss (iter = 390): = 0.05199847370386124\n",
      "Cross Entropy Loss (iter = 400): = 0.050887495279312134\n",
      "Cross Entropy Loss (iter = 410): = 0.04982892423868179\n",
      "Cross Entropy Loss (iter = 420): = 0.048820096999406815\n",
      "Cross Entropy Loss (iter = 430): = 0.04785558208823204\n",
      "Cross Entropy Loss (iter = 440): = 0.04693231359124184\n",
      "Cross Entropy Loss (iter = 450): = 0.04604806751012802\n",
      "Cross Entropy Loss (iter = 460): = 0.04519679769873619\n",
      "Cross Entropy Loss (iter = 470): = 0.04437915235757828\n",
      "Cross Entropy Loss (iter = 480): = 0.04359317570924759\n",
      "Cross Entropy Loss (iter = 490): = 0.04283572733402252\n"
     ]
    }
   ],
   "source": [
    "history1 = []\n",
    "for i in range(500):\n",
    "    # Forward pass\n",
    "    optimizer.zero_grad()\n",
    "    pred = model(H)\n",
    "    # Remove first and last nodes predictions\n",
    "    trimmed_pred = pred[1:-1]\n",
    "    loss = criterion(trimmed_pred, revised_ground_truth)\n",
    "    \n",
    "    # Backprop\n",
    "    loss.backward()\n",
    "    optimizer.step()\n",
    "    \n",
    "    # For display later\n",
    "    l = (model(H))\n",
    "\n",
    "    if i%10 == 0:\n",
    "        history1.append(loss.item())\n",
    "        print(\"Cross Entropy Loss (iter = {}): =\".format(i), loss.item())"
   ]
  },
  {
   "cell_type": "code",
   "execution_count": 9,
   "metadata": {
    "scrolled": true
   },
   "outputs": [
    {
     "data": {
      "text/plain": [
       "<matplotlib.collections.PathCollection at 0x235737bc790>"
      ]
     },
     "execution_count": 9,
     "metadata": {},
     "output_type": "execute_result"
    },
    {
     "data": {
      "image/png": "[encoded data removed]",
      "text/plain": [
       "<Figure size 640x480 with 1 Axes>"
      ]
     },
     "metadata": {},
     "output_type": "display_data"
    }
   ],
   "source": [
    "plt.scatter(l.detach().numpy()[:,0], l.detach().numpy()[:,1], \\\n",
    "            c = ground_truth)"
   ]
  },
  {
   "cell_type": "markdown",
   "metadata": {},
   "source": [
    "### GCN with Kipf graph convolutions, no nodes features"
   ]
  },
  {
   "cell_type": "code",
   "execution_count": 10,
   "metadata": {},
   "outputs": [],
   "source": [
    "class GCNKipf_Layer(nn.Module):\n",
    "    \"\"\"\n",
    "    Kipf GCN convolution layer class\n",
    "    \"\"\"\n",
    "    \n",
    "    def __init__(self, adj, input_channels, output_channels):\n",
    "        super().__init__()\n",
    "        self.A_hat = adj + torch.eye(adj.size(0))\n",
    "        self.D = torch.diag(torch.sum(adj, 1))\n",
    "        self.D = self.D.inverse().sqrt()\n",
    "        self.A_hat = torch.mm(torch.mm(self.D, self.A_hat), self.D)\n",
    "        self.W = nn.Parameter(torch.rand(input_channels, output_channels))\n",
    "    \n",
    "    def forward(self, H):\n",
    "        out = torch.relu(torch.mm(torch.mm(self.A_hat, H), self.W))\n",
    "        return out"
   ]
  },
  {
   "cell_type": "code",
   "execution_count": 11,
   "metadata": {},
   "outputs": [],
   "source": [
    "class Net2(torch.nn.Module):\n",
    "    \"\"\"\n",
    "    Standard GCN model class\n",
    "    \"\"\"\n",
    "    \n",
    "    def __init__(self, adj, num_feat, num_hid, num_out):\n",
    "        super().__init__()\n",
    "        self.conv1 = GCNKipf_Layer(adj, num_feat, num_hid)\n",
    "        self.conv2 = GCNKipf_Layer(adj, num_hid, num_out)\n",
    "        \n",
    "    def forward(self, H):\n",
    "        H_next  = self.conv1(H)\n",
    "        out = self.conv2(H_next)\n",
    "        return out"
   ]
  },
  {
   "cell_type": "code",
   "execution_count": 12,
   "metadata": {},
   "outputs": [],
   "source": [
    "# No relevant features for nodes \n",
    "# Using X = identity will make nodes features irrelevant\n",
    "# and the model will have to learn from adjacency matrix only\n",
    "H = torch.eye(A.size(0))"
   ]
  },
  {
   "cell_type": "code",
   "execution_count": 13,
   "metadata": {},
   "outputs": [],
   "source": [
    "model2 = Net2(A, H.size(0), 10, 2)\n",
    "criterion = torch.nn.CrossEntropyLoss()\n",
    "optimizer = optim.SGD(model2.parameters(), lr = 0.01, momentum = 0.9)\n",
    "loss = criterion(model2(H), ground_truth)"
   ]
  },
  {
   "cell_type": "code",
   "execution_count": 14,
   "metadata": {},
   "outputs": [
    {
     "name": "stdout",
     "output_type": "stream",
     "text": [
      "Cross Entropy Loss (iter = 0): = 0.7568095922470093\n",
      "Cross Entropy Loss (iter = 10): = 0.6859213709831238\n",
      "Cross Entropy Loss (iter = 20): = 0.6734427809715271\n",
      "Cross Entropy Loss (iter = 30): = 0.6440261602401733\n",
      "Cross Entropy Loss (iter = 40): = 0.6217541098594666\n",
      "Cross Entropy Loss (iter = 50): = 0.5961170196533203\n",
      "Cross Entropy Loss (iter = 60): = 0.5697943568229675\n",
      "Cross Entropy Loss (iter = 70): = 0.5411206483840942\n",
      "Cross Entropy Loss (iter = 80): = 0.510368824005127\n",
      "Cross Entropy Loss (iter = 90): = 0.47766125202178955\n",
      "Cross Entropy Loss (iter = 100): = 0.4436216354370117\n",
      "Cross Entropy Loss (iter = 110): = 0.4090341031551361\n",
      "Cross Entropy Loss (iter = 120): = 0.3748076260089874\n",
      "Cross Entropy Loss (iter = 130): = 0.3418128490447998\n",
      "Cross Entropy Loss (iter = 140): = 0.3107767701148987\n",
      "Cross Entropy Loss (iter = 150): = 0.28220778703689575\n",
      "Cross Entropy Loss (iter = 160): = 0.25637689232826233\n",
      "Cross Entropy Loss (iter = 170): = 0.23334386944770813\n",
      "Cross Entropy Loss (iter = 180): = 0.21300862729549408\n",
      "Cross Entropy Loss (iter = 190): = 0.1952839195728302\n",
      "Cross Entropy Loss (iter = 200): = 0.18005812168121338\n",
      "Cross Entropy Loss (iter = 210): = 0.1667521744966507\n",
      "Cross Entropy Loss (iter = 220): = 0.15506763756275177\n",
      "Cross Entropy Loss (iter = 230): = 0.14477872848510742\n",
      "Cross Entropy Loss (iter = 240): = 0.13574889302253723\n",
      "Cross Entropy Loss (iter = 250): = 0.1277277022600174\n",
      "Cross Entropy Loss (iter = 260): = 0.12056046724319458\n",
      "Cross Entropy Loss (iter = 270): = 0.11412515491247177\n",
      "Cross Entropy Loss (iter = 280): = 0.1083214208483696\n",
      "Cross Entropy Loss (iter = 290): = 0.10306541621685028\n",
      "Cross Entropy Loss (iter = 300): = 0.09837795048952103\n",
      "Cross Entropy Loss (iter = 310): = 0.09421304613351822\n",
      "Cross Entropy Loss (iter = 320): = 0.09041232615709305\n",
      "Cross Entropy Loss (iter = 330): = 0.08691858500242233\n",
      "Cross Entropy Loss (iter = 340): = 0.08369199931621552\n",
      "Cross Entropy Loss (iter = 350): = 0.08070141077041626\n",
      "Cross Entropy Loss (iter = 360): = 0.07792104035615921\n",
      "Cross Entropy Loss (iter = 370): = 0.07532886415719986\n",
      "Cross Entropy Loss (iter = 380): = 0.07290595024824142\n",
      "Cross Entropy Loss (iter = 390): = 0.07063575088977814\n",
      "Cross Entropy Loss (iter = 400): = 0.06850384920835495\n",
      "Cross Entropy Loss (iter = 410): = 0.0664975643157959\n",
      "Cross Entropy Loss (iter = 420): = 0.06460565328598022\n",
      "Cross Entropy Loss (iter = 430): = 0.06281927227973938\n",
      "Cross Entropy Loss (iter = 440): = 0.06112873926758766\n",
      "Cross Entropy Loss (iter = 450): = 0.059525929391384125\n",
      "Cross Entropy Loss (iter = 460): = 0.05801347643136978\n",
      "Cross Entropy Loss (iter = 470): = 0.056613970547914505\n",
      "Cross Entropy Loss (iter = 480): = 0.05528710037469864\n",
      "Cross Entropy Loss (iter = 490): = 0.054023049771785736\n"
     ]
    }
   ],
   "source": [
    "history2 = []\n",
    "for i in range(500):\n",
    "    # Forward pass\n",
    "    optimizer.zero_grad()\n",
    "    pred = model2(H)\n",
    "    # Remove first and last nodes predictions\n",
    "    trimmed_pred = pred[1:-1]\n",
    "    loss = criterion(trimmed_pred, revised_ground_truth)\n",
    "    \n",
    "    # Backprop\n",
    "    loss.backward()\n",
    "    optimizer.step()\n",
    "    \n",
    "    # For display later\n",
    "    l = (model2(H))\n",
    "\n",
    "    if i%10 == 0:\n",
    "        history2.append(loss.item())\n",
    "        print(\"Cross Entropy Loss (iter = {}): =\".format(i), loss.item())"
   ]
  },
  {
   "cell_type": "code",
   "execution_count": 15,
   "metadata": {
    "scrolled": true
   },
   "outputs": [
    {
     "data": {
      "text/plain": [
       "<matplotlib.collections.PathCollection at 0x23509166850>"
      ]
     },
     "execution_count": 15,
     "metadata": {},
     "output_type": "execute_result"
    },
    {
     "data": {
      "image/png": "[encoded data removed]",
      "text/plain": [
       "<Figure size 640x480 with 1 Axes>"
      ]
     },
     "metadata": {},
     "output_type": "display_data"
    }
   ],
   "source": [
    "plt.scatter(l.detach().numpy()[:,0], l.detach().numpy()[:,1], \\\n",
    "            c = ground_truth)"
   ]
  },
  {
   "cell_type": "markdown",
   "metadata": {},
   "source": [
    "### GCN with Kipf graph convolutions, adding hop-distance to admin/instructor as nodes features"
   ]
  },
  {
   "cell_type": "code",
   "execution_count": 16,
   "metadata": {},
   "outputs": [],
   "source": [
    "def bfs(adj, start, goal):\n",
    "    \"\"\"\n",
    "    Gives hop-distance between node start and node goal\n",
    "    for given adjacency matrix.\n",
    "    Returns zero if start = goal\n",
    "    or goal not reachable from start.\n",
    "    \"\"\"\n",
    "    \n",
    "    if start == goal:\n",
    "        return float(0)\n",
    "    queue = [start]\n",
    "    visited = []\n",
    "    dist = float(0)\n",
    "    \n",
    "    while(len(queue) > 0):\n",
    "        dist += 1\n",
    "        temp = []\n",
    "        for q in queue:\n",
    "            neighbours_node = np.argwhere(adj[q]).reshape(1, -1)[0]\n",
    "            if goal in neighbours_node:\n",
    "                return dist\n",
    "            else:\n",
    "                for n in neighbours_node:\n",
    "                    not_visited = (n not in visited)\n",
    "                    not_queue = (n not in queue)\n",
    "                    not_temp = (n not in temp)\n",
    "                    if not_visited and not_queue and not_temp:\n",
    "                        temp.append(n)\n",
    "        visited.extend(queue)\n",
    "        queue = temp\n",
    "    return float(-1)"
   ]
  },
  {
   "cell_type": "code",
   "execution_count": 17,
   "metadata": {},
   "outputs": [
    {
     "name": "stdout",
     "output_type": "stream",
     "text": [
      "2.0\n"
     ]
    }
   ],
   "source": [
    "y = bfs(adj, 1, 33)\n",
    "print(y)"
   ]
  },
  {
   "cell_type": "code",
   "execution_count": 18,
   "metadata": {},
   "outputs": [
    {
     "name": "stdout",
     "output_type": "stream",
     "text": [
      "tensor([[0., 2.],\n",
      "        [1., 2.],\n",
      "        [1., 2.],\n",
      "        [1., 2.],\n",
      "        [1., 3.],\n",
      "        [1., 3.],\n",
      "        [1., 3.],\n",
      "        [1., 3.],\n",
      "        [1., 1.],\n",
      "        [2., 1.],\n",
      "        [1., 3.],\n",
      "        [1., 3.],\n",
      "        [1., 3.],\n",
      "        [1., 1.],\n",
      "        [3., 1.],\n",
      "        [3., 1.],\n",
      "        [2., 4.],\n",
      "        [1., 3.],\n",
      "        [3., 1.],\n",
      "        [1., 1.],\n",
      "        [3., 1.],\n",
      "        [1., 3.],\n",
      "        [3., 1.],\n",
      "        [3., 1.],\n",
      "        [2., 2.],\n",
      "        [2., 2.],\n",
      "        [3., 1.],\n",
      "        [2., 1.],\n",
      "        [2., 1.],\n",
      "        [3., 1.],\n",
      "        [2., 1.],\n",
      "        [1., 1.],\n",
      "        [2., 1.],\n",
      "        [2., 0.]])\n"
     ]
    }
   ],
   "source": [
    "# Adding relevant features (hop distance to nodes admin and instructor)\n",
    "node_features = np.array([[bfs(adj, i, 0), bfs(adj, i, 33)] for i in range(34)])\n",
    "H2 = torch.from_numpy(node_features).float()\n",
    "print(H2)"
   ]
  },
  {
   "cell_type": "code",
   "execution_count": 19,
   "metadata": {},
   "outputs": [],
   "source": [
    "model3 = Net2(A, H2.size(1), 10, 2)\n",
    "criterion = torch.nn.CrossEntropyLoss()\n",
    "optimizer = optim.SGD(model3.parameters(), lr = 0.01, momentum = 0.9)\n",
    "loss = criterion(model3(H2), ground_truth)"
   ]
  },
  {
   "cell_type": "code",
   "execution_count": 20,
   "metadata": {},
   "outputs": [
    {
     "name": "stdout",
     "output_type": "stream",
     "text": [
      "Cross Entropy Loss (iter = 0): = 0.997664213180542\n",
      "Cross Entropy Loss (iter = 10): = 0.4434868395328522\n",
      "Cross Entropy Loss (iter = 20): = 0.1928185224533081\n",
      "Cross Entropy Loss (iter = 30): = 0.11583960801362991\n",
      "Cross Entropy Loss (iter = 40): = 0.08666612207889557\n",
      "Cross Entropy Loss (iter = 50): = 0.07192246615886688\n",
      "Cross Entropy Loss (iter = 60): = 0.06320461630821228\n",
      "Cross Entropy Loss (iter = 70): = 0.0569794587790966\n",
      "Cross Entropy Loss (iter = 80): = 0.051928844302892685\n",
      "Cross Entropy Loss (iter = 90): = 0.0477873831987381\n",
      "Cross Entropy Loss (iter = 100): = 0.044261664152145386\n",
      "Cross Entropy Loss (iter = 110): = 0.04119863361120224\n",
      "Cross Entropy Loss (iter = 120): = 0.038498666137456894\n",
      "Cross Entropy Loss (iter = 130): = 0.03609677776694298\n",
      "Cross Entropy Loss (iter = 140): = 0.03394416719675064\n",
      "Cross Entropy Loss (iter = 150): = 0.03200231119990349\n",
      "Cross Entropy Loss (iter = 160): = 0.030242441222071648\n",
      "Cross Entropy Loss (iter = 170): = 0.028640393167734146\n",
      "Cross Entropy Loss (iter = 180): = 0.02717665582895279\n",
      "Cross Entropy Loss (iter = 190): = 0.025833554565906525\n",
      "Cross Entropy Loss (iter = 200): = 0.02459842897951603\n",
      "Cross Entropy Loss (iter = 210): = 0.02345859631896019\n",
      "Cross Entropy Loss (iter = 220): = 0.02240481972694397\n",
      "Cross Entropy Loss (iter = 230): = 0.021428300067782402\n",
      "Cross Entropy Loss (iter = 240): = 0.02052045240998268\n",
      "Cross Entropy Loss (iter = 250): = 0.01967567764222622\n",
      "Cross Entropy Loss (iter = 260): = 0.01888735219836235\n",
      "Cross Entropy Loss (iter = 270): = 0.018151022493839264\n",
      "Cross Entropy Loss (iter = 280): = 0.017461437731981277\n",
      "Cross Entropy Loss (iter = 290): = 0.016815152019262314\n",
      "Cross Entropy Loss (iter = 300): = 0.016208041459321976\n",
      "Cross Entropy Loss (iter = 310): = 0.01563708297908306\n",
      "Cross Entropy Loss (iter = 320): = 0.015099478885531425\n",
      "Cross Entropy Loss (iter = 330): = 0.014592481777071953\n",
      "Cross Entropy Loss (iter = 340): = 0.014113734476268291\n",
      "Cross Entropy Loss (iter = 350): = 0.013661094941198826\n",
      "Cross Entropy Loss (iter = 360): = 0.013232693076133728\n",
      "Cross Entropy Loss (iter = 370): = 0.012826738879084587\n",
      "Cross Entropy Loss (iter = 380): = 0.012441598810255527\n",
      "Cross Entropy Loss (iter = 390): = 0.012075941078364849\n",
      "Cross Entropy Loss (iter = 400): = 0.011728189885616302\n",
      "Cross Entropy Loss (iter = 410): = 0.01139734499156475\n",
      "Cross Entropy Loss (iter = 420): = 0.011082297191023827\n",
      "Cross Entropy Loss (iter = 430): = 0.010781882330775261\n",
      "Cross Entropy Loss (iter = 440): = 0.010495270602405071\n",
      "Cross Entropy Loss (iter = 450): = 0.010221539065241814\n",
      "Cross Entropy Loss (iter = 460): = 0.009959960356354713\n",
      "Cross Entropy Loss (iter = 470): = 0.009709732607007027\n",
      "Cross Entropy Loss (iter = 480): = 0.009470243006944656\n",
      "Cross Entropy Loss (iter = 490): = 0.009240804240107536\n"
     ]
    }
   ],
   "source": [
    "history3 = []\n",
    "for i in range(500):\n",
    "    # Forward pass\n",
    "    optimizer.zero_grad()\n",
    "    pred = model3(H2)\n",
    "    # Remove first and last nodes predictions\n",
    "    trimmed_pred = pred[1:-1]\n",
    "    loss = criterion(trimmed_pred, revised_ground_truth)\n",
    "    \n",
    "    # Backprop\n",
    "    loss.backward()\n",
    "    optimizer.step()\n",
    "    \n",
    "    # For display later\n",
    "    l = (model3(H2))\n",
    "\n",
    "    if i%10 == 0:\n",
    "        history3.append(loss.item())\n",
    "        print(\"Cross Entropy Loss (iter = {}): =\".format(i), loss.item())"
   ]
  },
  {
   "cell_type": "code",
   "execution_count": 21,
   "metadata": {
    "scrolled": true
   },
   "outputs": [
    {
     "data": {
      "text/plain": [
       "<matplotlib.collections.PathCollection at 0x235091bd990>"
      ]
     },
     "execution_count": 21,
     "metadata": {},
     "output_type": "execute_result"
    },
    {
     "data": {
      "image/png": "[encoded data removed]",
      "text/plain": [
       "<Figure size 640x480 with 1 Axes>"
      ]
     },
     "metadata": {},
     "output_type": "display_data"
    }
   ],
   "source": [
    "plt.scatter(l.detach().numpy()[:,0], l.detach().numpy()[:,1], \\\n",
    "            c = ground_truth)"
   ]
  },
  {
   "cell_type": "markdown",
   "metadata": {},
   "source": [
    "### Loss comparison"
   ]
  },
  {
   "cell_type": "code",
   "execution_count": 22,
   "metadata": {},
   "outputs": [
    {
     "data": {
      "text/plain": [
       "<matplotlib.legend.Legend at 0x23509375d90>"
      ]
     },
     "execution_count": 22,
     "metadata": {},
     "output_type": "execute_result"
    },
    {
     "data": {
      "image/png": "[encoded data removed]",
      "text/plain": [
       "<Figure size 1000x700 with 1 Axes>"
      ]
     },
     "metadata": {},
     "output_type": "display_data"
    }
   ],
   "source": [
    "plt.figure(figsize = (10, 7))\n",
    "plt.plot(history1, label = 'Basic GCN, no node features')\n",
    "plt.plot(history2, color = 'red', label = 'Kipf GCN, no node features')\n",
    "plt.plot(history3, color = 'green', label = 'Kipf GCN, hop-distance in node features')\n",
    "plt.legend(loc = 'best')"
   ]
  },
  {
   "cell_type": "code",
   "execution_count": null,
   "metadata": {},
   "outputs": [],
   "source": []
  }
 ],
 "metadata": {
  "kernelspec": {
   "display_name": "Python 3 (ipykernel)",
   "language": "python",
   "name": "python3"
  },
  "language_info": {
   "codemirror_mode": {
    "name": "ipython",
    "version": 3
   },
   "file_extension": ".py",
   "mimetype": "text/x-python",
   "name": "python",
   "nbconvert_exporter": "python",
   "pygments_lexer": "ipython3",
   "version": "3.11.5"
  }
 },
 "nbformat": 4,
 "nbformat_minor": 4
}
