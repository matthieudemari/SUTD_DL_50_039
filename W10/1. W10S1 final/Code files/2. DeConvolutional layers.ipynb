{
 "cells": [
  {
   "cell_type": "markdown",
   "id": "273d70ab",
   "metadata": {},
   "source": [
    "# 2. DeConvolutional layers\n",
    "\n",
    "### About this notebook\n",
    "\n",
    "This notebook was used in the 50.039 Deep Learning course at the Singapore University of Technology and Design.\n",
    "\n",
    "**Author:** Matthieu DE MARI (matthieu_demari@sutd.edu.sg)\n",
    "\n",
    "**Version:** 1.1 (05/04/2022)\n",
    "\n",
    "**Requirements:**\n",
    "- Python 3 (tested on v3.9.6)\n",
    "- Matplotlib (tested on v3.5.1)\n",
    "- Numpy (tested on v1.22.1)\n",
    "\n",
    "### Imports"
   ]
  },
  {
   "cell_type": "code",
   "execution_count": null,
   "id": "5279fcf7",
   "metadata": {},
   "outputs": [],
   "source": [
    "# Imports\n",
    "import torch\n",
    "import torch.nn as nn\n",
    "import torch.nn.functional as F\n",
    "import torch.optim as optim\n",
    "import matplotlib.pyplot as plt\n",
    "from torchvision import datasets, transforms"
   ]
  },
  {
   "cell_type": "markdown",
   "id": "99771cfc",
   "metadata": {},
   "source": [
    "### Standard 2D convolution"
   ]
  },
  {
   "cell_type": "code",
   "execution_count": null,
   "id": "4a6d6480",
   "metadata": {},
   "outputs": [],
   "source": [
    "# A standard 2D Convolution\n",
    "conv = nn.Conv2d(in_channels = 8, \\\n",
    "                 out_channels = 8, \\\n",
    "                 kernel_size = 5)"
   ]
  },
  {
   "cell_type": "code",
   "execution_count": null,
   "id": "51d93485",
   "metadata": {},
   "outputs": [],
   "source": [
    "x = torch.randn(2, 8, 64, 64)\n",
    "print(x.shape)"
   ]
  },
  {
   "cell_type": "code",
   "execution_count": null,
   "id": "84bef76b",
   "metadata": {},
   "outputs": [],
   "source": [
    "y = conv(x)\n",
    "print(y.shape)"
   ]
  },
  {
   "cell_type": "code",
   "execution_count": null,
   "id": "5fee3b67",
   "metadata": {},
   "outputs": [],
   "source": [
    "# A deconvolution layer\n",
    "convt = nn.ConvTranspose2d(in_channels = 8, \\\n",
    "                           out_channels = 8, \\\n",
    "                           kernel_size = 5)\n",
    "z = convt(y)\n",
    "print(z.shape)"
   ]
  },
  {
   "cell_type": "code",
   "execution_count": null,
   "id": "69784947",
   "metadata": {},
   "outputs": [],
   "source": [
    "# Comparing the first line of x and z\n",
    "print(x[0, 0, 0])\n",
    "print(z[0, 0, 0])"
   ]
  },
  {
   "cell_type": "markdown",
   "id": "2aae96d9",
   "metadata": {},
   "source": [
    "### Deconvolution with padding, stride and output padding"
   ]
  },
  {
   "cell_type": "code",
   "execution_count": null,
   "id": "d51c7e34",
   "metadata": {},
   "outputs": [],
   "source": [
    "# A deconvolution layer with padding\n",
    "convt = nn.ConvTranspose2d(in_channels = 16, \\\n",
    "                           out_channels = 8, \\\n",
    "                           kernel_size = 5, \\\n",
    "                           padding = 2)\n",
    "x = torch.randn(32, 16, 64, 64)\n",
    "y = convt(x)\n",
    "print(y.shape)"
   ]
  },
  {
   "cell_type": "code",
   "execution_count": null,
   "id": "6d4ba597",
   "metadata": {},
   "outputs": [],
   "source": [
    "# A deconvolution layer with stride and padding\n",
    "convt = nn.ConvTranspose2d(in_channels = 16, \\\n",
    "                           out_channels = 8, \\\n",
    "                           kernel_size = 5, \\\n",
    "                           stride = 2, \\\n",
    "                           output_padding = 1, \\\n",
    "                           padding = 2)\n",
    "x = torch.randn(32, 16, 64, 64)\n",
    "y = convt(x)\n",
    "print(y.shape)"
   ]
  },
  {
   "cell_type": "code",
   "execution_count": null,
   "id": "a87e0cc2",
   "metadata": {},
   "outputs": [],
   "source": []
  }
 ],
 "metadata": {
  "kernelspec": {
   "display_name": "Python 3",
   "language": "python",
   "name": "python3"
  },
  "language_info": {
   "codemirror_mode": {
    "name": "ipython",
    "version": 3
   },
   "file_extension": ".py",
   "mimetype": "text/x-python",
   "name": "python",
   "nbconvert_exporter": "python",
   "pygments_lexer": "ipython3",
   "version": "3.9.6"
  }
 },
 "nbformat": 4,
 "nbformat_minor": 5
}
