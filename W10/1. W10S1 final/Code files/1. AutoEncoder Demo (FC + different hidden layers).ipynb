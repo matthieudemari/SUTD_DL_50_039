{
 "cells": [
  {
   "cell_type": "markdown",
   "id": "9a9d5fff",
   "metadata": {},
   "source": [
    "# 1. AutoEncoder Demo (FC + different hidden layers)\n",
    "\n",
    "### About this notebook\n",
    "\n",
    "This notebook was used in the 50.039 Deep Learning course at the Singapore University of Technology and Design.\n",
    "\n",
    "**Author:** Matthieu DE MARI (matthieu_demari@sutd.edu.sg)\n",
    "\n",
    "**Version:** 1.1 (05/04/2022)\n",
    "\n",
    "**Requirements:**\n",
    "- Python 3 (tested on v3.9.6)\n",
    "- Matplotlib (tested on v3.5.1)\n",
    "- Numpy (tested on v1.22.1)\n",
    "\n",
    "### Imports"
   ]
  },
  {
   "cell_type": "code",
   "execution_count": null,
   "id": "d69dfad0",
   "metadata": {},
   "outputs": [],
   "source": [
    "# Imports\n",
    "import torch\n",
    "import torchvision\n",
    "import torchvision.transforms as transforms\n",
    "import torch.nn as nn\n",
    "import torch.nn.functional as F\n",
    "from torch.autograd import Variable\n",
    "from torchvision.utils import save_image\n",
    "import matplotlib.pyplot as plt"
   ]
  },
  {
   "cell_type": "code",
   "execution_count": null,
   "id": "02170e66",
   "metadata": {},
   "outputs": [],
   "source": [
    "# CUDA check\n",
    "CUDA = True\n",
    "device = \"cuda\" if (torch.cuda.is_available() and CUDA) else \"cpu\"\n",
    "print(torch.cuda.is_available())\n",
    "print(device)"
   ]
  },
  {
   "cell_type": "markdown",
   "id": "82296d0f",
   "metadata": {},
   "source": [
    "### Dataset and dataloaders"
   ]
  },
  {
   "cell_type": "code",
   "execution_count": null,
   "id": "9db55cdf",
   "metadata": {},
   "outputs": [],
   "source": [
    "# Data Preprocessing\n",
    "# - ToTensor\n",
    "# - Image Normalization\n",
    "transform = transforms.Compose([transforms.ToTensor(), \\\n",
    "                                transforms.Normalize((0.1307,), (0.3081,))])"
   ]
  },
  {
   "cell_type": "code",
   "execution_count": null,
   "id": "2151db7d",
   "metadata": {},
   "outputs": [],
   "source": [
    "# Train datasets/dataloaders\n",
    "train_set = torchvision.datasets.MNIST(root='./data', \\\n",
    "                                       train = True, \\\n",
    "                                       download = True, \\\n",
    "                                       transform = transform)\n",
    "train_loader = torch.utils.data.DataLoader(train_set, \\\n",
    "                                           batch_size = 32, \\\n",
    "                                           shuffle = False)"
   ]
  },
  {
   "cell_type": "code",
   "execution_count": null,
   "id": "144fa8a9",
   "metadata": {},
   "outputs": [],
   "source": [
    "# Test datasets/dataloaders\n",
    "test_set = torchvision.datasets.MNIST(root = './data', \\\n",
    "                                      train = False, \\\n",
    "                                      download = True, \\\n",
    "                                      transform = transform)\n",
    "test_loader = torch.utils.data.DataLoader(test_set, \\\n",
    "                                          batch_size = 5, \\\n",
    "                                          shuffle = False)"
   ]
  },
  {
   "cell_type": "markdown",
   "id": "26a19d5c",
   "metadata": {},
   "source": [
    "### Model\n",
    "\n",
    "Fully connected and hidden layer size can be chosen."
   ]
  },
  {
   "cell_type": "code",
   "execution_count": null,
   "id": "a07a642b",
   "metadata": {},
   "outputs": [],
   "source": [
    "# Define AutoEncoder Model for MNIST\n",
    "class MNIST_Autoencoder(nn.Module):\n",
    "\n",
    "    def __init__(self, hidden_layer = 3):\n",
    "        \n",
    "        # Init from nn.Module\n",
    "        super().__init__()\n",
    "        \n",
    "        # Encoder part will be a simple FC + ReLU.\n",
    "        self.encoder = nn.Sequential(nn.Linear(28*28, hidden_layer), nn.ReLU(True))\n",
    "        \n",
    "        # Decoder part will be a simple FC + Tanh\n",
    "        self.decoder = nn.Sequential(nn.Linear(hidden_layer, 28*28), nn.Tanh())\n",
    "        \n",
    "\n",
    "    def forward(self,x):\n",
    "        \n",
    "        # Forward is encoder into decoder\n",
    "        x = self.encoder(x)\n",
    "        x = self.decoder(x)\n",
    "        return x"
   ]
  },
  {
   "cell_type": "markdown",
   "id": "73cea980",
   "metadata": {},
   "source": [
    "### Model (hidden_size = 5)"
   ]
  },
  {
   "cell_type": "code",
   "execution_count": null,
   "id": "a140954d",
   "metadata": {},
   "outputs": [],
   "source": [
    "# Initialize MNIST Autoencoder\n",
    "torch.manual_seed(0)\n",
    "model = MNIST_Autoencoder(hidden_layer = 5).to(device)"
   ]
  },
  {
   "cell_type": "code",
   "execution_count": null,
   "id": "84b7c03b",
   "metadata": {},
   "outputs": [],
   "source": [
    "# Defining Parameters\n",
    "# - MSE Loss, which will be our reconstruction loss for now\n",
    "# - Adam as optimizer\n",
    "# - 25 Epochs\n",
    "# - 128 as batch size\n",
    "num_epochs = 25\n",
    "batch_size = 128\n",
    "distance = nn.MSELoss()\n",
    "optimizer = torch.optim.Adam(model.parameters(), weight_decay = 1e-5)"
   ]
  },
  {
   "cell_type": "code",
   "execution_count": null,
   "id": "da48f039",
   "metadata": {},
   "outputs": [],
   "source": [
    "outputs_list = []\n",
    "loss_list = []\n",
    "for epoch in range(num_epochs):\n",
    "    for data in train_loader:\n",
    "        \n",
    "        # Flatten image and send data to device\n",
    "        img, _ = data\n",
    "        img = img.view(img.size(0), -1)\n",
    "        img = Variable(img).to(device)\n",
    "        \n",
    "        # Forward pass\n",
    "        output = model(img)\n",
    "        loss = distance(output, img)\n",
    "        \n",
    "        # Backprop\n",
    "        optimizer.zero_grad()\n",
    "        loss.backward()\n",
    "        optimizer.step()\n",
    "        \n",
    "    # Display\n",
    "    print('epoch {}/{}, loss {:.4f}'.format(epoch + 1, num_epochs, loss.item()))\n",
    "    outputs_list.append((epoch, img, output),)\n",
    "    loss_list.append(loss.item())"
   ]
  },
  {
   "cell_type": "code",
   "execution_count": null,
   "id": "260d7071",
   "metadata": {},
   "outputs": [],
   "source": [
    "plt.figure()\n",
    "plt.plot(loss_list)\n",
    "plt.show()"
   ]
  },
  {
   "cell_type": "markdown",
   "id": "99976cf9",
   "metadata": {},
   "source": [
    "### Model (hidden_size = 25)"
   ]
  },
  {
   "cell_type": "code",
   "execution_count": null,
   "id": "f05d01f6",
   "metadata": {},
   "outputs": [],
   "source": [
    "# Initialize MNIST Autoencoder\n",
    "torch.manual_seed(0)\n",
    "model2 = MNIST_Autoencoder(hidden_layer = 25).to(device)"
   ]
  },
  {
   "cell_type": "code",
   "execution_count": null,
   "id": "401b5504",
   "metadata": {},
   "outputs": [],
   "source": [
    "# Defining Parameters\n",
    "# - MSE Loss, which will be our reconstruction loss for now\n",
    "# - Adam as optimizer\n",
    "# - 25 Epochs\n",
    "# - 128 as batch size\n",
    "num_epochs = 25\n",
    "batch_size = 128\n",
    "distance = nn.MSELoss()\n",
    "optimizer = torch.optim.Adam(model2.parameters(), weight_decay = 1e-5)"
   ]
  },
  {
   "cell_type": "code",
   "execution_count": null,
   "id": "c207f34e",
   "metadata": {},
   "outputs": [],
   "source": [
    "outputs_list2 = []\n",
    "loss_list2 = []\n",
    "for epoch in range(num_epochs):\n",
    "    for data in train_loader:\n",
    "        \n",
    "        # Flatten image and send data to device\n",
    "        img, _ = data\n",
    "        img = img.view(img.size(0), -1)\n",
    "        img = Variable(img).to(device)\n",
    "        \n",
    "        # Forward pass\n",
    "        output = model2(img)\n",
    "        loss = distance(output, img)\n",
    "        \n",
    "        # Backprop\n",
    "        optimizer.zero_grad()\n",
    "        loss.backward()\n",
    "        optimizer.step()\n",
    "        \n",
    "    # Display\n",
    "    print('epoch {}/{}, loss {:.4f}'.format(epoch + 1, num_epochs, loss.item()))\n",
    "    outputs_list2.append((epoch, img, output),)\n",
    "    loss_list2.append(loss.item())"
   ]
  },
  {
   "cell_type": "code",
   "execution_count": null,
   "id": "981f92c1",
   "metadata": {},
   "outputs": [],
   "source": [
    "plt.figure()\n",
    "plt.plot(loss_list2)\n",
    "plt.show()"
   ]
  },
  {
   "cell_type": "markdown",
   "id": "91076014",
   "metadata": {},
   "source": [
    "### Model (hidden_size = 125)"
   ]
  },
  {
   "cell_type": "code",
   "execution_count": null,
   "id": "98bfb0e8",
   "metadata": {},
   "outputs": [],
   "source": [
    "# Initialize MNIST Autoencoder\n",
    "torch.manual_seed(0)\n",
    "model3 = MNIST_Autoencoder(hidden_layer = 125).to(device)"
   ]
  },
  {
   "cell_type": "code",
   "execution_count": null,
   "id": "85184ebe",
   "metadata": {},
   "outputs": [],
   "source": [
    "# Defining Parameters\n",
    "# - MSE Loss, which will be our reconstruction loss for now\n",
    "# - Adam as optimizer\n",
    "# - 25 Epochs\n",
    "# - 128 as batch size\n",
    "num_epochs = 25\n",
    "batch_size = 128\n",
    "distance = nn.MSELoss()\n",
    "optimizer = torch.optim.Adam(model3.parameters(), weight_decay = 1e-5)"
   ]
  },
  {
   "cell_type": "code",
   "execution_count": null,
   "id": "38c5c137",
   "metadata": {},
   "outputs": [],
   "source": [
    "outputs_list3 = []\n",
    "loss_list3 = []\n",
    "for epoch in range(num_epochs):\n",
    "    for data in train_loader:\n",
    "        \n",
    "        # Flatten image and send data to device\n",
    "        img, _ = data\n",
    "        img = img.view(img.size(0), -1)\n",
    "        img = Variable(img).to(device)\n",
    "        \n",
    "        # Forward pass\n",
    "        output = model3(img)\n",
    "        loss = distance(output, img)\n",
    "        \n",
    "        # Backprop\n",
    "        optimizer.zero_grad()\n",
    "        loss.backward()\n",
    "        optimizer.step()\n",
    "        \n",
    "    # Display\n",
    "    print('epoch {}/{}, loss {:.4f}'.format(epoch + 1, num_epochs, loss.item()))\n",
    "    outputs_list3.append((epoch, img, output),)\n",
    "    loss_list3.append(loss.item())"
   ]
  },
  {
   "cell_type": "code",
   "execution_count": null,
   "id": "b36e3e13",
   "metadata": {},
   "outputs": [],
   "source": [
    "plt.figure()\n",
    "plt.plot(loss_list3)\n",
    "plt.show()"
   ]
  },
  {
   "cell_type": "markdown",
   "id": "3920699d",
   "metadata": {},
   "source": [
    "### Model (hidden_size = 784)"
   ]
  },
  {
   "cell_type": "code",
   "execution_count": null,
   "id": "945416d4",
   "metadata": {},
   "outputs": [],
   "source": [
    "# Initialize MNIST Autoencoder\n",
    "torch.manual_seed(0)\n",
    "model4 = MNIST_Autoencoder(hidden_layer = 784).to(device)"
   ]
  },
  {
   "cell_type": "code",
   "execution_count": null,
   "id": "33dbdf6b",
   "metadata": {},
   "outputs": [],
   "source": [
    "# Defining Parameters\n",
    "# - MSE Loss, which will be our reconstruction loss for now\n",
    "# - Adam as optimizer\n",
    "# - 25 Epochs\n",
    "# - 128 as batch size\n",
    "num_epochs = 25\n",
    "batch_size = 128\n",
    "distance = nn.MSELoss()\n",
    "optimizer = torch.optim.Adam(model4.parameters(), weight_decay = 1e-5)"
   ]
  },
  {
   "cell_type": "code",
   "execution_count": null,
   "id": "53777c4a",
   "metadata": {},
   "outputs": [],
   "source": [
    "outputs_list4 = []\n",
    "loss_list4 = []\n",
    "for epoch in range(num_epochs):\n",
    "    for data in train_loader:\n",
    "        \n",
    "        # Flatten image and send data to device\n",
    "        img, _ = data\n",
    "        img = img.view(img.size(0), -1)\n",
    "        img = Variable(img).to(device)\n",
    "        \n",
    "        # Forward pass\n",
    "        output = model4(img)\n",
    "        loss = distance(output, img)\n",
    "        \n",
    "        # Backprop\n",
    "        optimizer.zero_grad()\n",
    "        loss.backward()\n",
    "        optimizer.step()\n",
    "        \n",
    "    # Display\n",
    "    print('epoch {}/{}, loss {:.4f}'.format(epoch + 1, num_epochs, loss.item()))\n",
    "    outputs_list4.append((epoch, img, output),)\n",
    "    loss_list4.append(loss.item())"
   ]
  },
  {
   "cell_type": "code",
   "execution_count": null,
   "id": "1cf4e455",
   "metadata": {},
   "outputs": [],
   "source": [
    "plt.figure()\n",
    "plt.plot(loss_list4)\n",
    "plt.show()"
   ]
  },
  {
   "cell_type": "markdown",
   "id": "325c6628",
   "metadata": {},
   "source": [
    "### Visualization"
   ]
  },
  {
   "cell_type": "code",
   "execution_count": null,
   "id": "5e03617a",
   "metadata": {},
   "outputs": [],
   "source": [
    "for data in test_loader:\n",
    "    break\n",
    "img, _ = data\n",
    "img = img.view(img.size(0), -1)\n",
    "img = Variable(img).to(device)\n",
    "out1 = model(img).cpu().detach().numpy().reshape(5, 28, 28)\n",
    "out2 = model2(img).cpu().detach().numpy().reshape(5, 28, 28)\n",
    "out3 = model3(img).cpu().detach().numpy().reshape(5, 28, 28)\n",
    "out4 = model4(img).cpu().detach().numpy().reshape(5, 28, 28)\n",
    "img = img.cpu().detach().numpy().reshape(5, 28, 28)"
   ]
  },
  {
   "cell_type": "code",
   "execution_count": null,
   "id": "da5d04de",
   "metadata": {},
   "outputs": [],
   "source": [
    "plt.figure(figsize = (20, 14))\n",
    "n = 3\n",
    "for i in range(n):\n",
    "    plt.subplot(n, 5, 5*i + 1)\n",
    "    plt.imshow(img[i])\n",
    "    plt.subplot(n, 5, 5*i + 2)\n",
    "    plt.imshow(out1[i])\n",
    "    plt.subplot(n, 5, 5*i + 3)\n",
    "    plt.imshow(out2[i])\n",
    "    plt.subplot(n, 5, 5*i + 4)\n",
    "    plt.imshow(out3[i])\n",
    "    plt.subplot(n, 5, 5*i + 5)\n",
    "    plt.imshow(out4[i])"
   ]
  },
  {
   "cell_type": "code",
   "execution_count": null,
   "id": "ffb3381a",
   "metadata": {},
   "outputs": [],
   "source": [
    "plt.figure(figsize = (10, 7))\n",
    "plt.plot(loss_list, label = \"hidden_layer = 5\")\n",
    "plt.plot(loss_list2, 'r', label = \"hidden_layer = 25\")\n",
    "plt.plot(loss_list3, 'k', label = \"hidden_layer = 125\")\n",
    "plt.plot(loss_list4, 'g', label = \"hidden_layer = 784\")\n",
    "plt.legend(loc = 'best')\n",
    "plt.show()"
   ]
  },
  {
   "cell_type": "code",
   "execution_count": null,
   "id": "516ae7bf",
   "metadata": {},
   "outputs": [],
   "source": []
  }
 ],
 "metadata": {
  "kernelspec": {
   "display_name": "Python 3",
   "language": "python",
   "name": "python3"
  },
  "language_info": {
   "codemirror_mode": {
    "name": "ipython",
    "version": 3
   },
   "file_extension": ".py",
   "mimetype": "text/x-python",
   "name": "python",
   "nbconvert_exporter": "python",
   "pygments_lexer": "ipython3",
   "version": "3.9.6"
  }
 },
 "nbformat": 4,
 "nbformat_minor": 5
}
