{
 "cells": [
  {
   "cell_type": "markdown",
   "id": "2403114e",
   "metadata": {},
   "source": [
    "# 3. AutoEncoder Demo (ConvTranspose)\n",
    "\n",
    "### About this notebook\n",
    "\n",
    "This notebook was used in the 50.039 Deep Learning course at the Singapore University of Technology and Design.\n",
    "\n",
    "**Author:** Matthieu DE MARI (matthieu_demari@sutd.edu.sg)\n",
    "\n",
    "**Version:** 1.1 (05/04/2022)\n",
    "\n",
    "**Requirements:**\n",
    "- Python 3 (tested on v3.9.6)\n",
    "- Matplotlib (tested on v3.5.1)\n",
    "- Numpy (tested on v1.22.1)\n",
    "\n",
    "\n",
    "### Imports"
   ]
  },
  {
   "cell_type": "code",
   "execution_count": null,
   "id": "d69dfad0",
   "metadata": {},
   "outputs": [],
   "source": [
    "# Imports\n",
    "import torch\n",
    "import torchvision\n",
    "import torchvision.transforms as transforms\n",
    "import torch.nn as nn\n",
    "import torch.nn.functional as F\n",
    "from torch.autograd import Variable\n",
    "from torchvision.utils import save_image\n",
    "import matplotlib.pyplot as plt"
   ]
  },
  {
   "cell_type": "code",
   "execution_count": null,
   "id": "02170e66",
   "metadata": {},
   "outputs": [],
   "source": [
    "# CUDA check\n",
    "CUDA = True\n",
    "device = \"cuda\" if (torch.cuda.is_available() and CUDA) else \"cpu\"\n",
    "print(torch.cuda.is_available())\n",
    "print(device)"
   ]
  },
  {
   "cell_type": "markdown",
   "id": "d028eb66",
   "metadata": {},
   "source": [
    "### Dataset and dataloaders"
   ]
  },
  {
   "cell_type": "code",
   "execution_count": null,
   "id": "9db55cdf",
   "metadata": {},
   "outputs": [],
   "source": [
    "# Data Preprocessing\n",
    "# - ToTensor\n",
    "# - Image Normalization\n",
    "transform = transforms.Compose([transforms.ToTensor(), \\\n",
    "                                transforms.Normalize((0.1307,), (0.3081,))])"
   ]
  },
  {
   "cell_type": "code",
   "execution_count": null,
   "id": "2151db7d",
   "metadata": {},
   "outputs": [],
   "source": [
    "# Train datasets/dataloaders\n",
    "train_set = torchvision.datasets.MNIST(root='./data', \\\n",
    "                                       train = True, \\\n",
    "                                       download = True, \\\n",
    "                                       transform = transform)\n",
    "train_loader = torch.utils.data.DataLoader(train_set, \\\n",
    "                                           batch_size = 32, \\\n",
    "                                           shuffle = False)"
   ]
  },
  {
   "cell_type": "code",
   "execution_count": null,
   "id": "144fa8a9",
   "metadata": {},
   "outputs": [],
   "source": [
    "# Test datasets/dataloaders\n",
    "test_set = torchvision.datasets.MNIST(root = './data', \\\n",
    "                                      train = False, \\\n",
    "                                      download = True, \\\n",
    "                                      transform = transform)\n",
    "test_loader = torch.utils.data.DataLoader(test_set, \\\n",
    "                                          batch_size = 4, \\\n",
    "                                          shuffle = False)"
   ]
  },
  {
   "cell_type": "markdown",
   "id": "8e5fdad0",
   "metadata": {},
   "source": [
    "### Model\n",
    "\n",
    "Conv2d and Conv2dTranspose layers"
   ]
  },
  {
   "cell_type": "code",
   "execution_count": null,
   "id": "a07a642b",
   "metadata": {},
   "outputs": [],
   "source": [
    "# Define AutoEncoder Model for MNIST\n",
    "class MNIST_Autoencoder(nn.Module):\n",
    "\n",
    "    def __init__(self, hidden_layer = 7):\n",
    "        \n",
    "        # Init from nn.Module\n",
    "        super().__init__()\n",
    "        \n",
    "        # Encoder part will be a simple sequence of Conv2d+ReLU.\n",
    "        self.encoder = nn.Sequential(nn.Conv2d(1, 16, 3, stride = 2, padding = 1),\n",
    "                                     nn.ReLU(),\n",
    "                                     nn.Conv2d(16, 32, 3, stride = 2, padding = 1),\n",
    "                                     nn.ReLU(),\n",
    "                                     nn.Conv2d(32, 64, hidden_layer))\n",
    "        \n",
    "        \n",
    "        # Decoder part will be a simple sequence of TransposeConv2d+ReLU.\n",
    "        # Finish with Sigmoid\n",
    "        self.decoder = nn.Sequential(nn.ConvTranspose2d(64, 32, hidden_layer),\n",
    "                                     nn.ReLU(),\n",
    "                                     nn.ConvTranspose2d(32, 16, 3, stride = 2, padding = 1, output_padding = 1),\n",
    "                                     nn.ReLU(),\n",
    "                                     nn.ConvTranspose2d(16, 1, 3, stride = 2, padding = 1, output_padding = 1),\n",
    "                                     nn.ReLU())\n",
    "        \n",
    "\n",
    "    def forward(self,x):\n",
    "        \n",
    "        # Forward is encoder into decoder\n",
    "        x = self.encoder(x)\n",
    "        x = self.decoder(x)\n",
    "        return x"
   ]
  },
  {
   "cell_type": "markdown",
   "id": "d271d102",
   "metadata": {},
   "source": [
    "### Train model"
   ]
  },
  {
   "cell_type": "code",
   "execution_count": null,
   "id": "a140954d",
   "metadata": {},
   "outputs": [],
   "source": [
    "# Initialize MNIST Autoencoder\n",
    "torch.manual_seed(10)\n",
    "model = MNIST_Autoencoder(hidden_layer = 7).to(device)"
   ]
  },
  {
   "cell_type": "code",
   "execution_count": null,
   "id": "84b7c03b",
   "metadata": {},
   "outputs": [],
   "source": [
    "# Defining Parameters\n",
    "# - MSE Loss, which will be our reconstruction loss for now\n",
    "# - Adam as optimizer\n",
    "# - 20 Epochs\n",
    "# - 128 as batch size\n",
    "num_epochs = 20\n",
    "batch_size = 128\n",
    "distance = nn.MSELoss()\n",
    "optimizer = torch.optim.Adam(model.parameters(),weight_decay = 1e-5)"
   ]
  },
  {
   "cell_type": "code",
   "execution_count": null,
   "id": "da48f039",
   "metadata": {},
   "outputs": [],
   "source": [
    "# Train\n",
    "outputs_list = []\n",
    "loss_list = []\n",
    "for epoch in range(num_epochs):\n",
    "    for data in train_loader:\n",
    "        \n",
    "        # Send data to device\n",
    "        img, _ = data\n",
    "        img = Variable(img).to(device)\n",
    "        \n",
    "        # Forward pass\n",
    "        output = model(img)\n",
    "        loss = distance(output, img)\n",
    "        \n",
    "        # Backprop\n",
    "        optimizer.zero_grad()\n",
    "        loss.backward()\n",
    "        optimizer.step()\n",
    "        \n",
    "    # Display\n",
    "    print('epoch {}/{}, loss {:.4f}'.format(epoch + 1, num_epochs, loss.item()))\n",
    "    outputs_list.append((epoch, img, output),)\n",
    "    loss_list.append(loss.item())"
   ]
  },
  {
   "cell_type": "code",
   "execution_count": null,
   "id": "260d7071",
   "metadata": {},
   "outputs": [],
   "source": [
    "# Display loss\n",
    "plt.figure()\n",
    "plt.plot(loss_list)\n",
    "plt.show()"
   ]
  },
  {
   "cell_type": "code",
   "execution_count": null,
   "id": "ef8c1b34",
   "metadata": {},
   "outputs": [],
   "source": [
    "# Display some outputs\n",
    "for k in range(0, num_epochs, 4):\n",
    "    plt.figure(figsize = (9, 2))\n",
    "    imgs = outputs_list[k][1].cpu().detach().numpy()\n",
    "    recon = outputs_list[k][2].cpu().detach().numpy()\n",
    "    for i, item in enumerate(imgs):\n",
    "        if i >= 9: break\n",
    "        plt.subplot(2, 9, i+1)\n",
    "        plt.imshow(item[0])\n",
    "        \n",
    "    for i, item in enumerate(recon):\n",
    "        if i >= 9: break\n",
    "        plt.subplot(2, 9, 9+i+1)\n",
    "        plt.imshow(item[0])"
   ]
  },
  {
   "cell_type": "code",
   "execution_count": null,
   "id": "9adb4d05",
   "metadata": {},
   "outputs": [],
   "source": []
  }
 ],
 "metadata": {
  "kernelspec": {
   "display_name": "Python 3 (ipykernel)",
   "language": "python",
   "name": "python3"
  },
  "language_info": {
   "codemirror_mode": {
    "name": "ipython",
    "version": 3
   },
   "file_extension": ".py",
   "mimetype": "text/x-python",
   "name": "python",
   "nbconvert_exporter": "python",
   "pygments_lexer": "ipython3",
   "version": "3.10.7"
  }
 },
 "nbformat": 4,
 "nbformat_minor": 5
}
