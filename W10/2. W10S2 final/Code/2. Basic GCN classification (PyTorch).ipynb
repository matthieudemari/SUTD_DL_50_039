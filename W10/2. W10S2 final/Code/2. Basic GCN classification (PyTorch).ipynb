{
 "cells": [
  {
   "cell_type": "markdown",
   "metadata": {},
   "source": [
    "# 2. Basic GCN classification (PyTorch)\n",
    "\n",
    "### About this notebook\n",
    "\n",
    "This notebook was used in the 50.039 Deep Learning course at the Singapore University of Technology and Design.\n",
    "\n",
    "**Author:** Matthieu DE MARI (matthieu_demari@sutd.edu.sg)\n",
    "\n",
    "**Version:** 1.1 (27/03/2022)\n",
    "\n",
    "**Requirements:**\n",
    "- Python 3 (tested on v3.9.6)\n",
    "- Imageio\n",
    "- Matplotlib (tested on v3.5.1)\n",
    "- Numpy (tested on v1.22.1)\n",
    "- Torch (tested on v1.10.1)"
   ]
  },
  {
   "cell_type": "code",
   "execution_count": 1,
   "metadata": {},
   "outputs": [],
   "source": [
    "import numpy as np\n",
    "import torch\n",
    "import torch.nn as nn\n",
    "import torch.optim as optim\n",
    "import matplotlib.pyplot as plt\n",
    "import imageio"
   ]
  },
  {
   "cell_type": "markdown",
   "metadata": {},
   "source": [
    "### Dataset"
   ]
  },
  {
   "cell_type": "code",
   "execution_count": 2,
   "metadata": {},
   "outputs": [],
   "source": [
    "# Adjacency matrix for Zachary graph\n",
    "adj = np.array([[0,1,1,1,1,1,1,1,1,0,1,1,1,1,0,0,0,1,0,1,0,1,0,0,0,0,0,0,0,0,0,1,0,0],\n",
    "                [1,0,1,1,0,0,0,1,0,0,0,0,0,1,0,0,0,1,0,1,0,1,0,0,0,0,0,0,0,0,1,0,0,0],\n",
    "                [1,1,0,1,0,0,0,1,1,1,0,0,0,1,0,0,0,0,0,0,0,0,0,0,0,0,0,1,1,0,0,0,1,0],\n",
    "                [1,1,1,0,0,0,0,1,0,0,0,0,1,1,0,0,0,0,0,0,0,0,0,0,0,0,0,0,0,0,0,0,0,0],\n",
    "                [1,0,0,0,0,0,1,0,0,0,1,0,0,0,0,0,0,0,0,0,0,0,0,0,0,0,0,0,0,0,0,0,0,0],\n",
    "                [1,0,0,0,0,0,1,0,0,0,1,0,0,0,0,0,1,0,0,0,0,0,0,0,0,0,0,0,0,0,0,0,0,0],\n",
    "                [1,0,0,0,1,1,0,0,0,0,0,0,0,0,0,0,1,0,0,0,0,0,0,0,0,0,0,0,0,0,0,0,0,0],\n",
    "                [1,1,1,1,0,0,0,0,0,0,0,0,0,0,0,0,0,0,0,0,0,0,0,0,0,0,0,0,0,0,0,0,0,0],\n",
    "                [1,0,1,0,0,0,0,0,0,0,0,0,0,0,0,0,0,0,0,0,0,0,0,0,0,0,0,0,0,0,1,0,1,1],\n",
    "                [0,0,1,0,0,0,0,0,0,0,0,0,0,0,0,0,0,0,0,0,0,0,0,0,0,0,0,0,0,0,0,0,0,1],\n",
    "                [1,0,0,0,1,1,0,0,0,0,0,0,0,0,0,0,0,0,0,0,0,0,0,0,0,0,0,0,0,0,0,0,0,0],\n",
    "                [1,0,0,0,0,0,0,0,0,0,0,0,0,0,0,0,0,0,0,0,0,0,0,0,0,0,0,0,0,0,0,0,0,0],\n",
    "                [1,0,0,1,0,0,0,0,0,0,0,0,0,0,0,0,0,0,0,0,0,0,0,0,0,0,0,0,0,0,0,0,0,0],\n",
    "                [1,1,1,1,0,0,0,0,0,0,0,0,0,0,0,0,0,0,0,0,0,0,0,0,0,0,0,0,0,0,0,0,0,1],\n",
    "                [0,0,0,0,0,0,0,0,0,0,0,0,0,0,0,0,0,0,0,0,0,0,0,0,0,0,0,0,0,0,0,0,1,1],\n",
    "                [0,0,0,0,0,0,0,0,0,0,0,0,0,0,0,0,0,0,0,0,0,0,0,0,0,0,0,0,0,0,0,0,1,1],\n",
    "                [0,0,0,0,0,1,1,0,0,0,0,0,0,0,0,0,0,0,0,0,0,0,0,0,0,0,0,0,0,0,0,0,0,0],\n",
    "                [1,1,0,0,0,0,0,0,0,0,0,0,0,0,0,0,0,0,0,0,0,0,0,0,0,0,0,0,0,0,0,0,0,0],\n",
    "                [0,0,0,0,0,0,0,0,0,0,0,0,0,0,0,0,0,0,0,0,0,0,0,0,0,0,0,0,0,0,0,0,1,1],\n",
    "                [1,1,0,0,0,0,0,0,0,0,0,0,0,0,0,0,0,0,0,0,0,0,0,0,0,0,0,0,0,0,0,0,0,1],\n",
    "                [0,0,0,0,0,0,0,0,0,0,0,0,0,0,0,0,0,0,0,0,0,0,0,0,0,0,0,0,0,0,0,0,1,1],\n",
    "                [1,1,0,0,0,0,0,0,0,0,0,0,0,0,0,0,0,0,0,0,0,0,0,0,0,0,0,0,0,0,0,0,0,0],\n",
    "                [0,0,0,0,0,0,0,0,0,0,0,0,0,0,0,0,0,0,0,0,0,0,0,0,0,0,0,0,0,0,0,0,1,1],\n",
    "                [0,0,0,0,0,0,0,0,0,0,0,0,0,0,0,0,0,0,0,0,0,0,0,0,0,1,0,1,0,1,0,0,1,1],\n",
    "                [0,0,0,0,0,0,0,0,0,0,0,0,0,0,0,0,0,0,0,0,0,0,0,0,0,1,0,1,0,0,0,1,0,0],\n",
    "                [0,0,0,0,0,0,0,0,0,0,0,0,0,0,0,0,0,0,0,0,0,0,0,1,1,0,0,0,0,0,0,1,0,0],\n",
    "                [0,0,0,0,0,0,0,0,0,0,0,0,0,0,0,0,0,0,0,0,0,0,0,0,0,0,0,0,0,1,0,0,0,1],\n",
    "                [0,0,1,0,0,0,0,0,0,0,0,0,0,0,0,0,0,0,0,0,0,0,0,1,1,0,0,0,0,0,0,0,0,1],\n",
    "                [0,0,1,0,0,0,0,0,0,0,0,0,0,0,0,0,0,0,0,0,0,0,0,0,0,0,0,0,0,0,0,1,0,1],\n",
    "                [0,0,0,0,0,0,0,0,0,0,0,0,0,0,0,0,0,0,0,0,0,0,0,1,0,0,1,0,0,0,0,0,1,1],\n",
    "                [0,1,0,0,0,0,0,0,1,0,0,0,0,0,0,0,0,0,0,0,0,0,0,0,0,0,0,0,0,0,0,0,1,1],\n",
    "                [1,0,0,0,0,0,0,0,0,0,0,0,0,0,0,0,0,0,0,0,0,0,0,0,1,1,0,0,1,0,0,0,1,1],\n",
    "                [0,0,1,0,0,0,0,0,1,0,0,0,0,0,1,1,0,0,1,0,1,0,1,1,0,0,0,0,0,1,1,1,0,1],\n",
    "                [0,0,0,0,0,0,0,0,1,1,0,0,0,1,1,1,0,0,1,1,1,0,1,1,0,0,1,1,1,1,1,1,1,0]])\n",
    "A = torch.Tensor(adj)"
   ]
  },
  {
   "cell_type": "code",
   "execution_count": 3,
   "metadata": {},
   "outputs": [],
   "source": [
    "# Labels for all nodes\n",
    "# (0 is admin, 34 is instructor, all others are -1 because they are currently unlabeled)\n",
    "current = torch.tensor([0, -1, -1, -1, -1, -1, -1, -1, -1, -1, -1, -1, -1, -1, -1, -1, \\\n",
    "                       -1, -1, -1, -1, -1, -1, -1, -1, -1, -1, -1, -1, -1, -1, -1, -1, -1, 1])"
   ]
  },
  {
   "cell_type": "code",
   "execution_count": 4,
   "metadata": {},
   "outputs": [],
   "source": [
    "# Ground truth for reference\n",
    "ground_truth = torch.tensor([0, 0, 0, 0 ,0 ,0 ,0, 0, 1, 1, 0 ,0, 0, 0, 1 ,1 ,0 ,0, \\\n",
    "                             1, 0, 1, 0 ,1 ,1, 1, 1, 1 ,1 ,1, 1, 1, 1, 1, 1 ])"
   ]
  },
  {
   "cell_type": "markdown",
   "metadata": {},
   "source": [
    "### GCN with basic graph convolutions, no nodes features"
   ]
  },
  {
   "cell_type": "code",
   "execution_count": 5,
   "metadata": {},
   "outputs": [],
   "source": [
    "class GCNConv_Layer(nn.Module):\n",
    "    \"\"\"\n",
    "    Standard GCN convolution layer class\n",
    "    \"\"\"\n",
    "    \n",
    "    def __init__(self, adj, input_channels, output_channels):\n",
    "        super().__init__()\n",
    "        self.A_hat = adj + torch.eye(adj.size(0))\n",
    "        self.D = torch.diag(torch.sum(adj, 1))\n",
    "        self.D = self.D.inverse()\n",
    "        self.A_hat = torch.mm(self.D, self.A_hat)\n",
    "        self.W = nn.Parameter(torch.rand(input_channels, output_channels))\n",
    "    \n",
    "    def forward(self, H):\n",
    "        out = torch.relu(torch.mm(torch.mm(self.A_hat, H), self.W))\n",
    "        return out"
   ]
  },
  {
   "cell_type": "code",
   "execution_count": 6,
   "metadata": {},
   "outputs": [],
   "source": [
    "class Net1(torch.nn.Module):\n",
    "    \"\"\"\n",
    "    Standard GCN model class\n",
    "    \"\"\"\n",
    "    \n",
    "    def __init__(self, adj, num_feat, num_hid, num_out):\n",
    "        super().__init__()\n",
    "        self.conv1 = GCNConv_Layer(adj, num_feat, num_hid)\n",
    "        self.conv2 = GCNConv_Layer(adj, num_hid, num_out)\n",
    "        \n",
    "    def forward(self, H):\n",
    "        H_next  = self.conv1(H)\n",
    "        out = self.conv2(H_next)\n",
    "        return out"
   ]
  },
  {
   "cell_type": "code",
   "execution_count": 7,
   "metadata": {},
   "outputs": [],
   "source": [
    "# No relevant features for nodes \n",
    "# Using H = identity will make nodes features irrelevant\n",
    "# and the model will have to learn from adjacency matrix only\n",
    "H = torch.eye(A.size(0))"
   ]
  },
  {
   "cell_type": "code",
   "execution_count": 8,
   "metadata": {},
   "outputs": [],
   "source": [
    "model = Net1(A, H.size(0), 10, 2)\n",
    "criterion = torch.nn.CrossEntropyLoss(ignore_index = -1)\n",
    "optimizer = optim.SGD(model.parameters(), lr = 0.01, momentum = 0.9)\n",
    "loss = criterion(model(H), ground_truth)"
   ]
  },
  {
   "cell_type": "code",
   "execution_count": 9,
   "metadata": {},
   "outputs": [
    {
     "name": "stdout",
     "output_type": "stream",
     "text": [
      "Cross Entropy Loss (iter = 0): = 0.8916772603988647\n",
      "Cross Entropy Loss (iter = 10): = 0.7844727039337158\n",
      "Cross Entropy Loss (iter = 20): = 0.7213937640190125\n",
      "Cross Entropy Loss (iter = 30): = 0.6499583721160889\n",
      "Cross Entropy Loss (iter = 40): = 0.5902585983276367\n",
      "Cross Entropy Loss (iter = 50): = 0.5320335626602173\n",
      "Cross Entropy Loss (iter = 60): = 0.47383224964141846\n",
      "Cross Entropy Loss (iter = 70): = 0.4146472215652466\n",
      "Cross Entropy Loss (iter = 80): = 0.35573309659957886\n",
      "Cross Entropy Loss (iter = 90): = 0.2995697259902954\n",
      "Cross Entropy Loss (iter = 100): = 0.24866342544555664\n",
      "Cross Entropy Loss (iter = 110): = 0.204758882522583\n",
      "Cross Entropy Loss (iter = 120): = 0.16841274499893188\n",
      "Cross Entropy Loss (iter = 130): = 0.13918918371200562\n",
      "Cross Entropy Loss (iter = 140): = 0.11608085036277771\n",
      "Cross Entropy Loss (iter = 150): = 0.0979151576757431\n",
      "Cross Entropy Loss (iter = 160): = 0.0836038738489151\n",
      "Cross Entropy Loss (iter = 170): = 0.07236144691705704\n",
      "Cross Entropy Loss (iter = 180): = 0.06339965760707855\n",
      "Cross Entropy Loss (iter = 190): = 0.05618464946746826\n",
      "Cross Entropy Loss (iter = 200): = 0.05024389922618866\n",
      "Cross Entropy Loss (iter = 210): = 0.045284729450941086\n",
      "Cross Entropy Loss (iter = 220): = 0.04109744727611542\n",
      "Cross Entropy Loss (iter = 230): = 0.03752642869949341\n",
      "Cross Entropy Loss (iter = 240): = 0.034453630447387695\n",
      "Cross Entropy Loss (iter = 250): = 0.031788721680641174\n",
      "Cross Entropy Loss (iter = 260): = 0.02946636453270912\n",
      "Cross Entropy Loss (iter = 270): = 0.027423955500125885\n",
      "Cross Entropy Loss (iter = 280): = 0.025632835924625397\n",
      "Cross Entropy Loss (iter = 290): = 0.0240486953407526\n",
      "Cross Entropy Loss (iter = 300): = 0.02263174019753933\n",
      "Cross Entropy Loss (iter = 310): = 0.021356021985411644\n",
      "Cross Entropy Loss (iter = 320): = 0.02020164206624031\n",
      "Cross Entropy Loss (iter = 330): = 0.019152767956256866\n",
      "Cross Entropy Loss (iter = 340): = 0.018196148797869682\n",
      "Cross Entropy Loss (iter = 350): = 0.017321862280368805\n",
      "Cross Entropy Loss (iter = 360): = 0.016520509496331215\n",
      "Cross Entropy Loss (iter = 370): = 0.01578270085155964\n",
      "Cross Entropy Loss (iter = 380): = 0.015101533383131027\n",
      "Cross Entropy Loss (iter = 390): = 0.014473422430455685\n",
      "Cross Entropy Loss (iter = 400): = 0.013890942558646202\n",
      "Cross Entropy Loss (iter = 410): = 0.013349059969186783\n",
      "Cross Entropy Loss (iter = 420): = 0.012843895703554153\n",
      "Cross Entropy Loss (iter = 430): = 0.012371798977255821\n",
      "Cross Entropy Loss (iter = 440): = 0.011929810978472233\n",
      "Cross Entropy Loss (iter = 450): = 0.01151520386338234\n",
      "Cross Entropy Loss (iter = 460): = 0.011127835139632225\n",
      "Cross Entropy Loss (iter = 470): = 0.010764728300273418\n",
      "Cross Entropy Loss (iter = 480): = 0.010422606952488422\n",
      "Cross Entropy Loss (iter = 490): = 0.010100312530994415\n"
     ]
    }
   ],
   "source": [
    "history1 = []\n",
    "for i in range(500):\n",
    "    # Forward pass\n",
    "    optimizer.zero_grad()\n",
    "    loss = criterion(model(H), current)\n",
    "    \n",
    "    # Backprop\n",
    "    loss.backward()\n",
    "    optimizer.step()\n",
    "    \n",
    "    # For display later\n",
    "    l = (model(H))\n",
    "\n",
    "    if i%10 == 0:\n",
    "        history1.append(loss.item())\n",
    "        print(\"Cross Entropy Loss (iter = {}): =\".format(i), loss.item())"
   ]
  },
  {
   "cell_type": "code",
   "execution_count": 10,
   "metadata": {
    "scrolled": true
   },
   "outputs": [
    {
     "data": {
      "text/plain": [
       "<matplotlib.collections.PathCollection at 0x16cd929fbb0>"
      ]
     },
     "execution_count": 10,
     "metadata": {},
     "output_type": "execute_result"
    },
    {
     "data": {
      "image/png": "[encoded data removed]",
      "text/plain": [
       "<Figure size 640x480 with 1 Axes>"
      ]
     },
     "metadata": {},
     "output_type": "display_data"
    }
   ],
   "source": [
    "plt.scatter(l.detach().numpy()[:,0], l.detach().numpy()[:,1], \\\n",
    "            c = ground_truth)"
   ]
  },
  {
   "cell_type": "markdown",
   "metadata": {},
   "source": [
    "### GCN with Kipf graph convolutions, no nodes features"
   ]
  },
  {
   "cell_type": "code",
   "execution_count": 11,
   "metadata": {},
   "outputs": [],
   "source": [
    "class GCNKipf_Layer(nn.Module):\n",
    "    \"\"\"\n",
    "    Kipf GCN convolution layer class\n",
    "    \"\"\"\n",
    "    \n",
    "    def __init__(self, adj, input_channels, output_channels):\n",
    "        super().__init__()\n",
    "        self.A_hat = adj + torch.eye(adj.size(0))\n",
    "        self.D = torch.diag(torch.sum(adj, 1))\n",
    "        self.D = self.D.inverse().sqrt()\n",
    "        self.A_hat = torch.mm(torch.mm(self.D, self.A_hat), self.D)\n",
    "        self.W = nn.Parameter(torch.rand(input_channels, output_channels))\n",
    "    \n",
    "    def forward(self, H):\n",
    "        out = torch.relu(torch.mm(torch.mm(self.A_hat, H), self.W))\n",
    "        return out"
   ]
  },
  {
   "cell_type": "code",
   "execution_count": 12,
   "metadata": {},
   "outputs": [],
   "source": [
    "class Net2(torch.nn.Module):\n",
    "    \"\"\"\n",
    "    Standard GCN model class\n",
    "    \"\"\"\n",
    "    \n",
    "    def __init__(self, adj, num_feat, num_hid, num_out):\n",
    "        super().__init__()\n",
    "        self.conv1 = GCNKipf_Layer(adj, num_feat, num_hid)\n",
    "        self.conv2 = GCNKipf_Layer(adj, num_hid, num_out)\n",
    "        \n",
    "    def forward(self, H):\n",
    "        H_next  = self.conv1(H)\n",
    "        out = self.conv2(H_next)\n",
    "        return out"
   ]
  },
  {
   "cell_type": "code",
   "execution_count": 13,
   "metadata": {},
   "outputs": [],
   "source": [
    "# No relevant features for nodes \n",
    "# Using X = identity will make nodes features irrelevant\n",
    "# and the model will have to learn from adjacency matrix only\n",
    "H = torch.eye(A.size(0))"
   ]
  },
  {
   "cell_type": "code",
   "execution_count": 14,
   "metadata": {},
   "outputs": [],
   "source": [
    "model2 = Net1(A, H.size(0), 10, 2)\n",
    "criterion = torch.nn.CrossEntropyLoss(ignore_index = -1)\n",
    "optimizer = optim.SGD(model2.parameters(), lr = 0.01, momentum = 0.9)\n",
    "loss = criterion(model2(H), ground_truth)"
   ]
  },
  {
   "cell_type": "code",
   "execution_count": 15,
   "metadata": {},
   "outputs": [
    {
     "name": "stdout",
     "output_type": "stream",
     "text": [
      "Cross Entropy Loss (iter = 0): = 0.8695703744888306\n",
      "Cross Entropy Loss (iter = 10): = 0.72316575050354\n",
      "Cross Entropy Loss (iter = 20): = 0.6757784485816956\n",
      "Cross Entropy Loss (iter = 30): = 0.6160150766372681\n",
      "Cross Entropy Loss (iter = 40): = 0.5620249509811401\n",
      "Cross Entropy Loss (iter = 50): = 0.5080852508544922\n",
      "Cross Entropy Loss (iter = 60): = 0.4514307379722595\n",
      "Cross Entropy Loss (iter = 70): = 0.3937034010887146\n",
      "Cross Entropy Loss (iter = 80): = 0.3362823724746704\n",
      "Cross Entropy Loss (iter = 90): = 0.2824915647506714\n",
      "Cross Entropy Loss (iter = 100): = 0.2348237931728363\n",
      "Cross Entropy Loss (iter = 110): = 0.1945340931415558\n",
      "Cross Entropy Loss (iter = 120): = 0.16132616996765137\n",
      "Cross Entropy Loss (iter = 130): = 0.13461896777153015\n",
      "Cross Entropy Loss (iter = 140): = 0.11346514523029327\n",
      "Cross Entropy Loss (iter = 150): = 0.09671829640865326\n",
      "Cross Entropy Loss (iter = 160): = 0.08336549997329712\n",
      "Cross Entropy Loss (iter = 170): = 0.07265155762434006\n",
      "Cross Entropy Loss (iter = 180): = 0.0639740377664566\n",
      "Cross Entropy Loss (iter = 190): = 0.056864917278289795\n",
      "Cross Entropy Loss (iter = 200): = 0.05099645256996155\n",
      "Cross Entropy Loss (iter = 210): = 0.04609522223472595\n",
      "Cross Entropy Loss (iter = 220): = 0.04194969683885574\n",
      "Cross Entropy Loss (iter = 230): = 0.038400426506996155\n",
      "Cross Entropy Loss (iter = 240): = 0.035334110260009766\n",
      "Cross Entropy Loss (iter = 250): = 0.03266404569149017\n",
      "Cross Entropy Loss (iter = 260): = 0.0303227249532938\n",
      "Cross Entropy Loss (iter = 270): = 0.028256509453058243\n",
      "Cross Entropy Loss (iter = 280): = 0.026423580944538116\n",
      "Cross Entropy Loss (iter = 290): = 0.024790577590465546\n",
      "Cross Entropy Loss (iter = 300): = 0.023326581344008446\n",
      "Cross Entropy Loss (iter = 310): = 0.022011229768395424\n",
      "Cross Entropy Loss (iter = 320): = 0.020821411162614822\n",
      "Cross Entropy Loss (iter = 330): = 0.019740400835871696\n",
      "Cross Entropy Loss (iter = 340): = 0.01875445246696472\n",
      "Cross Entropy Loss (iter = 350): = 0.01785207912325859\n",
      "Cross Entropy Loss (iter = 360): = 0.017023608088493347\n",
      "Cross Entropy Loss (iter = 370): = 0.016260776668787003\n",
      "Cross Entropy Loss (iter = 380): = 0.015556400641798973\n",
      "Cross Entropy Loss (iter = 390): = 0.014904322102665901\n",
      "Cross Entropy Loss (iter = 400): = 0.014300352893769741\n",
      "Cross Entropy Loss (iter = 410): = 0.01374246459454298\n",
      "Cross Entropy Loss (iter = 420): = 0.01322438195347786\n",
      "Cross Entropy Loss (iter = 430): = 0.012740635313093662\n",
      "Cross Entropy Loss (iter = 440): = 0.012287799268960953\n",
      "Cross Entropy Loss (iter = 450): = 0.011862915009260178\n",
      "Cross Entropy Loss (iter = 460): = 0.01146360021084547\n",
      "Cross Entropy Loss (iter = 470): = 0.011087704449892044\n",
      "Cross Entropy Loss (iter = 480): = 0.01073330920189619\n",
      "Cross Entropy Loss (iter = 490): = 0.010398726910352707\n"
     ]
    }
   ],
   "source": [
    "history2 = []\n",
    "for i in range(500):\n",
    "    # Forward pass\n",
    "    optimizer.zero_grad()\n",
    "    loss = criterion(model2(H), current)\n",
    "    \n",
    "    # Backprop\n",
    "    loss.backward()\n",
    "    optimizer.step()\n",
    "    \n",
    "    # For display later\n",
    "    l = (model2(H))\n",
    "\n",
    "    if i%10 == 0:\n",
    "        history2.append(loss.item())\n",
    "        print(\"Cross Entropy Loss (iter = {}): =\".format(i), loss.item())"
   ]
  },
  {
   "cell_type": "code",
   "execution_count": 16,
   "metadata": {
    "scrolled": true
   },
   "outputs": [
    {
     "data": {
      "text/plain": [
       "<matplotlib.collections.PathCollection at 0x16ce1dc1300>"
      ]
     },
     "execution_count": 16,
     "metadata": {},
     "output_type": "execute_result"
    },
    {
     "data": {
      "image/png": "[encoded data removed]",
      "text/plain": [
       "<Figure size 640x480 with 1 Axes>"
      ]
     },
     "metadata": {},
     "output_type": "display_data"
    }
   ],
   "source": [
    "plt.scatter(l.detach().numpy()[:,0], l.detach().numpy()[:,1], \\\n",
    "            c = ground_truth)"
   ]
  },
  {
   "cell_type": "markdown",
   "metadata": {},
   "source": [
    "### GCN with Kipf graph convolutions, adding hop-distance to admin/instructor as nodes features"
   ]
  },
  {
   "cell_type": "code",
   "execution_count": 17,
   "metadata": {},
   "outputs": [],
   "source": [
    "def bfs(adj, start, goal):\n",
    "    \"\"\"\n",
    "    Gives hop-distance between node start and node goal\n",
    "    for given adjacency matrix.\n",
    "    Returns zero if start = goal\n",
    "    or goal not reachable from start.\n",
    "    \"\"\"\n",
    "    \n",
    "    if start == goal:\n",
    "        return float(0)\n",
    "    queue = [start]\n",
    "    visited = []\n",
    "    dist = float(0)\n",
    "    \n",
    "    while(len(queue) > 0):\n",
    "        dist += 1\n",
    "        temp = []\n",
    "        for q in queue:\n",
    "            neighbours_node = np.argwhere(adj[q]).reshape(1, -1)[0]\n",
    "            if goal in neighbours_node:\n",
    "                return dist\n",
    "            else:\n",
    "                for n in neighbours_node:\n",
    "                    not_visited = (n not in visited)\n",
    "                    not_queue = (n not in queue)\n",
    "                    not_temp = (n not in temp)\n",
    "                    if not_visited and not_queue and not_temp:\n",
    "                        temp.append(n)\n",
    "        visited.extend(queue)\n",
    "        queue = temp\n",
    "    return float(-1)"
   ]
  },
  {
   "cell_type": "code",
   "execution_count": 18,
   "metadata": {},
   "outputs": [
    {
     "name": "stdout",
     "output_type": "stream",
     "text": [
      "2.0\n"
     ]
    }
   ],
   "source": [
    "y = bfs(adj, 1, 33)\n",
    "print(y)"
   ]
  },
  {
   "cell_type": "code",
   "execution_count": 19,
   "metadata": {},
   "outputs": [
    {
     "name": "stdout",
     "output_type": "stream",
     "text": [
      "tensor([[0., 2.],\n",
      "        [1., 2.],\n",
      "        [1., 2.],\n",
      "        [1., 2.],\n",
      "        [1., 3.],\n",
      "        [1., 3.],\n",
      "        [1., 3.],\n",
      "        [1., 3.],\n",
      "        [1., 1.],\n",
      "        [2., 1.],\n",
      "        [1., 3.],\n",
      "        [1., 3.],\n",
      "        [1., 3.],\n",
      "        [1., 1.],\n",
      "        [3., 1.],\n",
      "        [3., 1.],\n",
      "        [2., 4.],\n",
      "        [1., 3.],\n",
      "        [3., 1.],\n",
      "        [1., 1.],\n",
      "        [3., 1.],\n",
      "        [1., 3.],\n",
      "        [3., 1.],\n",
      "        [3., 1.],\n",
      "        [2., 2.],\n",
      "        [2., 2.],\n",
      "        [3., 1.],\n",
      "        [2., 1.],\n",
      "        [2., 1.],\n",
      "        [3., 1.],\n",
      "        [2., 1.],\n",
      "        [1., 1.],\n",
      "        [2., 1.],\n",
      "        [2., 0.]])\n"
     ]
    }
   ],
   "source": [
    "# Adding relevant features (hop distance to nodes admin and instructor)\n",
    "node_features = np.array([[bfs(adj, i, 0), bfs(adj, i, 33)] for i in range(34)])\n",
    "H2 = torch.from_numpy(node_features).float()\n",
    "print(H2)"
   ]
  },
  {
   "cell_type": "code",
   "execution_count": 20,
   "metadata": {},
   "outputs": [],
   "source": [
    "model3 = Net2(A, H2.size(1), 10, 2)\n",
    "criterion = torch.nn.CrossEntropyLoss(ignore_index = -1)\n",
    "optimizer = optim.SGD(model3.parameters(), lr = 0.01, momentum = 0.9)\n",
    "loss = criterion(model3(H2), ground_truth)"
   ]
  },
  {
   "cell_type": "code",
   "execution_count": 21,
   "metadata": {},
   "outputs": [
    {
     "name": "stdout",
     "output_type": "stream",
     "text": [
      "Cross Entropy Loss (iter = 0): = 3.458860397338867\n",
      "Cross Entropy Loss (iter = 10): = 0.7903978824615479\n",
      "Cross Entropy Loss (iter = 20): = 0.01495172455906868\n",
      "Cross Entropy Loss (iter = 30): = 0.002083380473777652\n",
      "Cross Entropy Loss (iter = 40): = 0.0026068210136145353\n",
      "Cross Entropy Loss (iter = 50): = 0.0019169736187905073\n",
      "Cross Entropy Loss (iter = 60): = 0.0012753517366945744\n",
      "Cross Entropy Loss (iter = 70): = 0.0009021449950523674\n",
      "Cross Entropy Loss (iter = 80): = 0.0006918371072970331\n",
      "Cross Entropy Loss (iter = 90): = 0.0005648597725667059\n",
      "Cross Entropy Loss (iter = 100): = 0.00048138125566765666\n",
      "Cross Entropy Loss (iter = 110): = 0.0004223066789563745\n",
      "Cross Entropy Loss (iter = 120): = 0.0003781153354793787\n",
      "Cross Entropy Loss (iter = 130): = 0.0003435098915360868\n",
      "Cross Entropy Loss (iter = 140): = 0.0003156331949867308\n",
      "Cross Entropy Loss (iter = 150): = 0.0002926992892753333\n",
      "Cross Entropy Loss (iter = 160): = 0.0002733386354520917\n",
      "Cross Entropy Loss (iter = 170): = 0.0002569560019765049\n",
      "Cross Entropy Loss (iter = 180): = 0.00024277711054310203\n",
      "Cross Entropy Loss (iter = 190): = 0.00023038513609208167\n",
      "Cross Entropy Loss (iter = 200): = 0.00021960151207167655\n",
      "Cross Entropy Loss (iter = 210): = 0.0002100687997881323\n",
      "Cross Entropy Loss (iter = 220): = 0.0002014891942963004\n",
      "Cross Entropy Loss (iter = 230): = 0.00019386275380384177\n",
      "Cross Entropy Loss (iter = 240): = 0.00018695117614697665\n",
      "Cross Entropy Loss (iter = 250): = 0.00018081412417814136\n",
      "Cross Entropy Loss (iter = 260): = 0.00017515363288111985\n",
      "Cross Entropy Loss (iter = 270): = 0.0001700293505564332\n",
      "Cross Entropy Loss (iter = 280): = 0.0001653220970183611\n",
      "Cross Entropy Loss (iter = 290): = 0.00016097232582978904\n",
      "Cross Entropy Loss (iter = 300): = 0.000157039612531662\n",
      "Cross Entropy Loss (iter = 310): = 0.0001534048205940053\n",
      "Cross Entropy Loss (iter = 320): = 0.00014994874072726816\n",
      "Cross Entropy Loss (iter = 330): = 0.0001467905822210014\n",
      "Cross Entropy Loss (iter = 340): = 0.00014387074043042958\n",
      "Cross Entropy Loss (iter = 350): = 0.00014118925901129842\n",
      "Cross Entropy Loss (iter = 360): = 0.00013862692867405713\n",
      "Cross Entropy Loss (iter = 370): = 0.00013630292960442603\n",
      "Cross Entropy Loss (iter = 380): = 0.00013409811072051525\n",
      "Cross Entropy Loss (iter = 390): = 0.0001319528673775494\n",
      "Cross Entropy Loss (iter = 400): = 0.00013004598440602422\n",
      "Cross Entropy Loss (iter = 410): = 0.00012813907233066857\n",
      "Cross Entropy Loss (iter = 420): = 0.00012635134044103324\n",
      "Cross Entropy Loss (iter = 430): = 0.00012474236427806318\n",
      "Cross Entropy Loss (iter = 440): = 0.00012313340266700834\n",
      "Cross Entropy Loss (iter = 450): = 0.00012164359941380098\n",
      "Cross Entropy Loss (iter = 460): = 0.00012021338625345379\n",
      "Cross Entropy Loss (iter = 470): = 0.00011878316581714898\n",
      "Cross Entropy Loss (iter = 480): = 0.0001174721255665645\n",
      "Cross Entropy Loss (iter = 490): = 0.00011628028005361557\n"
     ]
    }
   ],
   "source": [
    "history3 = []\n",
    "for i in range(500):\n",
    "    # Forward pass\n",
    "    optimizer.zero_grad()\n",
    "    loss = criterion(model3(H2), current)\n",
    "    \n",
    "    # Backprop\n",
    "    loss.backward()\n",
    "    optimizer.step()\n",
    "    \n",
    "    # For display later\n",
    "    l = (model3(H2))\n",
    "\n",
    "    if i%10 == 0:\n",
    "        history3.append(loss.item())\n",
    "        print(\"Cross Entropy Loss (iter = {}): =\".format(i), loss.item())"
   ]
  },
  {
   "cell_type": "code",
   "execution_count": 22,
   "metadata": {
    "scrolled": true
   },
   "outputs": [
    {
     "data": {
      "text/plain": [
       "<matplotlib.collections.PathCollection at 0x16cd934bc70>"
      ]
     },
     "execution_count": 22,
     "metadata": {},
     "output_type": "execute_result"
    },
    {
     "data": {
      "image/png": "[encoded data removed]",
      "text/plain": [
       "<Figure size 640x480 with 1 Axes>"
      ]
     },
     "metadata": {},
     "output_type": "display_data"
    }
   ],
   "source": [
    "plt.scatter(l.detach().numpy()[:,0], l.detach().numpy()[:,1], \\\n",
    "            c = ground_truth)"
   ]
  },
  {
   "cell_type": "markdown",
   "metadata": {},
   "source": [
    "### Loss comparison"
   ]
  },
  {
   "cell_type": "code",
   "execution_count": 23,
   "metadata": {},
   "outputs": [
    {
     "data": {
      "text/plain": [
       "<matplotlib.legend.Legend at 0x16ce1ff6230>"
      ]
     },
     "execution_count": 23,
     "metadata": {},
     "output_type": "execute_result"
    },
    {
     "data": {
      "image/png": "[encoded data removed]",
      "text/plain": [
       "<Figure size 1000x700 with 1 Axes>"
      ]
     },
     "metadata": {},
     "output_type": "display_data"
    }
   ],
   "source": [
    "plt.figure(figsize = (10, 7))\n",
    "plt.plot(history1, label = 'Basic GCN, no node features')\n",
    "plt.plot(history2, color = 'red', label = 'Kipf GCN, no node features')\n",
    "plt.plot(history3, color = 'green', label = 'Kipf GCN, hop-distance in node features')\n",
    "plt.legend(loc = 'best')"
   ]
  },
  {
   "cell_type": "code",
   "execution_count": null,
   "metadata": {},
   "outputs": [],
   "source": []
  }
 ],
 "metadata": {
  "kernelspec": {
   "display_name": "Python 3 (ipykernel)",
   "language": "python",
   "name": "python3"
  },
  "language_info": {
   "codemirror_mode": {
    "name": "ipython",
    "version": 3
   },
   "file_extension": ".py",
   "mimetype": "text/x-python",
   "name": "python",
   "nbconvert_exporter": "python",
   "pygments_lexer": "ipython3",
   "version": "3.10.7"
  }
 },
 "nbformat": 4,
 "nbformat_minor": 4
}
