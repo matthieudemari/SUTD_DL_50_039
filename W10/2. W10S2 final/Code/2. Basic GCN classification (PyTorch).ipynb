{
 "cells": [
  {
   "cell_type": "markdown",
   "metadata": {},
   "source": [
    "# 2. Basic GCN classification (PyTorch)\n",
    "\n",
    "### About this notebook\n",
    "\n",
    "This notebook was used in the 50.039 Deep Learning course at the Singapore University of Technology and Design.\n",
    "\n",
    "**Author:** Matthieu DE MARI (matthieu_demari@sutd.edu.sg)\n",
    "\n",
    "**Version:** 1.1 (27/03/2022)\n",
    "\n",
    "**Requirements:**\n",
    "- Python 3 (tested on v3.9.6)\n",
    "- Imageio\n",
    "- Matplotlib (tested on v3.5.1)\n",
    "- Numpy (tested on v1.22.1)\n",
    "- Torch (tested on v1.10.1)"
   ]
  },
  {
   "cell_type": "code",
   "execution_count": 1,
   "metadata": {},
   "outputs": [],
   "source": [
    "import numpy as np\n",
    "import torch\n",
    "import torch.nn as nn\n",
    "import torch.optim as optim\n",
    "import matplotlib.pyplot as plt\n",
    "import imageio"
   ]
  },
  {
   "cell_type": "markdown",
   "metadata": {},
   "source": [
    "### Dataset"
   ]
  },
  {
   "cell_type": "code",
   "execution_count": 2,
   "metadata": {},
   "outputs": [],
   "source": [
    "# Adjacency matrix for Zachary graph\n",
    "adj = np.array([[0,1,1,1,1,1,1,1,1,0,1,1,1,1,0,0,0,1,0,1,0,1,0,0,0,0,0,0,0,0,0,1,0,0],\n",
    "                [1,0,1,1,0,0,0,1,0,0,0,0,0,1,0,0,0,1,0,1,0,1,0,0,0,0,0,0,0,0,1,0,0,0],\n",
    "                [1,1,0,1,0,0,0,1,1,1,0,0,0,1,0,0,0,0,0,0,0,0,0,0,0,0,0,1,1,0,0,0,1,0],\n",
    "                [1,1,1,0,0,0,0,1,0,0,0,0,1,1,0,0,0,0,0,0,0,0,0,0,0,0,0,0,0,0,0,0,0,0],\n",
    "                [1,0,0,0,0,0,1,0,0,0,1,0,0,0,0,0,0,0,0,0,0,0,0,0,0,0,0,0,0,0,0,0,0,0],\n",
    "                [1,0,0,0,0,0,1,0,0,0,1,0,0,0,0,0,1,0,0,0,0,0,0,0,0,0,0,0,0,0,0,0,0,0],\n",
    "                [1,0,0,0,1,1,0,0,0,0,0,0,0,0,0,0,1,0,0,0,0,0,0,0,0,0,0,0,0,0,0,0,0,0],\n",
    "                [1,1,1,1,0,0,0,0,0,0,0,0,0,0,0,0,0,0,0,0,0,0,0,0,0,0,0,0,0,0,0,0,0,0],\n",
    "                [1,0,1,0,0,0,0,0,0,0,0,0,0,0,0,0,0,0,0,0,0,0,0,0,0,0,0,0,0,0,1,0,1,1],\n",
    "                [0,0,1,0,0,0,0,0,0,0,0,0,0,0,0,0,0,0,0,0,0,0,0,0,0,0,0,0,0,0,0,0,0,1],\n",
    "                [1,0,0,0,1,1,0,0,0,0,0,0,0,0,0,0,0,0,0,0,0,0,0,0,0,0,0,0,0,0,0,0,0,0],\n",
    "                [1,0,0,0,0,0,0,0,0,0,0,0,0,0,0,0,0,0,0,0,0,0,0,0,0,0,0,0,0,0,0,0,0,0],\n",
    "                [1,0,0,1,0,0,0,0,0,0,0,0,0,0,0,0,0,0,0,0,0,0,0,0,0,0,0,0,0,0,0,0,0,0],\n",
    "                [1,1,1,1,0,0,0,0,0,0,0,0,0,0,0,0,0,0,0,0,0,0,0,0,0,0,0,0,0,0,0,0,0,1],\n",
    "                [0,0,0,0,0,0,0,0,0,0,0,0,0,0,0,0,0,0,0,0,0,0,0,0,0,0,0,0,0,0,0,0,1,1],\n",
    "                [0,0,0,0,0,0,0,0,0,0,0,0,0,0,0,0,0,0,0,0,0,0,0,0,0,0,0,0,0,0,0,0,1,1],\n",
    "                [0,0,0,0,0,1,1,0,0,0,0,0,0,0,0,0,0,0,0,0,0,0,0,0,0,0,0,0,0,0,0,0,0,0],\n",
    "                [1,1,0,0,0,0,0,0,0,0,0,0,0,0,0,0,0,0,0,0,0,0,0,0,0,0,0,0,0,0,0,0,0,0],\n",
    "                [0,0,0,0,0,0,0,0,0,0,0,0,0,0,0,0,0,0,0,0,0,0,0,0,0,0,0,0,0,0,0,0,1,1],\n",
    "                [1,1,0,0,0,0,0,0,0,0,0,0,0,0,0,0,0,0,0,0,0,0,0,0,0,0,0,0,0,0,0,0,0,1],\n",
    "                [0,0,0,0,0,0,0,0,0,0,0,0,0,0,0,0,0,0,0,0,0,0,0,0,0,0,0,0,0,0,0,0,1,1],\n",
    "                [1,1,0,0,0,0,0,0,0,0,0,0,0,0,0,0,0,0,0,0,0,0,0,0,0,0,0,0,0,0,0,0,0,0],\n",
    "                [0,0,0,0,0,0,0,0,0,0,0,0,0,0,0,0,0,0,0,0,0,0,0,0,0,0,0,0,0,0,0,0,1,1],\n",
    "                [0,0,0,0,0,0,0,0,0,0,0,0,0,0,0,0,0,0,0,0,0,0,0,0,0,1,0,1,0,1,0,0,1,1],\n",
    "                [0,0,0,0,0,0,0,0,0,0,0,0,0,0,0,0,0,0,0,0,0,0,0,0,0,1,0,1,0,0,0,1,0,0],\n",
    "                [0,0,0,0,0,0,0,0,0,0,0,0,0,0,0,0,0,0,0,0,0,0,0,1,1,0,0,0,0,0,0,1,0,0],\n",
    "                [0,0,0,0,0,0,0,0,0,0,0,0,0,0,0,0,0,0,0,0,0,0,0,0,0,0,0,0,0,1,0,0,0,1],\n",
    "                [0,0,1,0,0,0,0,0,0,0,0,0,0,0,0,0,0,0,0,0,0,0,0,1,1,0,0,0,0,0,0,0,0,1],\n",
    "                [0,0,1,0,0,0,0,0,0,0,0,0,0,0,0,0,0,0,0,0,0,0,0,0,0,0,0,0,0,0,0,1,0,1],\n",
    "                [0,0,0,0,0,0,0,0,0,0,0,0,0,0,0,0,0,0,0,0,0,0,0,1,0,0,1,0,0,0,0,0,1,1],\n",
    "                [0,1,0,0,0,0,0,0,1,0,0,0,0,0,0,0,0,0,0,0,0,0,0,0,0,0,0,0,0,0,0,0,1,1],\n",
    "                [1,0,0,0,0,0,0,0,0,0,0,0,0,0,0,0,0,0,0,0,0,0,0,0,1,1,0,0,1,0,0,0,1,1],\n",
    "                [0,0,1,0,0,0,0,0,1,0,0,0,0,0,1,1,0,0,1,0,1,0,1,1,0,0,0,0,0,1,1,1,0,1],\n",
    "                [0,0,0,0,0,0,0,0,1,1,0,0,0,1,1,1,0,0,1,1,1,0,1,1,0,0,1,1,1,1,1,1,1,0]])\n",
    "A = torch.Tensor(adj)"
   ]
  },
  {
   "cell_type": "code",
   "execution_count": 3,
   "metadata": {},
   "outputs": [],
   "source": [
    "# Labels for all nodes\n",
    "# (0 is admin, 34 is instructor, all others are -1 because they are currently unlabeled)\n",
    "current = torch.tensor([0, -1, -1, -1, -1, -1, -1, -1, -1, -1, -1, -1, -1, -1, -1, -1, \\\n",
    "                       -1, -1, -1, -1, -1, -1, -1, -1, -1, -1, -1, -1, -1, -1, -1, -1, -1, 1])"
   ]
  },
  {
   "cell_type": "code",
   "execution_count": 4,
   "metadata": {},
   "outputs": [],
   "source": [
    "# Ground truth for reference\n",
    "ground_truth = torch.tensor([0, 0, 0, 0 ,0 ,0 ,0, 0, 1, 1, 0 ,0, 0, 0, 1 ,1 ,0 ,0, \\\n",
    "                             1, 0, 1, 0 ,1 ,1, 1, 1, 1 ,1 ,1, 1, 1, 1, 1, 1 ])"
   ]
  },
  {
   "cell_type": "markdown",
   "metadata": {},
   "source": [
    "### GCN with basic graph convolutions, no nodes features"
   ]
  },
  {
   "cell_type": "code",
   "execution_count": 5,
   "metadata": {},
   "outputs": [],
   "source": [
    "class GCNConv_Layer(nn.Module):\n",
    "    \"\"\"\n",
    "    Standard GCN convolution layer class\n",
    "    \"\"\"\n",
    "    \n",
    "    def __init__(self, adj, input_channels, output_channels):\n",
    "        super().__init__()\n",
    "        self.A_hat = adj + torch.eye(adj.size(0))\n",
    "        self.D = torch.diag(torch.sum(adj, 1))\n",
    "        self.D = self.D.inverse()\n",
    "        self.A_hat = torch.mm(self.D, self.A_hat)\n",
    "        self.W = nn.Parameter(torch.rand(input_channels, output_channels))\n",
    "    \n",
    "    def forward(self, X):\n",
    "        out = torch.relu(torch.mm(torch.mm(self.A_hat, X), self.W))\n",
    "        return out"
   ]
  },
  {
   "cell_type": "code",
   "execution_count": 6,
   "metadata": {},
   "outputs": [],
   "source": [
    "class Net1(torch.nn.Module):\n",
    "    \"\"\"\n",
    "    Standard GCN model class\n",
    "    \"\"\"\n",
    "    \n",
    "    def __init__(self, adj, num_feat, num_hid, num_out):\n",
    "        super().__init__()\n",
    "        self.conv1 = GCNConv_Layer(adj, num_feat, num_hid)\n",
    "        self.conv2 = GCNConv_Layer(adj, num_hid, num_out)\n",
    "        \n",
    "    def forward(self, X):\n",
    "        X  = self.conv1(X)\n",
    "        X = self.conv2(X)\n",
    "        return X"
   ]
  },
  {
   "cell_type": "code",
   "execution_count": 7,
   "metadata": {},
   "outputs": [],
   "source": [
    "# No relevant features for nodes \n",
    "# Using X = identity will make nodes features irrelevant\n",
    "# and the model will have to learn from adjacency matrix only\n",
    "X = torch.eye(A.size(0))"
   ]
  },
  {
   "cell_type": "code",
   "execution_count": 8,
   "metadata": {},
   "outputs": [],
   "source": [
    "model = Net1(A, X.size(0), 10, 2)\n",
    "criterion = torch.nn.CrossEntropyLoss(ignore_index = -1)\n",
    "optimizer = optim.SGD(model.parameters(), lr = 0.01, momentum = 0.9)\n",
    "loss = criterion(model(X), ground_truth)"
   ]
  },
  {
   "cell_type": "code",
   "execution_count": 9,
   "metadata": {},
   "outputs": [
    {
     "name": "stdout",
     "output_type": "stream",
     "text": [
      "Cross Entropy Loss (iter = 0): = 1.0960849523544312\n",
      "Cross Entropy Loss (iter = 10): = 0.7083942890167236\n",
      "Cross Entropy Loss (iter = 20): = 0.7007843255996704\n",
      "Cross Entropy Loss (iter = 30): = 0.6243546009063721\n",
      "Cross Entropy Loss (iter = 40): = 0.5890257954597473\n",
      "Cross Entropy Loss (iter = 50): = 0.5422787666320801\n",
      "Cross Entropy Loss (iter = 60): = 0.49574512243270874\n",
      "Cross Entropy Loss (iter = 70): = 0.44367843866348267\n",
      "Cross Entropy Loss (iter = 80): = 0.38903912901878357\n",
      "Cross Entropy Loss (iter = 90): = 0.33374303579330444\n",
      "Cross Entropy Loss (iter = 100): = 0.2809663712978363\n",
      "Cross Entropy Loss (iter = 110): = 0.23334994912147522\n",
      "Cross Entropy Loss (iter = 120): = 0.1925956904888153\n",
      "Cross Entropy Loss (iter = 130): = 0.15953367948532104\n",
      "Cross Entropy Loss (iter = 140): = 0.1331499218940735\n",
      "Cross Entropy Loss (iter = 150): = 0.11227944493293762\n",
      "Cross Entropy Loss (iter = 160): = 0.095882847905159\n",
      "Cross Entropy Loss (iter = 170): = 0.08284543454647064\n",
      "Cross Entropy Loss (iter = 180): = 0.07234323769807816\n",
      "Cross Entropy Loss (iter = 190): = 0.06379180401563644\n",
      "Cross Entropy Loss (iter = 200): = 0.05675316974520683\n",
      "Cross Entropy Loss (iter = 210): = 0.05090528726577759\n",
      "Cross Entropy Loss (iter = 220): = 0.046007342636585236\n",
      "Cross Entropy Loss (iter = 230): = 0.04185215383768082\n",
      "Cross Entropy Loss (iter = 240): = 0.038293205201625824\n",
      "Cross Entropy Loss (iter = 250): = 0.035219158977270126\n",
      "Cross Entropy Loss (iter = 260): = 0.03255255147814751\n",
      "Cross Entropy Loss (iter = 270): = 0.030217288061976433\n",
      "Cross Entropy Loss (iter = 280): = 0.028157183900475502\n",
      "Cross Entropy Loss (iter = 290): = 0.026328615844249725\n",
      "Cross Entropy Loss (iter = 300): = 0.02469669282436371\n",
      "Cross Entropy Loss (iter = 310): = 0.023233037441968918\n",
      "Cross Entropy Loss (iter = 320): = 0.02191430702805519\n",
      "Cross Entropy Loss (iter = 330): = 0.020721115171909332\n",
      "Cross Entropy Loss (iter = 340): = 0.01964181289076805\n",
      "Cross Entropy Loss (iter = 350): = 0.01865851879119873\n",
      "Cross Entropy Loss (iter = 360): = 0.0177590511739254\n",
      "Cross Entropy Loss (iter = 370): = 0.016933437436819077\n",
      "Cross Entropy Loss (iter = 380): = 0.016173237934708595\n",
      "Cross Entropy Loss (iter = 390): = 0.015471385791897774\n",
      "Cross Entropy Loss (iter = 400): = 0.01482248492538929\n",
      "Cross Entropy Loss (iter = 410): = 0.014228401705622673\n",
      "Cross Entropy Loss (iter = 420): = 0.01367688737809658\n",
      "Cross Entropy Loss (iter = 430): = 0.01316271536052227\n",
      "Cross Entropy Loss (iter = 440): = 0.012682296335697174\n",
      "Cross Entropy Loss (iter = 450): = 0.012233381159603596\n",
      "Cross Entropy Loss (iter = 460): = 0.01181236281991005\n",
      "Cross Entropy Loss (iter = 470): = 0.011416563764214516\n",
      "Cross Entropy Loss (iter = 480): = 0.011043952777981758\n",
      "Cross Entropy Loss (iter = 490): = 0.010692492127418518\n"
     ]
    }
   ],
   "source": [
    "history1 = []\n",
    "for i in range(500):\n",
    "    # Forward pass\n",
    "    optimizer.zero_grad()\n",
    "    loss = criterion(model(X), current)\n",
    "    \n",
    "    # Backprop\n",
    "    loss.backward()\n",
    "    optimizer.step()\n",
    "    \n",
    "    # For display later\n",
    "    l = (model(X))\n",
    "\n",
    "    if i%10 == 0:\n",
    "        history1.append(loss.item())\n",
    "        print(\"Cross Entropy Loss (iter = {}): =\".format(i), loss.item())"
   ]
  },
  {
   "cell_type": "code",
   "execution_count": 10,
   "metadata": {
    "scrolled": true
   },
   "outputs": [
    {
     "data": {
      "text/plain": [
       "<matplotlib.collections.PathCollection at 0x2c2b29b6820>"
      ]
     },
     "execution_count": 10,
     "metadata": {},
     "output_type": "execute_result"
    },
    {
     "data": {
      "image/png": "[encoded data removed]",
      "text/plain": [
       "<Figure size 432x288 with 1 Axes>"
      ]
     },
     "metadata": {
      "needs_background": "light"
     },
     "output_type": "display_data"
    }
   ],
   "source": [
    "plt.scatter(l.detach().numpy()[:,0], l.detach().numpy()[:,1], \\\n",
    "            c = ground_truth)"
   ]
  },
  {
   "cell_type": "markdown",
   "metadata": {},
   "source": [
    "### GCN with Kipf graph convolutions, no nodes features"
   ]
  },
  {
   "cell_type": "code",
   "execution_count": 11,
   "metadata": {},
   "outputs": [],
   "source": [
    "class GCNKipf_Layer(nn.Module):\n",
    "    \"\"\"\n",
    "    Kipf GCN convolution layer class\n",
    "    \"\"\"\n",
    "    \n",
    "    def __init__(self, adj, input_channels, output_channels):\n",
    "        super().__init__()\n",
    "        self.A_hat = adj + torch.eye(adj.size(0))\n",
    "        self.D = torch.diag(torch.sum(adj, 1))\n",
    "        self.D = self.D.inverse().sqrt()\n",
    "        self.A_hat = torch.mm(torch.mm(self.D, self.A_hat), self.D)\n",
    "        self.W = nn.Parameter(torch.rand(input_channels, output_channels))\n",
    "    \n",
    "    def forward(self, X):\n",
    "        out = torch.relu(torch.mm(torch.mm(self.A_hat, X), self.W))\n",
    "        return out"
   ]
  },
  {
   "cell_type": "code",
   "execution_count": 12,
   "metadata": {},
   "outputs": [],
   "source": [
    "class Net2(torch.nn.Module):\n",
    "    \"\"\"\n",
    "    Standard GCN model class\n",
    "    \"\"\"\n",
    "    \n",
    "    def __init__(self, adj, num_feat, num_hid, num_out):\n",
    "        super().__init__()\n",
    "        self.conv1 = GCNKipf_Layer(adj, num_feat, num_hid)\n",
    "        self.conv2 = GCNKipf_Layer(adj, num_hid, num_out)\n",
    "        \n",
    "    def forward(self, X):\n",
    "        X  = self.conv1(X)\n",
    "        X = self.conv2(X)\n",
    "        return X"
   ]
  },
  {
   "cell_type": "code",
   "execution_count": 13,
   "metadata": {},
   "outputs": [],
   "source": [
    "# No relevant features for nodes \n",
    "# Using X = identity will make nodes features irrelevant\n",
    "# and the model will have to learn from adjacency matrix only\n",
    "X = torch.eye(A.size(0))"
   ]
  },
  {
   "cell_type": "code",
   "execution_count": 14,
   "metadata": {},
   "outputs": [],
   "source": [
    "model2 = Net1(A, X.size(0), 10, 2)\n",
    "criterion = torch.nn.CrossEntropyLoss(ignore_index = -1)\n",
    "optimizer = optim.SGD(model2.parameters(), lr = 0.01, momentum = 0.9)\n",
    "loss = criterion(model2(X), ground_truth)"
   ]
  },
  {
   "cell_type": "code",
   "execution_count": 15,
   "metadata": {},
   "outputs": [
    {
     "name": "stdout",
     "output_type": "stream",
     "text": [
      "Cross Entropy Loss (iter = 0): = 0.7158387899398804\n",
      "Cross Entropy Loss (iter = 10): = 0.6941231489181519\n",
      "Cross Entropy Loss (iter = 20): = 0.6553307771682739\n",
      "Cross Entropy Loss (iter = 30): = 0.6119217872619629\n",
      "Cross Entropy Loss (iter = 40): = 0.5661046504974365\n",
      "Cross Entropy Loss (iter = 50): = 0.5170614719390869\n",
      "Cross Entropy Loss (iter = 60): = 0.4643201231956482\n",
      "Cross Entropy Loss (iter = 70): = 0.40893375873565674\n",
      "Cross Entropy Loss (iter = 80): = 0.3527054190635681\n",
      "Cross Entropy Loss (iter = 90): = 0.29891103506088257\n",
      "Cross Entropy Loss (iter = 100): = 0.2498018741607666\n",
      "Cross Entropy Loss (iter = 110): = 0.20729894936084747\n",
      "Cross Entropy Loss (iter = 120): = 0.17220862209796906\n",
      "Cross Entropy Loss (iter = 130): = 0.1436990201473236\n",
      "Cross Entropy Loss (iter = 140): = 0.12090829014778137\n",
      "Cross Entropy Loss (iter = 150): = 0.10286784917116165\n",
      "Cross Entropy Loss (iter = 160): = 0.08854615688323975\n",
      "Cross Entropy Loss (iter = 170): = 0.07714404910802841\n",
      "Cross Entropy Loss (iter = 180): = 0.06791564077138901\n",
      "Cross Entropy Loss (iter = 190): = 0.060337454080581665\n",
      "Cross Entropy Loss (iter = 200): = 0.054072506725788116\n",
      "Cross Entropy Loss (iter = 210): = 0.04883358255028725\n",
      "Cross Entropy Loss (iter = 220): = 0.04439253732562065\n",
      "Cross Entropy Loss (iter = 230): = 0.04059099406003952\n",
      "Cross Entropy Loss (iter = 240): = 0.03730915114283562\n",
      "Cross Entropy Loss (iter = 250): = 0.03445424139499664\n",
      "Cross Entropy Loss (iter = 260): = 0.0319533608853817\n",
      "Cross Entropy Loss (iter = 270): = 0.029748782515525818\n",
      "Cross Entropy Loss (iter = 280): = 0.027793850749731064\n",
      "Cross Entropy Loss (iter = 290): = 0.026051022112369537\n",
      "Cross Entropy Loss (iter = 300): = 0.024489425122737885\n",
      "Cross Entropy Loss (iter = 310): = 0.023083878681063652\n",
      "Cross Entropy Loss (iter = 320): = 0.021813351660966873\n",
      "Cross Entropy Loss (iter = 330): = 0.020660260692238808\n",
      "Cross Entropy Loss (iter = 340): = 0.019609997048974037\n",
      "Cross Entropy Loss (iter = 350): = 0.018650423735380173\n",
      "Cross Entropy Loss (iter = 360): = 0.01777641475200653\n",
      "Cross Entropy Loss (iter = 370): = 0.016973430290818214\n",
      "Cross Entropy Loss (iter = 380): = 0.01623613014817238\n",
      "Cross Entropy Loss (iter = 390): = 0.015556205995380878\n",
      "Cross Entropy Loss (iter = 400): = 0.014925736002624035\n",
      "Cross Entropy Loss (iter = 410): = 0.014339348301291466\n",
      "Cross Entropy Loss (iter = 420): = 0.01379271037876606\n",
      "Cross Entropy Loss (iter = 430): = 0.01328212395310402\n",
      "Cross Entropy Loss (iter = 440): = 0.012804172933101654\n",
      "Cross Entropy Loss (iter = 450): = 0.012355959042906761\n",
      "Cross Entropy Loss (iter = 460): = 0.011935049667954445\n",
      "Cross Entropy Loss (iter = 470): = 0.011541066691279411\n",
      "Cross Entropy Loss (iter = 480): = 0.011170564219355583\n",
      "Cross Entropy Loss (iter = 490): = 0.010821034200489521\n"
     ]
    }
   ],
   "source": [
    "history2 = []\n",
    "for i in range(500):\n",
    "    # Forward pass\n",
    "    optimizer.zero_grad()\n",
    "    loss = criterion(model2(X), current)\n",
    "    \n",
    "    # Backprop\n",
    "    loss.backward()\n",
    "    optimizer.step()\n",
    "    \n",
    "    # For display later\n",
    "    l = (model2(X))\n",
    "\n",
    "    if i%10 == 0:\n",
    "        history2.append(loss.item())\n",
    "        print(\"Cross Entropy Loss (iter = {}): =\".format(i), loss.item())"
   ]
  },
  {
   "cell_type": "code",
   "execution_count": 16,
   "metadata": {
    "scrolled": true
   },
   "outputs": [
    {
     "data": {
      "text/plain": [
       "<matplotlib.collections.PathCollection at 0x2c2b52b9310>"
      ]
     },
     "execution_count": 16,
     "metadata": {},
     "output_type": "execute_result"
    },
    {
     "data": {
      "image/png": "[encoded data removed]",
      "text/plain": [
       "<Figure size 432x288 with 1 Axes>"
      ]
     },
     "metadata": {
      "needs_background": "light"
     },
     "output_type": "display_data"
    }
   ],
   "source": [
    "plt.scatter(l.detach().numpy()[:,0], l.detach().numpy()[:,1], \\\n",
    "            c = ground_truth)"
   ]
  },
  {
   "cell_type": "markdown",
   "metadata": {},
   "source": [
    "### GCN with Kipf graph convolutions, adding hop-distance to admin/instructor as nodes features"
   ]
  },
  {
   "cell_type": "code",
   "execution_count": 17,
   "metadata": {},
   "outputs": [],
   "source": [
    "def bfs(adj, start, goal):\n",
    "    \"\"\"\n",
    "    Gives hop-distance between node start and node goal\n",
    "    for given adjacency matrix.\n",
    "    Returns zero if start = goal\n",
    "    or goal not reachable from start.\n",
    "    \"\"\"\n",
    "    \n",
    "    if start == goal:\n",
    "        return float(0)\n",
    "    queue = [start]\n",
    "    visited = []\n",
    "    dist = float(0)\n",
    "    \n",
    "    while(len(queue) > 0):\n",
    "        dist += 1\n",
    "        temp = []\n",
    "        for q in queue:\n",
    "            neighbours_node = np.argwhere(adj[q]).reshape(1, -1)[0]\n",
    "            if goal in neighbours_node:\n",
    "                return dist\n",
    "            else:\n",
    "                for n in neighbours_node:\n",
    "                    not_visited = (n not in visited)\n",
    "                    not_queue = (n not in queue)\n",
    "                    not_temp = (n not in temp)\n",
    "                    if not_visited and not_queue and not_temp:\n",
    "                        temp.append(n)\n",
    "        visited.extend(queue)\n",
    "        queue = temp\n",
    "    return float(-1)"
   ]
  },
  {
   "cell_type": "code",
   "execution_count": 18,
   "metadata": {},
   "outputs": [
    {
     "name": "stdout",
     "output_type": "stream",
     "text": [
      "1.0\n"
     ]
    }
   ],
   "source": [
    "y = bfs(adj, 1, 33)\n",
    "print(y)"
   ]
  },
  {
   "cell_type": "code",
   "execution_count": 19,
   "metadata": {},
   "outputs": [
    {
     "name": "stdout",
     "output_type": "stream",
     "text": [
      "tensor([[0., 2.],\n",
      "        [1., 2.],\n",
      "        [1., 2.],\n",
      "        [1., 2.],\n",
      "        [1., 3.],\n",
      "        [1., 3.],\n",
      "        [1., 3.],\n",
      "        [1., 3.],\n",
      "        [1., 1.],\n",
      "        [2., 1.],\n",
      "        [1., 3.],\n",
      "        [1., 3.],\n",
      "        [1., 3.],\n",
      "        [1., 1.],\n",
      "        [3., 1.],\n",
      "        [3., 1.],\n",
      "        [2., 4.],\n",
      "        [1., 3.],\n",
      "        [3., 1.],\n",
      "        [1., 1.],\n",
      "        [3., 1.],\n",
      "        [1., 3.],\n",
      "        [3., 1.],\n",
      "        [3., 1.],\n",
      "        [2., 2.],\n",
      "        [2., 2.],\n",
      "        [3., 1.],\n",
      "        [2., 1.],\n",
      "        [2., 1.],\n",
      "        [3., 1.],\n",
      "        [2., 1.],\n",
      "        [1., 1.],\n",
      "        [2., 1.],\n",
      "        [2., 0.]])\n"
     ]
    }
   ],
   "source": [
    "# Adding relevant features (hop distance to nodes admin and instructor)\n",
    "node_features = np.array([[bfs(adj, i, 0), bfs(adj, i, 33)] for i in range(34)])\n",
    "X2 = torch.from_numpy(node_features).float()\n",
    "print(X2)"
   ]
  },
  {
   "cell_type": "code",
   "execution_count": 20,
   "metadata": {},
   "outputs": [],
   "source": [
    "model3 = Net2(A, X2.size(1), 10, 2)\n",
    "criterion = torch.nn.CrossEntropyLoss(ignore_index = -1)\n",
    "optimizer = optim.SGD(model3.parameters(), lr = 0.01, momentum = 0.9)\n",
    "loss = criterion(model3(X2), ground_truth)"
   ]
  },
  {
   "cell_type": "code",
   "execution_count": 21,
   "metadata": {},
   "outputs": [
    {
     "name": "stdout",
     "output_type": "stream",
     "text": [
      "Cross Entropy Loss (iter = 0): = 2.3493735790252686\n",
      "Cross Entropy Loss (iter = 10): = 0.7784635424613953\n",
      "Cross Entropy Loss (iter = 20): = 0.1477077156305313\n",
      "Cross Entropy Loss (iter = 30): = 0.06329482793807983\n",
      "Cross Entropy Loss (iter = 40): = 0.016719123348593712\n",
      "Cross Entropy Loss (iter = 50): = 0.012326930649578571\n",
      "Cross Entropy Loss (iter = 60): = 0.008480057120323181\n",
      "Cross Entropy Loss (iter = 70): = 0.006702052429318428\n",
      "Cross Entropy Loss (iter = 80): = 0.005850758403539658\n",
      "Cross Entropy Loss (iter = 90): = 0.005280332639813423\n",
      "Cross Entropy Loss (iter = 100): = 0.004821693524718285\n",
      "Cross Entropy Loss (iter = 110): = 0.004437165334820747\n",
      "Cross Entropy Loss (iter = 120): = 0.004109819419682026\n",
      "Cross Entropy Loss (iter = 130): = 0.003827064298093319\n",
      "Cross Entropy Loss (iter = 140): = 0.0035795592702925205\n",
      "Cross Entropy Loss (iter = 150): = 0.0033609196543693542\n",
      "Cross Entropy Loss (iter = 160): = 0.003166590817272663\n",
      "Cross Entropy Loss (iter = 170): = 0.0029924288392066956\n",
      "Cross Entropy Loss (iter = 180): = 0.0028355317190289497\n",
      "Cross Entropy Loss (iter = 190): = 0.0026948386803269386\n",
      "Cross Entropy Loss (iter = 200): = 0.002567026764154434\n",
      "Cross Entropy Loss (iter = 210): = 0.0024502575397491455\n",
      "Cross Entropy Loss (iter = 220): = 0.0023430483415722847\n",
      "Cross Entropy Loss (iter = 230): = 0.002244391478598118\n",
      "Cross Entropy Loss (iter = 240): = 0.0021535754203796387\n",
      "Cross Entropy Loss (iter = 250): = 0.0020692343823611736\n",
      "Cross Entropy Loss (iter = 260): = 0.0019910132978111506\n",
      "Cross Entropy Loss (iter = 270): = 0.0019180809613317251\n",
      "Cross Entropy Loss (iter = 280): = 0.0018499621655791998\n",
      "Cross Entropy Loss (iter = 290): = 0.0017863607499748468\n",
      "Cross Entropy Loss (iter = 300): = 0.0017266229260712862\n",
      "Cross Entropy Loss (iter = 310): = 0.0016705113230273128\n",
      "Cross Entropy Loss (iter = 320): = 0.0016177885700017214\n",
      "Cross Entropy Loss (iter = 330): = 0.0015680384822189808\n",
      "Cross Entropy Loss (iter = 340): = 0.001521142665296793\n",
      "Cross Entropy Loss (iter = 350): = 0.0014767443062737584\n",
      "Cross Entropy Loss (iter = 360): = 0.0014347247779369354\n",
      "Cross Entropy Loss (iter = 370): = 0.0013948462437838316\n",
      "Cross Entropy Loss (iter = 380): = 0.001357049448415637\n",
      "Cross Entropy Loss (iter = 390): = 0.0013211560435593128\n",
      "Cross Entropy Loss (iter = 400): = 0.0012869280762970448\n",
      "Cross Entropy Loss (iter = 410): = 0.0012543657794594765\n",
      "Cross Entropy Loss (iter = 420): = 0.001223290804773569\n",
      "Cross Entropy Loss (iter = 430): = 0.001193643664009869\n",
      "Cross Entropy Loss (iter = 440): = 0.0011653052642941475\n",
      "Cross Entropy Loss (iter = 450): = 0.0011381569784134626\n",
      "Cross Entropy Loss (iter = 460): = 0.0011122581781819463\n",
      "Cross Entropy Loss (iter = 470): = 0.0010873709106817842\n",
      "Cross Entropy Loss (iter = 480): = 0.0010634951759129763\n",
      "Cross Entropy Loss (iter = 490): = 0.001040690578520298\n"
     ]
    }
   ],
   "source": [
    "history3 = []\n",
    "for i in range(500):\n",
    "    # Forward pass\n",
    "    optimizer.zero_grad()\n",
    "    loss = criterion(model3(X2), current)\n",
    "    \n",
    "    # Backprop\n",
    "    loss.backward()\n",
    "    optimizer.step()\n",
    "    \n",
    "    # For display later\n",
    "    l = (model3(X2))\n",
    "\n",
    "    if i%10 == 0:\n",
    "        history3.append(loss.item())\n",
    "        print(\"Cross Entropy Loss (iter = {}): =\".format(i), loss.item())"
   ]
  },
  {
   "cell_type": "code",
   "execution_count": 22,
   "metadata": {
    "scrolled": true
   },
   "outputs": [
    {
     "data": {
      "text/plain": [
       "<matplotlib.collections.PathCollection at 0x2c2b5443df0>"
      ]
     },
     "execution_count": 22,
     "metadata": {},
     "output_type": "execute_result"
    },
    {
     "data": {
      "image/png": "[encoded data removed]",
      "text/plain": [
       "<Figure size 432x288 with 1 Axes>"
      ]
     },
     "metadata": {
      "needs_background": "light"
     },
     "output_type": "display_data"
    }
   ],
   "source": [
    "plt.scatter(l.detach().numpy()[:,0], l.detach().numpy()[:,1], \\\n",
    "            c = ground_truth)"
   ]
  },
  {
   "cell_type": "markdown",
   "metadata": {},
   "source": [
    "### Loss comparison"
   ]
  },
  {
   "cell_type": "code",
   "execution_count": 23,
   "metadata": {},
   "outputs": [
    {
     "data": {
      "text/plain": [
       "<matplotlib.legend.Legend at 0x2c2b54a28b0>"
      ]
     },
     "execution_count": 23,
     "metadata": {},
     "output_type": "execute_result"
    },
    {
     "data": {
      "image/png": "[encoded data removed]",
      "text/plain": [
       "<Figure size 720x504 with 1 Axes>"
      ]
     },
     "metadata": {
      "needs_background": "light"
     },
     "output_type": "display_data"
    }
   ],
   "source": [
    "plt.figure(figsize = (10, 7))\n",
    "plt.plot(history1, label = 'Basic GCN, no node features')\n",
    "plt.plot(history2, color = 'red', label = 'Kipf GCN, no node features')\n",
    "plt.plot(history3, color = 'green', label = 'Kipf GCN, hop-distance in node features')\n",
    "plt.legend(loc = 'best')"
   ]
  },
  {
   "cell_type": "code",
   "execution_count": null,
   "metadata": {},
   "outputs": [],
   "source": []
  }
 ],
 "metadata": {
  "kernelspec": {
   "display_name": "Python 3",
   "language": "python",
   "name": "python3"
  },
  "language_info": {
   "codemirror_mode": {
    "name": "ipython",
    "version": 3
   },
   "file_extension": ".py",
   "mimetype": "text/x-python",
   "name": "python",
   "nbconvert_exporter": "python",
   "pygments_lexer": "ipython3",
   "version": "3.9.6"
  }
 },
 "nbformat": 4,
 "nbformat_minor": 4
}
