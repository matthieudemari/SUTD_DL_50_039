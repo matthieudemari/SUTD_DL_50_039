{
 "cells": [
  {
   "cell_type": "markdown",
   "id": "through-glossary",
   "metadata": {},
   "source": [
    "# 1.bis. CBoW demo (Short text)\n",
    "\n",
    "### About this notebook\n",
    "\n",
    "This notebook was used in the 50.039 Deep Learning course at the Singapore University of Technology and Design.\n",
    "\n",
    "**Author:** Matthieu DE MARI (matthieu_demari@sutd.edu.sg)\n",
    "\n",
    "**Version:** 1.1 (19/03/2022)\n",
    "\n",
    "**Requirements:**\n",
    "- Python 3 (tested on v3.9.6)\n",
    "- Matplotlib (tested on v3.5.1)\n",
    "- Numpy (tested on v1.22.1)\n",
    "- Torch (tested on v1.10.1)\n",
    "- Torchvision (tested on v0.11.2)\n",
    "- We also strongly recommend setting up CUDA on your machine!\n",
    "\n",
    "### Imports"
   ]
  },
  {
   "cell_type": "code",
   "execution_count": 1,
   "id": "diverse-ivory",
   "metadata": {},
   "outputs": [],
   "source": [
    "import torch\n",
    "from torch.autograd import Variable\n",
    "import torch.nn as nn\n",
    "import torch.optim as optim\n",
    "import torch.nn.functional as F\n",
    "import functools\n",
    "import matplotlib.pyplot as plt\n",
    "CUDA = torch.cuda.is_available()\n",
    "device = torch.device(\"cuda\" if CUDA else \"cpu\")"
   ]
  },
  {
   "cell_type": "markdown",
   "id": "informed-tattoo",
   "metadata": {},
   "source": [
    "### Step 1. Produce some data based on a given text for training our CBoW model    "
   ]
  },
  {
   "cell_type": "code",
   "execution_count": 2,
   "id": "protected-truth",
   "metadata": {},
   "outputs": [],
   "source": [
    "def text_to_train(text, context_window):\n",
    "    \n",
    "    # Get data from list of words in text, using a context window of size k = context_window\n",
    "    data = []\n",
    "    for i in range(context_window, len(text) - context_window):\n",
    "        context = [text[i+e] for e in range(-context_window, context_window+1) if i+e != i]\n",
    "        target = text[i]\n",
    "        data.append((context, target))\n",
    "        \n",
    "    return data"
   ]
  },
  {
   "cell_type": "code",
   "execution_count": 3,
   "id": "sensitive-preserve",
   "metadata": {},
   "outputs": [],
   "source": [
    "def create_text():\n",
    "    \n",
    "    # Load corpus from file\n",
    "    with open(\"./text_short.txt\", 'r', encoding=\"utf8\",) as f:\n",
    "        corpus = f.readlines()\n",
    "    f.close()\n",
    "    \n",
    "    # Join corpus into a single string\n",
    "    text = \"\"\n",
    "    for s in corpus:\n",
    "        l = s.split()\n",
    "        for s2 in l:\n",
    "            # Removes all special characters from string\n",
    "            s2 = ''.join(filter(str.isalnum, s2))\n",
    "            s2 += ' '\n",
    "            text += s2.lower()\n",
    "    text = text.split()\n",
    "    \n",
    "    return text"
   ]
  },
  {
   "cell_type": "code",
   "execution_count": 4,
   "id": "identical-heather",
   "metadata": {},
   "outputs": [
    {
     "name": "stdout",
     "output_type": "stream",
     "text": [
      "['i', 'would', 'be', 'fatal', 'for', 'the', 'nation', 'to', 'overlook', 'the', 'urgency', 'of', 'the', 'moment', 'and', 'to', 'underestimate', 'the', 'determination', 'of', 'its', 'colored', 'citizens', 'this', 'sweltering', 'summer', 'of', 'the', 'colored', 'peoples', 'legitimate', 'discontent', 'will', 'not', 'pass', 'until', 'there', 'is', 'an', 'invigorating', 'autumn', 'of', 'freedom', 'and', 'equality', 'nineteen', 'sixtythree', 'is', 'not', 'an', 'end', 'but', 'a', 'beginning', 'those', 'who', 'hope', 'that', 'the', 'colored', 'americans', 'needed', 'to', 'blow', 'off', 'steam', 'and', 'will', 'now', 'be', 'content', 'will', 'have', 'a', 'rude', 'awakening', 'if', 'the', 'nation', 'returns', 'to', 'business', 'as', 'usual', 'there', 'will', 'be', 'neither', 'rest', 'nor', 'tranquility', 'in', 'america', 'until', 'the', 'colored', 'citizen', 'is', 'granted', 'his', 'citizenship', 'rights', 'the', 'whirlwinds', 'of', 'revolt', 'will', 'continue', 'to', 'shake', 'the', 'foundations', 'of', 'our', 'nation', 'until', 'the', 'bright', 'day', 'of', 'justice', 'emerges', 'we', 'can', 'never', 'be', 'satisfied', 'as', 'long', 'as', 'our', 'bodies', 'heavy', 'with', 'the', 'fatigue', 'of', 'travel', 'cannot', 'gain', 'lodging', 'in', 'the', 'motels', 'of', 'the', 'highways', 'and', 'the', 'hotels', 'of', 'the', 'cities', 'we', 'cannot', 'be', 'satisfied', 'as', 'long', 'as', 'the', 'colored', 'persons', 'basic', 'mobility', 'is', 'from', 'a', 'smaller', 'ghetto', 'to', 'a', 'larger', 'one', 'we', 'can', 'never', 'be', 'satisfied', 'as', 'long', 'as', 'our', 'children', 'are', 'stripped', 'of', 'their', 'selfhood', 'and', 'robbed', 'of', 'their', 'dignity', 'by', 'signs', 'stating', 'for', 'white', 'only', 'we', 'cannot', 'be', 'satisfied', 'as', 'long', 'as', 'a', 'colored', 'person', 'in', 'mississippi', 'cannot', 'vote', 'and', 'a', 'colored', 'person', 'in', 'new', 'york', 'believes', 'he', 'has', 'nothing', 'for', 'which', 'to', 'vote', 'no', 'no', 'we', 'are', 'not', 'satisfied', 'and', 'we', 'will', 'not', 'be', 'satisfied', 'until', 'justice', 'rolls', 'down', 'like', 'waters', 'and', 'righteousness', 'like', 'a', 'mighty', 'stream', 'i', 'am', 'not', 'unmindful', 'that', 'some', 'of', 'you', 'have', 'come', 'here', 'out', 'of', 'your', 'trials', 'and', 'tribulations', 'some', 'of', 'you', 'have', 'come', 'from', 'areas', 'where', 'your', 'quest', 'for', 'freedom', 'left', 'you', 'battered', 'by', 'storms', 'of', 'persecutions', 'and', 'staggered', 'by', 'the', 'winds', 'of', 'police', 'brutality', 'you', 'have', 'been', 'the', 'veterans', 'of', 'creative', 'suffering', 'continue', 'to', 'work', 'with', 'the', 'faith', 'that', 'unearned', 'suffering', 'is', 'redemptive', 'go', 'back', 'to', 'mississippi', 'go', 'back', 'to', 'alabama', 'go', 'back', 'to', 'south', 'carolina', 'go', 'back', 'to', 'georgia', 'go', 'back', 'to', 'louisiana', 'go', 'back', 'to', 'the', 'slums', 'and', 'ghettos', 'of', 'our', 'modern', 'cities', 'knowing', 'that', 'somehow', 'this', 'situation', 'can', 'and', 'will', 'be', 'changed', 'let', 'us', 'not', 'wallow', 'in', 'the', 'valley', 'of', 'despair', 'i', 'say', 'to', 'you', 'my', 'friends', 'we', 'have', 'the', 'difficulties', 'of', 'today', 'and', 'tomorrow', 'i', 'still', 'have', 'a', 'dream', 'it', 'is', 'a', 'dream', 'deeply', 'rooted', 'in', 'the', 'american', 'dream', 'i', 'have', 'a', 'dream', 'that', 'one', 'day', 'this', 'nation', 'will', 'rise', 'up', 'and', 'live', 'out', 'the', 'true', 'meaning', 'of', 'its', 'creed', 'we', 'hold', 'these', 'truths', 'to', 'be', 'selfevident', 'that', 'all', 'men', 'are', 'created', 'equal', 'i', 'have', 'a', 'dream', 'that', 'one', 'day', 'out', 'in', 'the', 'red', 'hills', 'of', 'georgia', 'the', 'sons', 'of', 'former', 'slaves', 'and', 'the', 'sons', 'of', 'former', 'slaveowners', 'will', 'be', 'able', 'to', 'sit', 'down', 'together', 'at', 'the', 'table', 'of', 'brotherhood', 'i', 'have', 'a', 'dream', 'that', 'one', 'day', 'even', 'the', 'state', 'of', 'mississippi', 'a', 'state', 'sweltering', 'with', 'the', 'heat', 'of', 'oppression', 'will', 'be', 'transformed', 'into', 'an', 'oasis', 'of', 'freedom', 'and', 'justice', 'i', 'have', 'a', 'dream', 'that', 'my', 'four', 'little', 'children', 'will', 'one', 'day', 'live', 'in', 'a', 'nation', 'where', 'they', 'will', 'not', 'be', 'judged', 'by', 'the', 'color', 'of', 'their', 'skin', 'but', 'by', 'their', 'character', 'i', 'have', 'a', 'dream', 'today']\n"
     ]
    }
   ],
   "source": [
    "text = create_text()\n",
    "print(text)"
   ]
  },
  {
   "cell_type": "code",
   "execution_count": 5,
   "id": "separate-prayer",
   "metadata": {},
   "outputs": [],
   "source": [
    "def generate_data(text, context_window):\n",
    "    \n",
    "    # Create vocabulary set V\n",
    "    vocab = set(text)\n",
    "    \n",
    "    # Word to index and index 2 word converters\n",
    "    word2index = {w:i for i,w in enumerate(vocab)}\n",
    "    index2word = {i:w for i,w in enumerate(vocab)}\n",
    "    \n",
    "    # Generate data\n",
    "    data = text_to_train(text, context_window)\n",
    "    \n",
    "    return vocab, data, word2index, index2word"
   ]
  },
  {
   "cell_type": "code",
   "execution_count": 6,
   "id": "indie-summer",
   "metadata": {},
   "outputs": [],
   "source": [
    "vocab, data, word2index, index2word = generate_data(text, context_window = 2)"
   ]
  },
  {
   "cell_type": "code",
   "execution_count": 7,
   "id": "presidential-sauce",
   "metadata": {},
   "outputs": [
    {
     "name": "stdout",
     "output_type": "stream",
     "text": [
      "{'with', 'blow', 'their', 'believes', 'changed', 'american', 'heat', 'in', 'larger', 'children', 'by', 'back', 'redemptive', 'my', 'have', 'neither', 'new', 'which', 'georgia', 'there', 'transformed', 'its', 'awakening', 'am', 'alabama', 'off', 'colored', 'robbed', 'only', 'friends', 'those', 'determination', 'four', 'down', 'steam', 'knowing', 'invigorating', 'situation', 'staggered', 'would', 'pass', 'citizenship', 'summer', 'where', 'been', 'true', 'meaning', 'business', 'rights', 'sit', 'dream', 'underestimate', 'stream', 'table', 'today', 'come', 'is', 'overlook', 'the', 'men', 'some', 'travel', 'brutality', 'character', 'winds', 'smaller', 'into', 'creative', 'discontent', 'autumn', 'skin', 'tranquility', 'wallow', 'red', 'fatal', 'these', 'hope', 'left', 'former', 'south', 'his', 'oasis', 'quest', 'judged', 'hills', 'sons', 'peoples', 'police', 'deeply', 'despair', 'shake', 'not', 'waters', 'stripped', 'nothing', 'fatigue', 'they', 'rooted', 'able', 'slaveowners', 'persons', 'be', 'highways', 'beginning', 'america', 'foundations', 'never', 'slums', 'work', 'oppression', 'emerges', 'and', 'together', 'of', 'basic', 'gain', 'one', 'hold', 'usual', 'mississippi', 'stating', 'suffering', 'sweltering', 'faith', 'created', 'can', 'out', 'until', 'state', 'continue', 'here', 'it', 'equal', 'motels', 'tomorrow', 'no', 'moment', 'white', 'somehow', 'little', 'color', 'your', 'an', 'legitimate', 'unmindful', 'modern', 'needed', 'our', 'satisfied', 'carolina', 'i', 'americans', 'granted', 'he', 'citizens', 'rise', 'creed', 'areas', 'louisiana', 'to', 'cannot', 'battered', 'a', 'valley', 'you', 'now', 'citizen', 'mobility', 'that', 'we', 'mighty', 'difficulties', 'dignity', 'selfevident', 'who', 'urgency', 'day', 'nor', 'ghetto', 'even', 'persecutions', 'whirlwinds', 'truths', 'revolt', 'york', 'trials', 'but', 'hotels', 'signs', 'this', 'veterans', 'heavy', 'ghettos', 'as', 'all', 'content', 'justice', 'say', 'still', 'us', 'equality', 'sixtythree', 'rude', 'if', 'righteousness', 'live', 'rolls', 'bodies', 'up', 'for', 'end', 'selfhood', 'person', 'unearned', 'lodging', 'bright', 'rest', 'returns', 'will', 'cities', 'tribulations', 'long', 'are', 'vote', 'at', 'slaves', 'nineteen', 'go', 'has', 'storms', 'brotherhood', 'let', 'like', 'from', 'nation', 'freedom'}\n"
     ]
    }
   ],
   "source": [
    "print(vocab)"
   ]
  },
  {
   "cell_type": "code",
   "execution_count": 8,
   "id": "statewide-passion",
   "metadata": {},
   "outputs": [
    {
     "name": "stdout",
     "output_type": "stream",
     "text": [
      "{'with': 0, 'blow': 1, 'their': 2, 'believes': 3, 'changed': 4, 'american': 5, 'heat': 6, 'in': 7, 'larger': 8, 'children': 9, 'by': 10, 'back': 11, 'redemptive': 12, 'my': 13, 'have': 14, 'neither': 15, 'new': 16, 'which': 17, 'georgia': 18, 'there': 19, 'transformed': 20, 'its': 21, 'awakening': 22, 'am': 23, 'alabama': 24, 'off': 25, 'colored': 26, 'robbed': 27, 'only': 28, 'friends': 29, 'those': 30, 'determination': 31, 'four': 32, 'down': 33, 'steam': 34, 'knowing': 35, 'invigorating': 36, 'situation': 37, 'staggered': 38, 'would': 39, 'pass': 40, 'citizenship': 41, 'summer': 42, 'where': 43, 'been': 44, 'true': 45, 'meaning': 46, 'business': 47, 'rights': 48, 'sit': 49, 'dream': 50, 'underestimate': 51, 'stream': 52, 'table': 53, 'today': 54, 'come': 55, 'is': 56, 'overlook': 57, 'the': 58, 'men': 59, 'some': 60, 'travel': 61, 'brutality': 62, 'character': 63, 'winds': 64, 'smaller': 65, 'into': 66, 'creative': 67, 'discontent': 68, 'autumn': 69, 'skin': 70, 'tranquility': 71, 'wallow': 72, 'red': 73, 'fatal': 74, 'these': 75, 'hope': 76, 'left': 77, 'former': 78, 'south': 79, 'his': 80, 'oasis': 81, 'quest': 82, 'judged': 83, 'hills': 84, 'sons': 85, 'peoples': 86, 'police': 87, 'deeply': 88, 'despair': 89, 'shake': 90, 'not': 91, 'waters': 92, 'stripped': 93, 'nothing': 94, 'fatigue': 95, 'they': 96, 'rooted': 97, 'able': 98, 'slaveowners': 99, 'persons': 100, 'be': 101, 'highways': 102, 'beginning': 103, 'america': 104, 'foundations': 105, 'never': 106, 'slums': 107, 'work': 108, 'oppression': 109, 'emerges': 110, 'and': 111, 'together': 112, 'of': 113, 'basic': 114, 'gain': 115, 'one': 116, 'hold': 117, 'usual': 118, 'mississippi': 119, 'stating': 120, 'suffering': 121, 'sweltering': 122, 'faith': 123, 'created': 124, 'can': 125, 'out': 126, 'until': 127, 'state': 128, 'continue': 129, 'here': 130, 'it': 131, 'equal': 132, 'motels': 133, 'tomorrow': 134, 'no': 135, 'moment': 136, 'white': 137, 'somehow': 138, 'little': 139, 'color': 140, 'your': 141, 'an': 142, 'legitimate': 143, 'unmindful': 144, 'modern': 145, 'needed': 146, 'our': 147, 'satisfied': 148, 'carolina': 149, 'i': 150, 'americans': 151, 'granted': 152, 'he': 153, 'citizens': 154, 'rise': 155, 'creed': 156, 'areas': 157, 'louisiana': 158, 'to': 159, 'cannot': 160, 'battered': 161, 'a': 162, 'valley': 163, 'you': 164, 'now': 165, 'citizen': 166, 'mobility': 167, 'that': 168, 'we': 169, 'mighty': 170, 'difficulties': 171, 'dignity': 172, 'selfevident': 173, 'who': 174, 'urgency': 175, 'day': 176, 'nor': 177, 'ghetto': 178, 'even': 179, 'persecutions': 180, 'whirlwinds': 181, 'truths': 182, 'revolt': 183, 'york': 184, 'trials': 185, 'but': 186, 'hotels': 187, 'signs': 188, 'this': 189, 'veterans': 190, 'heavy': 191, 'ghettos': 192, 'as': 193, 'all': 194, 'content': 195, 'justice': 196, 'say': 197, 'still': 198, 'us': 199, 'equality': 200, 'sixtythree': 201, 'rude': 202, 'if': 203, 'righteousness': 204, 'live': 205, 'rolls': 206, 'bodies': 207, 'up': 208, 'for': 209, 'end': 210, 'selfhood': 211, 'person': 212, 'unearned': 213, 'lodging': 214, 'bright': 215, 'rest': 216, 'returns': 217, 'will': 218, 'cities': 219, 'tribulations': 220, 'long': 221, 'are': 222, 'vote': 223, 'at': 224, 'slaves': 225, 'nineteen': 226, 'go': 227, 'has': 228, 'storms': 229, 'brotherhood': 230, 'let': 231, 'like': 232, 'from': 233, 'nation': 234, 'freedom': 235}\n"
     ]
    }
   ],
   "source": [
    "print(word2index)"
   ]
  },
  {
   "cell_type": "code",
   "execution_count": 9,
   "id": "unique-profession",
   "metadata": {},
   "outputs": [
    {
     "name": "stdout",
     "output_type": "stream",
     "text": [
      "{0: 'with', 1: 'blow', 2: 'their', 3: 'believes', 4: 'changed', 5: 'american', 6: 'heat', 7: 'in', 8: 'larger', 9: 'children', 10: 'by', 11: 'back', 12: 'redemptive', 13: 'my', 14: 'have', 15: 'neither', 16: 'new', 17: 'which', 18: 'georgia', 19: 'there', 20: 'transformed', 21: 'its', 22: 'awakening', 23: 'am', 24: 'alabama', 25: 'off', 26: 'colored', 27: 'robbed', 28: 'only', 29: 'friends', 30: 'those', 31: 'determination', 32: 'four', 33: 'down', 34: 'steam', 35: 'knowing', 36: 'invigorating', 37: 'situation', 38: 'staggered', 39: 'would', 40: 'pass', 41: 'citizenship', 42: 'summer', 43: 'where', 44: 'been', 45: 'true', 46: 'meaning', 47: 'business', 48: 'rights', 49: 'sit', 50: 'dream', 51: 'underestimate', 52: 'stream', 53: 'table', 54: 'today', 55: 'come', 56: 'is', 57: 'overlook', 58: 'the', 59: 'men', 60: 'some', 61: 'travel', 62: 'brutality', 63: 'character', 64: 'winds', 65: 'smaller', 66: 'into', 67: 'creative', 68: 'discontent', 69: 'autumn', 70: 'skin', 71: 'tranquility', 72: 'wallow', 73: 'red', 74: 'fatal', 75: 'these', 76: 'hope', 77: 'left', 78: 'former', 79: 'south', 80: 'his', 81: 'oasis', 82: 'quest', 83: 'judged', 84: 'hills', 85: 'sons', 86: 'peoples', 87: 'police', 88: 'deeply', 89: 'despair', 90: 'shake', 91: 'not', 92: 'waters', 93: 'stripped', 94: 'nothing', 95: 'fatigue', 96: 'they', 97: 'rooted', 98: 'able', 99: 'slaveowners', 100: 'persons', 101: 'be', 102: 'highways', 103: 'beginning', 104: 'america', 105: 'foundations', 106: 'never', 107: 'slums', 108: 'work', 109: 'oppression', 110: 'emerges', 111: 'and', 112: 'together', 113: 'of', 114: 'basic', 115: 'gain', 116: 'one', 117: 'hold', 118: 'usual', 119: 'mississippi', 120: 'stating', 121: 'suffering', 122: 'sweltering', 123: 'faith', 124: 'created', 125: 'can', 126: 'out', 127: 'until', 128: 'state', 129: 'continue', 130: 'here', 131: 'it', 132: 'equal', 133: 'motels', 134: 'tomorrow', 135: 'no', 136: 'moment', 137: 'white', 138: 'somehow', 139: 'little', 140: 'color', 141: 'your', 142: 'an', 143: 'legitimate', 144: 'unmindful', 145: 'modern', 146: 'needed', 147: 'our', 148: 'satisfied', 149: 'carolina', 150: 'i', 151: 'americans', 152: 'granted', 153: 'he', 154: 'citizens', 155: 'rise', 156: 'creed', 157: 'areas', 158: 'louisiana', 159: 'to', 160: 'cannot', 161: 'battered', 162: 'a', 163: 'valley', 164: 'you', 165: 'now', 166: 'citizen', 167: 'mobility', 168: 'that', 169: 'we', 170: 'mighty', 171: 'difficulties', 172: 'dignity', 173: 'selfevident', 174: 'who', 175: 'urgency', 176: 'day', 177: 'nor', 178: 'ghetto', 179: 'even', 180: 'persecutions', 181: 'whirlwinds', 182: 'truths', 183: 'revolt', 184: 'york', 185: 'trials', 186: 'but', 187: 'hotels', 188: 'signs', 189: 'this', 190: 'veterans', 191: 'heavy', 192: 'ghettos', 193: 'as', 194: 'all', 195: 'content', 196: 'justice', 197: 'say', 198: 'still', 199: 'us', 200: 'equality', 201: 'sixtythree', 202: 'rude', 203: 'if', 204: 'righteousness', 205: 'live', 206: 'rolls', 207: 'bodies', 208: 'up', 209: 'for', 210: 'end', 211: 'selfhood', 212: 'person', 213: 'unearned', 214: 'lodging', 215: 'bright', 216: 'rest', 217: 'returns', 218: 'will', 219: 'cities', 220: 'tribulations', 221: 'long', 222: 'are', 223: 'vote', 224: 'at', 225: 'slaves', 226: 'nineteen', 227: 'go', 228: 'has', 229: 'storms', 230: 'brotherhood', 231: 'let', 232: 'like', 233: 'from', 234: 'nation', 235: 'freedom'}\n"
     ]
    }
   ],
   "source": [
    "print(index2word)"
   ]
  },
  {
   "cell_type": "code",
   "execution_count": 10,
   "id": "unavailable-banks",
   "metadata": {},
   "outputs": [
    {
     "name": "stdout",
     "output_type": "stream",
     "text": [
      "[(['i', 'would', 'fatal', 'for'], 'be'), (['would', 'be', 'for', 'the'], 'fatal'), (['be', 'fatal', 'the', 'nation'], 'for'), (['fatal', 'for', 'nation', 'to'], 'the'), (['for', 'the', 'to', 'overlook'], 'nation'), (['the', 'nation', 'overlook', 'the'], 'to'), (['nation', 'to', 'the', 'urgency'], 'overlook'), (['to', 'overlook', 'urgency', 'of'], 'the'), (['overlook', 'the', 'of', 'the'], 'urgency'), (['the', 'urgency', 'the', 'moment'], 'of'), (['urgency', 'of', 'moment', 'and'], 'the'), (['of', 'the', 'and', 'to'], 'moment'), (['the', 'moment', 'to', 'underestimate'], 'and'), (['moment', 'and', 'underestimate', 'the'], 'to'), (['and', 'to', 'the', 'determination'], 'underestimate'), (['to', 'underestimate', 'determination', 'of'], 'the'), (['underestimate', 'the', 'of', 'its'], 'determination'), (['the', 'determination', 'its', 'colored'], 'of'), (['determination', 'of', 'colored', 'citizens'], 'its'), (['of', 'its', 'citizens', 'this'], 'colored'), (['its', 'colored', 'this', 'sweltering'], 'citizens'), (['colored', 'citizens', 'sweltering', 'summer'], 'this'), (['citizens', 'this', 'summer', 'of'], 'sweltering'), (['this', 'sweltering', 'of', 'the'], 'summer'), (['sweltering', 'summer', 'the', 'colored'], 'of'), (['summer', 'of', 'colored', 'peoples'], 'the'), (['of', 'the', 'peoples', 'legitimate'], 'colored'), (['the', 'colored', 'legitimate', 'discontent'], 'peoples'), (['colored', 'peoples', 'discontent', 'will'], 'legitimate'), (['peoples', 'legitimate', 'will', 'not'], 'discontent'), (['legitimate', 'discontent', 'not', 'pass'], 'will'), (['discontent', 'will', 'pass', 'until'], 'not'), (['will', 'not', 'until', 'there'], 'pass'), (['not', 'pass', 'there', 'is'], 'until'), (['pass', 'until', 'is', 'an'], 'there'), (['until', 'there', 'an', 'invigorating'], 'is'), (['there', 'is', 'invigorating', 'autumn'], 'an'), (['is', 'an', 'autumn', 'of'], 'invigorating'), (['an', 'invigorating', 'of', 'freedom'], 'autumn'), (['invigorating', 'autumn', 'freedom', 'and'], 'of'), (['autumn', 'of', 'and', 'equality'], 'freedom'), (['of', 'freedom', 'equality', 'nineteen'], 'and'), (['freedom', 'and', 'nineteen', 'sixtythree'], 'equality'), (['and', 'equality', 'sixtythree', 'is'], 'nineteen'), (['equality', 'nineteen', 'is', 'not'], 'sixtythree'), (['nineteen', 'sixtythree', 'not', 'an'], 'is'), (['sixtythree', 'is', 'an', 'end'], 'not'), (['is', 'not', 'end', 'but'], 'an'), (['not', 'an', 'but', 'a'], 'end'), (['an', 'end', 'a', 'beginning'], 'but'), (['end', 'but', 'beginning', 'those'], 'a'), (['but', 'a', 'those', 'who'], 'beginning'), (['a', 'beginning', 'who', 'hope'], 'those'), (['beginning', 'those', 'hope', 'that'], 'who'), (['those', 'who', 'that', 'the'], 'hope'), (['who', 'hope', 'the', 'colored'], 'that'), (['hope', 'that', 'colored', 'americans'], 'the'), (['that', 'the', 'americans', 'needed'], 'colored'), (['the', 'colored', 'needed', 'to'], 'americans'), (['colored', 'americans', 'to', 'blow'], 'needed'), (['americans', 'needed', 'blow', 'off'], 'to'), (['needed', 'to', 'off', 'steam'], 'blow'), (['to', 'blow', 'steam', 'and'], 'off'), (['blow', 'off', 'and', 'will'], 'steam'), (['off', 'steam', 'will', 'now'], 'and'), (['steam', 'and', 'now', 'be'], 'will'), (['and', 'will', 'be', 'content'], 'now'), (['will', 'now', 'content', 'will'], 'be'), (['now', 'be', 'will', 'have'], 'content'), (['be', 'content', 'have', 'a'], 'will'), (['content', 'will', 'a', 'rude'], 'have'), (['will', 'have', 'rude', 'awakening'], 'a'), (['have', 'a', 'awakening', 'if'], 'rude'), (['a', 'rude', 'if', 'the'], 'awakening'), (['rude', 'awakening', 'the', 'nation'], 'if'), (['awakening', 'if', 'nation', 'returns'], 'the'), (['if', 'the', 'returns', 'to'], 'nation'), (['the', 'nation', 'to', 'business'], 'returns'), (['nation', 'returns', 'business', 'as'], 'to'), (['returns', 'to', 'as', 'usual'], 'business'), (['to', 'business', 'usual', 'there'], 'as'), (['business', 'as', 'there', 'will'], 'usual'), (['as', 'usual', 'will', 'be'], 'there'), (['usual', 'there', 'be', 'neither'], 'will'), (['there', 'will', 'neither', 'rest'], 'be'), (['will', 'be', 'rest', 'nor'], 'neither'), (['be', 'neither', 'nor', 'tranquility'], 'rest'), (['neither', 'rest', 'tranquility', 'in'], 'nor'), (['rest', 'nor', 'in', 'america'], 'tranquility'), (['nor', 'tranquility', 'america', 'until'], 'in'), (['tranquility', 'in', 'until', 'the'], 'america'), (['in', 'america', 'the', 'colored'], 'until'), (['america', 'until', 'colored', 'citizen'], 'the'), (['until', 'the', 'citizen', 'is'], 'colored'), (['the', 'colored', 'is', 'granted'], 'citizen'), (['colored', 'citizen', 'granted', 'his'], 'is'), (['citizen', 'is', 'his', 'citizenship'], 'granted'), (['is', 'granted', 'citizenship', 'rights'], 'his'), (['granted', 'his', 'rights', 'the'], 'citizenship'), (['his', 'citizenship', 'the', 'whirlwinds'], 'rights'), (['citizenship', 'rights', 'whirlwinds', 'of'], 'the'), (['rights', 'the', 'of', 'revolt'], 'whirlwinds'), (['the', 'whirlwinds', 'revolt', 'will'], 'of'), (['whirlwinds', 'of', 'will', 'continue'], 'revolt'), (['of', 'revolt', 'continue', 'to'], 'will'), (['revolt', 'will', 'to', 'shake'], 'continue'), (['will', 'continue', 'shake', 'the'], 'to'), (['continue', 'to', 'the', 'foundations'], 'shake'), (['to', 'shake', 'foundations', 'of'], 'the'), (['shake', 'the', 'of', 'our'], 'foundations'), (['the', 'foundations', 'our', 'nation'], 'of'), (['foundations', 'of', 'nation', 'until'], 'our'), (['of', 'our', 'until', 'the'], 'nation'), (['our', 'nation', 'the', 'bright'], 'until'), (['nation', 'until', 'bright', 'day'], 'the'), (['until', 'the', 'day', 'of'], 'bright'), (['the', 'bright', 'of', 'justice'], 'day'), (['bright', 'day', 'justice', 'emerges'], 'of'), (['day', 'of', 'emerges', 'we'], 'justice'), (['of', 'justice', 'we', 'can'], 'emerges'), (['justice', 'emerges', 'can', 'never'], 'we'), (['emerges', 'we', 'never', 'be'], 'can'), (['we', 'can', 'be', 'satisfied'], 'never'), (['can', 'never', 'satisfied', 'as'], 'be'), (['never', 'be', 'as', 'long'], 'satisfied'), (['be', 'satisfied', 'long', 'as'], 'as'), (['satisfied', 'as', 'as', 'our'], 'long'), (['as', 'long', 'our', 'bodies'], 'as'), (['long', 'as', 'bodies', 'heavy'], 'our'), (['as', 'our', 'heavy', 'with'], 'bodies'), (['our', 'bodies', 'with', 'the'], 'heavy'), (['bodies', 'heavy', 'the', 'fatigue'], 'with'), (['heavy', 'with', 'fatigue', 'of'], 'the'), (['with', 'the', 'of', 'travel'], 'fatigue'), (['the', 'fatigue', 'travel', 'cannot'], 'of'), (['fatigue', 'of', 'cannot', 'gain'], 'travel'), (['of', 'travel', 'gain', 'lodging'], 'cannot'), (['travel', 'cannot', 'lodging', 'in'], 'gain'), (['cannot', 'gain', 'in', 'the'], 'lodging'), (['gain', 'lodging', 'the', 'motels'], 'in'), (['lodging', 'in', 'motels', 'of'], 'the'), (['in', 'the', 'of', 'the'], 'motels'), (['the', 'motels', 'the', 'highways'], 'of'), (['motels', 'of', 'highways', 'and'], 'the'), (['of', 'the', 'and', 'the'], 'highways'), (['the', 'highways', 'the', 'hotels'], 'and'), (['highways', 'and', 'hotels', 'of'], 'the'), (['and', 'the', 'of', 'the'], 'hotels'), (['the', 'hotels', 'the', 'cities'], 'of'), (['hotels', 'of', 'cities', 'we'], 'the'), (['of', 'the', 'we', 'cannot'], 'cities'), (['the', 'cities', 'cannot', 'be'], 'we'), (['cities', 'we', 'be', 'satisfied'], 'cannot'), (['we', 'cannot', 'satisfied', 'as'], 'be'), (['cannot', 'be', 'as', 'long'], 'satisfied'), (['be', 'satisfied', 'long', 'as'], 'as'), (['satisfied', 'as', 'as', 'the'], 'long'), (['as', 'long', 'the', 'colored'], 'as'), (['long', 'as', 'colored', 'persons'], 'the'), (['as', 'the', 'persons', 'basic'], 'colored'), (['the', 'colored', 'basic', 'mobility'], 'persons'), (['colored', 'persons', 'mobility', 'is'], 'basic'), (['persons', 'basic', 'is', 'from'], 'mobility'), (['basic', 'mobility', 'from', 'a'], 'is'), (['mobility', 'is', 'a', 'smaller'], 'from'), (['is', 'from', 'smaller', 'ghetto'], 'a'), (['from', 'a', 'ghetto', 'to'], 'smaller'), (['a', 'smaller', 'to', 'a'], 'ghetto'), (['smaller', 'ghetto', 'a', 'larger'], 'to'), (['ghetto', 'to', 'larger', 'one'], 'a'), (['to', 'a', 'one', 'we'], 'larger'), (['a', 'larger', 'we', 'can'], 'one'), (['larger', 'one', 'can', 'never'], 'we'), (['one', 'we', 'never', 'be'], 'can'), (['we', 'can', 'be', 'satisfied'], 'never'), (['can', 'never', 'satisfied', 'as'], 'be'), (['never', 'be', 'as', 'long'], 'satisfied'), (['be', 'satisfied', 'long', 'as'], 'as'), (['satisfied', 'as', 'as', 'our'], 'long'), (['as', 'long', 'our', 'children'], 'as'), (['long', 'as', 'children', 'are'], 'our'), (['as', 'our', 'are', 'stripped'], 'children'), (['our', 'children', 'stripped', 'of'], 'are'), (['children', 'are', 'of', 'their'], 'stripped'), (['are', 'stripped', 'their', 'selfhood'], 'of'), (['stripped', 'of', 'selfhood', 'and'], 'their'), (['of', 'their', 'and', 'robbed'], 'selfhood'), (['their', 'selfhood', 'robbed', 'of'], 'and'), (['selfhood', 'and', 'of', 'their'], 'robbed'), (['and', 'robbed', 'their', 'dignity'], 'of'), (['robbed', 'of', 'dignity', 'by'], 'their'), (['of', 'their', 'by', 'signs'], 'dignity'), (['their', 'dignity', 'signs', 'stating'], 'by'), (['dignity', 'by', 'stating', 'for'], 'signs'), (['by', 'signs', 'for', 'white'], 'stating'), (['signs', 'stating', 'white', 'only'], 'for'), (['stating', 'for', 'only', 'we'], 'white'), (['for', 'white', 'we', 'cannot'], 'only'), (['white', 'only', 'cannot', 'be'], 'we'), (['only', 'we', 'be', 'satisfied'], 'cannot'), (['we', 'cannot', 'satisfied', 'as'], 'be'), (['cannot', 'be', 'as', 'long'], 'satisfied'), (['be', 'satisfied', 'long', 'as'], 'as'), (['satisfied', 'as', 'as', 'a'], 'long'), (['as', 'long', 'a', 'colored'], 'as'), (['long', 'as', 'colored', 'person'], 'a'), (['as', 'a', 'person', 'in'], 'colored'), (['a', 'colored', 'in', 'mississippi'], 'person'), (['colored', 'person', 'mississippi', 'cannot'], 'in'), (['person', 'in', 'cannot', 'vote'], 'mississippi'), (['in', 'mississippi', 'vote', 'and'], 'cannot'), (['mississippi', 'cannot', 'and', 'a'], 'vote'), (['cannot', 'vote', 'a', 'colored'], 'and'), (['vote', 'and', 'colored', 'person'], 'a'), (['and', 'a', 'person', 'in'], 'colored'), (['a', 'colored', 'in', 'new'], 'person'), (['colored', 'person', 'new', 'york'], 'in'), (['person', 'in', 'york', 'believes'], 'new'), (['in', 'new', 'believes', 'he'], 'york'), (['new', 'york', 'he', 'has'], 'believes'), (['york', 'believes', 'has', 'nothing'], 'he'), (['believes', 'he', 'nothing', 'for'], 'has'), (['he', 'has', 'for', 'which'], 'nothing'), (['has', 'nothing', 'which', 'to'], 'for'), (['nothing', 'for', 'to', 'vote'], 'which'), (['for', 'which', 'vote', 'no'], 'to'), (['which', 'to', 'no', 'no'], 'vote'), (['to', 'vote', 'no', 'we'], 'no'), (['vote', 'no', 'we', 'are'], 'no'), (['no', 'no', 'are', 'not'], 'we'), (['no', 'we', 'not', 'satisfied'], 'are'), (['we', 'are', 'satisfied', 'and'], 'not'), (['are', 'not', 'and', 'we'], 'satisfied'), (['not', 'satisfied', 'we', 'will'], 'and'), (['satisfied', 'and', 'will', 'not'], 'we'), (['and', 'we', 'not', 'be'], 'will'), (['we', 'will', 'be', 'satisfied'], 'not'), (['will', 'not', 'satisfied', 'until'], 'be'), (['not', 'be', 'until', 'justice'], 'satisfied'), (['be', 'satisfied', 'justice', 'rolls'], 'until'), (['satisfied', 'until', 'rolls', 'down'], 'justice'), (['until', 'justice', 'down', 'like'], 'rolls'), (['justice', 'rolls', 'like', 'waters'], 'down'), (['rolls', 'down', 'waters', 'and'], 'like'), (['down', 'like', 'and', 'righteousness'], 'waters'), (['like', 'waters', 'righteousness', 'like'], 'and'), (['waters', 'and', 'like', 'a'], 'righteousness'), (['and', 'righteousness', 'a', 'mighty'], 'like'), (['righteousness', 'like', 'mighty', 'stream'], 'a'), (['like', 'a', 'stream', 'i'], 'mighty'), (['a', 'mighty', 'i', 'am'], 'stream'), (['mighty', 'stream', 'am', 'not'], 'i'), (['stream', 'i', 'not', 'unmindful'], 'am'), (['i', 'am', 'unmindful', 'that'], 'not'), (['am', 'not', 'that', 'some'], 'unmindful'), (['not', 'unmindful', 'some', 'of'], 'that'), (['unmindful', 'that', 'of', 'you'], 'some'), (['that', 'some', 'you', 'have'], 'of'), (['some', 'of', 'have', 'come'], 'you'), (['of', 'you', 'come', 'here'], 'have'), (['you', 'have', 'here', 'out'], 'come'), (['have', 'come', 'out', 'of'], 'here'), (['come', 'here', 'of', 'your'], 'out'), (['here', 'out', 'your', 'trials'], 'of'), (['out', 'of', 'trials', 'and'], 'your'), (['of', 'your', 'and', 'tribulations'], 'trials'), (['your', 'trials', 'tribulations', 'some'], 'and'), (['trials', 'and', 'some', 'of'], 'tribulations'), (['and', 'tribulations', 'of', 'you'], 'some'), (['tribulations', 'some', 'you', 'have'], 'of'), (['some', 'of', 'have', 'come'], 'you'), (['of', 'you', 'come', 'from'], 'have'), (['you', 'have', 'from', 'areas'], 'come'), (['have', 'come', 'areas', 'where'], 'from'), (['come', 'from', 'where', 'your'], 'areas'), (['from', 'areas', 'your', 'quest'], 'where'), (['areas', 'where', 'quest', 'for'], 'your'), (['where', 'your', 'for', 'freedom'], 'quest'), (['your', 'quest', 'freedom', 'left'], 'for'), (['quest', 'for', 'left', 'you'], 'freedom'), (['for', 'freedom', 'you', 'battered'], 'left'), (['freedom', 'left', 'battered', 'by'], 'you'), (['left', 'you', 'by', 'storms'], 'battered'), (['you', 'battered', 'storms', 'of'], 'by'), (['battered', 'by', 'of', 'persecutions'], 'storms'), (['by', 'storms', 'persecutions', 'and'], 'of'), (['storms', 'of', 'and', 'staggered'], 'persecutions'), (['of', 'persecutions', 'staggered', 'by'], 'and'), (['persecutions', 'and', 'by', 'the'], 'staggered'), (['and', 'staggered', 'the', 'winds'], 'by'), (['staggered', 'by', 'winds', 'of'], 'the'), (['by', 'the', 'of', 'police'], 'winds'), (['the', 'winds', 'police', 'brutality'], 'of'), (['winds', 'of', 'brutality', 'you'], 'police'), (['of', 'police', 'you', 'have'], 'brutality'), (['police', 'brutality', 'have', 'been'], 'you'), (['brutality', 'you', 'been', 'the'], 'have'), (['you', 'have', 'the', 'veterans'], 'been'), (['have', 'been', 'veterans', 'of'], 'the'), (['been', 'the', 'of', 'creative'], 'veterans'), (['the', 'veterans', 'creative', 'suffering'], 'of'), (['veterans', 'of', 'suffering', 'continue'], 'creative'), (['of', 'creative', 'continue', 'to'], 'suffering'), (['creative', 'suffering', 'to', 'work'], 'continue'), (['suffering', 'continue', 'work', 'with'], 'to'), (['continue', 'to', 'with', 'the'], 'work'), (['to', 'work', 'the', 'faith'], 'with'), (['work', 'with', 'faith', 'that'], 'the'), (['with', 'the', 'that', 'unearned'], 'faith'), (['the', 'faith', 'unearned', 'suffering'], 'that'), (['faith', 'that', 'suffering', 'is'], 'unearned'), (['that', 'unearned', 'is', 'redemptive'], 'suffering'), (['unearned', 'suffering', 'redemptive', 'go'], 'is'), (['suffering', 'is', 'go', 'back'], 'redemptive'), (['is', 'redemptive', 'back', 'to'], 'go'), (['redemptive', 'go', 'to', 'mississippi'], 'back'), (['go', 'back', 'mississippi', 'go'], 'to'), (['back', 'to', 'go', 'back'], 'mississippi'), (['to', 'mississippi', 'back', 'to'], 'go'), (['mississippi', 'go', 'to', 'alabama'], 'back'), (['go', 'back', 'alabama', 'go'], 'to'), (['back', 'to', 'go', 'back'], 'alabama'), (['to', 'alabama', 'back', 'to'], 'go'), (['alabama', 'go', 'to', 'south'], 'back'), (['go', 'back', 'south', 'carolina'], 'to'), (['back', 'to', 'carolina', 'go'], 'south'), (['to', 'south', 'go', 'back'], 'carolina'), (['south', 'carolina', 'back', 'to'], 'go'), (['carolina', 'go', 'to', 'georgia'], 'back'), (['go', 'back', 'georgia', 'go'], 'to'), (['back', 'to', 'go', 'back'], 'georgia'), (['to', 'georgia', 'back', 'to'], 'go'), (['georgia', 'go', 'to', 'louisiana'], 'back'), (['go', 'back', 'louisiana', 'go'], 'to'), (['back', 'to', 'go', 'back'], 'louisiana'), (['to', 'louisiana', 'back', 'to'], 'go'), (['louisiana', 'go', 'to', 'the'], 'back'), (['go', 'back', 'the', 'slums'], 'to'), (['back', 'to', 'slums', 'and'], 'the'), (['to', 'the', 'and', 'ghettos'], 'slums'), (['the', 'slums', 'ghettos', 'of'], 'and'), (['slums', 'and', 'of', 'our'], 'ghettos'), (['and', 'ghettos', 'our', 'modern'], 'of'), (['ghettos', 'of', 'modern', 'cities'], 'our'), (['of', 'our', 'cities', 'knowing'], 'modern'), (['our', 'modern', 'knowing', 'that'], 'cities'), (['modern', 'cities', 'that', 'somehow'], 'knowing'), (['cities', 'knowing', 'somehow', 'this'], 'that'), (['knowing', 'that', 'this', 'situation'], 'somehow'), (['that', 'somehow', 'situation', 'can'], 'this'), (['somehow', 'this', 'can', 'and'], 'situation'), (['this', 'situation', 'and', 'will'], 'can'), (['situation', 'can', 'will', 'be'], 'and'), (['can', 'and', 'be', 'changed'], 'will'), (['and', 'will', 'changed', 'let'], 'be'), (['will', 'be', 'let', 'us'], 'changed'), (['be', 'changed', 'us', 'not'], 'let'), (['changed', 'let', 'not', 'wallow'], 'us'), (['let', 'us', 'wallow', 'in'], 'not'), (['us', 'not', 'in', 'the'], 'wallow'), (['not', 'wallow', 'the', 'valley'], 'in'), (['wallow', 'in', 'valley', 'of'], 'the'), (['in', 'the', 'of', 'despair'], 'valley'), (['the', 'valley', 'despair', 'i'], 'of'), (['valley', 'of', 'i', 'say'], 'despair'), (['of', 'despair', 'say', 'to'], 'i'), (['despair', 'i', 'to', 'you'], 'say'), (['i', 'say', 'you', 'my'], 'to'), (['say', 'to', 'my', 'friends'], 'you'), (['to', 'you', 'friends', 'we'], 'my'), (['you', 'my', 'we', 'have'], 'friends'), (['my', 'friends', 'have', 'the'], 'we'), (['friends', 'we', 'the', 'difficulties'], 'have'), (['we', 'have', 'difficulties', 'of'], 'the'), (['have', 'the', 'of', 'today'], 'difficulties'), (['the', 'difficulties', 'today', 'and'], 'of'), (['difficulties', 'of', 'and', 'tomorrow'], 'today'), (['of', 'today', 'tomorrow', 'i'], 'and'), (['today', 'and', 'i', 'still'], 'tomorrow'), (['and', 'tomorrow', 'still', 'have'], 'i'), (['tomorrow', 'i', 'have', 'a'], 'still'), (['i', 'still', 'a', 'dream'], 'have'), (['still', 'have', 'dream', 'it'], 'a'), (['have', 'a', 'it', 'is'], 'dream'), (['a', 'dream', 'is', 'a'], 'it'), (['dream', 'it', 'a', 'dream'], 'is'), (['it', 'is', 'dream', 'deeply'], 'a'), (['is', 'a', 'deeply', 'rooted'], 'dream'), (['a', 'dream', 'rooted', 'in'], 'deeply'), (['dream', 'deeply', 'in', 'the'], 'rooted'), (['deeply', 'rooted', 'the', 'american'], 'in'), (['rooted', 'in', 'american', 'dream'], 'the'), (['in', 'the', 'dream', 'i'], 'american'), (['the', 'american', 'i', 'have'], 'dream'), (['american', 'dream', 'have', 'a'], 'i'), (['dream', 'i', 'a', 'dream'], 'have'), (['i', 'have', 'dream', 'that'], 'a'), (['have', 'a', 'that', 'one'], 'dream'), (['a', 'dream', 'one', 'day'], 'that'), (['dream', 'that', 'day', 'this'], 'one'), (['that', 'one', 'this', 'nation'], 'day'), (['one', 'day', 'nation', 'will'], 'this'), (['day', 'this', 'will', 'rise'], 'nation'), (['this', 'nation', 'rise', 'up'], 'will'), (['nation', 'will', 'up', 'and'], 'rise'), (['will', 'rise', 'and', 'live'], 'up'), (['rise', 'up', 'live', 'out'], 'and'), (['up', 'and', 'out', 'the'], 'live'), (['and', 'live', 'the', 'true'], 'out'), (['live', 'out', 'true', 'meaning'], 'the'), (['out', 'the', 'meaning', 'of'], 'true'), (['the', 'true', 'of', 'its'], 'meaning'), (['true', 'meaning', 'its', 'creed'], 'of'), (['meaning', 'of', 'creed', 'we'], 'its'), (['of', 'its', 'we', 'hold'], 'creed'), (['its', 'creed', 'hold', 'these'], 'we'), (['creed', 'we', 'these', 'truths'], 'hold'), (['we', 'hold', 'truths', 'to'], 'these'), (['hold', 'these', 'to', 'be'], 'truths'), (['these', 'truths', 'be', 'selfevident'], 'to'), (['truths', 'to', 'selfevident', 'that'], 'be'), (['to', 'be', 'that', 'all'], 'selfevident'), (['be', 'selfevident', 'all', 'men'], 'that'), (['selfevident', 'that', 'men', 'are'], 'all'), (['that', 'all', 'are', 'created'], 'men'), (['all', 'men', 'created', 'equal'], 'are'), (['men', 'are', 'equal', 'i'], 'created'), (['are', 'created', 'i', 'have'], 'equal'), (['created', 'equal', 'have', 'a'], 'i'), (['equal', 'i', 'a', 'dream'], 'have'), (['i', 'have', 'dream', 'that'], 'a'), (['have', 'a', 'that', 'one'], 'dream'), (['a', 'dream', 'one', 'day'], 'that'), (['dream', 'that', 'day', 'out'], 'one'), (['that', 'one', 'out', 'in'], 'day'), (['one', 'day', 'in', 'the'], 'out'), (['day', 'out', 'the', 'red'], 'in'), (['out', 'in', 'red', 'hills'], 'the'), (['in', 'the', 'hills', 'of'], 'red'), (['the', 'red', 'of', 'georgia'], 'hills'), (['red', 'hills', 'georgia', 'the'], 'of'), (['hills', 'of', 'the', 'sons'], 'georgia'), (['of', 'georgia', 'sons', 'of'], 'the'), (['georgia', 'the', 'of', 'former'], 'sons'), (['the', 'sons', 'former', 'slaves'], 'of'), (['sons', 'of', 'slaves', 'and'], 'former'), (['of', 'former', 'and', 'the'], 'slaves'), (['former', 'slaves', 'the', 'sons'], 'and'), (['slaves', 'and', 'sons', 'of'], 'the'), (['and', 'the', 'of', 'former'], 'sons'), (['the', 'sons', 'former', 'slaveowners'], 'of'), (['sons', 'of', 'slaveowners', 'will'], 'former'), (['of', 'former', 'will', 'be'], 'slaveowners'), (['former', 'slaveowners', 'be', 'able'], 'will'), (['slaveowners', 'will', 'able', 'to'], 'be'), (['will', 'be', 'to', 'sit'], 'able'), (['be', 'able', 'sit', 'down'], 'to'), (['able', 'to', 'down', 'together'], 'sit'), (['to', 'sit', 'together', 'at'], 'down'), (['sit', 'down', 'at', 'the'], 'together'), (['down', 'together', 'the', 'table'], 'at'), (['together', 'at', 'table', 'of'], 'the'), (['at', 'the', 'of', 'brotherhood'], 'table'), (['the', 'table', 'brotherhood', 'i'], 'of'), (['table', 'of', 'i', 'have'], 'brotherhood'), (['of', 'brotherhood', 'have', 'a'], 'i'), (['brotherhood', 'i', 'a', 'dream'], 'have'), (['i', 'have', 'dream', 'that'], 'a'), (['have', 'a', 'that', 'one'], 'dream'), (['a', 'dream', 'one', 'day'], 'that'), (['dream', 'that', 'day', 'even'], 'one'), (['that', 'one', 'even', 'the'], 'day'), (['one', 'day', 'the', 'state'], 'even'), (['day', 'even', 'state', 'of'], 'the'), (['even', 'the', 'of', 'mississippi'], 'state'), (['the', 'state', 'mississippi', 'a'], 'of'), (['state', 'of', 'a', 'state'], 'mississippi'), (['of', 'mississippi', 'state', 'sweltering'], 'a'), (['mississippi', 'a', 'sweltering', 'with'], 'state'), (['a', 'state', 'with', 'the'], 'sweltering'), (['state', 'sweltering', 'the', 'heat'], 'with'), (['sweltering', 'with', 'heat', 'of'], 'the'), (['with', 'the', 'of', 'oppression'], 'heat'), (['the', 'heat', 'oppression', 'will'], 'of'), (['heat', 'of', 'will', 'be'], 'oppression'), (['of', 'oppression', 'be', 'transformed'], 'will'), (['oppression', 'will', 'transformed', 'into'], 'be'), (['will', 'be', 'into', 'an'], 'transformed'), (['be', 'transformed', 'an', 'oasis'], 'into'), (['transformed', 'into', 'oasis', 'of'], 'an'), (['into', 'an', 'of', 'freedom'], 'oasis'), (['an', 'oasis', 'freedom', 'and'], 'of'), (['oasis', 'of', 'and', 'justice'], 'freedom'), (['of', 'freedom', 'justice', 'i'], 'and'), (['freedom', 'and', 'i', 'have'], 'justice'), (['and', 'justice', 'have', 'a'], 'i'), (['justice', 'i', 'a', 'dream'], 'have'), (['i', 'have', 'dream', 'that'], 'a'), (['have', 'a', 'that', 'my'], 'dream'), (['a', 'dream', 'my', 'four'], 'that'), (['dream', 'that', 'four', 'little'], 'my'), (['that', 'my', 'little', 'children'], 'four'), (['my', 'four', 'children', 'will'], 'little'), (['four', 'little', 'will', 'one'], 'children'), (['little', 'children', 'one', 'day'], 'will'), (['children', 'will', 'day', 'live'], 'one'), (['will', 'one', 'live', 'in'], 'day'), (['one', 'day', 'in', 'a'], 'live'), (['day', 'live', 'a', 'nation'], 'in'), (['live', 'in', 'nation', 'where'], 'a'), (['in', 'a', 'where', 'they'], 'nation'), (['a', 'nation', 'they', 'will'], 'where'), (['nation', 'where', 'will', 'not'], 'they'), (['where', 'they', 'not', 'be'], 'will'), (['they', 'will', 'be', 'judged'], 'not'), (['will', 'not', 'judged', 'by'], 'be'), (['not', 'be', 'by', 'the'], 'judged'), (['be', 'judged', 'the', 'color'], 'by'), (['judged', 'by', 'color', 'of'], 'the'), (['by', 'the', 'of', 'their'], 'color'), (['the', 'color', 'their', 'skin'], 'of'), (['color', 'of', 'skin', 'but'], 'their'), (['of', 'their', 'but', 'by'], 'skin'), (['their', 'skin', 'by', 'their'], 'but'), (['skin', 'but', 'their', 'character'], 'by'), (['but', 'by', 'character', 'i'], 'their'), (['by', 'their', 'i', 'have'], 'character'), (['their', 'character', 'have', 'a'], 'i'), (['character', 'i', 'a', 'dream'], 'have'), (['i', 'have', 'dream', 'today'], 'a')]\n"
     ]
    }
   ],
   "source": [
    "print(data)"
   ]
  },
  {
   "cell_type": "code",
   "execution_count": 11,
   "id": "golden-tokyo",
   "metadata": {},
   "outputs": [],
   "source": [
    "def words_to_tensor(words: list, w2i: dict, dtype = torch.FloatTensor):\n",
    "    tensor =  dtype([w2i[word] for word in words])\n",
    "    tensor = tensor.to(device)\n",
    "    return Variable(tensor)"
   ]
  },
  {
   "cell_type": "markdown",
   "id": "destroyed-excuse",
   "metadata": {},
   "source": [
    "### Step 2. Create a CBoW model and train"
   ]
  },
  {
   "cell_type": "code",
   "execution_count": 12,
   "id": "higher-kentucky",
   "metadata": {},
   "outputs": [],
   "source": [
    "class CBOW(nn.Module):\n",
    "\n",
    "    def __init__(self, context_size, embedding_size, vocab_size):\n",
    "        super(CBOW, self).__init__()\n",
    "        self.embeddings = nn.Embedding(vocab_size, embedding_size)\n",
    "        self.linear = nn.Linear(embedding_size, vocab_size)\n",
    "\n",
    "    def forward(self, inputs):\n",
    "        lookup_embeds = self.embeddings(inputs)\n",
    "        embeds = lookup_embeds.sum(dim = 0)\n",
    "        out = self.linear(embeds)\n",
    "        #out = F.log_softmax(out, dim = -1)\n",
    "        return out"
   ]
  },
  {
   "cell_type": "code",
   "execution_count": 13,
   "id": "civilian-tongue",
   "metadata": {},
   "outputs": [
    {
     "data": {
      "text/plain": [
       "CBOW(\n",
       "  (embeddings): Embedding(236, 20)\n",
       "  (linear): Linear(in_features=20, out_features=236, bias=True)\n",
       ")"
      ]
     },
     "execution_count": 13,
     "metadata": {},
     "output_type": "execute_result"
    }
   ],
   "source": [
    "# Create model and pass to CUDA\n",
    "model = CBOW(context_size = 2, embedding_size = 20, vocab_size = len(vocab))\n",
    "model = model.to(device)\n",
    "model.train()"
   ]
  },
  {
   "cell_type": "code",
   "execution_count": 14,
   "id": "swiss-directive",
   "metadata": {},
   "outputs": [],
   "source": [
    "# Define training parameters\n",
    "learning_rate = 0.001\n",
    "epochs = 500\n",
    "torch.manual_seed(28)\n",
    "loss_func = nn.CrossEntropyLoss()\n",
    "optimizer = optim.SGD(model.parameters(), lr=learning_rate)"
   ]
  },
  {
   "cell_type": "code",
   "execution_count": 15,
   "id": "behavioral-smell",
   "metadata": {},
   "outputs": [],
   "source": [
    "def get_prediction(context, model, word2index, index2word):\n",
    "    \n",
    "    # Get into eval() mode\n",
    "    model.eval()\n",
    "    ids = words_to_tensor(context, word2index, dtype = torch.LongTensor)\n",
    "    \n",
    "    # Forward pass\n",
    "    prediction = model(ids)\n",
    "    # Reshape to cover for absence of minibatches (needed for loss function)\n",
    "    prediction = torch.reshape(prediction, (1, 236))\n",
    "    _, index = torch.max(prediction, 1)\n",
    "    \n",
    "    return index2word[index.item()]"
   ]
  },
  {
   "cell_type": "code",
   "execution_count": 16,
   "id": "functional-session",
   "metadata": {},
   "outputs": [],
   "source": [
    "def check_accuracy(model, data, word2index, index2word):\n",
    "    \n",
    "    # Compute accuracy\n",
    "    correct = 0\n",
    "    for context, target in data:\n",
    "        prediction = get_prediction(context, model, word2index, index2word)\n",
    "        if prediction == target:\n",
    "            correct += 1\n",
    "            \n",
    "    return correct/len(data)"
   ]
  },
  {
   "cell_type": "code",
   "execution_count": 17,
   "id": "periodic-native",
   "metadata": {},
   "outputs": [
    {
     "name": "stdout",
     "output_type": "stream",
     "text": [
      "Accuracy after epoch 0 is 0.0037735849056603774\n",
      "Accuracy after epoch 10 is 0.16792452830188678\n",
      "Accuracy after epoch 20 is 0.24150943396226415\n",
      "Accuracy after epoch 30 is 0.3018867924528302\n",
      "Accuracy after epoch 40 is 0.3339622641509434\n",
      "Accuracy after epoch 50 is 0.3641509433962264\n",
      "Accuracy after epoch 60 is 0.4056603773584906\n",
      "Accuracy after epoch 70 is 0.469811320754717\n",
      "Accuracy after epoch 80 is 0.5\n",
      "Accuracy after epoch 90 is 0.5452830188679245\n",
      "Accuracy after epoch 100 is 0.5849056603773585\n",
      "Accuracy after epoch 110 is 0.6339622641509434\n",
      "Accuracy after epoch 120 is 0.6698113207547169\n",
      "Accuracy after epoch 130 is 0.6981132075471698\n",
      "Accuracy after epoch 140 is 0.7320754716981132\n",
      "Accuracy after epoch 150 is 0.7471698113207547\n",
      "Accuracy after epoch 160 is 0.7679245283018868\n",
      "Accuracy after epoch 170 is 0.7943396226415095\n",
      "Accuracy after epoch 180 is 0.8132075471698114\n",
      "Accuracy after epoch 190 is 0.8207547169811321\n",
      "Accuracy after epoch 200 is 0.8283018867924529\n",
      "Accuracy after epoch 210 is 0.8490566037735849\n",
      "Accuracy after epoch 220 is 0.8622641509433963\n",
      "Accuracy after epoch 230 is 0.8716981132075472\n",
      "Accuracy after epoch 240 is 0.8773584905660378\n",
      "Accuracy after epoch 250 is 0.8867924528301887\n",
      "Accuracy after epoch 260 is 0.8943396226415095\n",
      "Accuracy after epoch 270 is 0.8981132075471698\n",
      "Accuracy after epoch 280 is 0.9075471698113208\n",
      "Accuracy after epoch 290 is 0.9113207547169812\n",
      "Accuracy after epoch 300 is 0.9207547169811321\n",
      "Accuracy after epoch 310 is 0.9264150943396227\n",
      "Accuracy after epoch 320 is 0.9339622641509434\n",
      "Accuracy after epoch 330 is 0.9339622641509434\n",
      "Accuracy after epoch 340 is 0.9377358490566038\n",
      "Accuracy after epoch 350 is 0.9415094339622642\n",
      "Accuracy after epoch 360 is 0.9509433962264151\n",
      "Accuracy after epoch 370 is 0.9528301886792453\n",
      "Accuracy after epoch 380 is 0.9566037735849057\n",
      "Accuracy after epoch 390 is 0.9641509433962264\n",
      "Accuracy after epoch 400 is 0.9660377358490566\n",
      "Accuracy after epoch 410 is 0.9660377358490566\n",
      "Accuracy after epoch 420 is 0.969811320754717\n",
      "Accuracy after epoch 430 is 0.9716981132075472\n",
      "Accuracy after epoch 440 is 0.9716981132075472\n",
      "Accuracy after epoch 450 is 0.9735849056603774\n",
      "Accuracy after epoch 460 is 0.9735849056603774\n",
      "Accuracy after epoch 470 is 0.9735849056603774\n",
      "Accuracy after epoch 480 is 0.9735849056603774\n",
      "Accuracy after epoch 490 is 0.9735849056603774\n"
     ]
    }
   ],
   "source": [
    "losses = []\n",
    "accuracies = []\n",
    "\n",
    "for epoch in range(epochs):\n",
    "    total_loss = 0\n",
    "    \n",
    "    for context, target in data:\n",
    "        \n",
    "        # Prepare data\n",
    "        ids = words_to_tensor(context, word2index, dtype = torch.LongTensor)\n",
    "        target = words_to_tensor([target], word2index, dtype = torch.LongTensor)\n",
    "        \n",
    "        # Forward pass\n",
    "        model.zero_grad()\n",
    "        output = model(ids)\n",
    "        # Reshape to cover for absence of minibatches (needed for loss function)\n",
    "        output = torch.reshape(output, (1, 236))\n",
    "        loss = loss_func(output, target)\n",
    "        \n",
    "        # Backward pass and optim\n",
    "        loss.backward()\n",
    "        optimizer.step()\n",
    "        \n",
    "        # Loss update\n",
    "        total_loss += loss.data.item()\n",
    "    \n",
    "    # Display\n",
    "    if epoch % 10 == 0:\n",
    "        accuracy = check_accuracy(model, data, word2index, index2word)\n",
    "        print(\"Accuracy after epoch {} is {}\".format(epoch, accuracy))\n",
    "        accuracies.append(accuracy)\n",
    "        losses.append(total_loss)"
   ]
  },
  {
   "cell_type": "markdown",
   "id": "geological-statistics",
   "metadata": {},
   "source": [
    "### 3. Visualization"
   ]
  },
  {
   "cell_type": "code",
   "execution_count": 18,
   "id": "gross-affect",
   "metadata": {},
   "outputs": [
    {
     "data": {
      "image/png": "[encoded data removed]",
      "text/plain": [
       "<Figure size 432x288 with 1 Axes>"
      ]
     },
     "metadata": {
      "needs_background": "light"
     },
     "output_type": "display_data"
    }
   ],
   "source": [
    "# Display losses over time\n",
    "plt.figure()\n",
    "plt.plot(losses)\n",
    "plt.show()"
   ]
  },
  {
   "cell_type": "code",
   "execution_count": 19,
   "id": "embedded-judge",
   "metadata": {},
   "outputs": [
    {
     "data": {
      "image/png": "[encoded data removed]",
      "text/plain": [
       "<Figure size 432x288 with 1 Axes>"
      ]
     },
     "metadata": {
      "needs_background": "light"
     },
     "output_type": "display_data"
    }
   ],
   "source": [
    "# Display accuracy over time\n",
    "plt.figure()\n",
    "plt.plot(accuracies)\n",
    "plt.show()"
   ]
  },
  {
   "cell_type": "code",
   "execution_count": 21,
   "id": "promising-millennium",
   "metadata": {},
   "outputs": [
    {
     "name": "stdout",
     "output_type": "stream",
     "text": [
      "tensor([-1.6450,  0.8511, -0.3467,  0.8812,  0.9119,  0.6175, -0.5443, -0.8703,\n",
      "        -0.8517, -0.6817, -2.2370, -0.1208, -0.6038,  0.2638, -0.8582, -1.5242,\n",
      "         0.5613,  1.8142, -1.6308, -1.0429], device='cuda:0',\n",
      "       grad_fn=<ViewBackward>)\n",
      "tensor([-0.3242, -2.1802,  1.5109,  0.4658, -0.9882, -1.4752,  0.3500,  0.0118,\n",
      "         0.2830,  0.4404, -0.4376,  0.4814, -0.3231, -0.0064, -0.5311, -0.3680,\n",
      "         0.4956, -0.3300,  4.0978, -0.1567], device='cuda:0',\n",
      "       grad_fn=<ViewBackward>)\n",
      "tensor([-1.5293, -2.2764, -1.0427, -1.5378,  1.8322,  0.2097, -1.1337, -0.0944,\n",
      "        -1.3564,  1.1539,  0.5919, -2.1171,  0.2877,  0.0955, -0.2998, -1.1962,\n",
      "         0.6276,  0.1575, -1.9254,  0.6729], device='cuda:0',\n",
      "       grad_fn=<ViewBackward>)\n"
     ]
    }
   ],
   "source": [
    "word1 = words_to_tensor([\"americans\"], word2index, dtype = torch.LongTensor)\n",
    "word2 = words_to_tensor([\"citizens\"], word2index, dtype = torch.LongTensor)\n",
    "word3 = words_to_tensor([\"carolina\"], word2index, dtype = torch.LongTensor)\n",
    "w1 = torch.reshape(model.embeddings(word1), (20,))\n",
    "w2 = torch.reshape(model.embeddings(word2), (20,))\n",
    "w3 = torch.reshape(model.embeddings(word3), (20,))\n",
    "print(w1)\n",
    "print(w2)\n",
    "print(w3)"
   ]
  },
  {
   "cell_type": "code",
   "execution_count": null,
   "id": "seventh-scout",
   "metadata": {},
   "outputs": [],
   "source": []
  }
 ],
 "metadata": {
  "kernelspec": {
   "display_name": "Python 3 (ipykernel)",
   "language": "python",
   "name": "python3"
  },
  "language_info": {
   "codemirror_mode": {
    "name": "ipython",
    "version": 3
   },
   "file_extension": ".py",
   "mimetype": "text/x-python",
   "name": "python",
   "nbconvert_exporter": "python",
   "pygments_lexer": "ipython3",
   "version": "3.10.5"
  }
 },
 "nbformat": 4,
 "nbformat_minor": 5
}
