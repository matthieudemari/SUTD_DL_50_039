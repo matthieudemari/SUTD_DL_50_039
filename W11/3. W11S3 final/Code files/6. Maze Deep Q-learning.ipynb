{
 "cells": [
  {
   "cell_type": "markdown",
   "id": "671ac3d9",
   "metadata": {},
   "source": [
    "# 6. Maze Deep Q-learning.ipynb\n",
    "\n",
    "### About this notebook\n",
    "\n",
    "This notebook was used in the 50.039 Deep Learning course at the Singapore University of Technology and Design.\n",
    "\n",
    "**Author:** Matthieu DE MARI (matthieu_demari@sutd.edu.sg)\n",
    "\n",
    "**Version:** 1.0 (04/02/2025)\n",
    "\n",
    "**Requirements:**\n",
    "- Python 3 (tested on v3.13.1)\n",
    "- Matplotlib (tested on v3.10.0)\n",
    "- Numpy (tested on v2.2.1)\n",
    "- Torch (tested on v2.7.0+cu124)\n",
    "- collections, enum (Standard libraries for Python)"
   ]
  },
  {
   "cell_type": "code",
   "execution_count": 1,
   "id": "4e4f22e8",
   "metadata": {},
   "outputs": [],
   "source": [
    "import matplotlib.pyplot as plt\n",
    "import numpy as np\n",
    "import random\n",
    "import torch\n",
    "import torch.nn as nn\n",
    "import torch.optim as optim\n",
    "from maze import *"
   ]
  },
  {
   "cell_type": "code",
   "execution_count": 2,
   "id": "015e468f-b38c-4231-98ae-cfd7b1bf1489",
   "metadata": {},
   "outputs": [],
   "source": [
    "# Seeding for reproducibility\n",
    "torch.manual_seed(37)\n",
    "np.random.seed(21)\n",
    "random.seed(12)"
   ]
  },
  {
   "cell_type": "markdown",
   "id": "ff99d689",
   "metadata": {},
   "source": [
    "### Creating the Maze environment\n",
    "\n",
    "As in Notebook 4, we will reuse our Maze class and create a Maze environment with a given layout."
   ]
  },
  {
   "cell_type": "code",
   "execution_count": 3,
   "id": "484d0d90",
   "metadata": {},
   "outputs": [
    {
     "data": {
      "image/png": "[encoded data removed]",
      "text/plain": [
       "<Figure size 600x600 with 1 Axes>"
      ]
     },
     "metadata": {},
     "output_type": "display_data"
    }
   ],
   "source": [
    "# Define a simple maze layout\n",
    "# 0 = free, 1 = wall\n",
    "maze_layout = np.array([[0, 1, 0, 0],\n",
    "                        [0, 0, 1, 0],\n",
    "                        [1, 0, 0, 0],\n",
    "                        [0, 1, 1, 0]])\n",
    "\n",
    "# Initialize the Maze environment\n",
    "maze = Maze(maze = maze_layout, start_cell = (0, 0), exit_cell = (3, 3))\n",
    "\n",
    "# Reset the maze\n",
    "initial_state = maze.reset(start_cell = (0, 0))\n",
    "\n",
    "# Display the maze\n",
    "maze.draw_full_maze()"
   ]
  },
  {
   "cell_type": "markdown",
   "id": "2dc3ff17",
   "metadata": {},
   "source": [
    "### Define the Deep-Q-Learning agent\n",
    "\n",
    "Next, we will define our Q-Network, which will serve as the function approximator for Q-values in our Reinforcement Learning (RL) agent. This neural network will be used to estimate the expected rewards for different actions in a given state. The QNetwork class has the typical attributes, init and forward methods you expect from a Neural Network.\n",
    "\n",
    "The QNetwork is used by the agent to predict the best action in any given state. Instead of maintaining a traditional Q-table, this network generalizes learning across different states using deep learning.\n",
    "\n",
    "This neural network is critical for deep Q-learning, as it enables the agent to navigate the maze effectively. Next, we will integrate this network into our Deep Q-Learning agent, where it will be trained using Reinforcement Learning principles."
   ]
  },
  {
   "cell_type": "code",
   "execution_count": 4,
   "id": "8716ec71-2a0b-4874-b121-50ac96e1e6fe",
   "metadata": {},
   "outputs": [],
   "source": [
    "# Neural network for approximating Q-values\n",
    "class QNetwork(nn.Module):\n",
    "    \"\"\"\n",
    "    Out Q-Neural Network for predictions\n",
    "    \"\"\"\n",
    "    def __init__(self, input_size, hidden_size, output_size):\n",
    "        super(QNetwork, self).__init__()\n",
    "        self.fc1 = nn.Linear(input_size, hidden_size)\n",
    "        self.fc2 = nn.Linear(hidden_size, hidden_size)\n",
    "        self.fc3 = nn.Linear(hidden_size, output_size)\n",
    "        self.activation = nn.ReLU()\n",
    "\n",
    "    def forward(self, x):\n",
    "        x = self.activation(self.fc1(x))\n",
    "        x = self.activation(self.fc2(x))\n",
    "        x = self.fc3(x)\n",
    "        return x"
   ]
  },
  {
   "cell_type": "markdown",
   "id": "0dfb4b86-1961-4498-9fc6-6c49e1dac91d",
   "metadata": {},
   "source": [
    "Next, we define our Deep Q-Learning agent, which interacts with the environment and learns an optimal policy using a neural network. Our DQLAgent class represents an AI agent that:\n",
    "- Explores and exploits the environment.\n",
    "- Uses a deep neural network (Q-Network) to approximate Q-values.\n",
    "- Trains using Deep Q-Learning (DQL) to learn the optimal Q-values and use them to find the optimal moves.\n",
    "- Improves over time by balancing exploration and exploitation, with exploration rate decay.\n",
    "\n",
    "Our agent class has the following attributes:\n",
    "- environment: The Maze environment the agent interacts with.\n",
    "- q_network: The neural network that approximates Q-values, which we defined earlier\n",
    "- optimizer: A simple Adam optimizer, used to update the neural network.\n",
    "- criterion: Our loss function (MSELoss) to compute prediction errors.\n",
    "\n",
    "Our agent has the following methods\n",
    "- init(self, maze, learning_rate, hidden_size): Initializes the agent with a given learning_rate, the hidden size to be userd in the Q-network that predicts Q-values for state-action pairs.\n",
    "- q(self, state): Returns the Q-values for all possible actions in a given state. Uses the trained Q-network without modifying it.\n",
    "- predict(self, state): Uses the Q-network to predict the best action (highest Q-value) in a given state.\n",
    "- train(self, discount, exploration_rate, exploration_decay, episodes, stop_at_convergence): The core training function for Deep Q-Learning. The agent plays the game multiple times (for a given number of episodes), learning optimal moves over time.\n",
    "\n",
    "In the last method, the training process consists of looping through multiple episodes, and on each episode, the game unfolds by following these steps:\n",
    "- First, we start from a random valid position in the maze (not necessarily the start)\n",
    "- In each state, we select actions using ε-greedy strategy. If an exploration move is selected, use a random action. If an exploitation move is selected, use the predict method to choose the best move to use given our current understanding of the game.\n",
    "- After a move is taken in a given state, we update Q-values using Bellman’s equation.\n",
    "- We then train the neural network using gradient descent to match the new Q-values.\n",
    "\n",
    "While looping through multiple episodes, we will track cumulative rewards, track our win rate over time, and perform a decay exploration to shift from exploring to exploiting. If the agent successfully reaches the goal from all states, training stops early.\n",
    "\n",
    "Using this RL framework, our Q-learning model will eventually learn the true action-value function (Q(s, a)) that estimates future rewards and use that to decide on the optimal action to use in any state."
   ]
  },
  {
   "cell_type": "code",
   "execution_count": 5,
   "id": "78429fb4-97c9-414a-9381-673ad042b513",
   "metadata": {},
   "outputs": [],
   "source": [
    "class DQLAgent:\n",
    "    \"\"\"\n",
    "    Deep Q-Learning agent using a neural network.\n",
    "    \"\"\"\n",
    "    def __init__(self, maze, learning_rate = 0.01, hidden_size = 64):\n",
    "        self.environment = maze\n",
    "        self.name = \"DQLModel\"\n",
    "        # State is represented by current position (x, y)\n",
    "        input_size = 2\n",
    "        # Neural network solves a classification problem, returning Q-value of each action based on state\n",
    "        output_size = len(self.environment.actions)\n",
    "        # Create neural network\n",
    "        self.q_network = QNetwork(input_size, hidden_size, output_size)\n",
    "        # Basic Adam optimizer and MSE as loss\n",
    "        self.optimizer = optim.Adam(self.q_network.parameters(), lr = learning_rate)\n",
    "        self.criterion = nn.MSELoss()\n",
    "\n",
    "    def q(self, state):\n",
    "        \"\"\"\n",
    "        Get Q-values for all actions for a certain state.\n",
    "        \"\"\"\n",
    "        state = torch.tensor(state.flatten(), dtype = torch.float32)\n",
    "        with torch.no_grad():\n",
    "            return self.q_network(state).numpy()\n",
    "\n",
    "    def predict(self, state):\n",
    "        \"\"\"\n",
    "        Policy: choose the action with the highest Q-value.\n",
    "        \"\"\"\n",
    "        state = torch.tensor(state.flatten(), dtype = torch.float32)\n",
    "        with torch.no_grad():\n",
    "            q_values = self.q_network(state)\n",
    "            return torch.argmax(q_values).item()\n",
    "    \n",
    "    def train(self, discount = 0.90, exploration_rate = 1, exploration_decay = 0.995, episodes = 200, stop_at_convergence = True):\n",
    "        \"\"\"\n",
    "        Train the model using Deep Q-Learning.\n",
    "        \"\"\"\n",
    "        # Parameters for tracking training\n",
    "        check_convergence_every = 5\n",
    "        cumulative_reward = 0\n",
    "        cumulative_reward_history = []\n",
    "        win_history = []\n",
    "        start_list = list()\n",
    "        # Play the game for the specified number of times\n",
    "        for episode in range(1, episodes + 1):\n",
    "            # Start from a randomly decided cell\n",
    "            if not start_list:\n",
    "                start_list = self.environment.empty.copy()\n",
    "            start_cell = random.choice(start_list)\n",
    "            start_list.remove(start_cell)\n",
    "            state = self.environment.reset(start_cell)\n",
    "            state = torch.tensor(state.flatten(), dtype = torch.float32)\n",
    "            # Display\n",
    "            if episode % 100 == 1 or episode == episodes:\n",
    "                print(f\"Episode: {episode} - Exploration rate: {exploration_rate}\")\n",
    "\n",
    "            while True:\n",
    "                # Epsilon-greedy action selection\n",
    "                if np.random.random() < exploration_rate:\n",
    "                    # Exploration move, randomly deciding\n",
    "                    action = random.choice(self.environment.actions)\n",
    "                else:\n",
    "                    # Exploitation move, using the Neural Network to decide on the best move\n",
    "                    with torch.no_grad():\n",
    "                        q_values = self.q_network(state)\n",
    "                        action = torch.argmax(q_values).item()\n",
    "\n",
    "                # Take action and observe the result, update reward\n",
    "                next_state, reward, status = self.environment.step(action)\n",
    "                next_state = torch.tensor(next_state.flatten(), dtype = torch.float32)\n",
    "                cumulative_reward += reward\n",
    "\n",
    "                # Compute target Q-value\n",
    "                with torch.no_grad():\n",
    "                    max_next_q = torch.max(self.q_network(next_state)).item()\n",
    "                    target = reward + discount*max_next_q if status == Status.PLAYING else reward\n",
    "\n",
    "                # Update Q-value using the loss\n",
    "                q_values = self.q_network(state)\n",
    "                target_q_values = q_values.clone()\n",
    "                target_q_values[action] = target\n",
    "                loss = self.criterion(q_values, target_q_values)\n",
    "\n",
    "                # Backpropagation\n",
    "                self.optimizer.zero_grad()\n",
    "                loss.backward()\n",
    "                self.optimizer.step()\n",
    "\n",
    "                # Stop playing current episode if game has ended\n",
    "                if status in (Status.WIN, Status.LOSE):\n",
    "                    break\n",
    "                else:\n",
    "                    state = next_state\n",
    "\n",
    "            # Record cumulative rewards\n",
    "            cumulative_reward_history.append(cumulative_reward)\n",
    "\n",
    "            # Check convergence and stop early if agent has learnt everything already\n",
    "            if episode % check_convergence_every == 0:\n",
    "                w_all, win_rate = self.environment.check_win_all(self)\n",
    "                win_history.append((episode, win_rate))\n",
    "                if w_all is True and stop_at_convergence is True:\n",
    "                    print(\"Won from all start cells. Stopped learning\")\n",
    "                    break\n",
    "\n",
    "            # Decay exploration rate for exploration-exploitation trade-off\n",
    "            exploration_rate *= exploration_decay\n",
    "\n",
    "        # Upon ending return all infos\n",
    "        return cumulative_reward_history, win_history"
   ]
  },
  {
   "cell_type": "markdown",
   "id": "125891aa-ca5c-46a9-a483-178ae22e2551",
   "metadata": {},
   "source": [
    "### Training the agent\n",
    "\n",
    "Below, we will use the code above to create a Deep Q-learning agent and train it by playing the game repeatedly. We will seed the code to ensure reproducibility."
   ]
  },
  {
   "cell_type": "code",
   "execution_count": 6,
   "id": "047825e4-096a-4f18-bd6d-0682e54ed168",
   "metadata": {},
   "outputs": [],
   "source": [
    "# Create agent model\n",
    "model = DQLAgent(maze, learning_rate = 0.01, hidden_size = 64)"
   ]
  },
  {
   "cell_type": "markdown",
   "id": "9c7d0b4e-168a-45aa-8365-c90bd4fb5e81",
   "metadata": {},
   "source": [
    "We then use our train() method to run 2,000 training episodes, where the agent plays the game repeatedly to eventually learn the best strategy.\n",
    "A friendly reminder on the inputs of this train() method and their meaning, below:\n",
    "- discount = 0.95: The discount factor (γ), controlling how much future rewards influence current decisions. A higher value (closer to 1) makes the agent focus more on long-term rewards.\n",
    "- exploration_rate = 1.0: The initial probability of taking random actions instead of choosing the best-known action. Here, 1.0 means full exploration at the start.\n",
    "- exploration_decay = 0.995: The rate at which exploration decreases over time. This ensures that the agent starts by exploring but gradually shifts to exploitation (following learned policies). You can see the evolution of the exploration rate, progressively shifting from 1 to 0 over the different episodes.\n",
    "- episodes = 2000: The number of games (episodes) the agent will play to learn an optimal policy.\n",
    "- stop_at_convergence = True: If the agent consistently wins from all possible states, training stops early to save computation time."
   ]
  },
  {
   "cell_type": "code",
   "execution_count": 7,
   "id": "f6f57a87-f258-4d1d-a963-ae6da0a3f558",
   "metadata": {},
   "outputs": [
    {
     "name": "stdout",
     "output_type": "stream",
     "text": [
      "Episode: 1 - Exploration rate: 1.0\n",
      "Episode: 101 - Exploration rate: 0.6057704364907278\n",
      "Episode: 201 - Exploration rate: 0.3669578217261671\n",
      "Episode: 301 - Exploration rate: 0.22229219984074702\n",
      "Episode: 401 - Exploration rate: 0.1346580429260134\n",
      "Episode: 501 - Exploration rate: 0.08157186144027828\n",
      "Episode: 601 - Exploration rate: 0.0494138221100385\n",
      "Episode: 701 - Exploration rate: 0.029933432588273214\n",
      "Episode: 801 - Exploration rate: 0.018132788524664028\n",
      "Episode: 901 - Exploration rate: 0.01098430721937979\n",
      "Episode: 1001 - Exploration rate: 0.006653968578831948\n",
      "Episode: 1101 - Exploration rate: 0.004030777450394616\n",
      "Episode: 1201 - Exploration rate: 0.002441725815522529\n",
      "Episode: 1301 - Exploration rate: 0.0014791253130597608\n",
      "Episode: 1401 - Exploration rate: 0.0008960103865166974\n",
      "Episode: 1501 - Exploration rate: 0.0005427766029404454\n",
      "Episode: 1601 - Exploration rate: 0.0003287980196801882\n",
      "Episode: 1701 - Exploration rate: 0.0001991761198989547\n",
      "Episode: 1801 - Exploration rate: 0.0001206550050897193\n",
      "Episode: 1901 - Exploration rate: 7.308923509799025e-05\n",
      "Episode: 2000 - Exploration rate: 4.449778678199297e-05\n"
     ]
    }
   ],
   "source": [
    "# Train agent\n",
    "h, w = model.train(discount = 0.95, exploration_rate = 1.0, exploration_decay = 0.995, episodes = 2000, stop_at_convergence = True)"
   ]
  },
  {
   "cell_type": "markdown",
   "id": "132a9395-2965-4154-aa2d-f46cbf3a37d0",
   "metadata": {},
   "source": [
    "As shown in the curves below, the agent improves significantly over time, reaching a high win rate. The cumulative reward also increases steadily, indicating efficient pathfinding behavior. There are still some fluctuations in win rate, which suggest that the agent is still learning a few things about the game and has not yet achieved a perfect understanding of the game, but overall, it seems to be improving."
   ]
  },
  {
   "cell_type": "code",
   "execution_count": 8,
   "id": "223a105f-e5f1-4567-95ad-692b25de113b",
   "metadata": {},
   "outputs": [
    {
     "data": {
      "image/png": "[encoded data removed]",
      "text/plain": [
       "<Figure size 640x480 with 2 Axes>"
      ]
     },
     "metadata": {},
     "output_type": "display_data"
    }
   ],
   "source": [
    "# Display training curves\n",
    "fig, (ax1, ax2) = plt.subplots(2, 1, tight_layout = True)\n",
    "ax1.plot(*zip(*w))\n",
    "ax1.set_xlabel(\"Episode\")\n",
    "ax1.set_ylabel(\"Win Rate\")\n",
    "ax2.plot(h)\n",
    "ax2.set_xlabel(\"Episode\")\n",
    "ax2.set_ylabel(\"Cumulative Reward\")\n",
    "plt.show()"
   ]
  },
  {
   "cell_type": "markdown",
   "id": "689cb1f2-1ac1-4494-a2d4-798f31340e9f",
   "metadata": {},
   "source": [
    "### Testing the agent predictions capabilities\n",
    "\n",
    "Below, we test our agent by checking which actions it produces in several cells of the maze. Since our predictions match expectations, it means the agent has learned the correct optimal path for our maze (at least for these cells!)."
   ]
  },
  {
   "cell_type": "code",
   "execution_count": 9,
   "id": "5063bb51-0ab0-44dc-be08-d5a7f87cdbe7",
   "metadata": {},
   "outputs": [
    {
     "name": "stdout",
     "output_type": "stream",
     "text": [
      "3\n",
      "1\n",
      "3\n"
     ]
    }
   ],
   "source": [
    "# Test predictions\n",
    "# Expected: Best move for cell (0, 0) is down, which is index 3\n",
    "pos1 = np.array((0, 0))\n",
    "print(model.predict(pos1))\n",
    "# Expected: Best move for cell (1, 2) is right, which is index 1\n",
    "pos2 = np.array((1, 2))\n",
    "print(model.predict(pos2))\n",
    "# Expected: Best move for cell (3, 2) is down, which is index 3\n",
    "pos3 = np.array((3, 2))\n",
    "print(model.predict(pos3))"
   ]
  },
  {
   "cell_type": "markdown",
   "id": "51a25573-9732-48ce-9481-c6d5369f10d8",
   "metadata": {},
   "source": [
    "Finally, we can, visualize the entire maze and the best move to use in each walkable cell using our helper method below.\n",
    "\n",
    "When starting in cell (0, 0), the agent is clearly able to identify the shortest path to exit the maze without hitting any walls!\n",
    "\n",
    "There are however cells that are still problematic... For instance cell (0, 3) suggests to go left, which is wrong, but not the end of the world given that this cell is impossible to reach from (0, 0).\n",
    "\n",
    "While this suggests that the Deep-Q-Learning agent has yet more to learn about the maze and the best moves to use, this agent is, however, capable of finding the shortest path from (0, 0) to (3, 3)!"
   ]
  },
  {
   "cell_type": "code",
   "execution_count": 10,
   "id": "a98e36f8-307f-428a-8903-974b45d0a9b7",
   "metadata": {},
   "outputs": [
    {
     "data": {
      "image/png": "[encoded data removed]",
      "text/plain": [
       "<Figure size 600x600 with 1 Axes>"
      ]
     },
     "metadata": {},
     "output_type": "display_data"
    }
   ],
   "source": [
    "# Visualize best moves in each cell after training\n",
    "maze.visualize_best_moves(model)"
   ]
  },
  {
   "cell_type": "code",
   "execution_count": null,
   "id": "07f22cdf-1549-4518-b942-77841abe4117",
   "metadata": {},
   "outputs": [],
   "source": []
  }
 ],
 "metadata": {
  "kernelspec": {
   "display_name": "Python 3 (ipykernel)",
   "language": "python",
   "name": "python3"
  },
  "language_info": {
   "codemirror_mode": {
    "name": "ipython",
    "version": 3
   },
   "file_extension": ".py",
   "mimetype": "text/x-python",
   "name": "python",
   "nbconvert_exporter": "python",
   "pygments_lexer": "ipython3",
   "version": "3.13.3"
  }
 },
 "nbformat": 4,
 "nbformat_minor": 5
}
