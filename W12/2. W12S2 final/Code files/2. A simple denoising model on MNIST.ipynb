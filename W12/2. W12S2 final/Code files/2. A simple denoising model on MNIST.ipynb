{
 "cells": [
  {
   "cell_type": "markdown",
   "id": "9a9d5fff",
   "metadata": {},
   "source": [
    "# 2. A simple denoising model on MNIST\n",
    "\n",
    "### About this notebook\n",
    "\n",
    "This notebook was used in the 50.039 Deep Learning course at the Singapore University of Technology and Design.\n",
    "\n",
    "**Author:** Matthieu DE MARI (matthieu_demari@sutd.edu.sg)\n",
    "\n",
    "**Version:** 1.0 (08/04/2023)\n",
    "\n",
    "**Requirements:**\n",
    "- Python 3 (tested on v3.9.6)\n",
    "- Matplotlib (tested on v3.6.2)\n",
    "- Torch (tested on v1.12.1)\n",
    "\n",
    "### Imports"
   ]
  },
  {
   "cell_type": "code",
   "execution_count": 1,
   "id": "d69dfad0",
   "metadata": {},
   "outputs": [],
   "source": [
    "# Imports\n",
    "import matplotlib.pyplot as plt\n",
    "import torch\n",
    "import torch.nn as nn\n",
    "import torch.optim as optim\n",
    "from torchvision import datasets, transforms\n",
    "from torch.utils.data import DataLoader"
   ]
  },
  {
   "cell_type": "code",
   "execution_count": 2,
   "id": "02170e66",
   "metadata": {},
   "outputs": [
    {
     "name": "stdout",
     "output_type": "stream",
     "text": [
      "False\n",
      "cpu\n"
     ]
    }
   ],
   "source": [
    "# CUDA check\n",
    "CUDA = True\n",
    "device = \"cuda\" if (torch.cuda.is_available() and CUDA) else \"cpu\"\n",
    "print(torch.cuda.is_available())\n",
    "print(device)"
   ]
  },
  {
   "cell_type": "markdown",
   "id": "181740da",
   "metadata": {},
   "source": [
    "### MNIST Dataset"
   ]
  },
  {
   "cell_type": "code",
   "execution_count": 3,
   "id": "181b2cbb",
   "metadata": {},
   "outputs": [],
   "source": [
    "# Load the MNIST dataset\n",
    "batch_size = 64\n",
    "transform = transforms.Compose([transforms.ToTensor(), transforms.Normalize((0.1307,), (0.3081,))])\n",
    "train_dataset = datasets.MNIST(root = './data', train = True, download = True, transform = transform)\n",
    "train_loader = DataLoader(train_dataset, batch_size = batch_size, shuffle = True)"
   ]
  },
  {
   "cell_type": "code",
   "execution_count": 4,
   "id": "f7bfe19d",
   "metadata": {},
   "outputs": [],
   "source": [
    "# Test the model on a single image\n",
    "test_dataset = datasets.MNIST(root = './data', train = False, download = True, transform = transform)\n",
    "test_loader = DataLoader(test_dataset, batch_size = 1, shuffle = False)"
   ]
  },
  {
   "cell_type": "markdown",
   "id": "26a19d5c",
   "metadata": {},
   "source": [
    "### Model\n",
    "\n",
    "Fully connected and hidden layer size can be chosen."
   ]
  },
  {
   "cell_type": "code",
   "execution_count": 5,
   "id": "804690d0",
   "metadata": {},
   "outputs": [],
   "source": [
    "# Define the encoder\n",
    "class Encoder(nn.Module):\n",
    "    def __init__(self):\n",
    "        super(Encoder, self).__init__()\n",
    "        self.encoder = nn.Sequential(\n",
    "            nn.Linear(28*28, 400),\n",
    "            nn.ReLU(),\n",
    "            nn.Linear(400, 400),\n",
    "            nn.ReLU()\n",
    "        )\n",
    "\n",
    "    def forward(self, x):\n",
    "        return self.encoder(x)"
   ]
  },
  {
   "cell_type": "code",
   "execution_count": 6,
   "id": "591c62c6",
   "metadata": {},
   "outputs": [],
   "source": [
    "# Define the decoder\n",
    "class Decoder(nn.Module):\n",
    "    def __init__(self):\n",
    "        super(Decoder, self).__init__()\n",
    "        self.decoder = nn.Sequential(\n",
    "            nn.Linear(400, 400),\n",
    "            nn.ReLU(),\n",
    "            nn.Linear(400, 28*28),\n",
    "            nn.Sigmoid()\n",
    "        )\n",
    "\n",
    "    def forward(self, x):\n",
    "        return self.decoder(x)"
   ]
  },
  {
   "cell_type": "code",
   "execution_count": 7,
   "id": "a141db2b",
   "metadata": {},
   "outputs": [],
   "source": [
    "class Denoiser(nn.Module):\n",
    "    def __init__(self):\n",
    "        super(Denoiser, self).__init__()\n",
    "        self.encoder = Encoder()\n",
    "        self.decoder = Decoder()\n",
    "\n",
    "    def forward(self, x):\n",
    "        return self.decoder(self.encoder(x))"
   ]
  },
  {
   "cell_type": "markdown",
   "id": "a53d1732",
   "metadata": {},
   "source": [
    "### Training a denoising model"
   ]
  },
  {
   "cell_type": "code",
   "execution_count": 8,
   "id": "0463ddac",
   "metadata": {},
   "outputs": [],
   "source": [
    "# Hyperparameters\n",
    "epochs = 10\n",
    "learning_rate = 1e-3\n",
    "noise_factor = 0.5"
   ]
  },
  {
   "cell_type": "code",
   "execution_count": 9,
   "id": "27838530",
   "metadata": {},
   "outputs": [],
   "source": [
    "# Initialize the model, loss function, and optimizer\n",
    "model = Denoiser()\n",
    "criterion = nn.MSELoss()\n",
    "optimizer = optim.Adam(model.parameters(), lr = learning_rate)"
   ]
  },
  {
   "cell_type": "code",
   "execution_count": 10,
   "id": "00ab5eb3",
   "metadata": {},
   "outputs": [
    {
     "name": "stdout",
     "output_type": "stream",
     "text": [
      "Epoch: 1/10, Batch: 0/938, Loss: 1.2449253797531128\n",
      "Epoch: 1/10, Batch: 100/938, Loss: 0.8187461495399475\n",
      "Epoch: 1/10, Batch: 200/938, Loss: 0.6412491202354431\n",
      "Epoch: 1/10, Batch: 300/938, Loss: 0.6011403799057007\n",
      "Epoch: 1/10, Batch: 400/938, Loss: 0.5702775716781616\n",
      "Epoch: 1/10, Batch: 500/938, Loss: 0.587981641292572\n",
      "Epoch: 1/10, Batch: 600/938, Loss: 0.5702048540115356\n",
      "Epoch: 1/10, Batch: 700/938, Loss: 0.5356922745704651\n",
      "Epoch: 1/10, Batch: 800/938, Loss: 0.5518530011177063\n",
      "Epoch: 1/10, Batch: 900/938, Loss: 0.5340136289596558\n",
      "Epoch: 2/10, Batch: 0/938, Loss: 0.5196548700332642\n",
      "Epoch: 2/10, Batch: 100/938, Loss: 0.5188783407211304\n",
      "Epoch: 2/10, Batch: 200/938, Loss: 0.525750458240509\n",
      "Epoch: 2/10, Batch: 300/938, Loss: 0.529144287109375\n",
      "Epoch: 2/10, Batch: 400/938, Loss: 0.5462660789489746\n",
      "Epoch: 2/10, Batch: 500/938, Loss: 0.5253822207450867\n",
      "Epoch: 2/10, Batch: 600/938, Loss: 0.5035701394081116\n",
      "Epoch: 2/10, Batch: 700/938, Loss: 0.4945460855960846\n",
      "Epoch: 2/10, Batch: 800/938, Loss: 0.5185607075691223\n",
      "Epoch: 2/10, Batch: 900/938, Loss: 0.5064486861228943\n",
      "Epoch: 3/10, Batch: 0/938, Loss: 0.5217761993408203\n",
      "Epoch: 3/10, Batch: 100/938, Loss: 0.5455858707427979\n",
      "Epoch: 3/10, Batch: 200/938, Loss: 0.5215238332748413\n",
      "Epoch: 3/10, Batch: 300/938, Loss: 0.5053899884223938\n",
      "Epoch: 3/10, Batch: 400/938, Loss: 0.5257344245910645\n",
      "Epoch: 3/10, Batch: 500/938, Loss: 0.5367453694343567\n",
      "Epoch: 3/10, Batch: 600/938, Loss: 0.49842071533203125\n",
      "Epoch: 3/10, Batch: 700/938, Loss: 0.5051190257072449\n",
      "Epoch: 3/10, Batch: 800/938, Loss: 0.522611141204834\n",
      "Epoch: 3/10, Batch: 900/938, Loss: 0.5280699729919434\n",
      "Epoch: 4/10, Batch: 0/938, Loss: 0.523479700088501\n",
      "Epoch: 4/10, Batch: 100/938, Loss: 0.5165632963180542\n",
      "Epoch: 4/10, Batch: 200/938, Loss: 0.4898998439311981\n",
      "Epoch: 4/10, Batch: 300/938, Loss: 0.5123288631439209\n",
      "Epoch: 4/10, Batch: 400/938, Loss: 0.4885960817337036\n",
      "Epoch: 4/10, Batch: 500/938, Loss: 0.5435088872909546\n",
      "Epoch: 4/10, Batch: 600/938, Loss: 0.5138782858848572\n",
      "Epoch: 4/10, Batch: 700/938, Loss: 0.5311500430107117\n",
      "Epoch: 4/10, Batch: 800/938, Loss: 0.5209575891494751\n",
      "Epoch: 4/10, Batch: 900/938, Loss: 0.5087239742279053\n",
      "Epoch: 5/10, Batch: 0/938, Loss: 0.5202080011367798\n",
      "Epoch: 5/10, Batch: 100/938, Loss: 0.5209434628486633\n",
      "Epoch: 5/10, Batch: 200/938, Loss: 0.5153414011001587\n",
      "Epoch: 5/10, Batch: 300/938, Loss: 0.49560460448265076\n",
      "Epoch: 5/10, Batch: 400/938, Loss: 0.5093421936035156\n",
      "Epoch: 5/10, Batch: 500/938, Loss: 0.5191622376441956\n",
      "Epoch: 5/10, Batch: 600/938, Loss: 0.4844955503940582\n",
      "Epoch: 5/10, Batch: 700/938, Loss: 0.504999577999115\n",
      "Epoch: 5/10, Batch: 800/938, Loss: 0.5410215258598328\n",
      "Epoch: 5/10, Batch: 900/938, Loss: 0.5057656168937683\n",
      "Epoch: 6/10, Batch: 0/938, Loss: 0.5098847150802612\n",
      "Epoch: 6/10, Batch: 100/938, Loss: 0.517073929309845\n",
      "Epoch: 6/10, Batch: 200/938, Loss: 0.5179814696311951\n",
      "Epoch: 6/10, Batch: 300/938, Loss: 0.5206494331359863\n",
      "Epoch: 6/10, Batch: 400/938, Loss: 0.5194085836410522\n",
      "Epoch: 6/10, Batch: 500/938, Loss: 0.5258839130401611\n",
      "Epoch: 6/10, Batch: 600/938, Loss: 0.5112547874450684\n",
      "Epoch: 6/10, Batch: 700/938, Loss: 0.5053706765174866\n",
      "Epoch: 6/10, Batch: 800/938, Loss: 0.5098392963409424\n",
      "Epoch: 6/10, Batch: 900/938, Loss: 0.5233281254768372\n",
      "Epoch: 7/10, Batch: 0/938, Loss: 0.5143976211547852\n",
      "Epoch: 7/10, Batch: 100/938, Loss: 0.513534665107727\n",
      "Epoch: 7/10, Batch: 200/938, Loss: 0.5068583488464355\n",
      "Epoch: 7/10, Batch: 300/938, Loss: 0.5066710710525513\n",
      "Epoch: 7/10, Batch: 400/938, Loss: 0.5244960188865662\n",
      "Epoch: 7/10, Batch: 500/938, Loss: 0.5358672142028809\n",
      "Epoch: 7/10, Batch: 600/938, Loss: 0.4965282380580902\n",
      "Epoch: 7/10, Batch: 700/938, Loss: 0.5328702926635742\n",
      "Epoch: 7/10, Batch: 800/938, Loss: 0.578033983707428\n",
      "Epoch: 7/10, Batch: 900/938, Loss: 0.5060312747955322\n",
      "Epoch: 8/10, Batch: 0/938, Loss: 0.49806681275367737\n",
      "Epoch: 8/10, Batch: 100/938, Loss: 0.5237643718719482\n",
      "Epoch: 8/10, Batch: 200/938, Loss: 0.5146563649177551\n",
      "Epoch: 8/10, Batch: 300/938, Loss: 0.49908533692359924\n",
      "Epoch: 8/10, Batch: 400/938, Loss: 0.5009573101997375\n",
      "Epoch: 8/10, Batch: 500/938, Loss: 0.5174532532691956\n",
      "Epoch: 8/10, Batch: 600/938, Loss: 0.5261194109916687\n",
      "Epoch: 8/10, Batch: 700/938, Loss: 0.48115256428718567\n",
      "Epoch: 8/10, Batch: 800/938, Loss: 0.5167703628540039\n",
      "Epoch: 8/10, Batch: 900/938, Loss: 0.5302236080169678\n",
      "Epoch: 9/10, Batch: 0/938, Loss: 0.4997694194316864\n",
      "Epoch: 9/10, Batch: 100/938, Loss: 0.4962109625339508\n",
      "Epoch: 9/10, Batch: 200/938, Loss: 0.5018979907035828\n",
      "Epoch: 9/10, Batch: 300/938, Loss: 0.4943888783454895\n",
      "Epoch: 9/10, Batch: 400/938, Loss: 0.5376887321472168\n",
      "Epoch: 9/10, Batch: 500/938, Loss: 0.4912385046482086\n",
      "Epoch: 9/10, Batch: 600/938, Loss: 0.49330568313598633\n",
      "Epoch: 9/10, Batch: 700/938, Loss: 0.5106576681137085\n",
      "Epoch: 9/10, Batch: 800/938, Loss: 0.508884847164154\n",
      "Epoch: 9/10, Batch: 900/938, Loss: 0.5220008492469788\n",
      "Epoch: 10/10, Batch: 0/938, Loss: 0.5077552199363708\n",
      "Epoch: 10/10, Batch: 100/938, Loss: 0.5193608403205872\n",
      "Epoch: 10/10, Batch: 200/938, Loss: 0.5230781435966492\n",
      "Epoch: 10/10, Batch: 300/938, Loss: 0.5314750075340271\n",
      "Epoch: 10/10, Batch: 400/938, Loss: 0.4900672435760498\n",
      "Epoch: 10/10, Batch: 500/938, Loss: 0.5183496475219727\n",
      "Epoch: 10/10, Batch: 600/938, Loss: 0.48987042903900146\n",
      "Epoch: 10/10, Batch: 700/938, Loss: 0.5026248097419739\n",
      "Epoch: 10/10, Batch: 800/938, Loss: 0.4964466989040375\n",
      "Epoch: 10/10, Batch: 900/938, Loss: 0.5141332745552063\n"
     ]
    }
   ],
   "source": [
    "# Training loop\n",
    "for epoch in range(epochs):\n",
    "    for batch_idx, (data, _) in enumerate(train_loader):\n",
    "        # Noise the data with one or many steps of SDEs\n",
    "        # (Here a single step Brownian Motion)\n",
    "        data = data.view(data.size(0), -1)\n",
    "        noisy_data = data + noise_factor*torch.randn_like(data)\n",
    "        \n",
    "        # Forward pass\n",
    "        optimizer.zero_grad()\n",
    "        outputs = model(noisy_data)\n",
    "        \n",
    "        # Backprop\n",
    "        loss = criterion(outputs, data)\n",
    "        loss.backward()\n",
    "        optimizer.step()\n",
    "        \n",
    "        # Display\n",
    "        if batch_idx % 100 == 0:\n",
    "            print(f'Epoch: {epoch+1}/{epochs}, Batch: {batch_idx}/{len(train_loader)}, Loss: {loss.item()}')"
   ]
  },
  {
   "cell_type": "markdown",
   "id": "95da8055",
   "metadata": {},
   "source": [
    "### Testing denoising model on noised MNIST images"
   ]
  },
  {
   "cell_type": "code",
   "execution_count": 75,
   "id": "2d7958bd",
   "metadata": {},
   "outputs": [],
   "source": [
    "# Preparing some test samples\n",
    "count = 10\n",
    "for batch_idx, (test_data, _) in enumerate(test_loader):\n",
    "    if(batch_idx == count):\n",
    "        test_data = test_data.view(test_data.size(0), -1)\n",
    "        noisy_test_data = test_data + noise_factor*torch.randn_like(test_data)\n",
    "        output = model(noisy_test_data)\n",
    "        break"
   ]
  },
  {
   "cell_type": "code",
   "execution_count": 76,
   "id": "4cd9c819",
   "metadata": {},
   "outputs": [
    {
     "data": {
      "image/png": "[encoded data removed]",
      "text/plain": [
       "<Figure size 1200x400 with 3 Axes>"
      ]
     },
     "metadata": {},
     "output_type": "display_data"
    }
   ],
   "source": [
    "# Plot the original image, noisy image, and the denoised image\n",
    "fig, axes = plt.subplots(1, 3, figsize = (12, 4))\n",
    "axes[0].imshow(test_data.view(28, 28).detach().numpy(), cmap = 'gray')\n",
    "axes[0].set_title('Original Image')\n",
    "axes[1].imshow(noisy_test_data.view(28, 28).detach().numpy(), cmap = 'gray')\n",
    "axes[1].set_title('Noisy Image')\n",
    "axes[2].imshow(output.view(28, 28).detach().numpy(), cmap = 'gray')\n",
    "axes[2].set_title('Denoised Image')\n",
    "plt.show()"
   ]
  },
  {
   "cell_type": "markdown",
   "id": "8f375035",
   "metadata": {},
   "source": [
    "### Testing model on pure noise?!"
   ]
  },
  {
   "cell_type": "code",
   "execution_count": 69,
   "id": "53609ad5",
   "metadata": {},
   "outputs": [],
   "source": [
    "# Preparing some test samples\n",
    "count = 7\n",
    "for batch_idx, (test_data2, _) in enumerate(test_loader):\n",
    "    if(batch_idx == count):\n",
    "        test_data2 = test_data2.view(test_data2.size(0), -1)\n",
    "        noisy_test_data2 = noise_factor*torch.randn_like(test_data2)\n",
    "        output2 = model(noisy_test_data2)\n",
    "        break"
   ]
  },
  {
   "cell_type": "code",
   "execution_count": 70,
   "id": "4d4859ae",
   "metadata": {},
   "outputs": [
    {
     "data": {
      "image/png": "[encoded data removed]",
      "text/plain": [
       "<Figure size 1200x400 with 3 Axes>"
      ]
     },
     "metadata": {},
     "output_type": "display_data"
    }
   ],
   "source": [
    "# Plot the original image, noisy image, and the denoised image\n",
    "fig, axes = plt.subplots(1, 3, figsize = (12, 4))\n",
    "axes[0].imshow(test_data2.view(28, 28).detach().numpy(), cmap = 'gray')\n",
    "axes[0].set_title('Original Image 2')\n",
    "axes[1].imshow(noisy_test_data2.view(28, 28).detach().numpy(), cmap = 'gray')\n",
    "axes[1].set_title('Making It Pure Noise')\n",
    "axes[2].imshow(output2.view(28, 28).detach().numpy(), cmap = 'gray')\n",
    "axes[2].set_title('Denoised Image?')\n",
    "plt.show()"
   ]
  },
  {
   "cell_type": "code",
   "execution_count": 61,
   "id": "ffb37857",
   "metadata": {},
   "outputs": [],
   "source": [
    "# Preparing some test samples\n",
    "count = 14\n",
    "for batch_idx, (test_data3, _) in enumerate(test_loader):\n",
    "    if(batch_idx == count):\n",
    "        test_data3 = test_data3.view(test_data3.size(0), -1)\n",
    "        noisy_test_data3 = noise_factor*torch.randn_like(test_data3)\n",
    "        output2 = model(noisy_test_data3)\n",
    "        output3 = model(output2)\n",
    "        output4 = model(output3)\n",
    "        output5 = model(output4)\n",
    "        output6 = model(output5)\n",
    "        break"
   ]
  },
  {
   "cell_type": "code",
   "execution_count": 62,
   "id": "4a6ca5c8",
   "metadata": {},
   "outputs": [
    {
     "data": {
      "image/png": "[encoded data removed]",
      "text/plain": [
       "<Figure size 1200x400 with 6 Axes>"
      ]
     },
     "metadata": {},
     "output_type": "display_data"
    }
   ],
   "source": [
    "# Plot the original image, noisy image, and the denoised image\n",
    "fig, axes = plt.subplots(1, 6, figsize = (12, 4))\n",
    "axes[0].imshow(noisy_test_data3.view(28, 28).detach().numpy(), cmap = 'gray')\n",
    "axes[0].set_title('Making It \\nPure Noise')\n",
    "axes[1].imshow(output2.view(28, 28).detach().numpy(), cmap = 'gray')\n",
    "axes[1].set_title('Denoised Image? \\nStep 1')\n",
    "axes[2].imshow(output3.view(28, 28).detach().numpy(), cmap = 'gray')\n",
    "axes[2].set_title('Denoised Image? \\nStep 2')\n",
    "axes[3].imshow(output4.view(28, 28).detach().numpy(), cmap = 'gray')\n",
    "axes[3].set_title('Denoised Image? \\nStep 3')\n",
    "axes[4].imshow(output5.view(28, 28).detach().numpy(), cmap = 'gray')\n",
    "axes[4].set_title('Denoised Image? \\nStep 4')\n",
    "axes[5].imshow(output6.view(28, 28).detach().numpy(), cmap = 'gray')\n",
    "axes[5].set_title('Denoised Image? \\nStep 5')\n",
    "plt.show()"
   ]
  },
  {
   "cell_type": "code",
   "execution_count": null,
   "id": "35a49887",
   "metadata": {},
   "outputs": [],
   "source": []
  }
 ],
 "metadata": {
  "kernelspec": {
   "display_name": "Python 3 (ipykernel)",
   "language": "python",
   "name": "python3"
  },
  "language_info": {
   "codemirror_mode": {
    "name": "ipython",
    "version": 3
   },
   "file_extension": ".py",
   "mimetype": "text/x-python",
   "name": "python",
   "nbconvert_exporter": "python",
   "pygments_lexer": "ipython3",
   "version": "3.10.7"
  }
 },
 "nbformat": 4,
 "nbformat_minor": 5
}
