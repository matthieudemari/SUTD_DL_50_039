{
 "cells": [
  {
   "cell_type": "markdown",
   "id": "9a9d5fff",
   "metadata": {},
   "source": [
    "# 3. From a simple denoising model on MNIST to a basic Diffusion one.\n",
    "\n",
    "### About this notebook\n",
    "\n",
    "This notebook was used in the 50.039 Deep Learning course at the Singapore University of Technology and Design.\n",
    "\n",
    "**Author:** Matthieu DE MARI (matthieu_demari@sutd.edu.sg)\n",
    "\n",
    "**Version:** 1.0 (08/04/2023)\n",
    "\n",
    "**Requirements:**\n",
    "- Python 3 (tested on v3.9.6)\n",
    "- Matplotlib (tested on v3.6.2)\n",
    "- Torch (tested on v1.12.1)\n",
    "\n",
    "### Imports"
   ]
  },
  {
   "cell_type": "code",
   "execution_count": 1,
   "id": "d69dfad0",
   "metadata": {},
   "outputs": [],
   "source": [
    "# Imports\n",
    "import matplotlib.pyplot as plt\n",
    "import torch\n",
    "import torch.nn as nn\n",
    "import torch.optim as optim\n",
    "from torchvision import datasets, transforms\n",
    "from torch.utils.data import DataLoader"
   ]
  },
  {
   "cell_type": "code",
   "execution_count": 2,
   "id": "02170e66",
   "metadata": {},
   "outputs": [
    {
     "name": "stdout",
     "output_type": "stream",
     "text": [
      "False\n",
      "cpu\n"
     ]
    }
   ],
   "source": [
    "# CUDA check\n",
    "CUDA = True\n",
    "device = \"cuda\" if (torch.cuda.is_available() and CUDA) else \"cpu\"\n",
    "print(torch.cuda.is_available())\n",
    "print(device)"
   ]
  },
  {
   "cell_type": "markdown",
   "id": "3dac31c5",
   "metadata": {},
   "source": [
    "### MNIST Dataset"
   ]
  },
  {
   "cell_type": "code",
   "execution_count": 3,
   "id": "a7811ce6",
   "metadata": {},
   "outputs": [],
   "source": [
    "# Load the MNIST dataset\n",
    "batch_size = 64\n",
    "transform = transforms.Compose([transforms.ToTensor(), transforms.Normalize((0.1307,), (0.3081,))])\n",
    "train_dataset = datasets.MNIST(root = './data', train = True, download = True, transform = transform)\n",
    "train_loader = DataLoader(train_dataset, batch_size = batch_size, shuffle = True)"
   ]
  },
  {
   "cell_type": "code",
   "execution_count": 4,
   "id": "adc7738e",
   "metadata": {},
   "outputs": [],
   "source": [
    "# Test the model on a single image\n",
    "test_dataset = datasets.MNIST(root = './data', train = False, download = True, transform = transform)\n",
    "test_loader = DataLoader(test_dataset, batch_size = 1, shuffle = False)"
   ]
  },
  {
   "cell_type": "markdown",
   "id": "26a19d5c",
   "metadata": {},
   "source": [
    "### Model\n",
    "\n",
    "Fully connected and hidden layer size can be chosen."
   ]
  },
  {
   "cell_type": "code",
   "execution_count": 5,
   "id": "3c020d8e",
   "metadata": {},
   "outputs": [],
   "source": [
    "class DiffusionModel(nn.Module):\n",
    "    def __init__(self):\n",
    "        super(DiffusionModel, self).__init__()\n",
    "        self.network = nn.Sequential(\n",
    "            nn.Linear(28 * 28 + 1, 400),\n",
    "            nn.ReLU(),\n",
    "            nn.Linear(400, 400),\n",
    "            nn.ReLU(),\n",
    "            nn.Linear(400, 28 * 28)\n",
    "        )\n",
    "\n",
    "    def forward(self, x, t):\n",
    "        x = torch.cat([x, t.expand(x.size(0), 1)], dim = 1)\n",
    "        return self.network(x)"
   ]
  },
  {
   "cell_type": "markdown",
   "id": "6666dafd",
   "metadata": {},
   "source": [
    "### Training a denoising model"
   ]
  },
  {
   "cell_type": "code",
   "execution_count": 6,
   "id": "0d82435e",
   "metadata": {},
   "outputs": [],
   "source": [
    "# Hyperparameters\n",
    "epochs = 10\n",
    "batch_size = 64\n",
    "learning_rate = 1e-3\n",
    "num_timesteps = 5\n",
    "noise_schedule = torch.linspace(0, 1, num_timesteps)"
   ]
  },
  {
   "cell_type": "code",
   "execution_count": 7,
   "id": "1589e18a",
   "metadata": {},
   "outputs": [],
   "source": [
    "# Initialize the model, loss function, and optimizer\n",
    "model = DiffusionModel()\n",
    "criterion = nn.MSELoss()\n",
    "optimizer = optim.Adam(model.parameters(), lr = learning_rate)"
   ]
  },
  {
   "cell_type": "code",
   "execution_count": 8,
   "id": "6823f791",
   "metadata": {},
   "outputs": [
    {
     "name": "stdout",
     "output_type": "stream",
     "text": [
      "Epoch: 1/10, Batch: 0/938, Loss: 79.81517028808594\n",
      "Epoch: 1/10, Batch: 100/938, Loss: 74.13182067871094\n",
      "Epoch: 1/10, Batch: 200/938, Loss: 65.92903137207031\n",
      "Epoch: 1/10, Batch: 300/938, Loss: 61.54655075073242\n",
      "Epoch: 1/10, Batch: 400/938, Loss: 58.606876373291016\n",
      "Epoch: 1/10, Batch: 500/938, Loss: 56.519989013671875\n",
      "Epoch: 1/10, Batch: 600/938, Loss: 55.0623893737793\n",
      "Epoch: 1/10, Batch: 700/938, Loss: 52.777042388916016\n",
      "Epoch: 1/10, Batch: 800/938, Loss: 52.68815231323242\n",
      "Epoch: 1/10, Batch: 900/938, Loss: 51.90736770629883\n",
      "Epoch: 2/10, Batch: 0/938, Loss: 51.92570114135742\n",
      "Epoch: 2/10, Batch: 100/938, Loss: 51.13304901123047\n",
      "Epoch: 2/10, Batch: 200/938, Loss: 50.7455940246582\n",
      "Epoch: 2/10, Batch: 300/938, Loss: 50.37187576293945\n",
      "Epoch: 2/10, Batch: 400/938, Loss: 50.616615295410156\n",
      "Epoch: 2/10, Batch: 500/938, Loss: 50.14930725097656\n",
      "Epoch: 2/10, Batch: 600/938, Loss: 49.96846008300781\n",
      "Epoch: 2/10, Batch: 700/938, Loss: 50.80589294433594\n",
      "Epoch: 2/10, Batch: 800/938, Loss: 49.66339874267578\n",
      "Epoch: 2/10, Batch: 900/938, Loss: 50.18984603881836\n",
      "Epoch: 3/10, Batch: 0/938, Loss: 50.12586212158203\n",
      "Epoch: 3/10, Batch: 100/938, Loss: 49.76795959472656\n",
      "Epoch: 3/10, Batch: 200/938, Loss: 49.91718292236328\n",
      "Epoch: 3/10, Batch: 300/938, Loss: 50.02227020263672\n",
      "Epoch: 3/10, Batch: 400/938, Loss: 49.99213409423828\n",
      "Epoch: 3/10, Batch: 500/938, Loss: 49.607730865478516\n",
      "Epoch: 3/10, Batch: 600/938, Loss: 49.665958404541016\n",
      "Epoch: 3/10, Batch: 700/938, Loss: 49.514076232910156\n",
      "Epoch: 3/10, Batch: 800/938, Loss: 49.2573356628418\n",
      "Epoch: 3/10, Batch: 900/938, Loss: 49.69015884399414\n",
      "Epoch: 4/10, Batch: 0/938, Loss: 49.91078567504883\n",
      "Epoch: 4/10, Batch: 100/938, Loss: 49.781639099121094\n",
      "Epoch: 4/10, Batch: 200/938, Loss: 49.74118423461914\n",
      "Epoch: 4/10, Batch: 300/938, Loss: 49.48242950439453\n",
      "Epoch: 4/10, Batch: 400/938, Loss: 49.89836120605469\n",
      "Epoch: 4/10, Batch: 500/938, Loss: 49.10750961303711\n",
      "Epoch: 4/10, Batch: 600/938, Loss: 49.12543487548828\n",
      "Epoch: 4/10, Batch: 700/938, Loss: 49.43318557739258\n",
      "Epoch: 4/10, Batch: 800/938, Loss: 49.574729919433594\n",
      "Epoch: 4/10, Batch: 900/938, Loss: 49.03318786621094\n",
      "Epoch: 5/10, Batch: 0/938, Loss: 49.278282165527344\n",
      "Epoch: 5/10, Batch: 100/938, Loss: 49.445716857910156\n",
      "Epoch: 5/10, Batch: 200/938, Loss: 49.74620819091797\n",
      "Epoch: 5/10, Batch: 300/938, Loss: 49.57455062866211\n",
      "Epoch: 5/10, Batch: 400/938, Loss: 48.920318603515625\n",
      "Epoch: 5/10, Batch: 500/938, Loss: 49.385677337646484\n",
      "Epoch: 5/10, Batch: 600/938, Loss: 49.317752838134766\n",
      "Epoch: 5/10, Batch: 700/938, Loss: 49.227542877197266\n",
      "Epoch: 5/10, Batch: 800/938, Loss: 49.46253967285156\n",
      "Epoch: 5/10, Batch: 900/938, Loss: 49.62240982055664\n",
      "Epoch: 6/10, Batch: 0/938, Loss: 49.176170349121094\n",
      "Epoch: 6/10, Batch: 100/938, Loss: 49.172122955322266\n",
      "Epoch: 6/10, Batch: 200/938, Loss: 49.686222076416016\n",
      "Epoch: 6/10, Batch: 300/938, Loss: 49.00887680053711\n",
      "Epoch: 6/10, Batch: 400/938, Loss: 49.03224182128906\n",
      "Epoch: 6/10, Batch: 500/938, Loss: 49.12566375732422\n",
      "Epoch: 6/10, Batch: 600/938, Loss: 49.14569091796875\n",
      "Epoch: 6/10, Batch: 700/938, Loss: 49.071861267089844\n",
      "Epoch: 6/10, Batch: 800/938, Loss: 48.90367126464844\n",
      "Epoch: 6/10, Batch: 900/938, Loss: 49.59493637084961\n",
      "Epoch: 7/10, Batch: 0/938, Loss: 49.093345642089844\n",
      "Epoch: 7/10, Batch: 100/938, Loss: 49.204315185546875\n",
      "Epoch: 7/10, Batch: 200/938, Loss: 48.925331115722656\n",
      "Epoch: 7/10, Batch: 300/938, Loss: 49.35595703125\n",
      "Epoch: 7/10, Batch: 400/938, Loss: 49.203956604003906\n",
      "Epoch: 7/10, Batch: 500/938, Loss: 49.19330596923828\n",
      "Epoch: 7/10, Batch: 600/938, Loss: 49.17764663696289\n",
      "Epoch: 7/10, Batch: 700/938, Loss: 49.02180480957031\n",
      "Epoch: 7/10, Batch: 800/938, Loss: 48.91154861450195\n",
      "Epoch: 7/10, Batch: 900/938, Loss: 49.10319137573242\n",
      "Epoch: 8/10, Batch: 0/938, Loss: 49.050289154052734\n",
      "Epoch: 8/10, Batch: 100/938, Loss: 48.93753433227539\n",
      "Epoch: 8/10, Batch: 200/938, Loss: 49.62151336669922\n",
      "Epoch: 8/10, Batch: 300/938, Loss: 49.045204162597656\n",
      "Epoch: 8/10, Batch: 400/938, Loss: 49.16777420043945\n",
      "Epoch: 8/10, Batch: 500/938, Loss: 49.67805480957031\n",
      "Epoch: 8/10, Batch: 600/938, Loss: 48.5778694152832\n",
      "Epoch: 8/10, Batch: 700/938, Loss: 49.42848205566406\n",
      "Epoch: 8/10, Batch: 800/938, Loss: 49.130470275878906\n",
      "Epoch: 8/10, Batch: 900/938, Loss: 49.09092712402344\n",
      "Epoch: 9/10, Batch: 0/938, Loss: 49.377750396728516\n",
      "Epoch: 9/10, Batch: 100/938, Loss: 48.33747863769531\n",
      "Epoch: 9/10, Batch: 200/938, Loss: 48.83668518066406\n",
      "Epoch: 9/10, Batch: 300/938, Loss: 49.46092987060547\n",
      "Epoch: 9/10, Batch: 400/938, Loss: 48.89631652832031\n",
      "Epoch: 9/10, Batch: 500/938, Loss: 48.87438201904297\n",
      "Epoch: 9/10, Batch: 600/938, Loss: 48.91503143310547\n",
      "Epoch: 9/10, Batch: 700/938, Loss: 48.3337287902832\n",
      "Epoch: 9/10, Batch: 800/938, Loss: 48.97575378417969\n",
      "Epoch: 9/10, Batch: 900/938, Loss: 49.467552185058594\n",
      "Epoch: 10/10, Batch: 0/938, Loss: 48.89763641357422\n",
      "Epoch: 10/10, Batch: 100/938, Loss: 47.9273796081543\n",
      "Epoch: 10/10, Batch: 200/938, Loss: 48.296512603759766\n",
      "Epoch: 10/10, Batch: 300/938, Loss: 48.904300689697266\n",
      "Epoch: 10/10, Batch: 400/938, Loss: 48.78089904785156\n",
      "Epoch: 10/10, Batch: 500/938, Loss: 48.744075775146484\n",
      "Epoch: 10/10, Batch: 600/938, Loss: 48.72468566894531\n",
      "Epoch: 10/10, Batch: 700/938, Loss: 49.20627212524414\n",
      "Epoch: 10/10, Batch: 800/938, Loss: 48.891021728515625\n",
      "Epoch: 10/10, Batch: 900/938, Loss: 48.671958923339844\n"
     ]
    }
   ],
   "source": [
    "# Training loop\n",
    "# (Very long, use at your own discretion!)\n",
    "for epoch in range(epochs):\n",
    "    for batch_idx, (data, _) in enumerate(train_loader):\n",
    "        data = data.view(data.size(0), -1)\n",
    "        noisy_data = data.clone()\n",
    "\n",
    "        # Apply multiple noising steps\n",
    "        for t in range(num_timesteps-1):\n",
    "            noisy_data += torch.randn_like(noisy_data)*torch.sqrt(noise_schedule[t+1]-noise_schedule[t])\n",
    "\n",
    "        optimizer.zero_grad()\n",
    "        loss = 0\n",
    "\n",
    "        # Apply multiple denoising steps\n",
    "        for t in reversed(range(num_timesteps-1)):\n",
    "            denoised_data = noisy_data-torch.randn_like(noisy_data)*torch.sqrt(noise_schedule[t+1]-noise_schedule[t])\n",
    "            target_score = (data-denoised_data)/(noise_schedule[t+1]-noise_schedule[t])\n",
    "            score_prediction = model(denoised_data, noise_schedule[t].view(-1, 1))\n",
    "            loss += criterion(score_prediction, target_score)\n",
    "\n",
    "        loss.backward()\n",
    "        optimizer.step()\n",
    "\n",
    "        if batch_idx % 100 == 0:\n",
    "            print(f'Epoch: {epoch+1}/{epochs}, Batch: {batch_idx}/{len(train_loader)}, Loss: {loss.item()}')"
   ]
  },
  {
   "cell_type": "markdown",
   "id": "399fca59",
   "metadata": {},
   "source": [
    "### Testing denoising model on noised MNIST images"
   ]
  },
  {
   "cell_type": "code",
   "execution_count": 13,
   "id": "79c6e15a",
   "metadata": {},
   "outputs": [],
   "source": [
    "def test_and_evaluate(model, test_dataset, noise_schedule, num_timesteps):\n",
    "    # Get a sample from the test dataset\n",
    "    test_sample, _ = test_dataset[0]\n",
    "    test_sample = test_sample.view(-1)\n",
    "\n",
    "    # Add noise to the sample\n",
    "    noisy_sample = test_sample.clone()\n",
    "    for t in range(num_timesteps-1):\n",
    "        noisy_sample += torch.randn_like(noisy_sample)*torch.sqrt(noise_schedule[t+1]-noise_schedule[t])\n",
    "\n",
    "    # Denoise the sample using the trained model\n",
    "    denoised_sample = noisy_sample.clone()\n",
    "    for t in reversed(range(num_timesteps-1)):\n",
    "        denoised_data = denoised_sample-torch.randn_like(denoised_sample)*torch.sqrt(noise_schedule[t+1]-noise_schedule[t])\n",
    "        score_prediction = model(denoised_data.unsqueeze(0), noise_schedule[t].view(1, 1)).squeeze(0)\n",
    "        denoised_sample = denoised_data+score_prediction*(noise_schedule[t+1]-noise_schedule[t])\n",
    "\n",
    "    # Visualize the images\n",
    "    fig, axs = plt.subplots(1, 3, figsize = (12, 4))\n",
    "    axs[0].imshow(test_sample.view(28, 28).detach().numpy(), cmap = 'gray')\n",
    "    axs[0].set_title(\"Original\")\n",
    "    axs[1].imshow(noisy_sample.view(28, 28).detach().numpy(), cmap = 'gray')\n",
    "    axs[1].set_title(\"Noisy\")\n",
    "    axs[2].imshow(denoised_sample.view(28, 28).detach().numpy(), cmap = 'gray')\n",
    "    axs[2].set_title(\"Denoised\")\n",
    "    plt.show()"
   ]
  },
  {
   "cell_type": "code",
   "execution_count": 15,
   "id": "ba28aa08",
   "metadata": {},
   "outputs": [
    {
     "data": {
      "image/png": "[encoded data removed]",
      "text/plain": [
       "<Figure size 1200x400 with 3 Axes>"
      ]
     },
     "metadata": {},
     "output_type": "display_data"
    }
   ],
   "source": [
    "# Test and evaluate the trained model\n",
    "test_and_evaluate(model, test_dataset, noise_schedule, num_timesteps)"
   ]
  },
  {
   "cell_type": "code",
   "execution_count": null,
   "id": "055a53c1",
   "metadata": {},
   "outputs": [],
   "source": []
  }
 ],
 "metadata": {
  "kernelspec": {
   "display_name": "Python 3 (ipykernel)",
   "language": "python",
   "name": "python3"
  },
  "language_info": {
   "codemirror_mode": {
    "name": "ipython",
    "version": 3
   },
   "file_extension": ".py",
   "mimetype": "text/x-python",
   "name": "python",
   "nbconvert_exporter": "python",
   "pygments_lexer": "ipython3",
   "version": "3.10.7"
  }
 },
 "nbformat": 4,
 "nbformat_minor": 5
}
