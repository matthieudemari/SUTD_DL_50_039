{
 "cells": [
  {
   "cell_type": "markdown",
   "id": "through-glossary",
   "metadata": {},
   "source": [
    "# 1. CBoW demo (Short text)\n",
    "\n",
    "### About this notebook\n",
    "\n",
    "This notebook was used in the 50.039 Deep Learning course at the Singapore University of Technology and Design.\n",
    "\n",
    "**Author:** Matthieu DE MARI (matthieu_demari@sutd.edu.sg)\n",
    "\n",
    "**Version:** 1.2 (29/08/2023)\n",
    "\n",
    "Ths notebook demonstrates how we may design and train a CBoW architecture, on a very simple corpus of text. The dataset is not large enough to produce a good language model, but we do not expect students to be able to run it on a massive dataset, for computational costs reasons.\n",
    "\n",
    "**Requirements:**\n",
    "- Python 3 (tested on v3.11.4)\n",
    "- Matplotlib (tested on v3.7.2)\n",
    "- Numpy (tested on v1.25.2)\n",
    "- Torch (tested on v2.0.1+cu118)\n",
    "- We also strongly recommend setting up CUDA on your machine!\n",
    "\n",
    "### Imports"
   ]
  },
  {
   "cell_type": "code",
   "execution_count": 1,
   "id": "diverse-ivory",
   "metadata": {},
   "outputs": [],
   "source": [
    "import torch\n",
    "from torch.autograd import Variable\n",
    "import torch.nn as nn\n",
    "import torch.optim as optim\n",
    "import torch.nn.functional as F\n",
    "import functools\n",
    "import matplotlib.pyplot as plt\n",
    "CUDA = torch.cuda.is_available()\n",
    "device = torch.device(\"cuda\" if CUDA else \"cpu\")"
   ]
  },
  {
   "cell_type": "markdown",
   "id": "informed-tattoo",
   "metadata": {},
   "source": [
    "### Step 1. Produce some data based on a given text for training our CBoW model\n",
    "\n",
    "Our task here is twofold:\n",
    "- We will read the text in the short_text.txt file and find the dictionary V, corresponding to the words present in text. \n",
    "- We will use the procedure detailed in the slides to generate data points from the text in the short_text.txt file."
   ]
  },
  {
   "cell_type": "code",
   "execution_count": 2,
   "id": "protected-truth",
   "metadata": {},
   "outputs": [],
   "source": [
    "def text_to_train(text, context_window):\n",
    "    \n",
    "    # Get data from list of words in text, using a context window of size k = context_window\n",
    "    data = []\n",
    "    for i in range(context_window, len(text) - context_window):\n",
    "        context = [text[i+e] for e in range(-context_window, context_window+1) if i+e != i]\n",
    "        target = text[i]\n",
    "        data.append((context, target))\n",
    "        \n",
    "    return data"
   ]
  },
  {
   "cell_type": "code",
   "execution_count": 3,
   "id": "sensitive-preserve",
   "metadata": {},
   "outputs": [],
   "source": [
    "def create_text():\n",
    "    \n",
    "    # Load corpus from file\n",
    "    with open(\"./text_short.txt\", 'r', encoding=\"utf8\",) as f:\n",
    "        corpus = f.readlines()\n",
    "    f.close()\n",
    "    \n",
    "    # Join corpus into a single string\n",
    "    text = \"\"\n",
    "    for s in corpus:\n",
    "        l = s.split()\n",
    "        for s2 in l:\n",
    "            # Removes all special characters from string\n",
    "            s2 = ''.join(filter(str.isalnum, s2))\n",
    "            s2 += ' '\n",
    "            text += s2.lower()\n",
    "    text = text.split()\n",
    "    \n",
    "    return text"
   ]
  },
  {
   "cell_type": "code",
   "execution_count": 4,
   "id": "identical-heather",
   "metadata": {},
   "outputs": [
    {
     "name": "stdout",
     "output_type": "stream",
     "text": [
      "['i', 'would', 'be', 'fatal', 'for', 'the', 'nation', 'to', 'overlook', 'the', 'urgency', 'of', 'the', 'moment', 'and', 'to', 'underestimate', 'the', 'determination', 'of', 'its', 'colored', 'citizens', 'this', 'sweltering', 'summer', 'of', 'the', 'colored', 'peoples', 'legitimate', 'discontent', 'will', 'not', 'pass', 'until', 'there', 'is', 'an', 'invigorating', 'autumn', 'of', 'freedom', 'and', 'equality', 'nineteen', 'sixtythree', 'is', 'not', 'an', 'end', 'but', 'a', 'beginning', 'those', 'who', 'hope', 'that', 'the', 'colored', 'americans', 'needed', 'to', 'blow', 'off', 'steam', 'and', 'will', 'now', 'be', 'content', 'will', 'have', 'a', 'rude', 'awakening', 'if', 'the', 'nation', 'returns', 'to', 'business', 'as', 'usual', 'there', 'will', 'be', 'neither', 'rest', 'nor', 'tranquility', 'in', 'america', 'until', 'the', 'colored', 'citizen', 'is', 'granted', 'his', 'citizenship', 'rights', 'the', 'whirlwinds', 'of', 'revolt', 'will', 'continue', 'to', 'shake', 'the', 'foundations', 'of', 'our', 'nation', 'until', 'the', 'bright', 'day', 'of', 'justice', 'emerges', 'we', 'can', 'never', 'be', 'satisfied', 'as', 'long', 'as', 'our', 'bodies', 'heavy', 'with', 'the', 'fatigue', 'of', 'travel', 'cannot', 'gain', 'lodging', 'in', 'the', 'motels', 'of', 'the', 'highways', 'and', 'the', 'hotels', 'of', 'the', 'cities', 'we', 'cannot', 'be', 'satisfied', 'as', 'long', 'as', 'the', 'colored', 'persons', 'basic', 'mobility', 'is', 'from', 'a', 'smaller', 'ghetto', 'to', 'a', 'larger', 'one', 'we', 'can', 'never', 'be', 'satisfied', 'as', 'long', 'as', 'our', 'children', 'are', 'stripped', 'of', 'their', 'selfhood', 'and', 'robbed', 'of', 'their', 'dignity', 'by', 'signs', 'stating', 'for', 'white', 'only', 'we', 'cannot', 'be', 'satisfied', 'as', 'long', 'as', 'a', 'colored', 'person', 'in', 'mississippi', 'cannot', 'vote', 'and', 'a', 'colored', 'person', 'in', 'new', 'york', 'believes', 'he', 'has', 'nothing', 'for', 'which', 'to', 'vote', 'no', 'no', 'we', 'are', 'not', 'satisfied', 'and', 'we', 'will', 'not', 'be', 'satisfied', 'until', 'justice', 'rolls', 'down', 'like', 'waters', 'and', 'righteousness', 'like', 'a', 'mighty', 'stream', 'i', 'am', 'not', 'unmindful', 'that', 'some', 'of', 'you', 'have', 'come', 'here', 'out', 'of', 'your', 'trials', 'and', 'tribulations', 'some', 'of', 'you', 'have', 'come', 'from', 'areas', 'where', 'your', 'quest', 'for', 'freedom', 'left', 'you', 'battered', 'by', 'storms', 'of', 'persecutions', 'and', 'staggered', 'by', 'the', 'winds', 'of', 'police', 'brutality', 'you', 'have', 'been', 'the', 'veterans', 'of', 'creative', 'suffering', 'continue', 'to', 'work', 'with', 'the', 'faith', 'that', 'unearned', 'suffering', 'is', 'redemptive', 'go', 'back', 'to', 'mississippi', 'go', 'back', 'to', 'alabama', 'go', 'back', 'to', 'south', 'carolina', 'go', 'back', 'to', 'georgia', 'go', 'back', 'to', 'louisiana', 'go', 'back', 'to', 'the', 'slums', 'and', 'ghettos', 'of', 'our', 'modern', 'cities', 'knowing', 'that', 'somehow', 'this', 'situation', 'can', 'and', 'will', 'be', 'changed', 'let', 'us', 'not', 'wallow', 'in', 'the', 'valley', 'of', 'despair', 'i', 'say', 'to', 'you', 'my', 'friends', 'we', 'have', 'the', 'difficulties', 'of', 'today', 'and', 'tomorrow', 'i', 'still', 'have', 'a', 'dream', 'it', 'is', 'a', 'dream', 'deeply', 'rooted', 'in', 'the', 'american', 'dream', 'i', 'have', 'a', 'dream', 'that', 'one', 'day', 'this', 'nation', 'will', 'rise', 'up', 'and', 'live', 'out', 'the', 'true', 'meaning', 'of', 'its', 'creed', 'we', 'hold', 'these', 'truths', 'to', 'be', 'selfevident', 'that', 'all', 'men', 'are', 'created', 'equal', 'i', 'have', 'a', 'dream', 'that', 'one', 'day', 'out', 'in', 'the', 'red', 'hills', 'of', 'georgia', 'the', 'sons', 'of', 'former', 'slaves', 'and', 'the', 'sons', 'of', 'former', 'slaveowners', 'will', 'be', 'able', 'to', 'sit', 'down', 'together', 'at', 'the', 'table', 'of', 'brotherhood', 'i', 'have', 'a', 'dream', 'that', 'one', 'day', 'even', 'the', 'state', 'of', 'mississippi', 'a', 'state', 'sweltering', 'with', 'the', 'heat', 'of', 'oppression', 'will', 'be', 'transformed', 'into', 'an', 'oasis', 'of', 'freedom', 'and', 'justice', 'i', 'have', 'a', 'dream', 'that', 'my', 'four', 'little', 'children', 'will', 'one', 'day', 'live', 'in', 'a', 'nation', 'where', 'they', 'will', 'not', 'be', 'judged', 'by', 'the', 'color', 'of', 'their', 'skin', 'but', 'by', 'their', 'character', 'i', 'have', 'a', 'dream', 'today']\n"
     ]
    }
   ],
   "source": [
    "text = create_text()\n",
    "print(text)"
   ]
  },
  {
   "cell_type": "code",
   "execution_count": 5,
   "id": "separate-prayer",
   "metadata": {},
   "outputs": [],
   "source": [
    "def generate_data(text, context_window):\n",
    "    \n",
    "    # Create vocabulary set V\n",
    "    vocab = set(text)\n",
    "    \n",
    "    # Word to index and index 2 word converters\n",
    "    word2index = {w:i for i,w in enumerate(vocab)}\n",
    "    index2word = {i:w for i,w in enumerate(vocab)}\n",
    "    \n",
    "    # Generate data\n",
    "    data = text_to_train(text, context_window)\n",
    "    \n",
    "    return vocab, data, word2index, index2word"
   ]
  },
  {
   "cell_type": "code",
   "execution_count": 6,
   "id": "indie-summer",
   "metadata": {},
   "outputs": [],
   "source": [
    "vocab, data, word2index, index2word = generate_data(text, context_window = 2)"
   ]
  },
  {
   "cell_type": "markdown",
   "id": "b2a876e5-d6f2-4798-8015-810e752d8918",
   "metadata": {},
   "source": [
    "We can see the vocabulary/dictionary of words that are present in the original text."
   ]
  },
  {
   "cell_type": "code",
   "execution_count": 7,
   "id": "presidential-sauce",
   "metadata": {},
   "outputs": [
    {
     "name": "stdout",
     "output_type": "stream",
     "text": [
      "{'urgency', 'down', 'come', 'your', 'together', 'citizenship', 'persons', 'will', 'been', 'moment', 'slaveowners', 'meaning', 'stating', 'mobility', 'basic', 'you', 'pass', 'friends', 'they', 'those', 'justice', 'fatal', 'suffering', 'equality', 'back', 'which', 'emerges', 'fatigue', 'satisfied', 'lodging', 'dignity', 'these', 'like', 'now', 'storms', 'an', 'four', 'nineteen', 'rude', 'autumn', 'today', 'veterans', 'citizens', 'modern', 'stream', 'rolls', 'believes', 'overlook', 'battered', 'south', 'ghettos', 'true', 'have', 'long', 'former', 'deeply', 'freedom', 'character', 'ghetto', 'redemptive', 'a', 'americans', 'whirlwinds', 'has', 'selfhood', 'tribulations', 'tomorrow', 'its', 'blow', 'york', 'equal', 'knowing', 'we', 'is', 'american', 'and', 'nation', 'until', 'colored', 'that', 'if', 'but', 'mississippi', 'revolt', 'america', 'georgia', 'brutality', 'invigorating', 'men', 'waters', 'granted', 'legitimate', 'alabama', 'in', 'to', 'can', 'able', 'little', 'where', 'even', 'left', 'rights', 'us', 'are', 'sons', 'beginning', 'rooted', 'by', 'awakening', 'business', 'the', 'persecutions', 'at', 'louisiana', 'would', 'here', 'creed', 'he', 'heat', 'travel', 'despair', 'hold', 'of', 'returns', 'children', 'robbed', 'discontent', 'some', 'judged', 'bright', 'cannot', 'only', 'day', 'trials', 'carolina', 'slums', 'police', 'tranquility', 'their', 'skin', 'usual', 'sweltering', 'into', 'rise', 'valley', 'oasis', 'difficulties', 'end', 'nor', 'from', 'mighty', 'wallow', 'nothing', 'white', 'who', 'winds', 'summer', 'up', 'steam', 'transformed', 'person', 'my', 'for', 'all', 'red', 'hills', 'cities', 'truths', 'as', 'table', 'continue', 'content', 'live', 'not', 'determination', 'shake', 'slaves', 'work', 'quest', 'peoples', 'hope', 'bodies', 'new', 'needed', 'i', 'one', 'it', 'our', 'somehow', 'changed', 'citizen', 'creative', 'stripped', 'hotels', 'still', 'unmindful', 'smaller', 'this', 'vote', 'color', 'larger', 'go', 'righteousness', 'there', 'sixtythree', 'staggered', 'no', 'situation', 'selfevident', 'oppression', 'never', 'faith', 'dream', 'highways', 'areas', 'am', 'say', 'state', 'be', 'foundations', 'let', 'unearned', 'brotherhood', 'heavy', 'with', 'sit', 'his', 'off', 'rest', 'gain', 'motels', 'signs', 'out', 'neither', 'underestimate', 'created'}\n"
     ]
    }
   ],
   "source": [
    "print(vocab)"
   ]
  },
  {
   "cell_type": "code",
   "execution_count": 8,
   "id": "statewide-passion",
   "metadata": {},
   "outputs": [
    {
     "name": "stdout",
     "output_type": "stream",
     "text": [
      "{'urgency': 0, 'down': 1, 'come': 2, 'your': 3, 'together': 4, 'citizenship': 5, 'persons': 6, 'will': 7, 'been': 8, 'moment': 9, 'slaveowners': 10, 'meaning': 11, 'stating': 12, 'mobility': 13, 'basic': 14, 'you': 15, 'pass': 16, 'friends': 17, 'they': 18, 'those': 19, 'justice': 20, 'fatal': 21, 'suffering': 22, 'equality': 23, 'back': 24, 'which': 25, 'emerges': 26, 'fatigue': 27, 'satisfied': 28, 'lodging': 29, 'dignity': 30, 'these': 31, 'like': 32, 'now': 33, 'storms': 34, 'an': 35, 'four': 36, 'nineteen': 37, 'rude': 38, 'autumn': 39, 'today': 40, 'veterans': 41, 'citizens': 42, 'modern': 43, 'stream': 44, 'rolls': 45, 'believes': 46, 'overlook': 47, 'battered': 48, 'south': 49, 'ghettos': 50, 'true': 51, 'have': 52, 'long': 53, 'former': 54, 'deeply': 55, 'freedom': 56, 'character': 57, 'ghetto': 58, 'redemptive': 59, 'a': 60, 'americans': 61, 'whirlwinds': 62, 'has': 63, 'selfhood': 64, 'tribulations': 65, 'tomorrow': 66, 'its': 67, 'blow': 68, 'york': 69, 'equal': 70, 'knowing': 71, 'we': 72, 'is': 73, 'american': 74, 'and': 75, 'nation': 76, 'until': 77, 'colored': 78, 'that': 79, 'if': 80, 'but': 81, 'mississippi': 82, 'revolt': 83, 'america': 84, 'georgia': 85, 'brutality': 86, 'invigorating': 87, 'men': 88, 'waters': 89, 'granted': 90, 'legitimate': 91, 'alabama': 92, 'in': 93, 'to': 94, 'can': 95, 'able': 96, 'little': 97, 'where': 98, 'even': 99, 'left': 100, 'rights': 101, 'us': 102, 'are': 103, 'sons': 104, 'beginning': 105, 'rooted': 106, 'by': 107, 'awakening': 108, 'business': 109, 'the': 110, 'persecutions': 111, 'at': 112, 'louisiana': 113, 'would': 114, 'here': 115, 'creed': 116, 'he': 117, 'heat': 118, 'travel': 119, 'despair': 120, 'hold': 121, 'of': 122, 'returns': 123, 'children': 124, 'robbed': 125, 'discontent': 126, 'some': 127, 'judged': 128, 'bright': 129, 'cannot': 130, 'only': 131, 'day': 132, 'trials': 133, 'carolina': 134, 'slums': 135, 'police': 136, 'tranquility': 137, 'their': 138, 'skin': 139, 'usual': 140, 'sweltering': 141, 'into': 142, 'rise': 143, 'valley': 144, 'oasis': 145, 'difficulties': 146, 'end': 147, 'nor': 148, 'from': 149, 'mighty': 150, 'wallow': 151, 'nothing': 152, 'white': 153, 'who': 154, 'winds': 155, 'summer': 156, 'up': 157, 'steam': 158, 'transformed': 159, 'person': 160, 'my': 161, 'for': 162, 'all': 163, 'red': 164, 'hills': 165, 'cities': 166, 'truths': 167, 'as': 168, 'table': 169, 'continue': 170, 'content': 171, 'live': 172, 'not': 173, 'determination': 174, 'shake': 175, 'slaves': 176, 'work': 177, 'quest': 178, 'peoples': 179, 'hope': 180, 'bodies': 181, 'new': 182, 'needed': 183, 'i': 184, 'one': 185, 'it': 186, 'our': 187, 'somehow': 188, 'changed': 189, 'citizen': 190, 'creative': 191, 'stripped': 192, 'hotels': 193, 'still': 194, 'unmindful': 195, 'smaller': 196, 'this': 197, 'vote': 198, 'color': 199, 'larger': 200, 'go': 201, 'righteousness': 202, 'there': 203, 'sixtythree': 204, 'staggered': 205, 'no': 206, 'situation': 207, 'selfevident': 208, 'oppression': 209, 'never': 210, 'faith': 211, 'dream': 212, 'highways': 213, 'areas': 214, 'am': 215, 'say': 216, 'state': 217, 'be': 218, 'foundations': 219, 'let': 220, 'unearned': 221, 'brotherhood': 222, 'heavy': 223, 'with': 224, 'sit': 225, 'his': 226, 'off': 227, 'rest': 228, 'gain': 229, 'motels': 230, 'signs': 231, 'out': 232, 'neither': 233, 'underestimate': 234, 'created': 235}\n"
     ]
    }
   ],
   "source": [
    "print(word2index)"
   ]
  },
  {
   "cell_type": "code",
   "execution_count": 9,
   "id": "unique-profession",
   "metadata": {},
   "outputs": [
    {
     "name": "stdout",
     "output_type": "stream",
     "text": [
      "{0: 'urgency', 1: 'down', 2: 'come', 3: 'your', 4: 'together', 5: 'citizenship', 6: 'persons', 7: 'will', 8: 'been', 9: 'moment', 10: 'slaveowners', 11: 'meaning', 12: 'stating', 13: 'mobility', 14: 'basic', 15: 'you', 16: 'pass', 17: 'friends', 18: 'they', 19: 'those', 20: 'justice', 21: 'fatal', 22: 'suffering', 23: 'equality', 24: 'back', 25: 'which', 26: 'emerges', 27: 'fatigue', 28: 'satisfied', 29: 'lodging', 30: 'dignity', 31: 'these', 32: 'like', 33: 'now', 34: 'storms', 35: 'an', 36: 'four', 37: 'nineteen', 38: 'rude', 39: 'autumn', 40: 'today', 41: 'veterans', 42: 'citizens', 43: 'modern', 44: 'stream', 45: 'rolls', 46: 'believes', 47: 'overlook', 48: 'battered', 49: 'south', 50: 'ghettos', 51: 'true', 52: 'have', 53: 'long', 54: 'former', 55: 'deeply', 56: 'freedom', 57: 'character', 58: 'ghetto', 59: 'redemptive', 60: 'a', 61: 'americans', 62: 'whirlwinds', 63: 'has', 64: 'selfhood', 65: 'tribulations', 66: 'tomorrow', 67: 'its', 68: 'blow', 69: 'york', 70: 'equal', 71: 'knowing', 72: 'we', 73: 'is', 74: 'american', 75: 'and', 76: 'nation', 77: 'until', 78: 'colored', 79: 'that', 80: 'if', 81: 'but', 82: 'mississippi', 83: 'revolt', 84: 'america', 85: 'georgia', 86: 'brutality', 87: 'invigorating', 88: 'men', 89: 'waters', 90: 'granted', 91: 'legitimate', 92: 'alabama', 93: 'in', 94: 'to', 95: 'can', 96: 'able', 97: 'little', 98: 'where', 99: 'even', 100: 'left', 101: 'rights', 102: 'us', 103: 'are', 104: 'sons', 105: 'beginning', 106: 'rooted', 107: 'by', 108: 'awakening', 109: 'business', 110: 'the', 111: 'persecutions', 112: 'at', 113: 'louisiana', 114: 'would', 115: 'here', 116: 'creed', 117: 'he', 118: 'heat', 119: 'travel', 120: 'despair', 121: 'hold', 122: 'of', 123: 'returns', 124: 'children', 125: 'robbed', 126: 'discontent', 127: 'some', 128: 'judged', 129: 'bright', 130: 'cannot', 131: 'only', 132: 'day', 133: 'trials', 134: 'carolina', 135: 'slums', 136: 'police', 137: 'tranquility', 138: 'their', 139: 'skin', 140: 'usual', 141: 'sweltering', 142: 'into', 143: 'rise', 144: 'valley', 145: 'oasis', 146: 'difficulties', 147: 'end', 148: 'nor', 149: 'from', 150: 'mighty', 151: 'wallow', 152: 'nothing', 153: 'white', 154: 'who', 155: 'winds', 156: 'summer', 157: 'up', 158: 'steam', 159: 'transformed', 160: 'person', 161: 'my', 162: 'for', 163: 'all', 164: 'red', 165: 'hills', 166: 'cities', 167: 'truths', 168: 'as', 169: 'table', 170: 'continue', 171: 'content', 172: 'live', 173: 'not', 174: 'determination', 175: 'shake', 176: 'slaves', 177: 'work', 178: 'quest', 179: 'peoples', 180: 'hope', 181: 'bodies', 182: 'new', 183: 'needed', 184: 'i', 185: 'one', 186: 'it', 187: 'our', 188: 'somehow', 189: 'changed', 190: 'citizen', 191: 'creative', 192: 'stripped', 193: 'hotels', 194: 'still', 195: 'unmindful', 196: 'smaller', 197: 'this', 198: 'vote', 199: 'color', 200: 'larger', 201: 'go', 202: 'righteousness', 203: 'there', 204: 'sixtythree', 205: 'staggered', 206: 'no', 207: 'situation', 208: 'selfevident', 209: 'oppression', 210: 'never', 211: 'faith', 212: 'dream', 213: 'highways', 214: 'areas', 215: 'am', 216: 'say', 217: 'state', 218: 'be', 219: 'foundations', 220: 'let', 221: 'unearned', 222: 'brotherhood', 223: 'heavy', 224: 'with', 225: 'sit', 226: 'his', 227: 'off', 228: 'rest', 229: 'gain', 230: 'motels', 231: 'signs', 232: 'out', 233: 'neither', 234: 'underestimate', 235: 'created'}\n"
     ]
    }
   ],
   "source": [
    "print(index2word)"
   ]
  },
  {
   "cell_type": "markdown",
   "id": "deb4a061-f57f-48ee-8d98-b81c3f28759f",
   "metadata": {},
   "source": [
    "We can also visualize the dataset, below which looks as expected."
   ]
  },
  {
   "cell_type": "code",
   "execution_count": 10,
   "id": "unavailable-banks",
   "metadata": {},
   "outputs": [
    {
     "name": "stdout",
     "output_type": "stream",
     "text": [
      "[(['i', 'would', 'fatal', 'for'], 'be'), (['would', 'be', 'for', 'the'], 'fatal'), (['be', 'fatal', 'the', 'nation'], 'for'), (['fatal', 'for', 'nation', 'to'], 'the'), (['for', 'the', 'to', 'overlook'], 'nation'), (['the', 'nation', 'overlook', 'the'], 'to'), (['nation', 'to', 'the', 'urgency'], 'overlook'), (['to', 'overlook', 'urgency', 'of'], 'the'), (['overlook', 'the', 'of', 'the'], 'urgency'), (['the', 'urgency', 'the', 'moment'], 'of'), (['urgency', 'of', 'moment', 'and'], 'the'), (['of', 'the', 'and', 'to'], 'moment'), (['the', 'moment', 'to', 'underestimate'], 'and'), (['moment', 'and', 'underestimate', 'the'], 'to'), (['and', 'to', 'the', 'determination'], 'underestimate'), (['to', 'underestimate', 'determination', 'of'], 'the'), (['underestimate', 'the', 'of', 'its'], 'determination'), (['the', 'determination', 'its', 'colored'], 'of'), (['determination', 'of', 'colored', 'citizens'], 'its'), (['of', 'its', 'citizens', 'this'], 'colored'), (['its', 'colored', 'this', 'sweltering'], 'citizens'), (['colored', 'citizens', 'sweltering', 'summer'], 'this'), (['citizens', 'this', 'summer', 'of'], 'sweltering'), (['this', 'sweltering', 'of', 'the'], 'summer'), (['sweltering', 'summer', 'the', 'colored'], 'of'), (['summer', 'of', 'colored', 'peoples'], 'the'), (['of', 'the', 'peoples', 'legitimate'], 'colored'), (['the', 'colored', 'legitimate', 'discontent'], 'peoples'), (['colored', 'peoples', 'discontent', 'will'], 'legitimate'), (['peoples', 'legitimate', 'will', 'not'], 'discontent'), (['legitimate', 'discontent', 'not', 'pass'], 'will'), (['discontent', 'will', 'pass', 'until'], 'not'), (['will', 'not', 'until', 'there'], 'pass'), (['not', 'pass', 'there', 'is'], 'until'), (['pass', 'until', 'is', 'an'], 'there'), (['until', 'there', 'an', 'invigorating'], 'is'), (['there', 'is', 'invigorating', 'autumn'], 'an'), (['is', 'an', 'autumn', 'of'], 'invigorating'), (['an', 'invigorating', 'of', 'freedom'], 'autumn'), (['invigorating', 'autumn', 'freedom', 'and'], 'of'), (['autumn', 'of', 'and', 'equality'], 'freedom'), (['of', 'freedom', 'equality', 'nineteen'], 'and'), (['freedom', 'and', 'nineteen', 'sixtythree'], 'equality'), (['and', 'equality', 'sixtythree', 'is'], 'nineteen'), (['equality', 'nineteen', 'is', 'not'], 'sixtythree'), (['nineteen', 'sixtythree', 'not', 'an'], 'is'), (['sixtythree', 'is', 'an', 'end'], 'not'), (['is', 'not', 'end', 'but'], 'an'), (['not', 'an', 'but', 'a'], 'end'), (['an', 'end', 'a', 'beginning'], 'but'), (['end', 'but', 'beginning', 'those'], 'a'), (['but', 'a', 'those', 'who'], 'beginning'), (['a', 'beginning', 'who', 'hope'], 'those'), (['beginning', 'those', 'hope', 'that'], 'who'), (['those', 'who', 'that', 'the'], 'hope'), (['who', 'hope', 'the', 'colored'], 'that'), (['hope', 'that', 'colored', 'americans'], 'the'), (['that', 'the', 'americans', 'needed'], 'colored'), (['the', 'colored', 'needed', 'to'], 'americans'), (['colored', 'americans', 'to', 'blow'], 'needed'), (['americans', 'needed', 'blow', 'off'], 'to'), (['needed', 'to', 'off', 'steam'], 'blow'), (['to', 'blow', 'steam', 'and'], 'off'), (['blow', 'off', 'and', 'will'], 'steam'), (['off', 'steam', 'will', 'now'], 'and'), (['steam', 'and', 'now', 'be'], 'will'), (['and', 'will', 'be', 'content'], 'now'), (['will', 'now', 'content', 'will'], 'be'), (['now', 'be', 'will', 'have'], 'content'), (['be', 'content', 'have', 'a'], 'will'), (['content', 'will', 'a', 'rude'], 'have'), (['will', 'have', 'rude', 'awakening'], 'a'), (['have', 'a', 'awakening', 'if'], 'rude'), (['a', 'rude', 'if', 'the'], 'awakening'), (['rude', 'awakening', 'the', 'nation'], 'if'), (['awakening', 'if', 'nation', 'returns'], 'the'), (['if', 'the', 'returns', 'to'], 'nation'), (['the', 'nation', 'to', 'business'], 'returns'), (['nation', 'returns', 'business', 'as'], 'to'), (['returns', 'to', 'as', 'usual'], 'business'), (['to', 'business', 'usual', 'there'], 'as'), (['business', 'as', 'there', 'will'], 'usual'), (['as', 'usual', 'will', 'be'], 'there'), (['usual', 'there', 'be', 'neither'], 'will'), (['there', 'will', 'neither', 'rest'], 'be'), (['will', 'be', 'rest', 'nor'], 'neither'), (['be', 'neither', 'nor', 'tranquility'], 'rest'), (['neither', 'rest', 'tranquility', 'in'], 'nor'), (['rest', 'nor', 'in', 'america'], 'tranquility'), (['nor', 'tranquility', 'america', 'until'], 'in'), (['tranquility', 'in', 'until', 'the'], 'america'), (['in', 'america', 'the', 'colored'], 'until'), (['america', 'until', 'colored', 'citizen'], 'the'), (['until', 'the', 'citizen', 'is'], 'colored'), (['the', 'colored', 'is', 'granted'], 'citizen'), (['colored', 'citizen', 'granted', 'his'], 'is'), (['citizen', 'is', 'his', 'citizenship'], 'granted'), (['is', 'granted', 'citizenship', 'rights'], 'his'), (['granted', 'his', 'rights', 'the'], 'citizenship'), (['his', 'citizenship', 'the', 'whirlwinds'], 'rights'), (['citizenship', 'rights', 'whirlwinds', 'of'], 'the'), (['rights', 'the', 'of', 'revolt'], 'whirlwinds'), (['the', 'whirlwinds', 'revolt', 'will'], 'of'), (['whirlwinds', 'of', 'will', 'continue'], 'revolt'), (['of', 'revolt', 'continue', 'to'], 'will'), (['revolt', 'will', 'to', 'shake'], 'continue'), (['will', 'continue', 'shake', 'the'], 'to'), (['continue', 'to', 'the', 'foundations'], 'shake'), (['to', 'shake', 'foundations', 'of'], 'the'), (['shake', 'the', 'of', 'our'], 'foundations'), (['the', 'foundations', 'our', 'nation'], 'of'), (['foundations', 'of', 'nation', 'until'], 'our'), (['of', 'our', 'until', 'the'], 'nation'), (['our', 'nation', 'the', 'bright'], 'until'), (['nation', 'until', 'bright', 'day'], 'the'), (['until', 'the', 'day', 'of'], 'bright'), (['the', 'bright', 'of', 'justice'], 'day'), (['bright', 'day', 'justice', 'emerges'], 'of'), (['day', 'of', 'emerges', 'we'], 'justice'), (['of', 'justice', 'we', 'can'], 'emerges'), (['justice', 'emerges', 'can', 'never'], 'we'), (['emerges', 'we', 'never', 'be'], 'can'), (['we', 'can', 'be', 'satisfied'], 'never'), (['can', 'never', 'satisfied', 'as'], 'be'), (['never', 'be', 'as', 'long'], 'satisfied'), (['be', 'satisfied', 'long', 'as'], 'as'), (['satisfied', 'as', 'as', 'our'], 'long'), (['as', 'long', 'our', 'bodies'], 'as'), (['long', 'as', 'bodies', 'heavy'], 'our'), (['as', 'our', 'heavy', 'with'], 'bodies'), (['our', 'bodies', 'with', 'the'], 'heavy'), (['bodies', 'heavy', 'the', 'fatigue'], 'with'), (['heavy', 'with', 'fatigue', 'of'], 'the'), (['with', 'the', 'of', 'travel'], 'fatigue'), (['the', 'fatigue', 'travel', 'cannot'], 'of'), (['fatigue', 'of', 'cannot', 'gain'], 'travel'), (['of', 'travel', 'gain', 'lodging'], 'cannot'), (['travel', 'cannot', 'lodging', 'in'], 'gain'), (['cannot', 'gain', 'in', 'the'], 'lodging'), (['gain', 'lodging', 'the', 'motels'], 'in'), (['lodging', 'in', 'motels', 'of'], 'the'), (['in', 'the', 'of', 'the'], 'motels'), (['the', 'motels', 'the', 'highways'], 'of'), (['motels', 'of', 'highways', 'and'], 'the'), (['of', 'the', 'and', 'the'], 'highways'), (['the', 'highways', 'the', 'hotels'], 'and'), (['highways', 'and', 'hotels', 'of'], 'the'), (['and', 'the', 'of', 'the'], 'hotels'), (['the', 'hotels', 'the', 'cities'], 'of'), (['hotels', 'of', 'cities', 'we'], 'the'), (['of', 'the', 'we', 'cannot'], 'cities'), (['the', 'cities', 'cannot', 'be'], 'we'), (['cities', 'we', 'be', 'satisfied'], 'cannot'), (['we', 'cannot', 'satisfied', 'as'], 'be'), (['cannot', 'be', 'as', 'long'], 'satisfied'), (['be', 'satisfied', 'long', 'as'], 'as'), (['satisfied', 'as', 'as', 'the'], 'long'), (['as', 'long', 'the', 'colored'], 'as'), (['long', 'as', 'colored', 'persons'], 'the'), (['as', 'the', 'persons', 'basic'], 'colored'), (['the', 'colored', 'basic', 'mobility'], 'persons'), (['colored', 'persons', 'mobility', 'is'], 'basic'), (['persons', 'basic', 'is', 'from'], 'mobility'), (['basic', 'mobility', 'from', 'a'], 'is'), (['mobility', 'is', 'a', 'smaller'], 'from'), (['is', 'from', 'smaller', 'ghetto'], 'a'), (['from', 'a', 'ghetto', 'to'], 'smaller'), (['a', 'smaller', 'to', 'a'], 'ghetto'), (['smaller', 'ghetto', 'a', 'larger'], 'to'), (['ghetto', 'to', 'larger', 'one'], 'a'), (['to', 'a', 'one', 'we'], 'larger'), (['a', 'larger', 'we', 'can'], 'one'), (['larger', 'one', 'can', 'never'], 'we'), (['one', 'we', 'never', 'be'], 'can'), (['we', 'can', 'be', 'satisfied'], 'never'), (['can', 'never', 'satisfied', 'as'], 'be'), (['never', 'be', 'as', 'long'], 'satisfied'), (['be', 'satisfied', 'long', 'as'], 'as'), (['satisfied', 'as', 'as', 'our'], 'long'), (['as', 'long', 'our', 'children'], 'as'), (['long', 'as', 'children', 'are'], 'our'), (['as', 'our', 'are', 'stripped'], 'children'), (['our', 'children', 'stripped', 'of'], 'are'), (['children', 'are', 'of', 'their'], 'stripped'), (['are', 'stripped', 'their', 'selfhood'], 'of'), (['stripped', 'of', 'selfhood', 'and'], 'their'), (['of', 'their', 'and', 'robbed'], 'selfhood'), (['their', 'selfhood', 'robbed', 'of'], 'and'), (['selfhood', 'and', 'of', 'their'], 'robbed'), (['and', 'robbed', 'their', 'dignity'], 'of'), (['robbed', 'of', 'dignity', 'by'], 'their'), (['of', 'their', 'by', 'signs'], 'dignity'), (['their', 'dignity', 'signs', 'stating'], 'by'), (['dignity', 'by', 'stating', 'for'], 'signs'), (['by', 'signs', 'for', 'white'], 'stating'), (['signs', 'stating', 'white', 'only'], 'for'), (['stating', 'for', 'only', 'we'], 'white'), (['for', 'white', 'we', 'cannot'], 'only'), (['white', 'only', 'cannot', 'be'], 'we'), (['only', 'we', 'be', 'satisfied'], 'cannot'), (['we', 'cannot', 'satisfied', 'as'], 'be'), (['cannot', 'be', 'as', 'long'], 'satisfied'), (['be', 'satisfied', 'long', 'as'], 'as'), (['satisfied', 'as', 'as', 'a'], 'long'), (['as', 'long', 'a', 'colored'], 'as'), (['long', 'as', 'colored', 'person'], 'a'), (['as', 'a', 'person', 'in'], 'colored'), (['a', 'colored', 'in', 'mississippi'], 'person'), (['colored', 'person', 'mississippi', 'cannot'], 'in'), (['person', 'in', 'cannot', 'vote'], 'mississippi'), (['in', 'mississippi', 'vote', 'and'], 'cannot'), (['mississippi', 'cannot', 'and', 'a'], 'vote'), (['cannot', 'vote', 'a', 'colored'], 'and'), (['vote', 'and', 'colored', 'person'], 'a'), (['and', 'a', 'person', 'in'], 'colored'), (['a', 'colored', 'in', 'new'], 'person'), (['colored', 'person', 'new', 'york'], 'in'), (['person', 'in', 'york', 'believes'], 'new'), (['in', 'new', 'believes', 'he'], 'york'), (['new', 'york', 'he', 'has'], 'believes'), (['york', 'believes', 'has', 'nothing'], 'he'), (['believes', 'he', 'nothing', 'for'], 'has'), (['he', 'has', 'for', 'which'], 'nothing'), (['has', 'nothing', 'which', 'to'], 'for'), (['nothing', 'for', 'to', 'vote'], 'which'), (['for', 'which', 'vote', 'no'], 'to'), (['which', 'to', 'no', 'no'], 'vote'), (['to', 'vote', 'no', 'we'], 'no'), (['vote', 'no', 'we', 'are'], 'no'), (['no', 'no', 'are', 'not'], 'we'), (['no', 'we', 'not', 'satisfied'], 'are'), (['we', 'are', 'satisfied', 'and'], 'not'), (['are', 'not', 'and', 'we'], 'satisfied'), (['not', 'satisfied', 'we', 'will'], 'and'), (['satisfied', 'and', 'will', 'not'], 'we'), (['and', 'we', 'not', 'be'], 'will'), (['we', 'will', 'be', 'satisfied'], 'not'), (['will', 'not', 'satisfied', 'until'], 'be'), (['not', 'be', 'until', 'justice'], 'satisfied'), (['be', 'satisfied', 'justice', 'rolls'], 'until'), (['satisfied', 'until', 'rolls', 'down'], 'justice'), (['until', 'justice', 'down', 'like'], 'rolls'), (['justice', 'rolls', 'like', 'waters'], 'down'), (['rolls', 'down', 'waters', 'and'], 'like'), (['down', 'like', 'and', 'righteousness'], 'waters'), (['like', 'waters', 'righteousness', 'like'], 'and'), (['waters', 'and', 'like', 'a'], 'righteousness'), (['and', 'righteousness', 'a', 'mighty'], 'like'), (['righteousness', 'like', 'mighty', 'stream'], 'a'), (['like', 'a', 'stream', 'i'], 'mighty'), (['a', 'mighty', 'i', 'am'], 'stream'), (['mighty', 'stream', 'am', 'not'], 'i'), (['stream', 'i', 'not', 'unmindful'], 'am'), (['i', 'am', 'unmindful', 'that'], 'not'), (['am', 'not', 'that', 'some'], 'unmindful'), (['not', 'unmindful', 'some', 'of'], 'that'), (['unmindful', 'that', 'of', 'you'], 'some'), (['that', 'some', 'you', 'have'], 'of'), (['some', 'of', 'have', 'come'], 'you'), (['of', 'you', 'come', 'here'], 'have'), (['you', 'have', 'here', 'out'], 'come'), (['have', 'come', 'out', 'of'], 'here'), (['come', 'here', 'of', 'your'], 'out'), (['here', 'out', 'your', 'trials'], 'of'), (['out', 'of', 'trials', 'and'], 'your'), (['of', 'your', 'and', 'tribulations'], 'trials'), (['your', 'trials', 'tribulations', 'some'], 'and'), (['trials', 'and', 'some', 'of'], 'tribulations'), (['and', 'tribulations', 'of', 'you'], 'some'), (['tribulations', 'some', 'you', 'have'], 'of'), (['some', 'of', 'have', 'come'], 'you'), (['of', 'you', 'come', 'from'], 'have'), (['you', 'have', 'from', 'areas'], 'come'), (['have', 'come', 'areas', 'where'], 'from'), (['come', 'from', 'where', 'your'], 'areas'), (['from', 'areas', 'your', 'quest'], 'where'), (['areas', 'where', 'quest', 'for'], 'your'), (['where', 'your', 'for', 'freedom'], 'quest'), (['your', 'quest', 'freedom', 'left'], 'for'), (['quest', 'for', 'left', 'you'], 'freedom'), (['for', 'freedom', 'you', 'battered'], 'left'), (['freedom', 'left', 'battered', 'by'], 'you'), (['left', 'you', 'by', 'storms'], 'battered'), (['you', 'battered', 'storms', 'of'], 'by'), (['battered', 'by', 'of', 'persecutions'], 'storms'), (['by', 'storms', 'persecutions', 'and'], 'of'), (['storms', 'of', 'and', 'staggered'], 'persecutions'), (['of', 'persecutions', 'staggered', 'by'], 'and'), (['persecutions', 'and', 'by', 'the'], 'staggered'), (['and', 'staggered', 'the', 'winds'], 'by'), (['staggered', 'by', 'winds', 'of'], 'the'), (['by', 'the', 'of', 'police'], 'winds'), (['the', 'winds', 'police', 'brutality'], 'of'), (['winds', 'of', 'brutality', 'you'], 'police'), (['of', 'police', 'you', 'have'], 'brutality'), (['police', 'brutality', 'have', 'been'], 'you'), (['brutality', 'you', 'been', 'the'], 'have'), (['you', 'have', 'the', 'veterans'], 'been'), (['have', 'been', 'veterans', 'of'], 'the'), (['been', 'the', 'of', 'creative'], 'veterans'), (['the', 'veterans', 'creative', 'suffering'], 'of'), (['veterans', 'of', 'suffering', 'continue'], 'creative'), (['of', 'creative', 'continue', 'to'], 'suffering'), (['creative', 'suffering', 'to', 'work'], 'continue'), (['suffering', 'continue', 'work', 'with'], 'to'), (['continue', 'to', 'with', 'the'], 'work'), (['to', 'work', 'the', 'faith'], 'with'), (['work', 'with', 'faith', 'that'], 'the'), (['with', 'the', 'that', 'unearned'], 'faith'), (['the', 'faith', 'unearned', 'suffering'], 'that'), (['faith', 'that', 'suffering', 'is'], 'unearned'), (['that', 'unearned', 'is', 'redemptive'], 'suffering'), (['unearned', 'suffering', 'redemptive', 'go'], 'is'), (['suffering', 'is', 'go', 'back'], 'redemptive'), (['is', 'redemptive', 'back', 'to'], 'go'), (['redemptive', 'go', 'to', 'mississippi'], 'back'), (['go', 'back', 'mississippi', 'go'], 'to'), (['back', 'to', 'go', 'back'], 'mississippi'), (['to', 'mississippi', 'back', 'to'], 'go'), (['mississippi', 'go', 'to', 'alabama'], 'back'), (['go', 'back', 'alabama', 'go'], 'to'), (['back', 'to', 'go', 'back'], 'alabama'), (['to', 'alabama', 'back', 'to'], 'go'), (['alabama', 'go', 'to', 'south'], 'back'), (['go', 'back', 'south', 'carolina'], 'to'), (['back', 'to', 'carolina', 'go'], 'south'), (['to', 'south', 'go', 'back'], 'carolina'), (['south', 'carolina', 'back', 'to'], 'go'), (['carolina', 'go', 'to', 'georgia'], 'back'), (['go', 'back', 'georgia', 'go'], 'to'), (['back', 'to', 'go', 'back'], 'georgia'), (['to', 'georgia', 'back', 'to'], 'go'), (['georgia', 'go', 'to', 'louisiana'], 'back'), (['go', 'back', 'louisiana', 'go'], 'to'), (['back', 'to', 'go', 'back'], 'louisiana'), (['to', 'louisiana', 'back', 'to'], 'go'), (['louisiana', 'go', 'to', 'the'], 'back'), (['go', 'back', 'the', 'slums'], 'to'), (['back', 'to', 'slums', 'and'], 'the'), (['to', 'the', 'and', 'ghettos'], 'slums'), (['the', 'slums', 'ghettos', 'of'], 'and'), (['slums', 'and', 'of', 'our'], 'ghettos'), (['and', 'ghettos', 'our', 'modern'], 'of'), (['ghettos', 'of', 'modern', 'cities'], 'our'), (['of', 'our', 'cities', 'knowing'], 'modern'), (['our', 'modern', 'knowing', 'that'], 'cities'), (['modern', 'cities', 'that', 'somehow'], 'knowing'), (['cities', 'knowing', 'somehow', 'this'], 'that'), (['knowing', 'that', 'this', 'situation'], 'somehow'), (['that', 'somehow', 'situation', 'can'], 'this'), (['somehow', 'this', 'can', 'and'], 'situation'), (['this', 'situation', 'and', 'will'], 'can'), (['situation', 'can', 'will', 'be'], 'and'), (['can', 'and', 'be', 'changed'], 'will'), (['and', 'will', 'changed', 'let'], 'be'), (['will', 'be', 'let', 'us'], 'changed'), (['be', 'changed', 'us', 'not'], 'let'), (['changed', 'let', 'not', 'wallow'], 'us'), (['let', 'us', 'wallow', 'in'], 'not'), (['us', 'not', 'in', 'the'], 'wallow'), (['not', 'wallow', 'the', 'valley'], 'in'), (['wallow', 'in', 'valley', 'of'], 'the'), (['in', 'the', 'of', 'despair'], 'valley'), (['the', 'valley', 'despair', 'i'], 'of'), (['valley', 'of', 'i', 'say'], 'despair'), (['of', 'despair', 'say', 'to'], 'i'), (['despair', 'i', 'to', 'you'], 'say'), (['i', 'say', 'you', 'my'], 'to'), (['say', 'to', 'my', 'friends'], 'you'), (['to', 'you', 'friends', 'we'], 'my'), (['you', 'my', 'we', 'have'], 'friends'), (['my', 'friends', 'have', 'the'], 'we'), (['friends', 'we', 'the', 'difficulties'], 'have'), (['we', 'have', 'difficulties', 'of'], 'the'), (['have', 'the', 'of', 'today'], 'difficulties'), (['the', 'difficulties', 'today', 'and'], 'of'), (['difficulties', 'of', 'and', 'tomorrow'], 'today'), (['of', 'today', 'tomorrow', 'i'], 'and'), (['today', 'and', 'i', 'still'], 'tomorrow'), (['and', 'tomorrow', 'still', 'have'], 'i'), (['tomorrow', 'i', 'have', 'a'], 'still'), (['i', 'still', 'a', 'dream'], 'have'), (['still', 'have', 'dream', 'it'], 'a'), (['have', 'a', 'it', 'is'], 'dream'), (['a', 'dream', 'is', 'a'], 'it'), (['dream', 'it', 'a', 'dream'], 'is'), (['it', 'is', 'dream', 'deeply'], 'a'), (['is', 'a', 'deeply', 'rooted'], 'dream'), (['a', 'dream', 'rooted', 'in'], 'deeply'), (['dream', 'deeply', 'in', 'the'], 'rooted'), (['deeply', 'rooted', 'the', 'american'], 'in'), (['rooted', 'in', 'american', 'dream'], 'the'), (['in', 'the', 'dream', 'i'], 'american'), (['the', 'american', 'i', 'have'], 'dream'), (['american', 'dream', 'have', 'a'], 'i'), (['dream', 'i', 'a', 'dream'], 'have'), (['i', 'have', 'dream', 'that'], 'a'), (['have', 'a', 'that', 'one'], 'dream'), (['a', 'dream', 'one', 'day'], 'that'), (['dream', 'that', 'day', 'this'], 'one'), (['that', 'one', 'this', 'nation'], 'day'), (['one', 'day', 'nation', 'will'], 'this'), (['day', 'this', 'will', 'rise'], 'nation'), (['this', 'nation', 'rise', 'up'], 'will'), (['nation', 'will', 'up', 'and'], 'rise'), (['will', 'rise', 'and', 'live'], 'up'), (['rise', 'up', 'live', 'out'], 'and'), (['up', 'and', 'out', 'the'], 'live'), (['and', 'live', 'the', 'true'], 'out'), (['live', 'out', 'true', 'meaning'], 'the'), (['out', 'the', 'meaning', 'of'], 'true'), (['the', 'true', 'of', 'its'], 'meaning'), (['true', 'meaning', 'its', 'creed'], 'of'), (['meaning', 'of', 'creed', 'we'], 'its'), (['of', 'its', 'we', 'hold'], 'creed'), (['its', 'creed', 'hold', 'these'], 'we'), (['creed', 'we', 'these', 'truths'], 'hold'), (['we', 'hold', 'truths', 'to'], 'these'), (['hold', 'these', 'to', 'be'], 'truths'), (['these', 'truths', 'be', 'selfevident'], 'to'), (['truths', 'to', 'selfevident', 'that'], 'be'), (['to', 'be', 'that', 'all'], 'selfevident'), (['be', 'selfevident', 'all', 'men'], 'that'), (['selfevident', 'that', 'men', 'are'], 'all'), (['that', 'all', 'are', 'created'], 'men'), (['all', 'men', 'created', 'equal'], 'are'), (['men', 'are', 'equal', 'i'], 'created'), (['are', 'created', 'i', 'have'], 'equal'), (['created', 'equal', 'have', 'a'], 'i'), (['equal', 'i', 'a', 'dream'], 'have'), (['i', 'have', 'dream', 'that'], 'a'), (['have', 'a', 'that', 'one'], 'dream'), (['a', 'dream', 'one', 'day'], 'that'), (['dream', 'that', 'day', 'out'], 'one'), (['that', 'one', 'out', 'in'], 'day'), (['one', 'day', 'in', 'the'], 'out'), (['day', 'out', 'the', 'red'], 'in'), (['out', 'in', 'red', 'hills'], 'the'), (['in', 'the', 'hills', 'of'], 'red'), (['the', 'red', 'of', 'georgia'], 'hills'), (['red', 'hills', 'georgia', 'the'], 'of'), (['hills', 'of', 'the', 'sons'], 'georgia'), (['of', 'georgia', 'sons', 'of'], 'the'), (['georgia', 'the', 'of', 'former'], 'sons'), (['the', 'sons', 'former', 'slaves'], 'of'), (['sons', 'of', 'slaves', 'and'], 'former'), (['of', 'former', 'and', 'the'], 'slaves'), (['former', 'slaves', 'the', 'sons'], 'and'), (['slaves', 'and', 'sons', 'of'], 'the'), (['and', 'the', 'of', 'former'], 'sons'), (['the', 'sons', 'former', 'slaveowners'], 'of'), (['sons', 'of', 'slaveowners', 'will'], 'former'), (['of', 'former', 'will', 'be'], 'slaveowners'), (['former', 'slaveowners', 'be', 'able'], 'will'), (['slaveowners', 'will', 'able', 'to'], 'be'), (['will', 'be', 'to', 'sit'], 'able'), (['be', 'able', 'sit', 'down'], 'to'), (['able', 'to', 'down', 'together'], 'sit'), (['to', 'sit', 'together', 'at'], 'down'), (['sit', 'down', 'at', 'the'], 'together'), (['down', 'together', 'the', 'table'], 'at'), (['together', 'at', 'table', 'of'], 'the'), (['at', 'the', 'of', 'brotherhood'], 'table'), (['the', 'table', 'brotherhood', 'i'], 'of'), (['table', 'of', 'i', 'have'], 'brotherhood'), (['of', 'brotherhood', 'have', 'a'], 'i'), (['brotherhood', 'i', 'a', 'dream'], 'have'), (['i', 'have', 'dream', 'that'], 'a'), (['have', 'a', 'that', 'one'], 'dream'), (['a', 'dream', 'one', 'day'], 'that'), (['dream', 'that', 'day', 'even'], 'one'), (['that', 'one', 'even', 'the'], 'day'), (['one', 'day', 'the', 'state'], 'even'), (['day', 'even', 'state', 'of'], 'the'), (['even', 'the', 'of', 'mississippi'], 'state'), (['the', 'state', 'mississippi', 'a'], 'of'), (['state', 'of', 'a', 'state'], 'mississippi'), (['of', 'mississippi', 'state', 'sweltering'], 'a'), (['mississippi', 'a', 'sweltering', 'with'], 'state'), (['a', 'state', 'with', 'the'], 'sweltering'), (['state', 'sweltering', 'the', 'heat'], 'with'), (['sweltering', 'with', 'heat', 'of'], 'the'), (['with', 'the', 'of', 'oppression'], 'heat'), (['the', 'heat', 'oppression', 'will'], 'of'), (['heat', 'of', 'will', 'be'], 'oppression'), (['of', 'oppression', 'be', 'transformed'], 'will'), (['oppression', 'will', 'transformed', 'into'], 'be'), (['will', 'be', 'into', 'an'], 'transformed'), (['be', 'transformed', 'an', 'oasis'], 'into'), (['transformed', 'into', 'oasis', 'of'], 'an'), (['into', 'an', 'of', 'freedom'], 'oasis'), (['an', 'oasis', 'freedom', 'and'], 'of'), (['oasis', 'of', 'and', 'justice'], 'freedom'), (['of', 'freedom', 'justice', 'i'], 'and'), (['freedom', 'and', 'i', 'have'], 'justice'), (['and', 'justice', 'have', 'a'], 'i'), (['justice', 'i', 'a', 'dream'], 'have'), (['i', 'have', 'dream', 'that'], 'a'), (['have', 'a', 'that', 'my'], 'dream'), (['a', 'dream', 'my', 'four'], 'that'), (['dream', 'that', 'four', 'little'], 'my'), (['that', 'my', 'little', 'children'], 'four'), (['my', 'four', 'children', 'will'], 'little'), (['four', 'little', 'will', 'one'], 'children'), (['little', 'children', 'one', 'day'], 'will'), (['children', 'will', 'day', 'live'], 'one'), (['will', 'one', 'live', 'in'], 'day'), (['one', 'day', 'in', 'a'], 'live'), (['day', 'live', 'a', 'nation'], 'in'), (['live', 'in', 'nation', 'where'], 'a'), (['in', 'a', 'where', 'they'], 'nation'), (['a', 'nation', 'they', 'will'], 'where'), (['nation', 'where', 'will', 'not'], 'they'), (['where', 'they', 'not', 'be'], 'will'), (['they', 'will', 'be', 'judged'], 'not'), (['will', 'not', 'judged', 'by'], 'be'), (['not', 'be', 'by', 'the'], 'judged'), (['be', 'judged', 'the', 'color'], 'by'), (['judged', 'by', 'color', 'of'], 'the'), (['by', 'the', 'of', 'their'], 'color'), (['the', 'color', 'their', 'skin'], 'of'), (['color', 'of', 'skin', 'but'], 'their'), (['of', 'their', 'but', 'by'], 'skin'), (['their', 'skin', 'by', 'their'], 'but'), (['skin', 'but', 'their', 'character'], 'by'), (['but', 'by', 'character', 'i'], 'their'), (['by', 'their', 'i', 'have'], 'character'), (['their', 'character', 'have', 'a'], 'i'), (['character', 'i', 'a', 'dream'], 'have'), (['i', 'have', 'dream', 'today'], 'a')]\n"
     ]
    }
   ],
   "source": [
    "print(data)"
   ]
  },
  {
   "cell_type": "markdown",
   "id": "4e5a0646-9bac-4ee0-9672-2ac8141c3b26",
   "metadata": {},
   "source": [
    "This last function is a helper function that will allow us to rapidly convert words into tensors."
   ]
  },
  {
   "cell_type": "code",
   "execution_count": 11,
   "id": "golden-tokyo",
   "metadata": {},
   "outputs": [],
   "source": [
    "def words_to_tensor(words: list, w2i: dict, dtype = torch.FloatTensor):\n",
    "    tensor =  dtype([w2i[word] for word in words])\n",
    "    tensor = tensor.to(device)\n",
    "    return Variable(tensor)"
   ]
  },
  {
   "cell_type": "markdown",
   "id": "destroyed-excuse",
   "metadata": {},
   "source": [
    "### Step 2. Create a CBoW model and train\n",
    "\n",
    "Our CBoW model will consist of a simple Embedding layer, a summation aggregating the context of the words in the sentence, and a Linear layer predicting the missing word."
   ]
  },
  {
   "cell_type": "code",
   "execution_count": 12,
   "id": "higher-kentucky",
   "metadata": {},
   "outputs": [],
   "source": [
    "class CBOW(nn.Module):\n",
    "\n",
    "    def __init__(self, context_size, embedding_size, vocab_size):\n",
    "        super(CBOW, self).__init__()\n",
    "        self.embeddings = nn.Embedding(vocab_size, embedding_size)\n",
    "        self.linear = nn.Linear(embedding_size, vocab_size)\n",
    "\n",
    "    def forward(self, inputs):\n",
    "        lookup_embeds = self.embeddings(inputs)\n",
    "        embeds = lookup_embeds.sum(dim = 0)\n",
    "        out = self.linear(embeds)\n",
    "        #out = F.log_softmax(out, dim = -1)\n",
    "        return out"
   ]
  },
  {
   "cell_type": "code",
   "execution_count": 13,
   "id": "civilian-tongue",
   "metadata": {},
   "outputs": [
    {
     "data": {
      "text/plain": [
       "CBOW(\n",
       "  (embeddings): Embedding(236, 20)\n",
       "  (linear): Linear(in_features=20, out_features=236, bias=True)\n",
       ")"
      ]
     },
     "execution_count": 13,
     "metadata": {},
     "output_type": "execute_result"
    }
   ],
   "source": [
    "# Create model and pass to CUDA\n",
    "model = CBOW(context_size = 2, embedding_size = 20, vocab_size = len(vocab))\n",
    "model = model.to(device)\n",
    "model.train()"
   ]
  },
  {
   "cell_type": "markdown",
   "id": "3ecec038-3869-4152-8944-496f3faf7a94",
   "metadata": {},
   "source": [
    "We will then train the model as before approaching the task of predicting the missing word as a multi-class classification task."
   ]
  },
  {
   "cell_type": "code",
   "execution_count": 14,
   "id": "swiss-directive",
   "metadata": {},
   "outputs": [],
   "source": [
    "# Define training parameters\n",
    "learning_rate = 0.001\n",
    "epochs = 500\n",
    "torch.manual_seed(28)\n",
    "loss_func = nn.CrossEntropyLoss()\n",
    "optimizer = optim.SGD(model.parameters(), lr = learning_rate)"
   ]
  },
  {
   "cell_type": "markdown",
   "id": "108aa1d7-93f7-4d64-997d-19a3f0bca5ab",
   "metadata": {},
   "source": [
    "Some helpers functions below, before we define our trainer function."
   ]
  },
  {
   "cell_type": "code",
   "execution_count": 15,
   "id": "behavioral-smell",
   "metadata": {},
   "outputs": [],
   "source": [
    "def get_prediction(context, model, word2index, index2word):\n",
    "    \n",
    "    # Get into eval() mode\n",
    "    model.eval()\n",
    "    ids = words_to_tensor(context, word2index, dtype = torch.LongTensor)\n",
    "    \n",
    "    # Forward pass\n",
    "    prediction = model(ids)\n",
    "    # Reshape to cover for absence of minibatches (needed for loss function)\n",
    "    prediction = torch.reshape(prediction, (1, 236))\n",
    "    _, index = torch.max(prediction, 1)\n",
    "    \n",
    "    return index2word[index.item()]"
   ]
  },
  {
   "cell_type": "code",
   "execution_count": 16,
   "id": "functional-session",
   "metadata": {},
   "outputs": [],
   "source": [
    "def check_accuracy(model, data, word2index, index2word):\n",
    "    \n",
    "    # Compute accuracy\n",
    "    correct = 0\n",
    "    for context, target in data:\n",
    "        prediction = get_prediction(context, model, word2index, index2word)\n",
    "        if prediction == target:\n",
    "            correct += 1\n",
    "            \n",
    "    return correct/len(data)"
   ]
  },
  {
   "cell_type": "code",
   "execution_count": 17,
   "id": "periodic-native",
   "metadata": {},
   "outputs": [
    {
     "name": "stdout",
     "output_type": "stream",
     "text": [
      "Accuracy after epoch 0 is 0.0018867924528301887\n",
      "Accuracy after epoch 10 is 0.17169811320754716\n",
      "Accuracy after epoch 20 is 0.2528301886792453\n",
      "Accuracy after epoch 30 is 0.27735849056603773\n",
      "Accuracy after epoch 40 is 0.31886792452830187\n",
      "Accuracy after epoch 50 is 0.35660377358490564\n",
      "Accuracy after epoch 60 is 0.4056603773584906\n",
      "Accuracy after epoch 70 is 0.46037735849056605\n",
      "Accuracy after epoch 80 is 0.530188679245283\n",
      "Accuracy after epoch 90 is 0.5641509433962264\n",
      "Accuracy after epoch 100 is 0.6075471698113207\n",
      "Accuracy after epoch 110 is 0.6339622641509434\n",
      "Accuracy after epoch 120 is 0.6660377358490566\n",
      "Accuracy after epoch 130 is 0.7\n",
      "Accuracy after epoch 140 is 0.730188679245283\n",
      "Accuracy after epoch 150 is 0.7415094339622641\n",
      "Accuracy after epoch 160 is 0.7584905660377359\n",
      "Accuracy after epoch 170 is 0.7773584905660378\n",
      "Accuracy after epoch 180 is 0.7924528301886793\n",
      "Accuracy after epoch 190 is 0.8037735849056604\n",
      "Accuracy after epoch 200 is 0.8264150943396227\n",
      "Accuracy after epoch 210 is 0.839622641509434\n",
      "Accuracy after epoch 220 is 0.8603773584905661\n",
      "Accuracy after epoch 230 is 0.8641509433962264\n",
      "Accuracy after epoch 240 is 0.8735849056603774\n",
      "Accuracy after epoch 250 is 0.879245283018868\n",
      "Accuracy after epoch 260 is 0.8849056603773585\n",
      "Accuracy after epoch 270 is 0.8981132075471698\n",
      "Accuracy after epoch 280 is 0.909433962264151\n",
      "Accuracy after epoch 290 is 0.9113207547169812\n",
      "Accuracy after epoch 300 is 0.9188679245283019\n",
      "Accuracy after epoch 310 is 0.9264150943396227\n",
      "Accuracy after epoch 320 is 0.930188679245283\n",
      "Accuracy after epoch 330 is 0.9358490566037736\n",
      "Accuracy after epoch 340 is 0.9415094339622642\n",
      "Accuracy after epoch 350 is 0.9490566037735849\n",
      "Accuracy after epoch 360 is 0.9547169811320755\n",
      "Accuracy after epoch 370 is 0.9547169811320755\n",
      "Accuracy after epoch 380 is 0.9566037735849057\n",
      "Accuracy after epoch 390 is 0.9622641509433962\n",
      "Accuracy after epoch 400 is 0.9641509433962264\n",
      "Accuracy after epoch 410 is 0.9679245283018868\n",
      "Accuracy after epoch 420 is 0.9679245283018868\n",
      "Accuracy after epoch 430 is 0.9679245283018868\n",
      "Accuracy after epoch 440 is 0.9716981132075472\n",
      "Accuracy after epoch 450 is 0.9754716981132076\n",
      "Accuracy after epoch 460 is 0.9773584905660377\n",
      "Accuracy after epoch 470 is 0.9773584905660377\n",
      "Accuracy after epoch 480 is 0.9792452830188679\n",
      "Accuracy after epoch 490 is 0.9792452830188679\n"
     ]
    }
   ],
   "source": [
    "losses = []\n",
    "accuracies = []\n",
    "\n",
    "for epoch in range(epochs):\n",
    "    total_loss = 0\n",
    "    \n",
    "    for context, target in data:\n",
    "        \n",
    "        # Prepare data\n",
    "        ids = words_to_tensor(context, word2index, dtype = torch.LongTensor)\n",
    "        target = words_to_tensor([target], word2index, dtype = torch.LongTensor)\n",
    "        \n",
    "        # Forward pass\n",
    "        model.zero_grad()\n",
    "        output = model(ids)\n",
    "        # Reshape to cover for absence of minibatches (needed for loss function)\n",
    "        output = torch.reshape(output, (1, 236))\n",
    "        loss = loss_func(output, target)\n",
    "        \n",
    "        # Backward pass and optim\n",
    "        loss.backward()\n",
    "        optimizer.step()\n",
    "        \n",
    "        # Loss update\n",
    "        total_loss += loss.data.item()\n",
    "    \n",
    "    # Display\n",
    "    if epoch % 10 == 0:\n",
    "        accuracy = check_accuracy(model, data, word2index, index2word)\n",
    "        print(\"Accuracy after epoch {} is {}\".format(epoch, accuracy))\n",
    "        accuracies.append(accuracy)\n",
    "        losses.append(total_loss)"
   ]
  },
  {
   "cell_type": "markdown",
   "id": "geological-statistics",
   "metadata": {},
   "source": [
    "### 3. Visualization\n",
    "\n",
    "The model trains nicely and seems very capable at predicting the missing word in each context of 2k words."
   ]
  },
  {
   "cell_type": "code",
   "execution_count": 18,
   "id": "gross-affect",
   "metadata": {},
   "outputs": [
    {
     "data": {
      "image/png": "[encoded data removed]",
      "text/plain": [
       "<Figure size 640x480 with 1 Axes>"
      ]
     },
     "metadata": {},
     "output_type": "display_data"
    }
   ],
   "source": [
    "# Display losses over time\n",
    "plt.figure()\n",
    "plt.plot(losses)\n",
    "plt.show()"
   ]
  },
  {
   "cell_type": "code",
   "execution_count": 19,
   "id": "embedded-judge",
   "metadata": {},
   "outputs": [
    {
     "data": {
      "image/png": "[encoded data removed]",
      "text/plain": [
       "<Figure size 640x480 with 1 Axes>"
      ]
     },
     "metadata": {},
     "output_type": "display_data"
    }
   ],
   "source": [
    "# Display accuracy over time\n",
    "plt.figure()\n",
    "plt.plot(accuracies)\n",
    "plt.show()"
   ]
  },
  {
   "cell_type": "markdown",
   "id": "e9a0c193-f492-4cc1-868a-6dd0e7205e90",
   "metadata": {},
   "source": [
    "We can later on, extract the embedding layer and visualize the word embedding for any word in the vocabulary.\n",
    "\n",
    "This embedding layer could then be reused for other NLP tasks."
   ]
  },
  {
   "cell_type": "code",
   "execution_count": 20,
   "id": "promising-millennium",
   "metadata": {},
   "outputs": [
    {
     "name": "stdout",
     "output_type": "stream",
     "text": [
      "tensor([ 1.0422,  0.4315,  0.3469,  0.5487, -0.3045, -0.3975, -1.9397,  0.3174,\n",
      "         0.1760,  0.0712,  0.4417, -1.2630, -0.8395,  0.1130,  0.0573,  0.5997,\n",
      "        -1.2630, -0.4994,  1.7413, -0.2182], device='cuda:0',\n",
      "       grad_fn=<ReshapeAliasBackward0>)\n",
      "tensor([ 0.5541, -1.5371, -0.5007,  0.4386, -0.5770, -0.5330,  0.6207, -1.2229,\n",
      "        -0.7525, -1.2030, -1.3367,  1.4306, -0.7401, -1.1309,  0.1265,  0.0560,\n",
      "         1.2429, -0.8027,  0.8652, -0.6612], device='cuda:0',\n",
      "       grad_fn=<ReshapeAliasBackward0>)\n",
      "tensor([-1.9887, -1.9659, -1.9231, -1.5314,  0.4499,  0.9343, -0.4531, -0.3294,\n",
      "         0.8052,  1.1817,  0.1699,  0.4783, -0.9813, -0.8512,  0.2793, -0.1641,\n",
      "        -0.0837, -1.6092,  0.1099,  1.0694], device='cuda:0',\n",
      "       grad_fn=<ReshapeAliasBackward0>)\n"
     ]
    }
   ],
   "source": [
    "word1 = words_to_tensor([\"americans\"], word2index, dtype = torch.LongTensor)\n",
    "word2 = words_to_tensor([\"citizens\"], word2index, dtype = torch.LongTensor)\n",
    "word3 = words_to_tensor([\"carolina\"], word2index, dtype = torch.LongTensor)\n",
    "w1 = torch.reshape(model.embeddings(word1), (20,))\n",
    "w2 = torch.reshape(model.embeddings(word2), (20,))\n",
    "w3 = torch.reshape(model.embeddings(word3), (20,))\n",
    "print(w1)\n",
    "print(w2)\n",
    "print(w3)"
   ]
  },
  {
   "cell_type": "code",
   "execution_count": null,
   "id": "seventh-scout",
   "metadata": {},
   "outputs": [],
   "source": []
  }
 ],
 "metadata": {
  "kernelspec": {
   "display_name": "Python 3 (ipykernel)",
   "language": "python",
   "name": "python3"
  },
  "language_info": {
   "codemirror_mode": {
    "name": "ipython",
    "version": 3
   },
   "file_extension": ".py",
   "mimetype": "text/x-python",
   "name": "python",
   "nbconvert_exporter": "python",
   "pygments_lexer": "ipython3",
   "version": "3.11.5"
  }
 },
 "nbformat": 4,
 "nbformat_minor": 5
}
