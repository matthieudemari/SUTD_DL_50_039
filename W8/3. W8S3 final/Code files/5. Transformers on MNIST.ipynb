{
 "cells": [
  {
   "cell_type": "markdown",
   "id": "0c953f0a",
   "metadata": {},
   "source": [
    "# 5. Transformers on MNIST\n",
    "\n",
    "### About this notebook\n",
    "\n",
    "This notebook was used in the 50.039 Deep Learning course at the Singapore University of Technology and Design.\n",
    "\n",
    "**Author:** Matthieu DE MARI (matthieu_demari@sutd.edu.sg)\n",
    "\n",
    "**Version:** 1.0 (28/02/2023)\n",
    "\n",
    "**Requirements:**\n",
    "- Python 3 (tested on v3.9.6)\n",
    "- Torch (tested on v1.10.1)\n",
    "- Torchvision (tested on v0.11.2)\n",
    "- We also strongly recommend setting up CUDA on your machine!\n",
    "\n",
    "### Imports and CUDA"
   ]
  },
  {
   "cell_type": "code",
   "execution_count": 1,
   "id": "e780228f",
   "metadata": {},
   "outputs": [],
   "source": [
    "import torch\n",
    "import torch.nn as nn\n",
    "import torch.nn.functional as F\n",
    "import torchvision.transforms as transforms\n",
    "import torchvision.datasets as datasets\n",
    "CUDA = torch.cuda.is_available()\n",
    "device = torch.device(\"cuda\" if CUDA else \"cpu\")"
   ]
  },
  {
   "cell_type": "markdown",
   "id": "16b348e5",
   "metadata": {},
   "source": [
    "### Load MNIST"
   ]
  },
  {
   "cell_type": "code",
   "execution_count": 2,
   "id": "b55e58f1",
   "metadata": {},
   "outputs": [],
   "source": [
    "# Load the MNIST dataset and prepare dataloaders as usual\n",
    "mnist_train = datasets.MNIST(root='.', train = True, download = True,\n",
    "                             transform = transforms.ToTensor())\n",
    "mnist_test = datasets.MNIST(root='.', train = False, download = True,\n",
    "                            transform = transforms.ToTensor())\n",
    "train_loader = torch.utils.data.DataLoader(mnist_train, batch_size = 32, shuffle = True)\n",
    "test_loader = torch.utils.data.DataLoader(mnist_test, batch_size = 32, shuffle = False)"
   ]
  },
  {
   "cell_type": "markdown",
   "id": "c0ed71cd",
   "metadata": {},
   "source": [
    "### Define self-attention layer, and Transformer model\n",
    "\n",
    "We will have to flatten the images to process them with Linear operations and attention operations."
   ]
  },
  {
   "cell_type": "code",
   "execution_count": 3,
   "id": "7036659a",
   "metadata": {},
   "outputs": [],
   "source": [
    "# Define a self-attention layer implementation\n",
    "class SelfAttentionLayer(nn.Module):\n",
    "    def __init__(self, in_features):\n",
    "        super(SelfAttentionLayer, self).__init__()\n",
    "        self.in_features = in_features\n",
    "        self.query = nn.Linear(in_features, in_features)\n",
    "        self.key = nn.Linear(in_features, in_features)\n",
    "        self.value = nn.Linear(in_features, in_features)\n",
    "\n",
    "    def forward(self, x):\n",
    "        batch_size = x.size(0)\n",
    "        query = self.query(x).view(batch_size, -1, self.in_features)\n",
    "        key = self.key(x).view(batch_size, -1, self.in_features)\n",
    "        value = self.value(x).view(batch_size, -1, self.in_features)\n",
    "        attention_weights = F.softmax(torch.bmm(query, key.transpose(1, 2))/(self.in_features**0.5), dim = 2)\n",
    "        out = torch.bmm(attention_weights, value).view(batch_size, -1)\n",
    "        return out"
   ]
  },
  {
   "cell_type": "code",
   "execution_count": 4,
   "id": "4aa13450",
   "metadata": {},
   "outputs": [],
   "source": [
    "# Neural network definition using self-attention\n",
    "class Transformer(nn.Module):\n",
    "    def __init__(self):\n",
    "        super(Transformer, self).__init__()\n",
    "        self.fc1 = nn.Linear(28*28, 128)\n",
    "        self.attention1 = SelfAttentionLayer(128)\n",
    "        self.fc2 = nn.Linear(128, 64)\n",
    "        self.attention2 = SelfAttentionLayer(64)\n",
    "        self.fc3 = nn.Linear(64, 10)\n",
    "\n",
    "    def forward(self, x):\n",
    "        x = x.view(-1, 28*28)\n",
    "        x = F.relu(self.fc1(x))\n",
    "        x = self.attention1(x)\n",
    "        x = F.relu(self.fc2(x))\n",
    "        x = self.attention2(x)\n",
    "        x = self.fc3(x)\n",
    "        return x"
   ]
  },
  {
   "cell_type": "markdown",
   "id": "63922484",
   "metadata": {},
   "source": [
    "### Try out our model"
   ]
  },
  {
   "cell_type": "code",
   "execution_count": 5,
   "id": "b5ac4d77",
   "metadata": {},
   "outputs": [
    {
     "name": "stdout",
     "output_type": "stream",
     "text": [
      "Transformer(\n",
      "  (fc1): Linear(in_features=784, out_features=128, bias=True)\n",
      "  (attention1): SelfAttentionLayer(\n",
      "    (query): Linear(in_features=128, out_features=128, bias=True)\n",
      "    (key): Linear(in_features=128, out_features=128, bias=True)\n",
      "    (value): Linear(in_features=128, out_features=128, bias=True)\n",
      "  )\n",
      "  (fc2): Linear(in_features=128, out_features=64, bias=True)\n",
      "  (attention2): SelfAttentionLayer(\n",
      "    (query): Linear(in_features=64, out_features=64, bias=True)\n",
      "    (key): Linear(in_features=64, out_features=64, bias=True)\n",
      "    (value): Linear(in_features=64, out_features=64, bias=True)\n",
      "  )\n",
      "  (fc3): Linear(in_features=64, out_features=10, bias=True)\n",
      ")\n"
     ]
    }
   ],
   "source": [
    "# Create model\n",
    "model = Transformer()\n",
    "print(model)"
   ]
  },
  {
   "cell_type": "markdown",
   "id": "1e0920ec",
   "metadata": {},
   "source": [
    "### Simple trainer like before"
   ]
  },
  {
   "cell_type": "code",
   "execution_count": 6,
   "id": "602a5f7e",
   "metadata": {},
   "outputs": [
    {
     "name": "stdout",
     "output_type": "stream",
     "text": [
      "Epoch [1/10], Step [100/1875], Loss: 0.6941\n",
      "Epoch [1/10], Step [200/1875], Loss: 0.2044\n",
      "Epoch [1/10], Step [300/1875], Loss: 0.7688\n",
      "Epoch [1/10], Step [400/1875], Loss: 0.4087\n",
      "Epoch [1/10], Step [500/1875], Loss: 0.3414\n",
      "Epoch [1/10], Step [600/1875], Loss: 0.0827\n",
      "Epoch [1/10], Step [700/1875], Loss: 0.1491\n",
      "Epoch [1/10], Step [800/1875], Loss: 0.5172\n",
      "Epoch [1/10], Step [900/1875], Loss: 0.1956\n",
      "Epoch [1/10], Step [1000/1875], Loss: 0.2963\n",
      "Epoch [1/10], Step [1100/1875], Loss: 0.1300\n",
      "Epoch [1/10], Step [1200/1875], Loss: 0.4159\n",
      "Epoch [1/10], Step [1300/1875], Loss: 0.0367\n",
      "Epoch [1/10], Step [1400/1875], Loss: 0.3448\n",
      "Epoch [1/10], Step [1500/1875], Loss: 0.2060\n",
      "Epoch [1/10], Step [1600/1875], Loss: 0.0879\n",
      "Epoch [1/10], Step [1700/1875], Loss: 0.3513\n",
      "Epoch [1/10], Step [1800/1875], Loss: 0.2111\n",
      "Epoch [2/10], Step [100/1875], Loss: 0.2226\n",
      "Epoch [2/10], Step [200/1875], Loss: 0.1874\n",
      "Epoch [2/10], Step [300/1875], Loss: 0.0531\n",
      "Epoch [2/10], Step [400/1875], Loss: 0.0739\n",
      "Epoch [2/10], Step [500/1875], Loss: 0.0533\n",
      "Epoch [2/10], Step [600/1875], Loss: 0.0224\n",
      "Epoch [2/10], Step [700/1875], Loss: 0.0948\n",
      "Epoch [2/10], Step [800/1875], Loss: 0.2081\n",
      "Epoch [2/10], Step [900/1875], Loss: 0.1364\n",
      "Epoch [2/10], Step [1000/1875], Loss: 0.0407\n",
      "Epoch [2/10], Step [1100/1875], Loss: 0.0208\n",
      "Epoch [2/10], Step [1200/1875], Loss: 0.1255\n",
      "Epoch [2/10], Step [1300/1875], Loss: 0.1304\n",
      "Epoch [2/10], Step [1400/1875], Loss: 0.0309\n",
      "Epoch [2/10], Step [1500/1875], Loss: 0.0105\n",
      "Epoch [2/10], Step [1600/1875], Loss: 0.0268\n",
      "Epoch [2/10], Step [1700/1875], Loss: 0.0876\n",
      "Epoch [2/10], Step [1800/1875], Loss: 0.1801\n",
      "Epoch [3/10], Step [100/1875], Loss: 0.0171\n",
      "Epoch [3/10], Step [200/1875], Loss: 0.2519\n",
      "Epoch [3/10], Step [300/1875], Loss: 0.0194\n",
      "Epoch [3/10], Step [400/1875], Loss: 0.0251\n",
      "Epoch [3/10], Step [500/1875], Loss: 0.0341\n",
      "Epoch [3/10], Step [600/1875], Loss: 0.1722\n",
      "Epoch [3/10], Step [700/1875], Loss: 0.0081\n",
      "Epoch [3/10], Step [800/1875], Loss: 0.0549\n",
      "Epoch [3/10], Step [900/1875], Loss: 0.0463\n",
      "Epoch [3/10], Step [1000/1875], Loss: 0.0782\n",
      "Epoch [3/10], Step [1100/1875], Loss: 0.1281\n",
      "Epoch [3/10], Step [1200/1875], Loss: 0.0147\n",
      "Epoch [3/10], Step [1300/1875], Loss: 0.0352\n",
      "Epoch [3/10], Step [1400/1875], Loss: 0.0022\n",
      "Epoch [3/10], Step [1500/1875], Loss: 0.0462\n",
      "Epoch [3/10], Step [1600/1875], Loss: 0.0082\n",
      "Epoch [3/10], Step [1700/1875], Loss: 0.0663\n",
      "Epoch [3/10], Step [1800/1875], Loss: 0.0299\n",
      "Epoch [4/10], Step [100/1875], Loss: 0.0669\n",
      "Epoch [4/10], Step [200/1875], Loss: 0.0088\n",
      "Epoch [4/10], Step [300/1875], Loss: 0.0215\n",
      "Epoch [4/10], Step [400/1875], Loss: 0.0165\n",
      "Epoch [4/10], Step [500/1875], Loss: 0.0038\n",
      "Epoch [4/10], Step [600/1875], Loss: 0.0282\n",
      "Epoch [4/10], Step [700/1875], Loss: 0.0611\n",
      "Epoch [4/10], Step [800/1875], Loss: 0.0740\n",
      "Epoch [4/10], Step [900/1875], Loss: 0.2001\n",
      "Epoch [4/10], Step [1000/1875], Loss: 0.0110\n",
      "Epoch [4/10], Step [1100/1875], Loss: 0.0411\n",
      "Epoch [4/10], Step [1200/1875], Loss: 0.0626\n",
      "Epoch [4/10], Step [1300/1875], Loss: 0.0427\n",
      "Epoch [4/10], Step [1400/1875], Loss: 0.1282\n",
      "Epoch [4/10], Step [1500/1875], Loss: 0.0065\n",
      "Epoch [4/10], Step [1600/1875], Loss: 0.0681\n",
      "Epoch [4/10], Step [1700/1875], Loss: 0.0669\n",
      "Epoch [4/10], Step [1800/1875], Loss: 0.0243\n",
      "Epoch [5/10], Step [100/1875], Loss: 0.0127\n",
      "Epoch [5/10], Step [200/1875], Loss: 0.0201\n",
      "Epoch [5/10], Step [300/1875], Loss: 0.1460\n",
      "Epoch [5/10], Step [400/1875], Loss: 0.0834\n",
      "Epoch [5/10], Step [500/1875], Loss: 0.0114\n",
      "Epoch [5/10], Step [600/1875], Loss: 0.0029\n",
      "Epoch [5/10], Step [700/1875], Loss: 0.0809\n",
      "Epoch [5/10], Step [800/1875], Loss: 0.0054\n",
      "Epoch [5/10], Step [900/1875], Loss: 0.0659\n",
      "Epoch [5/10], Step [1000/1875], Loss: 0.0058\n",
      "Epoch [5/10], Step [1100/1875], Loss: 0.1311\n",
      "Epoch [5/10], Step [1200/1875], Loss: 0.0185\n",
      "Epoch [5/10], Step [1300/1875], Loss: 0.1206\n",
      "Epoch [5/10], Step [1400/1875], Loss: 0.0023\n",
      "Epoch [5/10], Step [1500/1875], Loss: 0.0820\n",
      "Epoch [5/10], Step [1600/1875], Loss: 0.0405\n",
      "Epoch [5/10], Step [1700/1875], Loss: 0.0015\n",
      "Epoch [5/10], Step [1800/1875], Loss: 0.0828\n"
     ]
    }
   ],
   "source": [
    "# Create model\n",
    "model = Transformer()\n",
    "# Define the loss function and optimizer\n",
    "criterion = nn.CrossEntropyLoss()\n",
    "optimizer = torch.optim.Adam(model.parameters(), lr = 0.001)\n",
    "\n",
    "# Train the model\n",
    "n_epochs = 5\n",
    "for epoch in range(n_epochs):\n",
    "    for i, (images, labels) in enumerate(train_loader):\n",
    "        # Flatten image\n",
    "        images = images.reshape(-1, 28*28)\n",
    "        # Forward pass\n",
    "        outputs = model(images)\n",
    "        loss = criterion(outputs, labels)\n",
    "        # Backprop\n",
    "        optimizer.zero_grad()\n",
    "        loss.backward()\n",
    "        optimizer.step()\n",
    "        # Display\n",
    "        if (i + 1) % 100 == 0:\n",
    "            print(\"Epoch [{}/{}], Step [{}/{}], Loss: {:.4f}\".format(epoch + 1, \\\n",
    "                                                                     n_epochs, \\\n",
    "                                                                     i + 1, \\\n",
    "                                                                     len(train_loader), \\\n",
    "                                                                     loss.item()))"
   ]
  },
  {
   "cell_type": "markdown",
   "id": "8dbe79ea",
   "metadata": {},
   "source": [
    "### Evaluate model\n",
    "\n",
    "We get a 97% test accuracy, after only 5 iterations of training!\n",
    "\n",
    "Better performance could be obtained by combining Convolutional operations and Attention ones?"
   ]
  },
  {
   "cell_type": "code",
   "execution_count": 7,
   "id": "37ef1a58",
   "metadata": {},
   "outputs": [
    {
     "name": "stdout",
     "output_type": "stream",
     "text": [
      "Test Accuracy: 97.04 %\n"
     ]
    }
   ],
   "source": [
    "# Test the model\n",
    "with torch.no_grad():\n",
    "    correct = 0\n",
    "    total = 0\n",
    "    for images, labels in test_loader:\n",
    "        # Flatten images\n",
    "        images = images.reshape(-1, 28 * 28)\n",
    "        # Forward pass and accuracy calculation\n",
    "        outputs = model(images)\n",
    "        _, predicted = torch.max(outputs.data, 1)\n",
    "        total += labels.size(0)\n",
    "        correct += (predicted == labels).sum().item()\n",
    "    # Final display\n",
    "    print(\"Test Accuracy: {} %\".format(100*correct/total))"
   ]
  },
  {
   "cell_type": "code",
   "execution_count": null,
   "id": "ad286e9f",
   "metadata": {},
   "outputs": [],
   "source": []
  }
 ],
 "metadata": {
  "kernelspec": {
   "display_name": "Python 3 (ipykernel)",
   "language": "python",
   "name": "python3"
  },
  "language_info": {
   "codemirror_mode": {
    "name": "ipython",
    "version": 3
   },
   "file_extension": ".py",
   "mimetype": "text/x-python",
   "name": "python",
   "nbconvert_exporter": "python",
   "pygments_lexer": "ipython3",
   "version": "3.10.7"
  }
 },
 "nbformat": 4,
 "nbformat_minor": 5
}
