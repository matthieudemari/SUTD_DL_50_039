{
 "cells": [
  {
   "cell_type": "markdown",
   "id": "through-glossary",
   "metadata": {},
   "source": [
    "# Homework 9 - Part 2 Notebook\n",
    "\n",
    "In this homework notebook, we will create and train our own SkipGram embedding, by using the short synopsis of the Lion King movie explained to kids in the text.text file.\n",
    "\n",
    "Get familiar with the code and write a small report, with answers to the questions listed at the end of the notebook.\n",
    "\n",
    "**The report must be submitted in PDF format, before April 8th, 11.59pm!**\n",
    "\n",
    "Do not forget to write your name and student ID on the report."
   ]
  },
  {
   "cell_type": "markdown",
   "id": "featured-saturn",
   "metadata": {},
   "source": [
    "### Imports needed\n",
    "\n",
    "Note, we strongly advise to use a CUDA/GPU machine for this notebook.\n",
    "\n",
    "Technically, this can be done on CPU only, but it will be very slow!\n",
    "\n",
    "If you decide to use it on CPU, you might also have to change some of the .cuda() methods used on torch tensors and models in this notebook!"
   ]
  },
  {
   "cell_type": "code",
   "execution_count": 1,
   "id": "diverse-ivory",
   "metadata": {},
   "outputs": [],
   "source": [
    "import torch\n",
    "from torch.autograd import Variable\n",
    "import torch.nn as nn\n",
    "import torch.optim as optim\n",
    "import torch.nn.functional as F\n",
    "import functools\n",
    "import matplotlib.pyplot as plt\n",
    "CUDA = torch.cuda.is_available()"
   ]
  },
  {
   "cell_type": "markdown",
   "id": "923718d7",
   "metadata": {},
   "source": [
    "### Testing for CUDA\n",
    "\n",
    "We advise running on GPU and setting up CUDA on your machine as it might drastically speed up the running time for this notebook!"
   ]
  },
  {
   "cell_type": "code",
   "execution_count": 2,
   "id": "f80f5c37",
   "metadata": {},
   "outputs": [
    {
     "name": "stdout",
     "output_type": "stream",
     "text": [
      "CUDA is available: False\n"
     ]
    }
   ],
   "source": [
    "# Define device for torch\n",
    "use_cuda = True\n",
    "print(\"CUDA is available:\", torch.cuda.is_available())\n",
    "device = torch.device(\"cuda\" if (use_cuda and torch.cuda.is_available()) else \"cpu\")"
   ]
  },
  {
   "cell_type": "markdown",
   "id": "informed-tattoo",
   "metadata": {},
   "source": [
    "### Step 1. Produce some data based on a given text for training our SkipGram model    \n",
    "\n",
    "The functions below will be used to produce our dataset for training the SkipGram model.\n",
    "\n",
    "The dataset text consists of a short description of the story behing the movie The Lion King, explained in simple terms to kids."
   ]
  },
  {
   "cell_type": "code",
   "execution_count": 3,
   "id": "protected-truth",
   "metadata": {},
   "outputs": [],
   "source": [
    "def text_to_train(text, context_window):\n",
    "    \"\"\"\n",
    "    This function receives the text as a list of words, in lowercase format.\n",
    "    It then returns data, a list of all the possible (x,y) pairs with\n",
    "    - x being the middle word of the sentence of length 2*context_window+1,\n",
    "    - y being a list of 2k words, containing the k preceding words and the k\n",
    "    posterior words.\n",
    "    \"\"\"\n",
    "    \n",
    "    # Get data from list of words in text, using a context window of size k = context_window\n",
    "    data = []\n",
    "    for i in range(context_window, len(text) - context_window):\n",
    "        target = [text[i+e] for e in range(-context_window, context_window+1) if i+e != i]\n",
    "        input_word = text[i]\n",
    "        data.append((input_word, target))\n",
    "        \n",
    "    return data"
   ]
  },
  {
   "cell_type": "code",
   "execution_count": 4,
   "id": "sensitive-preserve",
   "metadata": {},
   "outputs": [],
   "source": [
    "def create_text():\n",
    "    \"\"\"\n",
    "    This function loads the string of text from the text.txt file,\n",
    "    and produces a list of words in string format, as variable text.\n",
    "    \"\"\"\n",
    "    \n",
    "    # Load corpus from file\n",
    "    with open(\"./text.txt\", 'r', encoding=\"utf8\",) as f:\n",
    "        corpus = f.readlines()\n",
    "    f.close()\n",
    "    \n",
    "    # Join corpus into a single string\n",
    "    text = \"\"\n",
    "    for s in corpus:\n",
    "        l = s.split()\n",
    "        for s2 in l:\n",
    "            # Removes all special characters from string\n",
    "            s2 = ''.join(filter(str.isalnum, s2))\n",
    "            s2 += ' '\n",
    "            text += s2.lower()\n",
    "    text = text.split()\n",
    "    \n",
    "    return text"
   ]
  },
  {
   "cell_type": "code",
   "execution_count": 5,
   "id": "identical-heather",
   "metadata": {},
   "outputs": [
    {
     "name": "stdout",
     "output_type": "stream",
     "text": [
      "['the', 'lion', 'king', 'is', 'an', 'animated', 'movie', 'made', 'by', 'walt', 'disney', 'in', '1994', 'it', 'was', 'the', 'most', 'successful', 'animated', 'movie', 'of', 'the', '1990s', 'the', 'movie', 'is', 'about', 'a', 'young', 'lion', 'prince', 'who', 'learns', 'about', 'his', 'role', 'as', 'prince', 'and', 'in', 'the', 'circle', 'of', 'life', 'it', 'is', 'dedicated', 'to', 'frank', 'wells', 'who', 'was', 'the', 'president', 'of', 'the', 'walt', 'disney', 'company', 'and', 'died', 'shortly', 'before', 'the', 'movie', 'was', 'released', 'into', 'theaters', 'on', 'june', '15', '1994', 'it', 'was', 'the', 'first', 'fulllength', 'disney', 'movie', 'to', 'feature', 'no', 'human', 'characters', 'since', 'bambi', 'much', 'of', 'the', 'voice', 'acting', 'work', 'was', 'done', 'by', 'wellknown', 'actors', 'including', 'james', 'earl', 'jones', 'jeremy', 'irons', 'matthew', 'broderick', 'whoopi', 'goldberg', 'rowan', 'atkinson', 'jonathan', 'taylor', 'thomas', 'and', 'nathan', 'lane', 'the', 'lion', 'king', 'is', 'a', 'musical', 'the', 'songs', 'have', 'music', 'by', 'elton', 'john', 'and', 'lyrics', 'by', 'tim', 'rice', 'computer', 'animation', 'was', 'used', 'a', 'lot', 'when', 'making', 'the', 'movie', 'like', 'during', 'the', 'song', 'circle', 'of', 'life', 'and', 'others', 'when', 'they', 'were', 'making', 'it', 'this', 'movie', 'was', 'thought', 'of', 'as', 'just', 'alright', 'compared', 'to', 'the', 'movie', 'they', 'were', 'going', 'to', 'make', 'after', 'that', 'which', 'would', 'be', 'pocahontas', 'the', 'studio', 'released', 'the', 'trailer', 'and', 'found', 'that', 'many', 'people', 'liked', 'it', 'especially', 'the', 'song', 'circle', 'of', 'life', 'when', 'it', 'was', 'released', 'the', 'movie', 'became', 'the', 'most', 'successeful', 'movie', 'worldwide', 'in', 'the', 'united', 'states', 'forrest', 'gump', 'was', 'most', 'successful', 'of', 'that', 'year', 'and', 'the', 'most', 'successful', 'animated', 'feature', 'movie', 'of', 'all', 'time', 'until', 'finding', 'nemo', 'since', 'then', 'shrek', '2', 'has', 'become', 'more', 'successful', 'than', 'finding', 'nemo', 'making', 'the', 'lion', 'king', 'the', 'third', 'most', 'successful', 'the', 'movie', 'was', 'also', 'made', 'into', 'an', 'awardwinning', 'stage', 'musical', 'the', 'stage', 'show', 'first', 'opened', 'on', 'november', '13', '1997', 'in', 'new', 'york', 'city', 'and', 'it', 'was', 'a', 'big', 'success', 'a', 'version', 'opened', 'later', 'in', 'london', 'england', 'many', 'other', 'shows', 'of', 'the', 'lion', 'king', 'have', 'been', 'shown', 'across', 'the', 'world', 'and', 'is', 'one', 'of', 'the', 'uks', 'biggest', 'and', 'most', 'popular', 'shows', 'in', 'the', 'movies', 'opening', 'scene', 'lots', 'of', 'animals', 'and', 'birds', 'gather', 'at', 'pride', 'rock', 'to', 'see', 'simba', 'the', 'new', 'prince', 'who', 'has', 'just', 'been', 'born', 'simba', 'is', 'the', 'son', 'of', 'mufasa', 'and', 'sarabi', 'rafiki', 'picks', 'up', 'simba', 'and', 'lifts', 'him', 'high', 'up', 'so', 'that', 'all', 'of', 'the', 'animals', 'can', 'see', 'the', 'animals', 'celebrate', 'and', 'rejoice', 'but', 'scar', 'mufasas', 'brother', 'is', 'jealous', 'because', 'simba', 'will', 'be', 'king', 'instead', 'of', 'him', 'scar', 'lies', 'to', 'simba', 'about', 'a', 'dangerous', 'place', 'called', 'the', 'elephant', 'graveyard', 'scar', 'says', 'that', 'only', 'brave', 'lions', 'go', 'there', 'causing', 'simba', 'to', 'be', 'interested', 'even', 'though', 'mufasa', 'has', 'forbidden', 'simba', 'from', 'going', 'there', 'simba', 'lies', 'to', 'his', 'mother', 'sarabi', 'about', 'going', 'to', 'the', 'water', 'hole', 'when', 'he', 'is', 'actually', 'going', 'to', 'the', 'elephant', 'graveyard', 'simbas', 'friend', 'nala', 'and', 'zazu', 'the', 'kings', 'messenger', 'go', 'with', 'simba', 'simba', 'and', 'nala', 'trick', 'zazu', 'with', 'the', 'song', 'i', 'just', 'cant', 'wait', 'to', 'be', 'king', 'and', 'run', 'away', 'from', 'him', 'simba', 'and', 'nala', 'find', 'the', 'elephant', 'graveyard', 'but', 'are', 'chased', 'by', 'the', 'three', 'hyenas', 'shenzi', 'banzai', 'and', 'ed', 'mufasa', 'saves', 'his', 'son', 'and', 'nala', 'and', 'takes', 'them', 'both', 'home', 'mufasa', 'speaks', 'to', 'simba', 'alone', 'and', 'explains', 'to', 'simba', 'that', 'being', 'brave', 'is', 'not', 'about', 'looking', 'for', 'danger', 'he', 'also', 'explains', 'that', 'the', 'great', 'kings', 'of', 'the', 'past', 'look', 'down', 'from', 'the', 'stars', 'and', 'watch', 'over', 'simba', 'scar', 'in', 'the', 'elephant', 'graveyard', 'is', 'angry', 'with', 'the', 'hyenas', 'because', 'they', 'did', 'not', 'kill', 'simba', 'it', 'is', 'revealed', 'that', 'the', 'hyenas', 'are', 'working', 'for', 'scar', 'during', 'scars', 'song', 'be', 'prepared', 'the', 'next', 'day', 'scar', 'takes', 'simba', 'into', 'a', 'gorge', 'long', 'deep', 'hole', 'in', 'the', 'ground', 'also', 'known', 'as', 'a', 'valley', 'where', 'he', 'explains', 'that', 'mufasa', 'has', 'a', 'wonderful', 'surprise', 'waiting', 'scar', 'has', 'actually', 'planned', 'a', 'wildebeest', 'stampede', 'with', 'the', 'hyenas', 'simba', 'is', 'trapped', 'in', 'the', 'gorge', 'as', 'the', 'wildebeest', 'run', 'towards', 'him', 'scar', 'tells', 'mufasa', 'that', 'simba', 'is', 'in', 'trouble', 'and', 'mufasa', 'rescues', 'his', 'son', 'scar', 'then', 'throws', 'mufasa', 'into', 'the', 'stampede', 'and', 'mufasa', 'dies', 'scar', 'blames', 'simba', 'for', 'the', 'death', 'of', 'mufasa', 'and', 'simba', 'runs', 'away', 'scar', 'becomes', 'king', 'and', 'tells', 'everyone', 'that', 'simba', 'and', 'mufasa', 'are', 'dead', 'simba', 'runs', 'to', 'a', 'desert', 'and', 'collapses', 'he', 'is', 'rescued', 'by', 'timon', 'the', 'meerkat', 'and', 'pumbaa', 'the', 'warthog', 'timon', 'and', 'pumbaa', 'live', 'in', 'the', 'jungle', 'and', 'are', 'very', 'relaxed', 'which', 'they', 'show', 'in', 'their', 'song', 'hakuna', 'matata', 'timon', 'and', 'pumbaa', 'look', 'after', 'simba', 'until', 'simba', 'is', 'an', 'adult', 'lion', 'one', 'day', 'a', 'lioness', 'female', 'lion', 'comes', 'to', 'the', 'jungle', 'and', 'tries', 'to', 'kill', 'and', 'eat', 'pumbaa', 'simba', 'fights', 'the', 'lioness', 'because', 'he', 'wants', 'to', 'save', 'pumbaas', 'life', 'while', 'the', 'two', 'lions', 'are', 'fighting', 'simba', 'finds', 'out', 'that', 'the', 'lioness', 'is', 'his', 'friend', 'nala', 'they', 'are', 'very', 'happy', 'to', 'see', 'each', 'other', 'and', 'they', 'fall', 'in', 'love', 'nala', 'wants', 'simba', 'to', 'go', 'home', 'and', 'fight', 'scar', 'because', 'scar', 'is', 'a', 'bad', 'king', 'simba', 'will', 'not', 'go', 'home', 'because', 'he', 'thinks', 'that', 'he', 'killed', 'mufasa', 'and', 'he', 'does', 'not', 'want', 'his', 'family', 'to', 'know', 'rafiki', 'comes', 'to', 'the', 'jungle', 'and', 'takes', 'simba', 'to', 'a', 'field', 'in', 'the', 'sky', 'above', 'the', 'field', 'mufasas', 'ghost', 'appears', 'and', 'tells', 'simba', 'that', 'he', 'must', 'go', 'home', 'because', 'simba', 'is', 'the', 'right', 'king', 'after', 'this', 'simba', 'goes', 'home', 'to', 'pride', 'rock', 'nala', 'timon', 'and', 'pumbaa', 'follow', 'him', 'when', 'they', 'get', 'to', 'pride', 'rock', 'they', 'find', 'that', 'the', 'land', 'is', 'dry', 'and', 'the', 'animals', 'have', 'gone', 'at', 'pride', 'rock', 'simba', 'sees', 'scar', 'hitting', 'sarabi', 'this', 'makes', 'simba', 'angry', 'and', 'he', 'tries', 'to', 'make', 'scar', 'leave', 'pride', 'rock', 'scar', 'does', 'not', 'leave', 'and', 'makes', 'simba', 'fall', 'over', 'the', 'edge', 'of', 'pride', 'rock', 'simba', 'does', 'not', 'fall', 'and', 'holds', 'on', 'to', 'the', 'edge', 'scar', 'thinks', 'that', 'he', 'was', 'won', 'so', 'he', 'tells', 'simba', 'the', 'truth', 'about', 'the', 'death', 'of', 'mufasa', 'that', 'scar', 'actually', 'killed', 'mufasa', 'simba', 'is', 'upset', 'and', 'a', 'big', 'fight', 'happens', 'the', 'lionesses', 'fight', 'the', 'hyenas', 'and', 'simba', 'fights', 'scar', 'while', 'the', 'fighting', 'is', 'going', 'on', 'lightning', 'hits', 'a', 'dead', 'tree', 'and', 'starts', 'a', 'fire', 'scar', 'and', 'simba', 'fight', 'on', 'top', 'of', 'pride', 'rock', 'scar', 'does', 'not', 'want', 'to', 'die', 'and', 'lies', 'to', 'simba', 'that', 'the', 'hyenas', 'are', 'to', 'blame', 'for', 'everything', 'another', 'fight', 'happens', 'and', 'simba', 'throws', 'scar', 'over', 'the', 'edge', 'scar', 'does', 'not', 'die', 'after', 'the', 'fall', 'but', 'the', 'hyenas', 'attack', 'and', 'kill', 'him', 'the', 'hyenas', 'are', 'angry', 'that', 'scar', 'blamed', 'them', 'rain', 'falls', 'and', 'puts', 'out', 'the', 'fire', 'simba', 'walks', 'to', 'the', 'top', 'of', 'pride', 'rock', 'and', 'roars', 'much', 'later', 'the', 'animals', 'come', 'back', 'at', 'the', 'end', 'of', 'the', 'movie', 'rafiki', 'picks', 'up', 'simba', 'and', 'nalas', 'daughter', 'and', 'lifts', 'her', 'up', 'high', 'above', 'pride', 'rock', 'so', 'the', 'animals', 'below', 'can', 'see']\n"
     ]
    }
   ],
   "source": [
    "text = create_text()\n",
    "print(text)"
   ]
  },
  {
   "cell_type": "code",
   "execution_count": 6,
   "id": "separate-prayer",
   "metadata": {},
   "outputs": [],
   "source": [
    "def generate_data(text, context_window):\n",
    "    \"\"\"\n",
    "    This function receives the text and context window size.\n",
    "    It produces four outputs:\n",
    "    - vocab, a set containing the words found in text.txt,\n",
    "    without any doublons,\n",
    "    - word2index, a dictionary to convert words to their integer index,\n",
    "    - word2index, a dictionary to convert integer index to their respective words,\n",
    "    - data, containing our (x,y) pairs for training.\n",
    "    \"\"\"\n",
    "    \n",
    "    # Create vocabulary set V\n",
    "    vocab = set(text)\n",
    "    \n",
    "    # Word to index and index 2 word converters\n",
    "    word2index = {w:i for i,w in enumerate(vocab)}\n",
    "    index2word = {i:w for i,w in enumerate(vocab)}\n",
    "    \n",
    "    # Generate data\n",
    "    data = text_to_train(text, context_window)\n",
    "    \n",
    "    return vocab, data, word2index, index2word"
   ]
  },
  {
   "cell_type": "code",
   "execution_count": 7,
   "id": "indie-summer",
   "metadata": {},
   "outputs": [],
   "source": [
    "vocab, data, word2index, index2word = generate_data(text, context_window = 2)"
   ]
  },
  {
   "cell_type": "code",
   "execution_count": 8,
   "id": "presidential-sauce",
   "metadata": {},
   "outputs": [
    {
     "name": "stdout",
     "output_type": "stream",
     "text": [
      "The dataset contains 389 different words.\n"
     ]
    }
   ],
   "source": [
    "print(\"The dataset contains\", len(vocab), \"different words.\")"
   ]
  },
  {
   "cell_type": "code",
   "execution_count": 9,
   "id": "588551ae",
   "metadata": {},
   "outputs": [
    {
     "name": "stdout",
     "output_type": "stream",
     "text": [
      "The dadatset contains the following words:\n",
      "{'before', 'much', 'while', 'desert', 'are', 'first', 'done', 'but', 'falls', 'work', '2', 'friend', 'takes', 'can', 'daughter', 'makes', 'liked', 'lies', 'john', 'die', 'rescued', 'puts', 'roars', 'will', 'past', 'his', 'then', 'used', 'ed', 'mother', 'shown', 'forbidden', 'interested', 'which', 'walt', 'show', 'gump', 'picks', 'irons', 'stars', 'feature', 'forrest', 'actors', 'worldwide', 'valley', 'rescues', 'shortly', 'dangerous', 'prepared', 'time', 'scars', 'sarabi', 'opened', 'dead', 'appears', 'killed', 'gather', 'home', 'third', 'atkinson', 'by', 'find', 'there', 'walks', 'became', 'adult', 'simbas', 'company', 'trouble', 'lions', 'nemo', 'died', 'music', 'jonathan', 'back', 'across', 'edge', 'her', 'finds', 'leave', 'fight', 'lot', 'scene', '1990s', 'fights', 'prince', 'than', 'becomes', 'year', 'known', 'uks', 'as', 'animals', 'right', 'towards', 'made', 'like', 'it', 'no', 'three', 'lightning', 'taylor', 'land', 'timon', 'son', 'into', 'them', 'place', 'who', 'nala', 'out', 'comes', 'instead', 'city', 'sees', 'down', 'finding', 'female', 'causing', 'later', 'speaks', 'death', 'everyone', 'looking', 'family', 'day', 'dedicated', 'many', 'whoopi', 'until', 'london', 'called', 'must', 'disney', 'was', 'popular', 'voice', 'movie', 'after', 'united', 'president', 'pocahontas', 'lots', 'messenger', 'scar', 'both', 'when', 'with', 'follow', 'song', 'elton', 'meerkat', 'next', 'wells', 'even', 'below', 'ghost', 'water', 'another', 'computer', 'get', 'is', 'june', 'great', 'he', 'new', 'stampede', 'success', 'life', 'would', 'live', 'blames', 'to', 'come', 'theaters', 'songs', 'truth', 'sky', 'fire', 'everything', 'see', 'since', 'being', 'studio', 'dies', 'released', 'graveyard', 'rock', 'bad', 'other', 'for', 'tries', 'up', 'york', 'go', 'thinks', 'so', 'happens', 'during', 'hitting', 'tree', 'people', 'hits', 'alright', 'simba', 'trailer', 'animated', 'zazu', 'surprise', 'holds', 'found', 'also', 'kill', 'ground', 'on', 'eat', 'make', 'starts', 'angry', 'november', 'their', 'bambi', 'be', 'attack', 'shenzi', 'rowan', 'matthew', '1997', 'rafiki', 'nalas', 'want', 'a', 'fighting', 'biggest', 'dry', 'each', 'very', 'states', 'and', 'jungle', 'wait', 'james', 'lion', 'shrek', 'become', 'circle', 'acting', 'high', 'trick', 'actually', 'jeremy', 'not', 'pumbaa', 'goldberg', 'where', 'long', 'has', 'pumbaas', 'at', 'goes', 'gone', 'cant', 'rejoice', 'runs', 'happy', 'waiting', 'lyrics', 'rain', 'look', 'upset', 'lionesses', 'revealed', 'banzai', 'danger', 'all', 'more', 'broderick', 'movies', 'learns', 'thought', 'the', 'most', 'deep', '1994', 'lifts', 'that', 'mufasas', 'does', 'human', 'frank', 'working', 'an', 'throws', 'fulllength', 'musical', 'blame', 'lane', 'gorge', 'have', 'especially', 'alone', 'warthog', 'from', 'above', 'about', 'jealous', 'wildebeest', 'this', 'big', 'wellknown', 'planned', 'shows', 'hakuna', 'kings', 'king', 'making', 'nathan', 'born', 'says', 'characters', 'over', 'did', 'of', 'successful', 'hole', 'collapses', 'know', 'been', 'they', 'young', 'mufasa', 'saves', 'fall', 'brave', 'pride', 'compared', 'were', 'animation', 'in', 'two', 'celebrate', 'i', 'hyenas', 'tells', 'wonderful', 'end', 'trapped', 'birds', 'explains', 'field', 'role', 'england', 'watch', 'awardwinning', 'wants', 'blamed', 'successeful', 'lioness', 'only', 'one', 'brother', 'going', 'thomas', 'run', 'earl', 'chased', 'away', 'just', 'jones', 'rice', 'opening', 'world', 'relaxed', 'love', 'version', 'won', 'because', 'elephant', 'matata', 'others', 'him', 'stage', 'tim', '13', '15', 'save', 'though', 'top', 'including'}\n"
     ]
    }
   ],
   "source": [
    "print(\"The dadatset contains the following words:\")\n",
    "print(vocab)"
   ]
  },
  {
   "cell_type": "code",
   "execution_count": 10,
   "id": "statewide-passion",
   "metadata": {},
   "outputs": [
    {
     "name": "stdout",
     "output_type": "stream",
     "text": [
      "{'before': 0, 'much': 1, 'while': 2, 'desert': 3, 'are': 4, 'first': 5, 'done': 6, 'but': 7, 'falls': 8, 'work': 9, '2': 10, 'friend': 11, 'takes': 12, 'can': 13, 'daughter': 14, 'makes': 15, 'liked': 16, 'lies': 17, 'john': 18, 'die': 19, 'rescued': 20, 'puts': 21, 'roars': 22, 'will': 23, 'past': 24, 'his': 25, 'then': 26, 'used': 27, 'ed': 28, 'mother': 29, 'shown': 30, 'forbidden': 31, 'interested': 32, 'which': 33, 'walt': 34, 'show': 35, 'gump': 36, 'picks': 37, 'irons': 38, 'stars': 39, 'feature': 40, 'forrest': 41, 'actors': 42, 'worldwide': 43, 'valley': 44, 'rescues': 45, 'shortly': 46, 'dangerous': 47, 'prepared': 48, 'time': 49, 'scars': 50, 'sarabi': 51, 'opened': 52, 'dead': 53, 'appears': 54, 'killed': 55, 'gather': 56, 'home': 57, 'third': 58, 'atkinson': 59, 'by': 60, 'find': 61, 'there': 62, 'walks': 63, 'became': 64, 'adult': 65, 'simbas': 66, 'company': 67, 'trouble': 68, 'lions': 69, 'nemo': 70, 'died': 71, 'music': 72, 'jonathan': 73, 'back': 74, 'across': 75, 'edge': 76, 'her': 77, 'finds': 78, 'leave': 79, 'fight': 80, 'lot': 81, 'scene': 82, '1990s': 83, 'fights': 84, 'prince': 85, 'than': 86, 'becomes': 87, 'year': 88, 'known': 89, 'uks': 90, 'as': 91, 'animals': 92, 'right': 93, 'towards': 94, 'made': 95, 'like': 96, 'it': 97, 'no': 98, 'three': 99, 'lightning': 100, 'taylor': 101, 'land': 102, 'timon': 103, 'son': 104, 'into': 105, 'them': 106, 'place': 107, 'who': 108, 'nala': 109, 'out': 110, 'comes': 111, 'instead': 112, 'city': 113, 'sees': 114, 'down': 115, 'finding': 116, 'female': 117, 'causing': 118, 'later': 119, 'speaks': 120, 'death': 121, 'everyone': 122, 'looking': 123, 'family': 124, 'day': 125, 'dedicated': 126, 'many': 127, 'whoopi': 128, 'until': 129, 'london': 130, 'called': 131, 'must': 132, 'disney': 133, 'was': 134, 'popular': 135, 'voice': 136, 'movie': 137, 'after': 138, 'united': 139, 'president': 140, 'pocahontas': 141, 'lots': 142, 'messenger': 143, 'scar': 144, 'both': 145, 'when': 146, 'with': 147, 'follow': 148, 'song': 149, 'elton': 150, 'meerkat': 151, 'next': 152, 'wells': 153, 'even': 154, 'below': 155, 'ghost': 156, 'water': 157, 'another': 158, 'computer': 159, 'get': 160, 'is': 161, 'june': 162, 'great': 163, 'he': 164, 'new': 165, 'stampede': 166, 'success': 167, 'life': 168, 'would': 169, 'live': 170, 'blames': 171, 'to': 172, 'come': 173, 'theaters': 174, 'songs': 175, 'truth': 176, 'sky': 177, 'fire': 178, 'everything': 179, 'see': 180, 'since': 181, 'being': 182, 'studio': 183, 'dies': 184, 'released': 185, 'graveyard': 186, 'rock': 187, 'bad': 188, 'other': 189, 'for': 190, 'tries': 191, 'up': 192, 'york': 193, 'go': 194, 'thinks': 195, 'so': 196, 'happens': 197, 'during': 198, 'hitting': 199, 'tree': 200, 'people': 201, 'hits': 202, 'alright': 203, 'simba': 204, 'trailer': 205, 'animated': 206, 'zazu': 207, 'surprise': 208, 'holds': 209, 'found': 210, 'also': 211, 'kill': 212, 'ground': 213, 'on': 214, 'eat': 215, 'make': 216, 'starts': 217, 'angry': 218, 'november': 219, 'their': 220, 'bambi': 221, 'be': 222, 'attack': 223, 'shenzi': 224, 'rowan': 225, 'matthew': 226, '1997': 227, 'rafiki': 228, 'nalas': 229, 'want': 230, 'a': 231, 'fighting': 232, 'biggest': 233, 'dry': 234, 'each': 235, 'very': 236, 'states': 237, 'and': 238, 'jungle': 239, 'wait': 240, 'james': 241, 'lion': 242, 'shrek': 243, 'become': 244, 'circle': 245, 'acting': 246, 'high': 247, 'trick': 248, 'actually': 249, 'jeremy': 250, 'not': 251, 'pumbaa': 252, 'goldberg': 253, 'where': 254, 'long': 255, 'has': 256, 'pumbaas': 257, 'at': 258, 'goes': 259, 'gone': 260, 'cant': 261, 'rejoice': 262, 'runs': 263, 'happy': 264, 'waiting': 265, 'lyrics': 266, 'rain': 267, 'look': 268, 'upset': 269, 'lionesses': 270, 'revealed': 271, 'banzai': 272, 'danger': 273, 'all': 274, 'more': 275, 'broderick': 276, 'movies': 277, 'learns': 278, 'thought': 279, 'the': 280, 'most': 281, 'deep': 282, '1994': 283, 'lifts': 284, 'that': 285, 'mufasas': 286, 'does': 287, 'human': 288, 'frank': 289, 'working': 290, 'an': 291, 'throws': 292, 'fulllength': 293, 'musical': 294, 'blame': 295, 'lane': 296, 'gorge': 297, 'have': 298, 'especially': 299, 'alone': 300, 'warthog': 301, 'from': 302, 'above': 303, 'about': 304, 'jealous': 305, 'wildebeest': 306, 'this': 307, 'big': 308, 'wellknown': 309, 'planned': 310, 'shows': 311, 'hakuna': 312, 'kings': 313, 'king': 314, 'making': 315, 'nathan': 316, 'born': 317, 'says': 318, 'characters': 319, 'over': 320, 'did': 321, 'of': 322, 'successful': 323, 'hole': 324, 'collapses': 325, 'know': 326, 'been': 327, 'they': 328, 'young': 329, 'mufasa': 330, 'saves': 331, 'fall': 332, 'brave': 333, 'pride': 334, 'compared': 335, 'were': 336, 'animation': 337, 'in': 338, 'two': 339, 'celebrate': 340, 'i': 341, 'hyenas': 342, 'tells': 343, 'wonderful': 344, 'end': 345, 'trapped': 346, 'birds': 347, 'explains': 348, 'field': 349, 'role': 350, 'england': 351, 'watch': 352, 'awardwinning': 353, 'wants': 354, 'blamed': 355, 'successeful': 356, 'lioness': 357, 'only': 358, 'one': 359, 'brother': 360, 'going': 361, 'thomas': 362, 'run': 363, 'earl': 364, 'chased': 365, 'away': 366, 'just': 367, 'jones': 368, 'rice': 369, 'opening': 370, 'world': 371, 'relaxed': 372, 'love': 373, 'version': 374, 'won': 375, 'because': 376, 'elephant': 377, 'matata': 378, 'others': 379, 'him': 380, 'stage': 381, 'tim': 382, '13': 383, '15': 384, 'save': 385, 'though': 386, 'top': 387, 'including': 388}\n"
     ]
    }
   ],
   "source": [
    "print(word2index)"
   ]
  },
  {
   "cell_type": "code",
   "execution_count": 11,
   "id": "unique-profession",
   "metadata": {},
   "outputs": [
    {
     "name": "stdout",
     "output_type": "stream",
     "text": [
      "{0: 'before', 1: 'much', 2: 'while', 3: 'desert', 4: 'are', 5: 'first', 6: 'done', 7: 'but', 8: 'falls', 9: 'work', 10: '2', 11: 'friend', 12: 'takes', 13: 'can', 14: 'daughter', 15: 'makes', 16: 'liked', 17: 'lies', 18: 'john', 19: 'die', 20: 'rescued', 21: 'puts', 22: 'roars', 23: 'will', 24: 'past', 25: 'his', 26: 'then', 27: 'used', 28: 'ed', 29: 'mother', 30: 'shown', 31: 'forbidden', 32: 'interested', 33: 'which', 34: 'walt', 35: 'show', 36: 'gump', 37: 'picks', 38: 'irons', 39: 'stars', 40: 'feature', 41: 'forrest', 42: 'actors', 43: 'worldwide', 44: 'valley', 45: 'rescues', 46: 'shortly', 47: 'dangerous', 48: 'prepared', 49: 'time', 50: 'scars', 51: 'sarabi', 52: 'opened', 53: 'dead', 54: 'appears', 55: 'killed', 56: 'gather', 57: 'home', 58: 'third', 59: 'atkinson', 60: 'by', 61: 'find', 62: 'there', 63: 'walks', 64: 'became', 65: 'adult', 66: 'simbas', 67: 'company', 68: 'trouble', 69: 'lions', 70: 'nemo', 71: 'died', 72: 'music', 73: 'jonathan', 74: 'back', 75: 'across', 76: 'edge', 77: 'her', 78: 'finds', 79: 'leave', 80: 'fight', 81: 'lot', 82: 'scene', 83: '1990s', 84: 'fights', 85: 'prince', 86: 'than', 87: 'becomes', 88: 'year', 89: 'known', 90: 'uks', 91: 'as', 92: 'animals', 93: 'right', 94: 'towards', 95: 'made', 96: 'like', 97: 'it', 98: 'no', 99: 'three', 100: 'lightning', 101: 'taylor', 102: 'land', 103: 'timon', 104: 'son', 105: 'into', 106: 'them', 107: 'place', 108: 'who', 109: 'nala', 110: 'out', 111: 'comes', 112: 'instead', 113: 'city', 114: 'sees', 115: 'down', 116: 'finding', 117: 'female', 118: 'causing', 119: 'later', 120: 'speaks', 121: 'death', 122: 'everyone', 123: 'looking', 124: 'family', 125: 'day', 126: 'dedicated', 127: 'many', 128: 'whoopi', 129: 'until', 130: 'london', 131: 'called', 132: 'must', 133: 'disney', 134: 'was', 135: 'popular', 136: 'voice', 137: 'movie', 138: 'after', 139: 'united', 140: 'president', 141: 'pocahontas', 142: 'lots', 143: 'messenger', 144: 'scar', 145: 'both', 146: 'when', 147: 'with', 148: 'follow', 149: 'song', 150: 'elton', 151: 'meerkat', 152: 'next', 153: 'wells', 154: 'even', 155: 'below', 156: 'ghost', 157: 'water', 158: 'another', 159: 'computer', 160: 'get', 161: 'is', 162: 'june', 163: 'great', 164: 'he', 165: 'new', 166: 'stampede', 167: 'success', 168: 'life', 169: 'would', 170: 'live', 171: 'blames', 172: 'to', 173: 'come', 174: 'theaters', 175: 'songs', 176: 'truth', 177: 'sky', 178: 'fire', 179: 'everything', 180: 'see', 181: 'since', 182: 'being', 183: 'studio', 184: 'dies', 185: 'released', 186: 'graveyard', 187: 'rock', 188: 'bad', 189: 'other', 190: 'for', 191: 'tries', 192: 'up', 193: 'york', 194: 'go', 195: 'thinks', 196: 'so', 197: 'happens', 198: 'during', 199: 'hitting', 200: 'tree', 201: 'people', 202: 'hits', 203: 'alright', 204: 'simba', 205: 'trailer', 206: 'animated', 207: 'zazu', 208: 'surprise', 209: 'holds', 210: 'found', 211: 'also', 212: 'kill', 213: 'ground', 214: 'on', 215: 'eat', 216: 'make', 217: 'starts', 218: 'angry', 219: 'november', 220: 'their', 221: 'bambi', 222: 'be', 223: 'attack', 224: 'shenzi', 225: 'rowan', 226: 'matthew', 227: '1997', 228: 'rafiki', 229: 'nalas', 230: 'want', 231: 'a', 232: 'fighting', 233: 'biggest', 234: 'dry', 235: 'each', 236: 'very', 237: 'states', 238: 'and', 239: 'jungle', 240: 'wait', 241: 'james', 242: 'lion', 243: 'shrek', 244: 'become', 245: 'circle', 246: 'acting', 247: 'high', 248: 'trick', 249: 'actually', 250: 'jeremy', 251: 'not', 252: 'pumbaa', 253: 'goldberg', 254: 'where', 255: 'long', 256: 'has', 257: 'pumbaas', 258: 'at', 259: 'goes', 260: 'gone', 261: 'cant', 262: 'rejoice', 263: 'runs', 264: 'happy', 265: 'waiting', 266: 'lyrics', 267: 'rain', 268: 'look', 269: 'upset', 270: 'lionesses', 271: 'revealed', 272: 'banzai', 273: 'danger', 274: 'all', 275: 'more', 276: 'broderick', 277: 'movies', 278: 'learns', 279: 'thought', 280: 'the', 281: 'most', 282: 'deep', 283: '1994', 284: 'lifts', 285: 'that', 286: 'mufasas', 287: 'does', 288: 'human', 289: 'frank', 290: 'working', 291: 'an', 292: 'throws', 293: 'fulllength', 294: 'musical', 295: 'blame', 296: 'lane', 297: 'gorge', 298: 'have', 299: 'especially', 300: 'alone', 301: 'warthog', 302: 'from', 303: 'above', 304: 'about', 305: 'jealous', 306: 'wildebeest', 307: 'this', 308: 'big', 309: 'wellknown', 310: 'planned', 311: 'shows', 312: 'hakuna', 313: 'kings', 314: 'king', 315: 'making', 316: 'nathan', 317: 'born', 318: 'says', 319: 'characters', 320: 'over', 321: 'did', 322: 'of', 323: 'successful', 324: 'hole', 325: 'collapses', 326: 'know', 327: 'been', 328: 'they', 329: 'young', 330: 'mufasa', 331: 'saves', 332: 'fall', 333: 'brave', 334: 'pride', 335: 'compared', 336: 'were', 337: 'animation', 338: 'in', 339: 'two', 340: 'celebrate', 341: 'i', 342: 'hyenas', 343: 'tells', 344: 'wonderful', 345: 'end', 346: 'trapped', 347: 'birds', 348: 'explains', 349: 'field', 350: 'role', 351: 'england', 352: 'watch', 353: 'awardwinning', 354: 'wants', 355: 'blamed', 356: 'successeful', 357: 'lioness', 358: 'only', 359: 'one', 360: 'brother', 361: 'going', 362: 'thomas', 363: 'run', 364: 'earl', 365: 'chased', 366: 'away', 367: 'just', 368: 'jones', 369: 'rice', 370: 'opening', 371: 'world', 372: 'relaxed', 373: 'love', 374: 'version', 375: 'won', 376: 'because', 377: 'elephant', 378: 'matata', 379: 'others', 380: 'him', 381: 'stage', 382: 'tim', 383: '13', 384: '15', 385: 'save', 386: 'though', 387: 'top', 388: 'including'}\n"
     ]
    }
   ],
   "source": [
    "print(index2word)"
   ]
  },
  {
   "cell_type": "code",
   "execution_count": 12,
   "id": "unavailable-banks",
   "metadata": {},
   "outputs": [
    {
     "name": "stdout",
     "output_type": "stream",
     "text": [
      "[('king', ['the', 'lion', 'is', 'an']), ('is', ['lion', 'king', 'an', 'animated']), ('an', ['king', 'is', 'animated', 'movie']), ('animated', ['is', 'an', 'movie', 'made']), ('movie', ['an', 'animated', 'made', 'by']), ('made', ['animated', 'movie', 'by', 'walt']), ('by', ['movie', 'made', 'walt', 'disney']), ('walt', ['made', 'by', 'disney', 'in']), ('disney', ['by', 'walt', 'in', '1994']), ('in', ['walt', 'disney', '1994', 'it']), ('1994', ['disney', 'in', 'it', 'was']), ('it', ['in', '1994', 'was', 'the']), ('was', ['1994', 'it', 'the', 'most']), ('the', ['it', 'was', 'most', 'successful']), ('most', ['was', 'the', 'successful', 'animated']), ('successful', ['the', 'most', 'animated', 'movie']), ('animated', ['most', 'successful', 'movie', 'of']), ('movie', ['successful', 'animated', 'of', 'the']), ('of', ['animated', 'movie', 'the', '1990s']), ('the', ['movie', 'of', '1990s', 'the']), ('1990s', ['of', 'the', 'the', 'movie']), ('the', ['the', '1990s', 'movie', 'is']), ('movie', ['1990s', 'the', 'is', 'about']), ('is', ['the', 'movie', 'about', 'a']), ('about', ['movie', 'is', 'a', 'young']), ('a', ['is', 'about', 'young', 'lion']), ('young', ['about', 'a', 'lion', 'prince']), ('lion', ['a', 'young', 'prince', 'who']), ('prince', ['young', 'lion', 'who', 'learns']), ('who', ['lion', 'prince', 'learns', 'about']), ('learns', ['prince', 'who', 'about', 'his']), ('about', ['who', 'learns', 'his', 'role']), ('his', ['learns', 'about', 'role', 'as']), ('role', ['about', 'his', 'as', 'prince']), ('as', ['his', 'role', 'prince', 'and']), ('prince', ['role', 'as', 'and', 'in']), ('and', ['as', 'prince', 'in', 'the']), ('in', ['prince', 'and', 'the', 'circle']), ('the', ['and', 'in', 'circle', 'of']), ('circle', ['in', 'the', 'of', 'life']), ('of', ['the', 'circle', 'life', 'it']), ('life', ['circle', 'of', 'it', 'is']), ('it', ['of', 'life', 'is', 'dedicated']), ('is', ['life', 'it', 'dedicated', 'to']), ('dedicated', ['it', 'is', 'to', 'frank']), ('to', ['is', 'dedicated', 'frank', 'wells']), ('frank', ['dedicated', 'to', 'wells', 'who']), ('wells', ['to', 'frank', 'who', 'was']), ('who', ['frank', 'wells', 'was', 'the']), ('was', ['wells', 'who', 'the', 'president']), ('the', ['who', 'was', 'president', 'of']), ('president', ['was', 'the', 'of', 'the']), ('of', ['the', 'president', 'the', 'walt']), ('the', ['president', 'of', 'walt', 'disney']), ('walt', ['of', 'the', 'disney', 'company']), ('disney', ['the', 'walt', 'company', 'and']), ('company', ['walt', 'disney', 'and', 'died']), ('and', ['disney', 'company', 'died', 'shortly']), ('died', ['company', 'and', 'shortly', 'before']), ('shortly', ['and', 'died', 'before', 'the']), ('before', ['died', 'shortly', 'the', 'movie']), ('the', ['shortly', 'before', 'movie', 'was']), ('movie', ['before', 'the', 'was', 'released']), ('was', ['the', 'movie', 'released', 'into']), ('released', ['movie', 'was', 'into', 'theaters']), ('into', ['was', 'released', 'theaters', 'on']), ('theaters', ['released', 'into', 'on', 'june']), ('on', ['into', 'theaters', 'june', '15']), ('june', ['theaters', 'on', '15', '1994']), ('15', ['on', 'june', '1994', 'it']), ('1994', ['june', '15', 'it', 'was']), ('it', ['15', '1994', 'was', 'the']), ('was', ['1994', 'it', 'the', 'first']), ('the', ['it', 'was', 'first', 'fulllength']), ('first', ['was', 'the', 'fulllength', 'disney']), ('fulllength', ['the', 'first', 'disney', 'movie']), ('disney', ['first', 'fulllength', 'movie', 'to']), ('movie', ['fulllength', 'disney', 'to', 'feature']), ('to', ['disney', 'movie', 'feature', 'no']), ('feature', ['movie', 'to', 'no', 'human']), ('no', ['to', 'feature', 'human', 'characters']), ('human', ['feature', 'no', 'characters', 'since']), ('characters', ['no', 'human', 'since', 'bambi']), ('since', ['human', 'characters', 'bambi', 'much']), ('bambi', ['characters', 'since', 'much', 'of']), ('much', ['since', 'bambi', 'of', 'the']), ('of', ['bambi', 'much', 'the', 'voice']), ('the', ['much', 'of', 'voice', 'acting']), ('voice', ['of', 'the', 'acting', 'work']), ('acting', ['the', 'voice', 'work', 'was']), ('work', ['voice', 'acting', 'was', 'done']), ('was', ['acting', 'work', 'done', 'by']), ('done', ['work', 'was', 'by', 'wellknown']), ('by', ['was', 'done', 'wellknown', 'actors']), ('wellknown', ['done', 'by', 'actors', 'including']), ('actors', ['by', 'wellknown', 'including', 'james']), ('including', ['wellknown', 'actors', 'james', 'earl']), ('james', ['actors', 'including', 'earl', 'jones']), ('earl', ['including', 'james', 'jones', 'jeremy']), ('jones', ['james', 'earl', 'jeremy', 'irons']), ('jeremy', ['earl', 'jones', 'irons', 'matthew']), ('irons', ['jones', 'jeremy', 'matthew', 'broderick']), ('matthew', ['jeremy', 'irons', 'broderick', 'whoopi']), ('broderick', ['irons', 'matthew', 'whoopi', 'goldberg']), ('whoopi', ['matthew', 'broderick', 'goldberg', 'rowan']), ('goldberg', ['broderick', 'whoopi', 'rowan', 'atkinson']), ('rowan', ['whoopi', 'goldberg', 'atkinson', 'jonathan']), ('atkinson', ['goldberg', 'rowan', 'jonathan', 'taylor']), ('jonathan', ['rowan', 'atkinson', 'taylor', 'thomas']), ('taylor', ['atkinson', 'jonathan', 'thomas', 'and']), ('thomas', ['jonathan', 'taylor', 'and', 'nathan']), ('and', ['taylor', 'thomas', 'nathan', 'lane']), ('nathan', ['thomas', 'and', 'lane', 'the']), ('lane', ['and', 'nathan', 'the', 'lion']), ('the', ['nathan', 'lane', 'lion', 'king']), ('lion', ['lane', 'the', 'king', 'is']), ('king', ['the', 'lion', 'is', 'a']), ('is', ['lion', 'king', 'a', 'musical']), ('a', ['king', 'is', 'musical', 'the']), ('musical', ['is', 'a', 'the', 'songs']), ('the', ['a', 'musical', 'songs', 'have']), ('songs', ['musical', 'the', 'have', 'music']), ('have', ['the', 'songs', 'music', 'by']), ('music', ['songs', 'have', 'by', 'elton']), ('by', ['have', 'music', 'elton', 'john']), ('elton', ['music', 'by', 'john', 'and']), ('john', ['by', 'elton', 'and', 'lyrics']), ('and', ['elton', 'john', 'lyrics', 'by']), ('lyrics', ['john', 'and', 'by', 'tim']), ('by', ['and', 'lyrics', 'tim', 'rice']), ('tim', ['lyrics', 'by', 'rice', 'computer']), ('rice', ['by', 'tim', 'computer', 'animation']), ('computer', ['tim', 'rice', 'animation', 'was']), ('animation', ['rice', 'computer', 'was', 'used']), ('was', ['computer', 'animation', 'used', 'a']), ('used', ['animation', 'was', 'a', 'lot']), ('a', ['was', 'used', 'lot', 'when']), ('lot', ['used', 'a', 'when', 'making']), ('when', ['a', 'lot', 'making', 'the']), ('making', ['lot', 'when', 'the', 'movie']), ('the', ['when', 'making', 'movie', 'like']), ('movie', ['making', 'the', 'like', 'during']), ('like', ['the', 'movie', 'during', 'the']), ('during', ['movie', 'like', 'the', 'song']), ('the', ['like', 'during', 'song', 'circle']), ('song', ['during', 'the', 'circle', 'of']), ('circle', ['the', 'song', 'of', 'life']), ('of', ['song', 'circle', 'life', 'and']), ('life', ['circle', 'of', 'and', 'others']), ('and', ['of', 'life', 'others', 'when']), ('others', ['life', 'and', 'when', 'they']), ('when', ['and', 'others', 'they', 'were']), ('they', ['others', 'when', 'were', 'making']), ('were', ['when', 'they', 'making', 'it']), ('making', ['they', 'were', 'it', 'this']), ('it', ['were', 'making', 'this', 'movie']), ('this', ['making', 'it', 'movie', 'was']), ('movie', ['it', 'this', 'was', 'thought']), ('was', ['this', 'movie', 'thought', 'of']), ('thought', ['movie', 'was', 'of', 'as']), ('of', ['was', 'thought', 'as', 'just']), ('as', ['thought', 'of', 'just', 'alright']), ('just', ['of', 'as', 'alright', 'compared']), ('alright', ['as', 'just', 'compared', 'to']), ('compared', ['just', 'alright', 'to', 'the']), ('to', ['alright', 'compared', 'the', 'movie']), ('the', ['compared', 'to', 'movie', 'they']), ('movie', ['to', 'the', 'they', 'were']), ('they', ['the', 'movie', 'were', 'going']), ('were', ['movie', 'they', 'going', 'to']), ('going', ['they', 'were', 'to', 'make']), ('to', ['were', 'going', 'make', 'after']), ('make', ['going', 'to', 'after', 'that']), ('after', ['to', 'make', 'that', 'which']), ('that', ['make', 'after', 'which', 'would']), ('which', ['after', 'that', 'would', 'be']), ('would', ['that', 'which', 'be', 'pocahontas']), ('be', ['which', 'would', 'pocahontas', 'the']), ('pocahontas', ['would', 'be', 'the', 'studio']), ('the', ['be', 'pocahontas', 'studio', 'released']), ('studio', ['pocahontas', 'the', 'released', 'the']), ('released', ['the', 'studio', 'the', 'trailer']), ('the', ['studio', 'released', 'trailer', 'and']), ('trailer', ['released', 'the', 'and', 'found']), ('and', ['the', 'trailer', 'found', 'that']), ('found', ['trailer', 'and', 'that', 'many']), ('that', ['and', 'found', 'many', 'people']), ('many', ['found', 'that', 'people', 'liked']), ('people', ['that', 'many', 'liked', 'it']), ('liked', ['many', 'people', 'it', 'especially']), ('it', ['people', 'liked', 'especially', 'the']), ('especially', ['liked', 'it', 'the', 'song']), ('the', ['it', 'especially', 'song', 'circle']), ('song', ['especially', 'the', 'circle', 'of']), ('circle', ['the', 'song', 'of', 'life']), ('of', ['song', 'circle', 'life', 'when']), ('life', ['circle', 'of', 'when', 'it']), ('when', ['of', 'life', 'it', 'was']), ('it', ['life', 'when', 'was', 'released']), ('was', ['when', 'it', 'released', 'the']), ('released', ['it', 'was', 'the', 'movie']), ('the', ['was', 'released', 'movie', 'became']), ('movie', ['released', 'the', 'became', 'the']), ('became', ['the', 'movie', 'the', 'most']), ('the', ['movie', 'became', 'most', 'successeful']), ('most', ['became', 'the', 'successeful', 'movie']), ('successeful', ['the', 'most', 'movie', 'worldwide']), ('movie', ['most', 'successeful', 'worldwide', 'in']), ('worldwide', ['successeful', 'movie', 'in', 'the']), ('in', ['movie', 'worldwide', 'the', 'united']), ('the', ['worldwide', 'in', 'united', 'states']), ('united', ['in', 'the', 'states', 'forrest']), ('states', ['the', 'united', 'forrest', 'gump']), ('forrest', ['united', 'states', 'gump', 'was']), ('gump', ['states', 'forrest', 'was', 'most']), ('was', ['forrest', 'gump', 'most', 'successful']), ('most', ['gump', 'was', 'successful', 'of']), ('successful', ['was', 'most', 'of', 'that']), ('of', ['most', 'successful', 'that', 'year']), ('that', ['successful', 'of', 'year', 'and']), ('year', ['of', 'that', 'and', 'the']), ('and', ['that', 'year', 'the', 'most']), ('the', ['year', 'and', 'most', 'successful']), ('most', ['and', 'the', 'successful', 'animated']), ('successful', ['the', 'most', 'animated', 'feature']), ('animated', ['most', 'successful', 'feature', 'movie']), ('feature', ['successful', 'animated', 'movie', 'of']), ('movie', ['animated', 'feature', 'of', 'all']), ('of', ['feature', 'movie', 'all', 'time']), ('all', ['movie', 'of', 'time', 'until']), ('time', ['of', 'all', 'until', 'finding']), ('until', ['all', 'time', 'finding', 'nemo']), ('finding', ['time', 'until', 'nemo', 'since']), ('nemo', ['until', 'finding', 'since', 'then']), ('since', ['finding', 'nemo', 'then', 'shrek']), ('then', ['nemo', 'since', 'shrek', '2']), ('shrek', ['since', 'then', '2', 'has']), ('2', ['then', 'shrek', 'has', 'become']), ('has', ['shrek', '2', 'become', 'more']), ('become', ['2', 'has', 'more', 'successful']), ('more', ['has', 'become', 'successful', 'than']), ('successful', ['become', 'more', 'than', 'finding']), ('than', ['more', 'successful', 'finding', 'nemo']), ('finding', ['successful', 'than', 'nemo', 'making']), ('nemo', ['than', 'finding', 'making', 'the']), ('making', ['finding', 'nemo', 'the', 'lion']), ('the', ['nemo', 'making', 'lion', 'king']), ('lion', ['making', 'the', 'king', 'the']), ('king', ['the', 'lion', 'the', 'third']), ('the', ['lion', 'king', 'third', 'most']), ('third', ['king', 'the', 'most', 'successful']), ('most', ['the', 'third', 'successful', 'the']), ('successful', ['third', 'most', 'the', 'movie']), ('the', ['most', 'successful', 'movie', 'was']), ('movie', ['successful', 'the', 'was', 'also']), ('was', ['the', 'movie', 'also', 'made']), ('also', ['movie', 'was', 'made', 'into']), ('made', ['was', 'also', 'into', 'an']), ('into', ['also', 'made', 'an', 'awardwinning']), ('an', ['made', 'into', 'awardwinning', 'stage']), ('awardwinning', ['into', 'an', 'stage', 'musical']), ('stage', ['an', 'awardwinning', 'musical', 'the']), ('musical', ['awardwinning', 'stage', 'the', 'stage']), ('the', ['stage', 'musical', 'stage', 'show']), ('stage', ['musical', 'the', 'show', 'first']), ('show', ['the', 'stage', 'first', 'opened']), ('first', ['stage', 'show', 'opened', 'on']), ('opened', ['show', 'first', 'on', 'november']), ('on', ['first', 'opened', 'november', '13']), ('november', ['opened', 'on', '13', '1997']), ('13', ['on', 'november', '1997', 'in']), ('1997', ['november', '13', 'in', 'new']), ('in', ['13', '1997', 'new', 'york']), ('new', ['1997', 'in', 'york', 'city']), ('york', ['in', 'new', 'city', 'and']), ('city', ['new', 'york', 'and', 'it']), ('and', ['york', 'city', 'it', 'was']), ('it', ['city', 'and', 'was', 'a']), ('was', ['and', 'it', 'a', 'big']), ('a', ['it', 'was', 'big', 'success']), ('big', ['was', 'a', 'success', 'a']), ('success', ['a', 'big', 'a', 'version']), ('a', ['big', 'success', 'version', 'opened']), ('version', ['success', 'a', 'opened', 'later']), ('opened', ['a', 'version', 'later', 'in']), ('later', ['version', 'opened', 'in', 'london']), ('in', ['opened', 'later', 'london', 'england']), ('london', ['later', 'in', 'england', 'many']), ('england', ['in', 'london', 'many', 'other']), ('many', ['london', 'england', 'other', 'shows']), ('other', ['england', 'many', 'shows', 'of']), ('shows', ['many', 'other', 'of', 'the']), ('of', ['other', 'shows', 'the', 'lion']), ('the', ['shows', 'of', 'lion', 'king']), ('lion', ['of', 'the', 'king', 'have']), ('king', ['the', 'lion', 'have', 'been']), ('have', ['lion', 'king', 'been', 'shown']), ('been', ['king', 'have', 'shown', 'across']), ('shown', ['have', 'been', 'across', 'the']), ('across', ['been', 'shown', 'the', 'world']), ('the', ['shown', 'across', 'world', 'and']), ('world', ['across', 'the', 'and', 'is']), ('and', ['the', 'world', 'is', 'one']), ('is', ['world', 'and', 'one', 'of']), ('one', ['and', 'is', 'of', 'the']), ('of', ['is', 'one', 'the', 'uks']), ('the', ['one', 'of', 'uks', 'biggest']), ('uks', ['of', 'the', 'biggest', 'and']), ('biggest', ['the', 'uks', 'and', 'most']), ('and', ['uks', 'biggest', 'most', 'popular']), ('most', ['biggest', 'and', 'popular', 'shows']), ('popular', ['and', 'most', 'shows', 'in']), ('shows', ['most', 'popular', 'in', 'the']), ('in', ['popular', 'shows', 'the', 'movies']), ('the', ['shows', 'in', 'movies', 'opening']), ('movies', ['in', 'the', 'opening', 'scene']), ('opening', ['the', 'movies', 'scene', 'lots']), ('scene', ['movies', 'opening', 'lots', 'of']), ('lots', ['opening', 'scene', 'of', 'animals']), ('of', ['scene', 'lots', 'animals', 'and']), ('animals', ['lots', 'of', 'and', 'birds']), ('and', ['of', 'animals', 'birds', 'gather']), ('birds', ['animals', 'and', 'gather', 'at']), ('gather', ['and', 'birds', 'at', 'pride']), ('at', ['birds', 'gather', 'pride', 'rock']), ('pride', ['gather', 'at', 'rock', 'to']), ('rock', ['at', 'pride', 'to', 'see']), ('to', ['pride', 'rock', 'see', 'simba']), ('see', ['rock', 'to', 'simba', 'the']), ('simba', ['to', 'see', 'the', 'new']), ('the', ['see', 'simba', 'new', 'prince']), ('new', ['simba', 'the', 'prince', 'who']), ('prince', ['the', 'new', 'who', 'has']), ('who', ['new', 'prince', 'has', 'just']), ('has', ['prince', 'who', 'just', 'been']), ('just', ['who', 'has', 'been', 'born']), ('been', ['has', 'just', 'born', 'simba']), ('born', ['just', 'been', 'simba', 'is']), ('simba', ['been', 'born', 'is', 'the']), ('is', ['born', 'simba', 'the', 'son']), ('the', ['simba', 'is', 'son', 'of']), ('son', ['is', 'the', 'of', 'mufasa']), ('of', ['the', 'son', 'mufasa', 'and']), ('mufasa', ['son', 'of', 'and', 'sarabi']), ('and', ['of', 'mufasa', 'sarabi', 'rafiki']), ('sarabi', ['mufasa', 'and', 'rafiki', 'picks']), ('rafiki', ['and', 'sarabi', 'picks', 'up']), ('picks', ['sarabi', 'rafiki', 'up', 'simba']), ('up', ['rafiki', 'picks', 'simba', 'and']), ('simba', ['picks', 'up', 'and', 'lifts']), ('and', ['up', 'simba', 'lifts', 'him']), ('lifts', ['simba', 'and', 'him', 'high']), ('him', ['and', 'lifts', 'high', 'up']), ('high', ['lifts', 'him', 'up', 'so']), ('up', ['him', 'high', 'so', 'that']), ('so', ['high', 'up', 'that', 'all']), ('that', ['up', 'so', 'all', 'of']), ('all', ['so', 'that', 'of', 'the']), ('of', ['that', 'all', 'the', 'animals']), ('the', ['all', 'of', 'animals', 'can']), ('animals', ['of', 'the', 'can', 'see']), ('can', ['the', 'animals', 'see', 'the']), ('see', ['animals', 'can', 'the', 'animals']), ('the', ['can', 'see', 'animals', 'celebrate']), ('animals', ['see', 'the', 'celebrate', 'and']), ('celebrate', ['the', 'animals', 'and', 'rejoice']), ('and', ['animals', 'celebrate', 'rejoice', 'but']), ('rejoice', ['celebrate', 'and', 'but', 'scar']), ('but', ['and', 'rejoice', 'scar', 'mufasas']), ('scar', ['rejoice', 'but', 'mufasas', 'brother']), ('mufasas', ['but', 'scar', 'brother', 'is']), ('brother', ['scar', 'mufasas', 'is', 'jealous']), ('is', ['mufasas', 'brother', 'jealous', 'because']), ('jealous', ['brother', 'is', 'because', 'simba']), ('because', ['is', 'jealous', 'simba', 'will']), ('simba', ['jealous', 'because', 'will', 'be']), ('will', ['because', 'simba', 'be', 'king']), ('be', ['simba', 'will', 'king', 'instead']), ('king', ['will', 'be', 'instead', 'of']), ('instead', ['be', 'king', 'of', 'him']), ('of', ['king', 'instead', 'him', 'scar']), ('him', ['instead', 'of', 'scar', 'lies']), ('scar', ['of', 'him', 'lies', 'to']), ('lies', ['him', 'scar', 'to', 'simba']), ('to', ['scar', 'lies', 'simba', 'about']), ('simba', ['lies', 'to', 'about', 'a']), ('about', ['to', 'simba', 'a', 'dangerous']), ('a', ['simba', 'about', 'dangerous', 'place']), ('dangerous', ['about', 'a', 'place', 'called']), ('place', ['a', 'dangerous', 'called', 'the']), ('called', ['dangerous', 'place', 'the', 'elephant']), ('the', ['place', 'called', 'elephant', 'graveyard']), ('elephant', ['called', 'the', 'graveyard', 'scar']), ('graveyard', ['the', 'elephant', 'scar', 'says']), ('scar', ['elephant', 'graveyard', 'says', 'that']), ('says', ['graveyard', 'scar', 'that', 'only']), ('that', ['scar', 'says', 'only', 'brave']), ('only', ['says', 'that', 'brave', 'lions']), ('brave', ['that', 'only', 'lions', 'go']), ('lions', ['only', 'brave', 'go', 'there']), ('go', ['brave', 'lions', 'there', 'causing']), ('there', ['lions', 'go', 'causing', 'simba']), ('causing', ['go', 'there', 'simba', 'to']), ('simba', ['there', 'causing', 'to', 'be']), ('to', ['causing', 'simba', 'be', 'interested']), ('be', ['simba', 'to', 'interested', 'even']), ('interested', ['to', 'be', 'even', 'though']), ('even', ['be', 'interested', 'though', 'mufasa']), ('though', ['interested', 'even', 'mufasa', 'has']), ('mufasa', ['even', 'though', 'has', 'forbidden']), ('has', ['though', 'mufasa', 'forbidden', 'simba']), ('forbidden', ['mufasa', 'has', 'simba', 'from']), ('simba', ['has', 'forbidden', 'from', 'going']), ('from', ['forbidden', 'simba', 'going', 'there']), ('going', ['simba', 'from', 'there', 'simba']), ('there', ['from', 'going', 'simba', 'lies']), ('simba', ['going', 'there', 'lies', 'to']), ('lies', ['there', 'simba', 'to', 'his']), ('to', ['simba', 'lies', 'his', 'mother']), ('his', ['lies', 'to', 'mother', 'sarabi']), ('mother', ['to', 'his', 'sarabi', 'about']), ('sarabi', ['his', 'mother', 'about', 'going']), ('about', ['mother', 'sarabi', 'going', 'to']), ('going', ['sarabi', 'about', 'to', 'the']), ('to', ['about', 'going', 'the', 'water']), ('the', ['going', 'to', 'water', 'hole']), ('water', ['to', 'the', 'hole', 'when']), ('hole', ['the', 'water', 'when', 'he']), ('when', ['water', 'hole', 'he', 'is']), ('he', ['hole', 'when', 'is', 'actually']), ('is', ['when', 'he', 'actually', 'going']), ('actually', ['he', 'is', 'going', 'to']), ('going', ['is', 'actually', 'to', 'the']), ('to', ['actually', 'going', 'the', 'elephant']), ('the', ['going', 'to', 'elephant', 'graveyard']), ('elephant', ['to', 'the', 'graveyard', 'simbas']), ('graveyard', ['the', 'elephant', 'simbas', 'friend']), ('simbas', ['elephant', 'graveyard', 'friend', 'nala']), ('friend', ['graveyard', 'simbas', 'nala', 'and']), ('nala', ['simbas', 'friend', 'and', 'zazu']), ('and', ['friend', 'nala', 'zazu', 'the']), ('zazu', ['nala', 'and', 'the', 'kings']), ('the', ['and', 'zazu', 'kings', 'messenger']), ('kings', ['zazu', 'the', 'messenger', 'go']), ('messenger', ['the', 'kings', 'go', 'with']), ('go', ['kings', 'messenger', 'with', 'simba']), ('with', ['messenger', 'go', 'simba', 'simba']), ('simba', ['go', 'with', 'simba', 'and']), ('simba', ['with', 'simba', 'and', 'nala']), ('and', ['simba', 'simba', 'nala', 'trick']), ('nala', ['simba', 'and', 'trick', 'zazu']), ('trick', ['and', 'nala', 'zazu', 'with']), ('zazu', ['nala', 'trick', 'with', 'the']), ('with', ['trick', 'zazu', 'the', 'song']), ('the', ['zazu', 'with', 'song', 'i']), ('song', ['with', 'the', 'i', 'just']), ('i', ['the', 'song', 'just', 'cant']), ('just', ['song', 'i', 'cant', 'wait']), ('cant', ['i', 'just', 'wait', 'to']), ('wait', ['just', 'cant', 'to', 'be']), ('to', ['cant', 'wait', 'be', 'king']), ('be', ['wait', 'to', 'king', 'and']), ('king', ['to', 'be', 'and', 'run']), ('and', ['be', 'king', 'run', 'away']), ('run', ['king', 'and', 'away', 'from']), ('away', ['and', 'run', 'from', 'him']), ('from', ['run', 'away', 'him', 'simba']), ('him', ['away', 'from', 'simba', 'and']), ('simba', ['from', 'him', 'and', 'nala']), ('and', ['him', 'simba', 'nala', 'find']), ('nala', ['simba', 'and', 'find', 'the']), ('find', ['and', 'nala', 'the', 'elephant']), ('the', ['nala', 'find', 'elephant', 'graveyard']), ('elephant', ['find', 'the', 'graveyard', 'but']), ('graveyard', ['the', 'elephant', 'but', 'are']), ('but', ['elephant', 'graveyard', 'are', 'chased']), ('are', ['graveyard', 'but', 'chased', 'by']), ('chased', ['but', 'are', 'by', 'the']), ('by', ['are', 'chased', 'the', 'three']), ('the', ['chased', 'by', 'three', 'hyenas']), ('three', ['by', 'the', 'hyenas', 'shenzi']), ('hyenas', ['the', 'three', 'shenzi', 'banzai']), ('shenzi', ['three', 'hyenas', 'banzai', 'and']), ('banzai', ['hyenas', 'shenzi', 'and', 'ed']), ('and', ['shenzi', 'banzai', 'ed', 'mufasa']), ('ed', ['banzai', 'and', 'mufasa', 'saves']), ('mufasa', ['and', 'ed', 'saves', 'his']), ('saves', ['ed', 'mufasa', 'his', 'son']), ('his', ['mufasa', 'saves', 'son', 'and']), ('son', ['saves', 'his', 'and', 'nala']), ('and', ['his', 'son', 'nala', 'and']), ('nala', ['son', 'and', 'and', 'takes']), ('and', ['and', 'nala', 'takes', 'them']), ('takes', ['nala', 'and', 'them', 'both']), ('them', ['and', 'takes', 'both', 'home']), ('both', ['takes', 'them', 'home', 'mufasa']), ('home', ['them', 'both', 'mufasa', 'speaks']), ('mufasa', ['both', 'home', 'speaks', 'to']), ('speaks', ['home', 'mufasa', 'to', 'simba']), ('to', ['mufasa', 'speaks', 'simba', 'alone']), ('simba', ['speaks', 'to', 'alone', 'and']), ('alone', ['to', 'simba', 'and', 'explains']), ('and', ['simba', 'alone', 'explains', 'to']), ('explains', ['alone', 'and', 'to', 'simba']), ('to', ['and', 'explains', 'simba', 'that']), ('simba', ['explains', 'to', 'that', 'being']), ('that', ['to', 'simba', 'being', 'brave']), ('being', ['simba', 'that', 'brave', 'is']), ('brave', ['that', 'being', 'is', 'not']), ('is', ['being', 'brave', 'not', 'about']), ('not', ['brave', 'is', 'about', 'looking']), ('about', ['is', 'not', 'looking', 'for']), ('looking', ['not', 'about', 'for', 'danger']), ('for', ['about', 'looking', 'danger', 'he']), ('danger', ['looking', 'for', 'he', 'also']), ('he', ['for', 'danger', 'also', 'explains']), ('also', ['danger', 'he', 'explains', 'that']), ('explains', ['he', 'also', 'that', 'the']), ('that', ['also', 'explains', 'the', 'great']), ('the', ['explains', 'that', 'great', 'kings']), ('great', ['that', 'the', 'kings', 'of']), ('kings', ['the', 'great', 'of', 'the']), ('of', ['great', 'kings', 'the', 'past']), ('the', ['kings', 'of', 'past', 'look']), ('past', ['of', 'the', 'look', 'down']), ('look', ['the', 'past', 'down', 'from']), ('down', ['past', 'look', 'from', 'the']), ('from', ['look', 'down', 'the', 'stars']), ('the', ['down', 'from', 'stars', 'and']), ('stars', ['from', 'the', 'and', 'watch']), ('and', ['the', 'stars', 'watch', 'over']), ('watch', ['stars', 'and', 'over', 'simba']), ('over', ['and', 'watch', 'simba', 'scar']), ('simba', ['watch', 'over', 'scar', 'in']), ('scar', ['over', 'simba', 'in', 'the']), ('in', ['simba', 'scar', 'the', 'elephant']), ('the', ['scar', 'in', 'elephant', 'graveyard']), ('elephant', ['in', 'the', 'graveyard', 'is']), ('graveyard', ['the', 'elephant', 'is', 'angry']), ('is', ['elephant', 'graveyard', 'angry', 'with']), ('angry', ['graveyard', 'is', 'with', 'the']), ('with', ['is', 'angry', 'the', 'hyenas']), ('the', ['angry', 'with', 'hyenas', 'because']), ('hyenas', ['with', 'the', 'because', 'they']), ('because', ['the', 'hyenas', 'they', 'did']), ('they', ['hyenas', 'because', 'did', 'not']), ('did', ['because', 'they', 'not', 'kill']), ('not', ['they', 'did', 'kill', 'simba']), ('kill', ['did', 'not', 'simba', 'it']), ('simba', ['not', 'kill', 'it', 'is']), ('it', ['kill', 'simba', 'is', 'revealed']), ('is', ['simba', 'it', 'revealed', 'that']), ('revealed', ['it', 'is', 'that', 'the']), ('that', ['is', 'revealed', 'the', 'hyenas']), ('the', ['revealed', 'that', 'hyenas', 'are']), ('hyenas', ['that', 'the', 'are', 'working']), ('are', ['the', 'hyenas', 'working', 'for']), ('working', ['hyenas', 'are', 'for', 'scar']), ('for', ['are', 'working', 'scar', 'during']), ('scar', ['working', 'for', 'during', 'scars']), ('during', ['for', 'scar', 'scars', 'song']), ('scars', ['scar', 'during', 'song', 'be']), ('song', ['during', 'scars', 'be', 'prepared']), ('be', ['scars', 'song', 'prepared', 'the']), ('prepared', ['song', 'be', 'the', 'next']), ('the', ['be', 'prepared', 'next', 'day']), ('next', ['prepared', 'the', 'day', 'scar']), ('day', ['the', 'next', 'scar', 'takes']), ('scar', ['next', 'day', 'takes', 'simba']), ('takes', ['day', 'scar', 'simba', 'into']), ('simba', ['scar', 'takes', 'into', 'a']), ('into', ['takes', 'simba', 'a', 'gorge']), ('a', ['simba', 'into', 'gorge', 'long']), ('gorge', ['into', 'a', 'long', 'deep']), ('long', ['a', 'gorge', 'deep', 'hole']), ('deep', ['gorge', 'long', 'hole', 'in']), ('hole', ['long', 'deep', 'in', 'the']), ('in', ['deep', 'hole', 'the', 'ground']), ('the', ['hole', 'in', 'ground', 'also']), ('ground', ['in', 'the', 'also', 'known']), ('also', ['the', 'ground', 'known', 'as']), ('known', ['ground', 'also', 'as', 'a']), ('as', ['also', 'known', 'a', 'valley']), ('a', ['known', 'as', 'valley', 'where']), ('valley', ['as', 'a', 'where', 'he']), ('where', ['a', 'valley', 'he', 'explains']), ('he', ['valley', 'where', 'explains', 'that']), ('explains', ['where', 'he', 'that', 'mufasa']), ('that', ['he', 'explains', 'mufasa', 'has']), ('mufasa', ['explains', 'that', 'has', 'a']), ('has', ['that', 'mufasa', 'a', 'wonderful']), ('a', ['mufasa', 'has', 'wonderful', 'surprise']), ('wonderful', ['has', 'a', 'surprise', 'waiting']), ('surprise', ['a', 'wonderful', 'waiting', 'scar']), ('waiting', ['wonderful', 'surprise', 'scar', 'has']), ('scar', ['surprise', 'waiting', 'has', 'actually']), ('has', ['waiting', 'scar', 'actually', 'planned']), ('actually', ['scar', 'has', 'planned', 'a']), ('planned', ['has', 'actually', 'a', 'wildebeest']), ('a', ['actually', 'planned', 'wildebeest', 'stampede']), ('wildebeest', ['planned', 'a', 'stampede', 'with']), ('stampede', ['a', 'wildebeest', 'with', 'the']), ('with', ['wildebeest', 'stampede', 'the', 'hyenas']), ('the', ['stampede', 'with', 'hyenas', 'simba']), ('hyenas', ['with', 'the', 'simba', 'is']), ('simba', ['the', 'hyenas', 'is', 'trapped']), ('is', ['hyenas', 'simba', 'trapped', 'in']), ('trapped', ['simba', 'is', 'in', 'the']), ('in', ['is', 'trapped', 'the', 'gorge']), ('the', ['trapped', 'in', 'gorge', 'as']), ('gorge', ['in', 'the', 'as', 'the']), ('as', ['the', 'gorge', 'the', 'wildebeest']), ('the', ['gorge', 'as', 'wildebeest', 'run']), ('wildebeest', ['as', 'the', 'run', 'towards']), ('run', ['the', 'wildebeest', 'towards', 'him']), ('towards', ['wildebeest', 'run', 'him', 'scar']), ('him', ['run', 'towards', 'scar', 'tells']), ('scar', ['towards', 'him', 'tells', 'mufasa']), ('tells', ['him', 'scar', 'mufasa', 'that']), ('mufasa', ['scar', 'tells', 'that', 'simba']), ('that', ['tells', 'mufasa', 'simba', 'is']), ('simba', ['mufasa', 'that', 'is', 'in']), ('is', ['that', 'simba', 'in', 'trouble']), ('in', ['simba', 'is', 'trouble', 'and']), ('trouble', ['is', 'in', 'and', 'mufasa']), ('and', ['in', 'trouble', 'mufasa', 'rescues']), ('mufasa', ['trouble', 'and', 'rescues', 'his']), ('rescues', ['and', 'mufasa', 'his', 'son']), ('his', ['mufasa', 'rescues', 'son', 'scar']), ('son', ['rescues', 'his', 'scar', 'then']), ('scar', ['his', 'son', 'then', 'throws']), ('then', ['son', 'scar', 'throws', 'mufasa']), ('throws', ['scar', 'then', 'mufasa', 'into']), ('mufasa', ['then', 'throws', 'into', 'the']), ('into', ['throws', 'mufasa', 'the', 'stampede']), ('the', ['mufasa', 'into', 'stampede', 'and']), ('stampede', ['into', 'the', 'and', 'mufasa']), ('and', ['the', 'stampede', 'mufasa', 'dies']), ('mufasa', ['stampede', 'and', 'dies', 'scar']), ('dies', ['and', 'mufasa', 'scar', 'blames']), ('scar', ['mufasa', 'dies', 'blames', 'simba']), ('blames', ['dies', 'scar', 'simba', 'for']), ('simba', ['scar', 'blames', 'for', 'the']), ('for', ['blames', 'simba', 'the', 'death']), ('the', ['simba', 'for', 'death', 'of']), ('death', ['for', 'the', 'of', 'mufasa']), ('of', ['the', 'death', 'mufasa', 'and']), ('mufasa', ['death', 'of', 'and', 'simba']), ('and', ['of', 'mufasa', 'simba', 'runs']), ('simba', ['mufasa', 'and', 'runs', 'away']), ('runs', ['and', 'simba', 'away', 'scar']), ('away', ['simba', 'runs', 'scar', 'becomes']), ('scar', ['runs', 'away', 'becomes', 'king']), ('becomes', ['away', 'scar', 'king', 'and']), ('king', ['scar', 'becomes', 'and', 'tells']), ('and', ['becomes', 'king', 'tells', 'everyone']), ('tells', ['king', 'and', 'everyone', 'that']), ('everyone', ['and', 'tells', 'that', 'simba']), ('that', ['tells', 'everyone', 'simba', 'and']), ('simba', ['everyone', 'that', 'and', 'mufasa']), ('and', ['that', 'simba', 'mufasa', 'are']), ('mufasa', ['simba', 'and', 'are', 'dead']), ('are', ['and', 'mufasa', 'dead', 'simba']), ('dead', ['mufasa', 'are', 'simba', 'runs']), ('simba', ['are', 'dead', 'runs', 'to']), ('runs', ['dead', 'simba', 'to', 'a']), ('to', ['simba', 'runs', 'a', 'desert']), ('a', ['runs', 'to', 'desert', 'and']), ('desert', ['to', 'a', 'and', 'collapses']), ('and', ['a', 'desert', 'collapses', 'he']), ('collapses', ['desert', 'and', 'he', 'is']), ('he', ['and', 'collapses', 'is', 'rescued']), ('is', ['collapses', 'he', 'rescued', 'by']), ('rescued', ['he', 'is', 'by', 'timon']), ('by', ['is', 'rescued', 'timon', 'the']), ('timon', ['rescued', 'by', 'the', 'meerkat']), ('the', ['by', 'timon', 'meerkat', 'and']), ('meerkat', ['timon', 'the', 'and', 'pumbaa']), ('and', ['the', 'meerkat', 'pumbaa', 'the']), ('pumbaa', ['meerkat', 'and', 'the', 'warthog']), ('the', ['and', 'pumbaa', 'warthog', 'timon']), ('warthog', ['pumbaa', 'the', 'timon', 'and']), ('timon', ['the', 'warthog', 'and', 'pumbaa']), ('and', ['warthog', 'timon', 'pumbaa', 'live']), ('pumbaa', ['timon', 'and', 'live', 'in']), ('live', ['and', 'pumbaa', 'in', 'the']), ('in', ['pumbaa', 'live', 'the', 'jungle']), ('the', ['live', 'in', 'jungle', 'and']), ('jungle', ['in', 'the', 'and', 'are']), ('and', ['the', 'jungle', 'are', 'very']), ('are', ['jungle', 'and', 'very', 'relaxed']), ('very', ['and', 'are', 'relaxed', 'which']), ('relaxed', ['are', 'very', 'which', 'they']), ('which', ['very', 'relaxed', 'they', 'show']), ('they', ['relaxed', 'which', 'show', 'in']), ('show', ['which', 'they', 'in', 'their']), ('in', ['they', 'show', 'their', 'song']), ('their', ['show', 'in', 'song', 'hakuna']), ('song', ['in', 'their', 'hakuna', 'matata']), ('hakuna', ['their', 'song', 'matata', 'timon']), ('matata', ['song', 'hakuna', 'timon', 'and']), ('timon', ['hakuna', 'matata', 'and', 'pumbaa']), ('and', ['matata', 'timon', 'pumbaa', 'look']), ('pumbaa', ['timon', 'and', 'look', 'after']), ('look', ['and', 'pumbaa', 'after', 'simba']), ('after', ['pumbaa', 'look', 'simba', 'until']), ('simba', ['look', 'after', 'until', 'simba']), ('until', ['after', 'simba', 'simba', 'is']), ('simba', ['simba', 'until', 'is', 'an']), ('is', ['until', 'simba', 'an', 'adult']), ('an', ['simba', 'is', 'adult', 'lion']), ('adult', ['is', 'an', 'lion', 'one']), ('lion', ['an', 'adult', 'one', 'day']), ('one', ['adult', 'lion', 'day', 'a']), ('day', ['lion', 'one', 'a', 'lioness']), ('a', ['one', 'day', 'lioness', 'female']), ('lioness', ['day', 'a', 'female', 'lion']), ('female', ['a', 'lioness', 'lion', 'comes']), ('lion', ['lioness', 'female', 'comes', 'to']), ('comes', ['female', 'lion', 'to', 'the']), ('to', ['lion', 'comes', 'the', 'jungle']), ('the', ['comes', 'to', 'jungle', 'and']), ('jungle', ['to', 'the', 'and', 'tries']), ('and', ['the', 'jungle', 'tries', 'to']), ('tries', ['jungle', 'and', 'to', 'kill']), ('to', ['and', 'tries', 'kill', 'and']), ('kill', ['tries', 'to', 'and', 'eat']), ('and', ['to', 'kill', 'eat', 'pumbaa']), ('eat', ['kill', 'and', 'pumbaa', 'simba']), ('pumbaa', ['and', 'eat', 'simba', 'fights']), ('simba', ['eat', 'pumbaa', 'fights', 'the']), ('fights', ['pumbaa', 'simba', 'the', 'lioness']), ('the', ['simba', 'fights', 'lioness', 'because']), ('lioness', ['fights', 'the', 'because', 'he']), ('because', ['the', 'lioness', 'he', 'wants']), ('he', ['lioness', 'because', 'wants', 'to']), ('wants', ['because', 'he', 'to', 'save']), ('to', ['he', 'wants', 'save', 'pumbaas']), ('save', ['wants', 'to', 'pumbaas', 'life']), ('pumbaas', ['to', 'save', 'life', 'while']), ('life', ['save', 'pumbaas', 'while', 'the']), ('while', ['pumbaas', 'life', 'the', 'two']), ('the', ['life', 'while', 'two', 'lions']), ('two', ['while', 'the', 'lions', 'are']), ('lions', ['the', 'two', 'are', 'fighting']), ('are', ['two', 'lions', 'fighting', 'simba']), ('fighting', ['lions', 'are', 'simba', 'finds']), ('simba', ['are', 'fighting', 'finds', 'out']), ('finds', ['fighting', 'simba', 'out', 'that']), ('out', ['simba', 'finds', 'that', 'the']), ('that', ['finds', 'out', 'the', 'lioness']), ('the', ['out', 'that', 'lioness', 'is']), ('lioness', ['that', 'the', 'is', 'his']), ('is', ['the', 'lioness', 'his', 'friend']), ('his', ['lioness', 'is', 'friend', 'nala']), ('friend', ['is', 'his', 'nala', 'they']), ('nala', ['his', 'friend', 'they', 'are']), ('they', ['friend', 'nala', 'are', 'very']), ('are', ['nala', 'they', 'very', 'happy']), ('very', ['they', 'are', 'happy', 'to']), ('happy', ['are', 'very', 'to', 'see']), ('to', ['very', 'happy', 'see', 'each']), ('see', ['happy', 'to', 'each', 'other']), ('each', ['to', 'see', 'other', 'and']), ('other', ['see', 'each', 'and', 'they']), ('and', ['each', 'other', 'they', 'fall']), ('they', ['other', 'and', 'fall', 'in']), ('fall', ['and', 'they', 'in', 'love']), ('in', ['they', 'fall', 'love', 'nala']), ('love', ['fall', 'in', 'nala', 'wants']), ('nala', ['in', 'love', 'wants', 'simba']), ('wants', ['love', 'nala', 'simba', 'to']), ('simba', ['nala', 'wants', 'to', 'go']), ('to', ['wants', 'simba', 'go', 'home']), ('go', ['simba', 'to', 'home', 'and']), ('home', ['to', 'go', 'and', 'fight']), ('and', ['go', 'home', 'fight', 'scar']), ('fight', ['home', 'and', 'scar', 'because']), ('scar', ['and', 'fight', 'because', 'scar']), ('because', ['fight', 'scar', 'scar', 'is']), ('scar', ['scar', 'because', 'is', 'a']), ('is', ['because', 'scar', 'a', 'bad']), ('a', ['scar', 'is', 'bad', 'king']), ('bad', ['is', 'a', 'king', 'simba']), ('king', ['a', 'bad', 'simba', 'will']), ('simba', ['bad', 'king', 'will', 'not']), ('will', ['king', 'simba', 'not', 'go']), ('not', ['simba', 'will', 'go', 'home']), ('go', ['will', 'not', 'home', 'because']), ('home', ['not', 'go', 'because', 'he']), ('because', ['go', 'home', 'he', 'thinks']), ('he', ['home', 'because', 'thinks', 'that']), ('thinks', ['because', 'he', 'that', 'he']), ('that', ['he', 'thinks', 'he', 'killed']), ('he', ['thinks', 'that', 'killed', 'mufasa']), ('killed', ['that', 'he', 'mufasa', 'and']), ('mufasa', ['he', 'killed', 'and', 'he']), ('and', ['killed', 'mufasa', 'he', 'does']), ('he', ['mufasa', 'and', 'does', 'not']), ('does', ['and', 'he', 'not', 'want']), ('not', ['he', 'does', 'want', 'his']), ('want', ['does', 'not', 'his', 'family']), ('his', ['not', 'want', 'family', 'to']), ('family', ['want', 'his', 'to', 'know']), ('to', ['his', 'family', 'know', 'rafiki']), ('know', ['family', 'to', 'rafiki', 'comes']), ('rafiki', ['to', 'know', 'comes', 'to']), ('comes', ['know', 'rafiki', 'to', 'the']), ('to', ['rafiki', 'comes', 'the', 'jungle']), ('the', ['comes', 'to', 'jungle', 'and']), ('jungle', ['to', 'the', 'and', 'takes']), ('and', ['the', 'jungle', 'takes', 'simba']), ('takes', ['jungle', 'and', 'simba', 'to']), ('simba', ['and', 'takes', 'to', 'a']), ('to', ['takes', 'simba', 'a', 'field']), ('a', ['simba', 'to', 'field', 'in']), ('field', ['to', 'a', 'in', 'the']), ('in', ['a', 'field', 'the', 'sky']), ('the', ['field', 'in', 'sky', 'above']), ('sky', ['in', 'the', 'above', 'the']), ('above', ['the', 'sky', 'the', 'field']), ('the', ['sky', 'above', 'field', 'mufasas']), ('field', ['above', 'the', 'mufasas', 'ghost']), ('mufasas', ['the', 'field', 'ghost', 'appears']), ('ghost', ['field', 'mufasas', 'appears', 'and']), ('appears', ['mufasas', 'ghost', 'and', 'tells']), ('and', ['ghost', 'appears', 'tells', 'simba']), ('tells', ['appears', 'and', 'simba', 'that']), ('simba', ['and', 'tells', 'that', 'he']), ('that', ['tells', 'simba', 'he', 'must']), ('he', ['simba', 'that', 'must', 'go']), ('must', ['that', 'he', 'go', 'home']), ('go', ['he', 'must', 'home', 'because']), ('home', ['must', 'go', 'because', 'simba']), ('because', ['go', 'home', 'simba', 'is']), ('simba', ['home', 'because', 'is', 'the']), ('is', ['because', 'simba', 'the', 'right']), ('the', ['simba', 'is', 'right', 'king']), ('right', ['is', 'the', 'king', 'after']), ('king', ['the', 'right', 'after', 'this']), ('after', ['right', 'king', 'this', 'simba']), ('this', ['king', 'after', 'simba', 'goes']), ('simba', ['after', 'this', 'goes', 'home']), ('goes', ['this', 'simba', 'home', 'to']), ('home', ['simba', 'goes', 'to', 'pride']), ('to', ['goes', 'home', 'pride', 'rock']), ('pride', ['home', 'to', 'rock', 'nala']), ('rock', ['to', 'pride', 'nala', 'timon']), ('nala', ['pride', 'rock', 'timon', 'and']), ('timon', ['rock', 'nala', 'and', 'pumbaa']), ('and', ['nala', 'timon', 'pumbaa', 'follow']), ('pumbaa', ['timon', 'and', 'follow', 'him']), ('follow', ['and', 'pumbaa', 'him', 'when']), ('him', ['pumbaa', 'follow', 'when', 'they']), ('when', ['follow', 'him', 'they', 'get']), ('they', ['him', 'when', 'get', 'to']), ('get', ['when', 'they', 'to', 'pride']), ('to', ['they', 'get', 'pride', 'rock']), ('pride', ['get', 'to', 'rock', 'they']), ('rock', ['to', 'pride', 'they', 'find']), ('they', ['pride', 'rock', 'find', 'that']), ('find', ['rock', 'they', 'that', 'the']), ('that', ['they', 'find', 'the', 'land']), ('the', ['find', 'that', 'land', 'is']), ('land', ['that', 'the', 'is', 'dry']), ('is', ['the', 'land', 'dry', 'and']), ('dry', ['land', 'is', 'and', 'the']), ('and', ['is', 'dry', 'the', 'animals']), ('the', ['dry', 'and', 'animals', 'have']), ('animals', ['and', 'the', 'have', 'gone']), ('have', ['the', 'animals', 'gone', 'at']), ('gone', ['animals', 'have', 'at', 'pride']), ('at', ['have', 'gone', 'pride', 'rock']), ('pride', ['gone', 'at', 'rock', 'simba']), ('rock', ['at', 'pride', 'simba', 'sees']), ('simba', ['pride', 'rock', 'sees', 'scar']), ('sees', ['rock', 'simba', 'scar', 'hitting']), ('scar', ['simba', 'sees', 'hitting', 'sarabi']), ('hitting', ['sees', 'scar', 'sarabi', 'this']), ('sarabi', ['scar', 'hitting', 'this', 'makes']), ('this', ['hitting', 'sarabi', 'makes', 'simba']), ('makes', ['sarabi', 'this', 'simba', 'angry']), ('simba', ['this', 'makes', 'angry', 'and']), ('angry', ['makes', 'simba', 'and', 'he']), ('and', ['simba', 'angry', 'he', 'tries']), ('he', ['angry', 'and', 'tries', 'to']), ('tries', ['and', 'he', 'to', 'make']), ('to', ['he', 'tries', 'make', 'scar']), ('make', ['tries', 'to', 'scar', 'leave']), ('scar', ['to', 'make', 'leave', 'pride']), ('leave', ['make', 'scar', 'pride', 'rock']), ('pride', ['scar', 'leave', 'rock', 'scar']), ('rock', ['leave', 'pride', 'scar', 'does']), ('scar', ['pride', 'rock', 'does', 'not']), ('does', ['rock', 'scar', 'not', 'leave']), ('not', ['scar', 'does', 'leave', 'and']), ('leave', ['does', 'not', 'and', 'makes']), ('and', ['not', 'leave', 'makes', 'simba']), ('makes', ['leave', 'and', 'simba', 'fall']), ('simba', ['and', 'makes', 'fall', 'over']), ('fall', ['makes', 'simba', 'over', 'the']), ('over', ['simba', 'fall', 'the', 'edge']), ('the', ['fall', 'over', 'edge', 'of']), ('edge', ['over', 'the', 'of', 'pride']), ('of', ['the', 'edge', 'pride', 'rock']), ('pride', ['edge', 'of', 'rock', 'simba']), ('rock', ['of', 'pride', 'simba', 'does']), ('simba', ['pride', 'rock', 'does', 'not']), ('does', ['rock', 'simba', 'not', 'fall']), ('not', ['simba', 'does', 'fall', 'and']), ('fall', ['does', 'not', 'and', 'holds']), ('and', ['not', 'fall', 'holds', 'on']), ('holds', ['fall', 'and', 'on', 'to']), ('on', ['and', 'holds', 'to', 'the']), ('to', ['holds', 'on', 'the', 'edge']), ('the', ['on', 'to', 'edge', 'scar']), ('edge', ['to', 'the', 'scar', 'thinks']), ('scar', ['the', 'edge', 'thinks', 'that']), ('thinks', ['edge', 'scar', 'that', 'he']), ('that', ['scar', 'thinks', 'he', 'was']), ('he', ['thinks', 'that', 'was', 'won']), ('was', ['that', 'he', 'won', 'so']), ('won', ['he', 'was', 'so', 'he']), ('so', ['was', 'won', 'he', 'tells']), ('he', ['won', 'so', 'tells', 'simba']), ('tells', ['so', 'he', 'simba', 'the']), ('simba', ['he', 'tells', 'the', 'truth']), ('the', ['tells', 'simba', 'truth', 'about']), ('truth', ['simba', 'the', 'about', 'the']), ('about', ['the', 'truth', 'the', 'death']), ('the', ['truth', 'about', 'death', 'of']), ('death', ['about', 'the', 'of', 'mufasa']), ('of', ['the', 'death', 'mufasa', 'that']), ('mufasa', ['death', 'of', 'that', 'scar']), ('that', ['of', 'mufasa', 'scar', 'actually']), ('scar', ['mufasa', 'that', 'actually', 'killed']), ('actually', ['that', 'scar', 'killed', 'mufasa']), ('killed', ['scar', 'actually', 'mufasa', 'simba']), ('mufasa', ['actually', 'killed', 'simba', 'is']), ('simba', ['killed', 'mufasa', 'is', 'upset']), ('is', ['mufasa', 'simba', 'upset', 'and']), ('upset', ['simba', 'is', 'and', 'a']), ('and', ['is', 'upset', 'a', 'big']), ('a', ['upset', 'and', 'big', 'fight']), ('big', ['and', 'a', 'fight', 'happens']), ('fight', ['a', 'big', 'happens', 'the']), ('happens', ['big', 'fight', 'the', 'lionesses']), ('the', ['fight', 'happens', 'lionesses', 'fight']), ('lionesses', ['happens', 'the', 'fight', 'the']), ('fight', ['the', 'lionesses', 'the', 'hyenas']), ('the', ['lionesses', 'fight', 'hyenas', 'and']), ('hyenas', ['fight', 'the', 'and', 'simba']), ('and', ['the', 'hyenas', 'simba', 'fights']), ('simba', ['hyenas', 'and', 'fights', 'scar']), ('fights', ['and', 'simba', 'scar', 'while']), ('scar', ['simba', 'fights', 'while', 'the']), ('while', ['fights', 'scar', 'the', 'fighting']), ('the', ['scar', 'while', 'fighting', 'is']), ('fighting', ['while', 'the', 'is', 'going']), ('is', ['the', 'fighting', 'going', 'on']), ('going', ['fighting', 'is', 'on', 'lightning']), ('on', ['is', 'going', 'lightning', 'hits']), ('lightning', ['going', 'on', 'hits', 'a']), ('hits', ['on', 'lightning', 'a', 'dead']), ('a', ['lightning', 'hits', 'dead', 'tree']), ('dead', ['hits', 'a', 'tree', 'and']), ('tree', ['a', 'dead', 'and', 'starts']), ('and', ['dead', 'tree', 'starts', 'a']), ('starts', ['tree', 'and', 'a', 'fire']), ('a', ['and', 'starts', 'fire', 'scar']), ('fire', ['starts', 'a', 'scar', 'and']), ('scar', ['a', 'fire', 'and', 'simba']), ('and', ['fire', 'scar', 'simba', 'fight']), ('simba', ['scar', 'and', 'fight', 'on']), ('fight', ['and', 'simba', 'on', 'top']), ('on', ['simba', 'fight', 'top', 'of']), ('top', ['fight', 'on', 'of', 'pride']), ('of', ['on', 'top', 'pride', 'rock']), ('pride', ['top', 'of', 'rock', 'scar']), ('rock', ['of', 'pride', 'scar', 'does']), ('scar', ['pride', 'rock', 'does', 'not']), ('does', ['rock', 'scar', 'not', 'want']), ('not', ['scar', 'does', 'want', 'to']), ('want', ['does', 'not', 'to', 'die']), ('to', ['not', 'want', 'die', 'and']), ('die', ['want', 'to', 'and', 'lies']), ('and', ['to', 'die', 'lies', 'to']), ('lies', ['die', 'and', 'to', 'simba']), ('to', ['and', 'lies', 'simba', 'that']), ('simba', ['lies', 'to', 'that', 'the']), ('that', ['to', 'simba', 'the', 'hyenas']), ('the', ['simba', 'that', 'hyenas', 'are']), ('hyenas', ['that', 'the', 'are', 'to']), ('are', ['the', 'hyenas', 'to', 'blame']), ('to', ['hyenas', 'are', 'blame', 'for']), ('blame', ['are', 'to', 'for', 'everything']), ('for', ['to', 'blame', 'everything', 'another']), ('everything', ['blame', 'for', 'another', 'fight']), ('another', ['for', 'everything', 'fight', 'happens']), ('fight', ['everything', 'another', 'happens', 'and']), ('happens', ['another', 'fight', 'and', 'simba']), ('and', ['fight', 'happens', 'simba', 'throws']), ('simba', ['happens', 'and', 'throws', 'scar']), ('throws', ['and', 'simba', 'scar', 'over']), ('scar', ['simba', 'throws', 'over', 'the']), ('over', ['throws', 'scar', 'the', 'edge']), ('the', ['scar', 'over', 'edge', 'scar']), ('edge', ['over', 'the', 'scar', 'does']), ('scar', ['the', 'edge', 'does', 'not']), ('does', ['edge', 'scar', 'not', 'die']), ('not', ['scar', 'does', 'die', 'after']), ('die', ['does', 'not', 'after', 'the']), ('after', ['not', 'die', 'the', 'fall']), ('the', ['die', 'after', 'fall', 'but']), ('fall', ['after', 'the', 'but', 'the']), ('but', ['the', 'fall', 'the', 'hyenas']), ('the', ['fall', 'but', 'hyenas', 'attack']), ('hyenas', ['but', 'the', 'attack', 'and']), ('attack', ['the', 'hyenas', 'and', 'kill']), ('and', ['hyenas', 'attack', 'kill', 'him']), ('kill', ['attack', 'and', 'him', 'the']), ('him', ['and', 'kill', 'the', 'hyenas']), ('the', ['kill', 'him', 'hyenas', 'are']), ('hyenas', ['him', 'the', 'are', 'angry']), ('are', ['the', 'hyenas', 'angry', 'that']), ('angry', ['hyenas', 'are', 'that', 'scar']), ('that', ['are', 'angry', 'scar', 'blamed']), ('scar', ['angry', 'that', 'blamed', 'them']), ('blamed', ['that', 'scar', 'them', 'rain']), ('them', ['scar', 'blamed', 'rain', 'falls']), ('rain', ['blamed', 'them', 'falls', 'and']), ('falls', ['them', 'rain', 'and', 'puts']), ('and', ['rain', 'falls', 'puts', 'out']), ('puts', ['falls', 'and', 'out', 'the']), ('out', ['and', 'puts', 'the', 'fire']), ('the', ['puts', 'out', 'fire', 'simba']), ('fire', ['out', 'the', 'simba', 'walks']), ('simba', ['the', 'fire', 'walks', 'to']), ('walks', ['fire', 'simba', 'to', 'the']), ('to', ['simba', 'walks', 'the', 'top']), ('the', ['walks', 'to', 'top', 'of']), ('top', ['to', 'the', 'of', 'pride']), ('of', ['the', 'top', 'pride', 'rock']), ('pride', ['top', 'of', 'rock', 'and']), ('rock', ['of', 'pride', 'and', 'roars']), ('and', ['pride', 'rock', 'roars', 'much']), ('roars', ['rock', 'and', 'much', 'later']), ('much', ['and', 'roars', 'later', 'the']), ('later', ['roars', 'much', 'the', 'animals']), ('the', ['much', 'later', 'animals', 'come']), ('animals', ['later', 'the', 'come', 'back']), ('come', ['the', 'animals', 'back', 'at']), ('back', ['animals', 'come', 'at', 'the']), ('at', ['come', 'back', 'the', 'end']), ('the', ['back', 'at', 'end', 'of']), ('end', ['at', 'the', 'of', 'the']), ('of', ['the', 'end', 'the', 'movie']), ('the', ['end', 'of', 'movie', 'rafiki']), ('movie', ['of', 'the', 'rafiki', 'picks']), ('rafiki', ['the', 'movie', 'picks', 'up']), ('picks', ['movie', 'rafiki', 'up', 'simba']), ('up', ['rafiki', 'picks', 'simba', 'and']), ('simba', ['picks', 'up', 'and', 'nalas']), ('and', ['up', 'simba', 'nalas', 'daughter']), ('nalas', ['simba', 'and', 'daughter', 'and']), ('daughter', ['and', 'nalas', 'and', 'lifts']), ('and', ['nalas', 'daughter', 'lifts', 'her']), ('lifts', ['daughter', 'and', 'her', 'up']), ('her', ['and', 'lifts', 'up', 'high']), ('up', ['lifts', 'her', 'high', 'above']), ('high', ['her', 'up', 'above', 'pride']), ('above', ['up', 'high', 'pride', 'rock']), ('pride', ['high', 'above', 'rock', 'so']), ('rock', ['above', 'pride', 'so', 'the']), ('so', ['pride', 'rock', 'the', 'animals']), ('the', ['rock', 'so', 'animals', 'below']), ('animals', ['so', 'the', 'below', 'can']), ('below', ['the', 'animals', 'can', 'see'])]\n"
     ]
    }
   ],
   "source": [
    "print(data)"
   ]
  },
  {
   "cell_type": "code",
   "execution_count": null,
   "id": "golden-tokyo",
   "metadata": {},
   "outputs": [],
   "source": [
    "def words_to_tensor(words: list, word2index: dict, dtype = torch.FloatTensor):\n",
    "    \"\"\"\n",
    "    This function converts a word or a list of words into a torch tensor,\n",
    "    with appropriate format.\n",
    "    It reuses the word2index dictionary.\n",
    "    \"\"\"\n",
    "    \n",
    "    tensor = dtype([word2index[word] for word in words])\n",
    "    tensor = tensor.to(device)\n",
    "    \n",
    "    return Variable(tensor)"
   ]
  },
  {
   "cell_type": "markdown",
   "id": "destroyed-excuse",
   "metadata": {},
   "source": [
    "### Step 2. Create a SkipGram model and train\n",
    "\n",
    "Task #1: Write your own model for the SkipGram model below."
   ]
  },
  {
   "cell_type": "code",
   "execution_count": null,
   "id": "higher-kentucky",
   "metadata": {},
   "outputs": [],
   "source": [
    "class SkipGram(nn.Module):\n",
    "    \"\"\"\n",
    "    Your skipgram model here!\n",
    "    \"\"\"\n",
    "    \n",
    "    def __init__(self, context_size, embedding_dim, vocab_size):\n",
    "        pass\n",
    "\n",
    "    def forward(self, inputs):\n",
    "        pass"
   ]
  },
  {
   "cell_type": "code",
   "execution_count": null,
   "id": "civilian-tongue",
   "metadata": {},
   "outputs": [],
   "source": [
    "# Create model and pass to CUDA if available.\n",
    "model = SkipGram(context_size = 2, embedding_dim = 20, vocab_size = len(vocab))\n",
    "model = model.to(device)\n",
    "model.train()"
   ]
  },
  {
   "cell_type": "code",
   "execution_count": null,
   "id": "swiss-directive",
   "metadata": {},
   "outputs": [],
   "source": [
    "# Define training parameters\n",
    "learning_rate = 0.001\n",
    "epochs = 50\n",
    "torch.manual_seed(28)\n",
    "loss_function = nn.NLLLoss()\n",
    "optimizer = optim.SGD(model.parameters(), lr = learning_rate)"
   ]
  },
  {
   "cell_type": "markdown",
   "id": "unlikely-arcade",
   "metadata": {},
   "source": [
    "Task #2: Write your own training function for the SkipGram model in the cell below. It should return a list of losses and accuracies for display later on, along with your trained model. You may also write a helper function for computing the accuracy of your model during training."
   ]
  },
  {
   "cell_type": "code",
   "execution_count": null,
   "id": "canadian-terry",
   "metadata": {},
   "outputs": [],
   "source": [
    "def get_prediction(target, model, word2index, index2word):\n",
    "    \"\"\"\n",
    "    This is a helper function to get predictions from our model.\n",
    "    \"\"\"\n",
    "    \n",
    "    return None"
   ]
  },
  {
   "cell_type": "code",
   "execution_count": null,
   "id": "periodic-native",
   "metadata": {},
   "outputs": [],
   "source": [
    "def train(data, word2index, model, epochs, loss_func, optimizer):\n",
    "    \"\"\"\n",
    "    This is a trainer function to train our SkipGram model.\n",
    "    \"\"\"\n",
    "    losses = []\n",
    "    accuracies = []\n",
    "    pass\n",
    "    return losses, accuracies, model\n",
    "\n",
    "losses, accuracies, model = train(data, word2index, model, epochs, loss_func, optimizer)"
   ]
  },
  {
   "cell_type": "markdown",
   "id": "geological-statistics",
   "metadata": {},
   "source": [
    "### 3. Visualization"
   ]
  },
  {
   "cell_type": "code",
   "execution_count": null,
   "id": "gross-affect",
   "metadata": {},
   "outputs": [],
   "source": [
    "# Display losses over time\n",
    "plt.figure()\n",
    "plt.plot(losses)\n",
    "plt.show()"
   ]
  },
  {
   "cell_type": "code",
   "execution_count": null,
   "id": "seventh-scout",
   "metadata": {},
   "outputs": [],
   "source": [
    "# Display accuracies over time\n",
    "plt.figure()\n",
    "plt.plot(accuracies)\n",
    "plt.show()"
   ]
  },
  {
   "cell_type": "markdown",
   "id": "2385632e",
   "metadata": {},
   "source": [
    "### 4. Extract embedding and play with it? (Optional)"
   ]
  },
  {
   "cell_type": "code",
   "execution_count": null,
   "id": "52b71f16",
   "metadata": {},
   "outputs": [],
   "source": []
  },
  {
   "cell_type": "markdown",
   "id": "southwest-banking",
   "metadata": {},
   "source": [
    "### Questions and expected answers for the report\n",
    "\n",
    "The questions listed below are related to Part 2.\n",
    "\n",
    "P2-QA. Copy and paste your SkipGram class code (Task #1 in this notebook).\n",
    "\n",
    "P2-QB. Copy and paste your train function (Task #2 in the notebook), along with any helper functions you might have used (e.g. a function to compute the accuracy of your model after each iteration).\n",
    "Please also copy and paste the function call with the parameters you used for the train() function.\n",
    "\n",
    "P2-QC. Why is the SkipGram model much more difficult to train than the CBoW?\n",
    "Is it problematic if it does not reach a 100% accuracy on the task it is being trained on?\n",
    "\n",
    "P2-QD. If we were to evaluate this model by using intrinsic methods, what could be a possible approach to do so?\n",
    "\n",
    "P2-QE. (Optional) Please submit any additional code you might that will demonstrate the performance/problems of the word embedding you have trained!"
   ]
  },
  {
   "cell_type": "code",
   "execution_count": null,
   "id": "optical-luther",
   "metadata": {},
   "outputs": [],
   "source": []
  }
 ],
 "metadata": {
  "kernelspec": {
   "display_name": "Python 3 (ipykernel)",
   "language": "python",
   "name": "python3"
  },
  "language_info": {
   "codemirror_mode": {
    "name": "ipython",
    "version": 3
   },
   "file_extension": ".py",
   "mimetype": "text/x-python",
   "name": "python",
   "nbconvert_exporter": "python",
   "pygments_lexer": "ipython3",
   "version": "3.12.0"
  }
 },
 "nbformat": 4,
 "nbformat_minor": 5
}
